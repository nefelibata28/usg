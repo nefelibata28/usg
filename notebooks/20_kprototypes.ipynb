{
 "cells": [
  {
   "attachments": {},
   "cell_type": "markdown",
   "metadata": {},
   "source": [
    "# KPrototypes\n",
    "\n",
    "KMeans only works with numerical data. Since our dataset has a lot of categorical variables that we can exploit, we decided to try a variation of KMeans known as KPrototypes instead that offers support for both numerical and categorical data. \n",
    "\n",
    "KPrototypes is not available in `scikit-learn` but is available via the `kmodes` library."
   ]
  },
  {
   "attachments": {},
   "cell_type": "markdown",
   "metadata": {},
   "source": [
    "**Setting up**"
   ]
  },
  {
   "cell_type": "code",
   "execution_count": 4,
   "metadata": {},
   "outputs": [
    {
     "data": {
      "text/html": [
       "<pre style=\"white-space:pre;overflow-x:auto;line-height:normal;font-family:Menlo,'DejaVu Sans Mono',consolas,'Courier New',monospace\"><span style=\"color: #7fbfbf; text-decoration-color: #7fbfbf\">[04/23/23 20:00:42] </span><span style=\"color: #000080; text-decoration-color: #000080\">INFO    </span> Resolved project path as: d:\\AI\\Github\\usg.                            <a href=\"file://c:\\Users\\hao_l\\.conda\\envs\\sc1015project\\lib\\site-packages\\kedro\\ipython\\__init__.py\" target=\"_blank\"><span style=\"color: #7f7f7f; text-decoration-color: #7f7f7f\">__init__.py</span></a><span style=\"color: #7f7f7f; text-decoration-color: #7f7f7f\">:</span><a href=\"file://c:\\Users\\hao_l\\.conda\\envs\\sc1015project\\lib\\site-packages\\kedro\\ipython\\__init__.py#134\" target=\"_blank\"><span style=\"color: #7f7f7f; text-decoration-color: #7f7f7f\">134</span></a>\n",
       "<span style=\"color: #7fbfbf; text-decoration-color: #7fbfbf\">                    </span>         To set a different path, run <span style=\"color: #008000; text-decoration-color: #008000\">'%reload_kedro &lt;project_root&gt;'</span>            <span style=\"color: #7f7f7f; text-decoration-color: #7f7f7f\">               </span>\n",
       "</pre>\n"
      ],
      "text/plain": [
       "\u001b[2;36m[04/23/23 20:00:42]\u001b[0m\u001b[2;36m \u001b[0m\u001b[34mINFO    \u001b[0m Resolved project path as: d:\\AI\\Github\\usg.                            \u001b]8;id=315554;file://c:\\Users\\hao_l\\.conda\\envs\\sc1015project\\lib\\site-packages\\kedro\\ipython\\__init__.py\u001b\\\u001b[2m__init__.py\u001b[0m\u001b]8;;\u001b\\\u001b[2m:\u001b[0m\u001b]8;id=325598;file://c:\\Users\\hao_l\\.conda\\envs\\sc1015project\\lib\\site-packages\\kedro\\ipython\\__init__.py#134\u001b\\\u001b[2m134\u001b[0m\u001b]8;;\u001b\\\n",
       "\u001b[2;36m                    \u001b[0m         To set a different path, run \u001b[32m'%reload_kedro \u001b[0m\u001b[32m<\u001b[0m\u001b[32mproject_root\u001b[0m\u001b[32m>\u001b[0m\u001b[32m'\u001b[0m            \u001b[2m               \u001b[0m\n"
      ]
     },
     "metadata": {},
     "output_type": "display_data"
    },
    {
     "data": {
      "text/html": [
       "<pre style=\"white-space:pre;overflow-x:auto;line-height:normal;font-family:Menlo,'DejaVu Sans Mono',consolas,'Courier New',monospace\"><span style=\"color: #7fbfbf; text-decoration-color: #7fbfbf\">[04/23/23 20:00:42] </span><span style=\"color: #000080; text-decoration-color: #000080\">INFO    </span> Kedro project usg                                                      <a href=\"file://c:\\Users\\hao_l\\.conda\\envs\\sc1015project\\lib\\site-packages\\kedro\\ipython\\__init__.py\" target=\"_blank\"><span style=\"color: #7f7f7f; text-decoration-color: #7f7f7f\">__init__.py</span></a><span style=\"color: #7f7f7f; text-decoration-color: #7f7f7f\">:</span><a href=\"file://c:\\Users\\hao_l\\.conda\\envs\\sc1015project\\lib\\site-packages\\kedro\\ipython\\__init__.py#103\" target=\"_blank\"><span style=\"color: #7f7f7f; text-decoration-color: #7f7f7f\">103</span></a>\n",
       "</pre>\n"
      ],
      "text/plain": [
       "\u001b[2;36m[04/23/23 20:00:42]\u001b[0m\u001b[2;36m \u001b[0m\u001b[34mINFO    \u001b[0m Kedro project usg                                                      \u001b]8;id=369317;file://c:\\Users\\hao_l\\.conda\\envs\\sc1015project\\lib\\site-packages\\kedro\\ipython\\__init__.py\u001b\\\u001b[2m__init__.py\u001b[0m\u001b]8;;\u001b\\\u001b[2m:\u001b[0m\u001b]8;id=454506;file://c:\\Users\\hao_l\\.conda\\envs\\sc1015project\\lib\\site-packages\\kedro\\ipython\\__init__.py#103\u001b\\\u001b[2m103\u001b[0m\u001b]8;;\u001b\\\n"
      ]
     },
     "metadata": {},
     "output_type": "display_data"
    },
    {
     "data": {
      "text/html": [
       "<pre style=\"white-space:pre;overflow-x:auto;line-height:normal;font-family:Menlo,'DejaVu Sans Mono',consolas,'Courier New',monospace\"><span style=\"color: #7fbfbf; text-decoration-color: #7fbfbf\">                    </span><span style=\"color: #000080; text-decoration-color: #000080\">INFO    </span> Defined global variable <span style=\"color: #008000; text-decoration-color: #008000\">'context'</span>, <span style=\"color: #008000; text-decoration-color: #008000\">'session'</span>, <span style=\"color: #008000; text-decoration-color: #008000\">'catalog'</span> and            <a href=\"file://c:\\Users\\hao_l\\.conda\\envs\\sc1015project\\lib\\site-packages\\kedro\\ipython\\__init__.py\" target=\"_blank\"><span style=\"color: #7f7f7f; text-decoration-color: #7f7f7f\">__init__.py</span></a><span style=\"color: #7f7f7f; text-decoration-color: #7f7f7f\">:</span><a href=\"file://c:\\Users\\hao_l\\.conda\\envs\\sc1015project\\lib\\site-packages\\kedro\\ipython\\__init__.py#104\" target=\"_blank\"><span style=\"color: #7f7f7f; text-decoration-color: #7f7f7f\">104</span></a>\n",
       "<span style=\"color: #7fbfbf; text-decoration-color: #7fbfbf\">                    </span>         <span style=\"color: #008000; text-decoration-color: #008000\">'pipelines'</span>                                                            <span style=\"color: #7f7f7f; text-decoration-color: #7f7f7f\">               </span>\n",
       "</pre>\n"
      ],
      "text/plain": [
       "\u001b[2;36m                   \u001b[0m\u001b[2;36m \u001b[0m\u001b[34mINFO    \u001b[0m Defined global variable \u001b[32m'context'\u001b[0m, \u001b[32m'session'\u001b[0m, \u001b[32m'catalog'\u001b[0m and            \u001b]8;id=983660;file://c:\\Users\\hao_l\\.conda\\envs\\sc1015project\\lib\\site-packages\\kedro\\ipython\\__init__.py\u001b\\\u001b[2m__init__.py\u001b[0m\u001b]8;;\u001b\\\u001b[2m:\u001b[0m\u001b]8;id=362528;file://c:\\Users\\hao_l\\.conda\\envs\\sc1015project\\lib\\site-packages\\kedro\\ipython\\__init__.py#104\u001b\\\u001b[2m104\u001b[0m\u001b]8;;\u001b\\\n",
       "\u001b[2;36m                    \u001b[0m         \u001b[32m'pipelines'\u001b[0m                                                            \u001b[2m               \u001b[0m\n"
      ]
     },
     "metadata": {},
     "output_type": "display_data"
    }
   ],
   "source": [
    "%load_ext kedro.ipython\n",
    "%load_ext autoreload\n",
    "%matplotlib inline\n",
    "%autoreload 2"
   ]
  },
  {
   "cell_type": "code",
   "execution_count": 5,
   "metadata": {},
   "outputs": [],
   "source": [
    "import pandas as pd\n",
    "import polars as pl\n",
    "import numpy as np\n",
    "\n",
    "from matplotlib import rc_context\n",
    "import matplotlib.pyplot as plt\n",
    "import seaborn as sb\n",
    "from seaborn.objects import Plot\n",
    "import seaborn.objects as so\n",
    "\n",
    "from kmodes.kprototypes import KPrototypes\n",
    "from sklearn.metrics import silhouette_score\n",
    "\n",
    "import logging\n",
    "\n",
    "from usg.utils import *\n",
    "\n",
    "log = logging.getLogger(__name__)\n",
    "log.setLevel(logging.INFO)\n",
    "sb.set()"
   ]
  },
  {
   "cell_type": "code",
   "execution_count": 10,
   "metadata": {},
   "outputs": [
    {
     "data": {
      "text/html": [
       "<pre style=\"white-space:pre;overflow-x:auto;line-height:normal;font-family:Menlo,'DejaVu Sans Mono',consolas,'Courier New',monospace\"><span style=\"color: #7fbfbf; text-decoration-color: #7fbfbf\">[04/22/23 00:21:18] </span><span style=\"color: #000080; text-decoration-color: #000080\">INFO    </span> Loading data from <span style=\"color: #008000; text-decoration-color: #008000\">'train'</span> <span style=\"font-weight: bold\">(</span>CSVDataSet<span style=\"font-weight: bold\">)</span><span style=\"color: #808000; text-decoration-color: #808000\">...</span>                          <a href=\"file://c:\\Users\\hao_l\\.conda\\envs\\sc1015project\\lib\\site-packages\\kedro\\io\\data_catalog.py\" target=\"_blank\"><span style=\"color: #7f7f7f; text-decoration-color: #7f7f7f\">data_catalog.py</span></a><span style=\"color: #7f7f7f; text-decoration-color: #7f7f7f\">:</span><a href=\"file://c:\\Users\\hao_l\\.conda\\envs\\sc1015project\\lib\\site-packages\\kedro\\io\\data_catalog.py#343\" target=\"_blank\"><span style=\"color: #7f7f7f; text-decoration-color: #7f7f7f\">343</span></a>\n",
       "</pre>\n"
      ],
      "text/plain": [
       "\u001b[2;36m[04/22/23 00:21:18]\u001b[0m\u001b[2;36m \u001b[0m\u001b[34mINFO    \u001b[0m Loading data from \u001b[32m'train'\u001b[0m \u001b[1m(\u001b[0mCSVDataSet\u001b[1m)\u001b[0m\u001b[33m...\u001b[0m                          \u001b]8;id=519725;file://c:\\Users\\hao_l\\.conda\\envs\\sc1015project\\lib\\site-packages\\kedro\\io\\data_catalog.py\u001b\\\u001b[2mdata_catalog.py\u001b[0m\u001b]8;;\u001b\\\u001b[2m:\u001b[0m\u001b]8;id=143765;file://c:\\Users\\hao_l\\.conda\\envs\\sc1015project\\lib\\site-packages\\kedro\\io\\data_catalog.py#343\u001b\\\u001b[2m343\u001b[0m\u001b]8;;\u001b\\\n"
      ]
     },
     "metadata": {},
     "output_type": "display_data"
    },
    {
     "data": {
      "text/html": [
       "<div>\n",
       "<style scoped>\n",
       "    .dataframe tbody tr th:only-of-type {\n",
       "        vertical-align: middle;\n",
       "    }\n",
       "\n",
       "    .dataframe tbody tr th {\n",
       "        vertical-align: top;\n",
       "    }\n",
       "\n",
       "    .dataframe thead th {\n",
       "        text-align: right;\n",
       "    }\n",
       "</style>\n",
       "<table border=\"1\" class=\"dataframe\">\n",
       "  <thead>\n",
       "    <tr style=\"text-align: right;\">\n",
       "      <th></th>\n",
       "      <th>mac</th>\n",
       "      <th>linux</th>\n",
       "      <th>Multi-player</th>\n",
       "      <th>Steam Achievements</th>\n",
       "      <th>Steam Trading Cards</th>\n",
       "      <th>Indie</th>\n",
       "      <th>Action</th>\n",
       "      <th>Casual</th>\n",
       "      <th>Strategy</th>\n",
       "      <th>Simulation</th>\n",
       "      <th>...</th>\n",
       "      <th>pca0</th>\n",
       "      <th>pca1</th>\n",
       "      <th>pca2</th>\n",
       "      <th>pca3</th>\n",
       "      <th>pca4</th>\n",
       "      <th>pca5</th>\n",
       "      <th>pca6</th>\n",
       "      <th>pca7</th>\n",
       "      <th>pca8</th>\n",
       "      <th>pca9</th>\n",
       "    </tr>\n",
       "  </thead>\n",
       "  <tbody>\n",
       "    <tr>\n",
       "      <th>count</th>\n",
       "      <td>27075.00</td>\n",
       "      <td>27075.00</td>\n",
       "      <td>27075.00</td>\n",
       "      <td>27075.00</td>\n",
       "      <td>27075.00</td>\n",
       "      <td>27075.00</td>\n",
       "      <td>27075.00</td>\n",
       "      <td>27075.00</td>\n",
       "      <td>27075.00</td>\n",
       "      <td>27075.00</td>\n",
       "      <td>...</td>\n",
       "      <td>27075.00</td>\n",
       "      <td>27075.00</td>\n",
       "      <td>27075.00</td>\n",
       "      <td>27075.00</td>\n",
       "      <td>27075.00</td>\n",
       "      <td>27075.00</td>\n",
       "      <td>27075.00</td>\n",
       "      <td>27075.00</td>\n",
       "      <td>27075.00</td>\n",
       "      <td>27075.00</td>\n",
       "    </tr>\n",
       "    <tr>\n",
       "      <th>mean</th>\n",
       "      <td>0.30</td>\n",
       "      <td>0.19</td>\n",
       "      <td>0.15</td>\n",
       "      <td>0.52</td>\n",
       "      <td>0.29</td>\n",
       "      <td>0.72</td>\n",
       "      <td>0.44</td>\n",
       "      <td>0.38</td>\n",
       "      <td>0.19</td>\n",
       "      <td>0.19</td>\n",
       "      <td>...</td>\n",
       "      <td>-0.00</td>\n",
       "      <td>-0.00</td>\n",
       "      <td>0.00</td>\n",
       "      <td>-0.00</td>\n",
       "      <td>-0.00</td>\n",
       "      <td>0.00</td>\n",
       "      <td>-0.00</td>\n",
       "      <td>0.00</td>\n",
       "      <td>-0.00</td>\n",
       "      <td>0.00</td>\n",
       "    </tr>\n",
       "    <tr>\n",
       "      <th>std</th>\n",
       "      <td>0.46</td>\n",
       "      <td>0.39</td>\n",
       "      <td>0.35</td>\n",
       "      <td>0.50</td>\n",
       "      <td>0.45</td>\n",
       "      <td>0.45</td>\n",
       "      <td>0.50</td>\n",
       "      <td>0.48</td>\n",
       "      <td>0.40</td>\n",
       "      <td>0.39</td>\n",
       "      <td>...</td>\n",
       "      <td>1.97</td>\n",
       "      <td>1.22</td>\n",
       "      <td>1.07</td>\n",
       "      <td>0.94</td>\n",
       "      <td>0.91</td>\n",
       "      <td>0.75</td>\n",
       "      <td>0.67</td>\n",
       "      <td>0.63</td>\n",
       "      <td>0.48</td>\n",
       "      <td>0.32</td>\n",
       "    </tr>\n",
       "    <tr>\n",
       "      <th>min</th>\n",
       "      <td>0.00</td>\n",
       "      <td>0.00</td>\n",
       "      <td>0.00</td>\n",
       "      <td>0.00</td>\n",
       "      <td>0.00</td>\n",
       "      <td>0.00</td>\n",
       "      <td>0.00</td>\n",
       "      <td>0.00</td>\n",
       "      <td>0.00</td>\n",
       "      <td>0.00</td>\n",
       "      <td>...</td>\n",
       "      <td>-3.35</td>\n",
       "      <td>-5.26</td>\n",
       "      <td>-4.01</td>\n",
       "      <td>-2.75</td>\n",
       "      <td>-3.01</td>\n",
       "      <td>-3.01</td>\n",
       "      <td>-2.82</td>\n",
       "      <td>-3.07</td>\n",
       "      <td>-1.95</td>\n",
       "      <td>-1.40</td>\n",
       "    </tr>\n",
       "    <tr>\n",
       "      <th>25%</th>\n",
       "      <td>0.00</td>\n",
       "      <td>0.00</td>\n",
       "      <td>0.00</td>\n",
       "      <td>0.00</td>\n",
       "      <td>0.00</td>\n",
       "      <td>0.00</td>\n",
       "      <td>0.00</td>\n",
       "      <td>0.00</td>\n",
       "      <td>0.00</td>\n",
       "      <td>0.00</td>\n",
       "      <td>...</td>\n",
       "      <td>-1.46</td>\n",
       "      <td>-0.89</td>\n",
       "      <td>-0.73</td>\n",
       "      <td>-0.74</td>\n",
       "      <td>-0.62</td>\n",
       "      <td>-0.46</td>\n",
       "      <td>-0.42</td>\n",
       "      <td>-0.42</td>\n",
       "      <td>-0.25</td>\n",
       "      <td>-0.16</td>\n",
       "    </tr>\n",
       "    <tr>\n",
       "      <th>50%</th>\n",
       "      <td>0.00</td>\n",
       "      <td>0.00</td>\n",
       "      <td>0.00</td>\n",
       "      <td>1.00</td>\n",
       "      <td>0.00</td>\n",
       "      <td>1.00</td>\n",
       "      <td>0.00</td>\n",
       "      <td>0.00</td>\n",
       "      <td>0.00</td>\n",
       "      <td>0.00</td>\n",
       "      <td>...</td>\n",
       "      <td>-0.38</td>\n",
       "      <td>-0.00</td>\n",
       "      <td>-0.09</td>\n",
       "      <td>-0.03</td>\n",
       "      <td>-0.02</td>\n",
       "      <td>-0.04</td>\n",
       "      <td>0.01</td>\n",
       "      <td>0.05</td>\n",
       "      <td>0.03</td>\n",
       "      <td>-0.01</td>\n",
       "    </tr>\n",
       "    <tr>\n",
       "      <th>75%</th>\n",
       "      <td>1.00</td>\n",
       "      <td>0.00</td>\n",
       "      <td>0.00</td>\n",
       "      <td>1.00</td>\n",
       "      <td>1.00</td>\n",
       "      <td>1.00</td>\n",
       "      <td>1.00</td>\n",
       "      <td>1.00</td>\n",
       "      <td>0.00</td>\n",
       "      <td>0.00</td>\n",
       "      <td>...</td>\n",
       "      <td>1.10</td>\n",
       "      <td>0.87</td>\n",
       "      <td>0.62</td>\n",
       "      <td>0.64</td>\n",
       "      <td>0.56</td>\n",
       "      <td>0.43</td>\n",
       "      <td>0.37</td>\n",
       "      <td>0.43</td>\n",
       "      <td>0.28</td>\n",
       "      <td>0.11</td>\n",
       "    </tr>\n",
       "    <tr>\n",
       "      <th>max</th>\n",
       "      <td>1.00</td>\n",
       "      <td>1.00</td>\n",
       "      <td>1.00</td>\n",
       "      <td>1.00</td>\n",
       "      <td>1.00</td>\n",
       "      <td>1.00</td>\n",
       "      <td>1.00</td>\n",
       "      <td>1.00</td>\n",
       "      <td>1.00</td>\n",
       "      <td>1.00</td>\n",
       "      <td>...</td>\n",
       "      <td>8.52</td>\n",
       "      <td>5.36</td>\n",
       "      <td>8.44</td>\n",
       "      <td>3.62</td>\n",
       "      <td>5.74</td>\n",
       "      <td>6.04</td>\n",
       "      <td>4.01</td>\n",
       "      <td>3.08</td>\n",
       "      <td>3.67</td>\n",
       "      <td>1.89</td>\n",
       "    </tr>\n",
       "  </tbody>\n",
       "</table>\n",
       "<p>8 rows × 23 columns</p>\n",
       "</div>"
      ],
      "text/plain": [
       "            mac     linux  Multi-player  Steam Achievements  \\\n",
       "count  27075.00  27075.00      27075.00            27075.00   \n",
       "mean       0.30      0.19          0.15                0.52   \n",
       "std        0.46      0.39          0.35                0.50   \n",
       "min        0.00      0.00          0.00                0.00   \n",
       "25%        0.00      0.00          0.00                0.00   \n",
       "50%        0.00      0.00          0.00                1.00   \n",
       "75%        1.00      0.00          0.00                1.00   \n",
       "max        1.00      1.00          1.00                1.00   \n",
       "\n",
       "       Steam Trading Cards     Indie    Action    Casual  Strategy  \\\n",
       "count             27075.00  27075.00  27075.00  27075.00  27075.00   \n",
       "mean                  0.29      0.72      0.44      0.38      0.19   \n",
       "std                   0.45      0.45      0.50      0.48      0.40   \n",
       "min                   0.00      0.00      0.00      0.00      0.00   \n",
       "25%                   0.00      0.00      0.00      0.00      0.00   \n",
       "50%                   0.00      1.00      0.00      0.00      0.00   \n",
       "75%                   1.00      1.00      1.00      1.00      0.00   \n",
       "max                   1.00      1.00      1.00      1.00      1.00   \n",
       "\n",
       "       Simulation  ...      pca0      pca1      pca2      pca3      pca4  \\\n",
       "count    27075.00  ...  27075.00  27075.00  27075.00  27075.00  27075.00   \n",
       "mean         0.19  ...     -0.00     -0.00      0.00     -0.00     -0.00   \n",
       "std          0.39  ...      1.97      1.22      1.07      0.94      0.91   \n",
       "min          0.00  ...     -3.35     -5.26     -4.01     -2.75     -3.01   \n",
       "25%          0.00  ...     -1.46     -0.89     -0.73     -0.74     -0.62   \n",
       "50%          0.00  ...     -0.38     -0.00     -0.09     -0.03     -0.02   \n",
       "75%          0.00  ...      1.10      0.87      0.62      0.64      0.56   \n",
       "max          1.00  ...      8.52      5.36      8.44      3.62      5.74   \n",
       "\n",
       "           pca5      pca6      pca7      pca8      pca9  \n",
       "count  27075.00  27075.00  27075.00  27075.00  27075.00  \n",
       "mean       0.00     -0.00      0.00     -0.00      0.00  \n",
       "std        0.75      0.67      0.63      0.48      0.32  \n",
       "min       -3.01     -2.82     -3.07     -1.95     -1.40  \n",
       "25%       -0.46     -0.42     -0.42     -0.25     -0.16  \n",
       "50%       -0.04      0.01      0.05      0.03     -0.01  \n",
       "75%        0.43      0.37      0.43      0.28      0.11  \n",
       "max        6.04      4.01      3.08      3.67      1.89  \n",
       "\n",
       "[8 rows x 23 columns]"
      ]
     },
     "execution_count": 10,
     "metadata": {},
     "output_type": "execute_result"
    }
   ],
   "source": [
    "X = catalog.load('train').set_index('appid')\n",
    "X.describe().round(2)"
   ]
  },
  {
   "attachments": {},
   "cell_type": "markdown",
   "metadata": {},
   "source": [
    "# Finding best number of clusters using elbow method"
   ]
  },
  {
   "cell_type": "code",
   "execution_count": 11,
   "metadata": {},
   "outputs": [],
   "source": [
    "def cluster(k=1):\n",
    "  model = KPrototypes(n_clusters = k, n_jobs = -2, random_state = 0)\n",
    "  model.fit_predict(X, categorical=list(range(0, len(categorical))))\n",
    "  return model"
   ]
  },
  {
   "cell_type": "code",
   "execution_count": 12,
   "metadata": {},
   "outputs": [
    {
     "data": {
      "text/html": [
       "<pre style=\"white-space:pre;overflow-x:auto;line-height:normal;font-family:Menlo,'DejaVu Sans Mono',consolas,'Courier New',monospace\"><span style=\"color: #7fbfbf; text-decoration-color: #7fbfbf\">                    </span><span style=\"color: #000080; text-decoration-color: #000080\">INFO    </span> Performing clustering for <span style=\"color: #808000; text-decoration-color: #808000\">k</span>=<span style=\"color: #008080; text-decoration-color: #008080; font-weight: bold\">1</span>                                          <a href=\"file://C:\\Users\\hao_l\\AppData\\Local\\Temp\\ipykernel_10528\\3115349066.py\" target=\"_blank\"><span style=\"color: #7f7f7f; text-decoration-color: #7f7f7f\">3115349066.py</span></a><span style=\"color: #7f7f7f; text-decoration-color: #7f7f7f\">:</span><a href=\"file://C:\\Users\\hao_l\\AppData\\Local\\Temp\\ipykernel_10528\\3115349066.py#4\" target=\"_blank\"><span style=\"color: #7f7f7f; text-decoration-color: #7f7f7f\">4</span></a>\n",
       "</pre>\n"
      ],
      "text/plain": [
       "\u001b[2;36m                   \u001b[0m\u001b[2;36m \u001b[0m\u001b[34mINFO    \u001b[0m Performing clustering for \u001b[33mk\u001b[0m=\u001b[1;36m1\u001b[0m                                          \u001b]8;id=12788;file://C:\\Users\\hao_l\\AppData\\Local\\Temp\\ipykernel_10528\\3115349066.py\u001b\\\u001b[2m3115349066.py\u001b[0m\u001b]8;;\u001b\\\u001b[2m:\u001b[0m\u001b]8;id=380771;file://C:\\Users\\hao_l\\AppData\\Local\\Temp\\ipykernel_10528\\3115349066.py#4\u001b\\\u001b[2m4\u001b[0m\u001b]8;;\u001b\\\n"
      ]
     },
     "metadata": {},
     "output_type": "display_data"
    },
    {
     "data": {
      "text/html": [
       "<pre style=\"white-space:pre;overflow-x:auto;line-height:normal;font-family:Menlo,'DejaVu Sans Mono',consolas,'Courier New',monospace\"><span style=\"color: #7fbfbf; text-decoration-color: #7fbfbf\">[04/22/23 00:21:31] </span><span style=\"color: #000080; text-decoration-color: #000080\">INFO    </span> <span style=\"color: #808000; text-decoration-color: #808000\">k</span>=<span style=\"color: #008080; text-decoration-color: #008080; font-weight: bold\">1</span>, <span style=\"color: #808000; text-decoration-color: #808000\">cost</span>=<span style=\"color: #008080; text-decoration-color: #008080; font-weight: bold\">307018</span>, <span style=\"color: #808000; text-decoration-color: #808000\">n_iter</span>=<span style=\"color: #008080; text-decoration-color: #008080; font-weight: bold\">1</span>                                             <a href=\"file://C:\\Users\\hao_l\\AppData\\Local\\Temp\\ipykernel_10528\\3115349066.py\" target=\"_blank\"><span style=\"color: #7f7f7f; text-decoration-color: #7f7f7f\">3115349066.py</span></a><span style=\"color: #7f7f7f; text-decoration-color: #7f7f7f\">:</span><a href=\"file://C:\\Users\\hao_l\\AppData\\Local\\Temp\\ipykernel_10528\\3115349066.py#7\" target=\"_blank\"><span style=\"color: #7f7f7f; text-decoration-color: #7f7f7f\">7</span></a>\n",
       "</pre>\n"
      ],
      "text/plain": [
       "\u001b[2;36m[04/22/23 00:21:31]\u001b[0m\u001b[2;36m \u001b[0m\u001b[34mINFO    \u001b[0m \u001b[33mk\u001b[0m=\u001b[1;36m1\u001b[0m, \u001b[33mcost\u001b[0m=\u001b[1;36m307018\u001b[0m, \u001b[33mn_iter\u001b[0m=\u001b[1;36m1\u001b[0m                                             \u001b]8;id=976599;file://C:\\Users\\hao_l\\AppData\\Local\\Temp\\ipykernel_10528\\3115349066.py\u001b\\\u001b[2m3115349066.py\u001b[0m\u001b]8;;\u001b\\\u001b[2m:\u001b[0m\u001b]8;id=473485;file://C:\\Users\\hao_l\\AppData\\Local\\Temp\\ipykernel_10528\\3115349066.py#7\u001b\\\u001b[2m7\u001b[0m\u001b]8;;\u001b\\\n"
      ]
     },
     "metadata": {},
     "output_type": "display_data"
    },
    {
     "data": {
      "text/html": [
       "<pre style=\"white-space:pre;overflow-x:auto;line-height:normal;font-family:Menlo,'DejaVu Sans Mono',consolas,'Courier New',monospace\"><span style=\"color: #7fbfbf; text-decoration-color: #7fbfbf\">                    </span><span style=\"color: #000080; text-decoration-color: #000080\">INFO    </span> Performing clustering for <span style=\"color: #808000; text-decoration-color: #808000\">k</span>=<span style=\"color: #008080; text-decoration-color: #008080; font-weight: bold\">2</span>                                          <a href=\"file://C:\\Users\\hao_l\\AppData\\Local\\Temp\\ipykernel_10528\\3115349066.py\" target=\"_blank\"><span style=\"color: #7f7f7f; text-decoration-color: #7f7f7f\">3115349066.py</span></a><span style=\"color: #7f7f7f; text-decoration-color: #7f7f7f\">:</span><a href=\"file://C:\\Users\\hao_l\\AppData\\Local\\Temp\\ipykernel_10528\\3115349066.py#4\" target=\"_blank\"><span style=\"color: #7f7f7f; text-decoration-color: #7f7f7f\">4</span></a>\n",
       "</pre>\n"
      ],
      "text/plain": [
       "\u001b[2;36m                   \u001b[0m\u001b[2;36m \u001b[0m\u001b[34mINFO    \u001b[0m Performing clustering for \u001b[33mk\u001b[0m=\u001b[1;36m2\u001b[0m                                          \u001b]8;id=197669;file://C:\\Users\\hao_l\\AppData\\Local\\Temp\\ipykernel_10528\\3115349066.py\u001b\\\u001b[2m3115349066.py\u001b[0m\u001b]8;;\u001b\\\u001b[2m:\u001b[0m\u001b]8;id=471216;file://C:\\Users\\hao_l\\AppData\\Local\\Temp\\ipykernel_10528\\3115349066.py#4\u001b\\\u001b[2m4\u001b[0m\u001b]8;;\u001b\\\n"
      ]
     },
     "metadata": {},
     "output_type": "display_data"
    },
    {
     "data": {
      "text/html": [
       "<pre style=\"white-space:pre;overflow-x:auto;line-height:normal;font-family:Menlo,'DejaVu Sans Mono',consolas,'Courier New',monospace\"><span style=\"color: #7fbfbf; text-decoration-color: #7fbfbf\">[04/22/23 00:22:27] </span><span style=\"color: #000080; text-decoration-color: #000080\">INFO    </span> <span style=\"color: #808000; text-decoration-color: #808000\">k</span>=<span style=\"color: #008080; text-decoration-color: #008080; font-weight: bold\">2</span>, <span style=\"color: #808000; text-decoration-color: #808000\">cost</span>=<span style=\"color: #008080; text-decoration-color: #008080; font-weight: bold\">232174</span>, <span style=\"color: #808000; text-decoration-color: #808000\">n_iter</span>=<span style=\"color: #008080; text-decoration-color: #008080; font-weight: bold\">12</span>                                            <a href=\"file://C:\\Users\\hao_l\\AppData\\Local\\Temp\\ipykernel_10528\\3115349066.py\" target=\"_blank\"><span style=\"color: #7f7f7f; text-decoration-color: #7f7f7f\">3115349066.py</span></a><span style=\"color: #7f7f7f; text-decoration-color: #7f7f7f\">:</span><a href=\"file://C:\\Users\\hao_l\\AppData\\Local\\Temp\\ipykernel_10528\\3115349066.py#7\" target=\"_blank\"><span style=\"color: #7f7f7f; text-decoration-color: #7f7f7f\">7</span></a>\n",
       "</pre>\n"
      ],
      "text/plain": [
       "\u001b[2;36m[04/22/23 00:22:27]\u001b[0m\u001b[2;36m \u001b[0m\u001b[34mINFO    \u001b[0m \u001b[33mk\u001b[0m=\u001b[1;36m2\u001b[0m, \u001b[33mcost\u001b[0m=\u001b[1;36m232174\u001b[0m, \u001b[33mn_iter\u001b[0m=\u001b[1;36m12\u001b[0m                                            \u001b]8;id=977846;file://C:\\Users\\hao_l\\AppData\\Local\\Temp\\ipykernel_10528\\3115349066.py\u001b\\\u001b[2m3115349066.py\u001b[0m\u001b]8;;\u001b\\\u001b[2m:\u001b[0m\u001b]8;id=752821;file://C:\\Users\\hao_l\\AppData\\Local\\Temp\\ipykernel_10528\\3115349066.py#7\u001b\\\u001b[2m7\u001b[0m\u001b]8;;\u001b\\\n"
      ]
     },
     "metadata": {},
     "output_type": "display_data"
    },
    {
     "data": {
      "text/html": [
       "<pre style=\"white-space:pre;overflow-x:auto;line-height:normal;font-family:Menlo,'DejaVu Sans Mono',consolas,'Courier New',monospace\"><span style=\"color: #7fbfbf; text-decoration-color: #7fbfbf\">                    </span><span style=\"color: #000080; text-decoration-color: #000080\">INFO    </span> Performing clustering for <span style=\"color: #808000; text-decoration-color: #808000\">k</span>=<span style=\"color: #008080; text-decoration-color: #008080; font-weight: bold\">3</span>                                          <a href=\"file://C:\\Users\\hao_l\\AppData\\Local\\Temp\\ipykernel_10528\\3115349066.py\" target=\"_blank\"><span style=\"color: #7f7f7f; text-decoration-color: #7f7f7f\">3115349066.py</span></a><span style=\"color: #7f7f7f; text-decoration-color: #7f7f7f\">:</span><a href=\"file://C:\\Users\\hao_l\\AppData\\Local\\Temp\\ipykernel_10528\\3115349066.py#4\" target=\"_blank\"><span style=\"color: #7f7f7f; text-decoration-color: #7f7f7f\">4</span></a>\n",
       "</pre>\n"
      ],
      "text/plain": [
       "\u001b[2;36m                   \u001b[0m\u001b[2;36m \u001b[0m\u001b[34mINFO    \u001b[0m Performing clustering for \u001b[33mk\u001b[0m=\u001b[1;36m3\u001b[0m                                          \u001b]8;id=686378;file://C:\\Users\\hao_l\\AppData\\Local\\Temp\\ipykernel_10528\\3115349066.py\u001b\\\u001b[2m3115349066.py\u001b[0m\u001b]8;;\u001b\\\u001b[2m:\u001b[0m\u001b]8;id=310391;file://C:\\Users\\hao_l\\AppData\\Local\\Temp\\ipykernel_10528\\3115349066.py#4\u001b\\\u001b[2m4\u001b[0m\u001b]8;;\u001b\\\n"
      ]
     },
     "metadata": {},
     "output_type": "display_data"
    },
    {
     "data": {
      "text/html": [
       "<pre style=\"white-space:pre;overflow-x:auto;line-height:normal;font-family:Menlo,'DejaVu Sans Mono',consolas,'Courier New',monospace\"><span style=\"color: #7fbfbf; text-decoration-color: #7fbfbf\">[04/22/23 00:23:54] </span><span style=\"color: #000080; text-decoration-color: #000080\">INFO    </span> <span style=\"color: #808000; text-decoration-color: #808000\">k</span>=<span style=\"color: #008080; text-decoration-color: #008080; font-weight: bold\">3</span>, <span style=\"color: #808000; text-decoration-color: #808000\">cost</span>=<span style=\"color: #008080; text-decoration-color: #008080; font-weight: bold\">202812</span>, <span style=\"color: #808000; text-decoration-color: #808000\">n_iter</span>=<span style=\"color: #008080; text-decoration-color: #008080; font-weight: bold\">23</span>                                            <a href=\"file://C:\\Users\\hao_l\\AppData\\Local\\Temp\\ipykernel_10528\\3115349066.py\" target=\"_blank\"><span style=\"color: #7f7f7f; text-decoration-color: #7f7f7f\">3115349066.py</span></a><span style=\"color: #7f7f7f; text-decoration-color: #7f7f7f\">:</span><a href=\"file://C:\\Users\\hao_l\\AppData\\Local\\Temp\\ipykernel_10528\\3115349066.py#7\" target=\"_blank\"><span style=\"color: #7f7f7f; text-decoration-color: #7f7f7f\">7</span></a>\n",
       "</pre>\n"
      ],
      "text/plain": [
       "\u001b[2;36m[04/22/23 00:23:54]\u001b[0m\u001b[2;36m \u001b[0m\u001b[34mINFO    \u001b[0m \u001b[33mk\u001b[0m=\u001b[1;36m3\u001b[0m, \u001b[33mcost\u001b[0m=\u001b[1;36m202812\u001b[0m, \u001b[33mn_iter\u001b[0m=\u001b[1;36m23\u001b[0m                                            \u001b]8;id=204191;file://C:\\Users\\hao_l\\AppData\\Local\\Temp\\ipykernel_10528\\3115349066.py\u001b\\\u001b[2m3115349066.py\u001b[0m\u001b]8;;\u001b\\\u001b[2m:\u001b[0m\u001b]8;id=799309;file://C:\\Users\\hao_l\\AppData\\Local\\Temp\\ipykernel_10528\\3115349066.py#7\u001b\\\u001b[2m7\u001b[0m\u001b]8;;\u001b\\\n"
      ]
     },
     "metadata": {},
     "output_type": "display_data"
    },
    {
     "data": {
      "text/html": [
       "<pre style=\"white-space:pre;overflow-x:auto;line-height:normal;font-family:Menlo,'DejaVu Sans Mono',consolas,'Courier New',monospace\"><span style=\"color: #7fbfbf; text-decoration-color: #7fbfbf\">                    </span><span style=\"color: #000080; text-decoration-color: #000080\">INFO    </span> Performing clustering for <span style=\"color: #808000; text-decoration-color: #808000\">k</span>=<span style=\"color: #008080; text-decoration-color: #008080; font-weight: bold\">4</span>                                          <a href=\"file://C:\\Users\\hao_l\\AppData\\Local\\Temp\\ipykernel_10528\\3115349066.py\" target=\"_blank\"><span style=\"color: #7f7f7f; text-decoration-color: #7f7f7f\">3115349066.py</span></a><span style=\"color: #7f7f7f; text-decoration-color: #7f7f7f\">:</span><a href=\"file://C:\\Users\\hao_l\\AppData\\Local\\Temp\\ipykernel_10528\\3115349066.py#4\" target=\"_blank\"><span style=\"color: #7f7f7f; text-decoration-color: #7f7f7f\">4</span></a>\n",
       "</pre>\n"
      ],
      "text/plain": [
       "\u001b[2;36m                   \u001b[0m\u001b[2;36m \u001b[0m\u001b[34mINFO    \u001b[0m Performing clustering for \u001b[33mk\u001b[0m=\u001b[1;36m4\u001b[0m                                          \u001b]8;id=735186;file://C:\\Users\\hao_l\\AppData\\Local\\Temp\\ipykernel_10528\\3115349066.py\u001b\\\u001b[2m3115349066.py\u001b[0m\u001b]8;;\u001b\\\u001b[2m:\u001b[0m\u001b]8;id=107748;file://C:\\Users\\hao_l\\AppData\\Local\\Temp\\ipykernel_10528\\3115349066.py#4\u001b\\\u001b[2m4\u001b[0m\u001b]8;;\u001b\\\n"
      ]
     },
     "metadata": {},
     "output_type": "display_data"
    },
    {
     "data": {
      "text/html": [
       "<pre style=\"white-space:pre;overflow-x:auto;line-height:normal;font-family:Menlo,'DejaVu Sans Mono',consolas,'Courier New',monospace\"><span style=\"color: #7fbfbf; text-decoration-color: #7fbfbf\">[04/22/23 00:25:30] </span><span style=\"color: #000080; text-decoration-color: #000080\">INFO    </span> <span style=\"color: #808000; text-decoration-color: #808000\">k</span>=<span style=\"color: #008080; text-decoration-color: #008080; font-weight: bold\">4</span>, <span style=\"color: #808000; text-decoration-color: #808000\">cost</span>=<span style=\"color: #008080; text-decoration-color: #008080; font-weight: bold\">187008</span>, <span style=\"color: #808000; text-decoration-color: #808000\">n_iter</span>=<span style=\"color: #008080; text-decoration-color: #008080; font-weight: bold\">18</span>                                            <a href=\"file://C:\\Users\\hao_l\\AppData\\Local\\Temp\\ipykernel_10528\\3115349066.py\" target=\"_blank\"><span style=\"color: #7f7f7f; text-decoration-color: #7f7f7f\">3115349066.py</span></a><span style=\"color: #7f7f7f; text-decoration-color: #7f7f7f\">:</span><a href=\"file://C:\\Users\\hao_l\\AppData\\Local\\Temp\\ipykernel_10528\\3115349066.py#7\" target=\"_blank\"><span style=\"color: #7f7f7f; text-decoration-color: #7f7f7f\">7</span></a>\n",
       "</pre>\n"
      ],
      "text/plain": [
       "\u001b[2;36m[04/22/23 00:25:30]\u001b[0m\u001b[2;36m \u001b[0m\u001b[34mINFO    \u001b[0m \u001b[33mk\u001b[0m=\u001b[1;36m4\u001b[0m, \u001b[33mcost\u001b[0m=\u001b[1;36m187008\u001b[0m, \u001b[33mn_iter\u001b[0m=\u001b[1;36m18\u001b[0m                                            \u001b]8;id=875746;file://C:\\Users\\hao_l\\AppData\\Local\\Temp\\ipykernel_10528\\3115349066.py\u001b\\\u001b[2m3115349066.py\u001b[0m\u001b]8;;\u001b\\\u001b[2m:\u001b[0m\u001b]8;id=612221;file://C:\\Users\\hao_l\\AppData\\Local\\Temp\\ipykernel_10528\\3115349066.py#7\u001b\\\u001b[2m7\u001b[0m\u001b]8;;\u001b\\\n"
      ]
     },
     "metadata": {},
     "output_type": "display_data"
    },
    {
     "data": {
      "text/html": [
       "<pre style=\"white-space:pre;overflow-x:auto;line-height:normal;font-family:Menlo,'DejaVu Sans Mono',consolas,'Courier New',monospace\"><span style=\"color: #7fbfbf; text-decoration-color: #7fbfbf\">                    </span><span style=\"color: #000080; text-decoration-color: #000080\">INFO    </span> Performing clustering for <span style=\"color: #808000; text-decoration-color: #808000\">k</span>=<span style=\"color: #008080; text-decoration-color: #008080; font-weight: bold\">5</span>                                          <a href=\"file://C:\\Users\\hao_l\\AppData\\Local\\Temp\\ipykernel_10528\\3115349066.py\" target=\"_blank\"><span style=\"color: #7f7f7f; text-decoration-color: #7f7f7f\">3115349066.py</span></a><span style=\"color: #7f7f7f; text-decoration-color: #7f7f7f\">:</span><a href=\"file://C:\\Users\\hao_l\\AppData\\Local\\Temp\\ipykernel_10528\\3115349066.py#4\" target=\"_blank\"><span style=\"color: #7f7f7f; text-decoration-color: #7f7f7f\">4</span></a>\n",
       "</pre>\n"
      ],
      "text/plain": [
       "\u001b[2;36m                   \u001b[0m\u001b[2;36m \u001b[0m\u001b[34mINFO    \u001b[0m Performing clustering for \u001b[33mk\u001b[0m=\u001b[1;36m5\u001b[0m                                          \u001b]8;id=475742;file://C:\\Users\\hao_l\\AppData\\Local\\Temp\\ipykernel_10528\\3115349066.py\u001b\\\u001b[2m3115349066.py\u001b[0m\u001b]8;;\u001b\\\u001b[2m:\u001b[0m\u001b]8;id=23546;file://C:\\Users\\hao_l\\AppData\\Local\\Temp\\ipykernel_10528\\3115349066.py#4\u001b\\\u001b[2m4\u001b[0m\u001b]8;;\u001b\\\n"
      ]
     },
     "metadata": {},
     "output_type": "display_data"
    },
    {
     "data": {
      "text/html": [
       "<pre style=\"white-space:pre;overflow-x:auto;line-height:normal;font-family:Menlo,'DejaVu Sans Mono',consolas,'Courier New',monospace\"><span style=\"color: #7fbfbf; text-decoration-color: #7fbfbf\">[04/22/23 00:27:30] </span><span style=\"color: #000080; text-decoration-color: #000080\">INFO    </span> <span style=\"color: #808000; text-decoration-color: #808000\">k</span>=<span style=\"color: #008080; text-decoration-color: #008080; font-weight: bold\">5</span>, <span style=\"color: #808000; text-decoration-color: #808000\">cost</span>=<span style=\"color: #008080; text-decoration-color: #008080; font-weight: bold\">175946</span>, <span style=\"color: #808000; text-decoration-color: #808000\">n_iter</span>=<span style=\"color: #008080; text-decoration-color: #008080; font-weight: bold\">22</span>                                            <a href=\"file://C:\\Users\\hao_l\\AppData\\Local\\Temp\\ipykernel_10528\\3115349066.py\" target=\"_blank\"><span style=\"color: #7f7f7f; text-decoration-color: #7f7f7f\">3115349066.py</span></a><span style=\"color: #7f7f7f; text-decoration-color: #7f7f7f\">:</span><a href=\"file://C:\\Users\\hao_l\\AppData\\Local\\Temp\\ipykernel_10528\\3115349066.py#7\" target=\"_blank\"><span style=\"color: #7f7f7f; text-decoration-color: #7f7f7f\">7</span></a>\n",
       "</pre>\n"
      ],
      "text/plain": [
       "\u001b[2;36m[04/22/23 00:27:30]\u001b[0m\u001b[2;36m \u001b[0m\u001b[34mINFO    \u001b[0m \u001b[33mk\u001b[0m=\u001b[1;36m5\u001b[0m, \u001b[33mcost\u001b[0m=\u001b[1;36m175946\u001b[0m, \u001b[33mn_iter\u001b[0m=\u001b[1;36m22\u001b[0m                                            \u001b]8;id=487598;file://C:\\Users\\hao_l\\AppData\\Local\\Temp\\ipykernel_10528\\3115349066.py\u001b\\\u001b[2m3115349066.py\u001b[0m\u001b]8;;\u001b\\\u001b[2m:\u001b[0m\u001b]8;id=301911;file://C:\\Users\\hao_l\\AppData\\Local\\Temp\\ipykernel_10528\\3115349066.py#7\u001b\\\u001b[2m7\u001b[0m\u001b]8;;\u001b\\\n"
      ]
     },
     "metadata": {},
     "output_type": "display_data"
    },
    {
     "data": {
      "text/html": [
       "<pre style=\"white-space:pre;overflow-x:auto;line-height:normal;font-family:Menlo,'DejaVu Sans Mono',consolas,'Courier New',monospace\"><span style=\"color: #7fbfbf; text-decoration-color: #7fbfbf\">                    </span><span style=\"color: #000080; text-decoration-color: #000080\">INFO    </span> Performing clustering for <span style=\"color: #808000; text-decoration-color: #808000\">k</span>=<span style=\"color: #008080; text-decoration-color: #008080; font-weight: bold\">6</span>                                          <a href=\"file://C:\\Users\\hao_l\\AppData\\Local\\Temp\\ipykernel_10528\\3115349066.py\" target=\"_blank\"><span style=\"color: #7f7f7f; text-decoration-color: #7f7f7f\">3115349066.py</span></a><span style=\"color: #7f7f7f; text-decoration-color: #7f7f7f\">:</span><a href=\"file://C:\\Users\\hao_l\\AppData\\Local\\Temp\\ipykernel_10528\\3115349066.py#4\" target=\"_blank\"><span style=\"color: #7f7f7f; text-decoration-color: #7f7f7f\">4</span></a>\n",
       "</pre>\n"
      ],
      "text/plain": [
       "\u001b[2;36m                   \u001b[0m\u001b[2;36m \u001b[0m\u001b[34mINFO    \u001b[0m Performing clustering for \u001b[33mk\u001b[0m=\u001b[1;36m6\u001b[0m                                          \u001b]8;id=722422;file://C:\\Users\\hao_l\\AppData\\Local\\Temp\\ipykernel_10528\\3115349066.py\u001b\\\u001b[2m3115349066.py\u001b[0m\u001b]8;;\u001b\\\u001b[2m:\u001b[0m\u001b]8;id=717352;file://C:\\Users\\hao_l\\AppData\\Local\\Temp\\ipykernel_10528\\3115349066.py#4\u001b\\\u001b[2m4\u001b[0m\u001b]8;;\u001b\\\n"
      ]
     },
     "metadata": {},
     "output_type": "display_data"
    },
    {
     "data": {
      "text/html": [
       "<pre style=\"white-space:pre;overflow-x:auto;line-height:normal;font-family:Menlo,'DejaVu Sans Mono',consolas,'Courier New',monospace\"><span style=\"color: #7fbfbf; text-decoration-color: #7fbfbf\">[04/22/23 00:30:52] </span><span style=\"color: #000080; text-decoration-color: #000080\">INFO    </span> <span style=\"color: #808000; text-decoration-color: #808000\">k</span>=<span style=\"color: #008080; text-decoration-color: #008080; font-weight: bold\">6</span>, <span style=\"color: #808000; text-decoration-color: #808000\">cost</span>=<span style=\"color: #008080; text-decoration-color: #008080; font-weight: bold\">167520</span>, <span style=\"color: #808000; text-decoration-color: #808000\">n_iter</span>=<span style=\"color: #008080; text-decoration-color: #008080; font-weight: bold\">19</span>                                            <a href=\"file://C:\\Users\\hao_l\\AppData\\Local\\Temp\\ipykernel_10528\\3115349066.py\" target=\"_blank\"><span style=\"color: #7f7f7f; text-decoration-color: #7f7f7f\">3115349066.py</span></a><span style=\"color: #7f7f7f; text-decoration-color: #7f7f7f\">:</span><a href=\"file://C:\\Users\\hao_l\\AppData\\Local\\Temp\\ipykernel_10528\\3115349066.py#7\" target=\"_blank\"><span style=\"color: #7f7f7f; text-decoration-color: #7f7f7f\">7</span></a>\n",
       "</pre>\n"
      ],
      "text/plain": [
       "\u001b[2;36m[04/22/23 00:30:52]\u001b[0m\u001b[2;36m \u001b[0m\u001b[34mINFO    \u001b[0m \u001b[33mk\u001b[0m=\u001b[1;36m6\u001b[0m, \u001b[33mcost\u001b[0m=\u001b[1;36m167520\u001b[0m, \u001b[33mn_iter\u001b[0m=\u001b[1;36m19\u001b[0m                                            \u001b]8;id=956763;file://C:\\Users\\hao_l\\AppData\\Local\\Temp\\ipykernel_10528\\3115349066.py\u001b\\\u001b[2m3115349066.py\u001b[0m\u001b]8;;\u001b\\\u001b[2m:\u001b[0m\u001b]8;id=238343;file://C:\\Users\\hao_l\\AppData\\Local\\Temp\\ipykernel_10528\\3115349066.py#7\u001b\\\u001b[2m7\u001b[0m\u001b]8;;\u001b\\\n"
      ]
     },
     "metadata": {},
     "output_type": "display_data"
    },
    {
     "data": {
      "text/html": [
       "<pre style=\"white-space:pre;overflow-x:auto;line-height:normal;font-family:Menlo,'DejaVu Sans Mono',consolas,'Courier New',monospace\"><span style=\"color: #7fbfbf; text-decoration-color: #7fbfbf\">                    </span><span style=\"color: #000080; text-decoration-color: #000080\">INFO    </span> Performing clustering for <span style=\"color: #808000; text-decoration-color: #808000\">k</span>=<span style=\"color: #008080; text-decoration-color: #008080; font-weight: bold\">7</span>                                          <a href=\"file://C:\\Users\\hao_l\\AppData\\Local\\Temp\\ipykernel_10528\\3115349066.py\" target=\"_blank\"><span style=\"color: #7f7f7f; text-decoration-color: #7f7f7f\">3115349066.py</span></a><span style=\"color: #7f7f7f; text-decoration-color: #7f7f7f\">:</span><a href=\"file://C:\\Users\\hao_l\\AppData\\Local\\Temp\\ipykernel_10528\\3115349066.py#4\" target=\"_blank\"><span style=\"color: #7f7f7f; text-decoration-color: #7f7f7f\">4</span></a>\n",
       "</pre>\n"
      ],
      "text/plain": [
       "\u001b[2;36m                   \u001b[0m\u001b[2;36m \u001b[0m\u001b[34mINFO    \u001b[0m Performing clustering for \u001b[33mk\u001b[0m=\u001b[1;36m7\u001b[0m                                          \u001b]8;id=508875;file://C:\\Users\\hao_l\\AppData\\Local\\Temp\\ipykernel_10528\\3115349066.py\u001b\\\u001b[2m3115349066.py\u001b[0m\u001b]8;;\u001b\\\u001b[2m:\u001b[0m\u001b]8;id=494127;file://C:\\Users\\hao_l\\AppData\\Local\\Temp\\ipykernel_10528\\3115349066.py#4\u001b\\\u001b[2m4\u001b[0m\u001b]8;;\u001b\\\n"
      ]
     },
     "metadata": {},
     "output_type": "display_data"
    },
    {
     "data": {
      "text/html": [
       "<pre style=\"white-space:pre;overflow-x:auto;line-height:normal;font-family:Menlo,'DejaVu Sans Mono',consolas,'Courier New',monospace\"><span style=\"color: #7fbfbf; text-decoration-color: #7fbfbf\">[04/22/23 00:34:19] </span><span style=\"color: #000080; text-decoration-color: #000080\">INFO    </span> <span style=\"color: #808000; text-decoration-color: #808000\">k</span>=<span style=\"color: #008080; text-decoration-color: #008080; font-weight: bold\">7</span>, <span style=\"color: #808000; text-decoration-color: #808000\">cost</span>=<span style=\"color: #008080; text-decoration-color: #008080; font-weight: bold\">159616</span>, <span style=\"color: #808000; text-decoration-color: #808000\">n_iter</span>=<span style=\"color: #008080; text-decoration-color: #008080; font-weight: bold\">67</span>                                            <a href=\"file://C:\\Users\\hao_l\\AppData\\Local\\Temp\\ipykernel_10528\\3115349066.py\" target=\"_blank\"><span style=\"color: #7f7f7f; text-decoration-color: #7f7f7f\">3115349066.py</span></a><span style=\"color: #7f7f7f; text-decoration-color: #7f7f7f\">:</span><a href=\"file://C:\\Users\\hao_l\\AppData\\Local\\Temp\\ipykernel_10528\\3115349066.py#7\" target=\"_blank\"><span style=\"color: #7f7f7f; text-decoration-color: #7f7f7f\">7</span></a>\n",
       "</pre>\n"
      ],
      "text/plain": [
       "\u001b[2;36m[04/22/23 00:34:19]\u001b[0m\u001b[2;36m \u001b[0m\u001b[34mINFO    \u001b[0m \u001b[33mk\u001b[0m=\u001b[1;36m7\u001b[0m, \u001b[33mcost\u001b[0m=\u001b[1;36m159616\u001b[0m, \u001b[33mn_iter\u001b[0m=\u001b[1;36m67\u001b[0m                                            \u001b]8;id=21825;file://C:\\Users\\hao_l\\AppData\\Local\\Temp\\ipykernel_10528\\3115349066.py\u001b\\\u001b[2m3115349066.py\u001b[0m\u001b]8;;\u001b\\\u001b[2m:\u001b[0m\u001b]8;id=630867;file://C:\\Users\\hao_l\\AppData\\Local\\Temp\\ipykernel_10528\\3115349066.py#7\u001b\\\u001b[2m7\u001b[0m\u001b]8;;\u001b\\\n"
      ]
     },
     "metadata": {},
     "output_type": "display_data"
    },
    {
     "data": {
      "text/html": [
       "<pre style=\"white-space:pre;overflow-x:auto;line-height:normal;font-family:Menlo,'DejaVu Sans Mono',consolas,'Courier New',monospace\"><span style=\"color: #7fbfbf; text-decoration-color: #7fbfbf\">                    </span><span style=\"color: #000080; text-decoration-color: #000080\">INFO    </span> Performing clustering for <span style=\"color: #808000; text-decoration-color: #808000\">k</span>=<span style=\"color: #008080; text-decoration-color: #008080; font-weight: bold\">8</span>                                          <a href=\"file://C:\\Users\\hao_l\\AppData\\Local\\Temp\\ipykernel_10528\\3115349066.py\" target=\"_blank\"><span style=\"color: #7f7f7f; text-decoration-color: #7f7f7f\">3115349066.py</span></a><span style=\"color: #7f7f7f; text-decoration-color: #7f7f7f\">:</span><a href=\"file://C:\\Users\\hao_l\\AppData\\Local\\Temp\\ipykernel_10528\\3115349066.py#4\" target=\"_blank\"><span style=\"color: #7f7f7f; text-decoration-color: #7f7f7f\">4</span></a>\n",
       "</pre>\n"
      ],
      "text/plain": [
       "\u001b[2;36m                   \u001b[0m\u001b[2;36m \u001b[0m\u001b[34mINFO    \u001b[0m Performing clustering for \u001b[33mk\u001b[0m=\u001b[1;36m8\u001b[0m                                          \u001b]8;id=371241;file://C:\\Users\\hao_l\\AppData\\Local\\Temp\\ipykernel_10528\\3115349066.py\u001b\\\u001b[2m3115349066.py\u001b[0m\u001b]8;;\u001b\\\u001b[2m:\u001b[0m\u001b]8;id=314304;file://C:\\Users\\hao_l\\AppData\\Local\\Temp\\ipykernel_10528\\3115349066.py#4\u001b\\\u001b[2m4\u001b[0m\u001b]8;;\u001b\\\n"
      ]
     },
     "metadata": {},
     "output_type": "display_data"
    },
    {
     "data": {
      "text/html": [
       "<pre style=\"white-space:pre;overflow-x:auto;line-height:normal;font-family:Menlo,'DejaVu Sans Mono',consolas,'Courier New',monospace\"><span style=\"color: #7fbfbf; text-decoration-color: #7fbfbf\">[04/22/23 00:36:42] </span><span style=\"color: #000080; text-decoration-color: #000080\">INFO    </span> <span style=\"color: #808000; text-decoration-color: #808000\">k</span>=<span style=\"color: #008080; text-decoration-color: #008080; font-weight: bold\">8</span>, <span style=\"color: #808000; text-decoration-color: #808000\">cost</span>=<span style=\"color: #008080; text-decoration-color: #008080; font-weight: bold\">152260</span>, <span style=\"color: #808000; text-decoration-color: #808000\">n_iter</span>=<span style=\"color: #008080; text-decoration-color: #008080; font-weight: bold\">22</span>                                            <a href=\"file://C:\\Users\\hao_l\\AppData\\Local\\Temp\\ipykernel_10528\\3115349066.py\" target=\"_blank\"><span style=\"color: #7f7f7f; text-decoration-color: #7f7f7f\">3115349066.py</span></a><span style=\"color: #7f7f7f; text-decoration-color: #7f7f7f\">:</span><a href=\"file://C:\\Users\\hao_l\\AppData\\Local\\Temp\\ipykernel_10528\\3115349066.py#7\" target=\"_blank\"><span style=\"color: #7f7f7f; text-decoration-color: #7f7f7f\">7</span></a>\n",
       "</pre>\n"
      ],
      "text/plain": [
       "\u001b[2;36m[04/22/23 00:36:42]\u001b[0m\u001b[2;36m \u001b[0m\u001b[34mINFO    \u001b[0m \u001b[33mk\u001b[0m=\u001b[1;36m8\u001b[0m, \u001b[33mcost\u001b[0m=\u001b[1;36m152260\u001b[0m, \u001b[33mn_iter\u001b[0m=\u001b[1;36m22\u001b[0m                                            \u001b]8;id=18056;file://C:\\Users\\hao_l\\AppData\\Local\\Temp\\ipykernel_10528\\3115349066.py\u001b\\\u001b[2m3115349066.py\u001b[0m\u001b]8;;\u001b\\\u001b[2m:\u001b[0m\u001b]8;id=237551;file://C:\\Users\\hao_l\\AppData\\Local\\Temp\\ipykernel_10528\\3115349066.py#7\u001b\\\u001b[2m7\u001b[0m\u001b]8;;\u001b\\\n"
      ]
     },
     "metadata": {},
     "output_type": "display_data"
    },
    {
     "data": {
      "text/html": [
       "<pre style=\"white-space:pre;overflow-x:auto;line-height:normal;font-family:Menlo,'DejaVu Sans Mono',consolas,'Courier New',monospace\"><span style=\"color: #7fbfbf; text-decoration-color: #7fbfbf\">                    </span><span style=\"color: #000080; text-decoration-color: #000080\">INFO    </span> Performing clustering for <span style=\"color: #808000; text-decoration-color: #808000\">k</span>=<span style=\"color: #008080; text-decoration-color: #008080; font-weight: bold\">9</span>                                          <a href=\"file://C:\\Users\\hao_l\\AppData\\Local\\Temp\\ipykernel_10528\\3115349066.py\" target=\"_blank\"><span style=\"color: #7f7f7f; text-decoration-color: #7f7f7f\">3115349066.py</span></a><span style=\"color: #7f7f7f; text-decoration-color: #7f7f7f\">:</span><a href=\"file://C:\\Users\\hao_l\\AppData\\Local\\Temp\\ipykernel_10528\\3115349066.py#4\" target=\"_blank\"><span style=\"color: #7f7f7f; text-decoration-color: #7f7f7f\">4</span></a>\n",
       "</pre>\n"
      ],
      "text/plain": [
       "\u001b[2;36m                   \u001b[0m\u001b[2;36m \u001b[0m\u001b[34mINFO    \u001b[0m Performing clustering for \u001b[33mk\u001b[0m=\u001b[1;36m9\u001b[0m                                          \u001b]8;id=552741;file://C:\\Users\\hao_l\\AppData\\Local\\Temp\\ipykernel_10528\\3115349066.py\u001b\\\u001b[2m3115349066.py\u001b[0m\u001b]8;;\u001b\\\u001b[2m:\u001b[0m\u001b]8;id=576733;file://C:\\Users\\hao_l\\AppData\\Local\\Temp\\ipykernel_10528\\3115349066.py#4\u001b\\\u001b[2m4\u001b[0m\u001b]8;;\u001b\\\n"
      ]
     },
     "metadata": {},
     "output_type": "display_data"
    },
    {
     "data": {
      "text/html": [
       "<pre style=\"white-space:pre;overflow-x:auto;line-height:normal;font-family:Menlo,'DejaVu Sans Mono',consolas,'Courier New',monospace\"><span style=\"color: #7fbfbf; text-decoration-color: #7fbfbf\">[04/22/23 00:39:05] </span><span style=\"color: #000080; text-decoration-color: #000080\">INFO    </span> <span style=\"color: #808000; text-decoration-color: #808000\">k</span>=<span style=\"color: #008080; text-decoration-color: #008080; font-weight: bold\">9</span>, <span style=\"color: #808000; text-decoration-color: #808000\">cost</span>=<span style=\"color: #008080; text-decoration-color: #008080; font-weight: bold\">146706</span>, <span style=\"color: #808000; text-decoration-color: #808000\">n_iter</span>=<span style=\"color: #008080; text-decoration-color: #008080; font-weight: bold\">39</span>                                            <a href=\"file://C:\\Users\\hao_l\\AppData\\Local\\Temp\\ipykernel_10528\\3115349066.py\" target=\"_blank\"><span style=\"color: #7f7f7f; text-decoration-color: #7f7f7f\">3115349066.py</span></a><span style=\"color: #7f7f7f; text-decoration-color: #7f7f7f\">:</span><a href=\"file://C:\\Users\\hao_l\\AppData\\Local\\Temp\\ipykernel_10528\\3115349066.py#7\" target=\"_blank\"><span style=\"color: #7f7f7f; text-decoration-color: #7f7f7f\">7</span></a>\n",
       "</pre>\n"
      ],
      "text/plain": [
       "\u001b[2;36m[04/22/23 00:39:05]\u001b[0m\u001b[2;36m \u001b[0m\u001b[34mINFO    \u001b[0m \u001b[33mk\u001b[0m=\u001b[1;36m9\u001b[0m, \u001b[33mcost\u001b[0m=\u001b[1;36m146706\u001b[0m, \u001b[33mn_iter\u001b[0m=\u001b[1;36m39\u001b[0m                                            \u001b]8;id=800258;file://C:\\Users\\hao_l\\AppData\\Local\\Temp\\ipykernel_10528\\3115349066.py\u001b\\\u001b[2m3115349066.py\u001b[0m\u001b]8;;\u001b\\\u001b[2m:\u001b[0m\u001b]8;id=442034;file://C:\\Users\\hao_l\\AppData\\Local\\Temp\\ipykernel_10528\\3115349066.py#7\u001b\\\u001b[2m7\u001b[0m\u001b]8;;\u001b\\\n"
      ]
     },
     "metadata": {},
     "output_type": "display_data"
    },
    {
     "data": {
      "text/html": [
       "<pre style=\"white-space:pre;overflow-x:auto;line-height:normal;font-family:Menlo,'DejaVu Sans Mono',consolas,'Courier New',monospace\"><span style=\"color: #7fbfbf; text-decoration-color: #7fbfbf\">                    </span><span style=\"color: #000080; text-decoration-color: #000080\">INFO    </span> Performing clustering for <span style=\"color: #808000; text-decoration-color: #808000\">k</span>=<span style=\"color: #008080; text-decoration-color: #008080; font-weight: bold\">10</span>                                         <a href=\"file://C:\\Users\\hao_l\\AppData\\Local\\Temp\\ipykernel_10528\\3115349066.py\" target=\"_blank\"><span style=\"color: #7f7f7f; text-decoration-color: #7f7f7f\">3115349066.py</span></a><span style=\"color: #7f7f7f; text-decoration-color: #7f7f7f\">:</span><a href=\"file://C:\\Users\\hao_l\\AppData\\Local\\Temp\\ipykernel_10528\\3115349066.py#4\" target=\"_blank\"><span style=\"color: #7f7f7f; text-decoration-color: #7f7f7f\">4</span></a>\n",
       "</pre>\n"
      ],
      "text/plain": [
       "\u001b[2;36m                   \u001b[0m\u001b[2;36m \u001b[0m\u001b[34mINFO    \u001b[0m Performing clustering for \u001b[33mk\u001b[0m=\u001b[1;36m10\u001b[0m                                         \u001b]8;id=351996;file://C:\\Users\\hao_l\\AppData\\Local\\Temp\\ipykernel_10528\\3115349066.py\u001b\\\u001b[2m3115349066.py\u001b[0m\u001b]8;;\u001b\\\u001b[2m:\u001b[0m\u001b]8;id=510202;file://C:\\Users\\hao_l\\AppData\\Local\\Temp\\ipykernel_10528\\3115349066.py#4\u001b\\\u001b[2m4\u001b[0m\u001b]8;;\u001b\\\n"
      ]
     },
     "metadata": {},
     "output_type": "display_data"
    },
    {
     "data": {
      "text/html": [
       "<pre style=\"white-space:pre;overflow-x:auto;line-height:normal;font-family:Menlo,'DejaVu Sans Mono',consolas,'Courier New',monospace\"><span style=\"color: #7fbfbf; text-decoration-color: #7fbfbf\">[04/22/23 00:41:30] </span><span style=\"color: #000080; text-decoration-color: #000080\">INFO    </span> <span style=\"color: #808000; text-decoration-color: #808000\">k</span>=<span style=\"color: #008080; text-decoration-color: #008080; font-weight: bold\">10</span>, <span style=\"color: #808000; text-decoration-color: #808000\">cost</span>=<span style=\"color: #008080; text-decoration-color: #008080; font-weight: bold\">142000</span>, <span style=\"color: #808000; text-decoration-color: #808000\">n_iter</span>=<span style=\"color: #008080; text-decoration-color: #008080; font-weight: bold\">27</span>                                           <a href=\"file://C:\\Users\\hao_l\\AppData\\Local\\Temp\\ipykernel_10528\\3115349066.py\" target=\"_blank\"><span style=\"color: #7f7f7f; text-decoration-color: #7f7f7f\">3115349066.py</span></a><span style=\"color: #7f7f7f; text-decoration-color: #7f7f7f\">:</span><a href=\"file://C:\\Users\\hao_l\\AppData\\Local\\Temp\\ipykernel_10528\\3115349066.py#7\" target=\"_blank\"><span style=\"color: #7f7f7f; text-decoration-color: #7f7f7f\">7</span></a>\n",
       "</pre>\n"
      ],
      "text/plain": [
       "\u001b[2;36m[04/22/23 00:41:30]\u001b[0m\u001b[2;36m \u001b[0m\u001b[34mINFO    \u001b[0m \u001b[33mk\u001b[0m=\u001b[1;36m10\u001b[0m, \u001b[33mcost\u001b[0m=\u001b[1;36m142000\u001b[0m, \u001b[33mn_iter\u001b[0m=\u001b[1;36m27\u001b[0m                                           \u001b]8;id=427667;file://C:\\Users\\hao_l\\AppData\\Local\\Temp\\ipykernel_10528\\3115349066.py\u001b\\\u001b[2m3115349066.py\u001b[0m\u001b]8;;\u001b\\\u001b[2m:\u001b[0m\u001b]8;id=599632;file://C:\\Users\\hao_l\\AppData\\Local\\Temp\\ipykernel_10528\\3115349066.py#7\u001b\\\u001b[2m7\u001b[0m\u001b]8;;\u001b\\\n"
      ]
     },
     "metadata": {},
     "output_type": "display_data"
    },
    {
     "data": {
      "text/html": [
       "<pre style=\"white-space:pre;overflow-x:auto;line-height:normal;font-family:Menlo,'DejaVu Sans Mono',consolas,'Courier New',monospace\"><span style=\"color: #7fbfbf; text-decoration-color: #7fbfbf\">                    </span><span style=\"color: #000080; text-decoration-color: #000080\">INFO    </span> Performing clustering for <span style=\"color: #808000; text-decoration-color: #808000\">k</span>=<span style=\"color: #008080; text-decoration-color: #008080; font-weight: bold\">11</span>                                         <a href=\"file://C:\\Users\\hao_l\\AppData\\Local\\Temp\\ipykernel_10528\\3115349066.py\" target=\"_blank\"><span style=\"color: #7f7f7f; text-decoration-color: #7f7f7f\">3115349066.py</span></a><span style=\"color: #7f7f7f; text-decoration-color: #7f7f7f\">:</span><a href=\"file://C:\\Users\\hao_l\\AppData\\Local\\Temp\\ipykernel_10528\\3115349066.py#4\" target=\"_blank\"><span style=\"color: #7f7f7f; text-decoration-color: #7f7f7f\">4</span></a>\n",
       "</pre>\n"
      ],
      "text/plain": [
       "\u001b[2;36m                   \u001b[0m\u001b[2;36m \u001b[0m\u001b[34mINFO    \u001b[0m Performing clustering for \u001b[33mk\u001b[0m=\u001b[1;36m11\u001b[0m                                         \u001b]8;id=36378;file://C:\\Users\\hao_l\\AppData\\Local\\Temp\\ipykernel_10528\\3115349066.py\u001b\\\u001b[2m3115349066.py\u001b[0m\u001b]8;;\u001b\\\u001b[2m:\u001b[0m\u001b]8;id=757608;file://C:\\Users\\hao_l\\AppData\\Local\\Temp\\ipykernel_10528\\3115349066.py#4\u001b\\\u001b[2m4\u001b[0m\u001b]8;;\u001b\\\n"
      ]
     },
     "metadata": {},
     "output_type": "display_data"
    },
    {
     "data": {
      "text/html": [
       "<pre style=\"white-space:pre;overflow-x:auto;line-height:normal;font-family:Menlo,'DejaVu Sans Mono',consolas,'Courier New',monospace\"><span style=\"color: #7fbfbf; text-decoration-color: #7fbfbf\">[04/22/23 00:44:45] </span><span style=\"color: #000080; text-decoration-color: #000080\">INFO    </span> <span style=\"color: #808000; text-decoration-color: #808000\">k</span>=<span style=\"color: #008080; text-decoration-color: #008080; font-weight: bold\">11</span>, <span style=\"color: #808000; text-decoration-color: #808000\">cost</span>=<span style=\"color: #008080; text-decoration-color: #008080; font-weight: bold\">137803</span>, <span style=\"color: #808000; text-decoration-color: #808000\">n_iter</span>=<span style=\"color: #008080; text-decoration-color: #008080; font-weight: bold\">24</span>                                           <a href=\"file://C:\\Users\\hao_l\\AppData\\Local\\Temp\\ipykernel_10528\\3115349066.py\" target=\"_blank\"><span style=\"color: #7f7f7f; text-decoration-color: #7f7f7f\">3115349066.py</span></a><span style=\"color: #7f7f7f; text-decoration-color: #7f7f7f\">:</span><a href=\"file://C:\\Users\\hao_l\\AppData\\Local\\Temp\\ipykernel_10528\\3115349066.py#7\" target=\"_blank\"><span style=\"color: #7f7f7f; text-decoration-color: #7f7f7f\">7</span></a>\n",
       "</pre>\n"
      ],
      "text/plain": [
       "\u001b[2;36m[04/22/23 00:44:45]\u001b[0m\u001b[2;36m \u001b[0m\u001b[34mINFO    \u001b[0m \u001b[33mk\u001b[0m=\u001b[1;36m11\u001b[0m, \u001b[33mcost\u001b[0m=\u001b[1;36m137803\u001b[0m, \u001b[33mn_iter\u001b[0m=\u001b[1;36m24\u001b[0m                                           \u001b]8;id=304212;file://C:\\Users\\hao_l\\AppData\\Local\\Temp\\ipykernel_10528\\3115349066.py\u001b\\\u001b[2m3115349066.py\u001b[0m\u001b]8;;\u001b\\\u001b[2m:\u001b[0m\u001b]8;id=204076;file://C:\\Users\\hao_l\\AppData\\Local\\Temp\\ipykernel_10528\\3115349066.py#7\u001b\\\u001b[2m7\u001b[0m\u001b]8;;\u001b\\\n"
      ]
     },
     "metadata": {},
     "output_type": "display_data"
    },
    {
     "data": {
      "text/html": [
       "<pre style=\"white-space:pre;overflow-x:auto;line-height:normal;font-family:Menlo,'DejaVu Sans Mono',consolas,'Courier New',monospace\"><span style=\"color: #7fbfbf; text-decoration-color: #7fbfbf\">                    </span><span style=\"color: #000080; text-decoration-color: #000080\">INFO    </span> Performing clustering for <span style=\"color: #808000; text-decoration-color: #808000\">k</span>=<span style=\"color: #008080; text-decoration-color: #008080; font-weight: bold\">12</span>                                         <a href=\"file://C:\\Users\\hao_l\\AppData\\Local\\Temp\\ipykernel_10528\\3115349066.py\" target=\"_blank\"><span style=\"color: #7f7f7f; text-decoration-color: #7f7f7f\">3115349066.py</span></a><span style=\"color: #7f7f7f; text-decoration-color: #7f7f7f\">:</span><a href=\"file://C:\\Users\\hao_l\\AppData\\Local\\Temp\\ipykernel_10528\\3115349066.py#4\" target=\"_blank\"><span style=\"color: #7f7f7f; text-decoration-color: #7f7f7f\">4</span></a>\n",
       "</pre>\n"
      ],
      "text/plain": [
       "\u001b[2;36m                   \u001b[0m\u001b[2;36m \u001b[0m\u001b[34mINFO    \u001b[0m Performing clustering for \u001b[33mk\u001b[0m=\u001b[1;36m12\u001b[0m                                         \u001b]8;id=871206;file://C:\\Users\\hao_l\\AppData\\Local\\Temp\\ipykernel_10528\\3115349066.py\u001b\\\u001b[2m3115349066.py\u001b[0m\u001b]8;;\u001b\\\u001b[2m:\u001b[0m\u001b]8;id=937487;file://C:\\Users\\hao_l\\AppData\\Local\\Temp\\ipykernel_10528\\3115349066.py#4\u001b\\\u001b[2m4\u001b[0m\u001b]8;;\u001b\\\n"
      ]
     },
     "metadata": {},
     "output_type": "display_data"
    },
    {
     "data": {
      "text/html": [
       "<pre style=\"white-space:pre;overflow-x:auto;line-height:normal;font-family:Menlo,'DejaVu Sans Mono',consolas,'Courier New',monospace\"><span style=\"color: #7fbfbf; text-decoration-color: #7fbfbf\">[04/22/23 00:47:10] </span><span style=\"color: #000080; text-decoration-color: #000080\">INFO    </span> <span style=\"color: #808000; text-decoration-color: #808000\">k</span>=<span style=\"color: #008080; text-decoration-color: #008080; font-weight: bold\">12</span>, <span style=\"color: #808000; text-decoration-color: #808000\">cost</span>=<span style=\"color: #008080; text-decoration-color: #008080; font-weight: bold\">134227</span>, <span style=\"color: #808000; text-decoration-color: #808000\">n_iter</span>=<span style=\"color: #008080; text-decoration-color: #008080; font-weight: bold\">36</span>                                           <a href=\"file://C:\\Users\\hao_l\\AppData\\Local\\Temp\\ipykernel_10528\\3115349066.py\" target=\"_blank\"><span style=\"color: #7f7f7f; text-decoration-color: #7f7f7f\">3115349066.py</span></a><span style=\"color: #7f7f7f; text-decoration-color: #7f7f7f\">:</span><a href=\"file://C:\\Users\\hao_l\\AppData\\Local\\Temp\\ipykernel_10528\\3115349066.py#7\" target=\"_blank\"><span style=\"color: #7f7f7f; text-decoration-color: #7f7f7f\">7</span></a>\n",
       "</pre>\n"
      ],
      "text/plain": [
       "\u001b[2;36m[04/22/23 00:47:10]\u001b[0m\u001b[2;36m \u001b[0m\u001b[34mINFO    \u001b[0m \u001b[33mk\u001b[0m=\u001b[1;36m12\u001b[0m, \u001b[33mcost\u001b[0m=\u001b[1;36m134227\u001b[0m, \u001b[33mn_iter\u001b[0m=\u001b[1;36m36\u001b[0m                                           \u001b]8;id=488918;file://C:\\Users\\hao_l\\AppData\\Local\\Temp\\ipykernel_10528\\3115349066.py\u001b\\\u001b[2m3115349066.py\u001b[0m\u001b]8;;\u001b\\\u001b[2m:\u001b[0m\u001b]8;id=806747;file://C:\\Users\\hao_l\\AppData\\Local\\Temp\\ipykernel_10528\\3115349066.py#7\u001b\\\u001b[2m7\u001b[0m\u001b]8;;\u001b\\\n"
      ]
     },
     "metadata": {},
     "output_type": "display_data"
    },
    {
     "data": {
      "text/html": [
       "<pre style=\"white-space:pre;overflow-x:auto;line-height:normal;font-family:Menlo,'DejaVu Sans Mono',consolas,'Courier New',monospace\"><span style=\"color: #7fbfbf; text-decoration-color: #7fbfbf\">                    </span><span style=\"color: #000080; text-decoration-color: #000080\">INFO    </span> Performing clustering for <span style=\"color: #808000; text-decoration-color: #808000\">k</span>=<span style=\"color: #008080; text-decoration-color: #008080; font-weight: bold\">13</span>                                         <a href=\"file://C:\\Users\\hao_l\\AppData\\Local\\Temp\\ipykernel_10528\\3115349066.py\" target=\"_blank\"><span style=\"color: #7f7f7f; text-decoration-color: #7f7f7f\">3115349066.py</span></a><span style=\"color: #7f7f7f; text-decoration-color: #7f7f7f\">:</span><a href=\"file://C:\\Users\\hao_l\\AppData\\Local\\Temp\\ipykernel_10528\\3115349066.py#4\" target=\"_blank\"><span style=\"color: #7f7f7f; text-decoration-color: #7f7f7f\">4</span></a>\n",
       "</pre>\n"
      ],
      "text/plain": [
       "\u001b[2;36m                   \u001b[0m\u001b[2;36m \u001b[0m\u001b[34mINFO    \u001b[0m Performing clustering for \u001b[33mk\u001b[0m=\u001b[1;36m13\u001b[0m                                         \u001b]8;id=838145;file://C:\\Users\\hao_l\\AppData\\Local\\Temp\\ipykernel_10528\\3115349066.py\u001b\\\u001b[2m3115349066.py\u001b[0m\u001b]8;;\u001b\\\u001b[2m:\u001b[0m\u001b]8;id=844962;file://C:\\Users\\hao_l\\AppData\\Local\\Temp\\ipykernel_10528\\3115349066.py#4\u001b\\\u001b[2m4\u001b[0m\u001b]8;;\u001b\\\n"
      ]
     },
     "metadata": {},
     "output_type": "display_data"
    },
    {
     "data": {
      "text/html": [
       "<pre style=\"white-space:pre;overflow-x:auto;line-height:normal;font-family:Menlo,'DejaVu Sans Mono',consolas,'Courier New',monospace\"><span style=\"color: #7fbfbf; text-decoration-color: #7fbfbf\">[04/22/23 00:50:33] </span><span style=\"color: #000080; text-decoration-color: #000080\">INFO    </span> <span style=\"color: #808000; text-decoration-color: #808000\">k</span>=<span style=\"color: #008080; text-decoration-color: #008080; font-weight: bold\">13</span>, <span style=\"color: #808000; text-decoration-color: #808000\">cost</span>=<span style=\"color: #008080; text-decoration-color: #008080; font-weight: bold\">130877</span>, <span style=\"color: #808000; text-decoration-color: #808000\">n_iter</span>=<span style=\"color: #008080; text-decoration-color: #008080; font-weight: bold\">34</span>                                           <a href=\"file://C:\\Users\\hao_l\\AppData\\Local\\Temp\\ipykernel_10528\\3115349066.py\" target=\"_blank\"><span style=\"color: #7f7f7f; text-decoration-color: #7f7f7f\">3115349066.py</span></a><span style=\"color: #7f7f7f; text-decoration-color: #7f7f7f\">:</span><a href=\"file://C:\\Users\\hao_l\\AppData\\Local\\Temp\\ipykernel_10528\\3115349066.py#7\" target=\"_blank\"><span style=\"color: #7f7f7f; text-decoration-color: #7f7f7f\">7</span></a>\n",
       "</pre>\n"
      ],
      "text/plain": [
       "\u001b[2;36m[04/22/23 00:50:33]\u001b[0m\u001b[2;36m \u001b[0m\u001b[34mINFO    \u001b[0m \u001b[33mk\u001b[0m=\u001b[1;36m13\u001b[0m, \u001b[33mcost\u001b[0m=\u001b[1;36m130877\u001b[0m, \u001b[33mn_iter\u001b[0m=\u001b[1;36m34\u001b[0m                                           \u001b]8;id=773964;file://C:\\Users\\hao_l\\AppData\\Local\\Temp\\ipykernel_10528\\3115349066.py\u001b\\\u001b[2m3115349066.py\u001b[0m\u001b]8;;\u001b\\\u001b[2m:\u001b[0m\u001b]8;id=295007;file://C:\\Users\\hao_l\\AppData\\Local\\Temp\\ipykernel_10528\\3115349066.py#7\u001b\\\u001b[2m7\u001b[0m\u001b]8;;\u001b\\\n"
      ]
     },
     "metadata": {},
     "output_type": "display_data"
    },
    {
     "data": {
      "text/html": [
       "<pre style=\"white-space:pre;overflow-x:auto;line-height:normal;font-family:Menlo,'DejaVu Sans Mono',consolas,'Courier New',monospace\"><span style=\"color: #7fbfbf; text-decoration-color: #7fbfbf\">                    </span><span style=\"color: #000080; text-decoration-color: #000080\">INFO    </span> Performing clustering for <span style=\"color: #808000; text-decoration-color: #808000\">k</span>=<span style=\"color: #008080; text-decoration-color: #008080; font-weight: bold\">14</span>                                         <a href=\"file://C:\\Users\\hao_l\\AppData\\Local\\Temp\\ipykernel_10528\\3115349066.py\" target=\"_blank\"><span style=\"color: #7f7f7f; text-decoration-color: #7f7f7f\">3115349066.py</span></a><span style=\"color: #7f7f7f; text-decoration-color: #7f7f7f\">:</span><a href=\"file://C:\\Users\\hao_l\\AppData\\Local\\Temp\\ipykernel_10528\\3115349066.py#4\" target=\"_blank\"><span style=\"color: #7f7f7f; text-decoration-color: #7f7f7f\">4</span></a>\n",
       "</pre>\n"
      ],
      "text/plain": [
       "\u001b[2;36m                   \u001b[0m\u001b[2;36m \u001b[0m\u001b[34mINFO    \u001b[0m Performing clustering for \u001b[33mk\u001b[0m=\u001b[1;36m14\u001b[0m                                         \u001b]8;id=940655;file://C:\\Users\\hao_l\\AppData\\Local\\Temp\\ipykernel_10528\\3115349066.py\u001b\\\u001b[2m3115349066.py\u001b[0m\u001b]8;;\u001b\\\u001b[2m:\u001b[0m\u001b]8;id=821314;file://C:\\Users\\hao_l\\AppData\\Local\\Temp\\ipykernel_10528\\3115349066.py#4\u001b\\\u001b[2m4\u001b[0m\u001b]8;;\u001b\\\n"
      ]
     },
     "metadata": {},
     "output_type": "display_data"
    },
    {
     "data": {
      "text/html": [
       "<pre style=\"white-space:pre;overflow-x:auto;line-height:normal;font-family:Menlo,'DejaVu Sans Mono',consolas,'Courier New',monospace\"><span style=\"color: #7fbfbf; text-decoration-color: #7fbfbf\">[04/22/23 00:53:55] </span><span style=\"color: #000080; text-decoration-color: #000080\">INFO    </span> <span style=\"color: #808000; text-decoration-color: #808000\">k</span>=<span style=\"color: #008080; text-decoration-color: #008080; font-weight: bold\">14</span>, <span style=\"color: #808000; text-decoration-color: #808000\">cost</span>=<span style=\"color: #008080; text-decoration-color: #008080; font-weight: bold\">127711</span>, <span style=\"color: #808000; text-decoration-color: #808000\">n_iter</span>=<span style=\"color: #008080; text-decoration-color: #008080; font-weight: bold\">34</span>                                           <a href=\"file://C:\\Users\\hao_l\\AppData\\Local\\Temp\\ipykernel_10528\\3115349066.py\" target=\"_blank\"><span style=\"color: #7f7f7f; text-decoration-color: #7f7f7f\">3115349066.py</span></a><span style=\"color: #7f7f7f; text-decoration-color: #7f7f7f\">:</span><a href=\"file://C:\\Users\\hao_l\\AppData\\Local\\Temp\\ipykernel_10528\\3115349066.py#7\" target=\"_blank\"><span style=\"color: #7f7f7f; text-decoration-color: #7f7f7f\">7</span></a>\n",
       "</pre>\n"
      ],
      "text/plain": [
       "\u001b[2;36m[04/22/23 00:53:55]\u001b[0m\u001b[2;36m \u001b[0m\u001b[34mINFO    \u001b[0m \u001b[33mk\u001b[0m=\u001b[1;36m14\u001b[0m, \u001b[33mcost\u001b[0m=\u001b[1;36m127711\u001b[0m, \u001b[33mn_iter\u001b[0m=\u001b[1;36m34\u001b[0m                                           \u001b]8;id=448388;file://C:\\Users\\hao_l\\AppData\\Local\\Temp\\ipykernel_10528\\3115349066.py\u001b\\\u001b[2m3115349066.py\u001b[0m\u001b]8;;\u001b\\\u001b[2m:\u001b[0m\u001b]8;id=938169;file://C:\\Users\\hao_l\\AppData\\Local\\Temp\\ipykernel_10528\\3115349066.py#7\u001b\\\u001b[2m7\u001b[0m\u001b]8;;\u001b\\\n"
      ]
     },
     "metadata": {},
     "output_type": "display_data"
    },
    {
     "data": {
      "text/html": [
       "<pre style=\"white-space:pre;overflow-x:auto;line-height:normal;font-family:Menlo,'DejaVu Sans Mono',consolas,'Courier New',monospace\"><span style=\"color: #7fbfbf; text-decoration-color: #7fbfbf\">                    </span><span style=\"color: #000080; text-decoration-color: #000080\">INFO    </span> Performing clustering for <span style=\"color: #808000; text-decoration-color: #808000\">k</span>=<span style=\"color: #008080; text-decoration-color: #008080; font-weight: bold\">15</span>                                         <a href=\"file://C:\\Users\\hao_l\\AppData\\Local\\Temp\\ipykernel_10528\\3115349066.py\" target=\"_blank\"><span style=\"color: #7f7f7f; text-decoration-color: #7f7f7f\">3115349066.py</span></a><span style=\"color: #7f7f7f; text-decoration-color: #7f7f7f\">:</span><a href=\"file://C:\\Users\\hao_l\\AppData\\Local\\Temp\\ipykernel_10528\\3115349066.py#4\" target=\"_blank\"><span style=\"color: #7f7f7f; text-decoration-color: #7f7f7f\">4</span></a>\n",
       "</pre>\n"
      ],
      "text/plain": [
       "\u001b[2;36m                   \u001b[0m\u001b[2;36m \u001b[0m\u001b[34mINFO    \u001b[0m Performing clustering for \u001b[33mk\u001b[0m=\u001b[1;36m15\u001b[0m                                         \u001b]8;id=101969;file://C:\\Users\\hao_l\\AppData\\Local\\Temp\\ipykernel_10528\\3115349066.py\u001b\\\u001b[2m3115349066.py\u001b[0m\u001b]8;;\u001b\\\u001b[2m:\u001b[0m\u001b]8;id=798126;file://C:\\Users\\hao_l\\AppData\\Local\\Temp\\ipykernel_10528\\3115349066.py#4\u001b\\\u001b[2m4\u001b[0m\u001b]8;;\u001b\\\n"
      ]
     },
     "metadata": {},
     "output_type": "display_data"
    },
    {
     "data": {
      "text/html": [
       "<pre style=\"white-space:pre;overflow-x:auto;line-height:normal;font-family:Menlo,'DejaVu Sans Mono',consolas,'Courier New',monospace\"><span style=\"color: #7fbfbf; text-decoration-color: #7fbfbf\">[04/22/23 00:57:57] </span><span style=\"color: #000080; text-decoration-color: #000080\">INFO    </span> <span style=\"color: #808000; text-decoration-color: #808000\">k</span>=<span style=\"color: #008080; text-decoration-color: #008080; font-weight: bold\">15</span>, <span style=\"color: #808000; text-decoration-color: #808000\">cost</span>=<span style=\"color: #008080; text-decoration-color: #008080; font-weight: bold\">124771</span>, <span style=\"color: #808000; text-decoration-color: #808000\">n_iter</span>=<span style=\"color: #008080; text-decoration-color: #008080; font-weight: bold\">58</span>                                           <a href=\"file://C:\\Users\\hao_l\\AppData\\Local\\Temp\\ipykernel_10528\\3115349066.py\" target=\"_blank\"><span style=\"color: #7f7f7f; text-decoration-color: #7f7f7f\">3115349066.py</span></a><span style=\"color: #7f7f7f; text-decoration-color: #7f7f7f\">:</span><a href=\"file://C:\\Users\\hao_l\\AppData\\Local\\Temp\\ipykernel_10528\\3115349066.py#7\" target=\"_blank\"><span style=\"color: #7f7f7f; text-decoration-color: #7f7f7f\">7</span></a>\n",
       "</pre>\n"
      ],
      "text/plain": [
       "\u001b[2;36m[04/22/23 00:57:57]\u001b[0m\u001b[2;36m \u001b[0m\u001b[34mINFO    \u001b[0m \u001b[33mk\u001b[0m=\u001b[1;36m15\u001b[0m, \u001b[33mcost\u001b[0m=\u001b[1;36m124771\u001b[0m, \u001b[33mn_iter\u001b[0m=\u001b[1;36m58\u001b[0m                                           \u001b]8;id=782968;file://C:\\Users\\hao_l\\AppData\\Local\\Temp\\ipykernel_10528\\3115349066.py\u001b\\\u001b[2m3115349066.py\u001b[0m\u001b]8;;\u001b\\\u001b[2m:\u001b[0m\u001b]8;id=801450;file://C:\\Users\\hao_l\\AppData\\Local\\Temp\\ipykernel_10528\\3115349066.py#7\u001b\\\u001b[2m7\u001b[0m\u001b]8;;\u001b\\\n"
      ]
     },
     "metadata": {},
     "output_type": "display_data"
    },
    {
     "data": {
      "text/html": [
       "<pre style=\"white-space:pre;overflow-x:auto;line-height:normal;font-family:Menlo,'DejaVu Sans Mono',consolas,'Courier New',monospace\"><span style=\"color: #7fbfbf; text-decoration-color: #7fbfbf\">                    </span><span style=\"color: #000080; text-decoration-color: #000080\">INFO    </span> Performing clustering for <span style=\"color: #808000; text-decoration-color: #808000\">k</span>=<span style=\"color: #008080; text-decoration-color: #008080; font-weight: bold\">16</span>                                         <a href=\"file://C:\\Users\\hao_l\\AppData\\Local\\Temp\\ipykernel_10528\\3115349066.py\" target=\"_blank\"><span style=\"color: #7f7f7f; text-decoration-color: #7f7f7f\">3115349066.py</span></a><span style=\"color: #7f7f7f; text-decoration-color: #7f7f7f\">:</span><a href=\"file://C:\\Users\\hao_l\\AppData\\Local\\Temp\\ipykernel_10528\\3115349066.py#4\" target=\"_blank\"><span style=\"color: #7f7f7f; text-decoration-color: #7f7f7f\">4</span></a>\n",
       "</pre>\n"
      ],
      "text/plain": [
       "\u001b[2;36m                   \u001b[0m\u001b[2;36m \u001b[0m\u001b[34mINFO    \u001b[0m Performing clustering for \u001b[33mk\u001b[0m=\u001b[1;36m16\u001b[0m                                         \u001b]8;id=930330;file://C:\\Users\\hao_l\\AppData\\Local\\Temp\\ipykernel_10528\\3115349066.py\u001b\\\u001b[2m3115349066.py\u001b[0m\u001b]8;;\u001b\\\u001b[2m:\u001b[0m\u001b]8;id=175342;file://C:\\Users\\hao_l\\AppData\\Local\\Temp\\ipykernel_10528\\3115349066.py#4\u001b\\\u001b[2m4\u001b[0m\u001b]8;;\u001b\\\n"
      ]
     },
     "metadata": {},
     "output_type": "display_data"
    },
    {
     "data": {
      "text/html": [
       "<pre style=\"white-space:pre;overflow-x:auto;line-height:normal;font-family:Menlo,'DejaVu Sans Mono',consolas,'Courier New',monospace\"><span style=\"color: #7fbfbf; text-decoration-color: #7fbfbf\">[04/22/23 01:01:52] </span><span style=\"color: #000080; text-decoration-color: #000080\">INFO    </span> <span style=\"color: #808000; text-decoration-color: #808000\">k</span>=<span style=\"color: #008080; text-decoration-color: #008080; font-weight: bold\">16</span>, <span style=\"color: #808000; text-decoration-color: #808000\">cost</span>=<span style=\"color: #008080; text-decoration-color: #008080; font-weight: bold\">122866</span>, <span style=\"color: #808000; text-decoration-color: #808000\">n_iter</span>=<span style=\"color: #008080; text-decoration-color: #008080; font-weight: bold\">32</span>                                           <a href=\"file://C:\\Users\\hao_l\\AppData\\Local\\Temp\\ipykernel_10528\\3115349066.py\" target=\"_blank\"><span style=\"color: #7f7f7f; text-decoration-color: #7f7f7f\">3115349066.py</span></a><span style=\"color: #7f7f7f; text-decoration-color: #7f7f7f\">:</span><a href=\"file://C:\\Users\\hao_l\\AppData\\Local\\Temp\\ipykernel_10528\\3115349066.py#7\" target=\"_blank\"><span style=\"color: #7f7f7f; text-decoration-color: #7f7f7f\">7</span></a>\n",
       "</pre>\n"
      ],
      "text/plain": [
       "\u001b[2;36m[04/22/23 01:01:52]\u001b[0m\u001b[2;36m \u001b[0m\u001b[34mINFO    \u001b[0m \u001b[33mk\u001b[0m=\u001b[1;36m16\u001b[0m, \u001b[33mcost\u001b[0m=\u001b[1;36m122866\u001b[0m, \u001b[33mn_iter\u001b[0m=\u001b[1;36m32\u001b[0m                                           \u001b]8;id=480576;file://C:\\Users\\hao_l\\AppData\\Local\\Temp\\ipykernel_10528\\3115349066.py\u001b\\\u001b[2m3115349066.py\u001b[0m\u001b]8;;\u001b\\\u001b[2m:\u001b[0m\u001b]8;id=324804;file://C:\\Users\\hao_l\\AppData\\Local\\Temp\\ipykernel_10528\\3115349066.py#7\u001b\\\u001b[2m7\u001b[0m\u001b]8;;\u001b\\\n"
      ]
     },
     "metadata": {},
     "output_type": "display_data"
    },
    {
     "data": {
      "text/html": [
       "<pre style=\"white-space:pre;overflow-x:auto;line-height:normal;font-family:Menlo,'DejaVu Sans Mono',consolas,'Courier New',monospace\"><span style=\"color: #7fbfbf; text-decoration-color: #7fbfbf\">                    </span><span style=\"color: #000080; text-decoration-color: #000080\">INFO    </span> Performing clustering for <span style=\"color: #808000; text-decoration-color: #808000\">k</span>=<span style=\"color: #008080; text-decoration-color: #008080; font-weight: bold\">17</span>                                         <a href=\"file://C:\\Users\\hao_l\\AppData\\Local\\Temp\\ipykernel_10528\\3115349066.py\" target=\"_blank\"><span style=\"color: #7f7f7f; text-decoration-color: #7f7f7f\">3115349066.py</span></a><span style=\"color: #7f7f7f; text-decoration-color: #7f7f7f\">:</span><a href=\"file://C:\\Users\\hao_l\\AppData\\Local\\Temp\\ipykernel_10528\\3115349066.py#4\" target=\"_blank\"><span style=\"color: #7f7f7f; text-decoration-color: #7f7f7f\">4</span></a>\n",
       "</pre>\n"
      ],
      "text/plain": [
       "\u001b[2;36m                   \u001b[0m\u001b[2;36m \u001b[0m\u001b[34mINFO    \u001b[0m Performing clustering for \u001b[33mk\u001b[0m=\u001b[1;36m17\u001b[0m                                         \u001b]8;id=907409;file://C:\\Users\\hao_l\\AppData\\Local\\Temp\\ipykernel_10528\\3115349066.py\u001b\\\u001b[2m3115349066.py\u001b[0m\u001b]8;;\u001b\\\u001b[2m:\u001b[0m\u001b]8;id=275026;file://C:\\Users\\hao_l\\AppData\\Local\\Temp\\ipykernel_10528\\3115349066.py#4\u001b\\\u001b[2m4\u001b[0m\u001b]8;;\u001b\\\n"
      ]
     },
     "metadata": {},
     "output_type": "display_data"
    },
    {
     "data": {
      "text/html": [
       "<pre style=\"white-space:pre;overflow-x:auto;line-height:normal;font-family:Menlo,'DejaVu Sans Mono',consolas,'Courier New',monospace\"><span style=\"color: #7fbfbf; text-decoration-color: #7fbfbf\">[04/22/23 01:05:27] </span><span style=\"color: #000080; text-decoration-color: #000080\">INFO    </span> <span style=\"color: #808000; text-decoration-color: #808000\">k</span>=<span style=\"color: #008080; text-decoration-color: #008080; font-weight: bold\">17</span>, <span style=\"color: #808000; text-decoration-color: #808000\">cost</span>=<span style=\"color: #008080; text-decoration-color: #008080; font-weight: bold\">120944</span>, <span style=\"color: #808000; text-decoration-color: #808000\">n_iter</span>=<span style=\"color: #008080; text-decoration-color: #008080; font-weight: bold\">26</span>                                           <a href=\"file://C:\\Users\\hao_l\\AppData\\Local\\Temp\\ipykernel_10528\\3115349066.py\" target=\"_blank\"><span style=\"color: #7f7f7f; text-decoration-color: #7f7f7f\">3115349066.py</span></a><span style=\"color: #7f7f7f; text-decoration-color: #7f7f7f\">:</span><a href=\"file://C:\\Users\\hao_l\\AppData\\Local\\Temp\\ipykernel_10528\\3115349066.py#7\" target=\"_blank\"><span style=\"color: #7f7f7f; text-decoration-color: #7f7f7f\">7</span></a>\n",
       "</pre>\n"
      ],
      "text/plain": [
       "\u001b[2;36m[04/22/23 01:05:27]\u001b[0m\u001b[2;36m \u001b[0m\u001b[34mINFO    \u001b[0m \u001b[33mk\u001b[0m=\u001b[1;36m17\u001b[0m, \u001b[33mcost\u001b[0m=\u001b[1;36m120944\u001b[0m, \u001b[33mn_iter\u001b[0m=\u001b[1;36m26\u001b[0m                                           \u001b]8;id=364691;file://C:\\Users\\hao_l\\AppData\\Local\\Temp\\ipykernel_10528\\3115349066.py\u001b\\\u001b[2m3115349066.py\u001b[0m\u001b]8;;\u001b\\\u001b[2m:\u001b[0m\u001b]8;id=783176;file://C:\\Users\\hao_l\\AppData\\Local\\Temp\\ipykernel_10528\\3115349066.py#7\u001b\\\u001b[2m7\u001b[0m\u001b]8;;\u001b\\\n"
      ]
     },
     "metadata": {},
     "output_type": "display_data"
    },
    {
     "data": {
      "text/html": [
       "<pre style=\"white-space:pre;overflow-x:auto;line-height:normal;font-family:Menlo,'DejaVu Sans Mono',consolas,'Courier New',monospace\"><span style=\"color: #7fbfbf; text-decoration-color: #7fbfbf\">                    </span><span style=\"color: #000080; text-decoration-color: #000080\">INFO    </span> Performing clustering for <span style=\"color: #808000; text-decoration-color: #808000\">k</span>=<span style=\"color: #008080; text-decoration-color: #008080; font-weight: bold\">18</span>                                         <a href=\"file://C:\\Users\\hao_l\\AppData\\Local\\Temp\\ipykernel_10528\\3115349066.py\" target=\"_blank\"><span style=\"color: #7f7f7f; text-decoration-color: #7f7f7f\">3115349066.py</span></a><span style=\"color: #7f7f7f; text-decoration-color: #7f7f7f\">:</span><a href=\"file://C:\\Users\\hao_l\\AppData\\Local\\Temp\\ipykernel_10528\\3115349066.py#4\" target=\"_blank\"><span style=\"color: #7f7f7f; text-decoration-color: #7f7f7f\">4</span></a>\n",
       "</pre>\n"
      ],
      "text/plain": [
       "\u001b[2;36m                   \u001b[0m\u001b[2;36m \u001b[0m\u001b[34mINFO    \u001b[0m Performing clustering for \u001b[33mk\u001b[0m=\u001b[1;36m18\u001b[0m                                         \u001b]8;id=690382;file://C:\\Users\\hao_l\\AppData\\Local\\Temp\\ipykernel_10528\\3115349066.py\u001b\\\u001b[2m3115349066.py\u001b[0m\u001b]8;;\u001b\\\u001b[2m:\u001b[0m\u001b]8;id=20433;file://C:\\Users\\hao_l\\AppData\\Local\\Temp\\ipykernel_10528\\3115349066.py#4\u001b\\\u001b[2m4\u001b[0m\u001b]8;;\u001b\\\n"
      ]
     },
     "metadata": {},
     "output_type": "display_data"
    },
    {
     "data": {
      "text/html": [
       "<pre style=\"white-space:pre;overflow-x:auto;line-height:normal;font-family:Menlo,'DejaVu Sans Mono',consolas,'Courier New',monospace\"><span style=\"color: #7fbfbf; text-decoration-color: #7fbfbf\">[04/22/23 01:09:58] </span><span style=\"color: #000080; text-decoration-color: #000080\">INFO    </span> <span style=\"color: #808000; text-decoration-color: #808000\">k</span>=<span style=\"color: #008080; text-decoration-color: #008080; font-weight: bold\">18</span>, <span style=\"color: #808000; text-decoration-color: #808000\">cost</span>=<span style=\"color: #008080; text-decoration-color: #008080; font-weight: bold\">118845</span>, <span style=\"color: #808000; text-decoration-color: #808000\">n_iter</span>=<span style=\"color: #008080; text-decoration-color: #008080; font-weight: bold\">39</span>                                           <a href=\"file://C:\\Users\\hao_l\\AppData\\Local\\Temp\\ipykernel_10528\\3115349066.py\" target=\"_blank\"><span style=\"color: #7f7f7f; text-decoration-color: #7f7f7f\">3115349066.py</span></a><span style=\"color: #7f7f7f; text-decoration-color: #7f7f7f\">:</span><a href=\"file://C:\\Users\\hao_l\\AppData\\Local\\Temp\\ipykernel_10528\\3115349066.py#7\" target=\"_blank\"><span style=\"color: #7f7f7f; text-decoration-color: #7f7f7f\">7</span></a>\n",
       "</pre>\n"
      ],
      "text/plain": [
       "\u001b[2;36m[04/22/23 01:09:58]\u001b[0m\u001b[2;36m \u001b[0m\u001b[34mINFO    \u001b[0m \u001b[33mk\u001b[0m=\u001b[1;36m18\u001b[0m, \u001b[33mcost\u001b[0m=\u001b[1;36m118845\u001b[0m, \u001b[33mn_iter\u001b[0m=\u001b[1;36m39\u001b[0m                                           \u001b]8;id=209487;file://C:\\Users\\hao_l\\AppData\\Local\\Temp\\ipykernel_10528\\3115349066.py\u001b\\\u001b[2m3115349066.py\u001b[0m\u001b]8;;\u001b\\\u001b[2m:\u001b[0m\u001b]8;id=552564;file://C:\\Users\\hao_l\\AppData\\Local\\Temp\\ipykernel_10528\\3115349066.py#7\u001b\\\u001b[2m7\u001b[0m\u001b]8;;\u001b\\\n"
      ]
     },
     "metadata": {},
     "output_type": "display_data"
    },
    {
     "data": {
      "text/html": [
       "<pre style=\"white-space:pre;overflow-x:auto;line-height:normal;font-family:Menlo,'DejaVu Sans Mono',consolas,'Courier New',monospace\"><span style=\"color: #7fbfbf; text-decoration-color: #7fbfbf\">                    </span><span style=\"color: #000080; text-decoration-color: #000080\">INFO    </span> Performing clustering for <span style=\"color: #808000; text-decoration-color: #808000\">k</span>=<span style=\"color: #008080; text-decoration-color: #008080; font-weight: bold\">19</span>                                         <a href=\"file://C:\\Users\\hao_l\\AppData\\Local\\Temp\\ipykernel_10528\\3115349066.py\" target=\"_blank\"><span style=\"color: #7f7f7f; text-decoration-color: #7f7f7f\">3115349066.py</span></a><span style=\"color: #7f7f7f; text-decoration-color: #7f7f7f\">:</span><a href=\"file://C:\\Users\\hao_l\\AppData\\Local\\Temp\\ipykernel_10528\\3115349066.py#4\" target=\"_blank\"><span style=\"color: #7f7f7f; text-decoration-color: #7f7f7f\">4</span></a>\n",
       "</pre>\n"
      ],
      "text/plain": [
       "\u001b[2;36m                   \u001b[0m\u001b[2;36m \u001b[0m\u001b[34mINFO    \u001b[0m Performing clustering for \u001b[33mk\u001b[0m=\u001b[1;36m19\u001b[0m                                         \u001b]8;id=354124;file://C:\\Users\\hao_l\\AppData\\Local\\Temp\\ipykernel_10528\\3115349066.py\u001b\\\u001b[2m3115349066.py\u001b[0m\u001b]8;;\u001b\\\u001b[2m:\u001b[0m\u001b]8;id=650632;file://C:\\Users\\hao_l\\AppData\\Local\\Temp\\ipykernel_10528\\3115349066.py#4\u001b\\\u001b[2m4\u001b[0m\u001b]8;;\u001b\\\n"
      ]
     },
     "metadata": {},
     "output_type": "display_data"
    },
    {
     "data": {
      "text/html": [
       "<pre style=\"white-space:pre;overflow-x:auto;line-height:normal;font-family:Menlo,'DejaVu Sans Mono',consolas,'Courier New',monospace\"><span style=\"color: #7fbfbf; text-decoration-color: #7fbfbf\">[04/22/23 01:14:17] </span><span style=\"color: #000080; text-decoration-color: #000080\">INFO    </span> <span style=\"color: #808000; text-decoration-color: #808000\">k</span>=<span style=\"color: #008080; text-decoration-color: #008080; font-weight: bold\">19</span>, <span style=\"color: #808000; text-decoration-color: #808000\">cost</span>=<span style=\"color: #008080; text-decoration-color: #008080; font-weight: bold\">117177</span>, <span style=\"color: #808000; text-decoration-color: #808000\">n_iter</span>=<span style=\"color: #008080; text-decoration-color: #008080; font-weight: bold\">30</span>                                           <a href=\"file://C:\\Users\\hao_l\\AppData\\Local\\Temp\\ipykernel_10528\\3115349066.py\" target=\"_blank\"><span style=\"color: #7f7f7f; text-decoration-color: #7f7f7f\">3115349066.py</span></a><span style=\"color: #7f7f7f; text-decoration-color: #7f7f7f\">:</span><a href=\"file://C:\\Users\\hao_l\\AppData\\Local\\Temp\\ipykernel_10528\\3115349066.py#7\" target=\"_blank\"><span style=\"color: #7f7f7f; text-decoration-color: #7f7f7f\">7</span></a>\n",
       "</pre>\n"
      ],
      "text/plain": [
       "\u001b[2;36m[04/22/23 01:14:17]\u001b[0m\u001b[2;36m \u001b[0m\u001b[34mINFO    \u001b[0m \u001b[33mk\u001b[0m=\u001b[1;36m19\u001b[0m, \u001b[33mcost\u001b[0m=\u001b[1;36m117177\u001b[0m, \u001b[33mn_iter\u001b[0m=\u001b[1;36m30\u001b[0m                                           \u001b]8;id=538282;file://C:\\Users\\hao_l\\AppData\\Local\\Temp\\ipykernel_10528\\3115349066.py\u001b\\\u001b[2m3115349066.py\u001b[0m\u001b]8;;\u001b\\\u001b[2m:\u001b[0m\u001b]8;id=847509;file://C:\\Users\\hao_l\\AppData\\Local\\Temp\\ipykernel_10528\\3115349066.py#7\u001b\\\u001b[2m7\u001b[0m\u001b]8;;\u001b\\\n"
      ]
     },
     "metadata": {},
     "output_type": "display_data"
    },
    {
     "data": {
      "text/html": [
       "<pre style=\"white-space:pre;overflow-x:auto;line-height:normal;font-family:Menlo,'DejaVu Sans Mono',consolas,'Courier New',monospace\"><span style=\"color: #7fbfbf; text-decoration-color: #7fbfbf\">                    </span><span style=\"color: #000080; text-decoration-color: #000080\">INFO    </span> Performing clustering for <span style=\"color: #808000; text-decoration-color: #808000\">k</span>=<span style=\"color: #008080; text-decoration-color: #008080; font-weight: bold\">20</span>                                         <a href=\"file://C:\\Users\\hao_l\\AppData\\Local\\Temp\\ipykernel_10528\\3115349066.py\" target=\"_blank\"><span style=\"color: #7f7f7f; text-decoration-color: #7f7f7f\">3115349066.py</span></a><span style=\"color: #7f7f7f; text-decoration-color: #7f7f7f\">:</span><a href=\"file://C:\\Users\\hao_l\\AppData\\Local\\Temp\\ipykernel_10528\\3115349066.py#4\" target=\"_blank\"><span style=\"color: #7f7f7f; text-decoration-color: #7f7f7f\">4</span></a>\n",
       "</pre>\n"
      ],
      "text/plain": [
       "\u001b[2;36m                   \u001b[0m\u001b[2;36m \u001b[0m\u001b[34mINFO    \u001b[0m Performing clustering for \u001b[33mk\u001b[0m=\u001b[1;36m20\u001b[0m                                         \u001b]8;id=591364;file://C:\\Users\\hao_l\\AppData\\Local\\Temp\\ipykernel_10528\\3115349066.py\u001b\\\u001b[2m3115349066.py\u001b[0m\u001b]8;;\u001b\\\u001b[2m:\u001b[0m\u001b]8;id=930906;file://C:\\Users\\hao_l\\AppData\\Local\\Temp\\ipykernel_10528\\3115349066.py#4\u001b\\\u001b[2m4\u001b[0m\u001b]8;;\u001b\\\n"
      ]
     },
     "metadata": {},
     "output_type": "display_data"
    },
    {
     "data": {
      "text/html": [
       "<pre style=\"white-space:pre;overflow-x:auto;line-height:normal;font-family:Menlo,'DejaVu Sans Mono',consolas,'Courier New',monospace\"><span style=\"color: #7fbfbf; text-decoration-color: #7fbfbf\">[04/22/23 01:17:44] </span><span style=\"color: #000080; text-decoration-color: #000080\">INFO    </span> <span style=\"color: #808000; text-decoration-color: #808000\">k</span>=<span style=\"color: #008080; text-decoration-color: #008080; font-weight: bold\">20</span>, <span style=\"color: #808000; text-decoration-color: #808000\">cost</span>=<span style=\"color: #008080; text-decoration-color: #008080; font-weight: bold\">116160</span>, <span style=\"color: #808000; text-decoration-color: #808000\">n_iter</span>=<span style=\"color: #008080; text-decoration-color: #008080; font-weight: bold\">39</span>                                           <a href=\"file://C:\\Users\\hao_l\\AppData\\Local\\Temp\\ipykernel_10528\\3115349066.py\" target=\"_blank\"><span style=\"color: #7f7f7f; text-decoration-color: #7f7f7f\">3115349066.py</span></a><span style=\"color: #7f7f7f; text-decoration-color: #7f7f7f\">:</span><a href=\"file://C:\\Users\\hao_l\\AppData\\Local\\Temp\\ipykernel_10528\\3115349066.py#7\" target=\"_blank\"><span style=\"color: #7f7f7f; text-decoration-color: #7f7f7f\">7</span></a>\n",
       "</pre>\n"
      ],
      "text/plain": [
       "\u001b[2;36m[04/22/23 01:17:44]\u001b[0m\u001b[2;36m \u001b[0m\u001b[34mINFO    \u001b[0m \u001b[33mk\u001b[0m=\u001b[1;36m20\u001b[0m, \u001b[33mcost\u001b[0m=\u001b[1;36m116160\u001b[0m, \u001b[33mn_iter\u001b[0m=\u001b[1;36m39\u001b[0m                                           \u001b]8;id=907511;file://C:\\Users\\hao_l\\AppData\\Local\\Temp\\ipykernel_10528\\3115349066.py\u001b\\\u001b[2m3115349066.py\u001b[0m\u001b]8;;\u001b\\\u001b[2m:\u001b[0m\u001b]8;id=882105;file://C:\\Users\\hao_l\\AppData\\Local\\Temp\\ipykernel_10528\\3115349066.py#7\u001b\\\u001b[2m7\u001b[0m\u001b]8;;\u001b\\\n"
      ]
     },
     "metadata": {},
     "output_type": "display_data"
    },
    {
     "data": {
      "text/html": [
       "<pre style=\"white-space:pre;overflow-x:auto;line-height:normal;font-family:Menlo,'DejaVu Sans Mono',consolas,'Courier New',monospace\"><span style=\"color: #7fbfbf; text-decoration-color: #7fbfbf\">                    </span><span style=\"color: #000080; text-decoration-color: #000080\">INFO    </span> Performing clustering for <span style=\"color: #808000; text-decoration-color: #808000\">k</span>=<span style=\"color: #008080; text-decoration-color: #008080; font-weight: bold\">21</span>                                         <a href=\"file://C:\\Users\\hao_l\\AppData\\Local\\Temp\\ipykernel_10528\\3115349066.py\" target=\"_blank\"><span style=\"color: #7f7f7f; text-decoration-color: #7f7f7f\">3115349066.py</span></a><span style=\"color: #7f7f7f; text-decoration-color: #7f7f7f\">:</span><a href=\"file://C:\\Users\\hao_l\\AppData\\Local\\Temp\\ipykernel_10528\\3115349066.py#4\" target=\"_blank\"><span style=\"color: #7f7f7f; text-decoration-color: #7f7f7f\">4</span></a>\n",
       "</pre>\n"
      ],
      "text/plain": [
       "\u001b[2;36m                   \u001b[0m\u001b[2;36m \u001b[0m\u001b[34mINFO    \u001b[0m Performing clustering for \u001b[33mk\u001b[0m=\u001b[1;36m21\u001b[0m                                         \u001b]8;id=854335;file://C:\\Users\\hao_l\\AppData\\Local\\Temp\\ipykernel_10528\\3115349066.py\u001b\\\u001b[2m3115349066.py\u001b[0m\u001b]8;;\u001b\\\u001b[2m:\u001b[0m\u001b]8;id=19792;file://C:\\Users\\hao_l\\AppData\\Local\\Temp\\ipykernel_10528\\3115349066.py#4\u001b\\\u001b[2m4\u001b[0m\u001b]8;;\u001b\\\n"
      ]
     },
     "metadata": {},
     "output_type": "display_data"
    },
    {
     "data": {
      "text/html": [
       "<pre style=\"white-space:pre;overflow-x:auto;line-height:normal;font-family:Menlo,'DejaVu Sans Mono',consolas,'Courier New',monospace\"><span style=\"color: #7fbfbf; text-decoration-color: #7fbfbf\">[04/22/23 01:21:40] </span><span style=\"color: #000080; text-decoration-color: #000080\">INFO    </span> <span style=\"color: #808000; text-decoration-color: #808000\">k</span>=<span style=\"color: #008080; text-decoration-color: #008080; font-weight: bold\">21</span>, <span style=\"color: #808000; text-decoration-color: #808000\">cost</span>=<span style=\"color: #008080; text-decoration-color: #008080; font-weight: bold\">114458</span>, <span style=\"color: #808000; text-decoration-color: #808000\">n_iter</span>=<span style=\"color: #008080; text-decoration-color: #008080; font-weight: bold\">38</span>                                           <a href=\"file://C:\\Users\\hao_l\\AppData\\Local\\Temp\\ipykernel_10528\\3115349066.py\" target=\"_blank\"><span style=\"color: #7f7f7f; text-decoration-color: #7f7f7f\">3115349066.py</span></a><span style=\"color: #7f7f7f; text-decoration-color: #7f7f7f\">:</span><a href=\"file://C:\\Users\\hao_l\\AppData\\Local\\Temp\\ipykernel_10528\\3115349066.py#7\" target=\"_blank\"><span style=\"color: #7f7f7f; text-decoration-color: #7f7f7f\">7</span></a>\n",
       "</pre>\n"
      ],
      "text/plain": [
       "\u001b[2;36m[04/22/23 01:21:40]\u001b[0m\u001b[2;36m \u001b[0m\u001b[34mINFO    \u001b[0m \u001b[33mk\u001b[0m=\u001b[1;36m21\u001b[0m, \u001b[33mcost\u001b[0m=\u001b[1;36m114458\u001b[0m, \u001b[33mn_iter\u001b[0m=\u001b[1;36m38\u001b[0m                                           \u001b]8;id=369152;file://C:\\Users\\hao_l\\AppData\\Local\\Temp\\ipykernel_10528\\3115349066.py\u001b\\\u001b[2m3115349066.py\u001b[0m\u001b]8;;\u001b\\\u001b[2m:\u001b[0m\u001b]8;id=905805;file://C:\\Users\\hao_l\\AppData\\Local\\Temp\\ipykernel_10528\\3115349066.py#7\u001b\\\u001b[2m7\u001b[0m\u001b]8;;\u001b\\\n"
      ]
     },
     "metadata": {},
     "output_type": "display_data"
    },
    {
     "data": {
      "text/html": [
       "<pre style=\"white-space:pre;overflow-x:auto;line-height:normal;font-family:Menlo,'DejaVu Sans Mono',consolas,'Courier New',monospace\"><span style=\"color: #7fbfbf; text-decoration-color: #7fbfbf\">                    </span><span style=\"color: #000080; text-decoration-color: #000080\">INFO    </span> Performing clustering for <span style=\"color: #808000; text-decoration-color: #808000\">k</span>=<span style=\"color: #008080; text-decoration-color: #008080; font-weight: bold\">22</span>                                         <a href=\"file://C:\\Users\\hao_l\\AppData\\Local\\Temp\\ipykernel_10528\\3115349066.py\" target=\"_blank\"><span style=\"color: #7f7f7f; text-decoration-color: #7f7f7f\">3115349066.py</span></a><span style=\"color: #7f7f7f; text-decoration-color: #7f7f7f\">:</span><a href=\"file://C:\\Users\\hao_l\\AppData\\Local\\Temp\\ipykernel_10528\\3115349066.py#4\" target=\"_blank\"><span style=\"color: #7f7f7f; text-decoration-color: #7f7f7f\">4</span></a>\n",
       "</pre>\n"
      ],
      "text/plain": [
       "\u001b[2;36m                   \u001b[0m\u001b[2;36m \u001b[0m\u001b[34mINFO    \u001b[0m Performing clustering for \u001b[33mk\u001b[0m=\u001b[1;36m22\u001b[0m                                         \u001b]8;id=655924;file://C:\\Users\\hao_l\\AppData\\Local\\Temp\\ipykernel_10528\\3115349066.py\u001b\\\u001b[2m3115349066.py\u001b[0m\u001b]8;;\u001b\\\u001b[2m:\u001b[0m\u001b]8;id=667247;file://C:\\Users\\hao_l\\AppData\\Local\\Temp\\ipykernel_10528\\3115349066.py#4\u001b\\\u001b[2m4\u001b[0m\u001b]8;;\u001b\\\n"
      ]
     },
     "metadata": {},
     "output_type": "display_data"
    },
    {
     "data": {
      "text/html": [
       "<pre style=\"white-space:pre;overflow-x:auto;line-height:normal;font-family:Menlo,'DejaVu Sans Mono',consolas,'Courier New',monospace\"><span style=\"color: #7fbfbf; text-decoration-color: #7fbfbf\">[04/22/23 01:26:44] </span><span style=\"color: #000080; text-decoration-color: #000080\">INFO    </span> <span style=\"color: #808000; text-decoration-color: #808000\">k</span>=<span style=\"color: #008080; text-decoration-color: #008080; font-weight: bold\">22</span>, <span style=\"color: #808000; text-decoration-color: #808000\">cost</span>=<span style=\"color: #008080; text-decoration-color: #008080; font-weight: bold\">113100</span>, <span style=\"color: #808000; text-decoration-color: #808000\">n_iter</span>=<span style=\"color: #008080; text-decoration-color: #008080; font-weight: bold\">46</span>                                           <a href=\"file://C:\\Users\\hao_l\\AppData\\Local\\Temp\\ipykernel_10528\\3115349066.py\" target=\"_blank\"><span style=\"color: #7f7f7f; text-decoration-color: #7f7f7f\">3115349066.py</span></a><span style=\"color: #7f7f7f; text-decoration-color: #7f7f7f\">:</span><a href=\"file://C:\\Users\\hao_l\\AppData\\Local\\Temp\\ipykernel_10528\\3115349066.py#7\" target=\"_blank\"><span style=\"color: #7f7f7f; text-decoration-color: #7f7f7f\">7</span></a>\n",
       "</pre>\n"
      ],
      "text/plain": [
       "\u001b[2;36m[04/22/23 01:26:44]\u001b[0m\u001b[2;36m \u001b[0m\u001b[34mINFO    \u001b[0m \u001b[33mk\u001b[0m=\u001b[1;36m22\u001b[0m, \u001b[33mcost\u001b[0m=\u001b[1;36m113100\u001b[0m, \u001b[33mn_iter\u001b[0m=\u001b[1;36m46\u001b[0m                                           \u001b]8;id=904542;file://C:\\Users\\hao_l\\AppData\\Local\\Temp\\ipykernel_10528\\3115349066.py\u001b\\\u001b[2m3115349066.py\u001b[0m\u001b]8;;\u001b\\\u001b[2m:\u001b[0m\u001b]8;id=181727;file://C:\\Users\\hao_l\\AppData\\Local\\Temp\\ipykernel_10528\\3115349066.py#7\u001b\\\u001b[2m7\u001b[0m\u001b]8;;\u001b\\\n"
      ]
     },
     "metadata": {},
     "output_type": "display_data"
    },
    {
     "data": {
      "text/html": [
       "<pre style=\"white-space:pre;overflow-x:auto;line-height:normal;font-family:Menlo,'DejaVu Sans Mono',consolas,'Courier New',monospace\"><span style=\"color: #7fbfbf; text-decoration-color: #7fbfbf\">                    </span><span style=\"color: #000080; text-decoration-color: #000080\">INFO    </span> Performing clustering for <span style=\"color: #808000; text-decoration-color: #808000\">k</span>=<span style=\"color: #008080; text-decoration-color: #008080; font-weight: bold\">23</span>                                         <a href=\"file://C:\\Users\\hao_l\\AppData\\Local\\Temp\\ipykernel_10528\\3115349066.py\" target=\"_blank\"><span style=\"color: #7f7f7f; text-decoration-color: #7f7f7f\">3115349066.py</span></a><span style=\"color: #7f7f7f; text-decoration-color: #7f7f7f\">:</span><a href=\"file://C:\\Users\\hao_l\\AppData\\Local\\Temp\\ipykernel_10528\\3115349066.py#4\" target=\"_blank\"><span style=\"color: #7f7f7f; text-decoration-color: #7f7f7f\">4</span></a>\n",
       "</pre>\n"
      ],
      "text/plain": [
       "\u001b[2;36m                   \u001b[0m\u001b[2;36m \u001b[0m\u001b[34mINFO    \u001b[0m Performing clustering for \u001b[33mk\u001b[0m=\u001b[1;36m23\u001b[0m                                         \u001b]8;id=313187;file://C:\\Users\\hao_l\\AppData\\Local\\Temp\\ipykernel_10528\\3115349066.py\u001b\\\u001b[2m3115349066.py\u001b[0m\u001b]8;;\u001b\\\u001b[2m:\u001b[0m\u001b]8;id=298676;file://C:\\Users\\hao_l\\AppData\\Local\\Temp\\ipykernel_10528\\3115349066.py#4\u001b\\\u001b[2m4\u001b[0m\u001b]8;;\u001b\\\n"
      ]
     },
     "metadata": {},
     "output_type": "display_data"
    },
    {
     "data": {
      "text/html": [
       "<pre style=\"white-space:pre;overflow-x:auto;line-height:normal;font-family:Menlo,'DejaVu Sans Mono',consolas,'Courier New',monospace\"><span style=\"color: #7fbfbf; text-decoration-color: #7fbfbf\">[04/22/23 01:32:18] </span><span style=\"color: #000080; text-decoration-color: #000080\">INFO    </span> <span style=\"color: #808000; text-decoration-color: #808000\">k</span>=<span style=\"color: #008080; text-decoration-color: #008080; font-weight: bold\">23</span>, <span style=\"color: #808000; text-decoration-color: #808000\">cost</span>=<span style=\"color: #008080; text-decoration-color: #008080; font-weight: bold\">111838</span>, <span style=\"color: #808000; text-decoration-color: #808000\">n_iter</span>=<span style=\"color: #008080; text-decoration-color: #008080; font-weight: bold\">87</span>                                           <a href=\"file://C:\\Users\\hao_l\\AppData\\Local\\Temp\\ipykernel_10528\\3115349066.py\" target=\"_blank\"><span style=\"color: #7f7f7f; text-decoration-color: #7f7f7f\">3115349066.py</span></a><span style=\"color: #7f7f7f; text-decoration-color: #7f7f7f\">:</span><a href=\"file://C:\\Users\\hao_l\\AppData\\Local\\Temp\\ipykernel_10528\\3115349066.py#7\" target=\"_blank\"><span style=\"color: #7f7f7f; text-decoration-color: #7f7f7f\">7</span></a>\n",
       "</pre>\n"
      ],
      "text/plain": [
       "\u001b[2;36m[04/22/23 01:32:18]\u001b[0m\u001b[2;36m \u001b[0m\u001b[34mINFO    \u001b[0m \u001b[33mk\u001b[0m=\u001b[1;36m23\u001b[0m, \u001b[33mcost\u001b[0m=\u001b[1;36m111838\u001b[0m, \u001b[33mn_iter\u001b[0m=\u001b[1;36m87\u001b[0m                                           \u001b]8;id=443788;file://C:\\Users\\hao_l\\AppData\\Local\\Temp\\ipykernel_10528\\3115349066.py\u001b\\\u001b[2m3115349066.py\u001b[0m\u001b]8;;\u001b\\\u001b[2m:\u001b[0m\u001b]8;id=420190;file://C:\\Users\\hao_l\\AppData\\Local\\Temp\\ipykernel_10528\\3115349066.py#7\u001b\\\u001b[2m7\u001b[0m\u001b]8;;\u001b\\\n"
      ]
     },
     "metadata": {},
     "output_type": "display_data"
    },
    {
     "data": {
      "text/html": [
       "<pre style=\"white-space:pre;overflow-x:auto;line-height:normal;font-family:Menlo,'DejaVu Sans Mono',consolas,'Courier New',monospace\"><span style=\"color: #7fbfbf; text-decoration-color: #7fbfbf\">                    </span><span style=\"color: #000080; text-decoration-color: #000080\">INFO    </span> Performing clustering for <span style=\"color: #808000; text-decoration-color: #808000\">k</span>=<span style=\"color: #008080; text-decoration-color: #008080; font-weight: bold\">24</span>                                         <a href=\"file://C:\\Users\\hao_l\\AppData\\Local\\Temp\\ipykernel_10528\\3115349066.py\" target=\"_blank\"><span style=\"color: #7f7f7f; text-decoration-color: #7f7f7f\">3115349066.py</span></a><span style=\"color: #7f7f7f; text-decoration-color: #7f7f7f\">:</span><a href=\"file://C:\\Users\\hao_l\\AppData\\Local\\Temp\\ipykernel_10528\\3115349066.py#4\" target=\"_blank\"><span style=\"color: #7f7f7f; text-decoration-color: #7f7f7f\">4</span></a>\n",
       "</pre>\n"
      ],
      "text/plain": [
       "\u001b[2;36m                   \u001b[0m\u001b[2;36m \u001b[0m\u001b[34mINFO    \u001b[0m Performing clustering for \u001b[33mk\u001b[0m=\u001b[1;36m24\u001b[0m                                         \u001b]8;id=511688;file://C:\\Users\\hao_l\\AppData\\Local\\Temp\\ipykernel_10528\\3115349066.py\u001b\\\u001b[2m3115349066.py\u001b[0m\u001b]8;;\u001b\\\u001b[2m:\u001b[0m\u001b]8;id=191176;file://C:\\Users\\hao_l\\AppData\\Local\\Temp\\ipykernel_10528\\3115349066.py#4\u001b\\\u001b[2m4\u001b[0m\u001b]8;;\u001b\\\n"
      ]
     },
     "metadata": {},
     "output_type": "display_data"
    },
    {
     "data": {
      "text/html": [
       "<pre style=\"white-space:pre;overflow-x:auto;line-height:normal;font-family:Menlo,'DejaVu Sans Mono',consolas,'Courier New',monospace\"><span style=\"color: #7fbfbf; text-decoration-color: #7fbfbf\">[04/22/23 01:36:26] </span><span style=\"color: #000080; text-decoration-color: #000080\">INFO    </span> <span style=\"color: #808000; text-decoration-color: #808000\">k</span>=<span style=\"color: #008080; text-decoration-color: #008080; font-weight: bold\">24</span>, <span style=\"color: #808000; text-decoration-color: #808000\">cost</span>=<span style=\"color: #008080; text-decoration-color: #008080; font-weight: bold\">110623</span>, <span style=\"color: #808000; text-decoration-color: #808000\">n_iter</span>=<span style=\"color: #008080; text-decoration-color: #008080; font-weight: bold\">52</span>                                           <a href=\"file://C:\\Users\\hao_l\\AppData\\Local\\Temp\\ipykernel_10528\\3115349066.py\" target=\"_blank\"><span style=\"color: #7f7f7f; text-decoration-color: #7f7f7f\">3115349066.py</span></a><span style=\"color: #7f7f7f; text-decoration-color: #7f7f7f\">:</span><a href=\"file://C:\\Users\\hao_l\\AppData\\Local\\Temp\\ipykernel_10528\\3115349066.py#7\" target=\"_blank\"><span style=\"color: #7f7f7f; text-decoration-color: #7f7f7f\">7</span></a>\n",
       "</pre>\n"
      ],
      "text/plain": [
       "\u001b[2;36m[04/22/23 01:36:26]\u001b[0m\u001b[2;36m \u001b[0m\u001b[34mINFO    \u001b[0m \u001b[33mk\u001b[0m=\u001b[1;36m24\u001b[0m, \u001b[33mcost\u001b[0m=\u001b[1;36m110623\u001b[0m, \u001b[33mn_iter\u001b[0m=\u001b[1;36m52\u001b[0m                                           \u001b]8;id=217940;file://C:\\Users\\hao_l\\AppData\\Local\\Temp\\ipykernel_10528\\3115349066.py\u001b\\\u001b[2m3115349066.py\u001b[0m\u001b]8;;\u001b\\\u001b[2m:\u001b[0m\u001b]8;id=470619;file://C:\\Users\\hao_l\\AppData\\Local\\Temp\\ipykernel_10528\\3115349066.py#7\u001b\\\u001b[2m7\u001b[0m\u001b]8;;\u001b\\\n"
      ]
     },
     "metadata": {},
     "output_type": "display_data"
    },
    {
     "data": {
      "text/html": [
       "<pre style=\"white-space:pre;overflow-x:auto;line-height:normal;font-family:Menlo,'DejaVu Sans Mono',consolas,'Courier New',monospace\"><span style=\"color: #7fbfbf; text-decoration-color: #7fbfbf\">                    </span><span style=\"color: #000080; text-decoration-color: #000080\">INFO    </span> Performing clustering for <span style=\"color: #808000; text-decoration-color: #808000\">k</span>=<span style=\"color: #008080; text-decoration-color: #008080; font-weight: bold\">25</span>                                         <a href=\"file://C:\\Users\\hao_l\\AppData\\Local\\Temp\\ipykernel_10528\\3115349066.py\" target=\"_blank\"><span style=\"color: #7f7f7f; text-decoration-color: #7f7f7f\">3115349066.py</span></a><span style=\"color: #7f7f7f; text-decoration-color: #7f7f7f\">:</span><a href=\"file://C:\\Users\\hao_l\\AppData\\Local\\Temp\\ipykernel_10528\\3115349066.py#4\" target=\"_blank\"><span style=\"color: #7f7f7f; text-decoration-color: #7f7f7f\">4</span></a>\n",
       "</pre>\n"
      ],
      "text/plain": [
       "\u001b[2;36m                   \u001b[0m\u001b[2;36m \u001b[0m\u001b[34mINFO    \u001b[0m Performing clustering for \u001b[33mk\u001b[0m=\u001b[1;36m25\u001b[0m                                         \u001b]8;id=46032;file://C:\\Users\\hao_l\\AppData\\Local\\Temp\\ipykernel_10528\\3115349066.py\u001b\\\u001b[2m3115349066.py\u001b[0m\u001b]8;;\u001b\\\u001b[2m:\u001b[0m\u001b]8;id=880252;file://C:\\Users\\hao_l\\AppData\\Local\\Temp\\ipykernel_10528\\3115349066.py#4\u001b\\\u001b[2m4\u001b[0m\u001b]8;;\u001b\\\n"
      ]
     },
     "metadata": {},
     "output_type": "display_data"
    },
    {
     "data": {
      "text/html": [
       "<pre style=\"white-space:pre;overflow-x:auto;line-height:normal;font-family:Menlo,'DejaVu Sans Mono',consolas,'Courier New',monospace\"><span style=\"color: #7fbfbf; text-decoration-color: #7fbfbf\">[04/22/23 01:41:45] </span><span style=\"color: #000080; text-decoration-color: #000080\">INFO    </span> <span style=\"color: #808000; text-decoration-color: #808000\">k</span>=<span style=\"color: #008080; text-decoration-color: #008080; font-weight: bold\">25</span>, <span style=\"color: #808000; text-decoration-color: #808000\">cost</span>=<span style=\"color: #008080; text-decoration-color: #008080; font-weight: bold\">109643</span>, <span style=\"color: #808000; text-decoration-color: #808000\">n_iter</span>=<span style=\"color: #008080; text-decoration-color: #008080; font-weight: bold\">38</span>                                           <a href=\"file://C:\\Users\\hao_l\\AppData\\Local\\Temp\\ipykernel_10528\\3115349066.py\" target=\"_blank\"><span style=\"color: #7f7f7f; text-decoration-color: #7f7f7f\">3115349066.py</span></a><span style=\"color: #7f7f7f; text-decoration-color: #7f7f7f\">:</span><a href=\"file://C:\\Users\\hao_l\\AppData\\Local\\Temp\\ipykernel_10528\\3115349066.py#7\" target=\"_blank\"><span style=\"color: #7f7f7f; text-decoration-color: #7f7f7f\">7</span></a>\n",
       "</pre>\n"
      ],
      "text/plain": [
       "\u001b[2;36m[04/22/23 01:41:45]\u001b[0m\u001b[2;36m \u001b[0m\u001b[34mINFO    \u001b[0m \u001b[33mk\u001b[0m=\u001b[1;36m25\u001b[0m, \u001b[33mcost\u001b[0m=\u001b[1;36m109643\u001b[0m, \u001b[33mn_iter\u001b[0m=\u001b[1;36m38\u001b[0m                                           \u001b]8;id=36622;file://C:\\Users\\hao_l\\AppData\\Local\\Temp\\ipykernel_10528\\3115349066.py\u001b\\\u001b[2m3115349066.py\u001b[0m\u001b]8;;\u001b\\\u001b[2m:\u001b[0m\u001b]8;id=164523;file://C:\\Users\\hao_l\\AppData\\Local\\Temp\\ipykernel_10528\\3115349066.py#7\u001b\\\u001b[2m7\u001b[0m\u001b]8;;\u001b\\\n"
      ]
     },
     "metadata": {},
     "output_type": "display_data"
    },
    {
     "data": {
      "text/html": [
       "<pre style=\"white-space:pre;overflow-x:auto;line-height:normal;font-family:Menlo,'DejaVu Sans Mono',consolas,'Courier New',monospace\"><span style=\"color: #7fbfbf; text-decoration-color: #7fbfbf\">                    </span><span style=\"color: #000080; text-decoration-color: #000080\">INFO    </span> Performing clustering for <span style=\"color: #808000; text-decoration-color: #808000\">k</span>=<span style=\"color: #008080; text-decoration-color: #008080; font-weight: bold\">26</span>                                         <a href=\"file://C:\\Users\\hao_l\\AppData\\Local\\Temp\\ipykernel_10528\\3115349066.py\" target=\"_blank\"><span style=\"color: #7f7f7f; text-decoration-color: #7f7f7f\">3115349066.py</span></a><span style=\"color: #7f7f7f; text-decoration-color: #7f7f7f\">:</span><a href=\"file://C:\\Users\\hao_l\\AppData\\Local\\Temp\\ipykernel_10528\\3115349066.py#4\" target=\"_blank\"><span style=\"color: #7f7f7f; text-decoration-color: #7f7f7f\">4</span></a>\n",
       "</pre>\n"
      ],
      "text/plain": [
       "\u001b[2;36m                   \u001b[0m\u001b[2;36m \u001b[0m\u001b[34mINFO    \u001b[0m Performing clustering for \u001b[33mk\u001b[0m=\u001b[1;36m26\u001b[0m                                         \u001b]8;id=923285;file://C:\\Users\\hao_l\\AppData\\Local\\Temp\\ipykernel_10528\\3115349066.py\u001b\\\u001b[2m3115349066.py\u001b[0m\u001b]8;;\u001b\\\u001b[2m:\u001b[0m\u001b]8;id=593570;file://C:\\Users\\hao_l\\AppData\\Local\\Temp\\ipykernel_10528\\3115349066.py#4\u001b\\\u001b[2m4\u001b[0m\u001b]8;;\u001b\\\n"
      ]
     },
     "metadata": {},
     "output_type": "display_data"
    },
    {
     "data": {
      "text/html": [
       "<pre style=\"white-space:pre;overflow-x:auto;line-height:normal;font-family:Menlo,'DejaVu Sans Mono',consolas,'Courier New',monospace\"><span style=\"color: #7fbfbf; text-decoration-color: #7fbfbf\">[04/22/23 01:46:23] </span><span style=\"color: #000080; text-decoration-color: #000080\">INFO    </span> <span style=\"color: #808000; text-decoration-color: #808000\">k</span>=<span style=\"color: #008080; text-decoration-color: #008080; font-weight: bold\">26</span>, <span style=\"color: #808000; text-decoration-color: #808000\">cost</span>=<span style=\"color: #008080; text-decoration-color: #008080; font-weight: bold\">108235</span>, <span style=\"color: #808000; text-decoration-color: #808000\">n_iter</span>=<span style=\"color: #008080; text-decoration-color: #008080; font-weight: bold\">65</span>                                           <a href=\"file://C:\\Users\\hao_l\\AppData\\Local\\Temp\\ipykernel_10528\\3115349066.py\" target=\"_blank\"><span style=\"color: #7f7f7f; text-decoration-color: #7f7f7f\">3115349066.py</span></a><span style=\"color: #7f7f7f; text-decoration-color: #7f7f7f\">:</span><a href=\"file://C:\\Users\\hao_l\\AppData\\Local\\Temp\\ipykernel_10528\\3115349066.py#7\" target=\"_blank\"><span style=\"color: #7f7f7f; text-decoration-color: #7f7f7f\">7</span></a>\n",
       "</pre>\n"
      ],
      "text/plain": [
       "\u001b[2;36m[04/22/23 01:46:23]\u001b[0m\u001b[2;36m \u001b[0m\u001b[34mINFO    \u001b[0m \u001b[33mk\u001b[0m=\u001b[1;36m26\u001b[0m, \u001b[33mcost\u001b[0m=\u001b[1;36m108235\u001b[0m, \u001b[33mn_iter\u001b[0m=\u001b[1;36m65\u001b[0m                                           \u001b]8;id=74707;file://C:\\Users\\hao_l\\AppData\\Local\\Temp\\ipykernel_10528\\3115349066.py\u001b\\\u001b[2m3115349066.py\u001b[0m\u001b]8;;\u001b\\\u001b[2m:\u001b[0m\u001b]8;id=967612;file://C:\\Users\\hao_l\\AppData\\Local\\Temp\\ipykernel_10528\\3115349066.py#7\u001b\\\u001b[2m7\u001b[0m\u001b]8;;\u001b\\\n"
      ]
     },
     "metadata": {},
     "output_type": "display_data"
    },
    {
     "data": {
      "text/html": [
       "<pre style=\"white-space:pre;overflow-x:auto;line-height:normal;font-family:Menlo,'DejaVu Sans Mono',consolas,'Courier New',monospace\"><span style=\"color: #7fbfbf; text-decoration-color: #7fbfbf\">                    </span><span style=\"color: #000080; text-decoration-color: #000080\">INFO    </span> Performing clustering for <span style=\"color: #808000; text-decoration-color: #808000\">k</span>=<span style=\"color: #008080; text-decoration-color: #008080; font-weight: bold\">27</span>                                         <a href=\"file://C:\\Users\\hao_l\\AppData\\Local\\Temp\\ipykernel_10528\\3115349066.py\" target=\"_blank\"><span style=\"color: #7f7f7f; text-decoration-color: #7f7f7f\">3115349066.py</span></a><span style=\"color: #7f7f7f; text-decoration-color: #7f7f7f\">:</span><a href=\"file://C:\\Users\\hao_l\\AppData\\Local\\Temp\\ipykernel_10528\\3115349066.py#4\" target=\"_blank\"><span style=\"color: #7f7f7f; text-decoration-color: #7f7f7f\">4</span></a>\n",
       "</pre>\n"
      ],
      "text/plain": [
       "\u001b[2;36m                   \u001b[0m\u001b[2;36m \u001b[0m\u001b[34mINFO    \u001b[0m Performing clustering for \u001b[33mk\u001b[0m=\u001b[1;36m27\u001b[0m                                         \u001b]8;id=797631;file://C:\\Users\\hao_l\\AppData\\Local\\Temp\\ipykernel_10528\\3115349066.py\u001b\\\u001b[2m3115349066.py\u001b[0m\u001b]8;;\u001b\\\u001b[2m:\u001b[0m\u001b]8;id=916643;file://C:\\Users\\hao_l\\AppData\\Local\\Temp\\ipykernel_10528\\3115349066.py#4\u001b\\\u001b[2m4\u001b[0m\u001b]8;;\u001b\\\n"
      ]
     },
     "metadata": {},
     "output_type": "display_data"
    },
    {
     "data": {
      "text/html": [
       "<pre style=\"white-space:pre;overflow-x:auto;line-height:normal;font-family:Menlo,'DejaVu Sans Mono',consolas,'Courier New',monospace\"><span style=\"color: #7fbfbf; text-decoration-color: #7fbfbf\">[04/22/23 01:52:32] </span><span style=\"color: #000080; text-decoration-color: #000080\">INFO    </span> <span style=\"color: #808000; text-decoration-color: #808000\">k</span>=<span style=\"color: #008080; text-decoration-color: #008080; font-weight: bold\">27</span>, <span style=\"color: #808000; text-decoration-color: #808000\">cost</span>=<span style=\"color: #008080; text-decoration-color: #008080; font-weight: bold\">107278</span>, <span style=\"color: #808000; text-decoration-color: #808000\">n_iter</span>=<span style=\"color: #008080; text-decoration-color: #008080; font-weight: bold\">94</span>                                           <a href=\"file://C:\\Users\\hao_l\\AppData\\Local\\Temp\\ipykernel_10528\\3115349066.py\" target=\"_blank\"><span style=\"color: #7f7f7f; text-decoration-color: #7f7f7f\">3115349066.py</span></a><span style=\"color: #7f7f7f; text-decoration-color: #7f7f7f\">:</span><a href=\"file://C:\\Users\\hao_l\\AppData\\Local\\Temp\\ipykernel_10528\\3115349066.py#7\" target=\"_blank\"><span style=\"color: #7f7f7f; text-decoration-color: #7f7f7f\">7</span></a>\n",
       "</pre>\n"
      ],
      "text/plain": [
       "\u001b[2;36m[04/22/23 01:52:32]\u001b[0m\u001b[2;36m \u001b[0m\u001b[34mINFO    \u001b[0m \u001b[33mk\u001b[0m=\u001b[1;36m27\u001b[0m, \u001b[33mcost\u001b[0m=\u001b[1;36m107278\u001b[0m, \u001b[33mn_iter\u001b[0m=\u001b[1;36m94\u001b[0m                                           \u001b]8;id=491033;file://C:\\Users\\hao_l\\AppData\\Local\\Temp\\ipykernel_10528\\3115349066.py\u001b\\\u001b[2m3115349066.py\u001b[0m\u001b]8;;\u001b\\\u001b[2m:\u001b[0m\u001b]8;id=335388;file://C:\\Users\\hao_l\\AppData\\Local\\Temp\\ipykernel_10528\\3115349066.py#7\u001b\\\u001b[2m7\u001b[0m\u001b]8;;\u001b\\\n"
      ]
     },
     "metadata": {},
     "output_type": "display_data"
    },
    {
     "data": {
      "text/html": [
       "<pre style=\"white-space:pre;overflow-x:auto;line-height:normal;font-family:Menlo,'DejaVu Sans Mono',consolas,'Courier New',monospace\"><span style=\"color: #7fbfbf; text-decoration-color: #7fbfbf\">                    </span><span style=\"color: #000080; text-decoration-color: #000080\">INFO    </span> Performing clustering for <span style=\"color: #808000; text-decoration-color: #808000\">k</span>=<span style=\"color: #008080; text-decoration-color: #008080; font-weight: bold\">28</span>                                         <a href=\"file://C:\\Users\\hao_l\\AppData\\Local\\Temp\\ipykernel_10528\\3115349066.py\" target=\"_blank\"><span style=\"color: #7f7f7f; text-decoration-color: #7f7f7f\">3115349066.py</span></a><span style=\"color: #7f7f7f; text-decoration-color: #7f7f7f\">:</span><a href=\"file://C:\\Users\\hao_l\\AppData\\Local\\Temp\\ipykernel_10528\\3115349066.py#4\" target=\"_blank\"><span style=\"color: #7f7f7f; text-decoration-color: #7f7f7f\">4</span></a>\n",
       "</pre>\n"
      ],
      "text/plain": [
       "\u001b[2;36m                   \u001b[0m\u001b[2;36m \u001b[0m\u001b[34mINFO    \u001b[0m Performing clustering for \u001b[33mk\u001b[0m=\u001b[1;36m28\u001b[0m                                         \u001b]8;id=364180;file://C:\\Users\\hao_l\\AppData\\Local\\Temp\\ipykernel_10528\\3115349066.py\u001b\\\u001b[2m3115349066.py\u001b[0m\u001b]8;;\u001b\\\u001b[2m:\u001b[0m\u001b]8;id=455206;file://C:\\Users\\hao_l\\AppData\\Local\\Temp\\ipykernel_10528\\3115349066.py#4\u001b\\\u001b[2m4\u001b[0m\u001b]8;;\u001b\\\n"
      ]
     },
     "metadata": {},
     "output_type": "display_data"
    },
    {
     "data": {
      "text/html": [
       "<pre style=\"white-space:pre;overflow-x:auto;line-height:normal;font-family:Menlo,'DejaVu Sans Mono',consolas,'Courier New',monospace\"><span style=\"color: #7fbfbf; text-decoration-color: #7fbfbf\">[04/22/23 01:57:16] </span><span style=\"color: #000080; text-decoration-color: #000080\">INFO    </span> <span style=\"color: #808000; text-decoration-color: #808000\">k</span>=<span style=\"color: #008080; text-decoration-color: #008080; font-weight: bold\">28</span>, <span style=\"color: #808000; text-decoration-color: #808000\">cost</span>=<span style=\"color: #008080; text-decoration-color: #008080; font-weight: bold\">105921</span>, <span style=\"color: #808000; text-decoration-color: #808000\">n_iter</span>=<span style=\"color: #008080; text-decoration-color: #008080; font-weight: bold\">54</span>                                           <a href=\"file://C:\\Users\\hao_l\\AppData\\Local\\Temp\\ipykernel_10528\\3115349066.py\" target=\"_blank\"><span style=\"color: #7f7f7f; text-decoration-color: #7f7f7f\">3115349066.py</span></a><span style=\"color: #7f7f7f; text-decoration-color: #7f7f7f\">:</span><a href=\"file://C:\\Users\\hao_l\\AppData\\Local\\Temp\\ipykernel_10528\\3115349066.py#7\" target=\"_blank\"><span style=\"color: #7f7f7f; text-decoration-color: #7f7f7f\">7</span></a>\n",
       "</pre>\n"
      ],
      "text/plain": [
       "\u001b[2;36m[04/22/23 01:57:16]\u001b[0m\u001b[2;36m \u001b[0m\u001b[34mINFO    \u001b[0m \u001b[33mk\u001b[0m=\u001b[1;36m28\u001b[0m, \u001b[33mcost\u001b[0m=\u001b[1;36m105921\u001b[0m, \u001b[33mn_iter\u001b[0m=\u001b[1;36m54\u001b[0m                                           \u001b]8;id=964014;file://C:\\Users\\hao_l\\AppData\\Local\\Temp\\ipykernel_10528\\3115349066.py\u001b\\\u001b[2m3115349066.py\u001b[0m\u001b]8;;\u001b\\\u001b[2m:\u001b[0m\u001b]8;id=756342;file://C:\\Users\\hao_l\\AppData\\Local\\Temp\\ipykernel_10528\\3115349066.py#7\u001b\\\u001b[2m7\u001b[0m\u001b]8;;\u001b\\\n"
      ]
     },
     "metadata": {},
     "output_type": "display_data"
    },
    {
     "data": {
      "text/html": [
       "<pre style=\"white-space:pre;overflow-x:auto;line-height:normal;font-family:Menlo,'DejaVu Sans Mono',consolas,'Courier New',monospace\"><span style=\"color: #7fbfbf; text-decoration-color: #7fbfbf\">                    </span><span style=\"color: #000080; text-decoration-color: #000080\">INFO    </span> Performing clustering for <span style=\"color: #808000; text-decoration-color: #808000\">k</span>=<span style=\"color: #008080; text-decoration-color: #008080; font-weight: bold\">29</span>                                         <a href=\"file://C:\\Users\\hao_l\\AppData\\Local\\Temp\\ipykernel_10528\\3115349066.py\" target=\"_blank\"><span style=\"color: #7f7f7f; text-decoration-color: #7f7f7f\">3115349066.py</span></a><span style=\"color: #7f7f7f; text-decoration-color: #7f7f7f\">:</span><a href=\"file://C:\\Users\\hao_l\\AppData\\Local\\Temp\\ipykernel_10528\\3115349066.py#4\" target=\"_blank\"><span style=\"color: #7f7f7f; text-decoration-color: #7f7f7f\">4</span></a>\n",
       "</pre>\n"
      ],
      "text/plain": [
       "\u001b[2;36m                   \u001b[0m\u001b[2;36m \u001b[0m\u001b[34mINFO    \u001b[0m Performing clustering for \u001b[33mk\u001b[0m=\u001b[1;36m29\u001b[0m                                         \u001b]8;id=408163;file://C:\\Users\\hao_l\\AppData\\Local\\Temp\\ipykernel_10528\\3115349066.py\u001b\\\u001b[2m3115349066.py\u001b[0m\u001b]8;;\u001b\\\u001b[2m:\u001b[0m\u001b]8;id=850899;file://C:\\Users\\hao_l\\AppData\\Local\\Temp\\ipykernel_10528\\3115349066.py#4\u001b\\\u001b[2m4\u001b[0m\u001b]8;;\u001b\\\n"
      ]
     },
     "metadata": {},
     "output_type": "display_data"
    },
    {
     "data": {
      "text/html": [
       "<pre style=\"white-space:pre;overflow-x:auto;line-height:normal;font-family:Menlo,'DejaVu Sans Mono',consolas,'Courier New',monospace\"><span style=\"color: #7fbfbf; text-decoration-color: #7fbfbf\">[04/22/23 02:04:00] </span><span style=\"color: #000080; text-decoration-color: #000080\">INFO    </span> <span style=\"color: #808000; text-decoration-color: #808000\">k</span>=<span style=\"color: #008080; text-decoration-color: #008080; font-weight: bold\">29</span>, <span style=\"color: #808000; text-decoration-color: #808000\">cost</span>=<span style=\"color: #008080; text-decoration-color: #008080; font-weight: bold\">105157</span>, <span style=\"color: #808000; text-decoration-color: #808000\">n_iter</span>=<span style=\"color: #008080; text-decoration-color: #008080; font-weight: bold\">40</span>                                           <a href=\"file://C:\\Users\\hao_l\\AppData\\Local\\Temp\\ipykernel_10528\\3115349066.py\" target=\"_blank\"><span style=\"color: #7f7f7f; text-decoration-color: #7f7f7f\">3115349066.py</span></a><span style=\"color: #7f7f7f; text-decoration-color: #7f7f7f\">:</span><a href=\"file://C:\\Users\\hao_l\\AppData\\Local\\Temp\\ipykernel_10528\\3115349066.py#7\" target=\"_blank\"><span style=\"color: #7f7f7f; text-decoration-color: #7f7f7f\">7</span></a>\n",
       "</pre>\n"
      ],
      "text/plain": [
       "\u001b[2;36m[04/22/23 02:04:00]\u001b[0m\u001b[2;36m \u001b[0m\u001b[34mINFO    \u001b[0m \u001b[33mk\u001b[0m=\u001b[1;36m29\u001b[0m, \u001b[33mcost\u001b[0m=\u001b[1;36m105157\u001b[0m, \u001b[33mn_iter\u001b[0m=\u001b[1;36m40\u001b[0m                                           \u001b]8;id=642824;file://C:\\Users\\hao_l\\AppData\\Local\\Temp\\ipykernel_10528\\3115349066.py\u001b\\\u001b[2m3115349066.py\u001b[0m\u001b]8;;\u001b\\\u001b[2m:\u001b[0m\u001b]8;id=303550;file://C:\\Users\\hao_l\\AppData\\Local\\Temp\\ipykernel_10528\\3115349066.py#7\u001b\\\u001b[2m7\u001b[0m\u001b]8;;\u001b\\\n"
      ]
     },
     "metadata": {},
     "output_type": "display_data"
    },
    {
     "data": {
      "text/html": [
       "<pre style=\"white-space:pre;overflow-x:auto;line-height:normal;font-family:Menlo,'DejaVu Sans Mono',consolas,'Courier New',monospace\"><span style=\"color: #7fbfbf; text-decoration-color: #7fbfbf\">                    </span><span style=\"color: #000080; text-decoration-color: #000080\">INFO    </span> Performing clustering for <span style=\"color: #808000; text-decoration-color: #808000\">k</span>=<span style=\"color: #008080; text-decoration-color: #008080; font-weight: bold\">30</span>                                         <a href=\"file://C:\\Users\\hao_l\\AppData\\Local\\Temp\\ipykernel_10528\\3115349066.py\" target=\"_blank\"><span style=\"color: #7f7f7f; text-decoration-color: #7f7f7f\">3115349066.py</span></a><span style=\"color: #7f7f7f; text-decoration-color: #7f7f7f\">:</span><a href=\"file://C:\\Users\\hao_l\\AppData\\Local\\Temp\\ipykernel_10528\\3115349066.py#4\" target=\"_blank\"><span style=\"color: #7f7f7f; text-decoration-color: #7f7f7f\">4</span></a>\n",
       "</pre>\n"
      ],
      "text/plain": [
       "\u001b[2;36m                   \u001b[0m\u001b[2;36m \u001b[0m\u001b[34mINFO    \u001b[0m Performing clustering for \u001b[33mk\u001b[0m=\u001b[1;36m30\u001b[0m                                         \u001b]8;id=474451;file://C:\\Users\\hao_l\\AppData\\Local\\Temp\\ipykernel_10528\\3115349066.py\u001b\\\u001b[2m3115349066.py\u001b[0m\u001b]8;;\u001b\\\u001b[2m:\u001b[0m\u001b]8;id=599929;file://C:\\Users\\hao_l\\AppData\\Local\\Temp\\ipykernel_10528\\3115349066.py#4\u001b\\\u001b[2m4\u001b[0m\u001b]8;;\u001b\\\n"
      ]
     },
     "metadata": {},
     "output_type": "display_data"
    },
    {
     "data": {
      "text/html": [
       "<pre style=\"white-space:pre;overflow-x:auto;line-height:normal;font-family:Menlo,'DejaVu Sans Mono',consolas,'Courier New',monospace\"><span style=\"color: #7fbfbf; text-decoration-color: #7fbfbf\">[04/22/23 02:10:36] </span><span style=\"color: #000080; text-decoration-color: #000080\">INFO    </span> <span style=\"color: #808000; text-decoration-color: #808000\">k</span>=<span style=\"color: #008080; text-decoration-color: #008080; font-weight: bold\">30</span>, <span style=\"color: #808000; text-decoration-color: #808000\">cost</span>=<span style=\"color: #008080; text-decoration-color: #008080; font-weight: bold\">104259</span>, <span style=\"color: #808000; text-decoration-color: #808000\">n_iter</span>=<span style=\"color: #008080; text-decoration-color: #008080; font-weight: bold\">37</span>                                           <a href=\"file://C:\\Users\\hao_l\\AppData\\Local\\Temp\\ipykernel_10528\\3115349066.py\" target=\"_blank\"><span style=\"color: #7f7f7f; text-decoration-color: #7f7f7f\">3115349066.py</span></a><span style=\"color: #7f7f7f; text-decoration-color: #7f7f7f\">:</span><a href=\"file://C:\\Users\\hao_l\\AppData\\Local\\Temp\\ipykernel_10528\\3115349066.py#7\" target=\"_blank\"><span style=\"color: #7f7f7f; text-decoration-color: #7f7f7f\">7</span></a>\n",
       "</pre>\n"
      ],
      "text/plain": [
       "\u001b[2;36m[04/22/23 02:10:36]\u001b[0m\u001b[2;36m \u001b[0m\u001b[34mINFO    \u001b[0m \u001b[33mk\u001b[0m=\u001b[1;36m30\u001b[0m, \u001b[33mcost\u001b[0m=\u001b[1;36m104259\u001b[0m, \u001b[33mn_iter\u001b[0m=\u001b[1;36m37\u001b[0m                                           \u001b]8;id=903723;file://C:\\Users\\hao_l\\AppData\\Local\\Temp\\ipykernel_10528\\3115349066.py\u001b\\\u001b[2m3115349066.py\u001b[0m\u001b]8;;\u001b\\\u001b[2m:\u001b[0m\u001b]8;id=489333;file://C:\\Users\\hao_l\\AppData\\Local\\Temp\\ipykernel_10528\\3115349066.py#7\u001b\\\u001b[2m7\u001b[0m\u001b]8;;\u001b\\\n"
      ]
     },
     "metadata": {},
     "output_type": "display_data"
    },
    {
     "data": {
      "text/html": [
       "<pre style=\"white-space:pre;overflow-x:auto;line-height:normal;font-family:Menlo,'DejaVu Sans Mono',consolas,'Courier New',monospace\"><span style=\"color: #7fbfbf; text-decoration-color: #7fbfbf\">                    </span><span style=\"color: #000080; text-decoration-color: #000080\">INFO    </span> Performing clustering for <span style=\"color: #808000; text-decoration-color: #808000\">k</span>=<span style=\"color: #008080; text-decoration-color: #008080; font-weight: bold\">31</span>                                         <a href=\"file://C:\\Users\\hao_l\\AppData\\Local\\Temp\\ipykernel_10528\\3115349066.py\" target=\"_blank\"><span style=\"color: #7f7f7f; text-decoration-color: #7f7f7f\">3115349066.py</span></a><span style=\"color: #7f7f7f; text-decoration-color: #7f7f7f\">:</span><a href=\"file://C:\\Users\\hao_l\\AppData\\Local\\Temp\\ipykernel_10528\\3115349066.py#4\" target=\"_blank\"><span style=\"color: #7f7f7f; text-decoration-color: #7f7f7f\">4</span></a>\n",
       "</pre>\n"
      ],
      "text/plain": [
       "\u001b[2;36m                   \u001b[0m\u001b[2;36m \u001b[0m\u001b[34mINFO    \u001b[0m Performing clustering for \u001b[33mk\u001b[0m=\u001b[1;36m31\u001b[0m                                         \u001b]8;id=931588;file://C:\\Users\\hao_l\\AppData\\Local\\Temp\\ipykernel_10528\\3115349066.py\u001b\\\u001b[2m3115349066.py\u001b[0m\u001b]8;;\u001b\\\u001b[2m:\u001b[0m\u001b]8;id=97207;file://C:\\Users\\hao_l\\AppData\\Local\\Temp\\ipykernel_10528\\3115349066.py#4\u001b\\\u001b[2m4\u001b[0m\u001b]8;;\u001b\\\n"
      ]
     },
     "metadata": {},
     "output_type": "display_data"
    },
    {
     "data": {
      "text/html": [
       "<pre style=\"white-space:pre;overflow-x:auto;line-height:normal;font-family:Menlo,'DejaVu Sans Mono',consolas,'Courier New',monospace\"><span style=\"color: #7fbfbf; text-decoration-color: #7fbfbf\">[04/22/23 02:15:58] </span><span style=\"color: #000080; text-decoration-color: #000080\">INFO    </span> <span style=\"color: #808000; text-decoration-color: #808000\">k</span>=<span style=\"color: #008080; text-decoration-color: #008080; font-weight: bold\">31</span>, <span style=\"color: #808000; text-decoration-color: #808000\">cost</span>=<span style=\"color: #008080; text-decoration-color: #008080; font-weight: bold\">103287</span>, <span style=\"color: #808000; text-decoration-color: #808000\">n_iter</span>=<span style=\"color: #008080; text-decoration-color: #008080; font-weight: bold\">41</span>                                           <a href=\"file://C:\\Users\\hao_l\\AppData\\Local\\Temp\\ipykernel_10528\\3115349066.py\" target=\"_blank\"><span style=\"color: #7f7f7f; text-decoration-color: #7f7f7f\">3115349066.py</span></a><span style=\"color: #7f7f7f; text-decoration-color: #7f7f7f\">:</span><a href=\"file://C:\\Users\\hao_l\\AppData\\Local\\Temp\\ipykernel_10528\\3115349066.py#7\" target=\"_blank\"><span style=\"color: #7f7f7f; text-decoration-color: #7f7f7f\">7</span></a>\n",
       "</pre>\n"
      ],
      "text/plain": [
       "\u001b[2;36m[04/22/23 02:15:58]\u001b[0m\u001b[2;36m \u001b[0m\u001b[34mINFO    \u001b[0m \u001b[33mk\u001b[0m=\u001b[1;36m31\u001b[0m, \u001b[33mcost\u001b[0m=\u001b[1;36m103287\u001b[0m, \u001b[33mn_iter\u001b[0m=\u001b[1;36m41\u001b[0m                                           \u001b]8;id=928792;file://C:\\Users\\hao_l\\AppData\\Local\\Temp\\ipykernel_10528\\3115349066.py\u001b\\\u001b[2m3115349066.py\u001b[0m\u001b]8;;\u001b\\\u001b[2m:\u001b[0m\u001b]8;id=720552;file://C:\\Users\\hao_l\\AppData\\Local\\Temp\\ipykernel_10528\\3115349066.py#7\u001b\\\u001b[2m7\u001b[0m\u001b]8;;\u001b\\\n"
      ]
     },
     "metadata": {},
     "output_type": "display_data"
    },
    {
     "data": {
      "text/html": [
       "<pre style=\"white-space:pre;overflow-x:auto;line-height:normal;font-family:Menlo,'DejaVu Sans Mono',consolas,'Courier New',monospace\"><span style=\"color: #7fbfbf; text-decoration-color: #7fbfbf\">                    </span><span style=\"color: #000080; text-decoration-color: #000080\">INFO    </span> Performing clustering for <span style=\"color: #808000; text-decoration-color: #808000\">k</span>=<span style=\"color: #008080; text-decoration-color: #008080; font-weight: bold\">32</span>                                         <a href=\"file://C:\\Users\\hao_l\\AppData\\Local\\Temp\\ipykernel_10528\\3115349066.py\" target=\"_blank\"><span style=\"color: #7f7f7f; text-decoration-color: #7f7f7f\">3115349066.py</span></a><span style=\"color: #7f7f7f; text-decoration-color: #7f7f7f\">:</span><a href=\"file://C:\\Users\\hao_l\\AppData\\Local\\Temp\\ipykernel_10528\\3115349066.py#4\" target=\"_blank\"><span style=\"color: #7f7f7f; text-decoration-color: #7f7f7f\">4</span></a>\n",
       "</pre>\n"
      ],
      "text/plain": [
       "\u001b[2;36m                   \u001b[0m\u001b[2;36m \u001b[0m\u001b[34mINFO    \u001b[0m Performing clustering for \u001b[33mk\u001b[0m=\u001b[1;36m32\u001b[0m                                         \u001b]8;id=741223;file://C:\\Users\\hao_l\\AppData\\Local\\Temp\\ipykernel_10528\\3115349066.py\u001b\\\u001b[2m3115349066.py\u001b[0m\u001b]8;;\u001b\\\u001b[2m:\u001b[0m\u001b]8;id=350604;file://C:\\Users\\hao_l\\AppData\\Local\\Temp\\ipykernel_10528\\3115349066.py#4\u001b\\\u001b[2m4\u001b[0m\u001b]8;;\u001b\\\n"
      ]
     },
     "metadata": {},
     "output_type": "display_data"
    },
    {
     "data": {
      "text/html": [
       "<pre style=\"white-space:pre;overflow-x:auto;line-height:normal;font-family:Menlo,'DejaVu Sans Mono',consolas,'Courier New',monospace\"><span style=\"color: #7fbfbf; text-decoration-color: #7fbfbf\">[04/22/23 02:21:50] </span><span style=\"color: #000080; text-decoration-color: #000080\">INFO    </span> <span style=\"color: #808000; text-decoration-color: #808000\">k</span>=<span style=\"color: #008080; text-decoration-color: #008080; font-weight: bold\">32</span>, <span style=\"color: #808000; text-decoration-color: #808000\">cost</span>=<span style=\"color: #008080; text-decoration-color: #008080; font-weight: bold\">102349</span>, <span style=\"color: #808000; text-decoration-color: #808000\">n_iter</span>=<span style=\"color: #008080; text-decoration-color: #008080; font-weight: bold\">51</span>                                           <a href=\"file://C:\\Users\\hao_l\\AppData\\Local\\Temp\\ipykernel_10528\\3115349066.py\" target=\"_blank\"><span style=\"color: #7f7f7f; text-decoration-color: #7f7f7f\">3115349066.py</span></a><span style=\"color: #7f7f7f; text-decoration-color: #7f7f7f\">:</span><a href=\"file://C:\\Users\\hao_l\\AppData\\Local\\Temp\\ipykernel_10528\\3115349066.py#7\" target=\"_blank\"><span style=\"color: #7f7f7f; text-decoration-color: #7f7f7f\">7</span></a>\n",
       "</pre>\n"
      ],
      "text/plain": [
       "\u001b[2;36m[04/22/23 02:21:50]\u001b[0m\u001b[2;36m \u001b[0m\u001b[34mINFO    \u001b[0m \u001b[33mk\u001b[0m=\u001b[1;36m32\u001b[0m, \u001b[33mcost\u001b[0m=\u001b[1;36m102349\u001b[0m, \u001b[33mn_iter\u001b[0m=\u001b[1;36m51\u001b[0m                                           \u001b]8;id=433112;file://C:\\Users\\hao_l\\AppData\\Local\\Temp\\ipykernel_10528\\3115349066.py\u001b\\\u001b[2m3115349066.py\u001b[0m\u001b]8;;\u001b\\\u001b[2m:\u001b[0m\u001b]8;id=192982;file://C:\\Users\\hao_l\\AppData\\Local\\Temp\\ipykernel_10528\\3115349066.py#7\u001b\\\u001b[2m7\u001b[0m\u001b]8;;\u001b\\\n"
      ]
     },
     "metadata": {},
     "output_type": "display_data"
    },
    {
     "data": {
      "text/html": [
       "<pre style=\"white-space:pre;overflow-x:auto;line-height:normal;font-family:Menlo,'DejaVu Sans Mono',consolas,'Courier New',monospace\"><span style=\"color: #7fbfbf; text-decoration-color: #7fbfbf\">                    </span><span style=\"color: #000080; text-decoration-color: #000080\">INFO    </span> Performing clustering for <span style=\"color: #808000; text-decoration-color: #808000\">k</span>=<span style=\"color: #008080; text-decoration-color: #008080; font-weight: bold\">33</span>                                         <a href=\"file://C:\\Users\\hao_l\\AppData\\Local\\Temp\\ipykernel_10528\\3115349066.py\" target=\"_blank\"><span style=\"color: #7f7f7f; text-decoration-color: #7f7f7f\">3115349066.py</span></a><span style=\"color: #7f7f7f; text-decoration-color: #7f7f7f\">:</span><a href=\"file://C:\\Users\\hao_l\\AppData\\Local\\Temp\\ipykernel_10528\\3115349066.py#4\" target=\"_blank\"><span style=\"color: #7f7f7f; text-decoration-color: #7f7f7f\">4</span></a>\n",
       "</pre>\n"
      ],
      "text/plain": [
       "\u001b[2;36m                   \u001b[0m\u001b[2;36m \u001b[0m\u001b[34mINFO    \u001b[0m Performing clustering for \u001b[33mk\u001b[0m=\u001b[1;36m33\u001b[0m                                         \u001b]8;id=407640;file://C:\\Users\\hao_l\\AppData\\Local\\Temp\\ipykernel_10528\\3115349066.py\u001b\\\u001b[2m3115349066.py\u001b[0m\u001b]8;;\u001b\\\u001b[2m:\u001b[0m\u001b]8;id=148971;file://C:\\Users\\hao_l\\AppData\\Local\\Temp\\ipykernel_10528\\3115349066.py#4\u001b\\\u001b[2m4\u001b[0m\u001b]8;;\u001b\\\n"
      ]
     },
     "metadata": {},
     "output_type": "display_data"
    },
    {
     "data": {
      "text/html": [
       "<pre style=\"white-space:pre;overflow-x:auto;line-height:normal;font-family:Menlo,'DejaVu Sans Mono',consolas,'Courier New',monospace\"><span style=\"color: #7fbfbf; text-decoration-color: #7fbfbf\">[04/22/23 02:28:36] </span><span style=\"color: #000080; text-decoration-color: #000080\">INFO    </span> <span style=\"color: #808000; text-decoration-color: #808000\">k</span>=<span style=\"color: #008080; text-decoration-color: #008080; font-weight: bold\">33</span>, <span style=\"color: #808000; text-decoration-color: #808000\">cost</span>=<span style=\"color: #008080; text-decoration-color: #008080; font-weight: bold\">101516</span>, <span style=\"color: #808000; text-decoration-color: #808000\">n_iter</span>=<span style=\"color: #008080; text-decoration-color: #008080; font-weight: bold\">62</span>                                           <a href=\"file://C:\\Users\\hao_l\\AppData\\Local\\Temp\\ipykernel_10528\\3115349066.py\" target=\"_blank\"><span style=\"color: #7f7f7f; text-decoration-color: #7f7f7f\">3115349066.py</span></a><span style=\"color: #7f7f7f; text-decoration-color: #7f7f7f\">:</span><a href=\"file://C:\\Users\\hao_l\\AppData\\Local\\Temp\\ipykernel_10528\\3115349066.py#7\" target=\"_blank\"><span style=\"color: #7f7f7f; text-decoration-color: #7f7f7f\">7</span></a>\n",
       "</pre>\n"
      ],
      "text/plain": [
       "\u001b[2;36m[04/22/23 02:28:36]\u001b[0m\u001b[2;36m \u001b[0m\u001b[34mINFO    \u001b[0m \u001b[33mk\u001b[0m=\u001b[1;36m33\u001b[0m, \u001b[33mcost\u001b[0m=\u001b[1;36m101516\u001b[0m, \u001b[33mn_iter\u001b[0m=\u001b[1;36m62\u001b[0m                                           \u001b]8;id=898121;file://C:\\Users\\hao_l\\AppData\\Local\\Temp\\ipykernel_10528\\3115349066.py\u001b\\\u001b[2m3115349066.py\u001b[0m\u001b]8;;\u001b\\\u001b[2m:\u001b[0m\u001b]8;id=929921;file://C:\\Users\\hao_l\\AppData\\Local\\Temp\\ipykernel_10528\\3115349066.py#7\u001b\\\u001b[2m7\u001b[0m\u001b]8;;\u001b\\\n"
      ]
     },
     "metadata": {},
     "output_type": "display_data"
    },
    {
     "data": {
      "text/html": [
       "<pre style=\"white-space:pre;overflow-x:auto;line-height:normal;font-family:Menlo,'DejaVu Sans Mono',consolas,'Courier New',monospace\"><span style=\"color: #7fbfbf; text-decoration-color: #7fbfbf\">                    </span><span style=\"color: #000080; text-decoration-color: #000080\">INFO    </span> Performing clustering for <span style=\"color: #808000; text-decoration-color: #808000\">k</span>=<span style=\"color: #008080; text-decoration-color: #008080; font-weight: bold\">34</span>                                         <a href=\"file://C:\\Users\\hao_l\\AppData\\Local\\Temp\\ipykernel_10528\\3115349066.py\" target=\"_blank\"><span style=\"color: #7f7f7f; text-decoration-color: #7f7f7f\">3115349066.py</span></a><span style=\"color: #7f7f7f; text-decoration-color: #7f7f7f\">:</span><a href=\"file://C:\\Users\\hao_l\\AppData\\Local\\Temp\\ipykernel_10528\\3115349066.py#4\" target=\"_blank\"><span style=\"color: #7f7f7f; text-decoration-color: #7f7f7f\">4</span></a>\n",
       "</pre>\n"
      ],
      "text/plain": [
       "\u001b[2;36m                   \u001b[0m\u001b[2;36m \u001b[0m\u001b[34mINFO    \u001b[0m Performing clustering for \u001b[33mk\u001b[0m=\u001b[1;36m34\u001b[0m                                         \u001b]8;id=311431;file://C:\\Users\\hao_l\\AppData\\Local\\Temp\\ipykernel_10528\\3115349066.py\u001b\\\u001b[2m3115349066.py\u001b[0m\u001b]8;;\u001b\\\u001b[2m:\u001b[0m\u001b]8;id=968743;file://C:\\Users\\hao_l\\AppData\\Local\\Temp\\ipykernel_10528\\3115349066.py#4\u001b\\\u001b[2m4\u001b[0m\u001b]8;;\u001b\\\n"
      ]
     },
     "metadata": {},
     "output_type": "display_data"
    },
    {
     "data": {
      "text/html": [
       "<pre style=\"white-space:pre;overflow-x:auto;line-height:normal;font-family:Menlo,'DejaVu Sans Mono',consolas,'Courier New',monospace\"><span style=\"color: #7fbfbf; text-decoration-color: #7fbfbf\">[04/22/23 02:34:33] </span><span style=\"color: #000080; text-decoration-color: #000080\">INFO    </span> <span style=\"color: #808000; text-decoration-color: #808000\">k</span>=<span style=\"color: #008080; text-decoration-color: #008080; font-weight: bold\">34</span>, <span style=\"color: #808000; text-decoration-color: #808000\">cost</span>=<span style=\"color: #008080; text-decoration-color: #008080; font-weight: bold\">100742</span>, <span style=\"color: #808000; text-decoration-color: #808000\">n_iter</span>=<span style=\"color: #008080; text-decoration-color: #008080; font-weight: bold\">29</span>                                           <a href=\"file://C:\\Users\\hao_l\\AppData\\Local\\Temp\\ipykernel_10528\\3115349066.py\" target=\"_blank\"><span style=\"color: #7f7f7f; text-decoration-color: #7f7f7f\">3115349066.py</span></a><span style=\"color: #7f7f7f; text-decoration-color: #7f7f7f\">:</span><a href=\"file://C:\\Users\\hao_l\\AppData\\Local\\Temp\\ipykernel_10528\\3115349066.py#7\" target=\"_blank\"><span style=\"color: #7f7f7f; text-decoration-color: #7f7f7f\">7</span></a>\n",
       "</pre>\n"
      ],
      "text/plain": [
       "\u001b[2;36m[04/22/23 02:34:33]\u001b[0m\u001b[2;36m \u001b[0m\u001b[34mINFO    \u001b[0m \u001b[33mk\u001b[0m=\u001b[1;36m34\u001b[0m, \u001b[33mcost\u001b[0m=\u001b[1;36m100742\u001b[0m, \u001b[33mn_iter\u001b[0m=\u001b[1;36m29\u001b[0m                                           \u001b]8;id=316425;file://C:\\Users\\hao_l\\AppData\\Local\\Temp\\ipykernel_10528\\3115349066.py\u001b\\\u001b[2m3115349066.py\u001b[0m\u001b]8;;\u001b\\\u001b[2m:\u001b[0m\u001b]8;id=60855;file://C:\\Users\\hao_l\\AppData\\Local\\Temp\\ipykernel_10528\\3115349066.py#7\u001b\\\u001b[2m7\u001b[0m\u001b]8;;\u001b\\\n"
      ]
     },
     "metadata": {},
     "output_type": "display_data"
    },
    {
     "data": {
      "text/html": [
       "<pre style=\"white-space:pre;overflow-x:auto;line-height:normal;font-family:Menlo,'DejaVu Sans Mono',consolas,'Courier New',monospace\"><span style=\"color: #7fbfbf; text-decoration-color: #7fbfbf\">                    </span><span style=\"color: #000080; text-decoration-color: #000080\">INFO    </span> Performing clustering for <span style=\"color: #808000; text-decoration-color: #808000\">k</span>=<span style=\"color: #008080; text-decoration-color: #008080; font-weight: bold\">35</span>                                         <a href=\"file://C:\\Users\\hao_l\\AppData\\Local\\Temp\\ipykernel_10528\\3115349066.py\" target=\"_blank\"><span style=\"color: #7f7f7f; text-decoration-color: #7f7f7f\">3115349066.py</span></a><span style=\"color: #7f7f7f; text-decoration-color: #7f7f7f\">:</span><a href=\"file://C:\\Users\\hao_l\\AppData\\Local\\Temp\\ipykernel_10528\\3115349066.py#4\" target=\"_blank\"><span style=\"color: #7f7f7f; text-decoration-color: #7f7f7f\">4</span></a>\n",
       "</pre>\n"
      ],
      "text/plain": [
       "\u001b[2;36m                   \u001b[0m\u001b[2;36m \u001b[0m\u001b[34mINFO    \u001b[0m Performing clustering for \u001b[33mk\u001b[0m=\u001b[1;36m35\u001b[0m                                         \u001b]8;id=963114;file://C:\\Users\\hao_l\\AppData\\Local\\Temp\\ipykernel_10528\\3115349066.py\u001b\\\u001b[2m3115349066.py\u001b[0m\u001b]8;;\u001b\\\u001b[2m:\u001b[0m\u001b]8;id=541843;file://C:\\Users\\hao_l\\AppData\\Local\\Temp\\ipykernel_10528\\3115349066.py#4\u001b\\\u001b[2m4\u001b[0m\u001b]8;;\u001b\\\n"
      ]
     },
     "metadata": {},
     "output_type": "display_data"
    },
    {
     "data": {
      "text/html": [
       "<pre style=\"white-space:pre;overflow-x:auto;line-height:normal;font-family:Menlo,'DejaVu Sans Mono',consolas,'Courier New',monospace\"><span style=\"color: #7fbfbf; text-decoration-color: #7fbfbf\">[04/22/23 02:40:02] </span><span style=\"color: #000080; text-decoration-color: #000080\">INFO    </span> <span style=\"color: #808000; text-decoration-color: #808000\">k</span>=<span style=\"color: #008080; text-decoration-color: #008080; font-weight: bold\">35</span>, <span style=\"color: #808000; text-decoration-color: #808000\">cost</span>=<span style=\"color: #008080; text-decoration-color: #008080; font-weight: bold\">100018</span>, <span style=\"color: #808000; text-decoration-color: #808000\">n_iter</span>=<span style=\"color: #008080; text-decoration-color: #008080; font-weight: bold\">37</span>                                           <a href=\"file://C:\\Users\\hao_l\\AppData\\Local\\Temp\\ipykernel_10528\\3115349066.py\" target=\"_blank\"><span style=\"color: #7f7f7f; text-decoration-color: #7f7f7f\">3115349066.py</span></a><span style=\"color: #7f7f7f; text-decoration-color: #7f7f7f\">:</span><a href=\"file://C:\\Users\\hao_l\\AppData\\Local\\Temp\\ipykernel_10528\\3115349066.py#7\" target=\"_blank\"><span style=\"color: #7f7f7f; text-decoration-color: #7f7f7f\">7</span></a>\n",
       "</pre>\n"
      ],
      "text/plain": [
       "\u001b[2;36m[04/22/23 02:40:02]\u001b[0m\u001b[2;36m \u001b[0m\u001b[34mINFO    \u001b[0m \u001b[33mk\u001b[0m=\u001b[1;36m35\u001b[0m, \u001b[33mcost\u001b[0m=\u001b[1;36m100018\u001b[0m, \u001b[33mn_iter\u001b[0m=\u001b[1;36m37\u001b[0m                                           \u001b]8;id=926950;file://C:\\Users\\hao_l\\AppData\\Local\\Temp\\ipykernel_10528\\3115349066.py\u001b\\\u001b[2m3115349066.py\u001b[0m\u001b]8;;\u001b\\\u001b[2m:\u001b[0m\u001b]8;id=17570;file://C:\\Users\\hao_l\\AppData\\Local\\Temp\\ipykernel_10528\\3115349066.py#7\u001b\\\u001b[2m7\u001b[0m\u001b]8;;\u001b\\\n"
      ]
     },
     "metadata": {},
     "output_type": "display_data"
    },
    {
     "data": {
      "text/html": [
       "<pre style=\"white-space:pre;overflow-x:auto;line-height:normal;font-family:Menlo,'DejaVu Sans Mono',consolas,'Courier New',monospace\"><span style=\"color: #7fbfbf; text-decoration-color: #7fbfbf\">                    </span><span style=\"color: #000080; text-decoration-color: #000080\">INFO    </span> Performing clustering for <span style=\"color: #808000; text-decoration-color: #808000\">k</span>=<span style=\"color: #008080; text-decoration-color: #008080; font-weight: bold\">36</span>                                         <a href=\"file://C:\\Users\\hao_l\\AppData\\Local\\Temp\\ipykernel_10528\\3115349066.py\" target=\"_blank\"><span style=\"color: #7f7f7f; text-decoration-color: #7f7f7f\">3115349066.py</span></a><span style=\"color: #7f7f7f; text-decoration-color: #7f7f7f\">:</span><a href=\"file://C:\\Users\\hao_l\\AppData\\Local\\Temp\\ipykernel_10528\\3115349066.py#4\" target=\"_blank\"><span style=\"color: #7f7f7f; text-decoration-color: #7f7f7f\">4</span></a>\n",
       "</pre>\n"
      ],
      "text/plain": [
       "\u001b[2;36m                   \u001b[0m\u001b[2;36m \u001b[0m\u001b[34mINFO    \u001b[0m Performing clustering for \u001b[33mk\u001b[0m=\u001b[1;36m36\u001b[0m                                         \u001b]8;id=892945;file://C:\\Users\\hao_l\\AppData\\Local\\Temp\\ipykernel_10528\\3115349066.py\u001b\\\u001b[2m3115349066.py\u001b[0m\u001b]8;;\u001b\\\u001b[2m:\u001b[0m\u001b]8;id=876539;file://C:\\Users\\hao_l\\AppData\\Local\\Temp\\ipykernel_10528\\3115349066.py#4\u001b\\\u001b[2m4\u001b[0m\u001b]8;;\u001b\\\n"
      ]
     },
     "metadata": {},
     "output_type": "display_data"
    },
    {
     "data": {
      "text/html": [
       "<pre style=\"white-space:pre;overflow-x:auto;line-height:normal;font-family:Menlo,'DejaVu Sans Mono',consolas,'Courier New',monospace\"><span style=\"color: #7fbfbf; text-decoration-color: #7fbfbf\">[04/22/23 02:46:23] </span><span style=\"color: #000080; text-decoration-color: #000080\">INFO    </span> <span style=\"color: #808000; text-decoration-color: #808000\">k</span>=<span style=\"color: #008080; text-decoration-color: #008080; font-weight: bold\">36</span>, <span style=\"color: #808000; text-decoration-color: #808000\">cost</span>=<span style=\"color: #008080; text-decoration-color: #008080; font-weight: bold\">99209</span>, <span style=\"color: #808000; text-decoration-color: #808000\">n_iter</span>=<span style=\"color: #008080; text-decoration-color: #008080; font-weight: bold\">56</span>                                            <a href=\"file://C:\\Users\\hao_l\\AppData\\Local\\Temp\\ipykernel_10528\\3115349066.py\" target=\"_blank\"><span style=\"color: #7f7f7f; text-decoration-color: #7f7f7f\">3115349066.py</span></a><span style=\"color: #7f7f7f; text-decoration-color: #7f7f7f\">:</span><a href=\"file://C:\\Users\\hao_l\\AppData\\Local\\Temp\\ipykernel_10528\\3115349066.py#7\" target=\"_blank\"><span style=\"color: #7f7f7f; text-decoration-color: #7f7f7f\">7</span></a>\n",
       "</pre>\n"
      ],
      "text/plain": [
       "\u001b[2;36m[04/22/23 02:46:23]\u001b[0m\u001b[2;36m \u001b[0m\u001b[34mINFO    \u001b[0m \u001b[33mk\u001b[0m=\u001b[1;36m36\u001b[0m, \u001b[33mcost\u001b[0m=\u001b[1;36m99209\u001b[0m, \u001b[33mn_iter\u001b[0m=\u001b[1;36m56\u001b[0m                                            \u001b]8;id=485563;file://C:\\Users\\hao_l\\AppData\\Local\\Temp\\ipykernel_10528\\3115349066.py\u001b\\\u001b[2m3115349066.py\u001b[0m\u001b]8;;\u001b\\\u001b[2m:\u001b[0m\u001b]8;id=596724;file://C:\\Users\\hao_l\\AppData\\Local\\Temp\\ipykernel_10528\\3115349066.py#7\u001b\\\u001b[2m7\u001b[0m\u001b]8;;\u001b\\\n"
      ]
     },
     "metadata": {},
     "output_type": "display_data"
    },
    {
     "data": {
      "text/html": [
       "<pre style=\"white-space:pre;overflow-x:auto;line-height:normal;font-family:Menlo,'DejaVu Sans Mono',consolas,'Courier New',monospace\"><span style=\"color: #7fbfbf; text-decoration-color: #7fbfbf\">                    </span><span style=\"color: #000080; text-decoration-color: #000080\">INFO    </span> Performing clustering for <span style=\"color: #808000; text-decoration-color: #808000\">k</span>=<span style=\"color: #008080; text-decoration-color: #008080; font-weight: bold\">37</span>                                         <a href=\"file://C:\\Users\\hao_l\\AppData\\Local\\Temp\\ipykernel_10528\\3115349066.py\" target=\"_blank\"><span style=\"color: #7f7f7f; text-decoration-color: #7f7f7f\">3115349066.py</span></a><span style=\"color: #7f7f7f; text-decoration-color: #7f7f7f\">:</span><a href=\"file://C:\\Users\\hao_l\\AppData\\Local\\Temp\\ipykernel_10528\\3115349066.py#4\" target=\"_blank\"><span style=\"color: #7f7f7f; text-decoration-color: #7f7f7f\">4</span></a>\n",
       "</pre>\n"
      ],
      "text/plain": [
       "\u001b[2;36m                   \u001b[0m\u001b[2;36m \u001b[0m\u001b[34mINFO    \u001b[0m Performing clustering for \u001b[33mk\u001b[0m=\u001b[1;36m37\u001b[0m                                         \u001b]8;id=864119;file://C:\\Users\\hao_l\\AppData\\Local\\Temp\\ipykernel_10528\\3115349066.py\u001b\\\u001b[2m3115349066.py\u001b[0m\u001b]8;;\u001b\\\u001b[2m:\u001b[0m\u001b]8;id=69181;file://C:\\Users\\hao_l\\AppData\\Local\\Temp\\ipykernel_10528\\3115349066.py#4\u001b\\\u001b[2m4\u001b[0m\u001b]8;;\u001b\\\n"
      ]
     },
     "metadata": {},
     "output_type": "display_data"
    },
    {
     "data": {
      "text/html": [
       "<pre style=\"white-space:pre;overflow-x:auto;line-height:normal;font-family:Menlo,'DejaVu Sans Mono',consolas,'Courier New',monospace\"><span style=\"color: #7fbfbf; text-decoration-color: #7fbfbf\">[04/22/23 02:53:53] </span><span style=\"color: #000080; text-decoration-color: #000080\">INFO    </span> <span style=\"color: #808000; text-decoration-color: #808000\">k</span>=<span style=\"color: #008080; text-decoration-color: #008080; font-weight: bold\">37</span>, <span style=\"color: #808000; text-decoration-color: #808000\">cost</span>=<span style=\"color: #008080; text-decoration-color: #008080; font-weight: bold\">98520</span>, <span style=\"color: #808000; text-decoration-color: #808000\">n_iter</span>=<span style=\"color: #008080; text-decoration-color: #008080; font-weight: bold\">59</span>                                            <a href=\"file://C:\\Users\\hao_l\\AppData\\Local\\Temp\\ipykernel_10528\\3115349066.py\" target=\"_blank\"><span style=\"color: #7f7f7f; text-decoration-color: #7f7f7f\">3115349066.py</span></a><span style=\"color: #7f7f7f; text-decoration-color: #7f7f7f\">:</span><a href=\"file://C:\\Users\\hao_l\\AppData\\Local\\Temp\\ipykernel_10528\\3115349066.py#7\" target=\"_blank\"><span style=\"color: #7f7f7f; text-decoration-color: #7f7f7f\">7</span></a>\n",
       "</pre>\n"
      ],
      "text/plain": [
       "\u001b[2;36m[04/22/23 02:53:53]\u001b[0m\u001b[2;36m \u001b[0m\u001b[34mINFO    \u001b[0m \u001b[33mk\u001b[0m=\u001b[1;36m37\u001b[0m, \u001b[33mcost\u001b[0m=\u001b[1;36m98520\u001b[0m, \u001b[33mn_iter\u001b[0m=\u001b[1;36m59\u001b[0m                                            \u001b]8;id=105278;file://C:\\Users\\hao_l\\AppData\\Local\\Temp\\ipykernel_10528\\3115349066.py\u001b\\\u001b[2m3115349066.py\u001b[0m\u001b]8;;\u001b\\\u001b[2m:\u001b[0m\u001b]8;id=770290;file://C:\\Users\\hao_l\\AppData\\Local\\Temp\\ipykernel_10528\\3115349066.py#7\u001b\\\u001b[2m7\u001b[0m\u001b]8;;\u001b\\\n"
      ]
     },
     "metadata": {},
     "output_type": "display_data"
    },
    {
     "data": {
      "text/html": [
       "<pre style=\"white-space:pre;overflow-x:auto;line-height:normal;font-family:Menlo,'DejaVu Sans Mono',consolas,'Courier New',monospace\"><span style=\"color: #7fbfbf; text-decoration-color: #7fbfbf\">                    </span><span style=\"color: #000080; text-decoration-color: #000080\">INFO    </span> Performing clustering for <span style=\"color: #808000; text-decoration-color: #808000\">k</span>=<span style=\"color: #008080; text-decoration-color: #008080; font-weight: bold\">38</span>                                         <a href=\"file://C:\\Users\\hao_l\\AppData\\Local\\Temp\\ipykernel_10528\\3115349066.py\" target=\"_blank\"><span style=\"color: #7f7f7f; text-decoration-color: #7f7f7f\">3115349066.py</span></a><span style=\"color: #7f7f7f; text-decoration-color: #7f7f7f\">:</span><a href=\"file://C:\\Users\\hao_l\\AppData\\Local\\Temp\\ipykernel_10528\\3115349066.py#4\" target=\"_blank\"><span style=\"color: #7f7f7f; text-decoration-color: #7f7f7f\">4</span></a>\n",
       "</pre>\n"
      ],
      "text/plain": [
       "\u001b[2;36m                   \u001b[0m\u001b[2;36m \u001b[0m\u001b[34mINFO    \u001b[0m Performing clustering for \u001b[33mk\u001b[0m=\u001b[1;36m38\u001b[0m                                         \u001b]8;id=589595;file://C:\\Users\\hao_l\\AppData\\Local\\Temp\\ipykernel_10528\\3115349066.py\u001b\\\u001b[2m3115349066.py\u001b[0m\u001b]8;;\u001b\\\u001b[2m:\u001b[0m\u001b]8;id=593066;file://C:\\Users\\hao_l\\AppData\\Local\\Temp\\ipykernel_10528\\3115349066.py#4\u001b\\\u001b[2m4\u001b[0m\u001b]8;;\u001b\\\n"
      ]
     },
     "metadata": {},
     "output_type": "display_data"
    },
    {
     "data": {
      "text/html": [
       "<pre style=\"white-space:pre;overflow-x:auto;line-height:normal;font-family:Menlo,'DejaVu Sans Mono',consolas,'Courier New',monospace\"><span style=\"color: #7fbfbf; text-decoration-color: #7fbfbf\">[04/22/23 03:00:05] </span><span style=\"color: #000080; text-decoration-color: #000080\">INFO    </span> <span style=\"color: #808000; text-decoration-color: #808000\">k</span>=<span style=\"color: #008080; text-decoration-color: #008080; font-weight: bold\">38</span>, <span style=\"color: #808000; text-decoration-color: #808000\">cost</span>=<span style=\"color: #008080; text-decoration-color: #008080; font-weight: bold\">97829</span>, <span style=\"color: #808000; text-decoration-color: #808000\">n_iter</span>=<span style=\"color: #008080; text-decoration-color: #008080; font-weight: bold\">74</span>                                            <a href=\"file://C:\\Users\\hao_l\\AppData\\Local\\Temp\\ipykernel_10528\\3115349066.py\" target=\"_blank\"><span style=\"color: #7f7f7f; text-decoration-color: #7f7f7f\">3115349066.py</span></a><span style=\"color: #7f7f7f; text-decoration-color: #7f7f7f\">:</span><a href=\"file://C:\\Users\\hao_l\\AppData\\Local\\Temp\\ipykernel_10528\\3115349066.py#7\" target=\"_blank\"><span style=\"color: #7f7f7f; text-decoration-color: #7f7f7f\">7</span></a>\n",
       "</pre>\n"
      ],
      "text/plain": [
       "\u001b[2;36m[04/22/23 03:00:05]\u001b[0m\u001b[2;36m \u001b[0m\u001b[34mINFO    \u001b[0m \u001b[33mk\u001b[0m=\u001b[1;36m38\u001b[0m, \u001b[33mcost\u001b[0m=\u001b[1;36m97829\u001b[0m, \u001b[33mn_iter\u001b[0m=\u001b[1;36m74\u001b[0m                                            \u001b]8;id=872127;file://C:\\Users\\hao_l\\AppData\\Local\\Temp\\ipykernel_10528\\3115349066.py\u001b\\\u001b[2m3115349066.py\u001b[0m\u001b]8;;\u001b\\\u001b[2m:\u001b[0m\u001b]8;id=691672;file://C:\\Users\\hao_l\\AppData\\Local\\Temp\\ipykernel_10528\\3115349066.py#7\u001b\\\u001b[2m7\u001b[0m\u001b]8;;\u001b\\\n"
      ]
     },
     "metadata": {},
     "output_type": "display_data"
    },
    {
     "data": {
      "text/html": [
       "<pre style=\"white-space:pre;overflow-x:auto;line-height:normal;font-family:Menlo,'DejaVu Sans Mono',consolas,'Courier New',monospace\"><span style=\"color: #7fbfbf; text-decoration-color: #7fbfbf\">                    </span><span style=\"color: #000080; text-decoration-color: #000080\">INFO    </span> Performing clustering for <span style=\"color: #808000; text-decoration-color: #808000\">k</span>=<span style=\"color: #008080; text-decoration-color: #008080; font-weight: bold\">39</span>                                         <a href=\"file://C:\\Users\\hao_l\\AppData\\Local\\Temp\\ipykernel_10528\\3115349066.py\" target=\"_blank\"><span style=\"color: #7f7f7f; text-decoration-color: #7f7f7f\">3115349066.py</span></a><span style=\"color: #7f7f7f; text-decoration-color: #7f7f7f\">:</span><a href=\"file://C:\\Users\\hao_l\\AppData\\Local\\Temp\\ipykernel_10528\\3115349066.py#4\" target=\"_blank\"><span style=\"color: #7f7f7f; text-decoration-color: #7f7f7f\">4</span></a>\n",
       "</pre>\n"
      ],
      "text/plain": [
       "\u001b[2;36m                   \u001b[0m\u001b[2;36m \u001b[0m\u001b[34mINFO    \u001b[0m Performing clustering for \u001b[33mk\u001b[0m=\u001b[1;36m39\u001b[0m                                         \u001b]8;id=393069;file://C:\\Users\\hao_l\\AppData\\Local\\Temp\\ipykernel_10528\\3115349066.py\u001b\\\u001b[2m3115349066.py\u001b[0m\u001b]8;;\u001b\\\u001b[2m:\u001b[0m\u001b]8;id=983119;file://C:\\Users\\hao_l\\AppData\\Local\\Temp\\ipykernel_10528\\3115349066.py#4\u001b\\\u001b[2m4\u001b[0m\u001b]8;;\u001b\\\n"
      ]
     },
     "metadata": {},
     "output_type": "display_data"
    },
    {
     "data": {
      "text/html": [
       "<pre style=\"white-space:pre;overflow-x:auto;line-height:normal;font-family:Menlo,'DejaVu Sans Mono',consolas,'Courier New',monospace\"><span style=\"color: #7fbfbf; text-decoration-color: #7fbfbf\">[04/22/23 03:06:41] </span><span style=\"color: #000080; text-decoration-color: #000080\">INFO    </span> <span style=\"color: #808000; text-decoration-color: #808000\">k</span>=<span style=\"color: #008080; text-decoration-color: #008080; font-weight: bold\">39</span>, <span style=\"color: #808000; text-decoration-color: #808000\">cost</span>=<span style=\"color: #008080; text-decoration-color: #008080; font-weight: bold\">97138</span>, <span style=\"color: #808000; text-decoration-color: #808000\">n_iter</span>=<span style=\"color: #008080; text-decoration-color: #008080; font-weight: bold\">84</span>                                            <a href=\"file://C:\\Users\\hao_l\\AppData\\Local\\Temp\\ipykernel_10528\\3115349066.py\" target=\"_blank\"><span style=\"color: #7f7f7f; text-decoration-color: #7f7f7f\">3115349066.py</span></a><span style=\"color: #7f7f7f; text-decoration-color: #7f7f7f\">:</span><a href=\"file://C:\\Users\\hao_l\\AppData\\Local\\Temp\\ipykernel_10528\\3115349066.py#7\" target=\"_blank\"><span style=\"color: #7f7f7f; text-decoration-color: #7f7f7f\">7</span></a>\n",
       "</pre>\n"
      ],
      "text/plain": [
       "\u001b[2;36m[04/22/23 03:06:41]\u001b[0m\u001b[2;36m \u001b[0m\u001b[34mINFO    \u001b[0m \u001b[33mk\u001b[0m=\u001b[1;36m39\u001b[0m, \u001b[33mcost\u001b[0m=\u001b[1;36m97138\u001b[0m, \u001b[33mn_iter\u001b[0m=\u001b[1;36m84\u001b[0m                                            \u001b]8;id=544780;file://C:\\Users\\hao_l\\AppData\\Local\\Temp\\ipykernel_10528\\3115349066.py\u001b\\\u001b[2m3115349066.py\u001b[0m\u001b]8;;\u001b\\\u001b[2m:\u001b[0m\u001b]8;id=333994;file://C:\\Users\\hao_l\\AppData\\Local\\Temp\\ipykernel_10528\\3115349066.py#7\u001b\\\u001b[2m7\u001b[0m\u001b]8;;\u001b\\\n"
      ]
     },
     "metadata": {},
     "output_type": "display_data"
    },
    {
     "data": {
      "text/html": [
       "<pre style=\"white-space:pre;overflow-x:auto;line-height:normal;font-family:Menlo,'DejaVu Sans Mono',consolas,'Courier New',monospace\"><span style=\"color: #7fbfbf; text-decoration-color: #7fbfbf\">                    </span><span style=\"color: #000080; text-decoration-color: #000080\">INFO    </span> Performing clustering for <span style=\"color: #808000; text-decoration-color: #808000\">k</span>=<span style=\"color: #008080; text-decoration-color: #008080; font-weight: bold\">40</span>                                         <a href=\"file://C:\\Users\\hao_l\\AppData\\Local\\Temp\\ipykernel_10528\\3115349066.py\" target=\"_blank\"><span style=\"color: #7f7f7f; text-decoration-color: #7f7f7f\">3115349066.py</span></a><span style=\"color: #7f7f7f; text-decoration-color: #7f7f7f\">:</span><a href=\"file://C:\\Users\\hao_l\\AppData\\Local\\Temp\\ipykernel_10528\\3115349066.py#4\" target=\"_blank\"><span style=\"color: #7f7f7f; text-decoration-color: #7f7f7f\">4</span></a>\n",
       "</pre>\n"
      ],
      "text/plain": [
       "\u001b[2;36m                   \u001b[0m\u001b[2;36m \u001b[0m\u001b[34mINFO    \u001b[0m Performing clustering for \u001b[33mk\u001b[0m=\u001b[1;36m40\u001b[0m                                         \u001b]8;id=523888;file://C:\\Users\\hao_l\\AppData\\Local\\Temp\\ipykernel_10528\\3115349066.py\u001b\\\u001b[2m3115349066.py\u001b[0m\u001b]8;;\u001b\\\u001b[2m:\u001b[0m\u001b]8;id=812977;file://C:\\Users\\hao_l\\AppData\\Local\\Temp\\ipykernel_10528\\3115349066.py#4\u001b\\\u001b[2m4\u001b[0m\u001b]8;;\u001b\\\n"
      ]
     },
     "metadata": {},
     "output_type": "display_data"
    },
    {
     "data": {
      "text/html": [
       "<pre style=\"white-space:pre;overflow-x:auto;line-height:normal;font-family:Menlo,'DejaVu Sans Mono',consolas,'Courier New',monospace\"><span style=\"color: #7fbfbf; text-decoration-color: #7fbfbf\">[04/22/23 03:12:15] </span><span style=\"color: #000080; text-decoration-color: #000080\">INFO    </span> <span style=\"color: #808000; text-decoration-color: #808000\">k</span>=<span style=\"color: #008080; text-decoration-color: #008080; font-weight: bold\">40</span>, <span style=\"color: #808000; text-decoration-color: #808000\">cost</span>=<span style=\"color: #008080; text-decoration-color: #008080; font-weight: bold\">96543</span>, <span style=\"color: #808000; text-decoration-color: #808000\">n_iter</span>=<span style=\"color: #008080; text-decoration-color: #008080; font-weight: bold\">67</span>                                            <a href=\"file://C:\\Users\\hao_l\\AppData\\Local\\Temp\\ipykernel_10528\\3115349066.py\" target=\"_blank\"><span style=\"color: #7f7f7f; text-decoration-color: #7f7f7f\">3115349066.py</span></a><span style=\"color: #7f7f7f; text-decoration-color: #7f7f7f\">:</span><a href=\"file://C:\\Users\\hao_l\\AppData\\Local\\Temp\\ipykernel_10528\\3115349066.py#7\" target=\"_blank\"><span style=\"color: #7f7f7f; text-decoration-color: #7f7f7f\">7</span></a>\n",
       "</pre>\n"
      ],
      "text/plain": [
       "\u001b[2;36m[04/22/23 03:12:15]\u001b[0m\u001b[2;36m \u001b[0m\u001b[34mINFO    \u001b[0m \u001b[33mk\u001b[0m=\u001b[1;36m40\u001b[0m, \u001b[33mcost\u001b[0m=\u001b[1;36m96543\u001b[0m, \u001b[33mn_iter\u001b[0m=\u001b[1;36m67\u001b[0m                                            \u001b]8;id=358143;file://C:\\Users\\hao_l\\AppData\\Local\\Temp\\ipykernel_10528\\3115349066.py\u001b\\\u001b[2m3115349066.py\u001b[0m\u001b]8;;\u001b\\\u001b[2m:\u001b[0m\u001b]8;id=974838;file://C:\\Users\\hao_l\\AppData\\Local\\Temp\\ipykernel_10528\\3115349066.py#7\u001b\\\u001b[2m7\u001b[0m\u001b]8;;\u001b\\\n"
      ]
     },
     "metadata": {},
     "output_type": "display_data"
    },
    {
     "data": {
      "text/html": [
       "<pre style=\"white-space:pre;overflow-x:auto;line-height:normal;font-family:Menlo,'DejaVu Sans Mono',consolas,'Courier New',monospace\"><span style=\"color: #7fbfbf; text-decoration-color: #7fbfbf\">                    </span><span style=\"color: #000080; text-decoration-color: #000080\">INFO    </span> Performing clustering for <span style=\"color: #808000; text-decoration-color: #808000\">k</span>=<span style=\"color: #008080; text-decoration-color: #008080; font-weight: bold\">41</span>                                         <a href=\"file://C:\\Users\\hao_l\\AppData\\Local\\Temp\\ipykernel_10528\\3115349066.py\" target=\"_blank\"><span style=\"color: #7f7f7f; text-decoration-color: #7f7f7f\">3115349066.py</span></a><span style=\"color: #7f7f7f; text-decoration-color: #7f7f7f\">:</span><a href=\"file://C:\\Users\\hao_l\\AppData\\Local\\Temp\\ipykernel_10528\\3115349066.py#4\" target=\"_blank\"><span style=\"color: #7f7f7f; text-decoration-color: #7f7f7f\">4</span></a>\n",
       "</pre>\n"
      ],
      "text/plain": [
       "\u001b[2;36m                   \u001b[0m\u001b[2;36m \u001b[0m\u001b[34mINFO    \u001b[0m Performing clustering for \u001b[33mk\u001b[0m=\u001b[1;36m41\u001b[0m                                         \u001b]8;id=711735;file://C:\\Users\\hao_l\\AppData\\Local\\Temp\\ipykernel_10528\\3115349066.py\u001b\\\u001b[2m3115349066.py\u001b[0m\u001b]8;;\u001b\\\u001b[2m:\u001b[0m\u001b]8;id=713263;file://C:\\Users\\hao_l\\AppData\\Local\\Temp\\ipykernel_10528\\3115349066.py#4\u001b\\\u001b[2m4\u001b[0m\u001b]8;;\u001b\\\n"
      ]
     },
     "metadata": {},
     "output_type": "display_data"
    },
    {
     "data": {
      "text/html": [
       "<pre style=\"white-space:pre;overflow-x:auto;line-height:normal;font-family:Menlo,'DejaVu Sans Mono',consolas,'Courier New',monospace\"><span style=\"color: #7fbfbf; text-decoration-color: #7fbfbf\">[04/22/23 03:19:11] </span><span style=\"color: #000080; text-decoration-color: #000080\">INFO    </span> <span style=\"color: #808000; text-decoration-color: #808000\">k</span>=<span style=\"color: #008080; text-decoration-color: #008080; font-weight: bold\">41</span>, <span style=\"color: #808000; text-decoration-color: #808000\">cost</span>=<span style=\"color: #008080; text-decoration-color: #008080; font-weight: bold\">95804</span>, <span style=\"color: #808000; text-decoration-color: #808000\">n_iter</span>=<span style=\"color: #008080; text-decoration-color: #008080; font-weight: bold\">72</span>                                            <a href=\"file://C:\\Users\\hao_l\\AppData\\Local\\Temp\\ipykernel_10528\\3115349066.py\" target=\"_blank\"><span style=\"color: #7f7f7f; text-decoration-color: #7f7f7f\">3115349066.py</span></a><span style=\"color: #7f7f7f; text-decoration-color: #7f7f7f\">:</span><a href=\"file://C:\\Users\\hao_l\\AppData\\Local\\Temp\\ipykernel_10528\\3115349066.py#7\" target=\"_blank\"><span style=\"color: #7f7f7f; text-decoration-color: #7f7f7f\">7</span></a>\n",
       "</pre>\n"
      ],
      "text/plain": [
       "\u001b[2;36m[04/22/23 03:19:11]\u001b[0m\u001b[2;36m \u001b[0m\u001b[34mINFO    \u001b[0m \u001b[33mk\u001b[0m=\u001b[1;36m41\u001b[0m, \u001b[33mcost\u001b[0m=\u001b[1;36m95804\u001b[0m, \u001b[33mn_iter\u001b[0m=\u001b[1;36m72\u001b[0m                                            \u001b]8;id=446291;file://C:\\Users\\hao_l\\AppData\\Local\\Temp\\ipykernel_10528\\3115349066.py\u001b\\\u001b[2m3115349066.py\u001b[0m\u001b]8;;\u001b\\\u001b[2m:\u001b[0m\u001b]8;id=409480;file://C:\\Users\\hao_l\\AppData\\Local\\Temp\\ipykernel_10528\\3115349066.py#7\u001b\\\u001b[2m7\u001b[0m\u001b]8;;\u001b\\\n"
      ]
     },
     "metadata": {},
     "output_type": "display_data"
    },
    {
     "data": {
      "text/html": [
       "<pre style=\"white-space:pre;overflow-x:auto;line-height:normal;font-family:Menlo,'DejaVu Sans Mono',consolas,'Courier New',monospace\"><span style=\"color: #7fbfbf; text-decoration-color: #7fbfbf\">                    </span><span style=\"color: #000080; text-decoration-color: #000080\">INFO    </span> Performing clustering for <span style=\"color: #808000; text-decoration-color: #808000\">k</span>=<span style=\"color: #008080; text-decoration-color: #008080; font-weight: bold\">42</span>                                         <a href=\"file://C:\\Users\\hao_l\\AppData\\Local\\Temp\\ipykernel_10528\\3115349066.py\" target=\"_blank\"><span style=\"color: #7f7f7f; text-decoration-color: #7f7f7f\">3115349066.py</span></a><span style=\"color: #7f7f7f; text-decoration-color: #7f7f7f\">:</span><a href=\"file://C:\\Users\\hao_l\\AppData\\Local\\Temp\\ipykernel_10528\\3115349066.py#4\" target=\"_blank\"><span style=\"color: #7f7f7f; text-decoration-color: #7f7f7f\">4</span></a>\n",
       "</pre>\n"
      ],
      "text/plain": [
       "\u001b[2;36m                   \u001b[0m\u001b[2;36m \u001b[0m\u001b[34mINFO    \u001b[0m Performing clustering for \u001b[33mk\u001b[0m=\u001b[1;36m42\u001b[0m                                         \u001b]8;id=516722;file://C:\\Users\\hao_l\\AppData\\Local\\Temp\\ipykernel_10528\\3115349066.py\u001b\\\u001b[2m3115349066.py\u001b[0m\u001b]8;;\u001b\\\u001b[2m:\u001b[0m\u001b]8;id=963040;file://C:\\Users\\hao_l\\AppData\\Local\\Temp\\ipykernel_10528\\3115349066.py#4\u001b\\\u001b[2m4\u001b[0m\u001b]8;;\u001b\\\n"
      ]
     },
     "metadata": {},
     "output_type": "display_data"
    },
    {
     "data": {
      "text/html": [
       "<pre style=\"white-space:pre;overflow-x:auto;line-height:normal;font-family:Menlo,'DejaVu Sans Mono',consolas,'Courier New',monospace\"><span style=\"color: #7fbfbf; text-decoration-color: #7fbfbf\">[04/22/23 03:24:33] </span><span style=\"color: #000080; text-decoration-color: #000080\">INFO    </span> <span style=\"color: #808000; text-decoration-color: #808000\">k</span>=<span style=\"color: #008080; text-decoration-color: #008080; font-weight: bold\">42</span>, <span style=\"color: #808000; text-decoration-color: #808000\">cost</span>=<span style=\"color: #008080; text-decoration-color: #008080; font-weight: bold\">94957</span>, <span style=\"color: #808000; text-decoration-color: #808000\">n_iter</span>=<span style=\"color: #008080; text-decoration-color: #008080; font-weight: bold\">54</span>                                            <a href=\"file://C:\\Users\\hao_l\\AppData\\Local\\Temp\\ipykernel_10528\\3115349066.py\" target=\"_blank\"><span style=\"color: #7f7f7f; text-decoration-color: #7f7f7f\">3115349066.py</span></a><span style=\"color: #7f7f7f; text-decoration-color: #7f7f7f\">:</span><a href=\"file://C:\\Users\\hao_l\\AppData\\Local\\Temp\\ipykernel_10528\\3115349066.py#7\" target=\"_blank\"><span style=\"color: #7f7f7f; text-decoration-color: #7f7f7f\">7</span></a>\n",
       "</pre>\n"
      ],
      "text/plain": [
       "\u001b[2;36m[04/22/23 03:24:33]\u001b[0m\u001b[2;36m \u001b[0m\u001b[34mINFO    \u001b[0m \u001b[33mk\u001b[0m=\u001b[1;36m42\u001b[0m, \u001b[33mcost\u001b[0m=\u001b[1;36m94957\u001b[0m, \u001b[33mn_iter\u001b[0m=\u001b[1;36m54\u001b[0m                                            \u001b]8;id=292210;file://C:\\Users\\hao_l\\AppData\\Local\\Temp\\ipykernel_10528\\3115349066.py\u001b\\\u001b[2m3115349066.py\u001b[0m\u001b]8;;\u001b\\\u001b[2m:\u001b[0m\u001b]8;id=113795;file://C:\\Users\\hao_l\\AppData\\Local\\Temp\\ipykernel_10528\\3115349066.py#7\u001b\\\u001b[2m7\u001b[0m\u001b]8;;\u001b\\\n"
      ]
     },
     "metadata": {},
     "output_type": "display_data"
    },
    {
     "data": {
      "text/html": [
       "<pre style=\"white-space:pre;overflow-x:auto;line-height:normal;font-family:Menlo,'DejaVu Sans Mono',consolas,'Courier New',monospace\"><span style=\"color: #7fbfbf; text-decoration-color: #7fbfbf\">                    </span><span style=\"color: #000080; text-decoration-color: #000080\">INFO    </span> Performing clustering for <span style=\"color: #808000; text-decoration-color: #808000\">k</span>=<span style=\"color: #008080; text-decoration-color: #008080; font-weight: bold\">43</span>                                         <a href=\"file://C:\\Users\\hao_l\\AppData\\Local\\Temp\\ipykernel_10528\\3115349066.py\" target=\"_blank\"><span style=\"color: #7f7f7f; text-decoration-color: #7f7f7f\">3115349066.py</span></a><span style=\"color: #7f7f7f; text-decoration-color: #7f7f7f\">:</span><a href=\"file://C:\\Users\\hao_l\\AppData\\Local\\Temp\\ipykernel_10528\\3115349066.py#4\" target=\"_blank\"><span style=\"color: #7f7f7f; text-decoration-color: #7f7f7f\">4</span></a>\n",
       "</pre>\n"
      ],
      "text/plain": [
       "\u001b[2;36m                   \u001b[0m\u001b[2;36m \u001b[0m\u001b[34mINFO    \u001b[0m Performing clustering for \u001b[33mk\u001b[0m=\u001b[1;36m43\u001b[0m                                         \u001b]8;id=71559;file://C:\\Users\\hao_l\\AppData\\Local\\Temp\\ipykernel_10528\\3115349066.py\u001b\\\u001b[2m3115349066.py\u001b[0m\u001b]8;;\u001b\\\u001b[2m:\u001b[0m\u001b]8;id=409107;file://C:\\Users\\hao_l\\AppData\\Local\\Temp\\ipykernel_10528\\3115349066.py#4\u001b\\\u001b[2m4\u001b[0m\u001b]8;;\u001b\\\n"
      ]
     },
     "metadata": {},
     "output_type": "display_data"
    },
    {
     "data": {
      "text/html": [
       "<pre style=\"white-space:pre;overflow-x:auto;line-height:normal;font-family:Menlo,'DejaVu Sans Mono',consolas,'Courier New',monospace\"><span style=\"color: #7fbfbf; text-decoration-color: #7fbfbf\">[04/22/23 03:31:01] </span><span style=\"color: #000080; text-decoration-color: #000080\">INFO    </span> <span style=\"color: #808000; text-decoration-color: #808000\">k</span>=<span style=\"color: #008080; text-decoration-color: #008080; font-weight: bold\">43</span>, <span style=\"color: #808000; text-decoration-color: #808000\">cost</span>=<span style=\"color: #008080; text-decoration-color: #008080; font-weight: bold\">94730</span>, <span style=\"color: #808000; text-decoration-color: #808000\">n_iter</span>=<span style=\"color: #008080; text-decoration-color: #008080; font-weight: bold\">31</span>                                            <a href=\"file://C:\\Users\\hao_l\\AppData\\Local\\Temp\\ipykernel_10528\\3115349066.py\" target=\"_blank\"><span style=\"color: #7f7f7f; text-decoration-color: #7f7f7f\">3115349066.py</span></a><span style=\"color: #7f7f7f; text-decoration-color: #7f7f7f\">:</span><a href=\"file://C:\\Users\\hao_l\\AppData\\Local\\Temp\\ipykernel_10528\\3115349066.py#7\" target=\"_blank\"><span style=\"color: #7f7f7f; text-decoration-color: #7f7f7f\">7</span></a>\n",
       "</pre>\n"
      ],
      "text/plain": [
       "\u001b[2;36m[04/22/23 03:31:01]\u001b[0m\u001b[2;36m \u001b[0m\u001b[34mINFO    \u001b[0m \u001b[33mk\u001b[0m=\u001b[1;36m43\u001b[0m, \u001b[33mcost\u001b[0m=\u001b[1;36m94730\u001b[0m, \u001b[33mn_iter\u001b[0m=\u001b[1;36m31\u001b[0m                                            \u001b]8;id=582811;file://C:\\Users\\hao_l\\AppData\\Local\\Temp\\ipykernel_10528\\3115349066.py\u001b\\\u001b[2m3115349066.py\u001b[0m\u001b]8;;\u001b\\\u001b[2m:\u001b[0m\u001b]8;id=212958;file://C:\\Users\\hao_l\\AppData\\Local\\Temp\\ipykernel_10528\\3115349066.py#7\u001b\\\u001b[2m7\u001b[0m\u001b]8;;\u001b\\\n"
      ]
     },
     "metadata": {},
     "output_type": "display_data"
    },
    {
     "data": {
      "text/html": [
       "<pre style=\"white-space:pre;overflow-x:auto;line-height:normal;font-family:Menlo,'DejaVu Sans Mono',consolas,'Courier New',monospace\"><span style=\"color: #7fbfbf; text-decoration-color: #7fbfbf\">                    </span><span style=\"color: #000080; text-decoration-color: #000080\">INFO    </span> Performing clustering for <span style=\"color: #808000; text-decoration-color: #808000\">k</span>=<span style=\"color: #008080; text-decoration-color: #008080; font-weight: bold\">44</span>                                         <a href=\"file://C:\\Users\\hao_l\\AppData\\Local\\Temp\\ipykernel_10528\\3115349066.py\" target=\"_blank\"><span style=\"color: #7f7f7f; text-decoration-color: #7f7f7f\">3115349066.py</span></a><span style=\"color: #7f7f7f; text-decoration-color: #7f7f7f\">:</span><a href=\"file://C:\\Users\\hao_l\\AppData\\Local\\Temp\\ipykernel_10528\\3115349066.py#4\" target=\"_blank\"><span style=\"color: #7f7f7f; text-decoration-color: #7f7f7f\">4</span></a>\n",
       "</pre>\n"
      ],
      "text/plain": [
       "\u001b[2;36m                   \u001b[0m\u001b[2;36m \u001b[0m\u001b[34mINFO    \u001b[0m Performing clustering for \u001b[33mk\u001b[0m=\u001b[1;36m44\u001b[0m                                         \u001b]8;id=683454;file://C:\\Users\\hao_l\\AppData\\Local\\Temp\\ipykernel_10528\\3115349066.py\u001b\\\u001b[2m3115349066.py\u001b[0m\u001b]8;;\u001b\\\u001b[2m:\u001b[0m\u001b]8;id=482571;file://C:\\Users\\hao_l\\AppData\\Local\\Temp\\ipykernel_10528\\3115349066.py#4\u001b\\\u001b[2m4\u001b[0m\u001b]8;;\u001b\\\n"
      ]
     },
     "metadata": {},
     "output_type": "display_data"
    },
    {
     "data": {
      "text/html": [
       "<pre style=\"white-space:pre;overflow-x:auto;line-height:normal;font-family:Menlo,'DejaVu Sans Mono',consolas,'Courier New',monospace\"><span style=\"color: #7fbfbf; text-decoration-color: #7fbfbf\">[04/22/23 03:37:04] </span><span style=\"color: #000080; text-decoration-color: #000080\">INFO    </span> <span style=\"color: #808000; text-decoration-color: #808000\">k</span>=<span style=\"color: #008080; text-decoration-color: #008080; font-weight: bold\">44</span>, <span style=\"color: #808000; text-decoration-color: #808000\">cost</span>=<span style=\"color: #008080; text-decoration-color: #008080; font-weight: bold\">94046</span>, <span style=\"color: #808000; text-decoration-color: #808000\">n_iter</span>=<span style=\"color: #008080; text-decoration-color: #008080; font-weight: bold\">54</span>                                            <a href=\"file://C:\\Users\\hao_l\\AppData\\Local\\Temp\\ipykernel_10528\\3115349066.py\" target=\"_blank\"><span style=\"color: #7f7f7f; text-decoration-color: #7f7f7f\">3115349066.py</span></a><span style=\"color: #7f7f7f; text-decoration-color: #7f7f7f\">:</span><a href=\"file://C:\\Users\\hao_l\\AppData\\Local\\Temp\\ipykernel_10528\\3115349066.py#7\" target=\"_blank\"><span style=\"color: #7f7f7f; text-decoration-color: #7f7f7f\">7</span></a>\n",
       "</pre>\n"
      ],
      "text/plain": [
       "\u001b[2;36m[04/22/23 03:37:04]\u001b[0m\u001b[2;36m \u001b[0m\u001b[34mINFO    \u001b[0m \u001b[33mk\u001b[0m=\u001b[1;36m44\u001b[0m, \u001b[33mcost\u001b[0m=\u001b[1;36m94046\u001b[0m, \u001b[33mn_iter\u001b[0m=\u001b[1;36m54\u001b[0m                                            \u001b]8;id=382634;file://C:\\Users\\hao_l\\AppData\\Local\\Temp\\ipykernel_10528\\3115349066.py\u001b\\\u001b[2m3115349066.py\u001b[0m\u001b]8;;\u001b\\\u001b[2m:\u001b[0m\u001b]8;id=656437;file://C:\\Users\\hao_l\\AppData\\Local\\Temp\\ipykernel_10528\\3115349066.py#7\u001b\\\u001b[2m7\u001b[0m\u001b]8;;\u001b\\\n"
      ]
     },
     "metadata": {},
     "output_type": "display_data"
    },
    {
     "data": {
      "text/html": [
       "<pre style=\"white-space:pre;overflow-x:auto;line-height:normal;font-family:Menlo,'DejaVu Sans Mono',consolas,'Courier New',monospace\"><span style=\"color: #7fbfbf; text-decoration-color: #7fbfbf\">                    </span><span style=\"color: #000080; text-decoration-color: #000080\">INFO    </span> Performing clustering for <span style=\"color: #808000; text-decoration-color: #808000\">k</span>=<span style=\"color: #008080; text-decoration-color: #008080; font-weight: bold\">45</span>                                         <a href=\"file://C:\\Users\\hao_l\\AppData\\Local\\Temp\\ipykernel_10528\\3115349066.py\" target=\"_blank\"><span style=\"color: #7f7f7f; text-decoration-color: #7f7f7f\">3115349066.py</span></a><span style=\"color: #7f7f7f; text-decoration-color: #7f7f7f\">:</span><a href=\"file://C:\\Users\\hao_l\\AppData\\Local\\Temp\\ipykernel_10528\\3115349066.py#4\" target=\"_blank\"><span style=\"color: #7f7f7f; text-decoration-color: #7f7f7f\">4</span></a>\n",
       "</pre>\n"
      ],
      "text/plain": [
       "\u001b[2;36m                   \u001b[0m\u001b[2;36m \u001b[0m\u001b[34mINFO    \u001b[0m Performing clustering for \u001b[33mk\u001b[0m=\u001b[1;36m45\u001b[0m                                         \u001b]8;id=431802;file://C:\\Users\\hao_l\\AppData\\Local\\Temp\\ipykernel_10528\\3115349066.py\u001b\\\u001b[2m3115349066.py\u001b[0m\u001b]8;;\u001b\\\u001b[2m:\u001b[0m\u001b]8;id=141744;file://C:\\Users\\hao_l\\AppData\\Local\\Temp\\ipykernel_10528\\3115349066.py#4\u001b\\\u001b[2m4\u001b[0m\u001b]8;;\u001b\\\n"
      ]
     },
     "metadata": {},
     "output_type": "display_data"
    },
    {
     "data": {
      "text/html": [
       "<pre style=\"white-space:pre;overflow-x:auto;line-height:normal;font-family:Menlo,'DejaVu Sans Mono',consolas,'Courier New',monospace\"><span style=\"color: #7fbfbf; text-decoration-color: #7fbfbf\">[04/22/23 03:45:25] </span><span style=\"color: #000080; text-decoration-color: #000080\">INFO    </span> <span style=\"color: #808000; text-decoration-color: #808000\">k</span>=<span style=\"color: #008080; text-decoration-color: #008080; font-weight: bold\">45</span>, <span style=\"color: #808000; text-decoration-color: #808000\">cost</span>=<span style=\"color: #008080; text-decoration-color: #008080; font-weight: bold\">93581</span>, <span style=\"color: #808000; text-decoration-color: #808000\">n_iter</span>=<span style=\"color: #008080; text-decoration-color: #008080; font-weight: bold\">37</span>                                            <a href=\"file://C:\\Users\\hao_l\\AppData\\Local\\Temp\\ipykernel_10528\\3115349066.py\" target=\"_blank\"><span style=\"color: #7f7f7f; text-decoration-color: #7f7f7f\">3115349066.py</span></a><span style=\"color: #7f7f7f; text-decoration-color: #7f7f7f\">:</span><a href=\"file://C:\\Users\\hao_l\\AppData\\Local\\Temp\\ipykernel_10528\\3115349066.py#7\" target=\"_blank\"><span style=\"color: #7f7f7f; text-decoration-color: #7f7f7f\">7</span></a>\n",
       "</pre>\n"
      ],
      "text/plain": [
       "\u001b[2;36m[04/22/23 03:45:25]\u001b[0m\u001b[2;36m \u001b[0m\u001b[34mINFO    \u001b[0m \u001b[33mk\u001b[0m=\u001b[1;36m45\u001b[0m, \u001b[33mcost\u001b[0m=\u001b[1;36m93581\u001b[0m, \u001b[33mn_iter\u001b[0m=\u001b[1;36m37\u001b[0m                                            \u001b]8;id=792270;file://C:\\Users\\hao_l\\AppData\\Local\\Temp\\ipykernel_10528\\3115349066.py\u001b\\\u001b[2m3115349066.py\u001b[0m\u001b]8;;\u001b\\\u001b[2m:\u001b[0m\u001b]8;id=467389;file://C:\\Users\\hao_l\\AppData\\Local\\Temp\\ipykernel_10528\\3115349066.py#7\u001b\\\u001b[2m7\u001b[0m\u001b]8;;\u001b\\\n"
      ]
     },
     "metadata": {},
     "output_type": "display_data"
    },
    {
     "data": {
      "text/html": [
       "<pre style=\"white-space:pre;overflow-x:auto;line-height:normal;font-family:Menlo,'DejaVu Sans Mono',consolas,'Courier New',monospace\"><span style=\"color: #7fbfbf; text-decoration-color: #7fbfbf\">                    </span><span style=\"color: #000080; text-decoration-color: #000080\">INFO    </span> Performing clustering for <span style=\"color: #808000; text-decoration-color: #808000\">k</span>=<span style=\"color: #008080; text-decoration-color: #008080; font-weight: bold\">46</span>                                         <a href=\"file://C:\\Users\\hao_l\\AppData\\Local\\Temp\\ipykernel_10528\\3115349066.py\" target=\"_blank\"><span style=\"color: #7f7f7f; text-decoration-color: #7f7f7f\">3115349066.py</span></a><span style=\"color: #7f7f7f; text-decoration-color: #7f7f7f\">:</span><a href=\"file://C:\\Users\\hao_l\\AppData\\Local\\Temp\\ipykernel_10528\\3115349066.py#4\" target=\"_blank\"><span style=\"color: #7f7f7f; text-decoration-color: #7f7f7f\">4</span></a>\n",
       "</pre>\n"
      ],
      "text/plain": [
       "\u001b[2;36m                   \u001b[0m\u001b[2;36m \u001b[0m\u001b[34mINFO    \u001b[0m Performing clustering for \u001b[33mk\u001b[0m=\u001b[1;36m46\u001b[0m                                         \u001b]8;id=68872;file://C:\\Users\\hao_l\\AppData\\Local\\Temp\\ipykernel_10528\\3115349066.py\u001b\\\u001b[2m3115349066.py\u001b[0m\u001b]8;;\u001b\\\u001b[2m:\u001b[0m\u001b]8;id=223311;file://C:\\Users\\hao_l\\AppData\\Local\\Temp\\ipykernel_10528\\3115349066.py#4\u001b\\\u001b[2m4\u001b[0m\u001b]8;;\u001b\\\n"
      ]
     },
     "metadata": {},
     "output_type": "display_data"
    },
    {
     "data": {
      "text/html": [
       "<pre style=\"white-space:pre;overflow-x:auto;line-height:normal;font-family:Menlo,'DejaVu Sans Mono',consolas,'Courier New',monospace\"><span style=\"color: #7fbfbf; text-decoration-color: #7fbfbf\">[04/22/23 03:53:14] </span><span style=\"color: #000080; text-decoration-color: #000080\">INFO    </span> <span style=\"color: #808000; text-decoration-color: #808000\">k</span>=<span style=\"color: #008080; text-decoration-color: #008080; font-weight: bold\">46</span>, <span style=\"color: #808000; text-decoration-color: #808000\">cost</span>=<span style=\"color: #008080; text-decoration-color: #008080; font-weight: bold\">92987</span>, <span style=\"color: #808000; text-decoration-color: #808000\">n_iter</span>=<span style=\"color: #008080; text-decoration-color: #008080; font-weight: bold\">31</span>                                            <a href=\"file://C:\\Users\\hao_l\\AppData\\Local\\Temp\\ipykernel_10528\\3115349066.py\" target=\"_blank\"><span style=\"color: #7f7f7f; text-decoration-color: #7f7f7f\">3115349066.py</span></a><span style=\"color: #7f7f7f; text-decoration-color: #7f7f7f\">:</span><a href=\"file://C:\\Users\\hao_l\\AppData\\Local\\Temp\\ipykernel_10528\\3115349066.py#7\" target=\"_blank\"><span style=\"color: #7f7f7f; text-decoration-color: #7f7f7f\">7</span></a>\n",
       "</pre>\n"
      ],
      "text/plain": [
       "\u001b[2;36m[04/22/23 03:53:14]\u001b[0m\u001b[2;36m \u001b[0m\u001b[34mINFO    \u001b[0m \u001b[33mk\u001b[0m=\u001b[1;36m46\u001b[0m, \u001b[33mcost\u001b[0m=\u001b[1;36m92987\u001b[0m, \u001b[33mn_iter\u001b[0m=\u001b[1;36m31\u001b[0m                                            \u001b]8;id=36286;file://C:\\Users\\hao_l\\AppData\\Local\\Temp\\ipykernel_10528\\3115349066.py\u001b\\\u001b[2m3115349066.py\u001b[0m\u001b]8;;\u001b\\\u001b[2m:\u001b[0m\u001b]8;id=441471;file://C:\\Users\\hao_l\\AppData\\Local\\Temp\\ipykernel_10528\\3115349066.py#7\u001b\\\u001b[2m7\u001b[0m\u001b]8;;\u001b\\\n"
      ]
     },
     "metadata": {},
     "output_type": "display_data"
    },
    {
     "data": {
      "text/html": [
       "<pre style=\"white-space:pre;overflow-x:auto;line-height:normal;font-family:Menlo,'DejaVu Sans Mono',consolas,'Courier New',monospace\"><span style=\"color: #7fbfbf; text-decoration-color: #7fbfbf\">                    </span><span style=\"color: #000080; text-decoration-color: #000080\">INFO    </span> Performing clustering for <span style=\"color: #808000; text-decoration-color: #808000\">k</span>=<span style=\"color: #008080; text-decoration-color: #008080; font-weight: bold\">47</span>                                         <a href=\"file://C:\\Users\\hao_l\\AppData\\Local\\Temp\\ipykernel_10528\\3115349066.py\" target=\"_blank\"><span style=\"color: #7f7f7f; text-decoration-color: #7f7f7f\">3115349066.py</span></a><span style=\"color: #7f7f7f; text-decoration-color: #7f7f7f\">:</span><a href=\"file://C:\\Users\\hao_l\\AppData\\Local\\Temp\\ipykernel_10528\\3115349066.py#4\" target=\"_blank\"><span style=\"color: #7f7f7f; text-decoration-color: #7f7f7f\">4</span></a>\n",
       "</pre>\n"
      ],
      "text/plain": [
       "\u001b[2;36m                   \u001b[0m\u001b[2;36m \u001b[0m\u001b[34mINFO    \u001b[0m Performing clustering for \u001b[33mk\u001b[0m=\u001b[1;36m47\u001b[0m                                         \u001b]8;id=915747;file://C:\\Users\\hao_l\\AppData\\Local\\Temp\\ipykernel_10528\\3115349066.py\u001b\\\u001b[2m3115349066.py\u001b[0m\u001b]8;;\u001b\\\u001b[2m:\u001b[0m\u001b]8;id=479974;file://C:\\Users\\hao_l\\AppData\\Local\\Temp\\ipykernel_10528\\3115349066.py#4\u001b\\\u001b[2m4\u001b[0m\u001b]8;;\u001b\\\n"
      ]
     },
     "metadata": {},
     "output_type": "display_data"
    },
    {
     "data": {
      "text/html": [
       "<pre style=\"white-space:pre;overflow-x:auto;line-height:normal;font-family:Menlo,'DejaVu Sans Mono',consolas,'Courier New',monospace\"><span style=\"color: #7fbfbf; text-decoration-color: #7fbfbf\">[04/22/23 03:59:25] </span><span style=\"color: #000080; text-decoration-color: #000080\">INFO    </span> <span style=\"color: #808000; text-decoration-color: #808000\">k</span>=<span style=\"color: #008080; text-decoration-color: #008080; font-weight: bold\">47</span>, <span style=\"color: #808000; text-decoration-color: #808000\">cost</span>=<span style=\"color: #008080; text-decoration-color: #008080; font-weight: bold\">92517</span>, <span style=\"color: #808000; text-decoration-color: #808000\">n_iter</span>=<span style=\"color: #008080; text-decoration-color: #008080; font-weight: bold\">43</span>                                            <a href=\"file://C:\\Users\\hao_l\\AppData\\Local\\Temp\\ipykernel_10528\\3115349066.py\" target=\"_blank\"><span style=\"color: #7f7f7f; text-decoration-color: #7f7f7f\">3115349066.py</span></a><span style=\"color: #7f7f7f; text-decoration-color: #7f7f7f\">:</span><a href=\"file://C:\\Users\\hao_l\\AppData\\Local\\Temp\\ipykernel_10528\\3115349066.py#7\" target=\"_blank\"><span style=\"color: #7f7f7f; text-decoration-color: #7f7f7f\">7</span></a>\n",
       "</pre>\n"
      ],
      "text/plain": [
       "\u001b[2;36m[04/22/23 03:59:25]\u001b[0m\u001b[2;36m \u001b[0m\u001b[34mINFO    \u001b[0m \u001b[33mk\u001b[0m=\u001b[1;36m47\u001b[0m, \u001b[33mcost\u001b[0m=\u001b[1;36m92517\u001b[0m, \u001b[33mn_iter\u001b[0m=\u001b[1;36m43\u001b[0m                                            \u001b]8;id=789611;file://C:\\Users\\hao_l\\AppData\\Local\\Temp\\ipykernel_10528\\3115349066.py\u001b\\\u001b[2m3115349066.py\u001b[0m\u001b]8;;\u001b\\\u001b[2m:\u001b[0m\u001b]8;id=182290;file://C:\\Users\\hao_l\\AppData\\Local\\Temp\\ipykernel_10528\\3115349066.py#7\u001b\\\u001b[2m7\u001b[0m\u001b]8;;\u001b\\\n"
      ]
     },
     "metadata": {},
     "output_type": "display_data"
    },
    {
     "data": {
      "text/html": [
       "<pre style=\"white-space:pre;overflow-x:auto;line-height:normal;font-family:Menlo,'DejaVu Sans Mono',consolas,'Courier New',monospace\"><span style=\"color: #7fbfbf; text-decoration-color: #7fbfbf\">                    </span><span style=\"color: #000080; text-decoration-color: #000080\">INFO    </span> Performing clustering for <span style=\"color: #808000; text-decoration-color: #808000\">k</span>=<span style=\"color: #008080; text-decoration-color: #008080; font-weight: bold\">48</span>                                         <a href=\"file://C:\\Users\\hao_l\\AppData\\Local\\Temp\\ipykernel_10528\\3115349066.py\" target=\"_blank\"><span style=\"color: #7f7f7f; text-decoration-color: #7f7f7f\">3115349066.py</span></a><span style=\"color: #7f7f7f; text-decoration-color: #7f7f7f\">:</span><a href=\"file://C:\\Users\\hao_l\\AppData\\Local\\Temp\\ipykernel_10528\\3115349066.py#4\" target=\"_blank\"><span style=\"color: #7f7f7f; text-decoration-color: #7f7f7f\">4</span></a>\n",
       "</pre>\n"
      ],
      "text/plain": [
       "\u001b[2;36m                   \u001b[0m\u001b[2;36m \u001b[0m\u001b[34mINFO    \u001b[0m Performing clustering for \u001b[33mk\u001b[0m=\u001b[1;36m48\u001b[0m                                         \u001b]8;id=938029;file://C:\\Users\\hao_l\\AppData\\Local\\Temp\\ipykernel_10528\\3115349066.py\u001b\\\u001b[2m3115349066.py\u001b[0m\u001b]8;;\u001b\\\u001b[2m:\u001b[0m\u001b]8;id=246441;file://C:\\Users\\hao_l\\AppData\\Local\\Temp\\ipykernel_10528\\3115349066.py#4\u001b\\\u001b[2m4\u001b[0m\u001b]8;;\u001b\\\n"
      ]
     },
     "metadata": {},
     "output_type": "display_data"
    },
    {
     "data": {
      "text/html": [
       "<pre style=\"white-space:pre;overflow-x:auto;line-height:normal;font-family:Menlo,'DejaVu Sans Mono',consolas,'Courier New',monospace\"><span style=\"color: #7fbfbf; text-decoration-color: #7fbfbf\">[04/22/23 04:07:09] </span><span style=\"color: #000080; text-decoration-color: #000080\">INFO    </span> <span style=\"color: #808000; text-decoration-color: #808000\">k</span>=<span style=\"color: #008080; text-decoration-color: #008080; font-weight: bold\">48</span>, <span style=\"color: #808000; text-decoration-color: #808000\">cost</span>=<span style=\"color: #008080; text-decoration-color: #008080; font-weight: bold\">92108</span>, <span style=\"color: #808000; text-decoration-color: #808000\">n_iter</span>=<span style=\"color: #008080; text-decoration-color: #008080; font-weight: bold\">42</span>                                            <a href=\"file://C:\\Users\\hao_l\\AppData\\Local\\Temp\\ipykernel_10528\\3115349066.py\" target=\"_blank\"><span style=\"color: #7f7f7f; text-decoration-color: #7f7f7f\">3115349066.py</span></a><span style=\"color: #7f7f7f; text-decoration-color: #7f7f7f\">:</span><a href=\"file://C:\\Users\\hao_l\\AppData\\Local\\Temp\\ipykernel_10528\\3115349066.py#7\" target=\"_blank\"><span style=\"color: #7f7f7f; text-decoration-color: #7f7f7f\">7</span></a>\n",
       "</pre>\n"
      ],
      "text/plain": [
       "\u001b[2;36m[04/22/23 04:07:09]\u001b[0m\u001b[2;36m \u001b[0m\u001b[34mINFO    \u001b[0m \u001b[33mk\u001b[0m=\u001b[1;36m48\u001b[0m, \u001b[33mcost\u001b[0m=\u001b[1;36m92108\u001b[0m, \u001b[33mn_iter\u001b[0m=\u001b[1;36m42\u001b[0m                                            \u001b]8;id=377284;file://C:\\Users\\hao_l\\AppData\\Local\\Temp\\ipykernel_10528\\3115349066.py\u001b\\\u001b[2m3115349066.py\u001b[0m\u001b]8;;\u001b\\\u001b[2m:\u001b[0m\u001b]8;id=481919;file://C:\\Users\\hao_l\\AppData\\Local\\Temp\\ipykernel_10528\\3115349066.py#7\u001b\\\u001b[2m7\u001b[0m\u001b]8;;\u001b\\\n"
      ]
     },
     "metadata": {},
     "output_type": "display_data"
    },
    {
     "data": {
      "text/html": [
       "<pre style=\"white-space:pre;overflow-x:auto;line-height:normal;font-family:Menlo,'DejaVu Sans Mono',consolas,'Courier New',monospace\"><span style=\"color: #7fbfbf; text-decoration-color: #7fbfbf\">                    </span><span style=\"color: #000080; text-decoration-color: #000080\">INFO    </span> Performing clustering for <span style=\"color: #808000; text-decoration-color: #808000\">k</span>=<span style=\"color: #008080; text-decoration-color: #008080; font-weight: bold\">49</span>                                         <a href=\"file://C:\\Users\\hao_l\\AppData\\Local\\Temp\\ipykernel_10528\\3115349066.py\" target=\"_blank\"><span style=\"color: #7f7f7f; text-decoration-color: #7f7f7f\">3115349066.py</span></a><span style=\"color: #7f7f7f; text-decoration-color: #7f7f7f\">:</span><a href=\"file://C:\\Users\\hao_l\\AppData\\Local\\Temp\\ipykernel_10528\\3115349066.py#4\" target=\"_blank\"><span style=\"color: #7f7f7f; text-decoration-color: #7f7f7f\">4</span></a>\n",
       "</pre>\n"
      ],
      "text/plain": [
       "\u001b[2;36m                   \u001b[0m\u001b[2;36m \u001b[0m\u001b[34mINFO    \u001b[0m Performing clustering for \u001b[33mk\u001b[0m=\u001b[1;36m49\u001b[0m                                         \u001b]8;id=429722;file://C:\\Users\\hao_l\\AppData\\Local\\Temp\\ipykernel_10528\\3115349066.py\u001b\\\u001b[2m3115349066.py\u001b[0m\u001b]8;;\u001b\\\u001b[2m:\u001b[0m\u001b]8;id=498698;file://C:\\Users\\hao_l\\AppData\\Local\\Temp\\ipykernel_10528\\3115349066.py#4\u001b\\\u001b[2m4\u001b[0m\u001b]8;;\u001b\\\n"
      ]
     },
     "metadata": {},
     "output_type": "display_data"
    },
    {
     "data": {
      "text/html": [
       "<pre style=\"white-space:pre;overflow-x:auto;line-height:normal;font-family:Menlo,'DejaVu Sans Mono',consolas,'Courier New',monospace\"><span style=\"color: #7fbfbf; text-decoration-color: #7fbfbf\">[04/22/23 04:15:03] </span><span style=\"color: #000080; text-decoration-color: #000080\">INFO    </span> <span style=\"color: #808000; text-decoration-color: #808000\">k</span>=<span style=\"color: #008080; text-decoration-color: #008080; font-weight: bold\">49</span>, <span style=\"color: #808000; text-decoration-color: #808000\">cost</span>=<span style=\"color: #008080; text-decoration-color: #008080; font-weight: bold\">91545</span>, <span style=\"color: #808000; text-decoration-color: #808000\">n_iter</span>=<span style=\"color: #008080; text-decoration-color: #008080; font-weight: bold\">68</span>                                            <a href=\"file://C:\\Users\\hao_l\\AppData\\Local\\Temp\\ipykernel_10528\\3115349066.py\" target=\"_blank\"><span style=\"color: #7f7f7f; text-decoration-color: #7f7f7f\">3115349066.py</span></a><span style=\"color: #7f7f7f; text-decoration-color: #7f7f7f\">:</span><a href=\"file://C:\\Users\\hao_l\\AppData\\Local\\Temp\\ipykernel_10528\\3115349066.py#7\" target=\"_blank\"><span style=\"color: #7f7f7f; text-decoration-color: #7f7f7f\">7</span></a>\n",
       "</pre>\n"
      ],
      "text/plain": [
       "\u001b[2;36m[04/22/23 04:15:03]\u001b[0m\u001b[2;36m \u001b[0m\u001b[34mINFO    \u001b[0m \u001b[33mk\u001b[0m=\u001b[1;36m49\u001b[0m, \u001b[33mcost\u001b[0m=\u001b[1;36m91545\u001b[0m, \u001b[33mn_iter\u001b[0m=\u001b[1;36m68\u001b[0m                                            \u001b]8;id=799315;file://C:\\Users\\hao_l\\AppData\\Local\\Temp\\ipykernel_10528\\3115349066.py\u001b\\\u001b[2m3115349066.py\u001b[0m\u001b]8;;\u001b\\\u001b[2m:\u001b[0m\u001b]8;id=639680;file://C:\\Users\\hao_l\\AppData\\Local\\Temp\\ipykernel_10528\\3115349066.py#7\u001b\\\u001b[2m7\u001b[0m\u001b]8;;\u001b\\\n"
      ]
     },
     "metadata": {},
     "output_type": "display_data"
    },
    {
     "data": {
      "text/html": [
       "<pre style=\"white-space:pre;overflow-x:auto;line-height:normal;font-family:Menlo,'DejaVu Sans Mono',consolas,'Courier New',monospace\"><span style=\"color: #7fbfbf; text-decoration-color: #7fbfbf\">                    </span><span style=\"color: #000080; text-decoration-color: #000080\">INFO    </span> Performing clustering for <span style=\"color: #808000; text-decoration-color: #808000\">k</span>=<span style=\"color: #008080; text-decoration-color: #008080; font-weight: bold\">50</span>                                         <a href=\"file://C:\\Users\\hao_l\\AppData\\Local\\Temp\\ipykernel_10528\\3115349066.py\" target=\"_blank\"><span style=\"color: #7f7f7f; text-decoration-color: #7f7f7f\">3115349066.py</span></a><span style=\"color: #7f7f7f; text-decoration-color: #7f7f7f\">:</span><a href=\"file://C:\\Users\\hao_l\\AppData\\Local\\Temp\\ipykernel_10528\\3115349066.py#4\" target=\"_blank\"><span style=\"color: #7f7f7f; text-decoration-color: #7f7f7f\">4</span></a>\n",
       "</pre>\n"
      ],
      "text/plain": [
       "\u001b[2;36m                   \u001b[0m\u001b[2;36m \u001b[0m\u001b[34mINFO    \u001b[0m Performing clustering for \u001b[33mk\u001b[0m=\u001b[1;36m50\u001b[0m                                         \u001b]8;id=69211;file://C:\\Users\\hao_l\\AppData\\Local\\Temp\\ipykernel_10528\\3115349066.py\u001b\\\u001b[2m3115349066.py\u001b[0m\u001b]8;;\u001b\\\u001b[2m:\u001b[0m\u001b]8;id=350314;file://C:\\Users\\hao_l\\AppData\\Local\\Temp\\ipykernel_10528\\3115349066.py#4\u001b\\\u001b[2m4\u001b[0m\u001b]8;;\u001b\\\n"
      ]
     },
     "metadata": {},
     "output_type": "display_data"
    },
    {
     "data": {
      "text/html": [
       "<pre style=\"white-space:pre;overflow-x:auto;line-height:normal;font-family:Menlo,'DejaVu Sans Mono',consolas,'Courier New',monospace\"><span style=\"color: #7fbfbf; text-decoration-color: #7fbfbf\">[04/22/23 04:23:24] </span><span style=\"color: #000080; text-decoration-color: #000080\">INFO    </span> <span style=\"color: #808000; text-decoration-color: #808000\">k</span>=<span style=\"color: #008080; text-decoration-color: #008080; font-weight: bold\">50</span>, <span style=\"color: #808000; text-decoration-color: #808000\">cost</span>=<span style=\"color: #008080; text-decoration-color: #008080; font-weight: bold\">90726</span>, <span style=\"color: #808000; text-decoration-color: #808000\">n_iter</span>=<span style=\"color: #008080; text-decoration-color: #008080; font-weight: bold\">47</span>                                            <a href=\"file://C:\\Users\\hao_l\\AppData\\Local\\Temp\\ipykernel_10528\\3115349066.py\" target=\"_blank\"><span style=\"color: #7f7f7f; text-decoration-color: #7f7f7f\">3115349066.py</span></a><span style=\"color: #7f7f7f; text-decoration-color: #7f7f7f\">:</span><a href=\"file://C:\\Users\\hao_l\\AppData\\Local\\Temp\\ipykernel_10528\\3115349066.py#7\" target=\"_blank\"><span style=\"color: #7f7f7f; text-decoration-color: #7f7f7f\">7</span></a>\n",
       "</pre>\n"
      ],
      "text/plain": [
       "\u001b[2;36m[04/22/23 04:23:24]\u001b[0m\u001b[2;36m \u001b[0m\u001b[34mINFO    \u001b[0m \u001b[33mk\u001b[0m=\u001b[1;36m50\u001b[0m, \u001b[33mcost\u001b[0m=\u001b[1;36m90726\u001b[0m, \u001b[33mn_iter\u001b[0m=\u001b[1;36m47\u001b[0m                                            \u001b]8;id=781027;file://C:\\Users\\hao_l\\AppData\\Local\\Temp\\ipykernel_10528\\3115349066.py\u001b\\\u001b[2m3115349066.py\u001b[0m\u001b]8;;\u001b\\\u001b[2m:\u001b[0m\u001b]8;id=147592;file://C:\\Users\\hao_l\\AppData\\Local\\Temp\\ipykernel_10528\\3115349066.py#7\u001b\\\u001b[2m7\u001b[0m\u001b]8;;\u001b\\\n"
      ]
     },
     "metadata": {},
     "output_type": "display_data"
    },
    {
     "data": {
      "text/html": [
       "<pre style=\"white-space:pre;overflow-x:auto;line-height:normal;font-family:Menlo,'DejaVu Sans Mono',consolas,'Courier New',monospace\"><span style=\"color: #7fbfbf; text-decoration-color: #7fbfbf\">                    </span><span style=\"color: #000080; text-decoration-color: #000080\">INFO    </span> Performing clustering for <span style=\"color: #808000; text-decoration-color: #808000\">k</span>=<span style=\"color: #008080; text-decoration-color: #008080; font-weight: bold\">51</span>                                         <a href=\"file://C:\\Users\\hao_l\\AppData\\Local\\Temp\\ipykernel_10528\\3115349066.py\" target=\"_blank\"><span style=\"color: #7f7f7f; text-decoration-color: #7f7f7f\">3115349066.py</span></a><span style=\"color: #7f7f7f; text-decoration-color: #7f7f7f\">:</span><a href=\"file://C:\\Users\\hao_l\\AppData\\Local\\Temp\\ipykernel_10528\\3115349066.py#4\" target=\"_blank\"><span style=\"color: #7f7f7f; text-decoration-color: #7f7f7f\">4</span></a>\n",
       "</pre>\n"
      ],
      "text/plain": [
       "\u001b[2;36m                   \u001b[0m\u001b[2;36m \u001b[0m\u001b[34mINFO    \u001b[0m Performing clustering for \u001b[33mk\u001b[0m=\u001b[1;36m51\u001b[0m                                         \u001b]8;id=747156;file://C:\\Users\\hao_l\\AppData\\Local\\Temp\\ipykernel_10528\\3115349066.py\u001b\\\u001b[2m3115349066.py\u001b[0m\u001b]8;;\u001b\\\u001b[2m:\u001b[0m\u001b]8;id=42778;file://C:\\Users\\hao_l\\AppData\\Local\\Temp\\ipykernel_10528\\3115349066.py#4\u001b\\\u001b[2m4\u001b[0m\u001b]8;;\u001b\\\n"
      ]
     },
     "metadata": {},
     "output_type": "display_data"
    },
    {
     "data": {
      "text/html": [
       "<pre style=\"white-space:pre;overflow-x:auto;line-height:normal;font-family:Menlo,'DejaVu Sans Mono',consolas,'Courier New',monospace\"><span style=\"color: #7fbfbf; text-decoration-color: #7fbfbf\">[04/22/23 04:31:30] </span><span style=\"color: #000080; text-decoration-color: #000080\">INFO    </span> <span style=\"color: #808000; text-decoration-color: #808000\">k</span>=<span style=\"color: #008080; text-decoration-color: #008080; font-weight: bold\">51</span>, <span style=\"color: #808000; text-decoration-color: #808000\">cost</span>=<span style=\"color: #008080; text-decoration-color: #008080; font-weight: bold\">90666</span>, <span style=\"color: #808000; text-decoration-color: #808000\">n_iter</span>=<span style=\"color: #008080; text-decoration-color: #008080; font-weight: bold\">67</span>                                            <a href=\"file://C:\\Users\\hao_l\\AppData\\Local\\Temp\\ipykernel_10528\\3115349066.py\" target=\"_blank\"><span style=\"color: #7f7f7f; text-decoration-color: #7f7f7f\">3115349066.py</span></a><span style=\"color: #7f7f7f; text-decoration-color: #7f7f7f\">:</span><a href=\"file://C:\\Users\\hao_l\\AppData\\Local\\Temp\\ipykernel_10528\\3115349066.py#7\" target=\"_blank\"><span style=\"color: #7f7f7f; text-decoration-color: #7f7f7f\">7</span></a>\n",
       "</pre>\n"
      ],
      "text/plain": [
       "\u001b[2;36m[04/22/23 04:31:30]\u001b[0m\u001b[2;36m \u001b[0m\u001b[34mINFO    \u001b[0m \u001b[33mk\u001b[0m=\u001b[1;36m51\u001b[0m, \u001b[33mcost\u001b[0m=\u001b[1;36m90666\u001b[0m, \u001b[33mn_iter\u001b[0m=\u001b[1;36m67\u001b[0m                                            \u001b]8;id=439254;file://C:\\Users\\hao_l\\AppData\\Local\\Temp\\ipykernel_10528\\3115349066.py\u001b\\\u001b[2m3115349066.py\u001b[0m\u001b]8;;\u001b\\\u001b[2m:\u001b[0m\u001b]8;id=96354;file://C:\\Users\\hao_l\\AppData\\Local\\Temp\\ipykernel_10528\\3115349066.py#7\u001b\\\u001b[2m7\u001b[0m\u001b]8;;\u001b\\\n"
      ]
     },
     "metadata": {},
     "output_type": "display_data"
    },
    {
     "data": {
      "text/html": [
       "<pre style=\"white-space:pre;overflow-x:auto;line-height:normal;font-family:Menlo,'DejaVu Sans Mono',consolas,'Courier New',monospace\"><span style=\"color: #7fbfbf; text-decoration-color: #7fbfbf\">                    </span><span style=\"color: #000080; text-decoration-color: #000080\">INFO    </span> Performing clustering for <span style=\"color: #808000; text-decoration-color: #808000\">k</span>=<span style=\"color: #008080; text-decoration-color: #008080; font-weight: bold\">52</span>                                         <a href=\"file://C:\\Users\\hao_l\\AppData\\Local\\Temp\\ipykernel_10528\\3115349066.py\" target=\"_blank\"><span style=\"color: #7f7f7f; text-decoration-color: #7f7f7f\">3115349066.py</span></a><span style=\"color: #7f7f7f; text-decoration-color: #7f7f7f\">:</span><a href=\"file://C:\\Users\\hao_l\\AppData\\Local\\Temp\\ipykernel_10528\\3115349066.py#4\" target=\"_blank\"><span style=\"color: #7f7f7f; text-decoration-color: #7f7f7f\">4</span></a>\n",
       "</pre>\n"
      ],
      "text/plain": [
       "\u001b[2;36m                   \u001b[0m\u001b[2;36m \u001b[0m\u001b[34mINFO    \u001b[0m Performing clustering for \u001b[33mk\u001b[0m=\u001b[1;36m52\u001b[0m                                         \u001b]8;id=843122;file://C:\\Users\\hao_l\\AppData\\Local\\Temp\\ipykernel_10528\\3115349066.py\u001b\\\u001b[2m3115349066.py\u001b[0m\u001b]8;;\u001b\\\u001b[2m:\u001b[0m\u001b]8;id=24042;file://C:\\Users\\hao_l\\AppData\\Local\\Temp\\ipykernel_10528\\3115349066.py#4\u001b\\\u001b[2m4\u001b[0m\u001b]8;;\u001b\\\n"
      ]
     },
     "metadata": {},
     "output_type": "display_data"
    },
    {
     "data": {
      "text/html": [
       "<pre style=\"white-space:pre;overflow-x:auto;line-height:normal;font-family:Menlo,'DejaVu Sans Mono',consolas,'Courier New',monospace\"><span style=\"color: #7fbfbf; text-decoration-color: #7fbfbf\">[04/22/23 04:38:09] </span><span style=\"color: #000080; text-decoration-color: #000080\">INFO    </span> <span style=\"color: #808000; text-decoration-color: #808000\">k</span>=<span style=\"color: #008080; text-decoration-color: #008080; font-weight: bold\">52</span>, <span style=\"color: #808000; text-decoration-color: #808000\">cost</span>=<span style=\"color: #008080; text-decoration-color: #008080; font-weight: bold\">90228</span>, <span style=\"color: #808000; text-decoration-color: #808000\">n_iter</span>=<span style=\"color: #008080; text-decoration-color: #008080; font-weight: bold\">60</span>                                            <a href=\"file://C:\\Users\\hao_l\\AppData\\Local\\Temp\\ipykernel_10528\\3115349066.py\" target=\"_blank\"><span style=\"color: #7f7f7f; text-decoration-color: #7f7f7f\">3115349066.py</span></a><span style=\"color: #7f7f7f; text-decoration-color: #7f7f7f\">:</span><a href=\"file://C:\\Users\\hao_l\\AppData\\Local\\Temp\\ipykernel_10528\\3115349066.py#7\" target=\"_blank\"><span style=\"color: #7f7f7f; text-decoration-color: #7f7f7f\">7</span></a>\n",
       "</pre>\n"
      ],
      "text/plain": [
       "\u001b[2;36m[04/22/23 04:38:09]\u001b[0m\u001b[2;36m \u001b[0m\u001b[34mINFO    \u001b[0m \u001b[33mk\u001b[0m=\u001b[1;36m52\u001b[0m, \u001b[33mcost\u001b[0m=\u001b[1;36m90228\u001b[0m, \u001b[33mn_iter\u001b[0m=\u001b[1;36m60\u001b[0m                                            \u001b]8;id=829459;file://C:\\Users\\hao_l\\AppData\\Local\\Temp\\ipykernel_10528\\3115349066.py\u001b\\\u001b[2m3115349066.py\u001b[0m\u001b]8;;\u001b\\\u001b[2m:\u001b[0m\u001b]8;id=781613;file://C:\\Users\\hao_l\\AppData\\Local\\Temp\\ipykernel_10528\\3115349066.py#7\u001b\\\u001b[2m7\u001b[0m\u001b]8;;\u001b\\\n"
      ]
     },
     "metadata": {},
     "output_type": "display_data"
    },
    {
     "data": {
      "text/html": [
       "<pre style=\"white-space:pre;overflow-x:auto;line-height:normal;font-family:Menlo,'DejaVu Sans Mono',consolas,'Courier New',monospace\"><span style=\"color: #7fbfbf; text-decoration-color: #7fbfbf\">                    </span><span style=\"color: #000080; text-decoration-color: #000080\">INFO    </span> Performing clustering for <span style=\"color: #808000; text-decoration-color: #808000\">k</span>=<span style=\"color: #008080; text-decoration-color: #008080; font-weight: bold\">53</span>                                         <a href=\"file://C:\\Users\\hao_l\\AppData\\Local\\Temp\\ipykernel_10528\\3115349066.py\" target=\"_blank\"><span style=\"color: #7f7f7f; text-decoration-color: #7f7f7f\">3115349066.py</span></a><span style=\"color: #7f7f7f; text-decoration-color: #7f7f7f\">:</span><a href=\"file://C:\\Users\\hao_l\\AppData\\Local\\Temp\\ipykernel_10528\\3115349066.py#4\" target=\"_blank\"><span style=\"color: #7f7f7f; text-decoration-color: #7f7f7f\">4</span></a>\n",
       "</pre>\n"
      ],
      "text/plain": [
       "\u001b[2;36m                   \u001b[0m\u001b[2;36m \u001b[0m\u001b[34mINFO    \u001b[0m Performing clustering for \u001b[33mk\u001b[0m=\u001b[1;36m53\u001b[0m                                         \u001b]8;id=498166;file://C:\\Users\\hao_l\\AppData\\Local\\Temp\\ipykernel_10528\\3115349066.py\u001b\\\u001b[2m3115349066.py\u001b[0m\u001b]8;;\u001b\\\u001b[2m:\u001b[0m\u001b]8;id=744072;file://C:\\Users\\hao_l\\AppData\\Local\\Temp\\ipykernel_10528\\3115349066.py#4\u001b\\\u001b[2m4\u001b[0m\u001b]8;;\u001b\\\n"
      ]
     },
     "metadata": {},
     "output_type": "display_data"
    },
    {
     "data": {
      "text/html": [
       "<pre style=\"white-space:pre;overflow-x:auto;line-height:normal;font-family:Menlo,'DejaVu Sans Mono',consolas,'Courier New',monospace\"><span style=\"color: #7fbfbf; text-decoration-color: #7fbfbf\">[04/22/23 04:45:51] </span><span style=\"color: #000080; text-decoration-color: #000080\">INFO    </span> <span style=\"color: #808000; text-decoration-color: #808000\">k</span>=<span style=\"color: #008080; text-decoration-color: #008080; font-weight: bold\">53</span>, <span style=\"color: #808000; text-decoration-color: #808000\">cost</span>=<span style=\"color: #008080; text-decoration-color: #008080; font-weight: bold\">89582</span>, <span style=\"color: #808000; text-decoration-color: #808000\">n_iter</span>=<span style=\"color: #008080; text-decoration-color: #008080; font-weight: bold\">69</span>                                            <a href=\"file://C:\\Users\\hao_l\\AppData\\Local\\Temp\\ipykernel_10528\\3115349066.py\" target=\"_blank\"><span style=\"color: #7f7f7f; text-decoration-color: #7f7f7f\">3115349066.py</span></a><span style=\"color: #7f7f7f; text-decoration-color: #7f7f7f\">:</span><a href=\"file://C:\\Users\\hao_l\\AppData\\Local\\Temp\\ipykernel_10528\\3115349066.py#7\" target=\"_blank\"><span style=\"color: #7f7f7f; text-decoration-color: #7f7f7f\">7</span></a>\n",
       "</pre>\n"
      ],
      "text/plain": [
       "\u001b[2;36m[04/22/23 04:45:51]\u001b[0m\u001b[2;36m \u001b[0m\u001b[34mINFO    \u001b[0m \u001b[33mk\u001b[0m=\u001b[1;36m53\u001b[0m, \u001b[33mcost\u001b[0m=\u001b[1;36m89582\u001b[0m, \u001b[33mn_iter\u001b[0m=\u001b[1;36m69\u001b[0m                                            \u001b]8;id=507975;file://C:\\Users\\hao_l\\AppData\\Local\\Temp\\ipykernel_10528\\3115349066.py\u001b\\\u001b[2m3115349066.py\u001b[0m\u001b]8;;\u001b\\\u001b[2m:\u001b[0m\u001b]8;id=971547;file://C:\\Users\\hao_l\\AppData\\Local\\Temp\\ipykernel_10528\\3115349066.py#7\u001b\\\u001b[2m7\u001b[0m\u001b]8;;\u001b\\\n"
      ]
     },
     "metadata": {},
     "output_type": "display_data"
    },
    {
     "data": {
      "text/html": [
       "<pre style=\"white-space:pre;overflow-x:auto;line-height:normal;font-family:Menlo,'DejaVu Sans Mono',consolas,'Courier New',monospace\"><span style=\"color: #7fbfbf; text-decoration-color: #7fbfbf\">                    </span><span style=\"color: #000080; text-decoration-color: #000080\">INFO    </span> Performing clustering for <span style=\"color: #808000; text-decoration-color: #808000\">k</span>=<span style=\"color: #008080; text-decoration-color: #008080; font-weight: bold\">54</span>                                         <a href=\"file://C:\\Users\\hao_l\\AppData\\Local\\Temp\\ipykernel_10528\\3115349066.py\" target=\"_blank\"><span style=\"color: #7f7f7f; text-decoration-color: #7f7f7f\">3115349066.py</span></a><span style=\"color: #7f7f7f; text-decoration-color: #7f7f7f\">:</span><a href=\"file://C:\\Users\\hao_l\\AppData\\Local\\Temp\\ipykernel_10528\\3115349066.py#4\" target=\"_blank\"><span style=\"color: #7f7f7f; text-decoration-color: #7f7f7f\">4</span></a>\n",
       "</pre>\n"
      ],
      "text/plain": [
       "\u001b[2;36m                   \u001b[0m\u001b[2;36m \u001b[0m\u001b[34mINFO    \u001b[0m Performing clustering for \u001b[33mk\u001b[0m=\u001b[1;36m54\u001b[0m                                         \u001b]8;id=665578;file://C:\\Users\\hao_l\\AppData\\Local\\Temp\\ipykernel_10528\\3115349066.py\u001b\\\u001b[2m3115349066.py\u001b[0m\u001b]8;;\u001b\\\u001b[2m:\u001b[0m\u001b]8;id=380003;file://C:\\Users\\hao_l\\AppData\\Local\\Temp\\ipykernel_10528\\3115349066.py#4\u001b\\\u001b[2m4\u001b[0m\u001b]8;;\u001b\\\n"
      ]
     },
     "metadata": {},
     "output_type": "display_data"
    },
    {
     "data": {
      "text/html": [
       "<pre style=\"white-space:pre;overflow-x:auto;line-height:normal;font-family:Menlo,'DejaVu Sans Mono',consolas,'Courier New',monospace\"><span style=\"color: #7fbfbf; text-decoration-color: #7fbfbf\">[04/22/23 04:55:07] </span><span style=\"color: #000080; text-decoration-color: #000080\">INFO    </span> <span style=\"color: #808000; text-decoration-color: #808000\">k</span>=<span style=\"color: #008080; text-decoration-color: #008080; font-weight: bold\">54</span>, <span style=\"color: #808000; text-decoration-color: #808000\">cost</span>=<span style=\"color: #008080; text-decoration-color: #008080; font-weight: bold\">89210</span>, <span style=\"color: #808000; text-decoration-color: #808000\">n_iter</span>=<span style=\"color: #008080; text-decoration-color: #008080; font-weight: bold\">100</span>                                           <a href=\"file://C:\\Users\\hao_l\\AppData\\Local\\Temp\\ipykernel_10528\\3115349066.py\" target=\"_blank\"><span style=\"color: #7f7f7f; text-decoration-color: #7f7f7f\">3115349066.py</span></a><span style=\"color: #7f7f7f; text-decoration-color: #7f7f7f\">:</span><a href=\"file://C:\\Users\\hao_l\\AppData\\Local\\Temp\\ipykernel_10528\\3115349066.py#7\" target=\"_blank\"><span style=\"color: #7f7f7f; text-decoration-color: #7f7f7f\">7</span></a>\n",
       "</pre>\n"
      ],
      "text/plain": [
       "\u001b[2;36m[04/22/23 04:55:07]\u001b[0m\u001b[2;36m \u001b[0m\u001b[34mINFO    \u001b[0m \u001b[33mk\u001b[0m=\u001b[1;36m54\u001b[0m, \u001b[33mcost\u001b[0m=\u001b[1;36m89210\u001b[0m, \u001b[33mn_iter\u001b[0m=\u001b[1;36m100\u001b[0m                                           \u001b]8;id=179215;file://C:\\Users\\hao_l\\AppData\\Local\\Temp\\ipykernel_10528\\3115349066.py\u001b\\\u001b[2m3115349066.py\u001b[0m\u001b]8;;\u001b\\\u001b[2m:\u001b[0m\u001b]8;id=942677;file://C:\\Users\\hao_l\\AppData\\Local\\Temp\\ipykernel_10528\\3115349066.py#7\u001b\\\u001b[2m7\u001b[0m\u001b]8;;\u001b\\\n"
      ]
     },
     "metadata": {},
     "output_type": "display_data"
    },
    {
     "data": {
      "text/html": [
       "<pre style=\"white-space:pre;overflow-x:auto;line-height:normal;font-family:Menlo,'DejaVu Sans Mono',consolas,'Courier New',monospace\"><span style=\"color: #7fbfbf; text-decoration-color: #7fbfbf\">                    </span><span style=\"color: #000080; text-decoration-color: #000080\">INFO    </span> Performing clustering for <span style=\"color: #808000; text-decoration-color: #808000\">k</span>=<span style=\"color: #008080; text-decoration-color: #008080; font-weight: bold\">55</span>                                         <a href=\"file://C:\\Users\\hao_l\\AppData\\Local\\Temp\\ipykernel_10528\\3115349066.py\" target=\"_blank\"><span style=\"color: #7f7f7f; text-decoration-color: #7f7f7f\">3115349066.py</span></a><span style=\"color: #7f7f7f; text-decoration-color: #7f7f7f\">:</span><a href=\"file://C:\\Users\\hao_l\\AppData\\Local\\Temp\\ipykernel_10528\\3115349066.py#4\" target=\"_blank\"><span style=\"color: #7f7f7f; text-decoration-color: #7f7f7f\">4</span></a>\n",
       "</pre>\n"
      ],
      "text/plain": [
       "\u001b[2;36m                   \u001b[0m\u001b[2;36m \u001b[0m\u001b[34mINFO    \u001b[0m Performing clustering for \u001b[33mk\u001b[0m=\u001b[1;36m55\u001b[0m                                         \u001b]8;id=295038;file://C:\\Users\\hao_l\\AppData\\Local\\Temp\\ipykernel_10528\\3115349066.py\u001b\\\u001b[2m3115349066.py\u001b[0m\u001b]8;;\u001b\\\u001b[2m:\u001b[0m\u001b]8;id=389888;file://C:\\Users\\hao_l\\AppData\\Local\\Temp\\ipykernel_10528\\3115349066.py#4\u001b\\\u001b[2m4\u001b[0m\u001b]8;;\u001b\\\n"
      ]
     },
     "metadata": {},
     "output_type": "display_data"
    },
    {
     "data": {
      "text/html": [
       "<pre style=\"white-space:pre;overflow-x:auto;line-height:normal;font-family:Menlo,'DejaVu Sans Mono',consolas,'Courier New',monospace\"><span style=\"color: #7fbfbf; text-decoration-color: #7fbfbf\">[04/22/23 05:03:57] </span><span style=\"color: #000080; text-decoration-color: #000080\">INFO    </span> <span style=\"color: #808000; text-decoration-color: #808000\">k</span>=<span style=\"color: #008080; text-decoration-color: #008080; font-weight: bold\">55</span>, <span style=\"color: #808000; text-decoration-color: #808000\">cost</span>=<span style=\"color: #008080; text-decoration-color: #008080; font-weight: bold\">89029</span>, <span style=\"color: #808000; text-decoration-color: #808000\">n_iter</span>=<span style=\"color: #008080; text-decoration-color: #008080; font-weight: bold\">35</span>                                            <a href=\"file://C:\\Users\\hao_l\\AppData\\Local\\Temp\\ipykernel_10528\\3115349066.py\" target=\"_blank\"><span style=\"color: #7f7f7f; text-decoration-color: #7f7f7f\">3115349066.py</span></a><span style=\"color: #7f7f7f; text-decoration-color: #7f7f7f\">:</span><a href=\"file://C:\\Users\\hao_l\\AppData\\Local\\Temp\\ipykernel_10528\\3115349066.py#7\" target=\"_blank\"><span style=\"color: #7f7f7f; text-decoration-color: #7f7f7f\">7</span></a>\n",
       "</pre>\n"
      ],
      "text/plain": [
       "\u001b[2;36m[04/22/23 05:03:57]\u001b[0m\u001b[2;36m \u001b[0m\u001b[34mINFO    \u001b[0m \u001b[33mk\u001b[0m=\u001b[1;36m55\u001b[0m, \u001b[33mcost\u001b[0m=\u001b[1;36m89029\u001b[0m, \u001b[33mn_iter\u001b[0m=\u001b[1;36m35\u001b[0m                                            \u001b]8;id=237454;file://C:\\Users\\hao_l\\AppData\\Local\\Temp\\ipykernel_10528\\3115349066.py\u001b\\\u001b[2m3115349066.py\u001b[0m\u001b]8;;\u001b\\\u001b[2m:\u001b[0m\u001b]8;id=70671;file://C:\\Users\\hao_l\\AppData\\Local\\Temp\\ipykernel_10528\\3115349066.py#7\u001b\\\u001b[2m7\u001b[0m\u001b]8;;\u001b\\\n"
      ]
     },
     "metadata": {},
     "output_type": "display_data"
    },
    {
     "data": {
      "text/html": [
       "<pre style=\"white-space:pre;overflow-x:auto;line-height:normal;font-family:Menlo,'DejaVu Sans Mono',consolas,'Courier New',monospace\"><span style=\"color: #7fbfbf; text-decoration-color: #7fbfbf\">                    </span><span style=\"color: #000080; text-decoration-color: #000080\">INFO    </span> Performing clustering for <span style=\"color: #808000; text-decoration-color: #808000\">k</span>=<span style=\"color: #008080; text-decoration-color: #008080; font-weight: bold\">56</span>                                         <a href=\"file://C:\\Users\\hao_l\\AppData\\Local\\Temp\\ipykernel_10528\\3115349066.py\" target=\"_blank\"><span style=\"color: #7f7f7f; text-decoration-color: #7f7f7f\">3115349066.py</span></a><span style=\"color: #7f7f7f; text-decoration-color: #7f7f7f\">:</span><a href=\"file://C:\\Users\\hao_l\\AppData\\Local\\Temp\\ipykernel_10528\\3115349066.py#4\" target=\"_blank\"><span style=\"color: #7f7f7f; text-decoration-color: #7f7f7f\">4</span></a>\n",
       "</pre>\n"
      ],
      "text/plain": [
       "\u001b[2;36m                   \u001b[0m\u001b[2;36m \u001b[0m\u001b[34mINFO    \u001b[0m Performing clustering for \u001b[33mk\u001b[0m=\u001b[1;36m56\u001b[0m                                         \u001b]8;id=802810;file://C:\\Users\\hao_l\\AppData\\Local\\Temp\\ipykernel_10528\\3115349066.py\u001b\\\u001b[2m3115349066.py\u001b[0m\u001b]8;;\u001b\\\u001b[2m:\u001b[0m\u001b]8;id=260421;file://C:\\Users\\hao_l\\AppData\\Local\\Temp\\ipykernel_10528\\3115349066.py#4\u001b\\\u001b[2m4\u001b[0m\u001b]8;;\u001b\\\n"
      ]
     },
     "metadata": {},
     "output_type": "display_data"
    },
    {
     "data": {
      "text/html": [
       "<pre style=\"white-space:pre;overflow-x:auto;line-height:normal;font-family:Menlo,'DejaVu Sans Mono',consolas,'Courier New',monospace\"><span style=\"color: #7fbfbf; text-decoration-color: #7fbfbf\">[04/22/23 05:14:46] </span><span style=\"color: #000080; text-decoration-color: #000080\">INFO    </span> <span style=\"color: #808000; text-decoration-color: #808000\">k</span>=<span style=\"color: #008080; text-decoration-color: #008080; font-weight: bold\">56</span>, <span style=\"color: #808000; text-decoration-color: #808000\">cost</span>=<span style=\"color: #008080; text-decoration-color: #008080; font-weight: bold\">88560</span>, <span style=\"color: #808000; text-decoration-color: #808000\">n_iter</span>=<span style=\"color: #008080; text-decoration-color: #008080; font-weight: bold\">51</span>                                            <a href=\"file://C:\\Users\\hao_l\\AppData\\Local\\Temp\\ipykernel_10528\\3115349066.py\" target=\"_blank\"><span style=\"color: #7f7f7f; text-decoration-color: #7f7f7f\">3115349066.py</span></a><span style=\"color: #7f7f7f; text-decoration-color: #7f7f7f\">:</span><a href=\"file://C:\\Users\\hao_l\\AppData\\Local\\Temp\\ipykernel_10528\\3115349066.py#7\" target=\"_blank\"><span style=\"color: #7f7f7f; text-decoration-color: #7f7f7f\">7</span></a>\n",
       "</pre>\n"
      ],
      "text/plain": [
       "\u001b[2;36m[04/22/23 05:14:46]\u001b[0m\u001b[2;36m \u001b[0m\u001b[34mINFO    \u001b[0m \u001b[33mk\u001b[0m=\u001b[1;36m56\u001b[0m, \u001b[33mcost\u001b[0m=\u001b[1;36m88560\u001b[0m, \u001b[33mn_iter\u001b[0m=\u001b[1;36m51\u001b[0m                                            \u001b]8;id=697667;file://C:\\Users\\hao_l\\AppData\\Local\\Temp\\ipykernel_10528\\3115349066.py\u001b\\\u001b[2m3115349066.py\u001b[0m\u001b]8;;\u001b\\\u001b[2m:\u001b[0m\u001b]8;id=142408;file://C:\\Users\\hao_l\\AppData\\Local\\Temp\\ipykernel_10528\\3115349066.py#7\u001b\\\u001b[2m7\u001b[0m\u001b]8;;\u001b\\\n"
      ]
     },
     "metadata": {},
     "output_type": "display_data"
    },
    {
     "data": {
      "text/html": [
       "<pre style=\"white-space:pre;overflow-x:auto;line-height:normal;font-family:Menlo,'DejaVu Sans Mono',consolas,'Courier New',monospace\"><span style=\"color: #7fbfbf; text-decoration-color: #7fbfbf\">                    </span><span style=\"color: #000080; text-decoration-color: #000080\">INFO    </span> Performing clustering for <span style=\"color: #808000; text-decoration-color: #808000\">k</span>=<span style=\"color: #008080; text-decoration-color: #008080; font-weight: bold\">57</span>                                         <a href=\"file://C:\\Users\\hao_l\\AppData\\Local\\Temp\\ipykernel_10528\\3115349066.py\" target=\"_blank\"><span style=\"color: #7f7f7f; text-decoration-color: #7f7f7f\">3115349066.py</span></a><span style=\"color: #7f7f7f; text-decoration-color: #7f7f7f\">:</span><a href=\"file://C:\\Users\\hao_l\\AppData\\Local\\Temp\\ipykernel_10528\\3115349066.py#4\" target=\"_blank\"><span style=\"color: #7f7f7f; text-decoration-color: #7f7f7f\">4</span></a>\n",
       "</pre>\n"
      ],
      "text/plain": [
       "\u001b[2;36m                   \u001b[0m\u001b[2;36m \u001b[0m\u001b[34mINFO    \u001b[0m Performing clustering for \u001b[33mk\u001b[0m=\u001b[1;36m57\u001b[0m                                         \u001b]8;id=62775;file://C:\\Users\\hao_l\\AppData\\Local\\Temp\\ipykernel_10528\\3115349066.py\u001b\\\u001b[2m3115349066.py\u001b[0m\u001b]8;;\u001b\\\u001b[2m:\u001b[0m\u001b]8;id=715035;file://C:\\Users\\hao_l\\AppData\\Local\\Temp\\ipykernel_10528\\3115349066.py#4\u001b\\\u001b[2m4\u001b[0m\u001b]8;;\u001b\\\n"
      ]
     },
     "metadata": {},
     "output_type": "display_data"
    },
    {
     "data": {
      "text/html": [
       "<pre style=\"white-space:pre;overflow-x:auto;line-height:normal;font-family:Menlo,'DejaVu Sans Mono',consolas,'Courier New',monospace\"><span style=\"color: #7fbfbf; text-decoration-color: #7fbfbf\">[04/22/23 05:25:23] </span><span style=\"color: #000080; text-decoration-color: #000080\">INFO    </span> <span style=\"color: #808000; text-decoration-color: #808000\">k</span>=<span style=\"color: #008080; text-decoration-color: #008080; font-weight: bold\">57</span>, <span style=\"color: #808000; text-decoration-color: #808000\">cost</span>=<span style=\"color: #008080; text-decoration-color: #008080; font-weight: bold\">88103</span>, <span style=\"color: #808000; text-decoration-color: #808000\">n_iter</span>=<span style=\"color: #008080; text-decoration-color: #008080; font-weight: bold\">62</span>                                            <a href=\"file://C:\\Users\\hao_l\\AppData\\Local\\Temp\\ipykernel_10528\\3115349066.py\" target=\"_blank\"><span style=\"color: #7f7f7f; text-decoration-color: #7f7f7f\">3115349066.py</span></a><span style=\"color: #7f7f7f; text-decoration-color: #7f7f7f\">:</span><a href=\"file://C:\\Users\\hao_l\\AppData\\Local\\Temp\\ipykernel_10528\\3115349066.py#7\" target=\"_blank\"><span style=\"color: #7f7f7f; text-decoration-color: #7f7f7f\">7</span></a>\n",
       "</pre>\n"
      ],
      "text/plain": [
       "\u001b[2;36m[04/22/23 05:25:23]\u001b[0m\u001b[2;36m \u001b[0m\u001b[34mINFO    \u001b[0m \u001b[33mk\u001b[0m=\u001b[1;36m57\u001b[0m, \u001b[33mcost\u001b[0m=\u001b[1;36m88103\u001b[0m, \u001b[33mn_iter\u001b[0m=\u001b[1;36m62\u001b[0m                                            \u001b]8;id=62007;file://C:\\Users\\hao_l\\AppData\\Local\\Temp\\ipykernel_10528\\3115349066.py\u001b\\\u001b[2m3115349066.py\u001b[0m\u001b]8;;\u001b\\\u001b[2m:\u001b[0m\u001b]8;id=750647;file://C:\\Users\\hao_l\\AppData\\Local\\Temp\\ipykernel_10528\\3115349066.py#7\u001b\\\u001b[2m7\u001b[0m\u001b]8;;\u001b\\\n"
      ]
     },
     "metadata": {},
     "output_type": "display_data"
    },
    {
     "data": {
      "text/html": [
       "<pre style=\"white-space:pre;overflow-x:auto;line-height:normal;font-family:Menlo,'DejaVu Sans Mono',consolas,'Courier New',monospace\"><span style=\"color: #7fbfbf; text-decoration-color: #7fbfbf\">                    </span><span style=\"color: #000080; text-decoration-color: #000080\">INFO    </span> Performing clustering for <span style=\"color: #808000; text-decoration-color: #808000\">k</span>=<span style=\"color: #008080; text-decoration-color: #008080; font-weight: bold\">58</span>                                         <a href=\"file://C:\\Users\\hao_l\\AppData\\Local\\Temp\\ipykernel_10528\\3115349066.py\" target=\"_blank\"><span style=\"color: #7f7f7f; text-decoration-color: #7f7f7f\">3115349066.py</span></a><span style=\"color: #7f7f7f; text-decoration-color: #7f7f7f\">:</span><a href=\"file://C:\\Users\\hao_l\\AppData\\Local\\Temp\\ipykernel_10528\\3115349066.py#4\" target=\"_blank\"><span style=\"color: #7f7f7f; text-decoration-color: #7f7f7f\">4</span></a>\n",
       "</pre>\n"
      ],
      "text/plain": [
       "\u001b[2;36m                   \u001b[0m\u001b[2;36m \u001b[0m\u001b[34mINFO    \u001b[0m Performing clustering for \u001b[33mk\u001b[0m=\u001b[1;36m58\u001b[0m                                         \u001b]8;id=765529;file://C:\\Users\\hao_l\\AppData\\Local\\Temp\\ipykernel_10528\\3115349066.py\u001b\\\u001b[2m3115349066.py\u001b[0m\u001b]8;;\u001b\\\u001b[2m:\u001b[0m\u001b]8;id=809779;file://C:\\Users\\hao_l\\AppData\\Local\\Temp\\ipykernel_10528\\3115349066.py#4\u001b\\\u001b[2m4\u001b[0m\u001b]8;;\u001b\\\n"
      ]
     },
     "metadata": {},
     "output_type": "display_data"
    },
    {
     "data": {
      "text/html": [
       "<pre style=\"white-space:pre;overflow-x:auto;line-height:normal;font-family:Menlo,'DejaVu Sans Mono',consolas,'Courier New',monospace\"><span style=\"color: #7fbfbf; text-decoration-color: #7fbfbf\">[04/22/23 05:35:01] </span><span style=\"color: #000080; text-decoration-color: #000080\">INFO    </span> <span style=\"color: #808000; text-decoration-color: #808000\">k</span>=<span style=\"color: #008080; text-decoration-color: #008080; font-weight: bold\">58</span>, <span style=\"color: #808000; text-decoration-color: #808000\">cost</span>=<span style=\"color: #008080; text-decoration-color: #008080; font-weight: bold\">87508</span>, <span style=\"color: #808000; text-decoration-color: #808000\">n_iter</span>=<span style=\"color: #008080; text-decoration-color: #008080; font-weight: bold\">33</span>                                            <a href=\"file://C:\\Users\\hao_l\\AppData\\Local\\Temp\\ipykernel_10528\\3115349066.py\" target=\"_blank\"><span style=\"color: #7f7f7f; text-decoration-color: #7f7f7f\">3115349066.py</span></a><span style=\"color: #7f7f7f; text-decoration-color: #7f7f7f\">:</span><a href=\"file://C:\\Users\\hao_l\\AppData\\Local\\Temp\\ipykernel_10528\\3115349066.py#7\" target=\"_blank\"><span style=\"color: #7f7f7f; text-decoration-color: #7f7f7f\">7</span></a>\n",
       "</pre>\n"
      ],
      "text/plain": [
       "\u001b[2;36m[04/22/23 05:35:01]\u001b[0m\u001b[2;36m \u001b[0m\u001b[34mINFO    \u001b[0m \u001b[33mk\u001b[0m=\u001b[1;36m58\u001b[0m, \u001b[33mcost\u001b[0m=\u001b[1;36m87508\u001b[0m, \u001b[33mn_iter\u001b[0m=\u001b[1;36m33\u001b[0m                                            \u001b]8;id=948330;file://C:\\Users\\hao_l\\AppData\\Local\\Temp\\ipykernel_10528\\3115349066.py\u001b\\\u001b[2m3115349066.py\u001b[0m\u001b]8;;\u001b\\\u001b[2m:\u001b[0m\u001b]8;id=370957;file://C:\\Users\\hao_l\\AppData\\Local\\Temp\\ipykernel_10528\\3115349066.py#7\u001b\\\u001b[2m7\u001b[0m\u001b]8;;\u001b\\\n"
      ]
     },
     "metadata": {},
     "output_type": "display_data"
    },
    {
     "data": {
      "text/html": [
       "<pre style=\"white-space:pre;overflow-x:auto;line-height:normal;font-family:Menlo,'DejaVu Sans Mono',consolas,'Courier New',monospace\"><span style=\"color: #7fbfbf; text-decoration-color: #7fbfbf\">                    </span><span style=\"color: #000080; text-decoration-color: #000080\">INFO    </span> Performing clustering for <span style=\"color: #808000; text-decoration-color: #808000\">k</span>=<span style=\"color: #008080; text-decoration-color: #008080; font-weight: bold\">59</span>                                         <a href=\"file://C:\\Users\\hao_l\\AppData\\Local\\Temp\\ipykernel_10528\\3115349066.py\" target=\"_blank\"><span style=\"color: #7f7f7f; text-decoration-color: #7f7f7f\">3115349066.py</span></a><span style=\"color: #7f7f7f; text-decoration-color: #7f7f7f\">:</span><a href=\"file://C:\\Users\\hao_l\\AppData\\Local\\Temp\\ipykernel_10528\\3115349066.py#4\" target=\"_blank\"><span style=\"color: #7f7f7f; text-decoration-color: #7f7f7f\">4</span></a>\n",
       "</pre>\n"
      ],
      "text/plain": [
       "\u001b[2;36m                   \u001b[0m\u001b[2;36m \u001b[0m\u001b[34mINFO    \u001b[0m Performing clustering for \u001b[33mk\u001b[0m=\u001b[1;36m59\u001b[0m                                         \u001b]8;id=362550;file://C:\\Users\\hao_l\\AppData\\Local\\Temp\\ipykernel_10528\\3115349066.py\u001b\\\u001b[2m3115349066.py\u001b[0m\u001b]8;;\u001b\\\u001b[2m:\u001b[0m\u001b]8;id=326151;file://C:\\Users\\hao_l\\AppData\\Local\\Temp\\ipykernel_10528\\3115349066.py#4\u001b\\\u001b[2m4\u001b[0m\u001b]8;;\u001b\\\n"
      ]
     },
     "metadata": {},
     "output_type": "display_data"
    },
    {
     "data": {
      "text/html": [
       "<pre style=\"white-space:pre;overflow-x:auto;line-height:normal;font-family:Menlo,'DejaVu Sans Mono',consolas,'Courier New',monospace\"><span style=\"color: #7fbfbf; text-decoration-color: #7fbfbf\">[04/22/23 05:43:54] </span><span style=\"color: #000080; text-decoration-color: #000080\">INFO    </span> <span style=\"color: #808000; text-decoration-color: #808000\">k</span>=<span style=\"color: #008080; text-decoration-color: #008080; font-weight: bold\">59</span>, <span style=\"color: #808000; text-decoration-color: #808000\">cost</span>=<span style=\"color: #008080; text-decoration-color: #008080; font-weight: bold\">87230</span>, <span style=\"color: #808000; text-decoration-color: #808000\">n_iter</span>=<span style=\"color: #008080; text-decoration-color: #008080; font-weight: bold\">44</span>                                            <a href=\"file://C:\\Users\\hao_l\\AppData\\Local\\Temp\\ipykernel_10528\\3115349066.py\" target=\"_blank\"><span style=\"color: #7f7f7f; text-decoration-color: #7f7f7f\">3115349066.py</span></a><span style=\"color: #7f7f7f; text-decoration-color: #7f7f7f\">:</span><a href=\"file://C:\\Users\\hao_l\\AppData\\Local\\Temp\\ipykernel_10528\\3115349066.py#7\" target=\"_blank\"><span style=\"color: #7f7f7f; text-decoration-color: #7f7f7f\">7</span></a>\n",
       "</pre>\n"
      ],
      "text/plain": [
       "\u001b[2;36m[04/22/23 05:43:54]\u001b[0m\u001b[2;36m \u001b[0m\u001b[34mINFO    \u001b[0m \u001b[33mk\u001b[0m=\u001b[1;36m59\u001b[0m, \u001b[33mcost\u001b[0m=\u001b[1;36m87230\u001b[0m, \u001b[33mn_iter\u001b[0m=\u001b[1;36m44\u001b[0m                                            \u001b]8;id=10254;file://C:\\Users\\hao_l\\AppData\\Local\\Temp\\ipykernel_10528\\3115349066.py\u001b\\\u001b[2m3115349066.py\u001b[0m\u001b]8;;\u001b\\\u001b[2m:\u001b[0m\u001b]8;id=687066;file://C:\\Users\\hao_l\\AppData\\Local\\Temp\\ipykernel_10528\\3115349066.py#7\u001b\\\u001b[2m7\u001b[0m\u001b]8;;\u001b\\\n"
      ]
     },
     "metadata": {},
     "output_type": "display_data"
    },
    {
     "data": {
      "text/html": [
       "<pre style=\"white-space:pre;overflow-x:auto;line-height:normal;font-family:Menlo,'DejaVu Sans Mono',consolas,'Courier New',monospace\"><span style=\"color: #7fbfbf; text-decoration-color: #7fbfbf\">                    </span><span style=\"color: #000080; text-decoration-color: #000080\">INFO    </span> Performing clustering for <span style=\"color: #808000; text-decoration-color: #808000\">k</span>=<span style=\"color: #008080; text-decoration-color: #008080; font-weight: bold\">60</span>                                         <a href=\"file://C:\\Users\\hao_l\\AppData\\Local\\Temp\\ipykernel_10528\\3115349066.py\" target=\"_blank\"><span style=\"color: #7f7f7f; text-decoration-color: #7f7f7f\">3115349066.py</span></a><span style=\"color: #7f7f7f; text-decoration-color: #7f7f7f\">:</span><a href=\"file://C:\\Users\\hao_l\\AppData\\Local\\Temp\\ipykernel_10528\\3115349066.py#4\" target=\"_blank\"><span style=\"color: #7f7f7f; text-decoration-color: #7f7f7f\">4</span></a>\n",
       "</pre>\n"
      ],
      "text/plain": [
       "\u001b[2;36m                   \u001b[0m\u001b[2;36m \u001b[0m\u001b[34mINFO    \u001b[0m Performing clustering for \u001b[33mk\u001b[0m=\u001b[1;36m60\u001b[0m                                         \u001b]8;id=356559;file://C:\\Users\\hao_l\\AppData\\Local\\Temp\\ipykernel_10528\\3115349066.py\u001b\\\u001b[2m3115349066.py\u001b[0m\u001b]8;;\u001b\\\u001b[2m:\u001b[0m\u001b]8;id=917388;file://C:\\Users\\hao_l\\AppData\\Local\\Temp\\ipykernel_10528\\3115349066.py#4\u001b\\\u001b[2m4\u001b[0m\u001b]8;;\u001b\\\n"
      ]
     },
     "metadata": {},
     "output_type": "display_data"
    },
    {
     "data": {
      "text/html": [
       "<pre style=\"white-space:pre;overflow-x:auto;line-height:normal;font-family:Menlo,'DejaVu Sans Mono',consolas,'Courier New',monospace\"><span style=\"color: #7fbfbf; text-decoration-color: #7fbfbf\">[04/22/23 05:54:28] </span><span style=\"color: #000080; text-decoration-color: #000080\">INFO    </span> <span style=\"color: #808000; text-decoration-color: #808000\">k</span>=<span style=\"color: #008080; text-decoration-color: #008080; font-weight: bold\">60</span>, <span style=\"color: #808000; text-decoration-color: #808000\">cost</span>=<span style=\"color: #008080; text-decoration-color: #008080; font-weight: bold\">86678</span>, <span style=\"color: #808000; text-decoration-color: #808000\">n_iter</span>=<span style=\"color: #008080; text-decoration-color: #008080; font-weight: bold\">55</span>                                            <a href=\"file://C:\\Users\\hao_l\\AppData\\Local\\Temp\\ipykernel_10528\\3115349066.py\" target=\"_blank\"><span style=\"color: #7f7f7f; text-decoration-color: #7f7f7f\">3115349066.py</span></a><span style=\"color: #7f7f7f; text-decoration-color: #7f7f7f\">:</span><a href=\"file://C:\\Users\\hao_l\\AppData\\Local\\Temp\\ipykernel_10528\\3115349066.py#7\" target=\"_blank\"><span style=\"color: #7f7f7f; text-decoration-color: #7f7f7f\">7</span></a>\n",
       "</pre>\n"
      ],
      "text/plain": [
       "\u001b[2;36m[04/22/23 05:54:28]\u001b[0m\u001b[2;36m \u001b[0m\u001b[34mINFO    \u001b[0m \u001b[33mk\u001b[0m=\u001b[1;36m60\u001b[0m, \u001b[33mcost\u001b[0m=\u001b[1;36m86678\u001b[0m, \u001b[33mn_iter\u001b[0m=\u001b[1;36m55\u001b[0m                                            \u001b]8;id=534767;file://C:\\Users\\hao_l\\AppData\\Local\\Temp\\ipykernel_10528\\3115349066.py\u001b\\\u001b[2m3115349066.py\u001b[0m\u001b]8;;\u001b\\\u001b[2m:\u001b[0m\u001b]8;id=909223;file://C:\\Users\\hao_l\\AppData\\Local\\Temp\\ipykernel_10528\\3115349066.py#7\u001b\\\u001b[2m7\u001b[0m\u001b]8;;\u001b\\\n"
      ]
     },
     "metadata": {},
     "output_type": "display_data"
    },
    {
     "data": {
      "text/html": [
       "<pre style=\"white-space:pre;overflow-x:auto;line-height:normal;font-family:Menlo,'DejaVu Sans Mono',consolas,'Courier New',monospace\"><span style=\"color: #7fbfbf; text-decoration-color: #7fbfbf\">                    </span><span style=\"color: #000080; text-decoration-color: #000080\">INFO    </span> Performing clustering for <span style=\"color: #808000; text-decoration-color: #808000\">k</span>=<span style=\"color: #008080; text-decoration-color: #008080; font-weight: bold\">61</span>                                         <a href=\"file://C:\\Users\\hao_l\\AppData\\Local\\Temp\\ipykernel_10528\\3115349066.py\" target=\"_blank\"><span style=\"color: #7f7f7f; text-decoration-color: #7f7f7f\">3115349066.py</span></a><span style=\"color: #7f7f7f; text-decoration-color: #7f7f7f\">:</span><a href=\"file://C:\\Users\\hao_l\\AppData\\Local\\Temp\\ipykernel_10528\\3115349066.py#4\" target=\"_blank\"><span style=\"color: #7f7f7f; text-decoration-color: #7f7f7f\">4</span></a>\n",
       "</pre>\n"
      ],
      "text/plain": [
       "\u001b[2;36m                   \u001b[0m\u001b[2;36m \u001b[0m\u001b[34mINFO    \u001b[0m Performing clustering for \u001b[33mk\u001b[0m=\u001b[1;36m61\u001b[0m                                         \u001b]8;id=155389;file://C:\\Users\\hao_l\\AppData\\Local\\Temp\\ipykernel_10528\\3115349066.py\u001b\\\u001b[2m3115349066.py\u001b[0m\u001b]8;;\u001b\\\u001b[2m:\u001b[0m\u001b]8;id=637331;file://C:\\Users\\hao_l\\AppData\\Local\\Temp\\ipykernel_10528\\3115349066.py#4\u001b\\\u001b[2m4\u001b[0m\u001b]8;;\u001b\\\n"
      ]
     },
     "metadata": {},
     "output_type": "display_data"
    },
    {
     "data": {
      "text/html": [
       "<pre style=\"white-space:pre;overflow-x:auto;line-height:normal;font-family:Menlo,'DejaVu Sans Mono',consolas,'Courier New',monospace\"><span style=\"color: #7fbfbf; text-decoration-color: #7fbfbf\">[04/22/23 06:03:38] </span><span style=\"color: #000080; text-decoration-color: #000080\">INFO    </span> <span style=\"color: #808000; text-decoration-color: #808000\">k</span>=<span style=\"color: #008080; text-decoration-color: #008080; font-weight: bold\">61</span>, <span style=\"color: #808000; text-decoration-color: #808000\">cost</span>=<span style=\"color: #008080; text-decoration-color: #008080; font-weight: bold\">86493</span>, <span style=\"color: #808000; text-decoration-color: #808000\">n_iter</span>=<span style=\"color: #008080; text-decoration-color: #008080; font-weight: bold\">48</span>                                            <a href=\"file://C:\\Users\\hao_l\\AppData\\Local\\Temp\\ipykernel_10528\\3115349066.py\" target=\"_blank\"><span style=\"color: #7f7f7f; text-decoration-color: #7f7f7f\">3115349066.py</span></a><span style=\"color: #7f7f7f; text-decoration-color: #7f7f7f\">:</span><a href=\"file://C:\\Users\\hao_l\\AppData\\Local\\Temp\\ipykernel_10528\\3115349066.py#7\" target=\"_blank\"><span style=\"color: #7f7f7f; text-decoration-color: #7f7f7f\">7</span></a>\n",
       "</pre>\n"
      ],
      "text/plain": [
       "\u001b[2;36m[04/22/23 06:03:38]\u001b[0m\u001b[2;36m \u001b[0m\u001b[34mINFO    \u001b[0m \u001b[33mk\u001b[0m=\u001b[1;36m61\u001b[0m, \u001b[33mcost\u001b[0m=\u001b[1;36m86493\u001b[0m, \u001b[33mn_iter\u001b[0m=\u001b[1;36m48\u001b[0m                                            \u001b]8;id=740996;file://C:\\Users\\hao_l\\AppData\\Local\\Temp\\ipykernel_10528\\3115349066.py\u001b\\\u001b[2m3115349066.py\u001b[0m\u001b]8;;\u001b\\\u001b[2m:\u001b[0m\u001b]8;id=713593;file://C:\\Users\\hao_l\\AppData\\Local\\Temp\\ipykernel_10528\\3115349066.py#7\u001b\\\u001b[2m7\u001b[0m\u001b]8;;\u001b\\\n"
      ]
     },
     "metadata": {},
     "output_type": "display_data"
    },
    {
     "data": {
      "text/html": [
       "<pre style=\"white-space:pre;overflow-x:auto;line-height:normal;font-family:Menlo,'DejaVu Sans Mono',consolas,'Courier New',monospace\"><span style=\"color: #7fbfbf; text-decoration-color: #7fbfbf\">                    </span><span style=\"color: #000080; text-decoration-color: #000080\">INFO    </span> Performing clustering for <span style=\"color: #808000; text-decoration-color: #808000\">k</span>=<span style=\"color: #008080; text-decoration-color: #008080; font-weight: bold\">62</span>                                         <a href=\"file://C:\\Users\\hao_l\\AppData\\Local\\Temp\\ipykernel_10528\\3115349066.py\" target=\"_blank\"><span style=\"color: #7f7f7f; text-decoration-color: #7f7f7f\">3115349066.py</span></a><span style=\"color: #7f7f7f; text-decoration-color: #7f7f7f\">:</span><a href=\"file://C:\\Users\\hao_l\\AppData\\Local\\Temp\\ipykernel_10528\\3115349066.py#4\" target=\"_blank\"><span style=\"color: #7f7f7f; text-decoration-color: #7f7f7f\">4</span></a>\n",
       "</pre>\n"
      ],
      "text/plain": [
       "\u001b[2;36m                   \u001b[0m\u001b[2;36m \u001b[0m\u001b[34mINFO    \u001b[0m Performing clustering for \u001b[33mk\u001b[0m=\u001b[1;36m62\u001b[0m                                         \u001b]8;id=333118;file://C:\\Users\\hao_l\\AppData\\Local\\Temp\\ipykernel_10528\\3115349066.py\u001b\\\u001b[2m3115349066.py\u001b[0m\u001b]8;;\u001b\\\u001b[2m:\u001b[0m\u001b]8;id=227556;file://C:\\Users\\hao_l\\AppData\\Local\\Temp\\ipykernel_10528\\3115349066.py#4\u001b\\\u001b[2m4\u001b[0m\u001b]8;;\u001b\\\n"
      ]
     },
     "metadata": {},
     "output_type": "display_data"
    },
    {
     "data": {
      "text/html": [
       "<pre style=\"white-space:pre;overflow-x:auto;line-height:normal;font-family:Menlo,'DejaVu Sans Mono',consolas,'Courier New',monospace\"><span style=\"color: #7fbfbf; text-decoration-color: #7fbfbf\">[04/22/23 06:14:09] </span><span style=\"color: #000080; text-decoration-color: #000080\">INFO    </span> <span style=\"color: #808000; text-decoration-color: #808000\">k</span>=<span style=\"color: #008080; text-decoration-color: #008080; font-weight: bold\">62</span>, <span style=\"color: #808000; text-decoration-color: #808000\">cost</span>=<span style=\"color: #008080; text-decoration-color: #008080; font-weight: bold\">86019</span>, <span style=\"color: #808000; text-decoration-color: #808000\">n_iter</span>=<span style=\"color: #008080; text-decoration-color: #008080; font-weight: bold\">52</span>                                            <a href=\"file://C:\\Users\\hao_l\\AppData\\Local\\Temp\\ipykernel_10528\\3115349066.py\" target=\"_blank\"><span style=\"color: #7f7f7f; text-decoration-color: #7f7f7f\">3115349066.py</span></a><span style=\"color: #7f7f7f; text-decoration-color: #7f7f7f\">:</span><a href=\"file://C:\\Users\\hao_l\\AppData\\Local\\Temp\\ipykernel_10528\\3115349066.py#7\" target=\"_blank\"><span style=\"color: #7f7f7f; text-decoration-color: #7f7f7f\">7</span></a>\n",
       "</pre>\n"
      ],
      "text/plain": [
       "\u001b[2;36m[04/22/23 06:14:09]\u001b[0m\u001b[2;36m \u001b[0m\u001b[34mINFO    \u001b[0m \u001b[33mk\u001b[0m=\u001b[1;36m62\u001b[0m, \u001b[33mcost\u001b[0m=\u001b[1;36m86019\u001b[0m, \u001b[33mn_iter\u001b[0m=\u001b[1;36m52\u001b[0m                                            \u001b]8;id=385904;file://C:\\Users\\hao_l\\AppData\\Local\\Temp\\ipykernel_10528\\3115349066.py\u001b\\\u001b[2m3115349066.py\u001b[0m\u001b]8;;\u001b\\\u001b[2m:\u001b[0m\u001b]8;id=858818;file://C:\\Users\\hao_l\\AppData\\Local\\Temp\\ipykernel_10528\\3115349066.py#7\u001b\\\u001b[2m7\u001b[0m\u001b]8;;\u001b\\\n"
      ]
     },
     "metadata": {},
     "output_type": "display_data"
    },
    {
     "data": {
      "text/html": [
       "<pre style=\"white-space:pre;overflow-x:auto;line-height:normal;font-family:Menlo,'DejaVu Sans Mono',consolas,'Courier New',monospace\"><span style=\"color: #7fbfbf; text-decoration-color: #7fbfbf\">                    </span><span style=\"color: #000080; text-decoration-color: #000080\">INFO    </span> Performing clustering for <span style=\"color: #808000; text-decoration-color: #808000\">k</span>=<span style=\"color: #008080; text-decoration-color: #008080; font-weight: bold\">63</span>                                         <a href=\"file://C:\\Users\\hao_l\\AppData\\Local\\Temp\\ipykernel_10528\\3115349066.py\" target=\"_blank\"><span style=\"color: #7f7f7f; text-decoration-color: #7f7f7f\">3115349066.py</span></a><span style=\"color: #7f7f7f; text-decoration-color: #7f7f7f\">:</span><a href=\"file://C:\\Users\\hao_l\\AppData\\Local\\Temp\\ipykernel_10528\\3115349066.py#4\" target=\"_blank\"><span style=\"color: #7f7f7f; text-decoration-color: #7f7f7f\">4</span></a>\n",
       "</pre>\n"
      ],
      "text/plain": [
       "\u001b[2;36m                   \u001b[0m\u001b[2;36m \u001b[0m\u001b[34mINFO    \u001b[0m Performing clustering for \u001b[33mk\u001b[0m=\u001b[1;36m63\u001b[0m                                         \u001b]8;id=954075;file://C:\\Users\\hao_l\\AppData\\Local\\Temp\\ipykernel_10528\\3115349066.py\u001b\\\u001b[2m3115349066.py\u001b[0m\u001b]8;;\u001b\\\u001b[2m:\u001b[0m\u001b]8;id=500724;file://C:\\Users\\hao_l\\AppData\\Local\\Temp\\ipykernel_10528\\3115349066.py#4\u001b\\\u001b[2m4\u001b[0m\u001b]8;;\u001b\\\n"
      ]
     },
     "metadata": {},
     "output_type": "display_data"
    },
    {
     "data": {
      "text/html": [
       "<pre style=\"white-space:pre;overflow-x:auto;line-height:normal;font-family:Menlo,'DejaVu Sans Mono',consolas,'Courier New',monospace\"><span style=\"color: #7fbfbf; text-decoration-color: #7fbfbf\">[04/22/23 06:25:16] </span><span style=\"color: #000080; text-decoration-color: #000080\">INFO    </span> <span style=\"color: #808000; text-decoration-color: #808000\">k</span>=<span style=\"color: #008080; text-decoration-color: #008080; font-weight: bold\">63</span>, <span style=\"color: #808000; text-decoration-color: #808000\">cost</span>=<span style=\"color: #008080; text-decoration-color: #008080; font-weight: bold\">85663</span>, <span style=\"color: #808000; text-decoration-color: #808000\">n_iter</span>=<span style=\"color: #008080; text-decoration-color: #008080; font-weight: bold\">61</span>                                            <a href=\"file://C:\\Users\\hao_l\\AppData\\Local\\Temp\\ipykernel_10528\\3115349066.py\" target=\"_blank\"><span style=\"color: #7f7f7f; text-decoration-color: #7f7f7f\">3115349066.py</span></a><span style=\"color: #7f7f7f; text-decoration-color: #7f7f7f\">:</span><a href=\"file://C:\\Users\\hao_l\\AppData\\Local\\Temp\\ipykernel_10528\\3115349066.py#7\" target=\"_blank\"><span style=\"color: #7f7f7f; text-decoration-color: #7f7f7f\">7</span></a>\n",
       "</pre>\n"
      ],
      "text/plain": [
       "\u001b[2;36m[04/22/23 06:25:16]\u001b[0m\u001b[2;36m \u001b[0m\u001b[34mINFO    \u001b[0m \u001b[33mk\u001b[0m=\u001b[1;36m63\u001b[0m, \u001b[33mcost\u001b[0m=\u001b[1;36m85663\u001b[0m, \u001b[33mn_iter\u001b[0m=\u001b[1;36m61\u001b[0m                                            \u001b]8;id=964210;file://C:\\Users\\hao_l\\AppData\\Local\\Temp\\ipykernel_10528\\3115349066.py\u001b\\\u001b[2m3115349066.py\u001b[0m\u001b]8;;\u001b\\\u001b[2m:\u001b[0m\u001b]8;id=822496;file://C:\\Users\\hao_l\\AppData\\Local\\Temp\\ipykernel_10528\\3115349066.py#7\u001b\\\u001b[2m7\u001b[0m\u001b]8;;\u001b\\\n"
      ]
     },
     "metadata": {},
     "output_type": "display_data"
    },
    {
     "data": {
      "text/html": [
       "<pre style=\"white-space:pre;overflow-x:auto;line-height:normal;font-family:Menlo,'DejaVu Sans Mono',consolas,'Courier New',monospace\"><span style=\"color: #7fbfbf; text-decoration-color: #7fbfbf\">                    </span><span style=\"color: #000080; text-decoration-color: #000080\">INFO    </span> Performing clustering for <span style=\"color: #808000; text-decoration-color: #808000\">k</span>=<span style=\"color: #008080; text-decoration-color: #008080; font-weight: bold\">64</span>                                         <a href=\"file://C:\\Users\\hao_l\\AppData\\Local\\Temp\\ipykernel_10528\\3115349066.py\" target=\"_blank\"><span style=\"color: #7f7f7f; text-decoration-color: #7f7f7f\">3115349066.py</span></a><span style=\"color: #7f7f7f; text-decoration-color: #7f7f7f\">:</span><a href=\"file://C:\\Users\\hao_l\\AppData\\Local\\Temp\\ipykernel_10528\\3115349066.py#4\" target=\"_blank\"><span style=\"color: #7f7f7f; text-decoration-color: #7f7f7f\">4</span></a>\n",
       "</pre>\n"
      ],
      "text/plain": [
       "\u001b[2;36m                   \u001b[0m\u001b[2;36m \u001b[0m\u001b[34mINFO    \u001b[0m Performing clustering for \u001b[33mk\u001b[0m=\u001b[1;36m64\u001b[0m                                         \u001b]8;id=505752;file://C:\\Users\\hao_l\\AppData\\Local\\Temp\\ipykernel_10528\\3115349066.py\u001b\\\u001b[2m3115349066.py\u001b[0m\u001b]8;;\u001b\\\u001b[2m:\u001b[0m\u001b]8;id=22189;file://C:\\Users\\hao_l\\AppData\\Local\\Temp\\ipykernel_10528\\3115349066.py#4\u001b\\\u001b[2m4\u001b[0m\u001b]8;;\u001b\\\n"
      ]
     },
     "metadata": {},
     "output_type": "display_data"
    },
    {
     "data": {
      "text/html": [
       "<pre style=\"white-space:pre;overflow-x:auto;line-height:normal;font-family:Menlo,'DejaVu Sans Mono',consolas,'Courier New',monospace\"><span style=\"color: #7fbfbf; text-decoration-color: #7fbfbf\">[04/22/23 06:35:19] </span><span style=\"color: #000080; text-decoration-color: #000080\">INFO    </span> <span style=\"color: #808000; text-decoration-color: #808000\">k</span>=<span style=\"color: #008080; text-decoration-color: #008080; font-weight: bold\">64</span>, <span style=\"color: #808000; text-decoration-color: #808000\">cost</span>=<span style=\"color: #008080; text-decoration-color: #008080; font-weight: bold\">85345</span>, <span style=\"color: #808000; text-decoration-color: #808000\">n_iter</span>=<span style=\"color: #008080; text-decoration-color: #008080; font-weight: bold\">33</span>                                            <a href=\"file://C:\\Users\\hao_l\\AppData\\Local\\Temp\\ipykernel_10528\\3115349066.py\" target=\"_blank\"><span style=\"color: #7f7f7f; text-decoration-color: #7f7f7f\">3115349066.py</span></a><span style=\"color: #7f7f7f; text-decoration-color: #7f7f7f\">:</span><a href=\"file://C:\\Users\\hao_l\\AppData\\Local\\Temp\\ipykernel_10528\\3115349066.py#7\" target=\"_blank\"><span style=\"color: #7f7f7f; text-decoration-color: #7f7f7f\">7</span></a>\n",
       "</pre>\n"
      ],
      "text/plain": [
       "\u001b[2;36m[04/22/23 06:35:19]\u001b[0m\u001b[2;36m \u001b[0m\u001b[34mINFO    \u001b[0m \u001b[33mk\u001b[0m=\u001b[1;36m64\u001b[0m, \u001b[33mcost\u001b[0m=\u001b[1;36m85345\u001b[0m, \u001b[33mn_iter\u001b[0m=\u001b[1;36m33\u001b[0m                                            \u001b]8;id=175825;file://C:\\Users\\hao_l\\AppData\\Local\\Temp\\ipykernel_10528\\3115349066.py\u001b\\\u001b[2m3115349066.py\u001b[0m\u001b]8;;\u001b\\\u001b[2m:\u001b[0m\u001b]8;id=261323;file://C:\\Users\\hao_l\\AppData\\Local\\Temp\\ipykernel_10528\\3115349066.py#7\u001b\\\u001b[2m7\u001b[0m\u001b]8;;\u001b\\\n"
      ]
     },
     "metadata": {},
     "output_type": "display_data"
    },
    {
     "data": {
      "text/html": [
       "<pre style=\"white-space:pre;overflow-x:auto;line-height:normal;font-family:Menlo,'DejaVu Sans Mono',consolas,'Courier New',monospace\"><span style=\"color: #7fbfbf; text-decoration-color: #7fbfbf\">                    </span><span style=\"color: #000080; text-decoration-color: #000080\">INFO    </span> Performing clustering for <span style=\"color: #808000; text-decoration-color: #808000\">k</span>=<span style=\"color: #008080; text-decoration-color: #008080; font-weight: bold\">65</span>                                         <a href=\"file://C:\\Users\\hao_l\\AppData\\Local\\Temp\\ipykernel_10528\\3115349066.py\" target=\"_blank\"><span style=\"color: #7f7f7f; text-decoration-color: #7f7f7f\">3115349066.py</span></a><span style=\"color: #7f7f7f; text-decoration-color: #7f7f7f\">:</span><a href=\"file://C:\\Users\\hao_l\\AppData\\Local\\Temp\\ipykernel_10528\\3115349066.py#4\" target=\"_blank\"><span style=\"color: #7f7f7f; text-decoration-color: #7f7f7f\">4</span></a>\n",
       "</pre>\n"
      ],
      "text/plain": [
       "\u001b[2;36m                   \u001b[0m\u001b[2;36m \u001b[0m\u001b[34mINFO    \u001b[0m Performing clustering for \u001b[33mk\u001b[0m=\u001b[1;36m65\u001b[0m                                         \u001b]8;id=758687;file://C:\\Users\\hao_l\\AppData\\Local\\Temp\\ipykernel_10528\\3115349066.py\u001b\\\u001b[2m3115349066.py\u001b[0m\u001b]8;;\u001b\\\u001b[2m:\u001b[0m\u001b]8;id=951017;file://C:\\Users\\hao_l\\AppData\\Local\\Temp\\ipykernel_10528\\3115349066.py#4\u001b\\\u001b[2m4\u001b[0m\u001b]8;;\u001b\\\n"
      ]
     },
     "metadata": {},
     "output_type": "display_data"
    },
    {
     "data": {
      "text/html": [
       "<pre style=\"white-space:pre;overflow-x:auto;line-height:normal;font-family:Menlo,'DejaVu Sans Mono',consolas,'Courier New',monospace\"><span style=\"color: #7fbfbf; text-decoration-color: #7fbfbf\">[04/22/23 06:47:06] </span><span style=\"color: #000080; text-decoration-color: #000080\">INFO    </span> <span style=\"color: #808000; text-decoration-color: #808000\">k</span>=<span style=\"color: #008080; text-decoration-color: #008080; font-weight: bold\">65</span>, <span style=\"color: #808000; text-decoration-color: #808000\">cost</span>=<span style=\"color: #008080; text-decoration-color: #008080; font-weight: bold\">84965</span>, <span style=\"color: #808000; text-decoration-color: #808000\">n_iter</span>=<span style=\"color: #008080; text-decoration-color: #008080; font-weight: bold\">49</span>                                            <a href=\"file://C:\\Users\\hao_l\\AppData\\Local\\Temp\\ipykernel_10528\\3115349066.py\" target=\"_blank\"><span style=\"color: #7f7f7f; text-decoration-color: #7f7f7f\">3115349066.py</span></a><span style=\"color: #7f7f7f; text-decoration-color: #7f7f7f\">:</span><a href=\"file://C:\\Users\\hao_l\\AppData\\Local\\Temp\\ipykernel_10528\\3115349066.py#7\" target=\"_blank\"><span style=\"color: #7f7f7f; text-decoration-color: #7f7f7f\">7</span></a>\n",
       "</pre>\n"
      ],
      "text/plain": [
       "\u001b[2;36m[04/22/23 06:47:06]\u001b[0m\u001b[2;36m \u001b[0m\u001b[34mINFO    \u001b[0m \u001b[33mk\u001b[0m=\u001b[1;36m65\u001b[0m, \u001b[33mcost\u001b[0m=\u001b[1;36m84965\u001b[0m, \u001b[33mn_iter\u001b[0m=\u001b[1;36m49\u001b[0m                                            \u001b]8;id=852001;file://C:\\Users\\hao_l\\AppData\\Local\\Temp\\ipykernel_10528\\3115349066.py\u001b\\\u001b[2m3115349066.py\u001b[0m\u001b]8;;\u001b\\\u001b[2m:\u001b[0m\u001b]8;id=30211;file://C:\\Users\\hao_l\\AppData\\Local\\Temp\\ipykernel_10528\\3115349066.py#7\u001b\\\u001b[2m7\u001b[0m\u001b]8;;\u001b\\\n"
      ]
     },
     "metadata": {},
     "output_type": "display_data"
    },
    {
     "data": {
      "text/html": [
       "<pre style=\"white-space:pre;overflow-x:auto;line-height:normal;font-family:Menlo,'DejaVu Sans Mono',consolas,'Courier New',monospace\"><span style=\"color: #7fbfbf; text-decoration-color: #7fbfbf\">                    </span><span style=\"color: #000080; text-decoration-color: #000080\">INFO    </span> Performing clustering for <span style=\"color: #808000; text-decoration-color: #808000\">k</span>=<span style=\"color: #008080; text-decoration-color: #008080; font-weight: bold\">66</span>                                         <a href=\"file://C:\\Users\\hao_l\\AppData\\Local\\Temp\\ipykernel_10528\\3115349066.py\" target=\"_blank\"><span style=\"color: #7f7f7f; text-decoration-color: #7f7f7f\">3115349066.py</span></a><span style=\"color: #7f7f7f; text-decoration-color: #7f7f7f\">:</span><a href=\"file://C:\\Users\\hao_l\\AppData\\Local\\Temp\\ipykernel_10528\\3115349066.py#4\" target=\"_blank\"><span style=\"color: #7f7f7f; text-decoration-color: #7f7f7f\">4</span></a>\n",
       "</pre>\n"
      ],
      "text/plain": [
       "\u001b[2;36m                   \u001b[0m\u001b[2;36m \u001b[0m\u001b[34mINFO    \u001b[0m Performing clustering for \u001b[33mk\u001b[0m=\u001b[1;36m66\u001b[0m                                         \u001b]8;id=476901;file://C:\\Users\\hao_l\\AppData\\Local\\Temp\\ipykernel_10528\\3115349066.py\u001b\\\u001b[2m3115349066.py\u001b[0m\u001b]8;;\u001b\\\u001b[2m:\u001b[0m\u001b]8;id=935643;file://C:\\Users\\hao_l\\AppData\\Local\\Temp\\ipykernel_10528\\3115349066.py#4\u001b\\\u001b[2m4\u001b[0m\u001b]8;;\u001b\\\n"
      ]
     },
     "metadata": {},
     "output_type": "display_data"
    },
    {
     "data": {
      "text/html": [
       "<pre style=\"white-space:pre;overflow-x:auto;line-height:normal;font-family:Menlo,'DejaVu Sans Mono',consolas,'Courier New',monospace\"><span style=\"color: #7fbfbf; text-decoration-color: #7fbfbf\">[04/22/23 06:59:20] </span><span style=\"color: #000080; text-decoration-color: #000080\">INFO    </span> <span style=\"color: #808000; text-decoration-color: #808000\">k</span>=<span style=\"color: #008080; text-decoration-color: #008080; font-weight: bold\">66</span>, <span style=\"color: #808000; text-decoration-color: #808000\">cost</span>=<span style=\"color: #008080; text-decoration-color: #008080; font-weight: bold\">84737</span>, <span style=\"color: #808000; text-decoration-color: #808000\">n_iter</span>=<span style=\"color: #008080; text-decoration-color: #008080; font-weight: bold\">73</span>                                            <a href=\"file://C:\\Users\\hao_l\\AppData\\Local\\Temp\\ipykernel_10528\\3115349066.py\" target=\"_blank\"><span style=\"color: #7f7f7f; text-decoration-color: #7f7f7f\">3115349066.py</span></a><span style=\"color: #7f7f7f; text-decoration-color: #7f7f7f\">:</span><a href=\"file://C:\\Users\\hao_l\\AppData\\Local\\Temp\\ipykernel_10528\\3115349066.py#7\" target=\"_blank\"><span style=\"color: #7f7f7f; text-decoration-color: #7f7f7f\">7</span></a>\n",
       "</pre>\n"
      ],
      "text/plain": [
       "\u001b[2;36m[04/22/23 06:59:20]\u001b[0m\u001b[2;36m \u001b[0m\u001b[34mINFO    \u001b[0m \u001b[33mk\u001b[0m=\u001b[1;36m66\u001b[0m, \u001b[33mcost\u001b[0m=\u001b[1;36m84737\u001b[0m, \u001b[33mn_iter\u001b[0m=\u001b[1;36m73\u001b[0m                                            \u001b]8;id=228625;file://C:\\Users\\hao_l\\AppData\\Local\\Temp\\ipykernel_10528\\3115349066.py\u001b\\\u001b[2m3115349066.py\u001b[0m\u001b]8;;\u001b\\\u001b[2m:\u001b[0m\u001b]8;id=85434;file://C:\\Users\\hao_l\\AppData\\Local\\Temp\\ipykernel_10528\\3115349066.py#7\u001b\\\u001b[2m7\u001b[0m\u001b]8;;\u001b\\\n"
      ]
     },
     "metadata": {},
     "output_type": "display_data"
    },
    {
     "data": {
      "text/html": [
       "<pre style=\"white-space:pre;overflow-x:auto;line-height:normal;font-family:Menlo,'DejaVu Sans Mono',consolas,'Courier New',monospace\"><span style=\"color: #7fbfbf; text-decoration-color: #7fbfbf\">                    </span><span style=\"color: #000080; text-decoration-color: #000080\">INFO    </span> Performing clustering for <span style=\"color: #808000; text-decoration-color: #808000\">k</span>=<span style=\"color: #008080; text-decoration-color: #008080; font-weight: bold\">67</span>                                         <a href=\"file://C:\\Users\\hao_l\\AppData\\Local\\Temp\\ipykernel_10528\\3115349066.py\" target=\"_blank\"><span style=\"color: #7f7f7f; text-decoration-color: #7f7f7f\">3115349066.py</span></a><span style=\"color: #7f7f7f; text-decoration-color: #7f7f7f\">:</span><a href=\"file://C:\\Users\\hao_l\\AppData\\Local\\Temp\\ipykernel_10528\\3115349066.py#4\" target=\"_blank\"><span style=\"color: #7f7f7f; text-decoration-color: #7f7f7f\">4</span></a>\n",
       "</pre>\n"
      ],
      "text/plain": [
       "\u001b[2;36m                   \u001b[0m\u001b[2;36m \u001b[0m\u001b[34mINFO    \u001b[0m Performing clustering for \u001b[33mk\u001b[0m=\u001b[1;36m67\u001b[0m                                         \u001b]8;id=40384;file://C:\\Users\\hao_l\\AppData\\Local\\Temp\\ipykernel_10528\\3115349066.py\u001b\\\u001b[2m3115349066.py\u001b[0m\u001b]8;;\u001b\\\u001b[2m:\u001b[0m\u001b]8;id=352685;file://C:\\Users\\hao_l\\AppData\\Local\\Temp\\ipykernel_10528\\3115349066.py#4\u001b\\\u001b[2m4\u001b[0m\u001b]8;;\u001b\\\n"
      ]
     },
     "metadata": {},
     "output_type": "display_data"
    },
    {
     "data": {
      "text/html": [
       "<pre style=\"white-space:pre;overflow-x:auto;line-height:normal;font-family:Menlo,'DejaVu Sans Mono',consolas,'Courier New',monospace\"><span style=\"color: #7fbfbf; text-decoration-color: #7fbfbf\">[04/22/23 07:11:26] </span><span style=\"color: #000080; text-decoration-color: #000080\">INFO    </span> <span style=\"color: #808000; text-decoration-color: #808000\">k</span>=<span style=\"color: #008080; text-decoration-color: #008080; font-weight: bold\">67</span>, <span style=\"color: #808000; text-decoration-color: #808000\">cost</span>=<span style=\"color: #008080; text-decoration-color: #008080; font-weight: bold\">84230</span>, <span style=\"color: #808000; text-decoration-color: #808000\">n_iter</span>=<span style=\"color: #008080; text-decoration-color: #008080; font-weight: bold\">53</span>                                            <a href=\"file://C:\\Users\\hao_l\\AppData\\Local\\Temp\\ipykernel_10528\\3115349066.py\" target=\"_blank\"><span style=\"color: #7f7f7f; text-decoration-color: #7f7f7f\">3115349066.py</span></a><span style=\"color: #7f7f7f; text-decoration-color: #7f7f7f\">:</span><a href=\"file://C:\\Users\\hao_l\\AppData\\Local\\Temp\\ipykernel_10528\\3115349066.py#7\" target=\"_blank\"><span style=\"color: #7f7f7f; text-decoration-color: #7f7f7f\">7</span></a>\n",
       "</pre>\n"
      ],
      "text/plain": [
       "\u001b[2;36m[04/22/23 07:11:26]\u001b[0m\u001b[2;36m \u001b[0m\u001b[34mINFO    \u001b[0m \u001b[33mk\u001b[0m=\u001b[1;36m67\u001b[0m, \u001b[33mcost\u001b[0m=\u001b[1;36m84230\u001b[0m, \u001b[33mn_iter\u001b[0m=\u001b[1;36m53\u001b[0m                                            \u001b]8;id=141583;file://C:\\Users\\hao_l\\AppData\\Local\\Temp\\ipykernel_10528\\3115349066.py\u001b\\\u001b[2m3115349066.py\u001b[0m\u001b]8;;\u001b\\\u001b[2m:\u001b[0m\u001b]8;id=811715;file://C:\\Users\\hao_l\\AppData\\Local\\Temp\\ipykernel_10528\\3115349066.py#7\u001b\\\u001b[2m7\u001b[0m\u001b]8;;\u001b\\\n"
      ]
     },
     "metadata": {},
     "output_type": "display_data"
    },
    {
     "data": {
      "text/html": [
       "<pre style=\"white-space:pre;overflow-x:auto;line-height:normal;font-family:Menlo,'DejaVu Sans Mono',consolas,'Courier New',monospace\"><span style=\"color: #7fbfbf; text-decoration-color: #7fbfbf\">                    </span><span style=\"color: #000080; text-decoration-color: #000080\">INFO    </span> Performing clustering for <span style=\"color: #808000; text-decoration-color: #808000\">k</span>=<span style=\"color: #008080; text-decoration-color: #008080; font-weight: bold\">68</span>                                         <a href=\"file://C:\\Users\\hao_l\\AppData\\Local\\Temp\\ipykernel_10528\\3115349066.py\" target=\"_blank\"><span style=\"color: #7f7f7f; text-decoration-color: #7f7f7f\">3115349066.py</span></a><span style=\"color: #7f7f7f; text-decoration-color: #7f7f7f\">:</span><a href=\"file://C:\\Users\\hao_l\\AppData\\Local\\Temp\\ipykernel_10528\\3115349066.py#4\" target=\"_blank\"><span style=\"color: #7f7f7f; text-decoration-color: #7f7f7f\">4</span></a>\n",
       "</pre>\n"
      ],
      "text/plain": [
       "\u001b[2;36m                   \u001b[0m\u001b[2;36m \u001b[0m\u001b[34mINFO    \u001b[0m Performing clustering for \u001b[33mk\u001b[0m=\u001b[1;36m68\u001b[0m                                         \u001b]8;id=904637;file://C:\\Users\\hao_l\\AppData\\Local\\Temp\\ipykernel_10528\\3115349066.py\u001b\\\u001b[2m3115349066.py\u001b[0m\u001b]8;;\u001b\\\u001b[2m:\u001b[0m\u001b]8;id=9854;file://C:\\Users\\hao_l\\AppData\\Local\\Temp\\ipykernel_10528\\3115349066.py#4\u001b\\\u001b[2m4\u001b[0m\u001b]8;;\u001b\\\n"
      ]
     },
     "metadata": {},
     "output_type": "display_data"
    },
    {
     "data": {
      "text/html": [
       "<pre style=\"white-space:pre;overflow-x:auto;line-height:normal;font-family:Menlo,'DejaVu Sans Mono',consolas,'Courier New',monospace\"><span style=\"color: #7fbfbf; text-decoration-color: #7fbfbf\">[04/22/23 07:23:25] </span><span style=\"color: #000080; text-decoration-color: #000080\">INFO    </span> <span style=\"color: #808000; text-decoration-color: #808000\">k</span>=<span style=\"color: #008080; text-decoration-color: #008080; font-weight: bold\">68</span>, <span style=\"color: #808000; text-decoration-color: #808000\">cost</span>=<span style=\"color: #008080; text-decoration-color: #008080; font-weight: bold\">84080</span>, <span style=\"color: #808000; text-decoration-color: #808000\">n_iter</span>=<span style=\"color: #008080; text-decoration-color: #008080; font-weight: bold\">66</span>                                            <a href=\"file://C:\\Users\\hao_l\\AppData\\Local\\Temp\\ipykernel_10528\\3115349066.py\" target=\"_blank\"><span style=\"color: #7f7f7f; text-decoration-color: #7f7f7f\">3115349066.py</span></a><span style=\"color: #7f7f7f; text-decoration-color: #7f7f7f\">:</span><a href=\"file://C:\\Users\\hao_l\\AppData\\Local\\Temp\\ipykernel_10528\\3115349066.py#7\" target=\"_blank\"><span style=\"color: #7f7f7f; text-decoration-color: #7f7f7f\">7</span></a>\n",
       "</pre>\n"
      ],
      "text/plain": [
       "\u001b[2;36m[04/22/23 07:23:25]\u001b[0m\u001b[2;36m \u001b[0m\u001b[34mINFO    \u001b[0m \u001b[33mk\u001b[0m=\u001b[1;36m68\u001b[0m, \u001b[33mcost\u001b[0m=\u001b[1;36m84080\u001b[0m, \u001b[33mn_iter\u001b[0m=\u001b[1;36m66\u001b[0m                                            \u001b]8;id=699258;file://C:\\Users\\hao_l\\AppData\\Local\\Temp\\ipykernel_10528\\3115349066.py\u001b\\\u001b[2m3115349066.py\u001b[0m\u001b]8;;\u001b\\\u001b[2m:\u001b[0m\u001b]8;id=195430;file://C:\\Users\\hao_l\\AppData\\Local\\Temp\\ipykernel_10528\\3115349066.py#7\u001b\\\u001b[2m7\u001b[0m\u001b]8;;\u001b\\\n"
      ]
     },
     "metadata": {},
     "output_type": "display_data"
    },
    {
     "data": {
      "text/html": [
       "<pre style=\"white-space:pre;overflow-x:auto;line-height:normal;font-family:Menlo,'DejaVu Sans Mono',consolas,'Courier New',monospace\"><span style=\"color: #7fbfbf; text-decoration-color: #7fbfbf\">                    </span><span style=\"color: #000080; text-decoration-color: #000080\">INFO    </span> Performing clustering for <span style=\"color: #808000; text-decoration-color: #808000\">k</span>=<span style=\"color: #008080; text-decoration-color: #008080; font-weight: bold\">69</span>                                         <a href=\"file://C:\\Users\\hao_l\\AppData\\Local\\Temp\\ipykernel_10528\\3115349066.py\" target=\"_blank\"><span style=\"color: #7f7f7f; text-decoration-color: #7f7f7f\">3115349066.py</span></a><span style=\"color: #7f7f7f; text-decoration-color: #7f7f7f\">:</span><a href=\"file://C:\\Users\\hao_l\\AppData\\Local\\Temp\\ipykernel_10528\\3115349066.py#4\" target=\"_blank\"><span style=\"color: #7f7f7f; text-decoration-color: #7f7f7f\">4</span></a>\n",
       "</pre>\n"
      ],
      "text/plain": [
       "\u001b[2;36m                   \u001b[0m\u001b[2;36m \u001b[0m\u001b[34mINFO    \u001b[0m Performing clustering for \u001b[33mk\u001b[0m=\u001b[1;36m69\u001b[0m                                         \u001b]8;id=57756;file://C:\\Users\\hao_l\\AppData\\Local\\Temp\\ipykernel_10528\\3115349066.py\u001b\\\u001b[2m3115349066.py\u001b[0m\u001b]8;;\u001b\\\u001b[2m:\u001b[0m\u001b]8;id=141461;file://C:\\Users\\hao_l\\AppData\\Local\\Temp\\ipykernel_10528\\3115349066.py#4\u001b\\\u001b[2m4\u001b[0m\u001b]8;;\u001b\\\n"
      ]
     },
     "metadata": {},
     "output_type": "display_data"
    },
    {
     "data": {
      "text/html": [
       "<pre style=\"white-space:pre;overflow-x:auto;line-height:normal;font-family:Menlo,'DejaVu Sans Mono',consolas,'Courier New',monospace\"><span style=\"color: #7fbfbf; text-decoration-color: #7fbfbf\">[04/22/23 07:35:37] </span><span style=\"color: #000080; text-decoration-color: #000080\">INFO    </span> <span style=\"color: #808000; text-decoration-color: #808000\">k</span>=<span style=\"color: #008080; text-decoration-color: #008080; font-weight: bold\">69</span>, <span style=\"color: #808000; text-decoration-color: #808000\">cost</span>=<span style=\"color: #008080; text-decoration-color: #008080; font-weight: bold\">83630</span>, <span style=\"color: #808000; text-decoration-color: #808000\">n_iter</span>=<span style=\"color: #008080; text-decoration-color: #008080; font-weight: bold\">56</span>                                            <a href=\"file://C:\\Users\\hao_l\\AppData\\Local\\Temp\\ipykernel_10528\\3115349066.py\" target=\"_blank\"><span style=\"color: #7f7f7f; text-decoration-color: #7f7f7f\">3115349066.py</span></a><span style=\"color: #7f7f7f; text-decoration-color: #7f7f7f\">:</span><a href=\"file://C:\\Users\\hao_l\\AppData\\Local\\Temp\\ipykernel_10528\\3115349066.py#7\" target=\"_blank\"><span style=\"color: #7f7f7f; text-decoration-color: #7f7f7f\">7</span></a>\n",
       "</pre>\n"
      ],
      "text/plain": [
       "\u001b[2;36m[04/22/23 07:35:37]\u001b[0m\u001b[2;36m \u001b[0m\u001b[34mINFO    \u001b[0m \u001b[33mk\u001b[0m=\u001b[1;36m69\u001b[0m, \u001b[33mcost\u001b[0m=\u001b[1;36m83630\u001b[0m, \u001b[33mn_iter\u001b[0m=\u001b[1;36m56\u001b[0m                                            \u001b]8;id=408016;file://C:\\Users\\hao_l\\AppData\\Local\\Temp\\ipykernel_10528\\3115349066.py\u001b\\\u001b[2m3115349066.py\u001b[0m\u001b]8;;\u001b\\\u001b[2m:\u001b[0m\u001b]8;id=961026;file://C:\\Users\\hao_l\\AppData\\Local\\Temp\\ipykernel_10528\\3115349066.py#7\u001b\\\u001b[2m7\u001b[0m\u001b]8;;\u001b\\\n"
      ]
     },
     "metadata": {},
     "output_type": "display_data"
    },
    {
     "data": {
      "text/html": [
       "<pre style=\"white-space:pre;overflow-x:auto;line-height:normal;font-family:Menlo,'DejaVu Sans Mono',consolas,'Courier New',monospace\"><span style=\"color: #7fbfbf; text-decoration-color: #7fbfbf\">                    </span><span style=\"color: #000080; text-decoration-color: #000080\">INFO    </span> Performing clustering for <span style=\"color: #808000; text-decoration-color: #808000\">k</span>=<span style=\"color: #008080; text-decoration-color: #008080; font-weight: bold\">70</span>                                         <a href=\"file://C:\\Users\\hao_l\\AppData\\Local\\Temp\\ipykernel_10528\\3115349066.py\" target=\"_blank\"><span style=\"color: #7f7f7f; text-decoration-color: #7f7f7f\">3115349066.py</span></a><span style=\"color: #7f7f7f; text-decoration-color: #7f7f7f\">:</span><a href=\"file://C:\\Users\\hao_l\\AppData\\Local\\Temp\\ipykernel_10528\\3115349066.py#4\" target=\"_blank\"><span style=\"color: #7f7f7f; text-decoration-color: #7f7f7f\">4</span></a>\n",
       "</pre>\n"
      ],
      "text/plain": [
       "\u001b[2;36m                   \u001b[0m\u001b[2;36m \u001b[0m\u001b[34mINFO    \u001b[0m Performing clustering for \u001b[33mk\u001b[0m=\u001b[1;36m70\u001b[0m                                         \u001b]8;id=489028;file://C:\\Users\\hao_l\\AppData\\Local\\Temp\\ipykernel_10528\\3115349066.py\u001b\\\u001b[2m3115349066.py\u001b[0m\u001b]8;;\u001b\\\u001b[2m:\u001b[0m\u001b]8;id=630604;file://C:\\Users\\hao_l\\AppData\\Local\\Temp\\ipykernel_10528\\3115349066.py#4\u001b\\\u001b[2m4\u001b[0m\u001b]8;;\u001b\\\n"
      ]
     },
     "metadata": {},
     "output_type": "display_data"
    },
    {
     "data": {
      "text/html": [
       "<pre style=\"white-space:pre;overflow-x:auto;line-height:normal;font-family:Menlo,'DejaVu Sans Mono',consolas,'Courier New',monospace\"><span style=\"color: #7fbfbf; text-decoration-color: #7fbfbf\">[04/22/23 07:49:18] </span><span style=\"color: #000080; text-decoration-color: #000080\">INFO    </span> <span style=\"color: #808000; text-decoration-color: #808000\">k</span>=<span style=\"color: #008080; text-decoration-color: #008080; font-weight: bold\">70</span>, <span style=\"color: #808000; text-decoration-color: #808000\">cost</span>=<span style=\"color: #008080; text-decoration-color: #008080; font-weight: bold\">83245</span>, <span style=\"color: #808000; text-decoration-color: #808000\">n_iter</span>=<span style=\"color: #008080; text-decoration-color: #008080; font-weight: bold\">53</span>                                            <a href=\"file://C:\\Users\\hao_l\\AppData\\Local\\Temp\\ipykernel_10528\\3115349066.py\" target=\"_blank\"><span style=\"color: #7f7f7f; text-decoration-color: #7f7f7f\">3115349066.py</span></a><span style=\"color: #7f7f7f; text-decoration-color: #7f7f7f\">:</span><a href=\"file://C:\\Users\\hao_l\\AppData\\Local\\Temp\\ipykernel_10528\\3115349066.py#7\" target=\"_blank\"><span style=\"color: #7f7f7f; text-decoration-color: #7f7f7f\">7</span></a>\n",
       "</pre>\n"
      ],
      "text/plain": [
       "\u001b[2;36m[04/22/23 07:49:18]\u001b[0m\u001b[2;36m \u001b[0m\u001b[34mINFO    \u001b[0m \u001b[33mk\u001b[0m=\u001b[1;36m70\u001b[0m, \u001b[33mcost\u001b[0m=\u001b[1;36m83245\u001b[0m, \u001b[33mn_iter\u001b[0m=\u001b[1;36m53\u001b[0m                                            \u001b]8;id=882542;file://C:\\Users\\hao_l\\AppData\\Local\\Temp\\ipykernel_10528\\3115349066.py\u001b\\\u001b[2m3115349066.py\u001b[0m\u001b]8;;\u001b\\\u001b[2m:\u001b[0m\u001b]8;id=862344;file://C:\\Users\\hao_l\\AppData\\Local\\Temp\\ipykernel_10528\\3115349066.py#7\u001b\\\u001b[2m7\u001b[0m\u001b]8;;\u001b\\\n"
      ]
     },
     "metadata": {},
     "output_type": "display_data"
    },
    {
     "data": {
      "text/html": [
       "<pre style=\"white-space:pre;overflow-x:auto;line-height:normal;font-family:Menlo,'DejaVu Sans Mono',consolas,'Courier New',monospace\"><span style=\"color: #7fbfbf; text-decoration-color: #7fbfbf\">                    </span><span style=\"color: #000080; text-decoration-color: #000080\">INFO    </span> Performing clustering for <span style=\"color: #808000; text-decoration-color: #808000\">k</span>=<span style=\"color: #008080; text-decoration-color: #008080; font-weight: bold\">71</span>                                         <a href=\"file://C:\\Users\\hao_l\\AppData\\Local\\Temp\\ipykernel_10528\\3115349066.py\" target=\"_blank\"><span style=\"color: #7f7f7f; text-decoration-color: #7f7f7f\">3115349066.py</span></a><span style=\"color: #7f7f7f; text-decoration-color: #7f7f7f\">:</span><a href=\"file://C:\\Users\\hao_l\\AppData\\Local\\Temp\\ipykernel_10528\\3115349066.py#4\" target=\"_blank\"><span style=\"color: #7f7f7f; text-decoration-color: #7f7f7f\">4</span></a>\n",
       "</pre>\n"
      ],
      "text/plain": [
       "\u001b[2;36m                   \u001b[0m\u001b[2;36m \u001b[0m\u001b[34mINFO    \u001b[0m Performing clustering for \u001b[33mk\u001b[0m=\u001b[1;36m71\u001b[0m                                         \u001b]8;id=812175;file://C:\\Users\\hao_l\\AppData\\Local\\Temp\\ipykernel_10528\\3115349066.py\u001b\\\u001b[2m3115349066.py\u001b[0m\u001b]8;;\u001b\\\u001b[2m:\u001b[0m\u001b]8;id=711762;file://C:\\Users\\hao_l\\AppData\\Local\\Temp\\ipykernel_10528\\3115349066.py#4\u001b\\\u001b[2m4\u001b[0m\u001b]8;;\u001b\\\n"
      ]
     },
     "metadata": {},
     "output_type": "display_data"
    },
    {
     "data": {
      "text/html": [
       "<pre style=\"white-space:pre;overflow-x:auto;line-height:normal;font-family:Menlo,'DejaVu Sans Mono',consolas,'Courier New',monospace\"><span style=\"color: #7fbfbf; text-decoration-color: #7fbfbf\">[04/22/23 08:03:18] </span><span style=\"color: #000080; text-decoration-color: #000080\">INFO    </span> <span style=\"color: #808000; text-decoration-color: #808000\">k</span>=<span style=\"color: #008080; text-decoration-color: #008080; font-weight: bold\">71</span>, <span style=\"color: #808000; text-decoration-color: #808000\">cost</span>=<span style=\"color: #008080; text-decoration-color: #008080; font-weight: bold\">83150</span>, <span style=\"color: #808000; text-decoration-color: #808000\">n_iter</span>=<span style=\"color: #008080; text-decoration-color: #008080; font-weight: bold\">58</span>                                            <a href=\"file://C:\\Users\\hao_l\\AppData\\Local\\Temp\\ipykernel_10528\\3115349066.py\" target=\"_blank\"><span style=\"color: #7f7f7f; text-decoration-color: #7f7f7f\">3115349066.py</span></a><span style=\"color: #7f7f7f; text-decoration-color: #7f7f7f\">:</span><a href=\"file://C:\\Users\\hao_l\\AppData\\Local\\Temp\\ipykernel_10528\\3115349066.py#7\" target=\"_blank\"><span style=\"color: #7f7f7f; text-decoration-color: #7f7f7f\">7</span></a>\n",
       "</pre>\n"
      ],
      "text/plain": [
       "\u001b[2;36m[04/22/23 08:03:18]\u001b[0m\u001b[2;36m \u001b[0m\u001b[34mINFO    \u001b[0m \u001b[33mk\u001b[0m=\u001b[1;36m71\u001b[0m, \u001b[33mcost\u001b[0m=\u001b[1;36m83150\u001b[0m, \u001b[33mn_iter\u001b[0m=\u001b[1;36m58\u001b[0m                                            \u001b]8;id=454202;file://C:\\Users\\hao_l\\AppData\\Local\\Temp\\ipykernel_10528\\3115349066.py\u001b\\\u001b[2m3115349066.py\u001b[0m\u001b]8;;\u001b\\\u001b[2m:\u001b[0m\u001b]8;id=460029;file://C:\\Users\\hao_l\\AppData\\Local\\Temp\\ipykernel_10528\\3115349066.py#7\u001b\\\u001b[2m7\u001b[0m\u001b]8;;\u001b\\\n"
      ]
     },
     "metadata": {},
     "output_type": "display_data"
    },
    {
     "data": {
      "text/html": [
       "<pre style=\"white-space:pre;overflow-x:auto;line-height:normal;font-family:Menlo,'DejaVu Sans Mono',consolas,'Courier New',monospace\"><span style=\"color: #7fbfbf; text-decoration-color: #7fbfbf\">                    </span><span style=\"color: #000080; text-decoration-color: #000080\">INFO    </span> Performing clustering for <span style=\"color: #808000; text-decoration-color: #808000\">k</span>=<span style=\"color: #008080; text-decoration-color: #008080; font-weight: bold\">72</span>                                         <a href=\"file://C:\\Users\\hao_l\\AppData\\Local\\Temp\\ipykernel_10528\\3115349066.py\" target=\"_blank\"><span style=\"color: #7f7f7f; text-decoration-color: #7f7f7f\">3115349066.py</span></a><span style=\"color: #7f7f7f; text-decoration-color: #7f7f7f\">:</span><a href=\"file://C:\\Users\\hao_l\\AppData\\Local\\Temp\\ipykernel_10528\\3115349066.py#4\" target=\"_blank\"><span style=\"color: #7f7f7f; text-decoration-color: #7f7f7f\">4</span></a>\n",
       "</pre>\n"
      ],
      "text/plain": [
       "\u001b[2;36m                   \u001b[0m\u001b[2;36m \u001b[0m\u001b[34mINFO    \u001b[0m Performing clustering for \u001b[33mk\u001b[0m=\u001b[1;36m72\u001b[0m                                         \u001b]8;id=946741;file://C:\\Users\\hao_l\\AppData\\Local\\Temp\\ipykernel_10528\\3115349066.py\u001b\\\u001b[2m3115349066.py\u001b[0m\u001b]8;;\u001b\\\u001b[2m:\u001b[0m\u001b]8;id=885080;file://C:\\Users\\hao_l\\AppData\\Local\\Temp\\ipykernel_10528\\3115349066.py#4\u001b\\\u001b[2m4\u001b[0m\u001b]8;;\u001b\\\n"
      ]
     },
     "metadata": {},
     "output_type": "display_data"
    },
    {
     "data": {
      "text/html": [
       "<pre style=\"white-space:pre;overflow-x:auto;line-height:normal;font-family:Menlo,'DejaVu Sans Mono',consolas,'Courier New',monospace\"><span style=\"color: #7fbfbf; text-decoration-color: #7fbfbf\">[04/22/23 08:18:19] </span><span style=\"color: #000080; text-decoration-color: #000080\">INFO    </span> <span style=\"color: #808000; text-decoration-color: #808000\">k</span>=<span style=\"color: #008080; text-decoration-color: #008080; font-weight: bold\">72</span>, <span style=\"color: #808000; text-decoration-color: #808000\">cost</span>=<span style=\"color: #008080; text-decoration-color: #008080; font-weight: bold\">82593</span>, <span style=\"color: #808000; text-decoration-color: #808000\">n_iter</span>=<span style=\"color: #008080; text-decoration-color: #008080; font-weight: bold\">90</span>                                            <a href=\"file://C:\\Users\\hao_l\\AppData\\Local\\Temp\\ipykernel_10528\\3115349066.py\" target=\"_blank\"><span style=\"color: #7f7f7f; text-decoration-color: #7f7f7f\">3115349066.py</span></a><span style=\"color: #7f7f7f; text-decoration-color: #7f7f7f\">:</span><a href=\"file://C:\\Users\\hao_l\\AppData\\Local\\Temp\\ipykernel_10528\\3115349066.py#7\" target=\"_blank\"><span style=\"color: #7f7f7f; text-decoration-color: #7f7f7f\">7</span></a>\n",
       "</pre>\n"
      ],
      "text/plain": [
       "\u001b[2;36m[04/22/23 08:18:19]\u001b[0m\u001b[2;36m \u001b[0m\u001b[34mINFO    \u001b[0m \u001b[33mk\u001b[0m=\u001b[1;36m72\u001b[0m, \u001b[33mcost\u001b[0m=\u001b[1;36m82593\u001b[0m, \u001b[33mn_iter\u001b[0m=\u001b[1;36m90\u001b[0m                                            \u001b]8;id=65593;file://C:\\Users\\hao_l\\AppData\\Local\\Temp\\ipykernel_10528\\3115349066.py\u001b\\\u001b[2m3115349066.py\u001b[0m\u001b]8;;\u001b\\\u001b[2m:\u001b[0m\u001b]8;id=674170;file://C:\\Users\\hao_l\\AppData\\Local\\Temp\\ipykernel_10528\\3115349066.py#7\u001b\\\u001b[2m7\u001b[0m\u001b]8;;\u001b\\\n"
      ]
     },
     "metadata": {},
     "output_type": "display_data"
    },
    {
     "data": {
      "text/html": [
       "<pre style=\"white-space:pre;overflow-x:auto;line-height:normal;font-family:Menlo,'DejaVu Sans Mono',consolas,'Courier New',monospace\"><span style=\"color: #7fbfbf; text-decoration-color: #7fbfbf\">                    </span><span style=\"color: #000080; text-decoration-color: #000080\">INFO    </span> Performing clustering for <span style=\"color: #808000; text-decoration-color: #808000\">k</span>=<span style=\"color: #008080; text-decoration-color: #008080; font-weight: bold\">73</span>                                         <a href=\"file://C:\\Users\\hao_l\\AppData\\Local\\Temp\\ipykernel_10528\\3115349066.py\" target=\"_blank\"><span style=\"color: #7f7f7f; text-decoration-color: #7f7f7f\">3115349066.py</span></a><span style=\"color: #7f7f7f; text-decoration-color: #7f7f7f\">:</span><a href=\"file://C:\\Users\\hao_l\\AppData\\Local\\Temp\\ipykernel_10528\\3115349066.py#4\" target=\"_blank\"><span style=\"color: #7f7f7f; text-decoration-color: #7f7f7f\">4</span></a>\n",
       "</pre>\n"
      ],
      "text/plain": [
       "\u001b[2;36m                   \u001b[0m\u001b[2;36m \u001b[0m\u001b[34mINFO    \u001b[0m Performing clustering for \u001b[33mk\u001b[0m=\u001b[1;36m73\u001b[0m                                         \u001b]8;id=342060;file://C:\\Users\\hao_l\\AppData\\Local\\Temp\\ipykernel_10528\\3115349066.py\u001b\\\u001b[2m3115349066.py\u001b[0m\u001b]8;;\u001b\\\u001b[2m:\u001b[0m\u001b]8;id=183539;file://C:\\Users\\hao_l\\AppData\\Local\\Temp\\ipykernel_10528\\3115349066.py#4\u001b\\\u001b[2m4\u001b[0m\u001b]8;;\u001b\\\n"
      ]
     },
     "metadata": {},
     "output_type": "display_data"
    },
    {
     "data": {
      "text/html": [
       "<pre style=\"white-space:pre;overflow-x:auto;line-height:normal;font-family:Menlo,'DejaVu Sans Mono',consolas,'Courier New',monospace\"><span style=\"color: #7fbfbf; text-decoration-color: #7fbfbf\">[04/22/23 08:32:12] </span><span style=\"color: #000080; text-decoration-color: #000080\">INFO    </span> <span style=\"color: #808000; text-decoration-color: #808000\">k</span>=<span style=\"color: #008080; text-decoration-color: #008080; font-weight: bold\">73</span>, <span style=\"color: #808000; text-decoration-color: #808000\">cost</span>=<span style=\"color: #008080; text-decoration-color: #008080; font-weight: bold\">82334</span>, <span style=\"color: #808000; text-decoration-color: #808000\">n_iter</span>=<span style=\"color: #008080; text-decoration-color: #008080; font-weight: bold\">72</span>                                            <a href=\"file://C:\\Users\\hao_l\\AppData\\Local\\Temp\\ipykernel_10528\\3115349066.py\" target=\"_blank\"><span style=\"color: #7f7f7f; text-decoration-color: #7f7f7f\">3115349066.py</span></a><span style=\"color: #7f7f7f; text-decoration-color: #7f7f7f\">:</span><a href=\"file://C:\\Users\\hao_l\\AppData\\Local\\Temp\\ipykernel_10528\\3115349066.py#7\" target=\"_blank\"><span style=\"color: #7f7f7f; text-decoration-color: #7f7f7f\">7</span></a>\n",
       "</pre>\n"
      ],
      "text/plain": [
       "\u001b[2;36m[04/22/23 08:32:12]\u001b[0m\u001b[2;36m \u001b[0m\u001b[34mINFO    \u001b[0m \u001b[33mk\u001b[0m=\u001b[1;36m73\u001b[0m, \u001b[33mcost\u001b[0m=\u001b[1;36m82334\u001b[0m, \u001b[33mn_iter\u001b[0m=\u001b[1;36m72\u001b[0m                                            \u001b]8;id=129012;file://C:\\Users\\hao_l\\AppData\\Local\\Temp\\ipykernel_10528\\3115349066.py\u001b\\\u001b[2m3115349066.py\u001b[0m\u001b]8;;\u001b\\\u001b[2m:\u001b[0m\u001b]8;id=16642;file://C:\\Users\\hao_l\\AppData\\Local\\Temp\\ipykernel_10528\\3115349066.py#7\u001b\\\u001b[2m7\u001b[0m\u001b]8;;\u001b\\\n"
      ]
     },
     "metadata": {},
     "output_type": "display_data"
    },
    {
     "data": {
      "text/html": [
       "<pre style=\"white-space:pre;overflow-x:auto;line-height:normal;font-family:Menlo,'DejaVu Sans Mono',consolas,'Courier New',monospace\"><span style=\"color: #7fbfbf; text-decoration-color: #7fbfbf\">                    </span><span style=\"color: #000080; text-decoration-color: #000080\">INFO    </span> Performing clustering for <span style=\"color: #808000; text-decoration-color: #808000\">k</span>=<span style=\"color: #008080; text-decoration-color: #008080; font-weight: bold\">74</span>                                         <a href=\"file://C:\\Users\\hao_l\\AppData\\Local\\Temp\\ipykernel_10528\\3115349066.py\" target=\"_blank\"><span style=\"color: #7f7f7f; text-decoration-color: #7f7f7f\">3115349066.py</span></a><span style=\"color: #7f7f7f; text-decoration-color: #7f7f7f\">:</span><a href=\"file://C:\\Users\\hao_l\\AppData\\Local\\Temp\\ipykernel_10528\\3115349066.py#4\" target=\"_blank\"><span style=\"color: #7f7f7f; text-decoration-color: #7f7f7f\">4</span></a>\n",
       "</pre>\n"
      ],
      "text/plain": [
       "\u001b[2;36m                   \u001b[0m\u001b[2;36m \u001b[0m\u001b[34mINFO    \u001b[0m Performing clustering for \u001b[33mk\u001b[0m=\u001b[1;36m74\u001b[0m                                         \u001b]8;id=500847;file://C:\\Users\\hao_l\\AppData\\Local\\Temp\\ipykernel_10528\\3115349066.py\u001b\\\u001b[2m3115349066.py\u001b[0m\u001b]8;;\u001b\\\u001b[2m:\u001b[0m\u001b]8;id=678224;file://C:\\Users\\hao_l\\AppData\\Local\\Temp\\ipykernel_10528\\3115349066.py#4\u001b\\\u001b[2m4\u001b[0m\u001b]8;;\u001b\\\n"
      ]
     },
     "metadata": {},
     "output_type": "display_data"
    },
    {
     "data": {
      "text/html": [
       "<pre style=\"white-space:pre;overflow-x:auto;line-height:normal;font-family:Menlo,'DejaVu Sans Mono',consolas,'Courier New',monospace\"><span style=\"color: #7fbfbf; text-decoration-color: #7fbfbf\">[04/22/23 08:46:55] </span><span style=\"color: #000080; text-decoration-color: #000080\">INFO    </span> <span style=\"color: #808000; text-decoration-color: #808000\">k</span>=<span style=\"color: #008080; text-decoration-color: #008080; font-weight: bold\">74</span>, <span style=\"color: #808000; text-decoration-color: #808000\">cost</span>=<span style=\"color: #008080; text-decoration-color: #008080; font-weight: bold\">82119</span>, <span style=\"color: #808000; text-decoration-color: #808000\">n_iter</span>=<span style=\"color: #008080; text-decoration-color: #008080; font-weight: bold\">48</span>                                            <a href=\"file://C:\\Users\\hao_l\\AppData\\Local\\Temp\\ipykernel_10528\\3115349066.py\" target=\"_blank\"><span style=\"color: #7f7f7f; text-decoration-color: #7f7f7f\">3115349066.py</span></a><span style=\"color: #7f7f7f; text-decoration-color: #7f7f7f\">:</span><a href=\"file://C:\\Users\\hao_l\\AppData\\Local\\Temp\\ipykernel_10528\\3115349066.py#7\" target=\"_blank\"><span style=\"color: #7f7f7f; text-decoration-color: #7f7f7f\">7</span></a>\n",
       "</pre>\n"
      ],
      "text/plain": [
       "\u001b[2;36m[04/22/23 08:46:55]\u001b[0m\u001b[2;36m \u001b[0m\u001b[34mINFO    \u001b[0m \u001b[33mk\u001b[0m=\u001b[1;36m74\u001b[0m, \u001b[33mcost\u001b[0m=\u001b[1;36m82119\u001b[0m, \u001b[33mn_iter\u001b[0m=\u001b[1;36m48\u001b[0m                                            \u001b]8;id=974347;file://C:\\Users\\hao_l\\AppData\\Local\\Temp\\ipykernel_10528\\3115349066.py\u001b\\\u001b[2m3115349066.py\u001b[0m\u001b]8;;\u001b\\\u001b[2m:\u001b[0m\u001b]8;id=674715;file://C:\\Users\\hao_l\\AppData\\Local\\Temp\\ipykernel_10528\\3115349066.py#7\u001b\\\u001b[2m7\u001b[0m\u001b]8;;\u001b\\\n"
      ]
     },
     "metadata": {},
     "output_type": "display_data"
    },
    {
     "data": {
      "text/html": [
       "<pre style=\"white-space:pre;overflow-x:auto;line-height:normal;font-family:Menlo,'DejaVu Sans Mono',consolas,'Courier New',monospace\"><span style=\"color: #7fbfbf; text-decoration-color: #7fbfbf\">                    </span><span style=\"color: #000080; text-decoration-color: #000080\">INFO    </span> Performing clustering for <span style=\"color: #808000; text-decoration-color: #808000\">k</span>=<span style=\"color: #008080; text-decoration-color: #008080; font-weight: bold\">75</span>                                         <a href=\"file://C:\\Users\\hao_l\\AppData\\Local\\Temp\\ipykernel_10528\\3115349066.py\" target=\"_blank\"><span style=\"color: #7f7f7f; text-decoration-color: #7f7f7f\">3115349066.py</span></a><span style=\"color: #7f7f7f; text-decoration-color: #7f7f7f\">:</span><a href=\"file://C:\\Users\\hao_l\\AppData\\Local\\Temp\\ipykernel_10528\\3115349066.py#4\" target=\"_blank\"><span style=\"color: #7f7f7f; text-decoration-color: #7f7f7f\">4</span></a>\n",
       "</pre>\n"
      ],
      "text/plain": [
       "\u001b[2;36m                   \u001b[0m\u001b[2;36m \u001b[0m\u001b[34mINFO    \u001b[0m Performing clustering for \u001b[33mk\u001b[0m=\u001b[1;36m75\u001b[0m                                         \u001b]8;id=197156;file://C:\\Users\\hao_l\\AppData\\Local\\Temp\\ipykernel_10528\\3115349066.py\u001b\\\u001b[2m3115349066.py\u001b[0m\u001b]8;;\u001b\\\u001b[2m:\u001b[0m\u001b]8;id=527252;file://C:\\Users\\hao_l\\AppData\\Local\\Temp\\ipykernel_10528\\3115349066.py#4\u001b\\\u001b[2m4\u001b[0m\u001b]8;;\u001b\\\n"
      ]
     },
     "metadata": {},
     "output_type": "display_data"
    },
    {
     "data": {
      "text/html": [
       "<pre style=\"white-space:pre;overflow-x:auto;line-height:normal;font-family:Menlo,'DejaVu Sans Mono',consolas,'Courier New',monospace\"><span style=\"color: #7fbfbf; text-decoration-color: #7fbfbf\">[04/22/23 09:02:08] </span><span style=\"color: #000080; text-decoration-color: #000080\">INFO    </span> <span style=\"color: #808000; text-decoration-color: #808000\">k</span>=<span style=\"color: #008080; text-decoration-color: #008080; font-weight: bold\">75</span>, <span style=\"color: #808000; text-decoration-color: #808000\">cost</span>=<span style=\"color: #008080; text-decoration-color: #008080; font-weight: bold\">81940</span>, <span style=\"color: #808000; text-decoration-color: #808000\">n_iter</span>=<span style=\"color: #008080; text-decoration-color: #008080; font-weight: bold\">47</span>                                            <a href=\"file://C:\\Users\\hao_l\\AppData\\Local\\Temp\\ipykernel_10528\\3115349066.py\" target=\"_blank\"><span style=\"color: #7f7f7f; text-decoration-color: #7f7f7f\">3115349066.py</span></a><span style=\"color: #7f7f7f; text-decoration-color: #7f7f7f\">:</span><a href=\"file://C:\\Users\\hao_l\\AppData\\Local\\Temp\\ipykernel_10528\\3115349066.py#7\" target=\"_blank\"><span style=\"color: #7f7f7f; text-decoration-color: #7f7f7f\">7</span></a>\n",
       "</pre>\n"
      ],
      "text/plain": [
       "\u001b[2;36m[04/22/23 09:02:08]\u001b[0m\u001b[2;36m \u001b[0m\u001b[34mINFO    \u001b[0m \u001b[33mk\u001b[0m=\u001b[1;36m75\u001b[0m, \u001b[33mcost\u001b[0m=\u001b[1;36m81940\u001b[0m, \u001b[33mn_iter\u001b[0m=\u001b[1;36m47\u001b[0m                                            \u001b]8;id=993332;file://C:\\Users\\hao_l\\AppData\\Local\\Temp\\ipykernel_10528\\3115349066.py\u001b\\\u001b[2m3115349066.py\u001b[0m\u001b]8;;\u001b\\\u001b[2m:\u001b[0m\u001b]8;id=738767;file://C:\\Users\\hao_l\\AppData\\Local\\Temp\\ipykernel_10528\\3115349066.py#7\u001b\\\u001b[2m7\u001b[0m\u001b]8;;\u001b\\\n"
      ]
     },
     "metadata": {},
     "output_type": "display_data"
    },
    {
     "data": {
      "text/html": [
       "<pre style=\"white-space:pre;overflow-x:auto;line-height:normal;font-family:Menlo,'DejaVu Sans Mono',consolas,'Courier New',monospace\"><span style=\"color: #7fbfbf; text-decoration-color: #7fbfbf\">                    </span><span style=\"color: #000080; text-decoration-color: #000080\">INFO    </span> Performing clustering for <span style=\"color: #808000; text-decoration-color: #808000\">k</span>=<span style=\"color: #008080; text-decoration-color: #008080; font-weight: bold\">76</span>                                         <a href=\"file://C:\\Users\\hao_l\\AppData\\Local\\Temp\\ipykernel_10528\\3115349066.py\" target=\"_blank\"><span style=\"color: #7f7f7f; text-decoration-color: #7f7f7f\">3115349066.py</span></a><span style=\"color: #7f7f7f; text-decoration-color: #7f7f7f\">:</span><a href=\"file://C:\\Users\\hao_l\\AppData\\Local\\Temp\\ipykernel_10528\\3115349066.py#4\" target=\"_blank\"><span style=\"color: #7f7f7f; text-decoration-color: #7f7f7f\">4</span></a>\n",
       "</pre>\n"
      ],
      "text/plain": [
       "\u001b[2;36m                   \u001b[0m\u001b[2;36m \u001b[0m\u001b[34mINFO    \u001b[0m Performing clustering for \u001b[33mk\u001b[0m=\u001b[1;36m76\u001b[0m                                         \u001b]8;id=595621;file://C:\\Users\\hao_l\\AppData\\Local\\Temp\\ipykernel_10528\\3115349066.py\u001b\\\u001b[2m3115349066.py\u001b[0m\u001b]8;;\u001b\\\u001b[2m:\u001b[0m\u001b]8;id=326404;file://C:\\Users\\hao_l\\AppData\\Local\\Temp\\ipykernel_10528\\3115349066.py#4\u001b\\\u001b[2m4\u001b[0m\u001b]8;;\u001b\\\n"
      ]
     },
     "metadata": {},
     "output_type": "display_data"
    },
    {
     "data": {
      "text/html": [
       "<pre style=\"white-space:pre;overflow-x:auto;line-height:normal;font-family:Menlo,'DejaVu Sans Mono',consolas,'Courier New',monospace\"><span style=\"color: #7fbfbf; text-decoration-color: #7fbfbf\">[04/22/23 09:15:26] </span><span style=\"color: #000080; text-decoration-color: #000080\">INFO    </span> <span style=\"color: #808000; text-decoration-color: #808000\">k</span>=<span style=\"color: #008080; text-decoration-color: #008080; font-weight: bold\">76</span>, <span style=\"color: #808000; text-decoration-color: #808000\">cost</span>=<span style=\"color: #008080; text-decoration-color: #008080; font-weight: bold\">81461</span>, <span style=\"color: #808000; text-decoration-color: #808000\">n_iter</span>=<span style=\"color: #008080; text-decoration-color: #008080; font-weight: bold\">57</span>                                            <a href=\"file://C:\\Users\\hao_l\\AppData\\Local\\Temp\\ipykernel_10528\\3115349066.py\" target=\"_blank\"><span style=\"color: #7f7f7f; text-decoration-color: #7f7f7f\">3115349066.py</span></a><span style=\"color: #7f7f7f; text-decoration-color: #7f7f7f\">:</span><a href=\"file://C:\\Users\\hao_l\\AppData\\Local\\Temp\\ipykernel_10528\\3115349066.py#7\" target=\"_blank\"><span style=\"color: #7f7f7f; text-decoration-color: #7f7f7f\">7</span></a>\n",
       "</pre>\n"
      ],
      "text/plain": [
       "\u001b[2;36m[04/22/23 09:15:26]\u001b[0m\u001b[2;36m \u001b[0m\u001b[34mINFO    \u001b[0m \u001b[33mk\u001b[0m=\u001b[1;36m76\u001b[0m, \u001b[33mcost\u001b[0m=\u001b[1;36m81461\u001b[0m, \u001b[33mn_iter\u001b[0m=\u001b[1;36m57\u001b[0m                                            \u001b]8;id=573852;file://C:\\Users\\hao_l\\AppData\\Local\\Temp\\ipykernel_10528\\3115349066.py\u001b\\\u001b[2m3115349066.py\u001b[0m\u001b]8;;\u001b\\\u001b[2m:\u001b[0m\u001b]8;id=275487;file://C:\\Users\\hao_l\\AppData\\Local\\Temp\\ipykernel_10528\\3115349066.py#7\u001b\\\u001b[2m7\u001b[0m\u001b]8;;\u001b\\\n"
      ]
     },
     "metadata": {},
     "output_type": "display_data"
    },
    {
     "data": {
      "text/html": [
       "<pre style=\"white-space:pre;overflow-x:auto;line-height:normal;font-family:Menlo,'DejaVu Sans Mono',consolas,'Courier New',monospace\"><span style=\"color: #7fbfbf; text-decoration-color: #7fbfbf\">                    </span><span style=\"color: #000080; text-decoration-color: #000080\">INFO    </span> Performing clustering for <span style=\"color: #808000; text-decoration-color: #808000\">k</span>=<span style=\"color: #008080; text-decoration-color: #008080; font-weight: bold\">77</span>                                         <a href=\"file://C:\\Users\\hao_l\\AppData\\Local\\Temp\\ipykernel_10528\\3115349066.py\" target=\"_blank\"><span style=\"color: #7f7f7f; text-decoration-color: #7f7f7f\">3115349066.py</span></a><span style=\"color: #7f7f7f; text-decoration-color: #7f7f7f\">:</span><a href=\"file://C:\\Users\\hao_l\\AppData\\Local\\Temp\\ipykernel_10528\\3115349066.py#4\" target=\"_blank\"><span style=\"color: #7f7f7f; text-decoration-color: #7f7f7f\">4</span></a>\n",
       "</pre>\n"
      ],
      "text/plain": [
       "\u001b[2;36m                   \u001b[0m\u001b[2;36m \u001b[0m\u001b[34mINFO    \u001b[0m Performing clustering for \u001b[33mk\u001b[0m=\u001b[1;36m77\u001b[0m                                         \u001b]8;id=358770;file://C:\\Users\\hao_l\\AppData\\Local\\Temp\\ipykernel_10528\\3115349066.py\u001b\\\u001b[2m3115349066.py\u001b[0m\u001b]8;;\u001b\\\u001b[2m:\u001b[0m\u001b]8;id=838804;file://C:\\Users\\hao_l\\AppData\\Local\\Temp\\ipykernel_10528\\3115349066.py#4\u001b\\\u001b[2m4\u001b[0m\u001b]8;;\u001b\\\n"
      ]
     },
     "metadata": {},
     "output_type": "display_data"
    },
    {
     "data": {
      "text/html": [
       "<pre style=\"white-space:pre;overflow-x:auto;line-height:normal;font-family:Menlo,'DejaVu Sans Mono',consolas,'Courier New',monospace\"><span style=\"color: #7fbfbf; text-decoration-color: #7fbfbf\">[04/22/23 09:30:32] </span><span style=\"color: #000080; text-decoration-color: #000080\">INFO    </span> <span style=\"color: #808000; text-decoration-color: #808000\">k</span>=<span style=\"color: #008080; text-decoration-color: #008080; font-weight: bold\">77</span>, <span style=\"color: #808000; text-decoration-color: #808000\">cost</span>=<span style=\"color: #008080; text-decoration-color: #008080; font-weight: bold\">81348</span>, <span style=\"color: #808000; text-decoration-color: #808000\">n_iter</span>=<span style=\"color: #008080; text-decoration-color: #008080; font-weight: bold\">32</span>                                            <a href=\"file://C:\\Users\\hao_l\\AppData\\Local\\Temp\\ipykernel_10528\\3115349066.py\" target=\"_blank\"><span style=\"color: #7f7f7f; text-decoration-color: #7f7f7f\">3115349066.py</span></a><span style=\"color: #7f7f7f; text-decoration-color: #7f7f7f\">:</span><a href=\"file://C:\\Users\\hao_l\\AppData\\Local\\Temp\\ipykernel_10528\\3115349066.py#7\" target=\"_blank\"><span style=\"color: #7f7f7f; text-decoration-color: #7f7f7f\">7</span></a>\n",
       "</pre>\n"
      ],
      "text/plain": [
       "\u001b[2;36m[04/22/23 09:30:32]\u001b[0m\u001b[2;36m \u001b[0m\u001b[34mINFO    \u001b[0m \u001b[33mk\u001b[0m=\u001b[1;36m77\u001b[0m, \u001b[33mcost\u001b[0m=\u001b[1;36m81348\u001b[0m, \u001b[33mn_iter\u001b[0m=\u001b[1;36m32\u001b[0m                                            \u001b]8;id=56062;file://C:\\Users\\hao_l\\AppData\\Local\\Temp\\ipykernel_10528\\3115349066.py\u001b\\\u001b[2m3115349066.py\u001b[0m\u001b]8;;\u001b\\\u001b[2m:\u001b[0m\u001b]8;id=286965;file://C:\\Users\\hao_l\\AppData\\Local\\Temp\\ipykernel_10528\\3115349066.py#7\u001b\\\u001b[2m7\u001b[0m\u001b]8;;\u001b\\\n"
      ]
     },
     "metadata": {},
     "output_type": "display_data"
    },
    {
     "data": {
      "text/html": [
       "<pre style=\"white-space:pre;overflow-x:auto;line-height:normal;font-family:Menlo,'DejaVu Sans Mono',consolas,'Courier New',monospace\"><span style=\"color: #7fbfbf; text-decoration-color: #7fbfbf\">                    </span><span style=\"color: #000080; text-decoration-color: #000080\">INFO    </span> Performing clustering for <span style=\"color: #808000; text-decoration-color: #808000\">k</span>=<span style=\"color: #008080; text-decoration-color: #008080; font-weight: bold\">78</span>                                         <a href=\"file://C:\\Users\\hao_l\\AppData\\Local\\Temp\\ipykernel_10528\\3115349066.py\" target=\"_blank\"><span style=\"color: #7f7f7f; text-decoration-color: #7f7f7f\">3115349066.py</span></a><span style=\"color: #7f7f7f; text-decoration-color: #7f7f7f\">:</span><a href=\"file://C:\\Users\\hao_l\\AppData\\Local\\Temp\\ipykernel_10528\\3115349066.py#4\" target=\"_blank\"><span style=\"color: #7f7f7f; text-decoration-color: #7f7f7f\">4</span></a>\n",
       "</pre>\n"
      ],
      "text/plain": [
       "\u001b[2;36m                   \u001b[0m\u001b[2;36m \u001b[0m\u001b[34mINFO    \u001b[0m Performing clustering for \u001b[33mk\u001b[0m=\u001b[1;36m78\u001b[0m                                         \u001b]8;id=262602;file://C:\\Users\\hao_l\\AppData\\Local\\Temp\\ipykernel_10528\\3115349066.py\u001b\\\u001b[2m3115349066.py\u001b[0m\u001b]8;;\u001b\\\u001b[2m:\u001b[0m\u001b]8;id=958712;file://C:\\Users\\hao_l\\AppData\\Local\\Temp\\ipykernel_10528\\3115349066.py#4\u001b\\\u001b[2m4\u001b[0m\u001b]8;;\u001b\\\n"
      ]
     },
     "metadata": {},
     "output_type": "display_data"
    },
    {
     "data": {
      "text/html": [
       "<pre style=\"white-space:pre;overflow-x:auto;line-height:normal;font-family:Menlo,'DejaVu Sans Mono',consolas,'Courier New',monospace\"><span style=\"color: #7fbfbf; text-decoration-color: #7fbfbf\">[04/22/23 09:45:51] </span><span style=\"color: #000080; text-decoration-color: #000080\">INFO    </span> <span style=\"color: #808000; text-decoration-color: #808000\">k</span>=<span style=\"color: #008080; text-decoration-color: #008080; font-weight: bold\">78</span>, <span style=\"color: #808000; text-decoration-color: #808000\">cost</span>=<span style=\"color: #008080; text-decoration-color: #008080; font-weight: bold\">80966</span>, <span style=\"color: #808000; text-decoration-color: #808000\">n_iter</span>=<span style=\"color: #008080; text-decoration-color: #008080; font-weight: bold\">38</span>                                            <a href=\"file://C:\\Users\\hao_l\\AppData\\Local\\Temp\\ipykernel_10528\\3115349066.py\" target=\"_blank\"><span style=\"color: #7f7f7f; text-decoration-color: #7f7f7f\">3115349066.py</span></a><span style=\"color: #7f7f7f; text-decoration-color: #7f7f7f\">:</span><a href=\"file://C:\\Users\\hao_l\\AppData\\Local\\Temp\\ipykernel_10528\\3115349066.py#7\" target=\"_blank\"><span style=\"color: #7f7f7f; text-decoration-color: #7f7f7f\">7</span></a>\n",
       "</pre>\n"
      ],
      "text/plain": [
       "\u001b[2;36m[04/22/23 09:45:51]\u001b[0m\u001b[2;36m \u001b[0m\u001b[34mINFO    \u001b[0m \u001b[33mk\u001b[0m=\u001b[1;36m78\u001b[0m, \u001b[33mcost\u001b[0m=\u001b[1;36m80966\u001b[0m, \u001b[33mn_iter\u001b[0m=\u001b[1;36m38\u001b[0m                                            \u001b]8;id=247001;file://C:\\Users\\hao_l\\AppData\\Local\\Temp\\ipykernel_10528\\3115349066.py\u001b\\\u001b[2m3115349066.py\u001b[0m\u001b]8;;\u001b\\\u001b[2m:\u001b[0m\u001b]8;id=218577;file://C:\\Users\\hao_l\\AppData\\Local\\Temp\\ipykernel_10528\\3115349066.py#7\u001b\\\u001b[2m7\u001b[0m\u001b]8;;\u001b\\\n"
      ]
     },
     "metadata": {},
     "output_type": "display_data"
    },
    {
     "data": {
      "text/html": [
       "<pre style=\"white-space:pre;overflow-x:auto;line-height:normal;font-family:Menlo,'DejaVu Sans Mono',consolas,'Courier New',monospace\"><span style=\"color: #7fbfbf; text-decoration-color: #7fbfbf\">                    </span><span style=\"color: #000080; text-decoration-color: #000080\">INFO    </span> Performing clustering for <span style=\"color: #808000; text-decoration-color: #808000\">k</span>=<span style=\"color: #008080; text-decoration-color: #008080; font-weight: bold\">79</span>                                         <a href=\"file://C:\\Users\\hao_l\\AppData\\Local\\Temp\\ipykernel_10528\\3115349066.py\" target=\"_blank\"><span style=\"color: #7f7f7f; text-decoration-color: #7f7f7f\">3115349066.py</span></a><span style=\"color: #7f7f7f; text-decoration-color: #7f7f7f\">:</span><a href=\"file://C:\\Users\\hao_l\\AppData\\Local\\Temp\\ipykernel_10528\\3115349066.py#4\" target=\"_blank\"><span style=\"color: #7f7f7f; text-decoration-color: #7f7f7f\">4</span></a>\n",
       "</pre>\n"
      ],
      "text/plain": [
       "\u001b[2;36m                   \u001b[0m\u001b[2;36m \u001b[0m\u001b[34mINFO    \u001b[0m Performing clustering for \u001b[33mk\u001b[0m=\u001b[1;36m79\u001b[0m                                         \u001b]8;id=40481;file://C:\\Users\\hao_l\\AppData\\Local\\Temp\\ipykernel_10528\\3115349066.py\u001b\\\u001b[2m3115349066.py\u001b[0m\u001b]8;;\u001b\\\u001b[2m:\u001b[0m\u001b]8;id=933664;file://C:\\Users\\hao_l\\AppData\\Local\\Temp\\ipykernel_10528\\3115349066.py#4\u001b\\\u001b[2m4\u001b[0m\u001b]8;;\u001b\\\n"
      ]
     },
     "metadata": {},
     "output_type": "display_data"
    },
    {
     "data": {
      "text/html": [
       "<pre style=\"white-space:pre;overflow-x:auto;line-height:normal;font-family:Menlo,'DejaVu Sans Mono',consolas,'Courier New',monospace\"><span style=\"color: #7fbfbf; text-decoration-color: #7fbfbf\">[04/22/23 10:02:26] </span><span style=\"color: #000080; text-decoration-color: #000080\">INFO    </span> <span style=\"color: #808000; text-decoration-color: #808000\">k</span>=<span style=\"color: #008080; text-decoration-color: #008080; font-weight: bold\">79</span>, <span style=\"color: #808000; text-decoration-color: #808000\">cost</span>=<span style=\"color: #008080; text-decoration-color: #008080; font-weight: bold\">80926</span>, <span style=\"color: #808000; text-decoration-color: #808000\">n_iter</span>=<span style=\"color: #008080; text-decoration-color: #008080; font-weight: bold\">61</span>                                            <a href=\"file://C:\\Users\\hao_l\\AppData\\Local\\Temp\\ipykernel_10528\\3115349066.py\" target=\"_blank\"><span style=\"color: #7f7f7f; text-decoration-color: #7f7f7f\">3115349066.py</span></a><span style=\"color: #7f7f7f; text-decoration-color: #7f7f7f\">:</span><a href=\"file://C:\\Users\\hao_l\\AppData\\Local\\Temp\\ipykernel_10528\\3115349066.py#7\" target=\"_blank\"><span style=\"color: #7f7f7f; text-decoration-color: #7f7f7f\">7</span></a>\n",
       "</pre>\n"
      ],
      "text/plain": [
       "\u001b[2;36m[04/22/23 10:02:26]\u001b[0m\u001b[2;36m \u001b[0m\u001b[34mINFO    \u001b[0m \u001b[33mk\u001b[0m=\u001b[1;36m79\u001b[0m, \u001b[33mcost\u001b[0m=\u001b[1;36m80926\u001b[0m, \u001b[33mn_iter\u001b[0m=\u001b[1;36m61\u001b[0m                                            \u001b]8;id=225487;file://C:\\Users\\hao_l\\AppData\\Local\\Temp\\ipykernel_10528\\3115349066.py\u001b\\\u001b[2m3115349066.py\u001b[0m\u001b]8;;\u001b\\\u001b[2m:\u001b[0m\u001b]8;id=435338;file://C:\\Users\\hao_l\\AppData\\Local\\Temp\\ipykernel_10528\\3115349066.py#7\u001b\\\u001b[2m7\u001b[0m\u001b]8;;\u001b\\\n"
      ]
     },
     "metadata": {},
     "output_type": "display_data"
    },
    {
     "data": {
      "text/html": [
       "<pre style=\"white-space:pre;overflow-x:auto;line-height:normal;font-family:Menlo,'DejaVu Sans Mono',consolas,'Courier New',monospace\"><span style=\"color: #7fbfbf; text-decoration-color: #7fbfbf\">                    </span><span style=\"color: #000080; text-decoration-color: #000080\">INFO    </span> Performing clustering for <span style=\"color: #808000; text-decoration-color: #808000\">k</span>=<span style=\"color: #008080; text-decoration-color: #008080; font-weight: bold\">80</span>                                         <a href=\"file://C:\\Users\\hao_l\\AppData\\Local\\Temp\\ipykernel_10528\\3115349066.py\" target=\"_blank\"><span style=\"color: #7f7f7f; text-decoration-color: #7f7f7f\">3115349066.py</span></a><span style=\"color: #7f7f7f; text-decoration-color: #7f7f7f\">:</span><a href=\"file://C:\\Users\\hao_l\\AppData\\Local\\Temp\\ipykernel_10528\\3115349066.py#4\" target=\"_blank\"><span style=\"color: #7f7f7f; text-decoration-color: #7f7f7f\">4</span></a>\n",
       "</pre>\n"
      ],
      "text/plain": [
       "\u001b[2;36m                   \u001b[0m\u001b[2;36m \u001b[0m\u001b[34mINFO    \u001b[0m Performing clustering for \u001b[33mk\u001b[0m=\u001b[1;36m80\u001b[0m                                         \u001b]8;id=972506;file://C:\\Users\\hao_l\\AppData\\Local\\Temp\\ipykernel_10528\\3115349066.py\u001b\\\u001b[2m3115349066.py\u001b[0m\u001b]8;;\u001b\\\u001b[2m:\u001b[0m\u001b]8;id=182042;file://C:\\Users\\hao_l\\AppData\\Local\\Temp\\ipykernel_10528\\3115349066.py#4\u001b\\\u001b[2m4\u001b[0m\u001b]8;;\u001b\\\n"
      ]
     },
     "metadata": {},
     "output_type": "display_data"
    },
    {
     "data": {
      "text/html": [
       "<pre style=\"white-space:pre;overflow-x:auto;line-height:normal;font-family:Menlo,'DejaVu Sans Mono',consolas,'Courier New',monospace\"><span style=\"color: #7fbfbf; text-decoration-color: #7fbfbf\">[04/22/23 10:19:07] </span><span style=\"color: #000080; text-decoration-color: #000080\">INFO    </span> <span style=\"color: #808000; text-decoration-color: #808000\">k</span>=<span style=\"color: #008080; text-decoration-color: #008080; font-weight: bold\">80</span>, <span style=\"color: #808000; text-decoration-color: #808000\">cost</span>=<span style=\"color: #008080; text-decoration-color: #008080; font-weight: bold\">80664</span>, <span style=\"color: #808000; text-decoration-color: #808000\">n_iter</span>=<span style=\"color: #008080; text-decoration-color: #008080; font-weight: bold\">45</span>                                            <a href=\"file://C:\\Users\\hao_l\\AppData\\Local\\Temp\\ipykernel_10528\\3115349066.py\" target=\"_blank\"><span style=\"color: #7f7f7f; text-decoration-color: #7f7f7f\">3115349066.py</span></a><span style=\"color: #7f7f7f; text-decoration-color: #7f7f7f\">:</span><a href=\"file://C:\\Users\\hao_l\\AppData\\Local\\Temp\\ipykernel_10528\\3115349066.py#7\" target=\"_blank\"><span style=\"color: #7f7f7f; text-decoration-color: #7f7f7f\">7</span></a>\n",
       "</pre>\n"
      ],
      "text/plain": [
       "\u001b[2;36m[04/22/23 10:19:07]\u001b[0m\u001b[2;36m \u001b[0m\u001b[34mINFO    \u001b[0m \u001b[33mk\u001b[0m=\u001b[1;36m80\u001b[0m, \u001b[33mcost\u001b[0m=\u001b[1;36m80664\u001b[0m, \u001b[33mn_iter\u001b[0m=\u001b[1;36m45\u001b[0m                                            \u001b]8;id=199454;file://C:\\Users\\hao_l\\AppData\\Local\\Temp\\ipykernel_10528\\3115349066.py\u001b\\\u001b[2m3115349066.py\u001b[0m\u001b]8;;\u001b\\\u001b[2m:\u001b[0m\u001b]8;id=245002;file://C:\\Users\\hao_l\\AppData\\Local\\Temp\\ipykernel_10528\\3115349066.py#7\u001b\\\u001b[2m7\u001b[0m\u001b]8;;\u001b\\\n"
      ]
     },
     "metadata": {},
     "output_type": "display_data"
    },
    {
     "data": {
      "text/html": [
       "<pre style=\"white-space:pre;overflow-x:auto;line-height:normal;font-family:Menlo,'DejaVu Sans Mono',consolas,'Courier New',monospace\"><span style=\"color: #7fbfbf; text-decoration-color: #7fbfbf\">                    </span><span style=\"color: #000080; text-decoration-color: #000080\">INFO    </span> Performing clustering for <span style=\"color: #808000; text-decoration-color: #808000\">k</span>=<span style=\"color: #008080; text-decoration-color: #008080; font-weight: bold\">81</span>                                         <a href=\"file://C:\\Users\\hao_l\\AppData\\Local\\Temp\\ipykernel_10528\\3115349066.py\" target=\"_blank\"><span style=\"color: #7f7f7f; text-decoration-color: #7f7f7f\">3115349066.py</span></a><span style=\"color: #7f7f7f; text-decoration-color: #7f7f7f\">:</span><a href=\"file://C:\\Users\\hao_l\\AppData\\Local\\Temp\\ipykernel_10528\\3115349066.py#4\" target=\"_blank\"><span style=\"color: #7f7f7f; text-decoration-color: #7f7f7f\">4</span></a>\n",
       "</pre>\n"
      ],
      "text/plain": [
       "\u001b[2;36m                   \u001b[0m\u001b[2;36m \u001b[0m\u001b[34mINFO    \u001b[0m Performing clustering for \u001b[33mk\u001b[0m=\u001b[1;36m81\u001b[0m                                         \u001b]8;id=181059;file://C:\\Users\\hao_l\\AppData\\Local\\Temp\\ipykernel_10528\\3115349066.py\u001b\\\u001b[2m3115349066.py\u001b[0m\u001b]8;;\u001b\\\u001b[2m:\u001b[0m\u001b]8;id=623710;file://C:\\Users\\hao_l\\AppData\\Local\\Temp\\ipykernel_10528\\3115349066.py#4\u001b\\\u001b[2m4\u001b[0m\u001b]8;;\u001b\\\n"
      ]
     },
     "metadata": {},
     "output_type": "display_data"
    },
    {
     "data": {
      "text/html": [
       "<pre style=\"white-space:pre;overflow-x:auto;line-height:normal;font-family:Menlo,'DejaVu Sans Mono',consolas,'Courier New',monospace\"><span style=\"color: #7fbfbf; text-decoration-color: #7fbfbf\">[04/22/23 10:34:55] </span><span style=\"color: #000080; text-decoration-color: #000080\">INFO    </span> <span style=\"color: #808000; text-decoration-color: #808000\">k</span>=<span style=\"color: #008080; text-decoration-color: #008080; font-weight: bold\">81</span>, <span style=\"color: #808000; text-decoration-color: #808000\">cost</span>=<span style=\"color: #008080; text-decoration-color: #008080; font-weight: bold\">80416</span>, <span style=\"color: #808000; text-decoration-color: #808000\">n_iter</span>=<span style=\"color: #008080; text-decoration-color: #008080; font-weight: bold\">68</span>                                            <a href=\"file://C:\\Users\\hao_l\\AppData\\Local\\Temp\\ipykernel_10528\\3115349066.py\" target=\"_blank\"><span style=\"color: #7f7f7f; text-decoration-color: #7f7f7f\">3115349066.py</span></a><span style=\"color: #7f7f7f; text-decoration-color: #7f7f7f\">:</span><a href=\"file://C:\\Users\\hao_l\\AppData\\Local\\Temp\\ipykernel_10528\\3115349066.py#7\" target=\"_blank\"><span style=\"color: #7f7f7f; text-decoration-color: #7f7f7f\">7</span></a>\n",
       "</pre>\n"
      ],
      "text/plain": [
       "\u001b[2;36m[04/22/23 10:34:55]\u001b[0m\u001b[2;36m \u001b[0m\u001b[34mINFO    \u001b[0m \u001b[33mk\u001b[0m=\u001b[1;36m81\u001b[0m, \u001b[33mcost\u001b[0m=\u001b[1;36m80416\u001b[0m, \u001b[33mn_iter\u001b[0m=\u001b[1;36m68\u001b[0m                                            \u001b]8;id=19978;file://C:\\Users\\hao_l\\AppData\\Local\\Temp\\ipykernel_10528\\3115349066.py\u001b\\\u001b[2m3115349066.py\u001b[0m\u001b]8;;\u001b\\\u001b[2m:\u001b[0m\u001b]8;id=355334;file://C:\\Users\\hao_l\\AppData\\Local\\Temp\\ipykernel_10528\\3115349066.py#7\u001b\\\u001b[2m7\u001b[0m\u001b]8;;\u001b\\\n"
      ]
     },
     "metadata": {},
     "output_type": "display_data"
    },
    {
     "data": {
      "text/html": [
       "<pre style=\"white-space:pre;overflow-x:auto;line-height:normal;font-family:Menlo,'DejaVu Sans Mono',consolas,'Courier New',monospace\"><span style=\"color: #7fbfbf; text-decoration-color: #7fbfbf\">                    </span><span style=\"color: #000080; text-decoration-color: #000080\">INFO    </span> Performing clustering for <span style=\"color: #808000; text-decoration-color: #808000\">k</span>=<span style=\"color: #008080; text-decoration-color: #008080; font-weight: bold\">82</span>                                         <a href=\"file://C:\\Users\\hao_l\\AppData\\Local\\Temp\\ipykernel_10528\\3115349066.py\" target=\"_blank\"><span style=\"color: #7f7f7f; text-decoration-color: #7f7f7f\">3115349066.py</span></a><span style=\"color: #7f7f7f; text-decoration-color: #7f7f7f\">:</span><a href=\"file://C:\\Users\\hao_l\\AppData\\Local\\Temp\\ipykernel_10528\\3115349066.py#4\" target=\"_blank\"><span style=\"color: #7f7f7f; text-decoration-color: #7f7f7f\">4</span></a>\n",
       "</pre>\n"
      ],
      "text/plain": [
       "\u001b[2;36m                   \u001b[0m\u001b[2;36m \u001b[0m\u001b[34mINFO    \u001b[0m Performing clustering for \u001b[33mk\u001b[0m=\u001b[1;36m82\u001b[0m                                         \u001b]8;id=239192;file://C:\\Users\\hao_l\\AppData\\Local\\Temp\\ipykernel_10528\\3115349066.py\u001b\\\u001b[2m3115349066.py\u001b[0m\u001b]8;;\u001b\\\u001b[2m:\u001b[0m\u001b]8;id=518307;file://C:\\Users\\hao_l\\AppData\\Local\\Temp\\ipykernel_10528\\3115349066.py#4\u001b\\\u001b[2m4\u001b[0m\u001b]8;;\u001b\\\n"
      ]
     },
     "metadata": {},
     "output_type": "display_data"
    },
    {
     "data": {
      "text/html": [
       "<pre style=\"white-space:pre;overflow-x:auto;line-height:normal;font-family:Menlo,'DejaVu Sans Mono',consolas,'Courier New',monospace\"><span style=\"color: #7fbfbf; text-decoration-color: #7fbfbf\">[04/22/23 10:51:49] </span><span style=\"color: #000080; text-decoration-color: #000080\">INFO    </span> <span style=\"color: #808000; text-decoration-color: #808000\">k</span>=<span style=\"color: #008080; text-decoration-color: #008080; font-weight: bold\">82</span>, <span style=\"color: #808000; text-decoration-color: #808000\">cost</span>=<span style=\"color: #008080; text-decoration-color: #008080; font-weight: bold\">79993</span>, <span style=\"color: #808000; text-decoration-color: #808000\">n_iter</span>=<span style=\"color: #008080; text-decoration-color: #008080; font-weight: bold\">43</span>                                            <a href=\"file://C:\\Users\\hao_l\\AppData\\Local\\Temp\\ipykernel_10528\\3115349066.py\" target=\"_blank\"><span style=\"color: #7f7f7f; text-decoration-color: #7f7f7f\">3115349066.py</span></a><span style=\"color: #7f7f7f; text-decoration-color: #7f7f7f\">:</span><a href=\"file://C:\\Users\\hao_l\\AppData\\Local\\Temp\\ipykernel_10528\\3115349066.py#7\" target=\"_blank\"><span style=\"color: #7f7f7f; text-decoration-color: #7f7f7f\">7</span></a>\n",
       "</pre>\n"
      ],
      "text/plain": [
       "\u001b[2;36m[04/22/23 10:51:49]\u001b[0m\u001b[2;36m \u001b[0m\u001b[34mINFO    \u001b[0m \u001b[33mk\u001b[0m=\u001b[1;36m82\u001b[0m, \u001b[33mcost\u001b[0m=\u001b[1;36m79993\u001b[0m, \u001b[33mn_iter\u001b[0m=\u001b[1;36m43\u001b[0m                                            \u001b]8;id=349143;file://C:\\Users\\hao_l\\AppData\\Local\\Temp\\ipykernel_10528\\3115349066.py\u001b\\\u001b[2m3115349066.py\u001b[0m\u001b]8;;\u001b\\\u001b[2m:\u001b[0m\u001b]8;id=104633;file://C:\\Users\\hao_l\\AppData\\Local\\Temp\\ipykernel_10528\\3115349066.py#7\u001b\\\u001b[2m7\u001b[0m\u001b]8;;\u001b\\\n"
      ]
     },
     "metadata": {},
     "output_type": "display_data"
    },
    {
     "data": {
      "text/html": [
       "<pre style=\"white-space:pre;overflow-x:auto;line-height:normal;font-family:Menlo,'DejaVu Sans Mono',consolas,'Courier New',monospace\"><span style=\"color: #7fbfbf; text-decoration-color: #7fbfbf\">                    </span><span style=\"color: #000080; text-decoration-color: #000080\">INFO    </span> Performing clustering for <span style=\"color: #808000; text-decoration-color: #808000\">k</span>=<span style=\"color: #008080; text-decoration-color: #008080; font-weight: bold\">83</span>                                         <a href=\"file://C:\\Users\\hao_l\\AppData\\Local\\Temp\\ipykernel_10528\\3115349066.py\" target=\"_blank\"><span style=\"color: #7f7f7f; text-decoration-color: #7f7f7f\">3115349066.py</span></a><span style=\"color: #7f7f7f; text-decoration-color: #7f7f7f\">:</span><a href=\"file://C:\\Users\\hao_l\\AppData\\Local\\Temp\\ipykernel_10528\\3115349066.py#4\" target=\"_blank\"><span style=\"color: #7f7f7f; text-decoration-color: #7f7f7f\">4</span></a>\n",
       "</pre>\n"
      ],
      "text/plain": [
       "\u001b[2;36m                   \u001b[0m\u001b[2;36m \u001b[0m\u001b[34mINFO    \u001b[0m Performing clustering for \u001b[33mk\u001b[0m=\u001b[1;36m83\u001b[0m                                         \u001b]8;id=583942;file://C:\\Users\\hao_l\\AppData\\Local\\Temp\\ipykernel_10528\\3115349066.py\u001b\\\u001b[2m3115349066.py\u001b[0m\u001b]8;;\u001b\\\u001b[2m:\u001b[0m\u001b]8;id=321141;file://C:\\Users\\hao_l\\AppData\\Local\\Temp\\ipykernel_10528\\3115349066.py#4\u001b\\\u001b[2m4\u001b[0m\u001b]8;;\u001b\\\n"
      ]
     },
     "metadata": {},
     "output_type": "display_data"
    },
    {
     "data": {
      "text/html": [
       "<pre style=\"white-space:pre;overflow-x:auto;line-height:normal;font-family:Menlo,'DejaVu Sans Mono',consolas,'Courier New',monospace\"><span style=\"color: #7fbfbf; text-decoration-color: #7fbfbf\">[04/22/23 11:08:27] </span><span style=\"color: #000080; text-decoration-color: #000080\">INFO    </span> <span style=\"color: #808000; text-decoration-color: #808000\">k</span>=<span style=\"color: #008080; text-decoration-color: #008080; font-weight: bold\">83</span>, <span style=\"color: #808000; text-decoration-color: #808000\">cost</span>=<span style=\"color: #008080; text-decoration-color: #008080; font-weight: bold\">79730</span>, <span style=\"color: #808000; text-decoration-color: #808000\">n_iter</span>=<span style=\"color: #008080; text-decoration-color: #008080; font-weight: bold\">81</span>                                            <a href=\"file://C:\\Users\\hao_l\\AppData\\Local\\Temp\\ipykernel_10528\\3115349066.py\" target=\"_blank\"><span style=\"color: #7f7f7f; text-decoration-color: #7f7f7f\">3115349066.py</span></a><span style=\"color: #7f7f7f; text-decoration-color: #7f7f7f\">:</span><a href=\"file://C:\\Users\\hao_l\\AppData\\Local\\Temp\\ipykernel_10528\\3115349066.py#7\" target=\"_blank\"><span style=\"color: #7f7f7f; text-decoration-color: #7f7f7f\">7</span></a>\n",
       "</pre>\n"
      ],
      "text/plain": [
       "\u001b[2;36m[04/22/23 11:08:27]\u001b[0m\u001b[2;36m \u001b[0m\u001b[34mINFO    \u001b[0m \u001b[33mk\u001b[0m=\u001b[1;36m83\u001b[0m, \u001b[33mcost\u001b[0m=\u001b[1;36m79730\u001b[0m, \u001b[33mn_iter\u001b[0m=\u001b[1;36m81\u001b[0m                                            \u001b]8;id=882137;file://C:\\Users\\hao_l\\AppData\\Local\\Temp\\ipykernel_10528\\3115349066.py\u001b\\\u001b[2m3115349066.py\u001b[0m\u001b]8;;\u001b\\\u001b[2m:\u001b[0m\u001b]8;id=900418;file://C:\\Users\\hao_l\\AppData\\Local\\Temp\\ipykernel_10528\\3115349066.py#7\u001b\\\u001b[2m7\u001b[0m\u001b]8;;\u001b\\\n"
      ]
     },
     "metadata": {},
     "output_type": "display_data"
    },
    {
     "data": {
      "text/html": [
       "<pre style=\"white-space:pre;overflow-x:auto;line-height:normal;font-family:Menlo,'DejaVu Sans Mono',consolas,'Courier New',monospace\"><span style=\"color: #7fbfbf; text-decoration-color: #7fbfbf\">                    </span><span style=\"color: #000080; text-decoration-color: #000080\">INFO    </span> Performing clustering for <span style=\"color: #808000; text-decoration-color: #808000\">k</span>=<span style=\"color: #008080; text-decoration-color: #008080; font-weight: bold\">84</span>                                         <a href=\"file://C:\\Users\\hao_l\\AppData\\Local\\Temp\\ipykernel_10528\\3115349066.py\" target=\"_blank\"><span style=\"color: #7f7f7f; text-decoration-color: #7f7f7f\">3115349066.py</span></a><span style=\"color: #7f7f7f; text-decoration-color: #7f7f7f\">:</span><a href=\"file://C:\\Users\\hao_l\\AppData\\Local\\Temp\\ipykernel_10528\\3115349066.py#4\" target=\"_blank\"><span style=\"color: #7f7f7f; text-decoration-color: #7f7f7f\">4</span></a>\n",
       "</pre>\n"
      ],
      "text/plain": [
       "\u001b[2;36m                   \u001b[0m\u001b[2;36m \u001b[0m\u001b[34mINFO    \u001b[0m Performing clustering for \u001b[33mk\u001b[0m=\u001b[1;36m84\u001b[0m                                         \u001b]8;id=155248;file://C:\\Users\\hao_l\\AppData\\Local\\Temp\\ipykernel_10528\\3115349066.py\u001b\\\u001b[2m3115349066.py\u001b[0m\u001b]8;;\u001b\\\u001b[2m:\u001b[0m\u001b]8;id=781184;file://C:\\Users\\hao_l\\AppData\\Local\\Temp\\ipykernel_10528\\3115349066.py#4\u001b\\\u001b[2m4\u001b[0m\u001b]8;;\u001b\\\n"
      ]
     },
     "metadata": {},
     "output_type": "display_data"
    },
    {
     "data": {
      "text/html": [
       "<pre style=\"white-space:pre;overflow-x:auto;line-height:normal;font-family:Menlo,'DejaVu Sans Mono',consolas,'Courier New',monospace\"><span style=\"color: #7fbfbf; text-decoration-color: #7fbfbf\">[04/22/23 11:27:07] </span><span style=\"color: #000080; text-decoration-color: #000080\">INFO    </span> <span style=\"color: #808000; text-decoration-color: #808000\">k</span>=<span style=\"color: #008080; text-decoration-color: #008080; font-weight: bold\">84</span>, <span style=\"color: #808000; text-decoration-color: #808000\">cost</span>=<span style=\"color: #008080; text-decoration-color: #008080; font-weight: bold\">79588</span>, <span style=\"color: #808000; text-decoration-color: #808000\">n_iter</span>=<span style=\"color: #008080; text-decoration-color: #008080; font-weight: bold\">59</span>                                            <a href=\"file://C:\\Users\\hao_l\\AppData\\Local\\Temp\\ipykernel_10528\\3115349066.py\" target=\"_blank\"><span style=\"color: #7f7f7f; text-decoration-color: #7f7f7f\">3115349066.py</span></a><span style=\"color: #7f7f7f; text-decoration-color: #7f7f7f\">:</span><a href=\"file://C:\\Users\\hao_l\\AppData\\Local\\Temp\\ipykernel_10528\\3115349066.py#7\" target=\"_blank\"><span style=\"color: #7f7f7f; text-decoration-color: #7f7f7f\">7</span></a>\n",
       "</pre>\n"
      ],
      "text/plain": [
       "\u001b[2;36m[04/22/23 11:27:07]\u001b[0m\u001b[2;36m \u001b[0m\u001b[34mINFO    \u001b[0m \u001b[33mk\u001b[0m=\u001b[1;36m84\u001b[0m, \u001b[33mcost\u001b[0m=\u001b[1;36m79588\u001b[0m, \u001b[33mn_iter\u001b[0m=\u001b[1;36m59\u001b[0m                                            \u001b]8;id=135865;file://C:\\Users\\hao_l\\AppData\\Local\\Temp\\ipykernel_10528\\3115349066.py\u001b\\\u001b[2m3115349066.py\u001b[0m\u001b]8;;\u001b\\\u001b[2m:\u001b[0m\u001b]8;id=191028;file://C:\\Users\\hao_l\\AppData\\Local\\Temp\\ipykernel_10528\\3115349066.py#7\u001b\\\u001b[2m7\u001b[0m\u001b]8;;\u001b\\\n"
      ]
     },
     "metadata": {},
     "output_type": "display_data"
    },
    {
     "data": {
      "text/html": [
       "<pre style=\"white-space:pre;overflow-x:auto;line-height:normal;font-family:Menlo,'DejaVu Sans Mono',consolas,'Courier New',monospace\"><span style=\"color: #7fbfbf; text-decoration-color: #7fbfbf\">                    </span><span style=\"color: #000080; text-decoration-color: #000080\">INFO    </span> Performing clustering for <span style=\"color: #808000; text-decoration-color: #808000\">k</span>=<span style=\"color: #008080; text-decoration-color: #008080; font-weight: bold\">85</span>                                         <a href=\"file://C:\\Users\\hao_l\\AppData\\Local\\Temp\\ipykernel_10528\\3115349066.py\" target=\"_blank\"><span style=\"color: #7f7f7f; text-decoration-color: #7f7f7f\">3115349066.py</span></a><span style=\"color: #7f7f7f; text-decoration-color: #7f7f7f\">:</span><a href=\"file://C:\\Users\\hao_l\\AppData\\Local\\Temp\\ipykernel_10528\\3115349066.py#4\" target=\"_blank\"><span style=\"color: #7f7f7f; text-decoration-color: #7f7f7f\">4</span></a>\n",
       "</pre>\n"
      ],
      "text/plain": [
       "\u001b[2;36m                   \u001b[0m\u001b[2;36m \u001b[0m\u001b[34mINFO    \u001b[0m Performing clustering for \u001b[33mk\u001b[0m=\u001b[1;36m85\u001b[0m                                         \u001b]8;id=896905;file://C:\\Users\\hao_l\\AppData\\Local\\Temp\\ipykernel_10528\\3115349066.py\u001b\\\u001b[2m3115349066.py\u001b[0m\u001b]8;;\u001b\\\u001b[2m:\u001b[0m\u001b]8;id=247058;file://C:\\Users\\hao_l\\AppData\\Local\\Temp\\ipykernel_10528\\3115349066.py#4\u001b\\\u001b[2m4\u001b[0m\u001b]8;;\u001b\\\n"
      ]
     },
     "metadata": {},
     "output_type": "display_data"
    },
    {
     "data": {
      "text/html": [
       "<pre style=\"white-space:pre;overflow-x:auto;line-height:normal;font-family:Menlo,'DejaVu Sans Mono',consolas,'Courier New',monospace\"><span style=\"color: #ff0000; text-decoration-color: #ff0000; font-weight: bold\">_RemoteTraceback: </span>\n",
       "<span style=\"color: #008000; text-decoration-color: #008000\">\"\"</span>\"\n",
       "Traceback <span style=\"font-weight: bold\">(</span>most recent call last<span style=\"font-weight: bold\">)</span>:\n",
       "  File <span style=\"color: #008000; text-decoration-color: #008000\">\"c:\\Users\\hao_l\\.conda\\envs\\sc1015project\\lib\\site-packages\\joblib\\externals\\loky\\process_executor.py\"</span>, line\n",
       "<span style=\"color: #008080; text-decoration-color: #008080; font-weight: bold\">428</span>, in _process_worker\n",
       "    r = <span style=\"color: #800080; text-decoration-color: #800080; font-weight: bold\">call_item</span><span style=\"font-weight: bold\">()</span>\n",
       "  File <span style=\"color: #008000; text-decoration-color: #008000\">\"c:\\Users\\hao_l\\.conda\\envs\\sc1015project\\lib\\site-packages\\joblib\\externals\\loky\\process_executor.py\"</span>, line\n",
       "<span style=\"color: #008080; text-decoration-color: #008080; font-weight: bold\">275</span>, in __call__\n",
       "    return <span style=\"color: #800080; text-decoration-color: #800080; font-weight: bold\">self.fn</span><span style=\"font-weight: bold\">(</span>*self.args, **self.kwargs<span style=\"font-weight: bold\">)</span>\n",
       "  File <span style=\"color: #008000; text-decoration-color: #008000\">\"c:\\Users\\hao_l\\.conda\\envs\\sc1015project\\lib\\site-packages\\joblib\\_parallel_backends.py\"</span>, line <span style=\"color: #008080; text-decoration-color: #008080; font-weight: bold\">620</span>, in \n",
       "__call__\n",
       "    return <span style=\"color: #800080; text-decoration-color: #800080; font-weight: bold\">self.func</span><span style=\"font-weight: bold\">(</span>*args, **kwargs<span style=\"font-weight: bold\">)</span>\n",
       "  File <span style=\"color: #008000; text-decoration-color: #008000\">\"c:\\Users\\hao_l\\.conda\\envs\\sc1015project\\lib\\site-packages\\joblib\\parallel.py\"</span>, line <span style=\"color: #008080; text-decoration-color: #008080; font-weight: bold\">288</span>, in __call__\n",
       "    return <span style=\"font-weight: bold\">[</span><span style=\"color: #800080; text-decoration-color: #800080; font-weight: bold\">func</span><span style=\"font-weight: bold\">(</span>*args, **kwargs<span style=\"font-weight: bold\">)</span>\n",
       "  File <span style=\"color: #008000; text-decoration-color: #008000\">\"c:\\Users\\hao_l\\.conda\\envs\\sc1015project\\lib\\site-packages\\joblib\\parallel.py\"</span>, line <span style=\"color: #008080; text-decoration-color: #008080; font-weight: bold\">288</span>, in <span style=\"font-weight: bold\">&lt;</span><span style=\"color: #ff00ff; text-decoration-color: #ff00ff; font-weight: bold\">listcomp</span><span style=\"font-weight: bold\">&gt;</span>\n",
       "    return <span style=\"font-weight: bold\">[</span><span style=\"color: #800080; text-decoration-color: #800080; font-weight: bold\">func</span><span style=\"font-weight: bold\">(</span>*args, **kwargs<span style=\"font-weight: bold\">)</span>\n",
       "  File <span style=\"color: #008000; text-decoration-color: #008000\">\"c:\\Users\\hao_l\\.conda\\envs\\sc1015project\\lib\\site-packages\\kmodes\\kprototypes.py\"</span>, line <span style=\"color: #008080; text-decoration-color: #008080; font-weight: bold\">410</span>, in \n",
       "_k_prototypes_single\n",
       "    raise <span style=\"color: #800080; text-decoration-color: #800080; font-weight: bold\">ValueError</span><span style=\"font-weight: bold\">(</span>\n",
       "ValueError: Clustering algorithm could not initialize. Consider assigning the initial clusters manually.\n",
       "<span style=\"color: #008000; text-decoration-color: #008000\">\"\"</span>\"\n",
       "\n",
       "<span style=\"font-style: italic\">The above exception was the direct cause of the following exception:</span>\n",
       "\n",
       "<span style=\"color: #800000; text-decoration-color: #800000\">╭─────────────────────────────── </span><span style=\"color: #800000; text-decoration-color: #800000; font-weight: bold\">Traceback </span><span style=\"color: #bf7f7f; text-decoration-color: #bf7f7f; font-weight: bold\">(most recent call last)</span><span style=\"color: #800000; text-decoration-color: #800000\"> ────────────────────────────────╮</span>\n",
       "<span style=\"color: #800000; text-decoration-color: #800000\">│</span> in <span style=\"color: #00ff00; text-decoration-color: #00ff00\">&lt;module&gt;</span>:<span style=\"color: #0000ff; text-decoration-color: #0000ff\">5</span>                                                                                    <span style=\"color: #800000; text-decoration-color: #800000\">│</span>\n",
       "<span style=\"color: #800000; text-decoration-color: #800000\">│</span>                                                                                                  <span style=\"color: #800000; text-decoration-color: #800000\">│</span>\n",
       "<span style=\"color: #800000; text-decoration-color: #800000\">│</span>   <span style=\"color: #7f7f7f; text-decoration-color: #7f7f7f\"> 2 </span><span style=\"color: #0000ff; text-decoration-color: #0000ff\">for</span> k <span style=\"color: #ff00ff; text-decoration-color: #ff00ff\">in</span> <span style=\"color: #00ffff; text-decoration-color: #00ffff\">range</span>(<span style=\"color: #0000ff; text-decoration-color: #0000ff\">1</span>, <span style=\"color: #0000ff; text-decoration-color: #0000ff\">100</span>):                                                                     <span style=\"color: #800000; text-decoration-color: #800000\">│</span>\n",
       "<span style=\"color: #800000; text-decoration-color: #800000\">│</span>   <span style=\"color: #7f7f7f; text-decoration-color: #7f7f7f\"> 3 │   </span><span style=\"color: #0000ff; text-decoration-color: #0000ff\">try</span>:                                                                                    <span style=\"color: #800000; text-decoration-color: #800000\">│</span>\n",
       "<span style=\"color: #800000; text-decoration-color: #800000\">│</span>   <span style=\"color: #7f7f7f; text-decoration-color: #7f7f7f\"> 4 │   │   </span>log.info(<span style=\"color: #808000; text-decoration-color: #808000\">\"Performing clustering for k=%d\"</span>, k)                                       <span style=\"color: #800000; text-decoration-color: #800000\">│</span>\n",
       "<span style=\"color: #800000; text-decoration-color: #800000\">│</span> <span style=\"color: #800000; text-decoration-color: #800000\">❱ </span> 5 <span style=\"color: #7f7f7f; text-decoration-color: #7f7f7f\">│   │   </span>model = cluster(k)                                                                  <span style=\"color: #800000; text-decoration-color: #800000\">│</span>\n",
       "<span style=\"color: #800000; text-decoration-color: #800000\">│</span>   <span style=\"color: #7f7f7f; text-decoration-color: #7f7f7f\"> 6 │   │   </span>cost.append(model.cost_)                                                            <span style=\"color: #800000; text-decoration-color: #800000\">│</span>\n",
       "<span style=\"color: #800000; text-decoration-color: #800000\">│</span>   <span style=\"color: #7f7f7f; text-decoration-color: #7f7f7f\"> 7 │   │   </span>log.info(<span style=\"color: #808000; text-decoration-color: #808000\">\"k=%d, cost=%d, n_iter=%d\"</span>, k, model.cost_, model.n_iter_)                 <span style=\"color: #800000; text-decoration-color: #800000\">│</span>\n",
       "<span style=\"color: #800000; text-decoration-color: #800000\">│</span>   <span style=\"color: #7f7f7f; text-decoration-color: #7f7f7f\"> 8 │   </span><span style=\"color: #0000ff; text-decoration-color: #0000ff\">except</span> <span style=\"color: #00ffff; text-decoration-color: #00ffff\">KeyboardInterrupt</span>:                                                               <span style=\"color: #800000; text-decoration-color: #800000\">│</span>\n",
       "<span style=\"color: #800000; text-decoration-color: #800000\">│</span>                                                                                                  <span style=\"color: #800000; text-decoration-color: #800000\">│</span>\n",
       "<span style=\"color: #800000; text-decoration-color: #800000\">│</span> in <span style=\"color: #00ff00; text-decoration-color: #00ff00\">cluster</span>:<span style=\"color: #0000ff; text-decoration-color: #0000ff\">3</span>                                                                                     <span style=\"color: #800000; text-decoration-color: #800000\">│</span>\n",
       "<span style=\"color: #800000; text-decoration-color: #800000\">│</span>                                                                                                  <span style=\"color: #800000; text-decoration-color: #800000\">│</span>\n",
       "<span style=\"color: #800000; text-decoration-color: #800000\">│</span>   <span style=\"color: #7f7f7f; text-decoration-color: #7f7f7f\">1 </span><span style=\"color: #0000ff; text-decoration-color: #0000ff\">def</span> <span style=\"color: #00ff00; text-decoration-color: #00ff00\">cluster</span>(k=<span style=\"color: #0000ff; text-decoration-color: #0000ff\">1</span>):                                                                            <span style=\"color: #800000; text-decoration-color: #800000\">│</span>\n",
       "<span style=\"color: #800000; text-decoration-color: #800000\">│</span>   <span style=\"color: #7f7f7f; text-decoration-color: #7f7f7f\">2   </span>model = KPrototypes(n_clusters = k, n_jobs = -<span style=\"color: #0000ff; text-decoration-color: #0000ff\">2</span>, random_state = <span style=\"color: #0000ff; text-decoration-color: #0000ff\">0</span>)                         <span style=\"color: #800000; text-decoration-color: #800000\">│</span>\n",
       "<span style=\"color: #800000; text-decoration-color: #800000\">│</span> <span style=\"color: #800000; text-decoration-color: #800000\">❱ </span>3 <span style=\"color: #7f7f7f; text-decoration-color: #7f7f7f\">  </span>model.fit_predict(X, categorical=<span style=\"color: #00ffff; text-decoration-color: #00ffff\">list</span>(<span style=\"color: #00ffff; text-decoration-color: #00ffff\">range</span>(<span style=\"color: #0000ff; text-decoration-color: #0000ff\">0</span>, <span style=\"color: #00ffff; text-decoration-color: #00ffff\">len</span>(categorical))))                         <span style=\"color: #800000; text-decoration-color: #800000\">│</span>\n",
       "<span style=\"color: #800000; text-decoration-color: #800000\">│</span>   <span style=\"color: #7f7f7f; text-decoration-color: #7f7f7f\">4   </span><span style=\"color: #0000ff; text-decoration-color: #0000ff\">return</span> model                                                                               <span style=\"color: #800000; text-decoration-color: #800000\">│</span>\n",
       "<span style=\"color: #800000; text-decoration-color: #800000\">│</span>   <span style=\"color: #7f7f7f; text-decoration-color: #7f7f7f\">5 </span>                                                                                             <span style=\"color: #800000; text-decoration-color: #800000\">│</span>\n",
       "<span style=\"color: #800000; text-decoration-color: #800000\">│</span>                                                                                                  <span style=\"color: #800000; text-decoration-color: #800000\">│</span>\n",
       "<span style=\"color: #800000; text-decoration-color: #800000\">│</span> <span style=\"color: #808000; text-decoration-color: #808000\">c:\\Users\\hao_l\\.conda\\envs\\sc1015project\\lib\\site-packages\\kmodes\\kmodes.py</span>:<span style=\"color: #0000ff; text-decoration-color: #0000ff\">154</span> in <span style=\"color: #00ff00; text-decoration-color: #00ff00\">fit_predict</span>   <span style=\"color: #800000; text-decoration-color: #800000\">│</span>\n",
       "<span style=\"color: #800000; text-decoration-color: #800000\">│</span>                                                                                                  <span style=\"color: #800000; text-decoration-color: #800000\">│</span>\n",
       "<span style=\"color: #800000; text-decoration-color: #800000\">│</span> <span style=\"color: #808000; text-decoration-color: #808000\">c:\\Users\\hao_l\\.conda\\envs\\sc1015project\\lib\\site-packages\\kmodes\\kprototypes.py</span>:<span style=\"color: #0000ff; text-decoration-color: #0000ff\">161</span> in <span style=\"color: #00ff00; text-decoration-color: #00ff00\">fit</span>      <span style=\"color: #800000; text-decoration-color: #800000\">│</span>\n",
       "<span style=\"color: #800000; text-decoration-color: #800000\">│</span>                                                                                                  <span style=\"color: #800000; text-decoration-color: #800000\">│</span>\n",
       "<span style=\"color: #800000; text-decoration-color: #800000\">│</span> <span style=\"color: #808000; text-decoration-color: #808000\">c:\\Users\\hao_l\\.conda\\envs\\sc1015project\\lib\\site-packages\\kmodes\\kprototypes.py</span>:<span style=\"color: #0000ff; text-decoration-color: #0000ff\">305</span> in          <span style=\"color: #800000; text-decoration-color: #800000\">│</span>\n",
       "<span style=\"color: #800000; text-decoration-color: #800000\">│</span> <span style=\"color: #00ff00; text-decoration-color: #00ff00\">k_prototypes</span>                                                                                     <span style=\"color: #800000; text-decoration-color: #800000\">│</span>\n",
       "<span style=\"color: #800000; text-decoration-color: #800000\">│</span>                                                                                                  <span style=\"color: #800000; text-decoration-color: #800000\">│</span>\n",
       "<span style=\"color: #800000; text-decoration-color: #800000\">│</span> <span style=\"color: #808000; text-decoration-color: #808000\">c:\\Users\\hao_l\\.conda\\envs\\sc1015project\\lib\\site-packages\\joblib\\parallel.py</span>:<span style=\"color: #0000ff; text-decoration-color: #0000ff\">1098</span> in <span style=\"color: #00ff00; text-decoration-color: #00ff00\">__call__</span>   <span style=\"color: #800000; text-decoration-color: #800000\">│</span>\n",
       "<span style=\"color: #800000; text-decoration-color: #800000\">│</span>                                                                                                  <span style=\"color: #800000; text-decoration-color: #800000\">│</span>\n",
       "<span style=\"color: #800000; text-decoration-color: #800000\">│</span> <span style=\"color: #808000; text-decoration-color: #808000\">c:\\Users\\hao_l\\.conda\\envs\\sc1015project\\lib\\site-packages\\joblib\\parallel.py</span>:<span style=\"color: #0000ff; text-decoration-color: #0000ff\">975</span> in <span style=\"color: #00ff00; text-decoration-color: #00ff00\">retrieve</span>    <span style=\"color: #800000; text-decoration-color: #800000\">│</span>\n",
       "<span style=\"color: #800000; text-decoration-color: #800000\">│</span>                                                                                                  <span style=\"color: #800000; text-decoration-color: #800000\">│</span>\n",
       "<span style=\"color: #800000; text-decoration-color: #800000\">│</span> <span style=\"color: #808000; text-decoration-color: #808000\">c:\\Users\\hao_l\\.conda\\envs\\sc1015project\\lib\\site-packages\\joblib\\_parallel_backends.py</span>:<span style=\"color: #0000ff; text-decoration-color: #0000ff\">567</span> in   <span style=\"color: #800000; text-decoration-color: #800000\">│</span>\n",
       "<span style=\"color: #800000; text-decoration-color: #800000\">│</span> <span style=\"color: #00ff00; text-decoration-color: #00ff00\">wrap_future_result</span>                                                                               <span style=\"color: #800000; text-decoration-color: #800000\">│</span>\n",
       "<span style=\"color: #800000; text-decoration-color: #800000\">│</span>                                                                                                  <span style=\"color: #800000; text-decoration-color: #800000\">│</span>\n",
       "<span style=\"color: #800000; text-decoration-color: #800000\">│</span> <span style=\"color: #808000; text-decoration-color: #808000\">c:\\Users\\hao_l\\.conda\\envs\\sc1015project\\lib\\concurrent\\futures\\_base.py</span>:<span style=\"color: #0000ff; text-decoration-color: #0000ff\">446</span> in <span style=\"color: #00ff00; text-decoration-color: #00ff00\">result</span>           <span style=\"color: #800000; text-decoration-color: #800000\">│</span>\n",
       "<span style=\"color: #800000; text-decoration-color: #800000\">│</span>                                                                                                  <span style=\"color: #800000; text-decoration-color: #800000\">│</span>\n",
       "<span style=\"color: #800000; text-decoration-color: #800000\">│</span> <span style=\"color: #808000; text-decoration-color: #808000\">c:\\Users\\hao_l\\.conda\\envs\\sc1015project\\lib\\concurrent\\futures\\_base.py</span>:<span style=\"color: #0000ff; text-decoration-color: #0000ff\">391</span> in <span style=\"color: #00ff00; text-decoration-color: #00ff00\">__get_result</span>     <span style=\"color: #800000; text-decoration-color: #800000\">│</span>\n",
       "<span style=\"color: #800000; text-decoration-color: #800000\">╰──────────────────────────────────────────────────────────────────────────────────────────────────╯</span>\n",
       "<span style=\"color: #ff0000; text-decoration-color: #ff0000; font-weight: bold\">ValueError: </span>Clustering algorithm could not initialize. Consider assigning the initial clusters manually.\n",
       "</pre>\n"
      ],
      "text/plain": [
       "\u001b[1;91m_RemoteTraceback: \u001b[0m\n",
       "\u001b[32m\"\"\u001b[0m\"\n",
       "Traceback \u001b[1m(\u001b[0mmost recent call last\u001b[1m)\u001b[0m:\n",
       "  File \u001b[32m\"c:\\Users\\hao_l\\.conda\\envs\\sc1015project\\lib\\site-packages\\joblib\\externals\\loky\\process_executor.py\"\u001b[0m, line\n",
       "\u001b[1;36m428\u001b[0m, in _process_worker\n",
       "    r = \u001b[1;35mcall_item\u001b[0m\u001b[1m(\u001b[0m\u001b[1m)\u001b[0m\n",
       "  File \u001b[32m\"c:\\Users\\hao_l\\.conda\\envs\\sc1015project\\lib\\site-packages\\joblib\\externals\\loky\\process_executor.py\"\u001b[0m, line\n",
       "\u001b[1;36m275\u001b[0m, in __call__\n",
       "    return \u001b[1;35mself.fn\u001b[0m\u001b[1m(\u001b[0m*self.args, **self.kwargs\u001b[1m)\u001b[0m\n",
       "  File \u001b[32m\"c:\\Users\\hao_l\\.conda\\envs\\sc1015project\\lib\\site-packages\\joblib\\_parallel_backends.py\"\u001b[0m, line \u001b[1;36m620\u001b[0m, in \n",
       "__call__\n",
       "    return \u001b[1;35mself.func\u001b[0m\u001b[1m(\u001b[0m*args, **kwargs\u001b[1m)\u001b[0m\n",
       "  File \u001b[32m\"c:\\Users\\hao_l\\.conda\\envs\\sc1015project\\lib\\site-packages\\joblib\\parallel.py\"\u001b[0m, line \u001b[1;36m288\u001b[0m, in __call__\n",
       "    return \u001b[1m[\u001b[0m\u001b[1;35mfunc\u001b[0m\u001b[1m(\u001b[0m*args, **kwargs\u001b[1m)\u001b[0m\n",
       "  File \u001b[32m\"c:\\Users\\hao_l\\.conda\\envs\\sc1015project\\lib\\site-packages\\joblib\\parallel.py\"\u001b[0m, line \u001b[1;36m288\u001b[0m, in \u001b[1m<\u001b[0m\u001b[1;95mlistcomp\u001b[0m\u001b[1m>\u001b[0m\n",
       "    return \u001b[1m[\u001b[0m\u001b[1;35mfunc\u001b[0m\u001b[1m(\u001b[0m*args, **kwargs\u001b[1m)\u001b[0m\n",
       "  File \u001b[32m\"c:\\Users\\hao_l\\.conda\\envs\\sc1015project\\lib\\site-packages\\kmodes\\kprototypes.py\"\u001b[0m, line \u001b[1;36m410\u001b[0m, in \n",
       "_k_prototypes_single\n",
       "    raise \u001b[1;35mValueError\u001b[0m\u001b[1m(\u001b[0m\n",
       "ValueError: Clustering algorithm could not initialize. Consider assigning the initial clusters manually.\n",
       "\u001b[32m\"\"\u001b[0m\"\n",
       "\n",
       "\u001b[3mThe above exception was the direct cause of the following exception:\u001b[0m\n",
       "\n",
       "\u001b[31m╭─\u001b[0m\u001b[31m──────────────────────────────\u001b[0m\u001b[31m \u001b[0m\u001b[1;31mTraceback \u001b[0m\u001b[1;2;31m(most recent call last)\u001b[0m\u001b[31m \u001b[0m\u001b[31m───────────────────────────────\u001b[0m\u001b[31m─╮\u001b[0m\n",
       "\u001b[31m│\u001b[0m in \u001b[92m<module>\u001b[0m:\u001b[94m5\u001b[0m                                                                                    \u001b[31m│\u001b[0m\n",
       "\u001b[31m│\u001b[0m                                                                                                  \u001b[31m│\u001b[0m\n",
       "\u001b[31m│\u001b[0m   \u001b[2m 2 \u001b[0m\u001b[94mfor\u001b[0m k \u001b[95min\u001b[0m \u001b[96mrange\u001b[0m(\u001b[94m1\u001b[0m, \u001b[94m100\u001b[0m):                                                                     \u001b[31m│\u001b[0m\n",
       "\u001b[31m│\u001b[0m   \u001b[2m 3 \u001b[0m\u001b[2m│   \u001b[0m\u001b[94mtry\u001b[0m:                                                                                    \u001b[31m│\u001b[0m\n",
       "\u001b[31m│\u001b[0m   \u001b[2m 4 \u001b[0m\u001b[2m│   │   \u001b[0mlog.info(\u001b[33m\"\u001b[0m\u001b[33mPerforming clustering for k=\u001b[0m\u001b[33m%d\u001b[0m\u001b[33m\"\u001b[0m, k)                                       \u001b[31m│\u001b[0m\n",
       "\u001b[31m│\u001b[0m \u001b[31m❱ \u001b[0m 5 \u001b[2m│   │   \u001b[0mmodel = cluster(k)                                                                  \u001b[31m│\u001b[0m\n",
       "\u001b[31m│\u001b[0m   \u001b[2m 6 \u001b[0m\u001b[2m│   │   \u001b[0mcost.append(model.cost_)                                                            \u001b[31m│\u001b[0m\n",
       "\u001b[31m│\u001b[0m   \u001b[2m 7 \u001b[0m\u001b[2m│   │   \u001b[0mlog.info(\u001b[33m\"\u001b[0m\u001b[33mk=\u001b[0m\u001b[33m%d\u001b[0m\u001b[33m, cost=\u001b[0m\u001b[33m%d\u001b[0m\u001b[33m, n_iter=\u001b[0m\u001b[33m%d\u001b[0m\u001b[33m\"\u001b[0m, k, model.cost_, model.n_iter_)                 \u001b[31m│\u001b[0m\n",
       "\u001b[31m│\u001b[0m   \u001b[2m 8 \u001b[0m\u001b[2m│   \u001b[0m\u001b[94mexcept\u001b[0m \u001b[96mKeyboardInterrupt\u001b[0m:                                                               \u001b[31m│\u001b[0m\n",
       "\u001b[31m│\u001b[0m                                                                                                  \u001b[31m│\u001b[0m\n",
       "\u001b[31m│\u001b[0m in \u001b[92mcluster\u001b[0m:\u001b[94m3\u001b[0m                                                                                     \u001b[31m│\u001b[0m\n",
       "\u001b[31m│\u001b[0m                                                                                                  \u001b[31m│\u001b[0m\n",
       "\u001b[31m│\u001b[0m   \u001b[2m1 \u001b[0m\u001b[94mdef\u001b[0m \u001b[92mcluster\u001b[0m(k=\u001b[94m1\u001b[0m):                                                                            \u001b[31m│\u001b[0m\n",
       "\u001b[31m│\u001b[0m   \u001b[2m2 \u001b[0m\u001b[2m  \u001b[0mmodel = KPrototypes(n_clusters = k, n_jobs = -\u001b[94m2\u001b[0m, random_state = \u001b[94m0\u001b[0m)                         \u001b[31m│\u001b[0m\n",
       "\u001b[31m│\u001b[0m \u001b[31m❱ \u001b[0m3 \u001b[2m  \u001b[0mmodel.fit_predict(X, categorical=\u001b[96mlist\u001b[0m(\u001b[96mrange\u001b[0m(\u001b[94m0\u001b[0m, \u001b[96mlen\u001b[0m(categorical))))                         \u001b[31m│\u001b[0m\n",
       "\u001b[31m│\u001b[0m   \u001b[2m4 \u001b[0m\u001b[2m  \u001b[0m\u001b[94mreturn\u001b[0m model                                                                               \u001b[31m│\u001b[0m\n",
       "\u001b[31m│\u001b[0m   \u001b[2m5 \u001b[0m                                                                                             \u001b[31m│\u001b[0m\n",
       "\u001b[31m│\u001b[0m                                                                                                  \u001b[31m│\u001b[0m\n",
       "\u001b[31m│\u001b[0m \u001b[33mc:\\Users\\hao_l\\.conda\\envs\\sc1015project\\lib\\site-packages\\kmodes\\kmodes.py\u001b[0m:\u001b[94m154\u001b[0m in \u001b[92mfit_predict\u001b[0m   \u001b[31m│\u001b[0m\n",
       "\u001b[31m│\u001b[0m                                                                                                  \u001b[31m│\u001b[0m\n",
       "\u001b[31m│\u001b[0m \u001b[33mc:\\Users\\hao_l\\.conda\\envs\\sc1015project\\lib\\site-packages\\kmodes\\kprototypes.py\u001b[0m:\u001b[94m161\u001b[0m in \u001b[92mfit\u001b[0m      \u001b[31m│\u001b[0m\n",
       "\u001b[31m│\u001b[0m                                                                                                  \u001b[31m│\u001b[0m\n",
       "\u001b[31m│\u001b[0m \u001b[33mc:\\Users\\hao_l\\.conda\\envs\\sc1015project\\lib\\site-packages\\kmodes\\kprototypes.py\u001b[0m:\u001b[94m305\u001b[0m in          \u001b[31m│\u001b[0m\n",
       "\u001b[31m│\u001b[0m \u001b[92mk_prototypes\u001b[0m                                                                                     \u001b[31m│\u001b[0m\n",
       "\u001b[31m│\u001b[0m                                                                                                  \u001b[31m│\u001b[0m\n",
       "\u001b[31m│\u001b[0m \u001b[33mc:\\Users\\hao_l\\.conda\\envs\\sc1015project\\lib\\site-packages\\joblib\\parallel.py\u001b[0m:\u001b[94m1098\u001b[0m in \u001b[92m__call__\u001b[0m   \u001b[31m│\u001b[0m\n",
       "\u001b[31m│\u001b[0m                                                                                                  \u001b[31m│\u001b[0m\n",
       "\u001b[31m│\u001b[0m \u001b[33mc:\\Users\\hao_l\\.conda\\envs\\sc1015project\\lib\\site-packages\\joblib\\parallel.py\u001b[0m:\u001b[94m975\u001b[0m in \u001b[92mretrieve\u001b[0m    \u001b[31m│\u001b[0m\n",
       "\u001b[31m│\u001b[0m                                                                                                  \u001b[31m│\u001b[0m\n",
       "\u001b[31m│\u001b[0m \u001b[33mc:\\Users\\hao_l\\.conda\\envs\\sc1015project\\lib\\site-packages\\joblib\\_parallel_backends.py\u001b[0m:\u001b[94m567\u001b[0m in   \u001b[31m│\u001b[0m\n",
       "\u001b[31m│\u001b[0m \u001b[92mwrap_future_result\u001b[0m                                                                               \u001b[31m│\u001b[0m\n",
       "\u001b[31m│\u001b[0m                                                                                                  \u001b[31m│\u001b[0m\n",
       "\u001b[31m│\u001b[0m \u001b[33mc:\\Users\\hao_l\\.conda\\envs\\sc1015project\\lib\\concurrent\\futures\\_base.py\u001b[0m:\u001b[94m446\u001b[0m in \u001b[92mresult\u001b[0m           \u001b[31m│\u001b[0m\n",
       "\u001b[31m│\u001b[0m                                                                                                  \u001b[31m│\u001b[0m\n",
       "\u001b[31m│\u001b[0m \u001b[33mc:\\Users\\hao_l\\.conda\\envs\\sc1015project\\lib\\concurrent\\futures\\_base.py\u001b[0m:\u001b[94m391\u001b[0m in \u001b[92m__get_result\u001b[0m     \u001b[31m│\u001b[0m\n",
       "\u001b[31m╰──────────────────────────────────────────────────────────────────────────────────────────────────╯\u001b[0m\n",
       "\u001b[1;91mValueError: \u001b[0mClustering algorithm could not initialize. Consider assigning the initial clusters manually.\n"
      ]
     },
     "metadata": {},
     "output_type": "display_data"
    }
   ],
   "source": [
    "cost = []\n",
    "for k in range(1, 100):\n",
    "    try:\n",
    "        log.info(\"Performing clustering for k=%d\", k)\n",
    "        model = cluster(k)\n",
    "        cost.append(model.cost_)\n",
    "        log.info(\"k=%d, cost=%d, n_iter=%d\", k, model.cost_, model.n_iter_)\n",
    "    except KeyboardInterrupt:\n",
    "        break\n",
    "cost"
   ]
  },
  {
   "cell_type": "code",
   "execution_count": 6,
   "metadata": {},
   "outputs": [],
   "source": [
    "c_cost = [\n",
    "307018,\n",
    "232174,\n",
    "202812,\n",
    "187008,\n",
    "175946,\n",
    "167520,\n",
    "159616,\n",
    "152260,\n",
    "146706,\n",
    "142000,\n",
    "137803,\n",
    "134227,\n",
    "130877,\n",
    "127711,\n",
    "124771,\n",
    "122866,\n",
    "120944,\n",
    "118845,\n",
    "117177,\n",
    "116160,\n",
    "114458,\n",
    "113100,\n",
    "111838,\n",
    "110623,\n",
    "109643,\n",
    "108235,\n",
    "107278,\n",
    "105921,\n",
    "105157,\n",
    "104259,\n",
    "103287,\n",
    "102349,\n",
    "101516,\n",
    "100742,\n",
    "100018,\n",
    "99209,\n",
    "98520,\n",
    "97829,\n",
    "97138,\n",
    "96543,\n",
    "95804,\n",
    "94957,\n",
    "94730,\n",
    "94046,\n",
    "93581,\n",
    "92987,\n",
    "92517,\n",
    "92108,\n",
    "91545,\n",
    "90726,\n",
    "90726,\n",
    "90666,\n",
    "90228,\n",
    "89582,\n",
    "89210,\n",
    "89029,\n",
    "88560,\n",
    "88103,\n",
    "87508,\n",
    "87230,\n",
    "86678,\n",
    "86493,\n",
    "86019,\n",
    "85663,\n",
    "85345,\n",
    "84965,\n",
    "84737,\n",
    "84230,\n",
    "84080,\n",
    "93630,\n",
    "83245,\n",
    "83150,\n",
    "82593,\n",
    "82334,\n",
    "82119,\n",
    "81940,\n",
    "81461,\n",
    "81348,\n",
    "80996,\n",
    "80926,\n",
    "80664,\n",
    "80416,\n",
    "79993,\n",
    "79730,\n",
    "79588]"
   ]
  },
  {
   "attachments": {},
   "cell_type": "markdown",
   "metadata": {},
   "source": [
    "**k=4, k=8, k=11 are good candidates for optimal number of clusters**\n",
    "**We also noticed that when k=70, the cost is abnormally high compared to its neighbouring k-values which makes it a bad choice to use it as the optimumal number of clusters.**"
   ]
  },
  {
   "cell_type": "code",
   "execution_count": 9,
   "metadata": {},
   "outputs": [
    {
     "data": {
      "text/plain": [
       "<seaborn.axisgrid.FacetGrid at 0x295d96aad00>"
      ]
     },
     "execution_count": 9,
     "metadata": {},
     "output_type": "execute_result"
    },
    {
     "data": {
      "image/png": "[encoded data removed]",
      "text/plain": [
       "<Figure size 2000x500 with 1 Axes>"
      ]
     },
     "metadata": {},
     "output_type": "display_data"
    }
   ],
   "source": [
    "# Converting the results into a dataframe and plotting them\n",
    "df_cost = pd.DataFrame({'cluster': list(range(1, len(c_cost)+1)), 'cost': c_cost})\n",
    "ax = sb.relplot(data=df_cost, x='cluster', y='cost', marker='o', kind='line', aspect=4).set(title='Elbow method (WSS)', xlim = (0,86))\n",
    "import matplotlib.ticker as ticker\n",
    "plt.gca().xaxis.set_major_locator(ticker.MultipleLocator(1))\n",
    "ax"
   ]
  },
  {
   "cell_type": "code",
   "execution_count": 15,
   "metadata": {},
   "outputs": [],
   "source": [
    "def fast_cluster(k=1):\n",
    "  model = KPrototypes(n_clusters = k, n_jobs = -2, random_state = 2247, init='Huang', max_iter=30)\n",
    "  model.fit_predict(X, categorical=list(range(0, len(categorical))))\n",
    "  return model"
   ]
  },
  {
   "cell_type": "code",
   "execution_count": 16,
   "metadata": {},
   "outputs": [
    {
     "data": {
      "text/html": [
       "<pre style=\"white-space:pre;overflow-x:auto;line-height:normal;font-family:Menlo,'DejaVu Sans Mono',consolas,'Courier New',monospace\"><span style=\"color: #7fbfbf; text-decoration-color: #7fbfbf\">[04/22/23 11:44:47] </span><span style=\"color: #000080; text-decoration-color: #000080\">INFO    </span> Performing clustering for <span style=\"color: #808000; text-decoration-color: #808000\">k</span>=<span style=\"color: #008080; text-decoration-color: #008080; font-weight: bold\">2</span>                                          <a href=\"file://C:\\Users\\hao_l\\AppData\\Local\\Temp\\ipykernel_10528\\1992391408.py\" target=\"_blank\"><span style=\"color: #7f7f7f; text-decoration-color: #7f7f7f\">1992391408.py</span></a><span style=\"color: #7f7f7f; text-decoration-color: #7f7f7f\">:</span><a href=\"file://C:\\Users\\hao_l\\AppData\\Local\\Temp\\ipykernel_10528\\1992391408.py#5\" target=\"_blank\"><span style=\"color: #7f7f7f; text-decoration-color: #7f7f7f\">5</span></a>\n",
       "</pre>\n"
      ],
      "text/plain": [
       "\u001b[2;36m[04/22/23 11:44:47]\u001b[0m\u001b[2;36m \u001b[0m\u001b[34mINFO    \u001b[0m Performing clustering for \u001b[33mk\u001b[0m=\u001b[1;36m2\u001b[0m                                          \u001b]8;id=166879;file://C:\\Users\\hao_l\\AppData\\Local\\Temp\\ipykernel_10528\\1992391408.py\u001b\\\u001b[2m1992391408.py\u001b[0m\u001b]8;;\u001b\\\u001b[2m:\u001b[0m\u001b]8;id=382987;file://C:\\Users\\hao_l\\AppData\\Local\\Temp\\ipykernel_10528\\1992391408.py#5\u001b\\\u001b[2m5\u001b[0m\u001b]8;;\u001b\\\n"
      ]
     },
     "metadata": {},
     "output_type": "display_data"
    },
    {
     "data": {
      "text/html": [
       "<pre style=\"white-space:pre;overflow-x:auto;line-height:normal;font-family:Menlo,'DejaVu Sans Mono',consolas,'Courier New',monospace\"><span style=\"color: #7fbfbf; text-decoration-color: #7fbfbf\">[04/22/23 11:45:48] </span><span style=\"color: #000080; text-decoration-color: #000080\">INFO    </span> <span style=\"color: #808000; text-decoration-color: #808000\">k</span>=<span style=\"color: #008080; text-decoration-color: #008080; font-weight: bold\">2</span>, <span style=\"color: #808000; text-decoration-color: #808000\">cost</span>=<span style=\"color: #008080; text-decoration-color: #008080; font-weight: bold\">232174</span>, <span style=\"color: #808000; text-decoration-color: #808000\">n_iter</span>=<span style=\"color: #008080; text-decoration-color: #008080; font-weight: bold\">14</span>, <span style=\"color: #808000; text-decoration-color: #808000\">score</span>=<span style=\"color: #008080; text-decoration-color: #008080; font-weight: bold\">0.2611</span>                              <a href=\"file://C:\\Users\\hao_l\\AppData\\Local\\Temp\\ipykernel_10528\\1992391408.py\" target=\"_blank\"><span style=\"color: #7f7f7f; text-decoration-color: #7f7f7f\">1992391408.py</span></a><span style=\"color: #7f7f7f; text-decoration-color: #7f7f7f\">:</span><a href=\"file://C:\\Users\\hao_l\\AppData\\Local\\Temp\\ipykernel_10528\\1992391408.py#9\" target=\"_blank\"><span style=\"color: #7f7f7f; text-decoration-color: #7f7f7f\">9</span></a>\n",
       "</pre>\n"
      ],
      "text/plain": [
       "\u001b[2;36m[04/22/23 11:45:48]\u001b[0m\u001b[2;36m \u001b[0m\u001b[34mINFO    \u001b[0m \u001b[33mk\u001b[0m=\u001b[1;36m2\u001b[0m, \u001b[33mcost\u001b[0m=\u001b[1;36m232174\u001b[0m, \u001b[33mn_iter\u001b[0m=\u001b[1;36m14\u001b[0m, \u001b[33mscore\u001b[0m=\u001b[1;36m0\u001b[0m\u001b[1;36m.2611\u001b[0m                              \u001b]8;id=62721;file://C:\\Users\\hao_l\\AppData\\Local\\Temp\\ipykernel_10528\\1992391408.py\u001b\\\u001b[2m1992391408.py\u001b[0m\u001b]8;;\u001b\\\u001b[2m:\u001b[0m\u001b]8;id=867018;file://C:\\Users\\hao_l\\AppData\\Local\\Temp\\ipykernel_10528\\1992391408.py#9\u001b\\\u001b[2m9\u001b[0m\u001b]8;;\u001b\\\n"
      ]
     },
     "metadata": {},
     "output_type": "display_data"
    },
    {
     "data": {
      "text/html": [
       "<pre style=\"white-space:pre;overflow-x:auto;line-height:normal;font-family:Menlo,'DejaVu Sans Mono',consolas,'Courier New',monospace\"><span style=\"color: #7fbfbf; text-decoration-color: #7fbfbf\">                    </span><span style=\"color: #000080; text-decoration-color: #000080\">INFO    </span> Performing clustering for <span style=\"color: #808000; text-decoration-color: #808000\">k</span>=<span style=\"color: #008080; text-decoration-color: #008080; font-weight: bold\">3</span>                                          <a href=\"file://C:\\Users\\hao_l\\AppData\\Local\\Temp\\ipykernel_10528\\1992391408.py\" target=\"_blank\"><span style=\"color: #7f7f7f; text-decoration-color: #7f7f7f\">1992391408.py</span></a><span style=\"color: #7f7f7f; text-decoration-color: #7f7f7f\">:</span><a href=\"file://C:\\Users\\hao_l\\AppData\\Local\\Temp\\ipykernel_10528\\1992391408.py#5\" target=\"_blank\"><span style=\"color: #7f7f7f; text-decoration-color: #7f7f7f\">5</span></a>\n",
       "</pre>\n"
      ],
      "text/plain": [
       "\u001b[2;36m                   \u001b[0m\u001b[2;36m \u001b[0m\u001b[34mINFO    \u001b[0m Performing clustering for \u001b[33mk\u001b[0m=\u001b[1;36m3\u001b[0m                                          \u001b]8;id=115672;file://C:\\Users\\hao_l\\AppData\\Local\\Temp\\ipykernel_10528\\1992391408.py\u001b\\\u001b[2m1992391408.py\u001b[0m\u001b]8;;\u001b\\\u001b[2m:\u001b[0m\u001b]8;id=949292;file://C:\\Users\\hao_l\\AppData\\Local\\Temp\\ipykernel_10528\\1992391408.py#5\u001b\\\u001b[2m5\u001b[0m\u001b]8;;\u001b\\\n"
      ]
     },
     "metadata": {},
     "output_type": "display_data"
    },
    {
     "data": {
      "text/html": [
       "<pre style=\"white-space:pre;overflow-x:auto;line-height:normal;font-family:Menlo,'DejaVu Sans Mono',consolas,'Courier New',monospace\"><span style=\"color: #7fbfbf; text-decoration-color: #7fbfbf\">[04/22/23 11:46:59] </span><span style=\"color: #000080; text-decoration-color: #000080\">INFO    </span> <span style=\"color: #808000; text-decoration-color: #808000\">k</span>=<span style=\"color: #008080; text-decoration-color: #008080; font-weight: bold\">3</span>, <span style=\"color: #808000; text-decoration-color: #808000\">cost</span>=<span style=\"color: #008080; text-decoration-color: #008080; font-weight: bold\">202812</span>, <span style=\"color: #808000; text-decoration-color: #808000\">n_iter</span>=<span style=\"color: #008080; text-decoration-color: #008080; font-weight: bold\">12</span>, <span style=\"color: #808000; text-decoration-color: #808000\">score</span>=<span style=\"color: #008080; text-decoration-color: #008080; font-weight: bold\">0.1587</span>                              <a href=\"file://C:\\Users\\hao_l\\AppData\\Local\\Temp\\ipykernel_10528\\1992391408.py\" target=\"_blank\"><span style=\"color: #7f7f7f; text-decoration-color: #7f7f7f\">1992391408.py</span></a><span style=\"color: #7f7f7f; text-decoration-color: #7f7f7f\">:</span><a href=\"file://C:\\Users\\hao_l\\AppData\\Local\\Temp\\ipykernel_10528\\1992391408.py#9\" target=\"_blank\"><span style=\"color: #7f7f7f; text-decoration-color: #7f7f7f\">9</span></a>\n",
       "</pre>\n"
      ],
      "text/plain": [
       "\u001b[2;36m[04/22/23 11:46:59]\u001b[0m\u001b[2;36m \u001b[0m\u001b[34mINFO    \u001b[0m \u001b[33mk\u001b[0m=\u001b[1;36m3\u001b[0m, \u001b[33mcost\u001b[0m=\u001b[1;36m202812\u001b[0m, \u001b[33mn_iter\u001b[0m=\u001b[1;36m12\u001b[0m, \u001b[33mscore\u001b[0m=\u001b[1;36m0\u001b[0m\u001b[1;36m.1587\u001b[0m                              \u001b]8;id=710408;file://C:\\Users\\hao_l\\AppData\\Local\\Temp\\ipykernel_10528\\1992391408.py\u001b\\\u001b[2m1992391408.py\u001b[0m\u001b]8;;\u001b\\\u001b[2m:\u001b[0m\u001b]8;id=449150;file://C:\\Users\\hao_l\\AppData\\Local\\Temp\\ipykernel_10528\\1992391408.py#9\u001b\\\u001b[2m9\u001b[0m\u001b]8;;\u001b\\\n"
      ]
     },
     "metadata": {},
     "output_type": "display_data"
    },
    {
     "data": {
      "text/html": [
       "<pre style=\"white-space:pre;overflow-x:auto;line-height:normal;font-family:Menlo,'DejaVu Sans Mono',consolas,'Courier New',monospace\"><span style=\"color: #7fbfbf; text-decoration-color: #7fbfbf\">                    </span><span style=\"color: #000080; text-decoration-color: #000080\">INFO    </span> Performing clustering for <span style=\"color: #808000; text-decoration-color: #808000\">k</span>=<span style=\"color: #008080; text-decoration-color: #008080; font-weight: bold\">4</span>                                          <a href=\"file://C:\\Users\\hao_l\\AppData\\Local\\Temp\\ipykernel_10528\\1992391408.py\" target=\"_blank\"><span style=\"color: #7f7f7f; text-decoration-color: #7f7f7f\">1992391408.py</span></a><span style=\"color: #7f7f7f; text-decoration-color: #7f7f7f\">:</span><a href=\"file://C:\\Users\\hao_l\\AppData\\Local\\Temp\\ipykernel_10528\\1992391408.py#5\" target=\"_blank\"><span style=\"color: #7f7f7f; text-decoration-color: #7f7f7f\">5</span></a>\n",
       "</pre>\n"
      ],
      "text/plain": [
       "\u001b[2;36m                   \u001b[0m\u001b[2;36m \u001b[0m\u001b[34mINFO    \u001b[0m Performing clustering for \u001b[33mk\u001b[0m=\u001b[1;36m4\u001b[0m                                          \u001b]8;id=155256;file://C:\\Users\\hao_l\\AppData\\Local\\Temp\\ipykernel_10528\\1992391408.py\u001b\\\u001b[2m1992391408.py\u001b[0m\u001b]8;;\u001b\\\u001b[2m:\u001b[0m\u001b]8;id=988670;file://C:\\Users\\hao_l\\AppData\\Local\\Temp\\ipykernel_10528\\1992391408.py#5\u001b\\\u001b[2m5\u001b[0m\u001b]8;;\u001b\\\n"
      ]
     },
     "metadata": {},
     "output_type": "display_data"
    },
    {
     "data": {
      "text/html": [
       "<pre style=\"white-space:pre;overflow-x:auto;line-height:normal;font-family:Menlo,'DejaVu Sans Mono',consolas,'Courier New',monospace\"><span style=\"color: #7fbfbf; text-decoration-color: #7fbfbf\">[04/22/23 11:48:26] </span><span style=\"color: #000080; text-decoration-color: #000080\">INFO    </span> <span style=\"color: #808000; text-decoration-color: #808000\">k</span>=<span style=\"color: #008080; text-decoration-color: #008080; font-weight: bold\">4</span>, <span style=\"color: #808000; text-decoration-color: #808000\">cost</span>=<span style=\"color: #008080; text-decoration-color: #008080; font-weight: bold\">187008</span>, <span style=\"color: #808000; text-decoration-color: #808000\">n_iter</span>=<span style=\"color: #008080; text-decoration-color: #008080; font-weight: bold\">23</span>, <span style=\"color: #808000; text-decoration-color: #808000\">score</span>=<span style=\"color: #008080; text-decoration-color: #008080; font-weight: bold\">0.1419</span>                              <a href=\"file://C:\\Users\\hao_l\\AppData\\Local\\Temp\\ipykernel_10528\\1992391408.py\" target=\"_blank\"><span style=\"color: #7f7f7f; text-decoration-color: #7f7f7f\">1992391408.py</span></a><span style=\"color: #7f7f7f; text-decoration-color: #7f7f7f\">:</span><a href=\"file://C:\\Users\\hao_l\\AppData\\Local\\Temp\\ipykernel_10528\\1992391408.py#9\" target=\"_blank\"><span style=\"color: #7f7f7f; text-decoration-color: #7f7f7f\">9</span></a>\n",
       "</pre>\n"
      ],
      "text/plain": [
       "\u001b[2;36m[04/22/23 11:48:26]\u001b[0m\u001b[2;36m \u001b[0m\u001b[34mINFO    \u001b[0m \u001b[33mk\u001b[0m=\u001b[1;36m4\u001b[0m, \u001b[33mcost\u001b[0m=\u001b[1;36m187008\u001b[0m, \u001b[33mn_iter\u001b[0m=\u001b[1;36m23\u001b[0m, \u001b[33mscore\u001b[0m=\u001b[1;36m0\u001b[0m\u001b[1;36m.1419\u001b[0m                              \u001b]8;id=680435;file://C:\\Users\\hao_l\\AppData\\Local\\Temp\\ipykernel_10528\\1992391408.py\u001b\\\u001b[2m1992391408.py\u001b[0m\u001b]8;;\u001b\\\u001b[2m:\u001b[0m\u001b]8;id=403837;file://C:\\Users\\hao_l\\AppData\\Local\\Temp\\ipykernel_10528\\1992391408.py#9\u001b\\\u001b[2m9\u001b[0m\u001b]8;;\u001b\\\n"
      ]
     },
     "metadata": {},
     "output_type": "display_data"
    },
    {
     "data": {
      "text/html": [
       "<pre style=\"white-space:pre;overflow-x:auto;line-height:normal;font-family:Menlo,'DejaVu Sans Mono',consolas,'Courier New',monospace\"><span style=\"color: #7fbfbf; text-decoration-color: #7fbfbf\">                    </span><span style=\"color: #000080; text-decoration-color: #000080\">INFO    </span> Performing clustering for <span style=\"color: #808000; text-decoration-color: #808000\">k</span>=<span style=\"color: #008080; text-decoration-color: #008080; font-weight: bold\">5</span>                                          <a href=\"file://C:\\Users\\hao_l\\AppData\\Local\\Temp\\ipykernel_10528\\1992391408.py\" target=\"_blank\"><span style=\"color: #7f7f7f; text-decoration-color: #7f7f7f\">1992391408.py</span></a><span style=\"color: #7f7f7f; text-decoration-color: #7f7f7f\">:</span><a href=\"file://C:\\Users\\hao_l\\AppData\\Local\\Temp\\ipykernel_10528\\1992391408.py#5\" target=\"_blank\"><span style=\"color: #7f7f7f; text-decoration-color: #7f7f7f\">5</span></a>\n",
       "</pre>\n"
      ],
      "text/plain": [
       "\u001b[2;36m                   \u001b[0m\u001b[2;36m \u001b[0m\u001b[34mINFO    \u001b[0m Performing clustering for \u001b[33mk\u001b[0m=\u001b[1;36m5\u001b[0m                                          \u001b]8;id=631262;file://C:\\Users\\hao_l\\AppData\\Local\\Temp\\ipykernel_10528\\1992391408.py\u001b\\\u001b[2m1992391408.py\u001b[0m\u001b]8;;\u001b\\\u001b[2m:\u001b[0m\u001b]8;id=657130;file://C:\\Users\\hao_l\\AppData\\Local\\Temp\\ipykernel_10528\\1992391408.py#5\u001b\\\u001b[2m5\u001b[0m\u001b]8;;\u001b\\\n"
      ]
     },
     "metadata": {},
     "output_type": "display_data"
    },
    {
     "data": {
      "text/html": [
       "<pre style=\"white-space:pre;overflow-x:auto;line-height:normal;font-family:Menlo,'DejaVu Sans Mono',consolas,'Courier New',monospace\"><span style=\"color: #7fbfbf; text-decoration-color: #7fbfbf\">[04/22/23 11:50:07] </span><span style=\"color: #000080; text-decoration-color: #000080\">INFO    </span> <span style=\"color: #808000; text-decoration-color: #808000\">k</span>=<span style=\"color: #008080; text-decoration-color: #008080; font-weight: bold\">5</span>, <span style=\"color: #808000; text-decoration-color: #808000\">cost</span>=<span style=\"color: #008080; text-decoration-color: #008080; font-weight: bold\">175946</span>, <span style=\"color: #808000; text-decoration-color: #808000\">n_iter</span>=<span style=\"color: #008080; text-decoration-color: #008080; font-weight: bold\">19</span>, <span style=\"color: #808000; text-decoration-color: #808000\">score</span>=<span style=\"color: #008080; text-decoration-color: #008080; font-weight: bold\">0.1413</span>                              <a href=\"file://C:\\Users\\hao_l\\AppData\\Local\\Temp\\ipykernel_10528\\1992391408.py\" target=\"_blank\"><span style=\"color: #7f7f7f; text-decoration-color: #7f7f7f\">1992391408.py</span></a><span style=\"color: #7f7f7f; text-decoration-color: #7f7f7f\">:</span><a href=\"file://C:\\Users\\hao_l\\AppData\\Local\\Temp\\ipykernel_10528\\1992391408.py#9\" target=\"_blank\"><span style=\"color: #7f7f7f; text-decoration-color: #7f7f7f\">9</span></a>\n",
       "</pre>\n"
      ],
      "text/plain": [
       "\u001b[2;36m[04/22/23 11:50:07]\u001b[0m\u001b[2;36m \u001b[0m\u001b[34mINFO    \u001b[0m \u001b[33mk\u001b[0m=\u001b[1;36m5\u001b[0m, \u001b[33mcost\u001b[0m=\u001b[1;36m175946\u001b[0m, \u001b[33mn_iter\u001b[0m=\u001b[1;36m19\u001b[0m, \u001b[33mscore\u001b[0m=\u001b[1;36m0\u001b[0m\u001b[1;36m.1413\u001b[0m                              \u001b]8;id=574884;file://C:\\Users\\hao_l\\AppData\\Local\\Temp\\ipykernel_10528\\1992391408.py\u001b\\\u001b[2m1992391408.py\u001b[0m\u001b]8;;\u001b\\\u001b[2m:\u001b[0m\u001b]8;id=442298;file://C:\\Users\\hao_l\\AppData\\Local\\Temp\\ipykernel_10528\\1992391408.py#9\u001b\\\u001b[2m9\u001b[0m\u001b]8;;\u001b\\\n"
      ]
     },
     "metadata": {},
     "output_type": "display_data"
    },
    {
     "data": {
      "text/html": [
       "<pre style=\"white-space:pre;overflow-x:auto;line-height:normal;font-family:Menlo,'DejaVu Sans Mono',consolas,'Courier New',monospace\"><span style=\"color: #7fbfbf; text-decoration-color: #7fbfbf\">                    </span><span style=\"color: #000080; text-decoration-color: #000080\">INFO    </span> Performing clustering for <span style=\"color: #808000; text-decoration-color: #808000\">k</span>=<span style=\"color: #008080; text-decoration-color: #008080; font-weight: bold\">6</span>                                          <a href=\"file://C:\\Users\\hao_l\\AppData\\Local\\Temp\\ipykernel_10528\\1992391408.py\" target=\"_blank\"><span style=\"color: #7f7f7f; text-decoration-color: #7f7f7f\">1992391408.py</span></a><span style=\"color: #7f7f7f; text-decoration-color: #7f7f7f\">:</span><a href=\"file://C:\\Users\\hao_l\\AppData\\Local\\Temp\\ipykernel_10528\\1992391408.py#5\" target=\"_blank\"><span style=\"color: #7f7f7f; text-decoration-color: #7f7f7f\">5</span></a>\n",
       "</pre>\n"
      ],
      "text/plain": [
       "\u001b[2;36m                   \u001b[0m\u001b[2;36m \u001b[0m\u001b[34mINFO    \u001b[0m Performing clustering for \u001b[33mk\u001b[0m=\u001b[1;36m6\u001b[0m                                          \u001b]8;id=727855;file://C:\\Users\\hao_l\\AppData\\Local\\Temp\\ipykernel_10528\\1992391408.py\u001b\\\u001b[2m1992391408.py\u001b[0m\u001b]8;;\u001b\\\u001b[2m:\u001b[0m\u001b]8;id=812036;file://C:\\Users\\hao_l\\AppData\\Local\\Temp\\ipykernel_10528\\1992391408.py#5\u001b\\\u001b[2m5\u001b[0m\u001b]8;;\u001b\\\n"
      ]
     },
     "metadata": {},
     "output_type": "display_data"
    },
    {
     "data": {
      "text/html": [
       "<pre style=\"white-space:pre;overflow-x:auto;line-height:normal;font-family:Menlo,'DejaVu Sans Mono',consolas,'Courier New',monospace\"><span style=\"color: #7fbfbf; text-decoration-color: #7fbfbf\">[04/22/23 11:51:45] </span><span style=\"color: #000080; text-decoration-color: #000080\">INFO    </span> <span style=\"color: #808000; text-decoration-color: #808000\">k</span>=<span style=\"color: #008080; text-decoration-color: #008080; font-weight: bold\">6</span>, <span style=\"color: #808000; text-decoration-color: #808000\">cost</span>=<span style=\"color: #008080; text-decoration-color: #008080; font-weight: bold\">167520</span>, <span style=\"color: #808000; text-decoration-color: #808000\">n_iter</span>=<span style=\"color: #008080; text-decoration-color: #008080; font-weight: bold\">19</span>, <span style=\"color: #808000; text-decoration-color: #808000\">score</span>=<span style=\"color: #008080; text-decoration-color: #008080; font-weight: bold\">0.1404</span>                              <a href=\"file://C:\\Users\\hao_l\\AppData\\Local\\Temp\\ipykernel_10528\\1992391408.py\" target=\"_blank\"><span style=\"color: #7f7f7f; text-decoration-color: #7f7f7f\">1992391408.py</span></a><span style=\"color: #7f7f7f; text-decoration-color: #7f7f7f\">:</span><a href=\"file://C:\\Users\\hao_l\\AppData\\Local\\Temp\\ipykernel_10528\\1992391408.py#9\" target=\"_blank\"><span style=\"color: #7f7f7f; text-decoration-color: #7f7f7f\">9</span></a>\n",
       "</pre>\n"
      ],
      "text/plain": [
       "\u001b[2;36m[04/22/23 11:51:45]\u001b[0m\u001b[2;36m \u001b[0m\u001b[34mINFO    \u001b[0m \u001b[33mk\u001b[0m=\u001b[1;36m6\u001b[0m, \u001b[33mcost\u001b[0m=\u001b[1;36m167520\u001b[0m, \u001b[33mn_iter\u001b[0m=\u001b[1;36m19\u001b[0m, \u001b[33mscore\u001b[0m=\u001b[1;36m0\u001b[0m\u001b[1;36m.1404\u001b[0m                              \u001b]8;id=977260;file://C:\\Users\\hao_l\\AppData\\Local\\Temp\\ipykernel_10528\\1992391408.py\u001b\\\u001b[2m1992391408.py\u001b[0m\u001b]8;;\u001b\\\u001b[2m:\u001b[0m\u001b]8;id=145356;file://C:\\Users\\hao_l\\AppData\\Local\\Temp\\ipykernel_10528\\1992391408.py#9\u001b\\\u001b[2m9\u001b[0m\u001b]8;;\u001b\\\n"
      ]
     },
     "metadata": {},
     "output_type": "display_data"
    },
    {
     "data": {
      "text/html": [
       "<pre style=\"white-space:pre;overflow-x:auto;line-height:normal;font-family:Menlo,'DejaVu Sans Mono',consolas,'Courier New',monospace\"><span style=\"color: #7fbfbf; text-decoration-color: #7fbfbf\">                    </span><span style=\"color: #000080; text-decoration-color: #000080\">INFO    </span> Performing clustering for <span style=\"color: #808000; text-decoration-color: #808000\">k</span>=<span style=\"color: #008080; text-decoration-color: #008080; font-weight: bold\">7</span>                                          <a href=\"file://C:\\Users\\hao_l\\AppData\\Local\\Temp\\ipykernel_10528\\1992391408.py\" target=\"_blank\"><span style=\"color: #7f7f7f; text-decoration-color: #7f7f7f\">1992391408.py</span></a><span style=\"color: #7f7f7f; text-decoration-color: #7f7f7f\">:</span><a href=\"file://C:\\Users\\hao_l\\AppData\\Local\\Temp\\ipykernel_10528\\1992391408.py#5\" target=\"_blank\"><span style=\"color: #7f7f7f; text-decoration-color: #7f7f7f\">5</span></a>\n",
       "</pre>\n"
      ],
      "text/plain": [
       "\u001b[2;36m                   \u001b[0m\u001b[2;36m \u001b[0m\u001b[34mINFO    \u001b[0m Performing clustering for \u001b[33mk\u001b[0m=\u001b[1;36m7\u001b[0m                                          \u001b]8;id=684401;file://C:\\Users\\hao_l\\AppData\\Local\\Temp\\ipykernel_10528\\1992391408.py\u001b\\\u001b[2m1992391408.py\u001b[0m\u001b]8;;\u001b\\\u001b[2m:\u001b[0m\u001b]8;id=467582;file://C:\\Users\\hao_l\\AppData\\Local\\Temp\\ipykernel_10528\\1992391408.py#5\u001b\\\u001b[2m5\u001b[0m\u001b]8;;\u001b\\\n"
      ]
     },
     "metadata": {},
     "output_type": "display_data"
    },
    {
     "data": {
      "text/html": [
       "<pre style=\"white-space:pre;overflow-x:auto;line-height:normal;font-family:Menlo,'DejaVu Sans Mono',consolas,'Courier New',monospace\"><span style=\"color: #7fbfbf; text-decoration-color: #7fbfbf\">[04/22/23 11:53:39] </span><span style=\"color: #000080; text-decoration-color: #000080\">INFO    </span> <span style=\"color: #808000; text-decoration-color: #808000\">k</span>=<span style=\"color: #008080; text-decoration-color: #008080; font-weight: bold\">7</span>, <span style=\"color: #808000; text-decoration-color: #808000\">cost</span>=<span style=\"color: #008080; text-decoration-color: #008080; font-weight: bold\">159615</span>, <span style=\"color: #808000; text-decoration-color: #808000\">n_iter</span>=<span style=\"color: #008080; text-decoration-color: #008080; font-weight: bold\">16</span>, <span style=\"color: #808000; text-decoration-color: #808000\">score</span>=<span style=\"color: #008080; text-decoration-color: #008080; font-weight: bold\">0.1239</span>                              <a href=\"file://C:\\Users\\hao_l\\AppData\\Local\\Temp\\ipykernel_10528\\1992391408.py\" target=\"_blank\"><span style=\"color: #7f7f7f; text-decoration-color: #7f7f7f\">1992391408.py</span></a><span style=\"color: #7f7f7f; text-decoration-color: #7f7f7f\">:</span><a href=\"file://C:\\Users\\hao_l\\AppData\\Local\\Temp\\ipykernel_10528\\1992391408.py#9\" target=\"_blank\"><span style=\"color: #7f7f7f; text-decoration-color: #7f7f7f\">9</span></a>\n",
       "</pre>\n"
      ],
      "text/plain": [
       "\u001b[2;36m[04/22/23 11:53:39]\u001b[0m\u001b[2;36m \u001b[0m\u001b[34mINFO    \u001b[0m \u001b[33mk\u001b[0m=\u001b[1;36m7\u001b[0m, \u001b[33mcost\u001b[0m=\u001b[1;36m159615\u001b[0m, \u001b[33mn_iter\u001b[0m=\u001b[1;36m16\u001b[0m, \u001b[33mscore\u001b[0m=\u001b[1;36m0\u001b[0m\u001b[1;36m.1239\u001b[0m                              \u001b]8;id=386864;file://C:\\Users\\hao_l\\AppData\\Local\\Temp\\ipykernel_10528\\1992391408.py\u001b\\\u001b[2m1992391408.py\u001b[0m\u001b]8;;\u001b\\\u001b[2m:\u001b[0m\u001b]8;id=274902;file://C:\\Users\\hao_l\\AppData\\Local\\Temp\\ipykernel_10528\\1992391408.py#9\u001b\\\u001b[2m9\u001b[0m\u001b]8;;\u001b\\\n"
      ]
     },
     "metadata": {},
     "output_type": "display_data"
    },
    {
     "data": {
      "text/html": [
       "<pre style=\"white-space:pre;overflow-x:auto;line-height:normal;font-family:Menlo,'DejaVu Sans Mono',consolas,'Courier New',monospace\"><span style=\"color: #7fbfbf; text-decoration-color: #7fbfbf\">                    </span><span style=\"color: #000080; text-decoration-color: #000080\">INFO    </span> Performing clustering for <span style=\"color: #808000; text-decoration-color: #808000\">k</span>=<span style=\"color: #008080; text-decoration-color: #008080; font-weight: bold\">8</span>                                          <a href=\"file://C:\\Users\\hao_l\\AppData\\Local\\Temp\\ipykernel_10528\\1992391408.py\" target=\"_blank\"><span style=\"color: #7f7f7f; text-decoration-color: #7f7f7f\">1992391408.py</span></a><span style=\"color: #7f7f7f; text-decoration-color: #7f7f7f\">:</span><a href=\"file://C:\\Users\\hao_l\\AppData\\Local\\Temp\\ipykernel_10528\\1992391408.py#5\" target=\"_blank\"><span style=\"color: #7f7f7f; text-decoration-color: #7f7f7f\">5</span></a>\n",
       "</pre>\n"
      ],
      "text/plain": [
       "\u001b[2;36m                   \u001b[0m\u001b[2;36m \u001b[0m\u001b[34mINFO    \u001b[0m Performing clustering for \u001b[33mk\u001b[0m=\u001b[1;36m8\u001b[0m                                          \u001b]8;id=495344;file://C:\\Users\\hao_l\\AppData\\Local\\Temp\\ipykernel_10528\\1992391408.py\u001b\\\u001b[2m1992391408.py\u001b[0m\u001b]8;;\u001b\\\u001b[2m:\u001b[0m\u001b]8;id=267068;file://C:\\Users\\hao_l\\AppData\\Local\\Temp\\ipykernel_10528\\1992391408.py#5\u001b\\\u001b[2m5\u001b[0m\u001b]8;;\u001b\\\n"
      ]
     },
     "metadata": {},
     "output_type": "display_data"
    },
    {
     "data": {
      "text/html": [
       "<pre style=\"white-space:pre;overflow-x:auto;line-height:normal;font-family:Menlo,'DejaVu Sans Mono',consolas,'Courier New',monospace\"><span style=\"color: #7fbfbf; text-decoration-color: #7fbfbf\">[04/22/23 11:55:35] </span><span style=\"color: #000080; text-decoration-color: #000080\">INFO    </span> <span style=\"color: #808000; text-decoration-color: #808000\">k</span>=<span style=\"color: #008080; text-decoration-color: #008080; font-weight: bold\">8</span>, <span style=\"color: #808000; text-decoration-color: #808000\">cost</span>=<span style=\"color: #008080; text-decoration-color: #008080; font-weight: bold\">152260</span>, <span style=\"color: #808000; text-decoration-color: #808000\">n_iter</span>=<span style=\"color: #008080; text-decoration-color: #008080; font-weight: bold\">17</span>, <span style=\"color: #808000; text-decoration-color: #808000\">score</span>=<span style=\"color: #008080; text-decoration-color: #008080; font-weight: bold\">0.1238</span>                              <a href=\"file://C:\\Users\\hao_l\\AppData\\Local\\Temp\\ipykernel_10528\\1992391408.py\" target=\"_blank\"><span style=\"color: #7f7f7f; text-decoration-color: #7f7f7f\">1992391408.py</span></a><span style=\"color: #7f7f7f; text-decoration-color: #7f7f7f\">:</span><a href=\"file://C:\\Users\\hao_l\\AppData\\Local\\Temp\\ipykernel_10528\\1992391408.py#9\" target=\"_blank\"><span style=\"color: #7f7f7f; text-decoration-color: #7f7f7f\">9</span></a>\n",
       "</pre>\n"
      ],
      "text/plain": [
       "\u001b[2;36m[04/22/23 11:55:35]\u001b[0m\u001b[2;36m \u001b[0m\u001b[34mINFO    \u001b[0m \u001b[33mk\u001b[0m=\u001b[1;36m8\u001b[0m, \u001b[33mcost\u001b[0m=\u001b[1;36m152260\u001b[0m, \u001b[33mn_iter\u001b[0m=\u001b[1;36m17\u001b[0m, \u001b[33mscore\u001b[0m=\u001b[1;36m0\u001b[0m\u001b[1;36m.1238\u001b[0m                              \u001b]8;id=649630;file://C:\\Users\\hao_l\\AppData\\Local\\Temp\\ipykernel_10528\\1992391408.py\u001b\\\u001b[2m1992391408.py\u001b[0m\u001b]8;;\u001b\\\u001b[2m:\u001b[0m\u001b]8;id=477561;file://C:\\Users\\hao_l\\AppData\\Local\\Temp\\ipykernel_10528\\1992391408.py#9\u001b\\\u001b[2m9\u001b[0m\u001b]8;;\u001b\\\n"
      ]
     },
     "metadata": {},
     "output_type": "display_data"
    },
    {
     "data": {
      "text/html": [
       "<pre style=\"white-space:pre;overflow-x:auto;line-height:normal;font-family:Menlo,'DejaVu Sans Mono',consolas,'Courier New',monospace\"><span style=\"color: #7fbfbf; text-decoration-color: #7fbfbf\">                    </span><span style=\"color: #000080; text-decoration-color: #000080\">INFO    </span> Performing clustering for <span style=\"color: #808000; text-decoration-color: #808000\">k</span>=<span style=\"color: #008080; text-decoration-color: #008080; font-weight: bold\">9</span>                                          <a href=\"file://C:\\Users\\hao_l\\AppData\\Local\\Temp\\ipykernel_10528\\1992391408.py\" target=\"_blank\"><span style=\"color: #7f7f7f; text-decoration-color: #7f7f7f\">1992391408.py</span></a><span style=\"color: #7f7f7f; text-decoration-color: #7f7f7f\">:</span><a href=\"file://C:\\Users\\hao_l\\AppData\\Local\\Temp\\ipykernel_10528\\1992391408.py#5\" target=\"_blank\"><span style=\"color: #7f7f7f; text-decoration-color: #7f7f7f\">5</span></a>\n",
       "</pre>\n"
      ],
      "text/plain": [
       "\u001b[2;36m                   \u001b[0m\u001b[2;36m \u001b[0m\u001b[34mINFO    \u001b[0m Performing clustering for \u001b[33mk\u001b[0m=\u001b[1;36m9\u001b[0m                                          \u001b]8;id=993755;file://C:\\Users\\hao_l\\AppData\\Local\\Temp\\ipykernel_10528\\1992391408.py\u001b\\\u001b[2m1992391408.py\u001b[0m\u001b]8;;\u001b\\\u001b[2m:\u001b[0m\u001b]8;id=419673;file://C:\\Users\\hao_l\\AppData\\Local\\Temp\\ipykernel_10528\\1992391408.py#5\u001b\\\u001b[2m5\u001b[0m\u001b]8;;\u001b\\\n"
      ]
     },
     "metadata": {},
     "output_type": "display_data"
    },
    {
     "data": {
      "text/html": [
       "<pre style=\"white-space:pre;overflow-x:auto;line-height:normal;font-family:Menlo,'DejaVu Sans Mono',consolas,'Courier New',monospace\"><span style=\"color: #7fbfbf; text-decoration-color: #7fbfbf\">[04/22/23 11:57:37] </span><span style=\"color: #000080; text-decoration-color: #000080\">INFO    </span> <span style=\"color: #808000; text-decoration-color: #808000\">k</span>=<span style=\"color: #008080; text-decoration-color: #008080; font-weight: bold\">9</span>, <span style=\"color: #808000; text-decoration-color: #808000\">cost</span>=<span style=\"color: #008080; text-decoration-color: #008080; font-weight: bold\">146706</span>, <span style=\"color: #808000; text-decoration-color: #808000\">n_iter</span>=<span style=\"color: #008080; text-decoration-color: #008080; font-weight: bold\">20</span>, <span style=\"color: #808000; text-decoration-color: #808000\">score</span>=<span style=\"color: #008080; text-decoration-color: #008080; font-weight: bold\">0.1193</span>                              <a href=\"file://C:\\Users\\hao_l\\AppData\\Local\\Temp\\ipykernel_10528\\1992391408.py\" target=\"_blank\"><span style=\"color: #7f7f7f; text-decoration-color: #7f7f7f\">1992391408.py</span></a><span style=\"color: #7f7f7f; text-decoration-color: #7f7f7f\">:</span><a href=\"file://C:\\Users\\hao_l\\AppData\\Local\\Temp\\ipykernel_10528\\1992391408.py#9\" target=\"_blank\"><span style=\"color: #7f7f7f; text-decoration-color: #7f7f7f\">9</span></a>\n",
       "</pre>\n"
      ],
      "text/plain": [
       "\u001b[2;36m[04/22/23 11:57:37]\u001b[0m\u001b[2;36m \u001b[0m\u001b[34mINFO    \u001b[0m \u001b[33mk\u001b[0m=\u001b[1;36m9\u001b[0m, \u001b[33mcost\u001b[0m=\u001b[1;36m146706\u001b[0m, \u001b[33mn_iter\u001b[0m=\u001b[1;36m20\u001b[0m, \u001b[33mscore\u001b[0m=\u001b[1;36m0\u001b[0m\u001b[1;36m.1193\u001b[0m                              \u001b]8;id=560837;file://C:\\Users\\hao_l\\AppData\\Local\\Temp\\ipykernel_10528\\1992391408.py\u001b\\\u001b[2m1992391408.py\u001b[0m\u001b]8;;\u001b\\\u001b[2m:\u001b[0m\u001b]8;id=734478;file://C:\\Users\\hao_l\\AppData\\Local\\Temp\\ipykernel_10528\\1992391408.py#9\u001b\\\u001b[2m9\u001b[0m\u001b]8;;\u001b\\\n"
      ]
     },
     "metadata": {},
     "output_type": "display_data"
    },
    {
     "data": {
      "text/html": [
       "<pre style=\"white-space:pre;overflow-x:auto;line-height:normal;font-family:Menlo,'DejaVu Sans Mono',consolas,'Courier New',monospace\"><span style=\"color: #7fbfbf; text-decoration-color: #7fbfbf\">                    </span><span style=\"color: #000080; text-decoration-color: #000080\">INFO    </span> Performing clustering for <span style=\"color: #808000; text-decoration-color: #808000\">k</span>=<span style=\"color: #008080; text-decoration-color: #008080; font-weight: bold\">10</span>                                         <a href=\"file://C:\\Users\\hao_l\\AppData\\Local\\Temp\\ipykernel_10528\\1992391408.py\" target=\"_blank\"><span style=\"color: #7f7f7f; text-decoration-color: #7f7f7f\">1992391408.py</span></a><span style=\"color: #7f7f7f; text-decoration-color: #7f7f7f\">:</span><a href=\"file://C:\\Users\\hao_l\\AppData\\Local\\Temp\\ipykernel_10528\\1992391408.py#5\" target=\"_blank\"><span style=\"color: #7f7f7f; text-decoration-color: #7f7f7f\">5</span></a>\n",
       "</pre>\n"
      ],
      "text/plain": [
       "\u001b[2;36m                   \u001b[0m\u001b[2;36m \u001b[0m\u001b[34mINFO    \u001b[0m Performing clustering for \u001b[33mk\u001b[0m=\u001b[1;36m10\u001b[0m                                         \u001b]8;id=466756;file://C:\\Users\\hao_l\\AppData\\Local\\Temp\\ipykernel_10528\\1992391408.py\u001b\\\u001b[2m1992391408.py\u001b[0m\u001b]8;;\u001b\\\u001b[2m:\u001b[0m\u001b]8;id=280271;file://C:\\Users\\hao_l\\AppData\\Local\\Temp\\ipykernel_10528\\1992391408.py#5\u001b\\\u001b[2m5\u001b[0m\u001b]8;;\u001b\\\n"
      ]
     },
     "metadata": {},
     "output_type": "display_data"
    },
    {
     "data": {
      "text/html": [
       "<pre style=\"white-space:pre;overflow-x:auto;line-height:normal;font-family:Menlo,'DejaVu Sans Mono',consolas,'Courier New',monospace\"><span style=\"color: #7fbfbf; text-decoration-color: #7fbfbf\">[04/22/23 11:59:34] </span><span style=\"color: #000080; text-decoration-color: #000080\">INFO    </span> <span style=\"color: #808000; text-decoration-color: #808000\">k</span>=<span style=\"color: #008080; text-decoration-color: #008080; font-weight: bold\">10</span>, <span style=\"color: #808000; text-decoration-color: #808000\">cost</span>=<span style=\"color: #008080; text-decoration-color: #008080; font-weight: bold\">142000</span>, <span style=\"color: #808000; text-decoration-color: #808000\">n_iter</span>=<span style=\"color: #008080; text-decoration-color: #008080; font-weight: bold\">30</span>, <span style=\"color: #808000; text-decoration-color: #808000\">score</span>=<span style=\"color: #008080; text-decoration-color: #008080; font-weight: bold\">0.1203</span>                             <a href=\"file://C:\\Users\\hao_l\\AppData\\Local\\Temp\\ipykernel_10528\\1992391408.py\" target=\"_blank\"><span style=\"color: #7f7f7f; text-decoration-color: #7f7f7f\">1992391408.py</span></a><span style=\"color: #7f7f7f; text-decoration-color: #7f7f7f\">:</span><a href=\"file://C:\\Users\\hao_l\\AppData\\Local\\Temp\\ipykernel_10528\\1992391408.py#9\" target=\"_blank\"><span style=\"color: #7f7f7f; text-decoration-color: #7f7f7f\">9</span></a>\n",
       "</pre>\n"
      ],
      "text/plain": [
       "\u001b[2;36m[04/22/23 11:59:34]\u001b[0m\u001b[2;36m \u001b[0m\u001b[34mINFO    \u001b[0m \u001b[33mk\u001b[0m=\u001b[1;36m10\u001b[0m, \u001b[33mcost\u001b[0m=\u001b[1;36m142000\u001b[0m, \u001b[33mn_iter\u001b[0m=\u001b[1;36m30\u001b[0m, \u001b[33mscore\u001b[0m=\u001b[1;36m0\u001b[0m\u001b[1;36m.1203\u001b[0m                             \u001b]8;id=809390;file://C:\\Users\\hao_l\\AppData\\Local\\Temp\\ipykernel_10528\\1992391408.py\u001b\\\u001b[2m1992391408.py\u001b[0m\u001b]8;;\u001b\\\u001b[2m:\u001b[0m\u001b]8;id=149247;file://C:\\Users\\hao_l\\AppData\\Local\\Temp\\ipykernel_10528\\1992391408.py#9\u001b\\\u001b[2m9\u001b[0m\u001b]8;;\u001b\\\n"
      ]
     },
     "metadata": {},
     "output_type": "display_data"
    },
    {
     "data": {
      "text/html": [
       "<pre style=\"white-space:pre;overflow-x:auto;line-height:normal;font-family:Menlo,'DejaVu Sans Mono',consolas,'Courier New',monospace\"><span style=\"color: #7fbfbf; text-decoration-color: #7fbfbf\">                    </span><span style=\"color: #000080; text-decoration-color: #000080\">INFO    </span> Performing clustering for <span style=\"color: #808000; text-decoration-color: #808000\">k</span>=<span style=\"color: #008080; text-decoration-color: #008080; font-weight: bold\">11</span>                                         <a href=\"file://C:\\Users\\hao_l\\AppData\\Local\\Temp\\ipykernel_10528\\1992391408.py\" target=\"_blank\"><span style=\"color: #7f7f7f; text-decoration-color: #7f7f7f\">1992391408.py</span></a><span style=\"color: #7f7f7f; text-decoration-color: #7f7f7f\">:</span><a href=\"file://C:\\Users\\hao_l\\AppData\\Local\\Temp\\ipykernel_10528\\1992391408.py#5\" target=\"_blank\"><span style=\"color: #7f7f7f; text-decoration-color: #7f7f7f\">5</span></a>\n",
       "</pre>\n"
      ],
      "text/plain": [
       "\u001b[2;36m                   \u001b[0m\u001b[2;36m \u001b[0m\u001b[34mINFO    \u001b[0m Performing clustering for \u001b[33mk\u001b[0m=\u001b[1;36m11\u001b[0m                                         \u001b]8;id=861560;file://C:\\Users\\hao_l\\AppData\\Local\\Temp\\ipykernel_10528\\1992391408.py\u001b\\\u001b[2m1992391408.py\u001b[0m\u001b]8;;\u001b\\\u001b[2m:\u001b[0m\u001b]8;id=338429;file://C:\\Users\\hao_l\\AppData\\Local\\Temp\\ipykernel_10528\\1992391408.py#5\u001b\\\u001b[2m5\u001b[0m\u001b]8;;\u001b\\\n"
      ]
     },
     "metadata": {},
     "output_type": "display_data"
    },
    {
     "data": {
      "text/html": [
       "<pre style=\"white-space:pre;overflow-x:auto;line-height:normal;font-family:Menlo,'DejaVu Sans Mono',consolas,'Courier New',monospace\"><span style=\"color: #7fbfbf; text-decoration-color: #7fbfbf\">[04/22/23 12:01:32] </span><span style=\"color: #000080; text-decoration-color: #000080\">INFO    </span> <span style=\"color: #808000; text-decoration-color: #808000\">k</span>=<span style=\"color: #008080; text-decoration-color: #008080; font-weight: bold\">11</span>, <span style=\"color: #808000; text-decoration-color: #808000\">cost</span>=<span style=\"color: #008080; text-decoration-color: #008080; font-weight: bold\">137805</span>, <span style=\"color: #808000; text-decoration-color: #808000\">n_iter</span>=<span style=\"color: #008080; text-decoration-color: #008080; font-weight: bold\">28</span>, <span style=\"color: #808000; text-decoration-color: #808000\">score</span>=<span style=\"color: #008080; text-decoration-color: #008080; font-weight: bold\">0.1196</span>                             <a href=\"file://C:\\Users\\hao_l\\AppData\\Local\\Temp\\ipykernel_10528\\1992391408.py\" target=\"_blank\"><span style=\"color: #7f7f7f; text-decoration-color: #7f7f7f\">1992391408.py</span></a><span style=\"color: #7f7f7f; text-decoration-color: #7f7f7f\">:</span><a href=\"file://C:\\Users\\hao_l\\AppData\\Local\\Temp\\ipykernel_10528\\1992391408.py#9\" target=\"_blank\"><span style=\"color: #7f7f7f; text-decoration-color: #7f7f7f\">9</span></a>\n",
       "</pre>\n"
      ],
      "text/plain": [
       "\u001b[2;36m[04/22/23 12:01:32]\u001b[0m\u001b[2;36m \u001b[0m\u001b[34mINFO    \u001b[0m \u001b[33mk\u001b[0m=\u001b[1;36m11\u001b[0m, \u001b[33mcost\u001b[0m=\u001b[1;36m137805\u001b[0m, \u001b[33mn_iter\u001b[0m=\u001b[1;36m28\u001b[0m, \u001b[33mscore\u001b[0m=\u001b[1;36m0\u001b[0m\u001b[1;36m.1196\u001b[0m                             \u001b]8;id=238920;file://C:\\Users\\hao_l\\AppData\\Local\\Temp\\ipykernel_10528\\1992391408.py\u001b\\\u001b[2m1992391408.py\u001b[0m\u001b]8;;\u001b\\\u001b[2m:\u001b[0m\u001b]8;id=511580;file://C:\\Users\\hao_l\\AppData\\Local\\Temp\\ipykernel_10528\\1992391408.py#9\u001b\\\u001b[2m9\u001b[0m\u001b]8;;\u001b\\\n"
      ]
     },
     "metadata": {},
     "output_type": "display_data"
    },
    {
     "data": {
      "text/html": [
       "<pre style=\"white-space:pre;overflow-x:auto;line-height:normal;font-family:Menlo,'DejaVu Sans Mono',consolas,'Courier New',monospace\"><span style=\"color: #7fbfbf; text-decoration-color: #7fbfbf\">                    </span><span style=\"color: #000080; text-decoration-color: #000080\">INFO    </span> Performing clustering for <span style=\"color: #808000; text-decoration-color: #808000\">k</span>=<span style=\"color: #008080; text-decoration-color: #008080; font-weight: bold\">12</span>                                         <a href=\"file://C:\\Users\\hao_l\\AppData\\Local\\Temp\\ipykernel_10528\\1992391408.py\" target=\"_blank\"><span style=\"color: #7f7f7f; text-decoration-color: #7f7f7f\">1992391408.py</span></a><span style=\"color: #7f7f7f; text-decoration-color: #7f7f7f\">:</span><a href=\"file://C:\\Users\\hao_l\\AppData\\Local\\Temp\\ipykernel_10528\\1992391408.py#5\" target=\"_blank\"><span style=\"color: #7f7f7f; text-decoration-color: #7f7f7f\">5</span></a>\n",
       "</pre>\n"
      ],
      "text/plain": [
       "\u001b[2;36m                   \u001b[0m\u001b[2;36m \u001b[0m\u001b[34mINFO    \u001b[0m Performing clustering for \u001b[33mk\u001b[0m=\u001b[1;36m12\u001b[0m                                         \u001b]8;id=84674;file://C:\\Users\\hao_l\\AppData\\Local\\Temp\\ipykernel_10528\\1992391408.py\u001b\\\u001b[2m1992391408.py\u001b[0m\u001b]8;;\u001b\\\u001b[2m:\u001b[0m\u001b]8;id=446821;file://C:\\Users\\hao_l\\AppData\\Local\\Temp\\ipykernel_10528\\1992391408.py#5\u001b\\\u001b[2m5\u001b[0m\u001b]8;;\u001b\\\n"
      ]
     },
     "metadata": {},
     "output_type": "display_data"
    },
    {
     "data": {
      "text/html": [
       "<pre style=\"white-space:pre;overflow-x:auto;line-height:normal;font-family:Menlo,'DejaVu Sans Mono',consolas,'Courier New',monospace\"><span style=\"color: #7fbfbf; text-decoration-color: #7fbfbf\">[04/22/23 12:03:42] </span><span style=\"color: #000080; text-decoration-color: #000080\">INFO    </span> <span style=\"color: #808000; text-decoration-color: #808000\">k</span>=<span style=\"color: #008080; text-decoration-color: #008080; font-weight: bold\">12</span>, <span style=\"color: #808000; text-decoration-color: #808000\">cost</span>=<span style=\"color: #008080; text-decoration-color: #008080; font-weight: bold\">134230</span>, <span style=\"color: #808000; text-decoration-color: #808000\">n_iter</span>=<span style=\"color: #008080; text-decoration-color: #008080; font-weight: bold\">30</span>, <span style=\"color: #808000; text-decoration-color: #808000\">score</span>=<span style=\"color: #008080; text-decoration-color: #008080; font-weight: bold\">0.1172</span>                             <a href=\"file://C:\\Users\\hao_l\\AppData\\Local\\Temp\\ipykernel_10528\\1992391408.py\" target=\"_blank\"><span style=\"color: #7f7f7f; text-decoration-color: #7f7f7f\">1992391408.py</span></a><span style=\"color: #7f7f7f; text-decoration-color: #7f7f7f\">:</span><a href=\"file://C:\\Users\\hao_l\\AppData\\Local\\Temp\\ipykernel_10528\\1992391408.py#9\" target=\"_blank\"><span style=\"color: #7f7f7f; text-decoration-color: #7f7f7f\">9</span></a>\n",
       "</pre>\n"
      ],
      "text/plain": [
       "\u001b[2;36m[04/22/23 12:03:42]\u001b[0m\u001b[2;36m \u001b[0m\u001b[34mINFO    \u001b[0m \u001b[33mk\u001b[0m=\u001b[1;36m12\u001b[0m, \u001b[33mcost\u001b[0m=\u001b[1;36m134230\u001b[0m, \u001b[33mn_iter\u001b[0m=\u001b[1;36m30\u001b[0m, \u001b[33mscore\u001b[0m=\u001b[1;36m0\u001b[0m\u001b[1;36m.1172\u001b[0m                             \u001b]8;id=448211;file://C:\\Users\\hao_l\\AppData\\Local\\Temp\\ipykernel_10528\\1992391408.py\u001b\\\u001b[2m1992391408.py\u001b[0m\u001b]8;;\u001b\\\u001b[2m:\u001b[0m\u001b]8;id=209309;file://C:\\Users\\hao_l\\AppData\\Local\\Temp\\ipykernel_10528\\1992391408.py#9\u001b\\\u001b[2m9\u001b[0m\u001b]8;;\u001b\\\n"
      ]
     },
     "metadata": {},
     "output_type": "display_data"
    },
    {
     "data": {
      "text/html": [
       "<pre style=\"white-space:pre;overflow-x:auto;line-height:normal;font-family:Menlo,'DejaVu Sans Mono',consolas,'Courier New',monospace\"><span style=\"color: #7fbfbf; text-decoration-color: #7fbfbf\">                    </span><span style=\"color: #000080; text-decoration-color: #000080\">INFO    </span> Performing clustering for <span style=\"color: #808000; text-decoration-color: #808000\">k</span>=<span style=\"color: #008080; text-decoration-color: #008080; font-weight: bold\">13</span>                                         <a href=\"file://C:\\Users\\hao_l\\AppData\\Local\\Temp\\ipykernel_10528\\1992391408.py\" target=\"_blank\"><span style=\"color: #7f7f7f; text-decoration-color: #7f7f7f\">1992391408.py</span></a><span style=\"color: #7f7f7f; text-decoration-color: #7f7f7f\">:</span><a href=\"file://C:\\Users\\hao_l\\AppData\\Local\\Temp\\ipykernel_10528\\1992391408.py#5\" target=\"_blank\"><span style=\"color: #7f7f7f; text-decoration-color: #7f7f7f\">5</span></a>\n",
       "</pre>\n"
      ],
      "text/plain": [
       "\u001b[2;36m                   \u001b[0m\u001b[2;36m \u001b[0m\u001b[34mINFO    \u001b[0m Performing clustering for \u001b[33mk\u001b[0m=\u001b[1;36m13\u001b[0m                                         \u001b]8;id=681150;file://C:\\Users\\hao_l\\AppData\\Local\\Temp\\ipykernel_10528\\1992391408.py\u001b\\\u001b[2m1992391408.py\u001b[0m\u001b]8;;\u001b\\\u001b[2m:\u001b[0m\u001b]8;id=25134;file://C:\\Users\\hao_l\\AppData\\Local\\Temp\\ipykernel_10528\\1992391408.py#5\u001b\\\u001b[2m5\u001b[0m\u001b]8;;\u001b\\\n"
      ]
     },
     "metadata": {},
     "output_type": "display_data"
    },
    {
     "data": {
      "text/html": [
       "<pre style=\"white-space:pre;overflow-x:auto;line-height:normal;font-family:Menlo,'DejaVu Sans Mono',consolas,'Courier New',monospace\"><span style=\"color: #7fbfbf; text-decoration-color: #7fbfbf\">[04/22/23 12:05:51] </span><span style=\"color: #000080; text-decoration-color: #000080\">INFO    </span> <span style=\"color: #808000; text-decoration-color: #808000\">k</span>=<span style=\"color: #008080; text-decoration-color: #008080; font-weight: bold\">13</span>, <span style=\"color: #808000; text-decoration-color: #808000\">cost</span>=<span style=\"color: #008080; text-decoration-color: #008080; font-weight: bold\">130877</span>, <span style=\"color: #808000; text-decoration-color: #808000\">n_iter</span>=<span style=\"color: #008080; text-decoration-color: #008080; font-weight: bold\">30</span>, <span style=\"color: #808000; text-decoration-color: #808000\">score</span>=<span style=\"color: #008080; text-decoration-color: #008080; font-weight: bold\">0.1188</span>                             <a href=\"file://C:\\Users\\hao_l\\AppData\\Local\\Temp\\ipykernel_10528\\1992391408.py\" target=\"_blank\"><span style=\"color: #7f7f7f; text-decoration-color: #7f7f7f\">1992391408.py</span></a><span style=\"color: #7f7f7f; text-decoration-color: #7f7f7f\">:</span><a href=\"file://C:\\Users\\hao_l\\AppData\\Local\\Temp\\ipykernel_10528\\1992391408.py#9\" target=\"_blank\"><span style=\"color: #7f7f7f; text-decoration-color: #7f7f7f\">9</span></a>\n",
       "</pre>\n"
      ],
      "text/plain": [
       "\u001b[2;36m[04/22/23 12:05:51]\u001b[0m\u001b[2;36m \u001b[0m\u001b[34mINFO    \u001b[0m \u001b[33mk\u001b[0m=\u001b[1;36m13\u001b[0m, \u001b[33mcost\u001b[0m=\u001b[1;36m130877\u001b[0m, \u001b[33mn_iter\u001b[0m=\u001b[1;36m30\u001b[0m, \u001b[33mscore\u001b[0m=\u001b[1;36m0\u001b[0m\u001b[1;36m.1188\u001b[0m                             \u001b]8;id=788107;file://C:\\Users\\hao_l\\AppData\\Local\\Temp\\ipykernel_10528\\1992391408.py\u001b\\\u001b[2m1992391408.py\u001b[0m\u001b]8;;\u001b\\\u001b[2m:\u001b[0m\u001b]8;id=537722;file://C:\\Users\\hao_l\\AppData\\Local\\Temp\\ipykernel_10528\\1992391408.py#9\u001b\\\u001b[2m9\u001b[0m\u001b]8;;\u001b\\\n"
      ]
     },
     "metadata": {},
     "output_type": "display_data"
    },
    {
     "data": {
      "text/html": [
       "<pre style=\"white-space:pre;overflow-x:auto;line-height:normal;font-family:Menlo,'DejaVu Sans Mono',consolas,'Courier New',monospace\"><span style=\"color: #7fbfbf; text-decoration-color: #7fbfbf\">                    </span><span style=\"color: #000080; text-decoration-color: #000080\">INFO    </span> Performing clustering for <span style=\"color: #808000; text-decoration-color: #808000\">k</span>=<span style=\"color: #008080; text-decoration-color: #008080; font-weight: bold\">14</span>                                         <a href=\"file://C:\\Users\\hao_l\\AppData\\Local\\Temp\\ipykernel_10528\\1992391408.py\" target=\"_blank\"><span style=\"color: #7f7f7f; text-decoration-color: #7f7f7f\">1992391408.py</span></a><span style=\"color: #7f7f7f; text-decoration-color: #7f7f7f\">:</span><a href=\"file://C:\\Users\\hao_l\\AppData\\Local\\Temp\\ipykernel_10528\\1992391408.py#5\" target=\"_blank\"><span style=\"color: #7f7f7f; text-decoration-color: #7f7f7f\">5</span></a>\n",
       "</pre>\n"
      ],
      "text/plain": [
       "\u001b[2;36m                   \u001b[0m\u001b[2;36m \u001b[0m\u001b[34mINFO    \u001b[0m Performing clustering for \u001b[33mk\u001b[0m=\u001b[1;36m14\u001b[0m                                         \u001b]8;id=248535;file://C:\\Users\\hao_l\\AppData\\Local\\Temp\\ipykernel_10528\\1992391408.py\u001b\\\u001b[2m1992391408.py\u001b[0m\u001b]8;;\u001b\\\u001b[2m:\u001b[0m\u001b]8;id=892507;file://C:\\Users\\hao_l\\AppData\\Local\\Temp\\ipykernel_10528\\1992391408.py#5\u001b\\\u001b[2m5\u001b[0m\u001b]8;;\u001b\\\n"
      ]
     },
     "metadata": {},
     "output_type": "display_data"
    },
    {
     "data": {
      "text/html": [
       "<pre style=\"white-space:pre;overflow-x:auto;line-height:normal;font-family:Menlo,'DejaVu Sans Mono',consolas,'Courier New',monospace\"><span style=\"color: #7fbfbf; text-decoration-color: #7fbfbf\">[04/22/23 12:08:05] </span><span style=\"color: #000080; text-decoration-color: #000080\">INFO    </span> <span style=\"color: #808000; text-decoration-color: #808000\">k</span>=<span style=\"color: #008080; text-decoration-color: #008080; font-weight: bold\">14</span>, <span style=\"color: #808000; text-decoration-color: #808000\">cost</span>=<span style=\"color: #008080; text-decoration-color: #008080; font-weight: bold\">127700</span>, <span style=\"color: #808000; text-decoration-color: #808000\">n_iter</span>=<span style=\"color: #008080; text-decoration-color: #008080; font-weight: bold\">30</span>, <span style=\"color: #808000; text-decoration-color: #808000\">score</span>=<span style=\"color: #008080; text-decoration-color: #008080; font-weight: bold\">0.1194</span>                             <a href=\"file://C:\\Users\\hao_l\\AppData\\Local\\Temp\\ipykernel_10528\\1992391408.py\" target=\"_blank\"><span style=\"color: #7f7f7f; text-decoration-color: #7f7f7f\">1992391408.py</span></a><span style=\"color: #7f7f7f; text-decoration-color: #7f7f7f\">:</span><a href=\"file://C:\\Users\\hao_l\\AppData\\Local\\Temp\\ipykernel_10528\\1992391408.py#9\" target=\"_blank\"><span style=\"color: #7f7f7f; text-decoration-color: #7f7f7f\">9</span></a>\n",
       "</pre>\n"
      ],
      "text/plain": [
       "\u001b[2;36m[04/22/23 12:08:05]\u001b[0m\u001b[2;36m \u001b[0m\u001b[34mINFO    \u001b[0m \u001b[33mk\u001b[0m=\u001b[1;36m14\u001b[0m, \u001b[33mcost\u001b[0m=\u001b[1;36m127700\u001b[0m, \u001b[33mn_iter\u001b[0m=\u001b[1;36m30\u001b[0m, \u001b[33mscore\u001b[0m=\u001b[1;36m0\u001b[0m\u001b[1;36m.1194\u001b[0m                             \u001b]8;id=857456;file://C:\\Users\\hao_l\\AppData\\Local\\Temp\\ipykernel_10528\\1992391408.py\u001b\\\u001b[2m1992391408.py\u001b[0m\u001b]8;;\u001b\\\u001b[2m:\u001b[0m\u001b]8;id=985818;file://C:\\Users\\hao_l\\AppData\\Local\\Temp\\ipykernel_10528\\1992391408.py#9\u001b\\\u001b[2m9\u001b[0m\u001b]8;;\u001b\\\n"
      ]
     },
     "metadata": {},
     "output_type": "display_data"
    },
    {
     "data": {
      "text/html": [
       "<pre style=\"white-space:pre;overflow-x:auto;line-height:normal;font-family:Menlo,'DejaVu Sans Mono',consolas,'Courier New',monospace\"><span style=\"color: #7fbfbf; text-decoration-color: #7fbfbf\">                    </span><span style=\"color: #000080; text-decoration-color: #000080\">INFO    </span> Performing clustering for <span style=\"color: #808000; text-decoration-color: #808000\">k</span>=<span style=\"color: #008080; text-decoration-color: #008080; font-weight: bold\">15</span>                                         <a href=\"file://C:\\Users\\hao_l\\AppData\\Local\\Temp\\ipykernel_10528\\1992391408.py\" target=\"_blank\"><span style=\"color: #7f7f7f; text-decoration-color: #7f7f7f\">1992391408.py</span></a><span style=\"color: #7f7f7f; text-decoration-color: #7f7f7f\">:</span><a href=\"file://C:\\Users\\hao_l\\AppData\\Local\\Temp\\ipykernel_10528\\1992391408.py#5\" target=\"_blank\"><span style=\"color: #7f7f7f; text-decoration-color: #7f7f7f\">5</span></a>\n",
       "</pre>\n"
      ],
      "text/plain": [
       "\u001b[2;36m                   \u001b[0m\u001b[2;36m \u001b[0m\u001b[34mINFO    \u001b[0m Performing clustering for \u001b[33mk\u001b[0m=\u001b[1;36m15\u001b[0m                                         \u001b]8;id=941687;file://C:\\Users\\hao_l\\AppData\\Local\\Temp\\ipykernel_10528\\1992391408.py\u001b\\\u001b[2m1992391408.py\u001b[0m\u001b]8;;\u001b\\\u001b[2m:\u001b[0m\u001b]8;id=626128;file://C:\\Users\\hao_l\\AppData\\Local\\Temp\\ipykernel_10528\\1992391408.py#5\u001b\\\u001b[2m5\u001b[0m\u001b]8;;\u001b\\\n"
      ]
     },
     "metadata": {},
     "output_type": "display_data"
    },
    {
     "data": {
      "text/html": [
       "<pre style=\"white-space:pre;overflow-x:auto;line-height:normal;font-family:Menlo,'DejaVu Sans Mono',consolas,'Courier New',monospace\"><span style=\"color: #7fbfbf; text-decoration-color: #7fbfbf\">[04/22/23 12:10:18] </span><span style=\"color: #000080; text-decoration-color: #000080\">INFO    </span> <span style=\"color: #808000; text-decoration-color: #808000\">k</span>=<span style=\"color: #008080; text-decoration-color: #008080; font-weight: bold\">15</span>, <span style=\"color: #808000; text-decoration-color: #808000\">cost</span>=<span style=\"color: #008080; text-decoration-color: #008080; font-weight: bold\">125657</span>, <span style=\"color: #808000; text-decoration-color: #808000\">n_iter</span>=<span style=\"color: #008080; text-decoration-color: #008080; font-weight: bold\">22</span>, <span style=\"color: #808000; text-decoration-color: #808000\">score</span>=<span style=\"color: #008080; text-decoration-color: #008080; font-weight: bold\">0.1102</span>                             <a href=\"file://C:\\Users\\hao_l\\AppData\\Local\\Temp\\ipykernel_10528\\1992391408.py\" target=\"_blank\"><span style=\"color: #7f7f7f; text-decoration-color: #7f7f7f\">1992391408.py</span></a><span style=\"color: #7f7f7f; text-decoration-color: #7f7f7f\">:</span><a href=\"file://C:\\Users\\hao_l\\AppData\\Local\\Temp\\ipykernel_10528\\1992391408.py#9\" target=\"_blank\"><span style=\"color: #7f7f7f; text-decoration-color: #7f7f7f\">9</span></a>\n",
       "</pre>\n"
      ],
      "text/plain": [
       "\u001b[2;36m[04/22/23 12:10:18]\u001b[0m\u001b[2;36m \u001b[0m\u001b[34mINFO    \u001b[0m \u001b[33mk\u001b[0m=\u001b[1;36m15\u001b[0m, \u001b[33mcost\u001b[0m=\u001b[1;36m125657\u001b[0m, \u001b[33mn_iter\u001b[0m=\u001b[1;36m22\u001b[0m, \u001b[33mscore\u001b[0m=\u001b[1;36m0\u001b[0m\u001b[1;36m.1102\u001b[0m                             \u001b]8;id=607513;file://C:\\Users\\hao_l\\AppData\\Local\\Temp\\ipykernel_10528\\1992391408.py\u001b\\\u001b[2m1992391408.py\u001b[0m\u001b]8;;\u001b\\\u001b[2m:\u001b[0m\u001b]8;id=928624;file://C:\\Users\\hao_l\\AppData\\Local\\Temp\\ipykernel_10528\\1992391408.py#9\u001b\\\u001b[2m9\u001b[0m\u001b]8;;\u001b\\\n"
      ]
     },
     "metadata": {},
     "output_type": "display_data"
    },
    {
     "data": {
      "text/html": [
       "<pre style=\"white-space:pre;overflow-x:auto;line-height:normal;font-family:Menlo,'DejaVu Sans Mono',consolas,'Courier New',monospace\"><span style=\"color: #7fbfbf; text-decoration-color: #7fbfbf\">                    </span><span style=\"color: #000080; text-decoration-color: #000080\">INFO    </span> Performing clustering for <span style=\"color: #808000; text-decoration-color: #808000\">k</span>=<span style=\"color: #008080; text-decoration-color: #008080; font-weight: bold\">16</span>                                         <a href=\"file://C:\\Users\\hao_l\\AppData\\Local\\Temp\\ipykernel_10528\\1992391408.py\" target=\"_blank\"><span style=\"color: #7f7f7f; text-decoration-color: #7f7f7f\">1992391408.py</span></a><span style=\"color: #7f7f7f; text-decoration-color: #7f7f7f\">:</span><a href=\"file://C:\\Users\\hao_l\\AppData\\Local\\Temp\\ipykernel_10528\\1992391408.py#5\" target=\"_blank\"><span style=\"color: #7f7f7f; text-decoration-color: #7f7f7f\">5</span></a>\n",
       "</pre>\n"
      ],
      "text/plain": [
       "\u001b[2;36m                   \u001b[0m\u001b[2;36m \u001b[0m\u001b[34mINFO    \u001b[0m Performing clustering for \u001b[33mk\u001b[0m=\u001b[1;36m16\u001b[0m                                         \u001b]8;id=104246;file://C:\\Users\\hao_l\\AppData\\Local\\Temp\\ipykernel_10528\\1992391408.py\u001b\\\u001b[2m1992391408.py\u001b[0m\u001b]8;;\u001b\\\u001b[2m:\u001b[0m\u001b]8;id=708470;file://C:\\Users\\hao_l\\AppData\\Local\\Temp\\ipykernel_10528\\1992391408.py#5\u001b\\\u001b[2m5\u001b[0m\u001b]8;;\u001b\\\n"
      ]
     },
     "metadata": {},
     "output_type": "display_data"
    },
    {
     "data": {
      "text/html": [
       "<pre style=\"white-space:pre;overflow-x:auto;line-height:normal;font-family:Menlo,'DejaVu Sans Mono',consolas,'Courier New',monospace\"><span style=\"color: #7fbfbf; text-decoration-color: #7fbfbf\">[04/22/23 12:12:31] </span><span style=\"color: #000080; text-decoration-color: #000080\">INFO    </span> <span style=\"color: #808000; text-decoration-color: #808000\">k</span>=<span style=\"color: #008080; text-decoration-color: #008080; font-weight: bold\">16</span>, <span style=\"color: #808000; text-decoration-color: #808000\">cost</span>=<span style=\"color: #008080; text-decoration-color: #008080; font-weight: bold\">122698</span>, <span style=\"color: #808000; text-decoration-color: #808000\">n_iter</span>=<span style=\"color: #008080; text-decoration-color: #008080; font-weight: bold\">30</span>, <span style=\"color: #808000; text-decoration-color: #808000\">score</span>=<span style=\"color: #008080; text-decoration-color: #008080; font-weight: bold\">0.1130</span>                             <a href=\"file://C:\\Users\\hao_l\\AppData\\Local\\Temp\\ipykernel_10528\\1992391408.py\" target=\"_blank\"><span style=\"color: #7f7f7f; text-decoration-color: #7f7f7f\">1992391408.py</span></a><span style=\"color: #7f7f7f; text-decoration-color: #7f7f7f\">:</span><a href=\"file://C:\\Users\\hao_l\\AppData\\Local\\Temp\\ipykernel_10528\\1992391408.py#9\" target=\"_blank\"><span style=\"color: #7f7f7f; text-decoration-color: #7f7f7f\">9</span></a>\n",
       "</pre>\n"
      ],
      "text/plain": [
       "\u001b[2;36m[04/22/23 12:12:31]\u001b[0m\u001b[2;36m \u001b[0m\u001b[34mINFO    \u001b[0m \u001b[33mk\u001b[0m=\u001b[1;36m16\u001b[0m, \u001b[33mcost\u001b[0m=\u001b[1;36m122698\u001b[0m, \u001b[33mn_iter\u001b[0m=\u001b[1;36m30\u001b[0m, \u001b[33mscore\u001b[0m=\u001b[1;36m0\u001b[0m\u001b[1;36m.1130\u001b[0m                             \u001b]8;id=863697;file://C:\\Users\\hao_l\\AppData\\Local\\Temp\\ipykernel_10528\\1992391408.py\u001b\\\u001b[2m1992391408.py\u001b[0m\u001b]8;;\u001b\\\u001b[2m:\u001b[0m\u001b]8;id=98899;file://C:\\Users\\hao_l\\AppData\\Local\\Temp\\ipykernel_10528\\1992391408.py#9\u001b\\\u001b[2m9\u001b[0m\u001b]8;;\u001b\\\n"
      ]
     },
     "metadata": {},
     "output_type": "display_data"
    },
    {
     "data": {
      "text/html": [
       "<pre style=\"white-space:pre;overflow-x:auto;line-height:normal;font-family:Menlo,'DejaVu Sans Mono',consolas,'Courier New',monospace\"><span style=\"color: #7fbfbf; text-decoration-color: #7fbfbf\">                    </span><span style=\"color: #000080; text-decoration-color: #000080\">INFO    </span> Performing clustering for <span style=\"color: #808000; text-decoration-color: #808000\">k</span>=<span style=\"color: #008080; text-decoration-color: #008080; font-weight: bold\">17</span>                                         <a href=\"file://C:\\Users\\hao_l\\AppData\\Local\\Temp\\ipykernel_10528\\1992391408.py\" target=\"_blank\"><span style=\"color: #7f7f7f; text-decoration-color: #7f7f7f\">1992391408.py</span></a><span style=\"color: #7f7f7f; text-decoration-color: #7f7f7f\">:</span><a href=\"file://C:\\Users\\hao_l\\AppData\\Local\\Temp\\ipykernel_10528\\1992391408.py#5\" target=\"_blank\"><span style=\"color: #7f7f7f; text-decoration-color: #7f7f7f\">5</span></a>\n",
       "</pre>\n"
      ],
      "text/plain": [
       "\u001b[2;36m                   \u001b[0m\u001b[2;36m \u001b[0m\u001b[34mINFO    \u001b[0m Performing clustering for \u001b[33mk\u001b[0m=\u001b[1;36m17\u001b[0m                                         \u001b]8;id=572000;file://C:\\Users\\hao_l\\AppData\\Local\\Temp\\ipykernel_10528\\1992391408.py\u001b\\\u001b[2m1992391408.py\u001b[0m\u001b]8;;\u001b\\\u001b[2m:\u001b[0m\u001b]8;id=549650;file://C:\\Users\\hao_l\\AppData\\Local\\Temp\\ipykernel_10528\\1992391408.py#5\u001b\\\u001b[2m5\u001b[0m\u001b]8;;\u001b\\\n"
      ]
     },
     "metadata": {},
     "output_type": "display_data"
    },
    {
     "data": {
      "text/html": [
       "<pre style=\"white-space:pre;overflow-x:auto;line-height:normal;font-family:Menlo,'DejaVu Sans Mono',consolas,'Courier New',monospace\"><span style=\"color: #7fbfbf; text-decoration-color: #7fbfbf\">[04/22/23 12:14:55] </span><span style=\"color: #000080; text-decoration-color: #000080\">INFO    </span> <span style=\"color: #808000; text-decoration-color: #808000\">k</span>=<span style=\"color: #008080; text-decoration-color: #008080; font-weight: bold\">17</span>, <span style=\"color: #808000; text-decoration-color: #808000\">cost</span>=<span style=\"color: #008080; text-decoration-color: #008080; font-weight: bold\">120705</span>, <span style=\"color: #808000; text-decoration-color: #808000\">n_iter</span>=<span style=\"color: #008080; text-decoration-color: #008080; font-weight: bold\">30</span>, <span style=\"color: #808000; text-decoration-color: #808000\">score</span>=<span style=\"color: #008080; text-decoration-color: #008080; font-weight: bold\">0.1169</span>                             <a href=\"file://C:\\Users\\hao_l\\AppData\\Local\\Temp\\ipykernel_10528\\1992391408.py\" target=\"_blank\"><span style=\"color: #7f7f7f; text-decoration-color: #7f7f7f\">1992391408.py</span></a><span style=\"color: #7f7f7f; text-decoration-color: #7f7f7f\">:</span><a href=\"file://C:\\Users\\hao_l\\AppData\\Local\\Temp\\ipykernel_10528\\1992391408.py#9\" target=\"_blank\"><span style=\"color: #7f7f7f; text-decoration-color: #7f7f7f\">9</span></a>\n",
       "</pre>\n"
      ],
      "text/plain": [
       "\u001b[2;36m[04/22/23 12:14:55]\u001b[0m\u001b[2;36m \u001b[0m\u001b[34mINFO    \u001b[0m \u001b[33mk\u001b[0m=\u001b[1;36m17\u001b[0m, \u001b[33mcost\u001b[0m=\u001b[1;36m120705\u001b[0m, \u001b[33mn_iter\u001b[0m=\u001b[1;36m30\u001b[0m, \u001b[33mscore\u001b[0m=\u001b[1;36m0\u001b[0m\u001b[1;36m.1169\u001b[0m                             \u001b]8;id=659317;file://C:\\Users\\hao_l\\AppData\\Local\\Temp\\ipykernel_10528\\1992391408.py\u001b\\\u001b[2m1992391408.py\u001b[0m\u001b]8;;\u001b\\\u001b[2m:\u001b[0m\u001b]8;id=929779;file://C:\\Users\\hao_l\\AppData\\Local\\Temp\\ipykernel_10528\\1992391408.py#9\u001b\\\u001b[2m9\u001b[0m\u001b]8;;\u001b\\\n"
      ]
     },
     "metadata": {},
     "output_type": "display_data"
    },
    {
     "data": {
      "text/html": [
       "<pre style=\"white-space:pre;overflow-x:auto;line-height:normal;font-family:Menlo,'DejaVu Sans Mono',consolas,'Courier New',monospace\"><span style=\"color: #7fbfbf; text-decoration-color: #7fbfbf\">                    </span><span style=\"color: #000080; text-decoration-color: #000080\">INFO    </span> Performing clustering for <span style=\"color: #808000; text-decoration-color: #808000\">k</span>=<span style=\"color: #008080; text-decoration-color: #008080; font-weight: bold\">18</span>                                         <a href=\"file://C:\\Users\\hao_l\\AppData\\Local\\Temp\\ipykernel_10528\\1992391408.py\" target=\"_blank\"><span style=\"color: #7f7f7f; text-decoration-color: #7f7f7f\">1992391408.py</span></a><span style=\"color: #7f7f7f; text-decoration-color: #7f7f7f\">:</span><a href=\"file://C:\\Users\\hao_l\\AppData\\Local\\Temp\\ipykernel_10528\\1992391408.py#5\" target=\"_blank\"><span style=\"color: #7f7f7f; text-decoration-color: #7f7f7f\">5</span></a>\n",
       "</pre>\n"
      ],
      "text/plain": [
       "\u001b[2;36m                   \u001b[0m\u001b[2;36m \u001b[0m\u001b[34mINFO    \u001b[0m Performing clustering for \u001b[33mk\u001b[0m=\u001b[1;36m18\u001b[0m                                         \u001b]8;id=345106;file://C:\\Users\\hao_l\\AppData\\Local\\Temp\\ipykernel_10528\\1992391408.py\u001b\\\u001b[2m1992391408.py\u001b[0m\u001b]8;;\u001b\\\u001b[2m:\u001b[0m\u001b]8;id=696359;file://C:\\Users\\hao_l\\AppData\\Local\\Temp\\ipykernel_10528\\1992391408.py#5\u001b\\\u001b[2m5\u001b[0m\u001b]8;;\u001b\\\n"
      ]
     },
     "metadata": {},
     "output_type": "display_data"
    },
    {
     "data": {
      "text/html": [
       "<pre style=\"white-space:pre;overflow-x:auto;line-height:normal;font-family:Menlo,'DejaVu Sans Mono',consolas,'Courier New',monospace\"><span style=\"color: #7fbfbf; text-decoration-color: #7fbfbf\">[04/22/23 12:17:06] </span><span style=\"color: #000080; text-decoration-color: #000080\">INFO    </span> <span style=\"color: #808000; text-decoration-color: #808000\">k</span>=<span style=\"color: #008080; text-decoration-color: #008080; font-weight: bold\">18</span>, <span style=\"color: #808000; text-decoration-color: #808000\">cost</span>=<span style=\"color: #008080; text-decoration-color: #008080; font-weight: bold\">118739</span>, <span style=\"color: #808000; text-decoration-color: #808000\">n_iter</span>=<span style=\"color: #008080; text-decoration-color: #008080; font-weight: bold\">30</span>, <span style=\"color: #808000; text-decoration-color: #808000\">score</span>=<span style=\"color: #008080; text-decoration-color: #008080; font-weight: bold\">0.1170</span>                             <a href=\"file://C:\\Users\\hao_l\\AppData\\Local\\Temp\\ipykernel_10528\\1992391408.py\" target=\"_blank\"><span style=\"color: #7f7f7f; text-decoration-color: #7f7f7f\">1992391408.py</span></a><span style=\"color: #7f7f7f; text-decoration-color: #7f7f7f\">:</span><a href=\"file://C:\\Users\\hao_l\\AppData\\Local\\Temp\\ipykernel_10528\\1992391408.py#9\" target=\"_blank\"><span style=\"color: #7f7f7f; text-decoration-color: #7f7f7f\">9</span></a>\n",
       "</pre>\n"
      ],
      "text/plain": [
       "\u001b[2;36m[04/22/23 12:17:06]\u001b[0m\u001b[2;36m \u001b[0m\u001b[34mINFO    \u001b[0m \u001b[33mk\u001b[0m=\u001b[1;36m18\u001b[0m, \u001b[33mcost\u001b[0m=\u001b[1;36m118739\u001b[0m, \u001b[33mn_iter\u001b[0m=\u001b[1;36m30\u001b[0m, \u001b[33mscore\u001b[0m=\u001b[1;36m0\u001b[0m\u001b[1;36m.1170\u001b[0m                             \u001b]8;id=446068;file://C:\\Users\\hao_l\\AppData\\Local\\Temp\\ipykernel_10528\\1992391408.py\u001b\\\u001b[2m1992391408.py\u001b[0m\u001b]8;;\u001b\\\u001b[2m:\u001b[0m\u001b]8;id=149004;file://C:\\Users\\hao_l\\AppData\\Local\\Temp\\ipykernel_10528\\1992391408.py#9\u001b\\\u001b[2m9\u001b[0m\u001b]8;;\u001b\\\n"
      ]
     },
     "metadata": {},
     "output_type": "display_data"
    },
    {
     "data": {
      "text/html": [
       "<pre style=\"white-space:pre;overflow-x:auto;line-height:normal;font-family:Menlo,'DejaVu Sans Mono',consolas,'Courier New',monospace\"><span style=\"color: #7fbfbf; text-decoration-color: #7fbfbf\">                    </span><span style=\"color: #000080; text-decoration-color: #000080\">INFO    </span> Performing clustering for <span style=\"color: #808000; text-decoration-color: #808000\">k</span>=<span style=\"color: #008080; text-decoration-color: #008080; font-weight: bold\">19</span>                                         <a href=\"file://C:\\Users\\hao_l\\AppData\\Local\\Temp\\ipykernel_10528\\1992391408.py\" target=\"_blank\"><span style=\"color: #7f7f7f; text-decoration-color: #7f7f7f\">1992391408.py</span></a><span style=\"color: #7f7f7f; text-decoration-color: #7f7f7f\">:</span><a href=\"file://C:\\Users\\hao_l\\AppData\\Local\\Temp\\ipykernel_10528\\1992391408.py#5\" target=\"_blank\"><span style=\"color: #7f7f7f; text-decoration-color: #7f7f7f\">5</span></a>\n",
       "</pre>\n"
      ],
      "text/plain": [
       "\u001b[2;36m                   \u001b[0m\u001b[2;36m \u001b[0m\u001b[34mINFO    \u001b[0m Performing clustering for \u001b[33mk\u001b[0m=\u001b[1;36m19\u001b[0m                                         \u001b]8;id=257686;file://C:\\Users\\hao_l\\AppData\\Local\\Temp\\ipykernel_10528\\1992391408.py\u001b\\\u001b[2m1992391408.py\u001b[0m\u001b]8;;\u001b\\\u001b[2m:\u001b[0m\u001b]8;id=668159;file://C:\\Users\\hao_l\\AppData\\Local\\Temp\\ipykernel_10528\\1992391408.py#5\u001b\\\u001b[2m5\u001b[0m\u001b]8;;\u001b\\\n"
      ]
     },
     "metadata": {},
     "output_type": "display_data"
    },
    {
     "data": {
      "text/html": [
       "<pre style=\"white-space:pre;overflow-x:auto;line-height:normal;font-family:Menlo,'DejaVu Sans Mono',consolas,'Courier New',monospace\"><span style=\"color: #7fbfbf; text-decoration-color: #7fbfbf\">[04/22/23 12:19:30] </span><span style=\"color: #000080; text-decoration-color: #000080\">INFO    </span> <span style=\"color: #808000; text-decoration-color: #808000\">k</span>=<span style=\"color: #008080; text-decoration-color: #008080; font-weight: bold\">19</span>, <span style=\"color: #808000; text-decoration-color: #808000\">cost</span>=<span style=\"color: #008080; text-decoration-color: #008080; font-weight: bold\">117381</span>, <span style=\"color: #808000; text-decoration-color: #808000\">n_iter</span>=<span style=\"color: #008080; text-decoration-color: #008080; font-weight: bold\">30</span>, <span style=\"color: #808000; text-decoration-color: #808000\">score</span>=<span style=\"color: #008080; text-decoration-color: #008080; font-weight: bold\">0.1150</span>                             <a href=\"file://C:\\Users\\hao_l\\AppData\\Local\\Temp\\ipykernel_10528\\1992391408.py\" target=\"_blank\"><span style=\"color: #7f7f7f; text-decoration-color: #7f7f7f\">1992391408.py</span></a><span style=\"color: #7f7f7f; text-decoration-color: #7f7f7f\">:</span><a href=\"file://C:\\Users\\hao_l\\AppData\\Local\\Temp\\ipykernel_10528\\1992391408.py#9\" target=\"_blank\"><span style=\"color: #7f7f7f; text-decoration-color: #7f7f7f\">9</span></a>\n",
       "</pre>\n"
      ],
      "text/plain": [
       "\u001b[2;36m[04/22/23 12:19:30]\u001b[0m\u001b[2;36m \u001b[0m\u001b[34mINFO    \u001b[0m \u001b[33mk\u001b[0m=\u001b[1;36m19\u001b[0m, \u001b[33mcost\u001b[0m=\u001b[1;36m117381\u001b[0m, \u001b[33mn_iter\u001b[0m=\u001b[1;36m30\u001b[0m, \u001b[33mscore\u001b[0m=\u001b[1;36m0\u001b[0m\u001b[1;36m.1150\u001b[0m                             \u001b]8;id=178142;file://C:\\Users\\hao_l\\AppData\\Local\\Temp\\ipykernel_10528\\1992391408.py\u001b\\\u001b[2m1992391408.py\u001b[0m\u001b]8;;\u001b\\\u001b[2m:\u001b[0m\u001b]8;id=578217;file://C:\\Users\\hao_l\\AppData\\Local\\Temp\\ipykernel_10528\\1992391408.py#9\u001b\\\u001b[2m9\u001b[0m\u001b]8;;\u001b\\\n"
      ]
     },
     "metadata": {},
     "output_type": "display_data"
    },
    {
     "data": {
      "text/html": [
       "<pre style=\"white-space:pre;overflow-x:auto;line-height:normal;font-family:Menlo,'DejaVu Sans Mono',consolas,'Courier New',monospace\"><span style=\"color: #7fbfbf; text-decoration-color: #7fbfbf\">                    </span><span style=\"color: #000080; text-decoration-color: #000080\">INFO    </span> Performing clustering for <span style=\"color: #808000; text-decoration-color: #808000\">k</span>=<span style=\"color: #008080; text-decoration-color: #008080; font-weight: bold\">20</span>                                         <a href=\"file://C:\\Users\\hao_l\\AppData\\Local\\Temp\\ipykernel_10528\\1992391408.py\" target=\"_blank\"><span style=\"color: #7f7f7f; text-decoration-color: #7f7f7f\">1992391408.py</span></a><span style=\"color: #7f7f7f; text-decoration-color: #7f7f7f\">:</span><a href=\"file://C:\\Users\\hao_l\\AppData\\Local\\Temp\\ipykernel_10528\\1992391408.py#5\" target=\"_blank\"><span style=\"color: #7f7f7f; text-decoration-color: #7f7f7f\">5</span></a>\n",
       "</pre>\n"
      ],
      "text/plain": [
       "\u001b[2;36m                   \u001b[0m\u001b[2;36m \u001b[0m\u001b[34mINFO    \u001b[0m Performing clustering for \u001b[33mk\u001b[0m=\u001b[1;36m20\u001b[0m                                         \u001b]8;id=304018;file://C:\\Users\\hao_l\\AppData\\Local\\Temp\\ipykernel_10528\\1992391408.py\u001b\\\u001b[2m1992391408.py\u001b[0m\u001b]8;;\u001b\\\u001b[2m:\u001b[0m\u001b]8;id=448134;file://C:\\Users\\hao_l\\AppData\\Local\\Temp\\ipykernel_10528\\1992391408.py#5\u001b\\\u001b[2m5\u001b[0m\u001b]8;;\u001b\\\n"
      ]
     },
     "metadata": {},
     "output_type": "display_data"
    },
    {
     "data": {
      "text/html": [
       "<pre style=\"white-space:pre;overflow-x:auto;line-height:normal;font-family:Menlo,'DejaVu Sans Mono',consolas,'Courier New',monospace\"><span style=\"color: #7fbfbf; text-decoration-color: #7fbfbf\">[04/22/23 12:21:56] </span><span style=\"color: #000080; text-decoration-color: #000080\">INFO    </span> <span style=\"color: #808000; text-decoration-color: #808000\">k</span>=<span style=\"color: #008080; text-decoration-color: #008080; font-weight: bold\">20</span>, <span style=\"color: #808000; text-decoration-color: #808000\">cost</span>=<span style=\"color: #008080; text-decoration-color: #008080; font-weight: bold\">116014</span>, <span style=\"color: #808000; text-decoration-color: #808000\">n_iter</span>=<span style=\"color: #008080; text-decoration-color: #008080; font-weight: bold\">30</span>, <span style=\"color: #808000; text-decoration-color: #808000\">score</span>=<span style=\"color: #008080; text-decoration-color: #008080; font-weight: bold\">0.1048</span>                             <a href=\"file://C:\\Users\\hao_l\\AppData\\Local\\Temp\\ipykernel_10528\\1992391408.py\" target=\"_blank\"><span style=\"color: #7f7f7f; text-decoration-color: #7f7f7f\">1992391408.py</span></a><span style=\"color: #7f7f7f; text-decoration-color: #7f7f7f\">:</span><a href=\"file://C:\\Users\\hao_l\\AppData\\Local\\Temp\\ipykernel_10528\\1992391408.py#9\" target=\"_blank\"><span style=\"color: #7f7f7f; text-decoration-color: #7f7f7f\">9</span></a>\n",
       "</pre>\n"
      ],
      "text/plain": [
       "\u001b[2;36m[04/22/23 12:21:56]\u001b[0m\u001b[2;36m \u001b[0m\u001b[34mINFO    \u001b[0m \u001b[33mk\u001b[0m=\u001b[1;36m20\u001b[0m, \u001b[33mcost\u001b[0m=\u001b[1;36m116014\u001b[0m, \u001b[33mn_iter\u001b[0m=\u001b[1;36m30\u001b[0m, \u001b[33mscore\u001b[0m=\u001b[1;36m0\u001b[0m\u001b[1;36m.1048\u001b[0m                             \u001b]8;id=191423;file://C:\\Users\\hao_l\\AppData\\Local\\Temp\\ipykernel_10528\\1992391408.py\u001b\\\u001b[2m1992391408.py\u001b[0m\u001b]8;;\u001b\\\u001b[2m:\u001b[0m\u001b]8;id=528861;file://C:\\Users\\hao_l\\AppData\\Local\\Temp\\ipykernel_10528\\1992391408.py#9\u001b\\\u001b[2m9\u001b[0m\u001b]8;;\u001b\\\n"
      ]
     },
     "metadata": {},
     "output_type": "display_data"
    },
    {
     "data": {
      "text/html": [
       "<pre style=\"white-space:pre;overflow-x:auto;line-height:normal;font-family:Menlo,'DejaVu Sans Mono',consolas,'Courier New',monospace\"><span style=\"color: #7fbfbf; text-decoration-color: #7fbfbf\">                    </span><span style=\"color: #000080; text-decoration-color: #000080\">INFO    </span> Performing clustering for <span style=\"color: #808000; text-decoration-color: #808000\">k</span>=<span style=\"color: #008080; text-decoration-color: #008080; font-weight: bold\">21</span>                                         <a href=\"file://C:\\Users\\hao_l\\AppData\\Local\\Temp\\ipykernel_10528\\1992391408.py\" target=\"_blank\"><span style=\"color: #7f7f7f; text-decoration-color: #7f7f7f\">1992391408.py</span></a><span style=\"color: #7f7f7f; text-decoration-color: #7f7f7f\">:</span><a href=\"file://C:\\Users\\hao_l\\AppData\\Local\\Temp\\ipykernel_10528\\1992391408.py#5\" target=\"_blank\"><span style=\"color: #7f7f7f; text-decoration-color: #7f7f7f\">5</span></a>\n",
       "</pre>\n"
      ],
      "text/plain": [
       "\u001b[2;36m                   \u001b[0m\u001b[2;36m \u001b[0m\u001b[34mINFO    \u001b[0m Performing clustering for \u001b[33mk\u001b[0m=\u001b[1;36m21\u001b[0m                                         \u001b]8;id=575878;file://C:\\Users\\hao_l\\AppData\\Local\\Temp\\ipykernel_10528\\1992391408.py\u001b\\\u001b[2m1992391408.py\u001b[0m\u001b]8;;\u001b\\\u001b[2m:\u001b[0m\u001b]8;id=184706;file://C:\\Users\\hao_l\\AppData\\Local\\Temp\\ipykernel_10528\\1992391408.py#5\u001b\\\u001b[2m5\u001b[0m\u001b]8;;\u001b\\\n"
      ]
     },
     "metadata": {},
     "output_type": "display_data"
    },
    {
     "data": {
      "text/html": [
       "<pre style=\"white-space:pre;overflow-x:auto;line-height:normal;font-family:Menlo,'DejaVu Sans Mono',consolas,'Courier New',monospace\"><span style=\"color: #7fbfbf; text-decoration-color: #7fbfbf\">[04/22/23 12:24:23] </span><span style=\"color: #000080; text-decoration-color: #000080\">INFO    </span> <span style=\"color: #808000; text-decoration-color: #808000\">k</span>=<span style=\"color: #008080; text-decoration-color: #008080; font-weight: bold\">21</span>, <span style=\"color: #808000; text-decoration-color: #808000\">cost</span>=<span style=\"color: #008080; text-decoration-color: #008080; font-weight: bold\">114325</span>, <span style=\"color: #808000; text-decoration-color: #808000\">n_iter</span>=<span style=\"color: #008080; text-decoration-color: #008080; font-weight: bold\">30</span>, <span style=\"color: #808000; text-decoration-color: #808000\">score</span>=<span style=\"color: #008080; text-decoration-color: #008080; font-weight: bold\">0.1062</span>                             <a href=\"file://C:\\Users\\hao_l\\AppData\\Local\\Temp\\ipykernel_10528\\1992391408.py\" target=\"_blank\"><span style=\"color: #7f7f7f; text-decoration-color: #7f7f7f\">1992391408.py</span></a><span style=\"color: #7f7f7f; text-decoration-color: #7f7f7f\">:</span><a href=\"file://C:\\Users\\hao_l\\AppData\\Local\\Temp\\ipykernel_10528\\1992391408.py#9\" target=\"_blank\"><span style=\"color: #7f7f7f; text-decoration-color: #7f7f7f\">9</span></a>\n",
       "</pre>\n"
      ],
      "text/plain": [
       "\u001b[2;36m[04/22/23 12:24:23]\u001b[0m\u001b[2;36m \u001b[0m\u001b[34mINFO    \u001b[0m \u001b[33mk\u001b[0m=\u001b[1;36m21\u001b[0m, \u001b[33mcost\u001b[0m=\u001b[1;36m114325\u001b[0m, \u001b[33mn_iter\u001b[0m=\u001b[1;36m30\u001b[0m, \u001b[33mscore\u001b[0m=\u001b[1;36m0\u001b[0m\u001b[1;36m.1062\u001b[0m                             \u001b]8;id=526992;file://C:\\Users\\hao_l\\AppData\\Local\\Temp\\ipykernel_10528\\1992391408.py\u001b\\\u001b[2m1992391408.py\u001b[0m\u001b]8;;\u001b\\\u001b[2m:\u001b[0m\u001b]8;id=624897;file://C:\\Users\\hao_l\\AppData\\Local\\Temp\\ipykernel_10528\\1992391408.py#9\u001b\\\u001b[2m9\u001b[0m\u001b]8;;\u001b\\\n"
      ]
     },
     "metadata": {},
     "output_type": "display_data"
    },
    {
     "data": {
      "text/html": [
       "<pre style=\"white-space:pre;overflow-x:auto;line-height:normal;font-family:Menlo,'DejaVu Sans Mono',consolas,'Courier New',monospace\"><span style=\"color: #7fbfbf; text-decoration-color: #7fbfbf\">                    </span><span style=\"color: #000080; text-decoration-color: #000080\">INFO    </span> Performing clustering for <span style=\"color: #808000; text-decoration-color: #808000\">k</span>=<span style=\"color: #008080; text-decoration-color: #008080; font-weight: bold\">22</span>                                         <a href=\"file://C:\\Users\\hao_l\\AppData\\Local\\Temp\\ipykernel_10528\\1992391408.py\" target=\"_blank\"><span style=\"color: #7f7f7f; text-decoration-color: #7f7f7f\">1992391408.py</span></a><span style=\"color: #7f7f7f; text-decoration-color: #7f7f7f\">:</span><a href=\"file://C:\\Users\\hao_l\\AppData\\Local\\Temp\\ipykernel_10528\\1992391408.py#5\" target=\"_blank\"><span style=\"color: #7f7f7f; text-decoration-color: #7f7f7f\">5</span></a>\n",
       "</pre>\n"
      ],
      "text/plain": [
       "\u001b[2;36m                   \u001b[0m\u001b[2;36m \u001b[0m\u001b[34mINFO    \u001b[0m Performing clustering for \u001b[33mk\u001b[0m=\u001b[1;36m22\u001b[0m                                         \u001b]8;id=156317;file://C:\\Users\\hao_l\\AppData\\Local\\Temp\\ipykernel_10528\\1992391408.py\u001b\\\u001b[2m1992391408.py\u001b[0m\u001b]8;;\u001b\\\u001b[2m:\u001b[0m\u001b]8;id=657691;file://C:\\Users\\hao_l\\AppData\\Local\\Temp\\ipykernel_10528\\1992391408.py#5\u001b\\\u001b[2m5\u001b[0m\u001b]8;;\u001b\\\n"
      ]
     },
     "metadata": {},
     "output_type": "display_data"
    },
    {
     "data": {
      "text/html": [
       "<pre style=\"white-space:pre;overflow-x:auto;line-height:normal;font-family:Menlo,'DejaVu Sans Mono',consolas,'Courier New',monospace\"><span style=\"color: #7fbfbf; text-decoration-color: #7fbfbf\">[04/22/23 12:26:52] </span><span style=\"color: #000080; text-decoration-color: #000080\">INFO    </span> <span style=\"color: #808000; text-decoration-color: #808000\">k</span>=<span style=\"color: #008080; text-decoration-color: #008080; font-weight: bold\">22</span>, <span style=\"color: #808000; text-decoration-color: #808000\">cost</span>=<span style=\"color: #008080; text-decoration-color: #008080; font-weight: bold\">113310</span>, <span style=\"color: #808000; text-decoration-color: #808000\">n_iter</span>=<span style=\"color: #008080; text-decoration-color: #008080; font-weight: bold\">30</span>, <span style=\"color: #808000; text-decoration-color: #808000\">score</span>=<span style=\"color: #008080; text-decoration-color: #008080; font-weight: bold\">0.1034</span>                             <a href=\"file://C:\\Users\\hao_l\\AppData\\Local\\Temp\\ipykernel_10528\\1992391408.py\" target=\"_blank\"><span style=\"color: #7f7f7f; text-decoration-color: #7f7f7f\">1992391408.py</span></a><span style=\"color: #7f7f7f; text-decoration-color: #7f7f7f\">:</span><a href=\"file://C:\\Users\\hao_l\\AppData\\Local\\Temp\\ipykernel_10528\\1992391408.py#9\" target=\"_blank\"><span style=\"color: #7f7f7f; text-decoration-color: #7f7f7f\">9</span></a>\n",
       "</pre>\n"
      ],
      "text/plain": [
       "\u001b[2;36m[04/22/23 12:26:52]\u001b[0m\u001b[2;36m \u001b[0m\u001b[34mINFO    \u001b[0m \u001b[33mk\u001b[0m=\u001b[1;36m22\u001b[0m, \u001b[33mcost\u001b[0m=\u001b[1;36m113310\u001b[0m, \u001b[33mn_iter\u001b[0m=\u001b[1;36m30\u001b[0m, \u001b[33mscore\u001b[0m=\u001b[1;36m0\u001b[0m\u001b[1;36m.1034\u001b[0m                             \u001b]8;id=124473;file://C:\\Users\\hao_l\\AppData\\Local\\Temp\\ipykernel_10528\\1992391408.py\u001b\\\u001b[2m1992391408.py\u001b[0m\u001b]8;;\u001b\\\u001b[2m:\u001b[0m\u001b]8;id=77336;file://C:\\Users\\hao_l\\AppData\\Local\\Temp\\ipykernel_10528\\1992391408.py#9\u001b\\\u001b[2m9\u001b[0m\u001b]8;;\u001b\\\n"
      ]
     },
     "metadata": {},
     "output_type": "display_data"
    },
    {
     "data": {
      "text/html": [
       "<pre style=\"white-space:pre;overflow-x:auto;line-height:normal;font-family:Menlo,'DejaVu Sans Mono',consolas,'Courier New',monospace\"><span style=\"color: #7fbfbf; text-decoration-color: #7fbfbf\">                    </span><span style=\"color: #000080; text-decoration-color: #000080\">INFO    </span> Performing clustering for <span style=\"color: #808000; text-decoration-color: #808000\">k</span>=<span style=\"color: #008080; text-decoration-color: #008080; font-weight: bold\">23</span>                                         <a href=\"file://C:\\Users\\hao_l\\AppData\\Local\\Temp\\ipykernel_10528\\1992391408.py\" target=\"_blank\"><span style=\"color: #7f7f7f; text-decoration-color: #7f7f7f\">1992391408.py</span></a><span style=\"color: #7f7f7f; text-decoration-color: #7f7f7f\">:</span><a href=\"file://C:\\Users\\hao_l\\AppData\\Local\\Temp\\ipykernel_10528\\1992391408.py#5\" target=\"_blank\"><span style=\"color: #7f7f7f; text-decoration-color: #7f7f7f\">5</span></a>\n",
       "</pre>\n"
      ],
      "text/plain": [
       "\u001b[2;36m                   \u001b[0m\u001b[2;36m \u001b[0m\u001b[34mINFO    \u001b[0m Performing clustering for \u001b[33mk\u001b[0m=\u001b[1;36m23\u001b[0m                                         \u001b]8;id=445418;file://C:\\Users\\hao_l\\AppData\\Local\\Temp\\ipykernel_10528\\1992391408.py\u001b\\\u001b[2m1992391408.py\u001b[0m\u001b]8;;\u001b\\\u001b[2m:\u001b[0m\u001b]8;id=646427;file://C:\\Users\\hao_l\\AppData\\Local\\Temp\\ipykernel_10528\\1992391408.py#5\u001b\\\u001b[2m5\u001b[0m\u001b]8;;\u001b\\\n"
      ]
     },
     "metadata": {},
     "output_type": "display_data"
    },
    {
     "data": {
      "text/html": [
       "<pre style=\"white-space:pre;overflow-x:auto;line-height:normal;font-family:Menlo,'DejaVu Sans Mono',consolas,'Courier New',monospace\"><span style=\"color: #7fbfbf; text-decoration-color: #7fbfbf\">[04/22/23 12:29:32] </span><span style=\"color: #000080; text-decoration-color: #000080\">INFO    </span> <span style=\"color: #808000; text-decoration-color: #808000\">k</span>=<span style=\"color: #008080; text-decoration-color: #008080; font-weight: bold\">23</span>, <span style=\"color: #808000; text-decoration-color: #808000\">cost</span>=<span style=\"color: #008080; text-decoration-color: #008080; font-weight: bold\">111679</span>, <span style=\"color: #808000; text-decoration-color: #808000\">n_iter</span>=<span style=\"color: #008080; text-decoration-color: #008080; font-weight: bold\">30</span>, <span style=\"color: #808000; text-decoration-color: #808000\">score</span>=<span style=\"color: #008080; text-decoration-color: #008080; font-weight: bold\">0.0989</span>                             <a href=\"file://C:\\Users\\hao_l\\AppData\\Local\\Temp\\ipykernel_10528\\1992391408.py\" target=\"_blank\"><span style=\"color: #7f7f7f; text-decoration-color: #7f7f7f\">1992391408.py</span></a><span style=\"color: #7f7f7f; text-decoration-color: #7f7f7f\">:</span><a href=\"file://C:\\Users\\hao_l\\AppData\\Local\\Temp\\ipykernel_10528\\1992391408.py#9\" target=\"_blank\"><span style=\"color: #7f7f7f; text-decoration-color: #7f7f7f\">9</span></a>\n",
       "</pre>\n"
      ],
      "text/plain": [
       "\u001b[2;36m[04/22/23 12:29:32]\u001b[0m\u001b[2;36m \u001b[0m\u001b[34mINFO    \u001b[0m \u001b[33mk\u001b[0m=\u001b[1;36m23\u001b[0m, \u001b[33mcost\u001b[0m=\u001b[1;36m111679\u001b[0m, \u001b[33mn_iter\u001b[0m=\u001b[1;36m30\u001b[0m, \u001b[33mscore\u001b[0m=\u001b[1;36m0\u001b[0m\u001b[1;36m.0989\u001b[0m                             \u001b]8;id=591387;file://C:\\Users\\hao_l\\AppData\\Local\\Temp\\ipykernel_10528\\1992391408.py\u001b\\\u001b[2m1992391408.py\u001b[0m\u001b]8;;\u001b\\\u001b[2m:\u001b[0m\u001b]8;id=417914;file://C:\\Users\\hao_l\\AppData\\Local\\Temp\\ipykernel_10528\\1992391408.py#9\u001b\\\u001b[2m9\u001b[0m\u001b]8;;\u001b\\\n"
      ]
     },
     "metadata": {},
     "output_type": "display_data"
    },
    {
     "data": {
      "text/html": [
       "<pre style=\"white-space:pre;overflow-x:auto;line-height:normal;font-family:Menlo,'DejaVu Sans Mono',consolas,'Courier New',monospace\"><span style=\"color: #7fbfbf; text-decoration-color: #7fbfbf\">                    </span><span style=\"color: #000080; text-decoration-color: #000080\">INFO    </span> Performing clustering for <span style=\"color: #808000; text-decoration-color: #808000\">k</span>=<span style=\"color: #008080; text-decoration-color: #008080; font-weight: bold\">24</span>                                         <a href=\"file://C:\\Users\\hao_l\\AppData\\Local\\Temp\\ipykernel_10528\\1992391408.py\" target=\"_blank\"><span style=\"color: #7f7f7f; text-decoration-color: #7f7f7f\">1992391408.py</span></a><span style=\"color: #7f7f7f; text-decoration-color: #7f7f7f\">:</span><a href=\"file://C:\\Users\\hao_l\\AppData\\Local\\Temp\\ipykernel_10528\\1992391408.py#5\" target=\"_blank\"><span style=\"color: #7f7f7f; text-decoration-color: #7f7f7f\">5</span></a>\n",
       "</pre>\n"
      ],
      "text/plain": [
       "\u001b[2;36m                   \u001b[0m\u001b[2;36m \u001b[0m\u001b[34mINFO    \u001b[0m Performing clustering for \u001b[33mk\u001b[0m=\u001b[1;36m24\u001b[0m                                         \u001b]8;id=435537;file://C:\\Users\\hao_l\\AppData\\Local\\Temp\\ipykernel_10528\\1992391408.py\u001b\\\u001b[2m1992391408.py\u001b[0m\u001b]8;;\u001b\\\u001b[2m:\u001b[0m\u001b]8;id=964733;file://C:\\Users\\hao_l\\AppData\\Local\\Temp\\ipykernel_10528\\1992391408.py#5\u001b\\\u001b[2m5\u001b[0m\u001b]8;;\u001b\\\n"
      ]
     },
     "metadata": {},
     "output_type": "display_data"
    },
    {
     "data": {
      "text/html": [
       "<pre style=\"white-space:pre;overflow-x:auto;line-height:normal;font-family:Menlo,'DejaVu Sans Mono',consolas,'Courier New',monospace\"><span style=\"color: #7fbfbf; text-decoration-color: #7fbfbf\">[04/22/23 12:32:07] </span><span style=\"color: #000080; text-decoration-color: #000080\">INFO    </span> <span style=\"color: #808000; text-decoration-color: #808000\">k</span>=<span style=\"color: #008080; text-decoration-color: #008080; font-weight: bold\">24</span>, <span style=\"color: #808000; text-decoration-color: #808000\">cost</span>=<span style=\"color: #008080; text-decoration-color: #008080; font-weight: bold\">110606</span>, <span style=\"color: #808000; text-decoration-color: #808000\">n_iter</span>=<span style=\"color: #008080; text-decoration-color: #008080; font-weight: bold\">30</span>, <span style=\"color: #808000; text-decoration-color: #808000\">score</span>=<span style=\"color: #008080; text-decoration-color: #008080; font-weight: bold\">0.1070</span>                             <a href=\"file://C:\\Users\\hao_l\\AppData\\Local\\Temp\\ipykernel_10528\\1992391408.py\" target=\"_blank\"><span style=\"color: #7f7f7f; text-decoration-color: #7f7f7f\">1992391408.py</span></a><span style=\"color: #7f7f7f; text-decoration-color: #7f7f7f\">:</span><a href=\"file://C:\\Users\\hao_l\\AppData\\Local\\Temp\\ipykernel_10528\\1992391408.py#9\" target=\"_blank\"><span style=\"color: #7f7f7f; text-decoration-color: #7f7f7f\">9</span></a>\n",
       "</pre>\n"
      ],
      "text/plain": [
       "\u001b[2;36m[04/22/23 12:32:07]\u001b[0m\u001b[2;36m \u001b[0m\u001b[34mINFO    \u001b[0m \u001b[33mk\u001b[0m=\u001b[1;36m24\u001b[0m, \u001b[33mcost\u001b[0m=\u001b[1;36m110606\u001b[0m, \u001b[33mn_iter\u001b[0m=\u001b[1;36m30\u001b[0m, \u001b[33mscore\u001b[0m=\u001b[1;36m0\u001b[0m\u001b[1;36m.1070\u001b[0m                             \u001b]8;id=903465;file://C:\\Users\\hao_l\\AppData\\Local\\Temp\\ipykernel_10528\\1992391408.py\u001b\\\u001b[2m1992391408.py\u001b[0m\u001b]8;;\u001b\\\u001b[2m:\u001b[0m\u001b]8;id=201266;file://C:\\Users\\hao_l\\AppData\\Local\\Temp\\ipykernel_10528\\1992391408.py#9\u001b\\\u001b[2m9\u001b[0m\u001b]8;;\u001b\\\n"
      ]
     },
     "metadata": {},
     "output_type": "display_data"
    },
    {
     "data": {
      "text/html": [
       "<pre style=\"white-space:pre;overflow-x:auto;line-height:normal;font-family:Menlo,'DejaVu Sans Mono',consolas,'Courier New',monospace\"><span style=\"color: #7fbfbf; text-decoration-color: #7fbfbf\">                    </span><span style=\"color: #000080; text-decoration-color: #000080\">INFO    </span> Performing clustering for <span style=\"color: #808000; text-decoration-color: #808000\">k</span>=<span style=\"color: #008080; text-decoration-color: #008080; font-weight: bold\">25</span>                                         <a href=\"file://C:\\Users\\hao_l\\AppData\\Local\\Temp\\ipykernel_10528\\1992391408.py\" target=\"_blank\"><span style=\"color: #7f7f7f; text-decoration-color: #7f7f7f\">1992391408.py</span></a><span style=\"color: #7f7f7f; text-decoration-color: #7f7f7f\">:</span><a href=\"file://C:\\Users\\hao_l\\AppData\\Local\\Temp\\ipykernel_10528\\1992391408.py#5\" target=\"_blank\"><span style=\"color: #7f7f7f; text-decoration-color: #7f7f7f\">5</span></a>\n",
       "</pre>\n"
      ],
      "text/plain": [
       "\u001b[2;36m                   \u001b[0m\u001b[2;36m \u001b[0m\u001b[34mINFO    \u001b[0m Performing clustering for \u001b[33mk\u001b[0m=\u001b[1;36m25\u001b[0m                                         \u001b]8;id=346944;file://C:\\Users\\hao_l\\AppData\\Local\\Temp\\ipykernel_10528\\1992391408.py\u001b\\\u001b[2m1992391408.py\u001b[0m\u001b]8;;\u001b\\\u001b[2m:\u001b[0m\u001b]8;id=251699;file://C:\\Users\\hao_l\\AppData\\Local\\Temp\\ipykernel_10528\\1992391408.py#5\u001b\\\u001b[2m5\u001b[0m\u001b]8;;\u001b\\\n"
      ]
     },
     "metadata": {},
     "output_type": "display_data"
    },
    {
     "data": {
      "text/html": [
       "<pre style=\"white-space:pre;overflow-x:auto;line-height:normal;font-family:Menlo,'DejaVu Sans Mono',consolas,'Courier New',monospace\"><span style=\"color: #7fbfbf; text-decoration-color: #7fbfbf\">[04/22/23 12:34:45] </span><span style=\"color: #000080; text-decoration-color: #000080\">INFO    </span> <span style=\"color: #808000; text-decoration-color: #808000\">k</span>=<span style=\"color: #008080; text-decoration-color: #008080; font-weight: bold\">25</span>, <span style=\"color: #808000; text-decoration-color: #808000\">cost</span>=<span style=\"color: #008080; text-decoration-color: #008080; font-weight: bold\">109405</span>, <span style=\"color: #808000; text-decoration-color: #808000\">n_iter</span>=<span style=\"color: #008080; text-decoration-color: #008080; font-weight: bold\">30</span>, <span style=\"color: #808000; text-decoration-color: #808000\">score</span>=<span style=\"color: #008080; text-decoration-color: #008080; font-weight: bold\">0.1004</span>                             <a href=\"file://C:\\Users\\hao_l\\AppData\\Local\\Temp\\ipykernel_10528\\1992391408.py\" target=\"_blank\"><span style=\"color: #7f7f7f; text-decoration-color: #7f7f7f\">1992391408.py</span></a><span style=\"color: #7f7f7f; text-decoration-color: #7f7f7f\">:</span><a href=\"file://C:\\Users\\hao_l\\AppData\\Local\\Temp\\ipykernel_10528\\1992391408.py#9\" target=\"_blank\"><span style=\"color: #7f7f7f; text-decoration-color: #7f7f7f\">9</span></a>\n",
       "</pre>\n"
      ],
      "text/plain": [
       "\u001b[2;36m[04/22/23 12:34:45]\u001b[0m\u001b[2;36m \u001b[0m\u001b[34mINFO    \u001b[0m \u001b[33mk\u001b[0m=\u001b[1;36m25\u001b[0m, \u001b[33mcost\u001b[0m=\u001b[1;36m109405\u001b[0m, \u001b[33mn_iter\u001b[0m=\u001b[1;36m30\u001b[0m, \u001b[33mscore\u001b[0m=\u001b[1;36m0\u001b[0m\u001b[1;36m.1004\u001b[0m                             \u001b]8;id=592673;file://C:\\Users\\hao_l\\AppData\\Local\\Temp\\ipykernel_10528\\1992391408.py\u001b\\\u001b[2m1992391408.py\u001b[0m\u001b]8;;\u001b\\\u001b[2m:\u001b[0m\u001b]8;id=386891;file://C:\\Users\\hao_l\\AppData\\Local\\Temp\\ipykernel_10528\\1992391408.py#9\u001b\\\u001b[2m9\u001b[0m\u001b]8;;\u001b\\\n"
      ]
     },
     "metadata": {},
     "output_type": "display_data"
    },
    {
     "data": {
      "text/html": [
       "<pre style=\"white-space:pre;overflow-x:auto;line-height:normal;font-family:Menlo,'DejaVu Sans Mono',consolas,'Courier New',monospace\"><span style=\"color: #7fbfbf; text-decoration-color: #7fbfbf\">                    </span><span style=\"color: #000080; text-decoration-color: #000080\">INFO    </span> Performing clustering for <span style=\"color: #808000; text-decoration-color: #808000\">k</span>=<span style=\"color: #008080; text-decoration-color: #008080; font-weight: bold\">26</span>                                         <a href=\"file://C:\\Users\\hao_l\\AppData\\Local\\Temp\\ipykernel_10528\\1992391408.py\" target=\"_blank\"><span style=\"color: #7f7f7f; text-decoration-color: #7f7f7f\">1992391408.py</span></a><span style=\"color: #7f7f7f; text-decoration-color: #7f7f7f\">:</span><a href=\"file://C:\\Users\\hao_l\\AppData\\Local\\Temp\\ipykernel_10528\\1992391408.py#5\" target=\"_blank\"><span style=\"color: #7f7f7f; text-decoration-color: #7f7f7f\">5</span></a>\n",
       "</pre>\n"
      ],
      "text/plain": [
       "\u001b[2;36m                   \u001b[0m\u001b[2;36m \u001b[0m\u001b[34mINFO    \u001b[0m Performing clustering for \u001b[33mk\u001b[0m=\u001b[1;36m26\u001b[0m                                         \u001b]8;id=323608;file://C:\\Users\\hao_l\\AppData\\Local\\Temp\\ipykernel_10528\\1992391408.py\u001b\\\u001b[2m1992391408.py\u001b[0m\u001b]8;;\u001b\\\u001b[2m:\u001b[0m\u001b]8;id=846436;file://C:\\Users\\hao_l\\AppData\\Local\\Temp\\ipykernel_10528\\1992391408.py#5\u001b\\\u001b[2m5\u001b[0m\u001b]8;;\u001b\\\n"
      ]
     },
     "metadata": {},
     "output_type": "display_data"
    },
    {
     "data": {
      "text/html": [
       "<pre style=\"white-space:pre;overflow-x:auto;line-height:normal;font-family:Menlo,'DejaVu Sans Mono',consolas,'Courier New',monospace\"><span style=\"color: #7fbfbf; text-decoration-color: #7fbfbf\">[04/22/23 12:37:05] </span><span style=\"color: #000080; text-decoration-color: #000080\">INFO    </span> <span style=\"color: #808000; text-decoration-color: #808000\">k</span>=<span style=\"color: #008080; text-decoration-color: #008080; font-weight: bold\">26</span>, <span style=\"color: #808000; text-decoration-color: #808000\">cost</span>=<span style=\"color: #008080; text-decoration-color: #008080; font-weight: bold\">108560</span>, <span style=\"color: #808000; text-decoration-color: #808000\">n_iter</span>=<span style=\"color: #008080; text-decoration-color: #008080; font-weight: bold\">18</span>, <span style=\"color: #808000; text-decoration-color: #808000\">score</span>=<span style=\"color: #008080; text-decoration-color: #008080; font-weight: bold\">0.0955</span>                             <a href=\"file://C:\\Users\\hao_l\\AppData\\Local\\Temp\\ipykernel_10528\\1992391408.py\" target=\"_blank\"><span style=\"color: #7f7f7f; text-decoration-color: #7f7f7f\">1992391408.py</span></a><span style=\"color: #7f7f7f; text-decoration-color: #7f7f7f\">:</span><a href=\"file://C:\\Users\\hao_l\\AppData\\Local\\Temp\\ipykernel_10528\\1992391408.py#9\" target=\"_blank\"><span style=\"color: #7f7f7f; text-decoration-color: #7f7f7f\">9</span></a>\n",
       "</pre>\n"
      ],
      "text/plain": [
       "\u001b[2;36m[04/22/23 12:37:05]\u001b[0m\u001b[2;36m \u001b[0m\u001b[34mINFO    \u001b[0m \u001b[33mk\u001b[0m=\u001b[1;36m26\u001b[0m, \u001b[33mcost\u001b[0m=\u001b[1;36m108560\u001b[0m, \u001b[33mn_iter\u001b[0m=\u001b[1;36m18\u001b[0m, \u001b[33mscore\u001b[0m=\u001b[1;36m0\u001b[0m\u001b[1;36m.0955\u001b[0m                             \u001b]8;id=683048;file://C:\\Users\\hao_l\\AppData\\Local\\Temp\\ipykernel_10528\\1992391408.py\u001b\\\u001b[2m1992391408.py\u001b[0m\u001b]8;;\u001b\\\u001b[2m:\u001b[0m\u001b]8;id=28693;file://C:\\Users\\hao_l\\AppData\\Local\\Temp\\ipykernel_10528\\1992391408.py#9\u001b\\\u001b[2m9\u001b[0m\u001b]8;;\u001b\\\n"
      ]
     },
     "metadata": {},
     "output_type": "display_data"
    },
    {
     "data": {
      "text/html": [
       "<pre style=\"white-space:pre;overflow-x:auto;line-height:normal;font-family:Menlo,'DejaVu Sans Mono',consolas,'Courier New',monospace\"><span style=\"color: #7fbfbf; text-decoration-color: #7fbfbf\">                    </span><span style=\"color: #000080; text-decoration-color: #000080\">INFO    </span> Performing clustering for <span style=\"color: #808000; text-decoration-color: #808000\">k</span>=<span style=\"color: #008080; text-decoration-color: #008080; font-weight: bold\">27</span>                                         <a href=\"file://C:\\Users\\hao_l\\AppData\\Local\\Temp\\ipykernel_10528\\1992391408.py\" target=\"_blank\"><span style=\"color: #7f7f7f; text-decoration-color: #7f7f7f\">1992391408.py</span></a><span style=\"color: #7f7f7f; text-decoration-color: #7f7f7f\">:</span><a href=\"file://C:\\Users\\hao_l\\AppData\\Local\\Temp\\ipykernel_10528\\1992391408.py#5\" target=\"_blank\"><span style=\"color: #7f7f7f; text-decoration-color: #7f7f7f\">5</span></a>\n",
       "</pre>\n"
      ],
      "text/plain": [
       "\u001b[2;36m                   \u001b[0m\u001b[2;36m \u001b[0m\u001b[34mINFO    \u001b[0m Performing clustering for \u001b[33mk\u001b[0m=\u001b[1;36m27\u001b[0m                                         \u001b]8;id=719476;file://C:\\Users\\hao_l\\AppData\\Local\\Temp\\ipykernel_10528\\1992391408.py\u001b\\\u001b[2m1992391408.py\u001b[0m\u001b]8;;\u001b\\\u001b[2m:\u001b[0m\u001b]8;id=747325;file://C:\\Users\\hao_l\\AppData\\Local\\Temp\\ipykernel_10528\\1992391408.py#5\u001b\\\u001b[2m5\u001b[0m\u001b]8;;\u001b\\\n"
      ]
     },
     "metadata": {},
     "output_type": "display_data"
    },
    {
     "data": {
      "text/html": [
       "<pre style=\"white-space:pre;overflow-x:auto;line-height:normal;font-family:Menlo,'DejaVu Sans Mono',consolas,'Courier New',monospace\"><span style=\"color: #7fbfbf; text-decoration-color: #7fbfbf\">[04/22/23 12:39:45] </span><span style=\"color: #000080; text-decoration-color: #000080\">INFO    </span> <span style=\"color: #808000; text-decoration-color: #808000\">k</span>=<span style=\"color: #008080; text-decoration-color: #008080; font-weight: bold\">27</span>, <span style=\"color: #808000; text-decoration-color: #808000\">cost</span>=<span style=\"color: #008080; text-decoration-color: #008080; font-weight: bold\">107529</span>, <span style=\"color: #808000; text-decoration-color: #808000\">n_iter</span>=<span style=\"color: #008080; text-decoration-color: #008080; font-weight: bold\">30</span>, <span style=\"color: #808000; text-decoration-color: #808000\">score</span>=<span style=\"color: #008080; text-decoration-color: #008080; font-weight: bold\">0.0981</span>                             <a href=\"file://C:\\Users\\hao_l\\AppData\\Local\\Temp\\ipykernel_10528\\1992391408.py\" target=\"_blank\"><span style=\"color: #7f7f7f; text-decoration-color: #7f7f7f\">1992391408.py</span></a><span style=\"color: #7f7f7f; text-decoration-color: #7f7f7f\">:</span><a href=\"file://C:\\Users\\hao_l\\AppData\\Local\\Temp\\ipykernel_10528\\1992391408.py#9\" target=\"_blank\"><span style=\"color: #7f7f7f; text-decoration-color: #7f7f7f\">9</span></a>\n",
       "</pre>\n"
      ],
      "text/plain": [
       "\u001b[2;36m[04/22/23 12:39:45]\u001b[0m\u001b[2;36m \u001b[0m\u001b[34mINFO    \u001b[0m \u001b[33mk\u001b[0m=\u001b[1;36m27\u001b[0m, \u001b[33mcost\u001b[0m=\u001b[1;36m107529\u001b[0m, \u001b[33mn_iter\u001b[0m=\u001b[1;36m30\u001b[0m, \u001b[33mscore\u001b[0m=\u001b[1;36m0\u001b[0m\u001b[1;36m.0981\u001b[0m                             \u001b]8;id=24237;file://C:\\Users\\hao_l\\AppData\\Local\\Temp\\ipykernel_10528\\1992391408.py\u001b\\\u001b[2m1992391408.py\u001b[0m\u001b]8;;\u001b\\\u001b[2m:\u001b[0m\u001b]8;id=328510;file://C:\\Users\\hao_l\\AppData\\Local\\Temp\\ipykernel_10528\\1992391408.py#9\u001b\\\u001b[2m9\u001b[0m\u001b]8;;\u001b\\\n"
      ]
     },
     "metadata": {},
     "output_type": "display_data"
    },
    {
     "data": {
      "text/html": [
       "<pre style=\"white-space:pre;overflow-x:auto;line-height:normal;font-family:Menlo,'DejaVu Sans Mono',consolas,'Courier New',monospace\"><span style=\"color: #7fbfbf; text-decoration-color: #7fbfbf\">                    </span><span style=\"color: #000080; text-decoration-color: #000080\">INFO    </span> Performing clustering for <span style=\"color: #808000; text-decoration-color: #808000\">k</span>=<span style=\"color: #008080; text-decoration-color: #008080; font-weight: bold\">28</span>                                         <a href=\"file://C:\\Users\\hao_l\\AppData\\Local\\Temp\\ipykernel_10528\\1992391408.py\" target=\"_blank\"><span style=\"color: #7f7f7f; text-decoration-color: #7f7f7f\">1992391408.py</span></a><span style=\"color: #7f7f7f; text-decoration-color: #7f7f7f\">:</span><a href=\"file://C:\\Users\\hao_l\\AppData\\Local\\Temp\\ipykernel_10528\\1992391408.py#5\" target=\"_blank\"><span style=\"color: #7f7f7f; text-decoration-color: #7f7f7f\">5</span></a>\n",
       "</pre>\n"
      ],
      "text/plain": [
       "\u001b[2;36m                   \u001b[0m\u001b[2;36m \u001b[0m\u001b[34mINFO    \u001b[0m Performing clustering for \u001b[33mk\u001b[0m=\u001b[1;36m28\u001b[0m                                         \u001b]8;id=451215;file://C:\\Users\\hao_l\\AppData\\Local\\Temp\\ipykernel_10528\\1992391408.py\u001b\\\u001b[2m1992391408.py\u001b[0m\u001b]8;;\u001b\\\u001b[2m:\u001b[0m\u001b]8;id=954415;file://C:\\Users\\hao_l\\AppData\\Local\\Temp\\ipykernel_10528\\1992391408.py#5\u001b\\\u001b[2m5\u001b[0m\u001b]8;;\u001b\\\n"
      ]
     },
     "metadata": {},
     "output_type": "display_data"
    },
    {
     "data": {
      "text/html": [
       "<pre style=\"white-space:pre;overflow-x:auto;line-height:normal;font-family:Menlo,'DejaVu Sans Mono',consolas,'Courier New',monospace\"><span style=\"color: #7fbfbf; text-decoration-color: #7fbfbf\">[04/22/23 12:42:34] </span><span style=\"color: #000080; text-decoration-color: #000080\">INFO    </span> <span style=\"color: #808000; text-decoration-color: #808000\">k</span>=<span style=\"color: #008080; text-decoration-color: #008080; font-weight: bold\">28</span>, <span style=\"color: #808000; text-decoration-color: #808000\">cost</span>=<span style=\"color: #008080; text-decoration-color: #008080; font-weight: bold\">106140</span>, <span style=\"color: #808000; text-decoration-color: #808000\">n_iter</span>=<span style=\"color: #008080; text-decoration-color: #008080; font-weight: bold\">30</span>, <span style=\"color: #808000; text-decoration-color: #808000\">score</span>=<span style=\"color: #008080; text-decoration-color: #008080; font-weight: bold\">0.0974</span>                             <a href=\"file://C:\\Users\\hao_l\\AppData\\Local\\Temp\\ipykernel_10528\\1992391408.py\" target=\"_blank\"><span style=\"color: #7f7f7f; text-decoration-color: #7f7f7f\">1992391408.py</span></a><span style=\"color: #7f7f7f; text-decoration-color: #7f7f7f\">:</span><a href=\"file://C:\\Users\\hao_l\\AppData\\Local\\Temp\\ipykernel_10528\\1992391408.py#9\" target=\"_blank\"><span style=\"color: #7f7f7f; text-decoration-color: #7f7f7f\">9</span></a>\n",
       "</pre>\n"
      ],
      "text/plain": [
       "\u001b[2;36m[04/22/23 12:42:34]\u001b[0m\u001b[2;36m \u001b[0m\u001b[34mINFO    \u001b[0m \u001b[33mk\u001b[0m=\u001b[1;36m28\u001b[0m, \u001b[33mcost\u001b[0m=\u001b[1;36m106140\u001b[0m, \u001b[33mn_iter\u001b[0m=\u001b[1;36m30\u001b[0m, \u001b[33mscore\u001b[0m=\u001b[1;36m0\u001b[0m\u001b[1;36m.0974\u001b[0m                             \u001b]8;id=230190;file://C:\\Users\\hao_l\\AppData\\Local\\Temp\\ipykernel_10528\\1992391408.py\u001b\\\u001b[2m1992391408.py\u001b[0m\u001b]8;;\u001b\\\u001b[2m:\u001b[0m\u001b]8;id=367913;file://C:\\Users\\hao_l\\AppData\\Local\\Temp\\ipykernel_10528\\1992391408.py#9\u001b\\\u001b[2m9\u001b[0m\u001b]8;;\u001b\\\n"
      ]
     },
     "metadata": {},
     "output_type": "display_data"
    },
    {
     "data": {
      "text/html": [
       "<pre style=\"white-space:pre;overflow-x:auto;line-height:normal;font-family:Menlo,'DejaVu Sans Mono',consolas,'Courier New',monospace\"><span style=\"color: #7fbfbf; text-decoration-color: #7fbfbf\">                    </span><span style=\"color: #000080; text-decoration-color: #000080\">INFO    </span> Performing clustering for <span style=\"color: #808000; text-decoration-color: #808000\">k</span>=<span style=\"color: #008080; text-decoration-color: #008080; font-weight: bold\">29</span>                                         <a href=\"file://C:\\Users\\hao_l\\AppData\\Local\\Temp\\ipykernel_10528\\1992391408.py\" target=\"_blank\"><span style=\"color: #7f7f7f; text-decoration-color: #7f7f7f\">1992391408.py</span></a><span style=\"color: #7f7f7f; text-decoration-color: #7f7f7f\">:</span><a href=\"file://C:\\Users\\hao_l\\AppData\\Local\\Temp\\ipykernel_10528\\1992391408.py#5\" target=\"_blank\"><span style=\"color: #7f7f7f; text-decoration-color: #7f7f7f\">5</span></a>\n",
       "</pre>\n"
      ],
      "text/plain": [
       "\u001b[2;36m                   \u001b[0m\u001b[2;36m \u001b[0m\u001b[34mINFO    \u001b[0m Performing clustering for \u001b[33mk\u001b[0m=\u001b[1;36m29\u001b[0m                                         \u001b]8;id=683838;file://C:\\Users\\hao_l\\AppData\\Local\\Temp\\ipykernel_10528\\1992391408.py\u001b\\\u001b[2m1992391408.py\u001b[0m\u001b]8;;\u001b\\\u001b[2m:\u001b[0m\u001b]8;id=285070;file://C:\\Users\\hao_l\\AppData\\Local\\Temp\\ipykernel_10528\\1992391408.py#5\u001b\\\u001b[2m5\u001b[0m\u001b]8;;\u001b\\\n"
      ]
     },
     "metadata": {},
     "output_type": "display_data"
    },
    {
     "data": {
      "text/html": [
       "<pre style=\"white-space:pre;overflow-x:auto;line-height:normal;font-family:Menlo,'DejaVu Sans Mono',consolas,'Courier New',monospace\"><span style=\"color: #7fbfbf; text-decoration-color: #7fbfbf\">[04/22/23 12:45:16] </span><span style=\"color: #000080; text-decoration-color: #000080\">INFO    </span> <span style=\"color: #808000; text-decoration-color: #808000\">k</span>=<span style=\"color: #008080; text-decoration-color: #008080; font-weight: bold\">29</span>, <span style=\"color: #808000; text-decoration-color: #808000\">cost</span>=<span style=\"color: #008080; text-decoration-color: #008080; font-weight: bold\">105422</span>, <span style=\"color: #808000; text-decoration-color: #808000\">n_iter</span>=<span style=\"color: #008080; text-decoration-color: #008080; font-weight: bold\">30</span>, <span style=\"color: #808000; text-decoration-color: #808000\">score</span>=<span style=\"color: #008080; text-decoration-color: #008080; font-weight: bold\">0.0959</span>                             <a href=\"file://C:\\Users\\hao_l\\AppData\\Local\\Temp\\ipykernel_10528\\1992391408.py\" target=\"_blank\"><span style=\"color: #7f7f7f; text-decoration-color: #7f7f7f\">1992391408.py</span></a><span style=\"color: #7f7f7f; text-decoration-color: #7f7f7f\">:</span><a href=\"file://C:\\Users\\hao_l\\AppData\\Local\\Temp\\ipykernel_10528\\1992391408.py#9\" target=\"_blank\"><span style=\"color: #7f7f7f; text-decoration-color: #7f7f7f\">9</span></a>\n",
       "</pre>\n"
      ],
      "text/plain": [
       "\u001b[2;36m[04/22/23 12:45:16]\u001b[0m\u001b[2;36m \u001b[0m\u001b[34mINFO    \u001b[0m \u001b[33mk\u001b[0m=\u001b[1;36m29\u001b[0m, \u001b[33mcost\u001b[0m=\u001b[1;36m105422\u001b[0m, \u001b[33mn_iter\u001b[0m=\u001b[1;36m30\u001b[0m, \u001b[33mscore\u001b[0m=\u001b[1;36m0\u001b[0m\u001b[1;36m.0959\u001b[0m                             \u001b]8;id=858659;file://C:\\Users\\hao_l\\AppData\\Local\\Temp\\ipykernel_10528\\1992391408.py\u001b\\\u001b[2m1992391408.py\u001b[0m\u001b]8;;\u001b\\\u001b[2m:\u001b[0m\u001b]8;id=177674;file://C:\\Users\\hao_l\\AppData\\Local\\Temp\\ipykernel_10528\\1992391408.py#9\u001b\\\u001b[2m9\u001b[0m\u001b]8;;\u001b\\\n"
      ]
     },
     "metadata": {},
     "output_type": "display_data"
    },
    {
     "data": {
      "text/html": [
       "<pre style=\"white-space:pre;overflow-x:auto;line-height:normal;font-family:Menlo,'DejaVu Sans Mono',consolas,'Courier New',monospace\"><span style=\"color: #7fbfbf; text-decoration-color: #7fbfbf\">                    </span><span style=\"color: #000080; text-decoration-color: #000080\">INFO    </span> Performing clustering for <span style=\"color: #808000; text-decoration-color: #808000\">k</span>=<span style=\"color: #008080; text-decoration-color: #008080; font-weight: bold\">30</span>                                         <a href=\"file://C:\\Users\\hao_l\\AppData\\Local\\Temp\\ipykernel_10528\\1992391408.py\" target=\"_blank\"><span style=\"color: #7f7f7f; text-decoration-color: #7f7f7f\">1992391408.py</span></a><span style=\"color: #7f7f7f; text-decoration-color: #7f7f7f\">:</span><a href=\"file://C:\\Users\\hao_l\\AppData\\Local\\Temp\\ipykernel_10528\\1992391408.py#5\" target=\"_blank\"><span style=\"color: #7f7f7f; text-decoration-color: #7f7f7f\">5</span></a>\n",
       "</pre>\n"
      ],
      "text/plain": [
       "\u001b[2;36m                   \u001b[0m\u001b[2;36m \u001b[0m\u001b[34mINFO    \u001b[0m Performing clustering for \u001b[33mk\u001b[0m=\u001b[1;36m30\u001b[0m                                         \u001b]8;id=125034;file://C:\\Users\\hao_l\\AppData\\Local\\Temp\\ipykernel_10528\\1992391408.py\u001b\\\u001b[2m1992391408.py\u001b[0m\u001b]8;;\u001b\\\u001b[2m:\u001b[0m\u001b]8;id=228316;file://C:\\Users\\hao_l\\AppData\\Local\\Temp\\ipykernel_10528\\1992391408.py#5\u001b\\\u001b[2m5\u001b[0m\u001b]8;;\u001b\\\n"
      ]
     },
     "metadata": {},
     "output_type": "display_data"
    },
    {
     "data": {
      "text/html": [
       "<pre style=\"white-space:pre;overflow-x:auto;line-height:normal;font-family:Menlo,'DejaVu Sans Mono',consolas,'Courier New',monospace\"><span style=\"color: #7fbfbf; text-decoration-color: #7fbfbf\">[04/22/23 12:47:57] </span><span style=\"color: #000080; text-decoration-color: #000080\">INFO    </span> <span style=\"color: #808000; text-decoration-color: #808000\">k</span>=<span style=\"color: #008080; text-decoration-color: #008080; font-weight: bold\">30</span>, <span style=\"color: #808000; text-decoration-color: #808000\">cost</span>=<span style=\"color: #008080; text-decoration-color: #008080; font-weight: bold\">104131</span>, <span style=\"color: #808000; text-decoration-color: #808000\">n_iter</span>=<span style=\"color: #008080; text-decoration-color: #008080; font-weight: bold\">30</span>, <span style=\"color: #808000; text-decoration-color: #808000\">score</span>=<span style=\"color: #008080; text-decoration-color: #008080; font-weight: bold\">0.0949</span>                             <a href=\"file://C:\\Users\\hao_l\\AppData\\Local\\Temp\\ipykernel_10528\\1992391408.py\" target=\"_blank\"><span style=\"color: #7f7f7f; text-decoration-color: #7f7f7f\">1992391408.py</span></a><span style=\"color: #7f7f7f; text-decoration-color: #7f7f7f\">:</span><a href=\"file://C:\\Users\\hao_l\\AppData\\Local\\Temp\\ipykernel_10528\\1992391408.py#9\" target=\"_blank\"><span style=\"color: #7f7f7f; text-decoration-color: #7f7f7f\">9</span></a>\n",
       "</pre>\n"
      ],
      "text/plain": [
       "\u001b[2;36m[04/22/23 12:47:57]\u001b[0m\u001b[2;36m \u001b[0m\u001b[34mINFO    \u001b[0m \u001b[33mk\u001b[0m=\u001b[1;36m30\u001b[0m, \u001b[33mcost\u001b[0m=\u001b[1;36m104131\u001b[0m, \u001b[33mn_iter\u001b[0m=\u001b[1;36m30\u001b[0m, \u001b[33mscore\u001b[0m=\u001b[1;36m0\u001b[0m\u001b[1;36m.0949\u001b[0m                             \u001b]8;id=310215;file://C:\\Users\\hao_l\\AppData\\Local\\Temp\\ipykernel_10528\\1992391408.py\u001b\\\u001b[2m1992391408.py\u001b[0m\u001b]8;;\u001b\\\u001b[2m:\u001b[0m\u001b]8;id=746009;file://C:\\Users\\hao_l\\AppData\\Local\\Temp\\ipykernel_10528\\1992391408.py#9\u001b\\\u001b[2m9\u001b[0m\u001b]8;;\u001b\\\n"
      ]
     },
     "metadata": {},
     "output_type": "display_data"
    },
    {
     "data": {
      "text/html": [
       "<pre style=\"white-space:pre;overflow-x:auto;line-height:normal;font-family:Menlo,'DejaVu Sans Mono',consolas,'Courier New',monospace\"><span style=\"color: #7fbfbf; text-decoration-color: #7fbfbf\">                    </span><span style=\"color: #000080; text-decoration-color: #000080\">INFO    </span> Performing clustering for <span style=\"color: #808000; text-decoration-color: #808000\">k</span>=<span style=\"color: #008080; text-decoration-color: #008080; font-weight: bold\">31</span>                                         <a href=\"file://C:\\Users\\hao_l\\AppData\\Local\\Temp\\ipykernel_10528\\1992391408.py\" target=\"_blank\"><span style=\"color: #7f7f7f; text-decoration-color: #7f7f7f\">1992391408.py</span></a><span style=\"color: #7f7f7f; text-decoration-color: #7f7f7f\">:</span><a href=\"file://C:\\Users\\hao_l\\AppData\\Local\\Temp\\ipykernel_10528\\1992391408.py#5\" target=\"_blank\"><span style=\"color: #7f7f7f; text-decoration-color: #7f7f7f\">5</span></a>\n",
       "</pre>\n"
      ],
      "text/plain": [
       "\u001b[2;36m                   \u001b[0m\u001b[2;36m \u001b[0m\u001b[34mINFO    \u001b[0m Performing clustering for \u001b[33mk\u001b[0m=\u001b[1;36m31\u001b[0m                                         \u001b]8;id=276191;file://C:\\Users\\hao_l\\AppData\\Local\\Temp\\ipykernel_10528\\1992391408.py\u001b\\\u001b[2m1992391408.py\u001b[0m\u001b]8;;\u001b\\\u001b[2m:\u001b[0m\u001b]8;id=644159;file://C:\\Users\\hao_l\\AppData\\Local\\Temp\\ipykernel_10528\\1992391408.py#5\u001b\\\u001b[2m5\u001b[0m\u001b]8;;\u001b\\\n"
      ]
     },
     "metadata": {},
     "output_type": "display_data"
    },
    {
     "data": {
      "text/html": [
       "<pre style=\"white-space:pre;overflow-x:auto;line-height:normal;font-family:Menlo,'DejaVu Sans Mono',consolas,'Courier New',monospace\"><span style=\"color: #7fbfbf; text-decoration-color: #7fbfbf\">[04/22/23 12:50:42] </span><span style=\"color: #000080; text-decoration-color: #000080\">INFO    </span> <span style=\"color: #808000; text-decoration-color: #808000\">k</span>=<span style=\"color: #008080; text-decoration-color: #008080; font-weight: bold\">31</span>, <span style=\"color: #808000; text-decoration-color: #808000\">cost</span>=<span style=\"color: #008080; text-decoration-color: #008080; font-weight: bold\">103330</span>, <span style=\"color: #808000; text-decoration-color: #808000\">n_iter</span>=<span style=\"color: #008080; text-decoration-color: #008080; font-weight: bold\">30</span>, <span style=\"color: #808000; text-decoration-color: #808000\">score</span>=<span style=\"color: #008080; text-decoration-color: #008080; font-weight: bold\">0.0942</span>                             <a href=\"file://C:\\Users\\hao_l\\AppData\\Local\\Temp\\ipykernel_10528\\1992391408.py\" target=\"_blank\"><span style=\"color: #7f7f7f; text-decoration-color: #7f7f7f\">1992391408.py</span></a><span style=\"color: #7f7f7f; text-decoration-color: #7f7f7f\">:</span><a href=\"file://C:\\Users\\hao_l\\AppData\\Local\\Temp\\ipykernel_10528\\1992391408.py#9\" target=\"_blank\"><span style=\"color: #7f7f7f; text-decoration-color: #7f7f7f\">9</span></a>\n",
       "</pre>\n"
      ],
      "text/plain": [
       "\u001b[2;36m[04/22/23 12:50:42]\u001b[0m\u001b[2;36m \u001b[0m\u001b[34mINFO    \u001b[0m \u001b[33mk\u001b[0m=\u001b[1;36m31\u001b[0m, \u001b[33mcost\u001b[0m=\u001b[1;36m103330\u001b[0m, \u001b[33mn_iter\u001b[0m=\u001b[1;36m30\u001b[0m, \u001b[33mscore\u001b[0m=\u001b[1;36m0\u001b[0m\u001b[1;36m.0942\u001b[0m                             \u001b]8;id=535219;file://C:\\Users\\hao_l\\AppData\\Local\\Temp\\ipykernel_10528\\1992391408.py\u001b\\\u001b[2m1992391408.py\u001b[0m\u001b]8;;\u001b\\\u001b[2m:\u001b[0m\u001b]8;id=197950;file://C:\\Users\\hao_l\\AppData\\Local\\Temp\\ipykernel_10528\\1992391408.py#9\u001b\\\u001b[2m9\u001b[0m\u001b]8;;\u001b\\\n"
      ]
     },
     "metadata": {},
     "output_type": "display_data"
    },
    {
     "data": {
      "text/html": [
       "<pre style=\"white-space:pre;overflow-x:auto;line-height:normal;font-family:Menlo,'DejaVu Sans Mono',consolas,'Courier New',monospace\"><span style=\"color: #7fbfbf; text-decoration-color: #7fbfbf\">                    </span><span style=\"color: #000080; text-decoration-color: #000080\">INFO    </span> Performing clustering for <span style=\"color: #808000; text-decoration-color: #808000\">k</span>=<span style=\"color: #008080; text-decoration-color: #008080; font-weight: bold\">32</span>                                         <a href=\"file://C:\\Users\\hao_l\\AppData\\Local\\Temp\\ipykernel_10528\\1992391408.py\" target=\"_blank\"><span style=\"color: #7f7f7f; text-decoration-color: #7f7f7f\">1992391408.py</span></a><span style=\"color: #7f7f7f; text-decoration-color: #7f7f7f\">:</span><a href=\"file://C:\\Users\\hao_l\\AppData\\Local\\Temp\\ipykernel_10528\\1992391408.py#5\" target=\"_blank\"><span style=\"color: #7f7f7f; text-decoration-color: #7f7f7f\">5</span></a>\n",
       "</pre>\n"
      ],
      "text/plain": [
       "\u001b[2;36m                   \u001b[0m\u001b[2;36m \u001b[0m\u001b[34mINFO    \u001b[0m Performing clustering for \u001b[33mk\u001b[0m=\u001b[1;36m32\u001b[0m                                         \u001b]8;id=817404;file://C:\\Users\\hao_l\\AppData\\Local\\Temp\\ipykernel_10528\\1992391408.py\u001b\\\u001b[2m1992391408.py\u001b[0m\u001b]8;;\u001b\\\u001b[2m:\u001b[0m\u001b]8;id=806802;file://C:\\Users\\hao_l\\AppData\\Local\\Temp\\ipykernel_10528\\1992391408.py#5\u001b\\\u001b[2m5\u001b[0m\u001b]8;;\u001b\\\n"
      ]
     },
     "metadata": {},
     "output_type": "display_data"
    },
    {
     "data": {
      "text/html": [
       "<pre style=\"white-space:pre;overflow-x:auto;line-height:normal;font-family:Menlo,'DejaVu Sans Mono',consolas,'Courier New',monospace\"><span style=\"color: #7fbfbf; text-decoration-color: #7fbfbf\">[04/22/23 12:53:35] </span><span style=\"color: #000080; text-decoration-color: #000080\">INFO    </span> <span style=\"color: #808000; text-decoration-color: #808000\">k</span>=<span style=\"color: #008080; text-decoration-color: #008080; font-weight: bold\">32</span>, <span style=\"color: #808000; text-decoration-color: #808000\">cost</span>=<span style=\"color: #008080; text-decoration-color: #008080; font-weight: bold\">102494</span>, <span style=\"color: #808000; text-decoration-color: #808000\">n_iter</span>=<span style=\"color: #008080; text-decoration-color: #008080; font-weight: bold\">30</span>, <span style=\"color: #808000; text-decoration-color: #808000\">score</span>=<span style=\"color: #008080; text-decoration-color: #008080; font-weight: bold\">0.0948</span>                             <a href=\"file://C:\\Users\\hao_l\\AppData\\Local\\Temp\\ipykernel_10528\\1992391408.py\" target=\"_blank\"><span style=\"color: #7f7f7f; text-decoration-color: #7f7f7f\">1992391408.py</span></a><span style=\"color: #7f7f7f; text-decoration-color: #7f7f7f\">:</span><a href=\"file://C:\\Users\\hao_l\\AppData\\Local\\Temp\\ipykernel_10528\\1992391408.py#9\" target=\"_blank\"><span style=\"color: #7f7f7f; text-decoration-color: #7f7f7f\">9</span></a>\n",
       "</pre>\n"
      ],
      "text/plain": [
       "\u001b[2;36m[04/22/23 12:53:35]\u001b[0m\u001b[2;36m \u001b[0m\u001b[34mINFO    \u001b[0m \u001b[33mk\u001b[0m=\u001b[1;36m32\u001b[0m, \u001b[33mcost\u001b[0m=\u001b[1;36m102494\u001b[0m, \u001b[33mn_iter\u001b[0m=\u001b[1;36m30\u001b[0m, \u001b[33mscore\u001b[0m=\u001b[1;36m0\u001b[0m\u001b[1;36m.0948\u001b[0m                             \u001b]8;id=626897;file://C:\\Users\\hao_l\\AppData\\Local\\Temp\\ipykernel_10528\\1992391408.py\u001b\\\u001b[2m1992391408.py\u001b[0m\u001b]8;;\u001b\\\u001b[2m:\u001b[0m\u001b]8;id=417753;file://C:\\Users\\hao_l\\AppData\\Local\\Temp\\ipykernel_10528\\1992391408.py#9\u001b\\\u001b[2m9\u001b[0m\u001b]8;;\u001b\\\n"
      ]
     },
     "metadata": {},
     "output_type": "display_data"
    },
    {
     "data": {
      "text/html": [
       "<pre style=\"white-space:pre;overflow-x:auto;line-height:normal;font-family:Menlo,'DejaVu Sans Mono',consolas,'Courier New',monospace\"><span style=\"color: #7fbfbf; text-decoration-color: #7fbfbf\">                    </span><span style=\"color: #000080; text-decoration-color: #000080\">INFO    </span> Performing clustering for <span style=\"color: #808000; text-decoration-color: #808000\">k</span>=<span style=\"color: #008080; text-decoration-color: #008080; font-weight: bold\">33</span>                                         <a href=\"file://C:\\Users\\hao_l\\AppData\\Local\\Temp\\ipykernel_10528\\1992391408.py\" target=\"_blank\"><span style=\"color: #7f7f7f; text-decoration-color: #7f7f7f\">1992391408.py</span></a><span style=\"color: #7f7f7f; text-decoration-color: #7f7f7f\">:</span><a href=\"file://C:\\Users\\hao_l\\AppData\\Local\\Temp\\ipykernel_10528\\1992391408.py#5\" target=\"_blank\"><span style=\"color: #7f7f7f; text-decoration-color: #7f7f7f\">5</span></a>\n",
       "</pre>\n"
      ],
      "text/plain": [
       "\u001b[2;36m                   \u001b[0m\u001b[2;36m \u001b[0m\u001b[34mINFO    \u001b[0m Performing clustering for \u001b[33mk\u001b[0m=\u001b[1;36m33\u001b[0m                                         \u001b]8;id=228675;file://C:\\Users\\hao_l\\AppData\\Local\\Temp\\ipykernel_10528\\1992391408.py\u001b\\\u001b[2m1992391408.py\u001b[0m\u001b]8;;\u001b\\\u001b[2m:\u001b[0m\u001b]8;id=563067;file://C:\\Users\\hao_l\\AppData\\Local\\Temp\\ipykernel_10528\\1992391408.py#5\u001b\\\u001b[2m5\u001b[0m\u001b]8;;\u001b\\\n"
      ]
     },
     "metadata": {},
     "output_type": "display_data"
    },
    {
     "data": {
      "text/html": [
       "<pre style=\"white-space:pre;overflow-x:auto;line-height:normal;font-family:Menlo,'DejaVu Sans Mono',consolas,'Courier New',monospace\"><span style=\"color: #7fbfbf; text-decoration-color: #7fbfbf\">[04/22/23 12:56:33] </span><span style=\"color: #000080; text-decoration-color: #000080\">INFO    </span> <span style=\"color: #808000; text-decoration-color: #808000\">k</span>=<span style=\"color: #008080; text-decoration-color: #008080; font-weight: bold\">33</span>, <span style=\"color: #808000; text-decoration-color: #808000\">cost</span>=<span style=\"color: #008080; text-decoration-color: #008080; font-weight: bold\">101689</span>, <span style=\"color: #808000; text-decoration-color: #808000\">n_iter</span>=<span style=\"color: #008080; text-decoration-color: #008080; font-weight: bold\">30</span>, <span style=\"color: #808000; text-decoration-color: #808000\">score</span>=<span style=\"color: #008080; text-decoration-color: #008080; font-weight: bold\">0.0939</span>                             <a href=\"file://C:\\Users\\hao_l\\AppData\\Local\\Temp\\ipykernel_10528\\1992391408.py\" target=\"_blank\"><span style=\"color: #7f7f7f; text-decoration-color: #7f7f7f\">1992391408.py</span></a><span style=\"color: #7f7f7f; text-decoration-color: #7f7f7f\">:</span><a href=\"file://C:\\Users\\hao_l\\AppData\\Local\\Temp\\ipykernel_10528\\1992391408.py#9\" target=\"_blank\"><span style=\"color: #7f7f7f; text-decoration-color: #7f7f7f\">9</span></a>\n",
       "</pre>\n"
      ],
      "text/plain": [
       "\u001b[2;36m[04/22/23 12:56:33]\u001b[0m\u001b[2;36m \u001b[0m\u001b[34mINFO    \u001b[0m \u001b[33mk\u001b[0m=\u001b[1;36m33\u001b[0m, \u001b[33mcost\u001b[0m=\u001b[1;36m101689\u001b[0m, \u001b[33mn_iter\u001b[0m=\u001b[1;36m30\u001b[0m, \u001b[33mscore\u001b[0m=\u001b[1;36m0\u001b[0m\u001b[1;36m.0939\u001b[0m                             \u001b]8;id=734199;file://C:\\Users\\hao_l\\AppData\\Local\\Temp\\ipykernel_10528\\1992391408.py\u001b\\\u001b[2m1992391408.py\u001b[0m\u001b]8;;\u001b\\\u001b[2m:\u001b[0m\u001b]8;id=444601;file://C:\\Users\\hao_l\\AppData\\Local\\Temp\\ipykernel_10528\\1992391408.py#9\u001b\\\u001b[2m9\u001b[0m\u001b]8;;\u001b\\\n"
      ]
     },
     "metadata": {},
     "output_type": "display_data"
    },
    {
     "data": {
      "text/html": [
       "<pre style=\"white-space:pre;overflow-x:auto;line-height:normal;font-family:Menlo,'DejaVu Sans Mono',consolas,'Courier New',monospace\"><span style=\"color: #7fbfbf; text-decoration-color: #7fbfbf\">                    </span><span style=\"color: #000080; text-decoration-color: #000080\">INFO    </span> Performing clustering for <span style=\"color: #808000; text-decoration-color: #808000\">k</span>=<span style=\"color: #008080; text-decoration-color: #008080; font-weight: bold\">34</span>                                         <a href=\"file://C:\\Users\\hao_l\\AppData\\Local\\Temp\\ipykernel_10528\\1992391408.py\" target=\"_blank\"><span style=\"color: #7f7f7f; text-decoration-color: #7f7f7f\">1992391408.py</span></a><span style=\"color: #7f7f7f; text-decoration-color: #7f7f7f\">:</span><a href=\"file://C:\\Users\\hao_l\\AppData\\Local\\Temp\\ipykernel_10528\\1992391408.py#5\" target=\"_blank\"><span style=\"color: #7f7f7f; text-decoration-color: #7f7f7f\">5</span></a>\n",
       "</pre>\n"
      ],
      "text/plain": [
       "\u001b[2;36m                   \u001b[0m\u001b[2;36m \u001b[0m\u001b[34mINFO    \u001b[0m Performing clustering for \u001b[33mk\u001b[0m=\u001b[1;36m34\u001b[0m                                         \u001b]8;id=328882;file://C:\\Users\\hao_l\\AppData\\Local\\Temp\\ipykernel_10528\\1992391408.py\u001b\\\u001b[2m1992391408.py\u001b[0m\u001b]8;;\u001b\\\u001b[2m:\u001b[0m\u001b]8;id=58731;file://C:\\Users\\hao_l\\AppData\\Local\\Temp\\ipykernel_10528\\1992391408.py#5\u001b\\\u001b[2m5\u001b[0m\u001b]8;;\u001b\\\n"
      ]
     },
     "metadata": {},
     "output_type": "display_data"
    },
    {
     "data": {
      "text/html": [
       "<pre style=\"white-space:pre;overflow-x:auto;line-height:normal;font-family:Menlo,'DejaVu Sans Mono',consolas,'Courier New',monospace\"><span style=\"color: #7fbfbf; text-decoration-color: #7fbfbf\">[04/22/23 12:59:30] </span><span style=\"color: #000080; text-decoration-color: #000080\">INFO    </span> <span style=\"color: #808000; text-decoration-color: #808000\">k</span>=<span style=\"color: #008080; text-decoration-color: #008080; font-weight: bold\">34</span>, <span style=\"color: #808000; text-decoration-color: #808000\">cost</span>=<span style=\"color: #008080; text-decoration-color: #008080; font-weight: bold\">100765</span>, <span style=\"color: #808000; text-decoration-color: #808000\">n_iter</span>=<span style=\"color: #008080; text-decoration-color: #008080; font-weight: bold\">30</span>, <span style=\"color: #808000; text-decoration-color: #808000\">score</span>=<span style=\"color: #008080; text-decoration-color: #008080; font-weight: bold\">0.0943</span>                             <a href=\"file://C:\\Users\\hao_l\\AppData\\Local\\Temp\\ipykernel_10528\\1992391408.py\" target=\"_blank\"><span style=\"color: #7f7f7f; text-decoration-color: #7f7f7f\">1992391408.py</span></a><span style=\"color: #7f7f7f; text-decoration-color: #7f7f7f\">:</span><a href=\"file://C:\\Users\\hao_l\\AppData\\Local\\Temp\\ipykernel_10528\\1992391408.py#9\" target=\"_blank\"><span style=\"color: #7f7f7f; text-decoration-color: #7f7f7f\">9</span></a>\n",
       "</pre>\n"
      ],
      "text/plain": [
       "\u001b[2;36m[04/22/23 12:59:30]\u001b[0m\u001b[2;36m \u001b[0m\u001b[34mINFO    \u001b[0m \u001b[33mk\u001b[0m=\u001b[1;36m34\u001b[0m, \u001b[33mcost\u001b[0m=\u001b[1;36m100765\u001b[0m, \u001b[33mn_iter\u001b[0m=\u001b[1;36m30\u001b[0m, \u001b[33mscore\u001b[0m=\u001b[1;36m0\u001b[0m\u001b[1;36m.0943\u001b[0m                             \u001b]8;id=403276;file://C:\\Users\\hao_l\\AppData\\Local\\Temp\\ipykernel_10528\\1992391408.py\u001b\\\u001b[2m1992391408.py\u001b[0m\u001b]8;;\u001b\\\u001b[2m:\u001b[0m\u001b]8;id=951941;file://C:\\Users\\hao_l\\AppData\\Local\\Temp\\ipykernel_10528\\1992391408.py#9\u001b\\\u001b[2m9\u001b[0m\u001b]8;;\u001b\\\n"
      ]
     },
     "metadata": {},
     "output_type": "display_data"
    },
    {
     "data": {
      "text/html": [
       "<pre style=\"white-space:pre;overflow-x:auto;line-height:normal;font-family:Menlo,'DejaVu Sans Mono',consolas,'Courier New',monospace\"><span style=\"color: #7fbfbf; text-decoration-color: #7fbfbf\">                    </span><span style=\"color: #000080; text-decoration-color: #000080\">INFO    </span> Performing clustering for <span style=\"color: #808000; text-decoration-color: #808000\">k</span>=<span style=\"color: #008080; text-decoration-color: #008080; font-weight: bold\">35</span>                                         <a href=\"file://C:\\Users\\hao_l\\AppData\\Local\\Temp\\ipykernel_10528\\1992391408.py\" target=\"_blank\"><span style=\"color: #7f7f7f; text-decoration-color: #7f7f7f\">1992391408.py</span></a><span style=\"color: #7f7f7f; text-decoration-color: #7f7f7f\">:</span><a href=\"file://C:\\Users\\hao_l\\AppData\\Local\\Temp\\ipykernel_10528\\1992391408.py#5\" target=\"_blank\"><span style=\"color: #7f7f7f; text-decoration-color: #7f7f7f\">5</span></a>\n",
       "</pre>\n"
      ],
      "text/plain": [
       "\u001b[2;36m                   \u001b[0m\u001b[2;36m \u001b[0m\u001b[34mINFO    \u001b[0m Performing clustering for \u001b[33mk\u001b[0m=\u001b[1;36m35\u001b[0m                                         \u001b]8;id=65872;file://C:\\Users\\hao_l\\AppData\\Local\\Temp\\ipykernel_10528\\1992391408.py\u001b\\\u001b[2m1992391408.py\u001b[0m\u001b]8;;\u001b\\\u001b[2m:\u001b[0m\u001b]8;id=259020;file://C:\\Users\\hao_l\\AppData\\Local\\Temp\\ipykernel_10528\\1992391408.py#5\u001b\\\u001b[2m5\u001b[0m\u001b]8;;\u001b\\\n"
      ]
     },
     "metadata": {},
     "output_type": "display_data"
    },
    {
     "data": {
      "text/html": [
       "<pre style=\"white-space:pre;overflow-x:auto;line-height:normal;font-family:Menlo,'DejaVu Sans Mono',consolas,'Courier New',monospace\"><span style=\"color: #7fbfbf; text-decoration-color: #7fbfbf\">[04/22/23 13:02:31] </span><span style=\"color: #000080; text-decoration-color: #000080\">INFO    </span> <span style=\"color: #808000; text-decoration-color: #808000\">k</span>=<span style=\"color: #008080; text-decoration-color: #008080; font-weight: bold\">35</span>, <span style=\"color: #808000; text-decoration-color: #808000\">cost</span>=<span style=\"color: #008080; text-decoration-color: #008080; font-weight: bold\">100139</span>, <span style=\"color: #808000; text-decoration-color: #808000\">n_iter</span>=<span style=\"color: #008080; text-decoration-color: #008080; font-weight: bold\">30</span>, <span style=\"color: #808000; text-decoration-color: #808000\">score</span>=<span style=\"color: #008080; text-decoration-color: #008080; font-weight: bold\">0.0922</span>                             <a href=\"file://C:\\Users\\hao_l\\AppData\\Local\\Temp\\ipykernel_10528\\1992391408.py\" target=\"_blank\"><span style=\"color: #7f7f7f; text-decoration-color: #7f7f7f\">1992391408.py</span></a><span style=\"color: #7f7f7f; text-decoration-color: #7f7f7f\">:</span><a href=\"file://C:\\Users\\hao_l\\AppData\\Local\\Temp\\ipykernel_10528\\1992391408.py#9\" target=\"_blank\"><span style=\"color: #7f7f7f; text-decoration-color: #7f7f7f\">9</span></a>\n",
       "</pre>\n"
      ],
      "text/plain": [
       "\u001b[2;36m[04/22/23 13:02:31]\u001b[0m\u001b[2;36m \u001b[0m\u001b[34mINFO    \u001b[0m \u001b[33mk\u001b[0m=\u001b[1;36m35\u001b[0m, \u001b[33mcost\u001b[0m=\u001b[1;36m100139\u001b[0m, \u001b[33mn_iter\u001b[0m=\u001b[1;36m30\u001b[0m, \u001b[33mscore\u001b[0m=\u001b[1;36m0\u001b[0m\u001b[1;36m.0922\u001b[0m                             \u001b]8;id=401297;file://C:\\Users\\hao_l\\AppData\\Local\\Temp\\ipykernel_10528\\1992391408.py\u001b\\\u001b[2m1992391408.py\u001b[0m\u001b]8;;\u001b\\\u001b[2m:\u001b[0m\u001b]8;id=453613;file://C:\\Users\\hao_l\\AppData\\Local\\Temp\\ipykernel_10528\\1992391408.py#9\u001b\\\u001b[2m9\u001b[0m\u001b]8;;\u001b\\\n"
      ]
     },
     "metadata": {},
     "output_type": "display_data"
    },
    {
     "data": {
      "text/html": [
       "<pre style=\"white-space:pre;overflow-x:auto;line-height:normal;font-family:Menlo,'DejaVu Sans Mono',consolas,'Courier New',monospace\"><span style=\"color: #7fbfbf; text-decoration-color: #7fbfbf\">                    </span><span style=\"color: #000080; text-decoration-color: #000080\">INFO    </span> Performing clustering for <span style=\"color: #808000; text-decoration-color: #808000\">k</span>=<span style=\"color: #008080; text-decoration-color: #008080; font-weight: bold\">36</span>                                         <a href=\"file://C:\\Users\\hao_l\\AppData\\Local\\Temp\\ipykernel_10528\\1992391408.py\" target=\"_blank\"><span style=\"color: #7f7f7f; text-decoration-color: #7f7f7f\">1992391408.py</span></a><span style=\"color: #7f7f7f; text-decoration-color: #7f7f7f\">:</span><a href=\"file://C:\\Users\\hao_l\\AppData\\Local\\Temp\\ipykernel_10528\\1992391408.py#5\" target=\"_blank\"><span style=\"color: #7f7f7f; text-decoration-color: #7f7f7f\">5</span></a>\n",
       "</pre>\n"
      ],
      "text/plain": [
       "\u001b[2;36m                   \u001b[0m\u001b[2;36m \u001b[0m\u001b[34mINFO    \u001b[0m Performing clustering for \u001b[33mk\u001b[0m=\u001b[1;36m36\u001b[0m                                         \u001b]8;id=729066;file://C:\\Users\\hao_l\\AppData\\Local\\Temp\\ipykernel_10528\\1992391408.py\u001b\\\u001b[2m1992391408.py\u001b[0m\u001b]8;;\u001b\\\u001b[2m:\u001b[0m\u001b]8;id=234372;file://C:\\Users\\hao_l\\AppData\\Local\\Temp\\ipykernel_10528\\1992391408.py#5\u001b\\\u001b[2m5\u001b[0m\u001b]8;;\u001b\\\n"
      ]
     },
     "metadata": {},
     "output_type": "display_data"
    },
    {
     "data": {
      "text/html": [
       "<pre style=\"white-space:pre;overflow-x:auto;line-height:normal;font-family:Menlo,'DejaVu Sans Mono',consolas,'Courier New',monospace\"><span style=\"color: #7fbfbf; text-decoration-color: #7fbfbf\">[04/22/23 13:05:27] </span><span style=\"color: #000080; text-decoration-color: #000080\">INFO    </span> <span style=\"color: #808000; text-decoration-color: #808000\">k</span>=<span style=\"color: #008080; text-decoration-color: #008080; font-weight: bold\">36</span>, <span style=\"color: #808000; text-decoration-color: #808000\">cost</span>=<span style=\"color: #008080; text-decoration-color: #008080; font-weight: bold\">99200</span>, <span style=\"color: #808000; text-decoration-color: #808000\">n_iter</span>=<span style=\"color: #008080; text-decoration-color: #008080; font-weight: bold\">30</span>, <span style=\"color: #808000; text-decoration-color: #808000\">score</span>=<span style=\"color: #008080; text-decoration-color: #008080; font-weight: bold\">0.0933</span>                              <a href=\"file://C:\\Users\\hao_l\\AppData\\Local\\Temp\\ipykernel_10528\\1992391408.py\" target=\"_blank\"><span style=\"color: #7f7f7f; text-decoration-color: #7f7f7f\">1992391408.py</span></a><span style=\"color: #7f7f7f; text-decoration-color: #7f7f7f\">:</span><a href=\"file://C:\\Users\\hao_l\\AppData\\Local\\Temp\\ipykernel_10528\\1992391408.py#9\" target=\"_blank\"><span style=\"color: #7f7f7f; text-decoration-color: #7f7f7f\">9</span></a>\n",
       "</pre>\n"
      ],
      "text/plain": [
       "\u001b[2;36m[04/22/23 13:05:27]\u001b[0m\u001b[2;36m \u001b[0m\u001b[34mINFO    \u001b[0m \u001b[33mk\u001b[0m=\u001b[1;36m36\u001b[0m, \u001b[33mcost\u001b[0m=\u001b[1;36m99200\u001b[0m, \u001b[33mn_iter\u001b[0m=\u001b[1;36m30\u001b[0m, \u001b[33mscore\u001b[0m=\u001b[1;36m0\u001b[0m\u001b[1;36m.0933\u001b[0m                              \u001b]8;id=463266;file://C:\\Users\\hao_l\\AppData\\Local\\Temp\\ipykernel_10528\\1992391408.py\u001b\\\u001b[2m1992391408.py\u001b[0m\u001b]8;;\u001b\\\u001b[2m:\u001b[0m\u001b]8;id=511446;file://C:\\Users\\hao_l\\AppData\\Local\\Temp\\ipykernel_10528\\1992391408.py#9\u001b\\\u001b[2m9\u001b[0m\u001b]8;;\u001b\\\n"
      ]
     },
     "metadata": {},
     "output_type": "display_data"
    },
    {
     "data": {
      "text/html": [
       "<pre style=\"white-space:pre;overflow-x:auto;line-height:normal;font-family:Menlo,'DejaVu Sans Mono',consolas,'Courier New',monospace\"><span style=\"color: #7fbfbf; text-decoration-color: #7fbfbf\">                    </span><span style=\"color: #000080; text-decoration-color: #000080\">INFO    </span> Performing clustering for <span style=\"color: #808000; text-decoration-color: #808000\">k</span>=<span style=\"color: #008080; text-decoration-color: #008080; font-weight: bold\">37</span>                                         <a href=\"file://C:\\Users\\hao_l\\AppData\\Local\\Temp\\ipykernel_10528\\1992391408.py\" target=\"_blank\"><span style=\"color: #7f7f7f; text-decoration-color: #7f7f7f\">1992391408.py</span></a><span style=\"color: #7f7f7f; text-decoration-color: #7f7f7f\">:</span><a href=\"file://C:\\Users\\hao_l\\AppData\\Local\\Temp\\ipykernel_10528\\1992391408.py#5\" target=\"_blank\"><span style=\"color: #7f7f7f; text-decoration-color: #7f7f7f\">5</span></a>\n",
       "</pre>\n"
      ],
      "text/plain": [
       "\u001b[2;36m                   \u001b[0m\u001b[2;36m \u001b[0m\u001b[34mINFO    \u001b[0m Performing clustering for \u001b[33mk\u001b[0m=\u001b[1;36m37\u001b[0m                                         \u001b]8;id=860944;file://C:\\Users\\hao_l\\AppData\\Local\\Temp\\ipykernel_10528\\1992391408.py\u001b\\\u001b[2m1992391408.py\u001b[0m\u001b]8;;\u001b\\\u001b[2m:\u001b[0m\u001b]8;id=424916;file://C:\\Users\\hao_l\\AppData\\Local\\Temp\\ipykernel_10528\\1992391408.py#5\u001b\\\u001b[2m5\u001b[0m\u001b]8;;\u001b\\\n"
      ]
     },
     "metadata": {},
     "output_type": "display_data"
    },
    {
     "data": {
      "text/html": [
       "<pre style=\"white-space:pre;overflow-x:auto;line-height:normal;font-family:Menlo,'DejaVu Sans Mono',consolas,'Courier New',monospace\"><span style=\"color: #7fbfbf; text-decoration-color: #7fbfbf\">[04/22/23 13:08:29] </span><span style=\"color: #000080; text-decoration-color: #000080\">INFO    </span> <span style=\"color: #808000; text-decoration-color: #808000\">k</span>=<span style=\"color: #008080; text-decoration-color: #008080; font-weight: bold\">37</span>, <span style=\"color: #808000; text-decoration-color: #808000\">cost</span>=<span style=\"color: #008080; text-decoration-color: #008080; font-weight: bold\">98204</span>, <span style=\"color: #808000; text-decoration-color: #808000\">n_iter</span>=<span style=\"color: #008080; text-decoration-color: #008080; font-weight: bold\">30</span>, <span style=\"color: #808000; text-decoration-color: #808000\">score</span>=<span style=\"color: #008080; text-decoration-color: #008080; font-weight: bold\">0.0925</span>                              <a href=\"file://C:\\Users\\hao_l\\AppData\\Local\\Temp\\ipykernel_10528\\1992391408.py\" target=\"_blank\"><span style=\"color: #7f7f7f; text-decoration-color: #7f7f7f\">1992391408.py</span></a><span style=\"color: #7f7f7f; text-decoration-color: #7f7f7f\">:</span><a href=\"file://C:\\Users\\hao_l\\AppData\\Local\\Temp\\ipykernel_10528\\1992391408.py#9\" target=\"_blank\"><span style=\"color: #7f7f7f; text-decoration-color: #7f7f7f\">9</span></a>\n",
       "</pre>\n"
      ],
      "text/plain": [
       "\u001b[2;36m[04/22/23 13:08:29]\u001b[0m\u001b[2;36m \u001b[0m\u001b[34mINFO    \u001b[0m \u001b[33mk\u001b[0m=\u001b[1;36m37\u001b[0m, \u001b[33mcost\u001b[0m=\u001b[1;36m98204\u001b[0m, \u001b[33mn_iter\u001b[0m=\u001b[1;36m30\u001b[0m, \u001b[33mscore\u001b[0m=\u001b[1;36m0\u001b[0m\u001b[1;36m.0925\u001b[0m                              \u001b]8;id=67631;file://C:\\Users\\hao_l\\AppData\\Local\\Temp\\ipykernel_10528\\1992391408.py\u001b\\\u001b[2m1992391408.py\u001b[0m\u001b]8;;\u001b\\\u001b[2m:\u001b[0m\u001b]8;id=247758;file://C:\\Users\\hao_l\\AppData\\Local\\Temp\\ipykernel_10528\\1992391408.py#9\u001b\\\u001b[2m9\u001b[0m\u001b]8;;\u001b\\\n"
      ]
     },
     "metadata": {},
     "output_type": "display_data"
    },
    {
     "data": {
      "text/html": [
       "<pre style=\"white-space:pre;overflow-x:auto;line-height:normal;font-family:Menlo,'DejaVu Sans Mono',consolas,'Courier New',monospace\"><span style=\"color: #7fbfbf; text-decoration-color: #7fbfbf\">                    </span><span style=\"color: #000080; text-decoration-color: #000080\">INFO    </span> Performing clustering for <span style=\"color: #808000; text-decoration-color: #808000\">k</span>=<span style=\"color: #008080; text-decoration-color: #008080; font-weight: bold\">38</span>                                         <a href=\"file://C:\\Users\\hao_l\\AppData\\Local\\Temp\\ipykernel_10528\\1992391408.py\" target=\"_blank\"><span style=\"color: #7f7f7f; text-decoration-color: #7f7f7f\">1992391408.py</span></a><span style=\"color: #7f7f7f; text-decoration-color: #7f7f7f\">:</span><a href=\"file://C:\\Users\\hao_l\\AppData\\Local\\Temp\\ipykernel_10528\\1992391408.py#5\" target=\"_blank\"><span style=\"color: #7f7f7f; text-decoration-color: #7f7f7f\">5</span></a>\n",
       "</pre>\n"
      ],
      "text/plain": [
       "\u001b[2;36m                   \u001b[0m\u001b[2;36m \u001b[0m\u001b[34mINFO    \u001b[0m Performing clustering for \u001b[33mk\u001b[0m=\u001b[1;36m38\u001b[0m                                         \u001b]8;id=952161;file://C:\\Users\\hao_l\\AppData\\Local\\Temp\\ipykernel_10528\\1992391408.py\u001b\\\u001b[2m1992391408.py\u001b[0m\u001b]8;;\u001b\\\u001b[2m:\u001b[0m\u001b]8;id=667187;file://C:\\Users\\hao_l\\AppData\\Local\\Temp\\ipykernel_10528\\1992391408.py#5\u001b\\\u001b[2m5\u001b[0m\u001b]8;;\u001b\\\n"
      ]
     },
     "metadata": {},
     "output_type": "display_data"
    },
    {
     "data": {
      "text/html": [
       "<pre style=\"white-space:pre;overflow-x:auto;line-height:normal;font-family:Menlo,'DejaVu Sans Mono',consolas,'Courier New',monospace\"><span style=\"color: #7fbfbf; text-decoration-color: #7fbfbf\">[04/22/23 13:11:37] </span><span style=\"color: #000080; text-decoration-color: #000080\">INFO    </span> <span style=\"color: #808000; text-decoration-color: #808000\">k</span>=<span style=\"color: #008080; text-decoration-color: #008080; font-weight: bold\">38</span>, <span style=\"color: #808000; text-decoration-color: #808000\">cost</span>=<span style=\"color: #008080; text-decoration-color: #008080; font-weight: bold\">97878</span>, <span style=\"color: #808000; text-decoration-color: #808000\">n_iter</span>=<span style=\"color: #008080; text-decoration-color: #008080; font-weight: bold\">30</span>, <span style=\"color: #808000; text-decoration-color: #808000\">score</span>=<span style=\"color: #008080; text-decoration-color: #008080; font-weight: bold\">0.0906</span>                              <a href=\"file://C:\\Users\\hao_l\\AppData\\Local\\Temp\\ipykernel_10528\\1992391408.py\" target=\"_blank\"><span style=\"color: #7f7f7f; text-decoration-color: #7f7f7f\">1992391408.py</span></a><span style=\"color: #7f7f7f; text-decoration-color: #7f7f7f\">:</span><a href=\"file://C:\\Users\\hao_l\\AppData\\Local\\Temp\\ipykernel_10528\\1992391408.py#9\" target=\"_blank\"><span style=\"color: #7f7f7f; text-decoration-color: #7f7f7f\">9</span></a>\n",
       "</pre>\n"
      ],
      "text/plain": [
       "\u001b[2;36m[04/22/23 13:11:37]\u001b[0m\u001b[2;36m \u001b[0m\u001b[34mINFO    \u001b[0m \u001b[33mk\u001b[0m=\u001b[1;36m38\u001b[0m, \u001b[33mcost\u001b[0m=\u001b[1;36m97878\u001b[0m, \u001b[33mn_iter\u001b[0m=\u001b[1;36m30\u001b[0m, \u001b[33mscore\u001b[0m=\u001b[1;36m0\u001b[0m\u001b[1;36m.0906\u001b[0m                              \u001b]8;id=998140;file://C:\\Users\\hao_l\\AppData\\Local\\Temp\\ipykernel_10528\\1992391408.py\u001b\\\u001b[2m1992391408.py\u001b[0m\u001b]8;;\u001b\\\u001b[2m:\u001b[0m\u001b]8;id=468299;file://C:\\Users\\hao_l\\AppData\\Local\\Temp\\ipykernel_10528\\1992391408.py#9\u001b\\\u001b[2m9\u001b[0m\u001b]8;;\u001b\\\n"
      ]
     },
     "metadata": {},
     "output_type": "display_data"
    },
    {
     "data": {
      "text/html": [
       "<pre style=\"white-space:pre;overflow-x:auto;line-height:normal;font-family:Menlo,'DejaVu Sans Mono',consolas,'Courier New',monospace\"><span style=\"color: #7fbfbf; text-decoration-color: #7fbfbf\">                    </span><span style=\"color: #000080; text-decoration-color: #000080\">INFO    </span> Performing clustering for <span style=\"color: #808000; text-decoration-color: #808000\">k</span>=<span style=\"color: #008080; text-decoration-color: #008080; font-weight: bold\">39</span>                                         <a href=\"file://C:\\Users\\hao_l\\AppData\\Local\\Temp\\ipykernel_10528\\1992391408.py\" target=\"_blank\"><span style=\"color: #7f7f7f; text-decoration-color: #7f7f7f\">1992391408.py</span></a><span style=\"color: #7f7f7f; text-decoration-color: #7f7f7f\">:</span><a href=\"file://C:\\Users\\hao_l\\AppData\\Local\\Temp\\ipykernel_10528\\1992391408.py#5\" target=\"_blank\"><span style=\"color: #7f7f7f; text-decoration-color: #7f7f7f\">5</span></a>\n",
       "</pre>\n"
      ],
      "text/plain": [
       "\u001b[2;36m                   \u001b[0m\u001b[2;36m \u001b[0m\u001b[34mINFO    \u001b[0m Performing clustering for \u001b[33mk\u001b[0m=\u001b[1;36m39\u001b[0m                                         \u001b]8;id=801454;file://C:\\Users\\hao_l\\AppData\\Local\\Temp\\ipykernel_10528\\1992391408.py\u001b\\\u001b[2m1992391408.py\u001b[0m\u001b]8;;\u001b\\\u001b[2m:\u001b[0m\u001b]8;id=782976;file://C:\\Users\\hao_l\\AppData\\Local\\Temp\\ipykernel_10528\\1992391408.py#5\u001b\\\u001b[2m5\u001b[0m\u001b]8;;\u001b\\\n"
      ]
     },
     "metadata": {},
     "output_type": "display_data"
    },
    {
     "data": {
      "text/html": [
       "<pre style=\"white-space:pre;overflow-x:auto;line-height:normal;font-family:Menlo,'DejaVu Sans Mono',consolas,'Courier New',monospace\"><span style=\"color: #7fbfbf; text-decoration-color: #7fbfbf\">[04/22/23 13:14:45] </span><span style=\"color: #000080; text-decoration-color: #000080\">INFO    </span> <span style=\"color: #808000; text-decoration-color: #808000\">k</span>=<span style=\"color: #008080; text-decoration-color: #008080; font-weight: bold\">39</span>, <span style=\"color: #808000; text-decoration-color: #808000\">cost</span>=<span style=\"color: #008080; text-decoration-color: #008080; font-weight: bold\">97237</span>, <span style=\"color: #808000; text-decoration-color: #808000\">n_iter</span>=<span style=\"color: #008080; text-decoration-color: #008080; font-weight: bold\">24</span>, <span style=\"color: #808000; text-decoration-color: #808000\">score</span>=<span style=\"color: #008080; text-decoration-color: #008080; font-weight: bold\">0.0901</span>                              <a href=\"file://C:\\Users\\hao_l\\AppData\\Local\\Temp\\ipykernel_10528\\1992391408.py\" target=\"_blank\"><span style=\"color: #7f7f7f; text-decoration-color: #7f7f7f\">1992391408.py</span></a><span style=\"color: #7f7f7f; text-decoration-color: #7f7f7f\">:</span><a href=\"file://C:\\Users\\hao_l\\AppData\\Local\\Temp\\ipykernel_10528\\1992391408.py#9\" target=\"_blank\"><span style=\"color: #7f7f7f; text-decoration-color: #7f7f7f\">9</span></a>\n",
       "</pre>\n"
      ],
      "text/plain": [
       "\u001b[2;36m[04/22/23 13:14:45]\u001b[0m\u001b[2;36m \u001b[0m\u001b[34mINFO    \u001b[0m \u001b[33mk\u001b[0m=\u001b[1;36m39\u001b[0m, \u001b[33mcost\u001b[0m=\u001b[1;36m97237\u001b[0m, \u001b[33mn_iter\u001b[0m=\u001b[1;36m24\u001b[0m, \u001b[33mscore\u001b[0m=\u001b[1;36m0\u001b[0m\u001b[1;36m.0901\u001b[0m                              \u001b]8;id=461234;file://C:\\Users\\hao_l\\AppData\\Local\\Temp\\ipykernel_10528\\1992391408.py\u001b\\\u001b[2m1992391408.py\u001b[0m\u001b]8;;\u001b\\\u001b[2m:\u001b[0m\u001b]8;id=611761;file://C:\\Users\\hao_l\\AppData\\Local\\Temp\\ipykernel_10528\\1992391408.py#9\u001b\\\u001b[2m9\u001b[0m\u001b]8;;\u001b\\\n"
      ]
     },
     "metadata": {},
     "output_type": "display_data"
    },
    {
     "data": {
      "text/html": [
       "<pre style=\"white-space:pre;overflow-x:auto;line-height:normal;font-family:Menlo,'DejaVu Sans Mono',consolas,'Courier New',monospace\"><span style=\"color: #7fbfbf; text-decoration-color: #7fbfbf\">                    </span><span style=\"color: #000080; text-decoration-color: #000080\">INFO    </span> Performing clustering for <span style=\"color: #808000; text-decoration-color: #808000\">k</span>=<span style=\"color: #008080; text-decoration-color: #008080; font-weight: bold\">40</span>                                         <a href=\"file://C:\\Users\\hao_l\\AppData\\Local\\Temp\\ipykernel_10528\\1992391408.py\" target=\"_blank\"><span style=\"color: #7f7f7f; text-decoration-color: #7f7f7f\">1992391408.py</span></a><span style=\"color: #7f7f7f; text-decoration-color: #7f7f7f\">:</span><a href=\"file://C:\\Users\\hao_l\\AppData\\Local\\Temp\\ipykernel_10528\\1992391408.py#5\" target=\"_blank\"><span style=\"color: #7f7f7f; text-decoration-color: #7f7f7f\">5</span></a>\n",
       "</pre>\n"
      ],
      "text/plain": [
       "\u001b[2;36m                   \u001b[0m\u001b[2;36m \u001b[0m\u001b[34mINFO    \u001b[0m Performing clustering for \u001b[33mk\u001b[0m=\u001b[1;36m40\u001b[0m                                         \u001b]8;id=573461;file://C:\\Users\\hao_l\\AppData\\Local\\Temp\\ipykernel_10528\\1992391408.py\u001b\\\u001b[2m1992391408.py\u001b[0m\u001b]8;;\u001b\\\u001b[2m:\u001b[0m\u001b]8;id=359991;file://C:\\Users\\hao_l\\AppData\\Local\\Temp\\ipykernel_10528\\1992391408.py#5\u001b\\\u001b[2m5\u001b[0m\u001b]8;;\u001b\\\n"
      ]
     },
     "metadata": {},
     "output_type": "display_data"
    },
    {
     "data": {
      "text/html": [
       "<pre style=\"white-space:pre;overflow-x:auto;line-height:normal;font-family:Menlo,'DejaVu Sans Mono',consolas,'Courier New',monospace\"><span style=\"color: #7fbfbf; text-decoration-color: #7fbfbf\">[04/22/23 13:17:50] </span><span style=\"color: #000080; text-decoration-color: #000080\">INFO    </span> <span style=\"color: #808000; text-decoration-color: #808000\">k</span>=<span style=\"color: #008080; text-decoration-color: #008080; font-weight: bold\">40</span>, <span style=\"color: #808000; text-decoration-color: #808000\">cost</span>=<span style=\"color: #008080; text-decoration-color: #008080; font-weight: bold\">96391</span>, <span style=\"color: #808000; text-decoration-color: #808000\">n_iter</span>=<span style=\"color: #008080; text-decoration-color: #008080; font-weight: bold\">30</span>, <span style=\"color: #808000; text-decoration-color: #808000\">score</span>=<span style=\"color: #008080; text-decoration-color: #008080; font-weight: bold\">0.0919</span>                              <a href=\"file://C:\\Users\\hao_l\\AppData\\Local\\Temp\\ipykernel_10528\\1992391408.py\" target=\"_blank\"><span style=\"color: #7f7f7f; text-decoration-color: #7f7f7f\">1992391408.py</span></a><span style=\"color: #7f7f7f; text-decoration-color: #7f7f7f\">:</span><a href=\"file://C:\\Users\\hao_l\\AppData\\Local\\Temp\\ipykernel_10528\\1992391408.py#9\" target=\"_blank\"><span style=\"color: #7f7f7f; text-decoration-color: #7f7f7f\">9</span></a>\n",
       "</pre>\n"
      ],
      "text/plain": [
       "\u001b[2;36m[04/22/23 13:17:50]\u001b[0m\u001b[2;36m \u001b[0m\u001b[34mINFO    \u001b[0m \u001b[33mk\u001b[0m=\u001b[1;36m40\u001b[0m, \u001b[33mcost\u001b[0m=\u001b[1;36m96391\u001b[0m, \u001b[33mn_iter\u001b[0m=\u001b[1;36m30\u001b[0m, \u001b[33mscore\u001b[0m=\u001b[1;36m0\u001b[0m\u001b[1;36m.0919\u001b[0m                              \u001b]8;id=561308;file://C:\\Users\\hao_l\\AppData\\Local\\Temp\\ipykernel_10528\\1992391408.py\u001b\\\u001b[2m1992391408.py\u001b[0m\u001b]8;;\u001b\\\u001b[2m:\u001b[0m\u001b]8;id=526166;file://C:\\Users\\hao_l\\AppData\\Local\\Temp\\ipykernel_10528\\1992391408.py#9\u001b\\\u001b[2m9\u001b[0m\u001b]8;;\u001b\\\n"
      ]
     },
     "metadata": {},
     "output_type": "display_data"
    },
    {
     "data": {
      "text/html": [
       "<pre style=\"white-space:pre;overflow-x:auto;line-height:normal;font-family:Menlo,'DejaVu Sans Mono',consolas,'Courier New',monospace\"><span style=\"color: #7fbfbf; text-decoration-color: #7fbfbf\">                    </span><span style=\"color: #000080; text-decoration-color: #000080\">INFO    </span> Performing clustering for <span style=\"color: #808000; text-decoration-color: #808000\">k</span>=<span style=\"color: #008080; text-decoration-color: #008080; font-weight: bold\">41</span>                                         <a href=\"file://C:\\Users\\hao_l\\AppData\\Local\\Temp\\ipykernel_10528\\1992391408.py\" target=\"_blank\"><span style=\"color: #7f7f7f; text-decoration-color: #7f7f7f\">1992391408.py</span></a><span style=\"color: #7f7f7f; text-decoration-color: #7f7f7f\">:</span><a href=\"file://C:\\Users\\hao_l\\AppData\\Local\\Temp\\ipykernel_10528\\1992391408.py#5\" target=\"_blank\"><span style=\"color: #7f7f7f; text-decoration-color: #7f7f7f\">5</span></a>\n",
       "</pre>\n"
      ],
      "text/plain": [
       "\u001b[2;36m                   \u001b[0m\u001b[2;36m \u001b[0m\u001b[34mINFO    \u001b[0m Performing clustering for \u001b[33mk\u001b[0m=\u001b[1;36m41\u001b[0m                                         \u001b]8;id=162071;file://C:\\Users\\hao_l\\AppData\\Local\\Temp\\ipykernel_10528\\1992391408.py\u001b\\\u001b[2m1992391408.py\u001b[0m\u001b]8;;\u001b\\\u001b[2m:\u001b[0m\u001b]8;id=573189;file://C:\\Users\\hao_l\\AppData\\Local\\Temp\\ipykernel_10528\\1992391408.py#5\u001b\\\u001b[2m5\u001b[0m\u001b]8;;\u001b\\\n"
      ]
     },
     "metadata": {},
     "output_type": "display_data"
    },
    {
     "data": {
      "text/html": [
       "<pre style=\"white-space:pre;overflow-x:auto;line-height:normal;font-family:Menlo,'DejaVu Sans Mono',consolas,'Courier New',monospace\"><span style=\"color: #7fbfbf; text-decoration-color: #7fbfbf\">[04/22/23 13:21:02] </span><span style=\"color: #000080; text-decoration-color: #000080\">INFO    </span> <span style=\"color: #808000; text-decoration-color: #808000\">k</span>=<span style=\"color: #008080; text-decoration-color: #008080; font-weight: bold\">41</span>, <span style=\"color: #808000; text-decoration-color: #808000\">cost</span>=<span style=\"color: #008080; text-decoration-color: #008080; font-weight: bold\">95826</span>, <span style=\"color: #808000; text-decoration-color: #808000\">n_iter</span>=<span style=\"color: #008080; text-decoration-color: #008080; font-weight: bold\">30</span>, <span style=\"color: #808000; text-decoration-color: #808000\">score</span>=<span style=\"color: #008080; text-decoration-color: #008080; font-weight: bold\">0.0901</span>                              <a href=\"file://C:\\Users\\hao_l\\AppData\\Local\\Temp\\ipykernel_10528\\1992391408.py\" target=\"_blank\"><span style=\"color: #7f7f7f; text-decoration-color: #7f7f7f\">1992391408.py</span></a><span style=\"color: #7f7f7f; text-decoration-color: #7f7f7f\">:</span><a href=\"file://C:\\Users\\hao_l\\AppData\\Local\\Temp\\ipykernel_10528\\1992391408.py#9\" target=\"_blank\"><span style=\"color: #7f7f7f; text-decoration-color: #7f7f7f\">9</span></a>\n",
       "</pre>\n"
      ],
      "text/plain": [
       "\u001b[2;36m[04/22/23 13:21:02]\u001b[0m\u001b[2;36m \u001b[0m\u001b[34mINFO    \u001b[0m \u001b[33mk\u001b[0m=\u001b[1;36m41\u001b[0m, \u001b[33mcost\u001b[0m=\u001b[1;36m95826\u001b[0m, \u001b[33mn_iter\u001b[0m=\u001b[1;36m30\u001b[0m, \u001b[33mscore\u001b[0m=\u001b[1;36m0\u001b[0m\u001b[1;36m.0901\u001b[0m                              \u001b]8;id=97856;file://C:\\Users\\hao_l\\AppData\\Local\\Temp\\ipykernel_10528\\1992391408.py\u001b\\\u001b[2m1992391408.py\u001b[0m\u001b]8;;\u001b\\\u001b[2m:\u001b[0m\u001b]8;id=228095;file://C:\\Users\\hao_l\\AppData\\Local\\Temp\\ipykernel_10528\\1992391408.py#9\u001b\\\u001b[2m9\u001b[0m\u001b]8;;\u001b\\\n"
      ]
     },
     "metadata": {},
     "output_type": "display_data"
    },
    {
     "data": {
      "text/html": [
       "<pre style=\"white-space:pre;overflow-x:auto;line-height:normal;font-family:Menlo,'DejaVu Sans Mono',consolas,'Courier New',monospace\"><span style=\"color: #7fbfbf; text-decoration-color: #7fbfbf\">                    </span><span style=\"color: #000080; text-decoration-color: #000080\">INFO    </span> Performing clustering for <span style=\"color: #808000; text-decoration-color: #808000\">k</span>=<span style=\"color: #008080; text-decoration-color: #008080; font-weight: bold\">42</span>                                         <a href=\"file://C:\\Users\\hao_l\\AppData\\Local\\Temp\\ipykernel_10528\\1992391408.py\" target=\"_blank\"><span style=\"color: #7f7f7f; text-decoration-color: #7f7f7f\">1992391408.py</span></a><span style=\"color: #7f7f7f; text-decoration-color: #7f7f7f\">:</span><a href=\"file://C:\\Users\\hao_l\\AppData\\Local\\Temp\\ipykernel_10528\\1992391408.py#5\" target=\"_blank\"><span style=\"color: #7f7f7f; text-decoration-color: #7f7f7f\">5</span></a>\n",
       "</pre>\n"
      ],
      "text/plain": [
       "\u001b[2;36m                   \u001b[0m\u001b[2;36m \u001b[0m\u001b[34mINFO    \u001b[0m Performing clustering for \u001b[33mk\u001b[0m=\u001b[1;36m42\u001b[0m                                         \u001b]8;id=236305;file://C:\\Users\\hao_l\\AppData\\Local\\Temp\\ipykernel_10528\\1992391408.py\u001b\\\u001b[2m1992391408.py\u001b[0m\u001b]8;;\u001b\\\u001b[2m:\u001b[0m\u001b]8;id=392457;file://C:\\Users\\hao_l\\AppData\\Local\\Temp\\ipykernel_10528\\1992391408.py#5\u001b\\\u001b[2m5\u001b[0m\u001b]8;;\u001b\\\n"
      ]
     },
     "metadata": {},
     "output_type": "display_data"
    },
    {
     "data": {
      "text/html": [
       "<pre style=\"white-space:pre;overflow-x:auto;line-height:normal;font-family:Menlo,'DejaVu Sans Mono',consolas,'Courier New',monospace\"><span style=\"color: #7fbfbf; text-decoration-color: #7fbfbf\">[04/22/23 13:23:51] </span><span style=\"color: #000080; text-decoration-color: #000080\">INFO    </span> <span style=\"color: #808000; text-decoration-color: #808000\">k</span>=<span style=\"color: #008080; text-decoration-color: #008080; font-weight: bold\">42</span>, <span style=\"color: #808000; text-decoration-color: #808000\">cost</span>=<span style=\"color: #008080; text-decoration-color: #008080; font-weight: bold\">95410</span>, <span style=\"color: #808000; text-decoration-color: #808000\">n_iter</span>=<span style=\"color: #008080; text-decoration-color: #008080; font-weight: bold\">30</span>, <span style=\"color: #808000; text-decoration-color: #808000\">score</span>=<span style=\"color: #008080; text-decoration-color: #008080; font-weight: bold\">0.0921</span>                              <a href=\"file://C:\\Users\\hao_l\\AppData\\Local\\Temp\\ipykernel_10528\\1992391408.py\" target=\"_blank\"><span style=\"color: #7f7f7f; text-decoration-color: #7f7f7f\">1992391408.py</span></a><span style=\"color: #7f7f7f; text-decoration-color: #7f7f7f\">:</span><a href=\"file://C:\\Users\\hao_l\\AppData\\Local\\Temp\\ipykernel_10528\\1992391408.py#9\" target=\"_blank\"><span style=\"color: #7f7f7f; text-decoration-color: #7f7f7f\">9</span></a>\n",
       "</pre>\n"
      ],
      "text/plain": [
       "\u001b[2;36m[04/22/23 13:23:51]\u001b[0m\u001b[2;36m \u001b[0m\u001b[34mINFO    \u001b[0m \u001b[33mk\u001b[0m=\u001b[1;36m42\u001b[0m, \u001b[33mcost\u001b[0m=\u001b[1;36m95410\u001b[0m, \u001b[33mn_iter\u001b[0m=\u001b[1;36m30\u001b[0m, \u001b[33mscore\u001b[0m=\u001b[1;36m0\u001b[0m\u001b[1;36m.0921\u001b[0m                              \u001b]8;id=587660;file://C:\\Users\\hao_l\\AppData\\Local\\Temp\\ipykernel_10528\\1992391408.py\u001b\\\u001b[2m1992391408.py\u001b[0m\u001b]8;;\u001b\\\u001b[2m:\u001b[0m\u001b]8;id=869668;file://C:\\Users\\hao_l\\AppData\\Local\\Temp\\ipykernel_10528\\1992391408.py#9\u001b\\\u001b[2m9\u001b[0m\u001b]8;;\u001b\\\n"
      ]
     },
     "metadata": {},
     "output_type": "display_data"
    },
    {
     "data": {
      "text/html": [
       "<pre style=\"white-space:pre;overflow-x:auto;line-height:normal;font-family:Menlo,'DejaVu Sans Mono',consolas,'Courier New',monospace\"><span style=\"color: #7fbfbf; text-decoration-color: #7fbfbf\">                    </span><span style=\"color: #000080; text-decoration-color: #000080\">INFO    </span> Performing clustering for <span style=\"color: #808000; text-decoration-color: #808000\">k</span>=<span style=\"color: #008080; text-decoration-color: #008080; font-weight: bold\">43</span>                                         <a href=\"file://C:\\Users\\hao_l\\AppData\\Local\\Temp\\ipykernel_10528\\1992391408.py\" target=\"_blank\"><span style=\"color: #7f7f7f; text-decoration-color: #7f7f7f\">1992391408.py</span></a><span style=\"color: #7f7f7f; text-decoration-color: #7f7f7f\">:</span><a href=\"file://C:\\Users\\hao_l\\AppData\\Local\\Temp\\ipykernel_10528\\1992391408.py#5\" target=\"_blank\"><span style=\"color: #7f7f7f; text-decoration-color: #7f7f7f\">5</span></a>\n",
       "</pre>\n"
      ],
      "text/plain": [
       "\u001b[2;36m                   \u001b[0m\u001b[2;36m \u001b[0m\u001b[34mINFO    \u001b[0m Performing clustering for \u001b[33mk\u001b[0m=\u001b[1;36m43\u001b[0m                                         \u001b]8;id=701532;file://C:\\Users\\hao_l\\AppData\\Local\\Temp\\ipykernel_10528\\1992391408.py\u001b\\\u001b[2m1992391408.py\u001b[0m\u001b]8;;\u001b\\\u001b[2m:\u001b[0m\u001b]8;id=428772;file://C:\\Users\\hao_l\\AppData\\Local\\Temp\\ipykernel_10528\\1992391408.py#5\u001b\\\u001b[2m5\u001b[0m\u001b]8;;\u001b\\\n"
      ]
     },
     "metadata": {},
     "output_type": "display_data"
    },
    {
     "data": {
      "text/html": [
       "<pre style=\"white-space:pre;overflow-x:auto;line-height:normal;font-family:Menlo,'DejaVu Sans Mono',consolas,'Courier New',monospace\"><span style=\"color: #7fbfbf; text-decoration-color: #7fbfbf\">[04/22/23 13:27:09] </span><span style=\"color: #000080; text-decoration-color: #000080\">INFO    </span> <span style=\"color: #808000; text-decoration-color: #808000\">k</span>=<span style=\"color: #008080; text-decoration-color: #008080; font-weight: bold\">43</span>, <span style=\"color: #808000; text-decoration-color: #808000\">cost</span>=<span style=\"color: #008080; text-decoration-color: #008080; font-weight: bold\">94641</span>, <span style=\"color: #808000; text-decoration-color: #808000\">n_iter</span>=<span style=\"color: #008080; text-decoration-color: #008080; font-weight: bold\">30</span>, <span style=\"color: #808000; text-decoration-color: #808000\">score</span>=<span style=\"color: #008080; text-decoration-color: #008080; font-weight: bold\">0.0885</span>                              <a href=\"file://C:\\Users\\hao_l\\AppData\\Local\\Temp\\ipykernel_10528\\1992391408.py\" target=\"_blank\"><span style=\"color: #7f7f7f; text-decoration-color: #7f7f7f\">1992391408.py</span></a><span style=\"color: #7f7f7f; text-decoration-color: #7f7f7f\">:</span><a href=\"file://C:\\Users\\hao_l\\AppData\\Local\\Temp\\ipykernel_10528\\1992391408.py#9\" target=\"_blank\"><span style=\"color: #7f7f7f; text-decoration-color: #7f7f7f\">9</span></a>\n",
       "</pre>\n"
      ],
      "text/plain": [
       "\u001b[2;36m[04/22/23 13:27:09]\u001b[0m\u001b[2;36m \u001b[0m\u001b[34mINFO    \u001b[0m \u001b[33mk\u001b[0m=\u001b[1;36m43\u001b[0m, \u001b[33mcost\u001b[0m=\u001b[1;36m94641\u001b[0m, \u001b[33mn_iter\u001b[0m=\u001b[1;36m30\u001b[0m, \u001b[33mscore\u001b[0m=\u001b[1;36m0\u001b[0m\u001b[1;36m.0885\u001b[0m                              \u001b]8;id=972265;file://C:\\Users\\hao_l\\AppData\\Local\\Temp\\ipykernel_10528\\1992391408.py\u001b\\\u001b[2m1992391408.py\u001b[0m\u001b]8;;\u001b\\\u001b[2m:\u001b[0m\u001b]8;id=150903;file://C:\\Users\\hao_l\\AppData\\Local\\Temp\\ipykernel_10528\\1992391408.py#9\u001b\\\u001b[2m9\u001b[0m\u001b]8;;\u001b\\\n"
      ]
     },
     "metadata": {},
     "output_type": "display_data"
    },
    {
     "data": {
      "text/html": [
       "<pre style=\"white-space:pre;overflow-x:auto;line-height:normal;font-family:Menlo,'DejaVu Sans Mono',consolas,'Courier New',monospace\"><span style=\"color: #7fbfbf; text-decoration-color: #7fbfbf\">                    </span><span style=\"color: #000080; text-decoration-color: #000080\">INFO    </span> Performing clustering for <span style=\"color: #808000; text-decoration-color: #808000\">k</span>=<span style=\"color: #008080; text-decoration-color: #008080; font-weight: bold\">44</span>                                         <a href=\"file://C:\\Users\\hao_l\\AppData\\Local\\Temp\\ipykernel_10528\\1992391408.py\" target=\"_blank\"><span style=\"color: #7f7f7f; text-decoration-color: #7f7f7f\">1992391408.py</span></a><span style=\"color: #7f7f7f; text-decoration-color: #7f7f7f\">:</span><a href=\"file://C:\\Users\\hao_l\\AppData\\Local\\Temp\\ipykernel_10528\\1992391408.py#5\" target=\"_blank\"><span style=\"color: #7f7f7f; text-decoration-color: #7f7f7f\">5</span></a>\n",
       "</pre>\n"
      ],
      "text/plain": [
       "\u001b[2;36m                   \u001b[0m\u001b[2;36m \u001b[0m\u001b[34mINFO    \u001b[0m Performing clustering for \u001b[33mk\u001b[0m=\u001b[1;36m44\u001b[0m                                         \u001b]8;id=39607;file://C:\\Users\\hao_l\\AppData\\Local\\Temp\\ipykernel_10528\\1992391408.py\u001b\\\u001b[2m1992391408.py\u001b[0m\u001b]8;;\u001b\\\u001b[2m:\u001b[0m\u001b]8;id=838847;file://C:\\Users\\hao_l\\AppData\\Local\\Temp\\ipykernel_10528\\1992391408.py#5\u001b\\\u001b[2m5\u001b[0m\u001b]8;;\u001b\\\n"
      ]
     },
     "metadata": {},
     "output_type": "display_data"
    },
    {
     "data": {
      "text/html": [
       "<pre style=\"white-space:pre;overflow-x:auto;line-height:normal;font-family:Menlo,'DejaVu Sans Mono',consolas,'Courier New',monospace\"><span style=\"color: #7fbfbf; text-decoration-color: #7fbfbf\">[04/22/23 13:30:18] </span><span style=\"color: #000080; text-decoration-color: #000080\">INFO    </span> <span style=\"color: #808000; text-decoration-color: #808000\">k</span>=<span style=\"color: #008080; text-decoration-color: #008080; font-weight: bold\">44</span>, <span style=\"color: #808000; text-decoration-color: #808000\">cost</span>=<span style=\"color: #008080; text-decoration-color: #008080; font-weight: bold\">94095</span>, <span style=\"color: #808000; text-decoration-color: #808000\">n_iter</span>=<span style=\"color: #008080; text-decoration-color: #008080; font-weight: bold\">30</span>, <span style=\"color: #808000; text-decoration-color: #808000\">score</span>=<span style=\"color: #008080; text-decoration-color: #008080; font-weight: bold\">0.0920</span>                              <a href=\"file://C:\\Users\\hao_l\\AppData\\Local\\Temp\\ipykernel_10528\\1992391408.py\" target=\"_blank\"><span style=\"color: #7f7f7f; text-decoration-color: #7f7f7f\">1992391408.py</span></a><span style=\"color: #7f7f7f; text-decoration-color: #7f7f7f\">:</span><a href=\"file://C:\\Users\\hao_l\\AppData\\Local\\Temp\\ipykernel_10528\\1992391408.py#9\" target=\"_blank\"><span style=\"color: #7f7f7f; text-decoration-color: #7f7f7f\">9</span></a>\n",
       "</pre>\n"
      ],
      "text/plain": [
       "\u001b[2;36m[04/22/23 13:30:18]\u001b[0m\u001b[2;36m \u001b[0m\u001b[34mINFO    \u001b[0m \u001b[33mk\u001b[0m=\u001b[1;36m44\u001b[0m, \u001b[33mcost\u001b[0m=\u001b[1;36m94095\u001b[0m, \u001b[33mn_iter\u001b[0m=\u001b[1;36m30\u001b[0m, \u001b[33mscore\u001b[0m=\u001b[1;36m0\u001b[0m\u001b[1;36m.0920\u001b[0m                              \u001b]8;id=576195;file://C:\\Users\\hao_l\\AppData\\Local\\Temp\\ipykernel_10528\\1992391408.py\u001b\\\u001b[2m1992391408.py\u001b[0m\u001b]8;;\u001b\\\u001b[2m:\u001b[0m\u001b]8;id=942571;file://C:\\Users\\hao_l\\AppData\\Local\\Temp\\ipykernel_10528\\1992391408.py#9\u001b\\\u001b[2m9\u001b[0m\u001b]8;;\u001b\\\n"
      ]
     },
     "metadata": {},
     "output_type": "display_data"
    },
    {
     "data": {
      "text/html": [
       "<pre style=\"white-space:pre;overflow-x:auto;line-height:normal;font-family:Menlo,'DejaVu Sans Mono',consolas,'Courier New',monospace\"><span style=\"color: #7fbfbf; text-decoration-color: #7fbfbf\">                    </span><span style=\"color: #000080; text-decoration-color: #000080\">INFO    </span> Performing clustering for <span style=\"color: #808000; text-decoration-color: #808000\">k</span>=<span style=\"color: #008080; text-decoration-color: #008080; font-weight: bold\">45</span>                                         <a href=\"file://C:\\Users\\hao_l\\AppData\\Local\\Temp\\ipykernel_10528\\1992391408.py\" target=\"_blank\"><span style=\"color: #7f7f7f; text-decoration-color: #7f7f7f\">1992391408.py</span></a><span style=\"color: #7f7f7f; text-decoration-color: #7f7f7f\">:</span><a href=\"file://C:\\Users\\hao_l\\AppData\\Local\\Temp\\ipykernel_10528\\1992391408.py#5\" target=\"_blank\"><span style=\"color: #7f7f7f; text-decoration-color: #7f7f7f\">5</span></a>\n",
       "</pre>\n"
      ],
      "text/plain": [
       "\u001b[2;36m                   \u001b[0m\u001b[2;36m \u001b[0m\u001b[34mINFO    \u001b[0m Performing clustering for \u001b[33mk\u001b[0m=\u001b[1;36m45\u001b[0m                                         \u001b]8;id=192391;file://C:\\Users\\hao_l\\AppData\\Local\\Temp\\ipykernel_10528\\1992391408.py\u001b\\\u001b[2m1992391408.py\u001b[0m\u001b]8;;\u001b\\\u001b[2m:\u001b[0m\u001b]8;id=996526;file://C:\\Users\\hao_l\\AppData\\Local\\Temp\\ipykernel_10528\\1992391408.py#5\u001b\\\u001b[2m5\u001b[0m\u001b]8;;\u001b\\\n"
      ]
     },
     "metadata": {},
     "output_type": "display_data"
    },
    {
     "data": {
      "text/html": [
       "<pre style=\"white-space:pre;overflow-x:auto;line-height:normal;font-family:Menlo,'DejaVu Sans Mono',consolas,'Courier New',monospace\"><span style=\"color: #7fbfbf; text-decoration-color: #7fbfbf\">[04/22/23 13:33:28] </span><span style=\"color: #000080; text-decoration-color: #000080\">INFO    </span> <span style=\"color: #808000; text-decoration-color: #808000\">k</span>=<span style=\"color: #008080; text-decoration-color: #008080; font-weight: bold\">45</span>, <span style=\"color: #808000; text-decoration-color: #808000\">cost</span>=<span style=\"color: #008080; text-decoration-color: #008080; font-weight: bold\">93709</span>, <span style=\"color: #808000; text-decoration-color: #808000\">n_iter</span>=<span style=\"color: #008080; text-decoration-color: #008080; font-weight: bold\">30</span>, <span style=\"color: #808000; text-decoration-color: #808000\">score</span>=<span style=\"color: #008080; text-decoration-color: #008080; font-weight: bold\">0.0891</span>                              <a href=\"file://C:\\Users\\hao_l\\AppData\\Local\\Temp\\ipykernel_10528\\1992391408.py\" target=\"_blank\"><span style=\"color: #7f7f7f; text-decoration-color: #7f7f7f\">1992391408.py</span></a><span style=\"color: #7f7f7f; text-decoration-color: #7f7f7f\">:</span><a href=\"file://C:\\Users\\hao_l\\AppData\\Local\\Temp\\ipykernel_10528\\1992391408.py#9\" target=\"_blank\"><span style=\"color: #7f7f7f; text-decoration-color: #7f7f7f\">9</span></a>\n",
       "</pre>\n"
      ],
      "text/plain": [
       "\u001b[2;36m[04/22/23 13:33:28]\u001b[0m\u001b[2;36m \u001b[0m\u001b[34mINFO    \u001b[0m \u001b[33mk\u001b[0m=\u001b[1;36m45\u001b[0m, \u001b[33mcost\u001b[0m=\u001b[1;36m93709\u001b[0m, \u001b[33mn_iter\u001b[0m=\u001b[1;36m30\u001b[0m, \u001b[33mscore\u001b[0m=\u001b[1;36m0\u001b[0m\u001b[1;36m.0891\u001b[0m                              \u001b]8;id=385304;file://C:\\Users\\hao_l\\AppData\\Local\\Temp\\ipykernel_10528\\1992391408.py\u001b\\\u001b[2m1992391408.py\u001b[0m\u001b]8;;\u001b\\\u001b[2m:\u001b[0m\u001b]8;id=825266;file://C:\\Users\\hao_l\\AppData\\Local\\Temp\\ipykernel_10528\\1992391408.py#9\u001b\\\u001b[2m9\u001b[0m\u001b]8;;\u001b\\\n"
      ]
     },
     "metadata": {},
     "output_type": "display_data"
    },
    {
     "data": {
      "text/html": [
       "<pre style=\"white-space:pre;overflow-x:auto;line-height:normal;font-family:Menlo,'DejaVu Sans Mono',consolas,'Courier New',monospace\"><span style=\"color: #7fbfbf; text-decoration-color: #7fbfbf\">                    </span><span style=\"color: #000080; text-decoration-color: #000080\">INFO    </span> Performing clustering for <span style=\"color: #808000; text-decoration-color: #808000\">k</span>=<span style=\"color: #008080; text-decoration-color: #008080; font-weight: bold\">46</span>                                         <a href=\"file://C:\\Users\\hao_l\\AppData\\Local\\Temp\\ipykernel_10528\\1992391408.py\" target=\"_blank\"><span style=\"color: #7f7f7f; text-decoration-color: #7f7f7f\">1992391408.py</span></a><span style=\"color: #7f7f7f; text-decoration-color: #7f7f7f\">:</span><a href=\"file://C:\\Users\\hao_l\\AppData\\Local\\Temp\\ipykernel_10528\\1992391408.py#5\" target=\"_blank\"><span style=\"color: #7f7f7f; text-decoration-color: #7f7f7f\">5</span></a>\n",
       "</pre>\n"
      ],
      "text/plain": [
       "\u001b[2;36m                   \u001b[0m\u001b[2;36m \u001b[0m\u001b[34mINFO    \u001b[0m Performing clustering for \u001b[33mk\u001b[0m=\u001b[1;36m46\u001b[0m                                         \u001b]8;id=422702;file://C:\\Users\\hao_l\\AppData\\Local\\Temp\\ipykernel_10528\\1992391408.py\u001b\\\u001b[2m1992391408.py\u001b[0m\u001b]8;;\u001b\\\u001b[2m:\u001b[0m\u001b]8;id=308768;file://C:\\Users\\hao_l\\AppData\\Local\\Temp\\ipykernel_10528\\1992391408.py#5\u001b\\\u001b[2m5\u001b[0m\u001b]8;;\u001b\\\n"
      ]
     },
     "metadata": {},
     "output_type": "display_data"
    },
    {
     "data": {
      "text/html": [
       "<pre style=\"white-space:pre;overflow-x:auto;line-height:normal;font-family:Menlo,'DejaVu Sans Mono',consolas,'Courier New',monospace\"><span style=\"color: #7fbfbf; text-decoration-color: #7fbfbf\">[04/22/23 13:37:08] </span><span style=\"color: #000080; text-decoration-color: #000080\">INFO    </span> <span style=\"color: #808000; text-decoration-color: #808000\">k</span>=<span style=\"color: #008080; text-decoration-color: #008080; font-weight: bold\">46</span>, <span style=\"color: #808000; text-decoration-color: #808000\">cost</span>=<span style=\"color: #008080; text-decoration-color: #008080; font-weight: bold\">92987</span>, <span style=\"color: #808000; text-decoration-color: #808000\">n_iter</span>=<span style=\"color: #008080; text-decoration-color: #008080; font-weight: bold\">30</span>, <span style=\"color: #808000; text-decoration-color: #808000\">score</span>=<span style=\"color: #008080; text-decoration-color: #008080; font-weight: bold\">0.0904</span>                              <a href=\"file://C:\\Users\\hao_l\\AppData\\Local\\Temp\\ipykernel_10528\\1992391408.py\" target=\"_blank\"><span style=\"color: #7f7f7f; text-decoration-color: #7f7f7f\">1992391408.py</span></a><span style=\"color: #7f7f7f; text-decoration-color: #7f7f7f\">:</span><a href=\"file://C:\\Users\\hao_l\\AppData\\Local\\Temp\\ipykernel_10528\\1992391408.py#9\" target=\"_blank\"><span style=\"color: #7f7f7f; text-decoration-color: #7f7f7f\">9</span></a>\n",
       "</pre>\n"
      ],
      "text/plain": [
       "\u001b[2;36m[04/22/23 13:37:08]\u001b[0m\u001b[2;36m \u001b[0m\u001b[34mINFO    \u001b[0m \u001b[33mk\u001b[0m=\u001b[1;36m46\u001b[0m, \u001b[33mcost\u001b[0m=\u001b[1;36m92987\u001b[0m, \u001b[33mn_iter\u001b[0m=\u001b[1;36m30\u001b[0m, \u001b[33mscore\u001b[0m=\u001b[1;36m0\u001b[0m\u001b[1;36m.0904\u001b[0m                              \u001b]8;id=952011;file://C:\\Users\\hao_l\\AppData\\Local\\Temp\\ipykernel_10528\\1992391408.py\u001b\\\u001b[2m1992391408.py\u001b[0m\u001b]8;;\u001b\\\u001b[2m:\u001b[0m\u001b]8;id=368790;file://C:\\Users\\hao_l\\AppData\\Local\\Temp\\ipykernel_10528\\1992391408.py#9\u001b\\\u001b[2m9\u001b[0m\u001b]8;;\u001b\\\n"
      ]
     },
     "metadata": {},
     "output_type": "display_data"
    },
    {
     "data": {
      "text/html": [
       "<pre style=\"white-space:pre;overflow-x:auto;line-height:normal;font-family:Menlo,'DejaVu Sans Mono',consolas,'Courier New',monospace\"><span style=\"color: #7fbfbf; text-decoration-color: #7fbfbf\">                    </span><span style=\"color: #000080; text-decoration-color: #000080\">INFO    </span> Performing clustering for <span style=\"color: #808000; text-decoration-color: #808000\">k</span>=<span style=\"color: #008080; text-decoration-color: #008080; font-weight: bold\">47</span>                                         <a href=\"file://C:\\Users\\hao_l\\AppData\\Local\\Temp\\ipykernel_10528\\1992391408.py\" target=\"_blank\"><span style=\"color: #7f7f7f; text-decoration-color: #7f7f7f\">1992391408.py</span></a><span style=\"color: #7f7f7f; text-decoration-color: #7f7f7f\">:</span><a href=\"file://C:\\Users\\hao_l\\AppData\\Local\\Temp\\ipykernel_10528\\1992391408.py#5\" target=\"_blank\"><span style=\"color: #7f7f7f; text-decoration-color: #7f7f7f\">5</span></a>\n",
       "</pre>\n"
      ],
      "text/plain": [
       "\u001b[2;36m                   \u001b[0m\u001b[2;36m \u001b[0m\u001b[34mINFO    \u001b[0m Performing clustering for \u001b[33mk\u001b[0m=\u001b[1;36m47\u001b[0m                                         \u001b]8;id=866149;file://C:\\Users\\hao_l\\AppData\\Local\\Temp\\ipykernel_10528\\1992391408.py\u001b\\\u001b[2m1992391408.py\u001b[0m\u001b]8;;\u001b\\\u001b[2m:\u001b[0m\u001b]8;id=445377;file://C:\\Users\\hao_l\\AppData\\Local\\Temp\\ipykernel_10528\\1992391408.py#5\u001b\\\u001b[2m5\u001b[0m\u001b]8;;\u001b\\\n"
      ]
     },
     "metadata": {},
     "output_type": "display_data"
    },
    {
     "data": {
      "text/html": [
       "<pre style=\"white-space:pre;overflow-x:auto;line-height:normal;font-family:Menlo,'DejaVu Sans Mono',consolas,'Courier New',monospace\"><span style=\"color: #7fbfbf; text-decoration-color: #7fbfbf\">[04/22/23 13:40:40] </span><span style=\"color: #000080; text-decoration-color: #000080\">INFO    </span> <span style=\"color: #808000; text-decoration-color: #808000\">k</span>=<span style=\"color: #008080; text-decoration-color: #008080; font-weight: bold\">47</span>, <span style=\"color: #808000; text-decoration-color: #808000\">cost</span>=<span style=\"color: #008080; text-decoration-color: #008080; font-weight: bold\">92678</span>, <span style=\"color: #808000; text-decoration-color: #808000\">n_iter</span>=<span style=\"color: #008080; text-decoration-color: #008080; font-weight: bold\">30</span>, <span style=\"color: #808000; text-decoration-color: #808000\">score</span>=<span style=\"color: #008080; text-decoration-color: #008080; font-weight: bold\">0.0880</span>                              <a href=\"file://C:\\Users\\hao_l\\AppData\\Local\\Temp\\ipykernel_10528\\1992391408.py\" target=\"_blank\"><span style=\"color: #7f7f7f; text-decoration-color: #7f7f7f\">1992391408.py</span></a><span style=\"color: #7f7f7f; text-decoration-color: #7f7f7f\">:</span><a href=\"file://C:\\Users\\hao_l\\AppData\\Local\\Temp\\ipykernel_10528\\1992391408.py#9\" target=\"_blank\"><span style=\"color: #7f7f7f; text-decoration-color: #7f7f7f\">9</span></a>\n",
       "</pre>\n"
      ],
      "text/plain": [
       "\u001b[2;36m[04/22/23 13:40:40]\u001b[0m\u001b[2;36m \u001b[0m\u001b[34mINFO    \u001b[0m \u001b[33mk\u001b[0m=\u001b[1;36m47\u001b[0m, \u001b[33mcost\u001b[0m=\u001b[1;36m92678\u001b[0m, \u001b[33mn_iter\u001b[0m=\u001b[1;36m30\u001b[0m, \u001b[33mscore\u001b[0m=\u001b[1;36m0\u001b[0m\u001b[1;36m.0880\u001b[0m                              \u001b]8;id=516526;file://C:\\Users\\hao_l\\AppData\\Local\\Temp\\ipykernel_10528\\1992391408.py\u001b\\\u001b[2m1992391408.py\u001b[0m\u001b]8;;\u001b\\\u001b[2m:\u001b[0m\u001b]8;id=493067;file://C:\\Users\\hao_l\\AppData\\Local\\Temp\\ipykernel_10528\\1992391408.py#9\u001b\\\u001b[2m9\u001b[0m\u001b]8;;\u001b\\\n"
      ]
     },
     "metadata": {},
     "output_type": "display_data"
    },
    {
     "data": {
      "text/html": [
       "<pre style=\"white-space:pre;overflow-x:auto;line-height:normal;font-family:Menlo,'DejaVu Sans Mono',consolas,'Courier New',monospace\"><span style=\"color: #7fbfbf; text-decoration-color: #7fbfbf\">                    </span><span style=\"color: #000080; text-decoration-color: #000080\">INFO    </span> Performing clustering for <span style=\"color: #808000; text-decoration-color: #808000\">k</span>=<span style=\"color: #008080; text-decoration-color: #008080; font-weight: bold\">48</span>                                         <a href=\"file://C:\\Users\\hao_l\\AppData\\Local\\Temp\\ipykernel_10528\\1992391408.py\" target=\"_blank\"><span style=\"color: #7f7f7f; text-decoration-color: #7f7f7f\">1992391408.py</span></a><span style=\"color: #7f7f7f; text-decoration-color: #7f7f7f\">:</span><a href=\"file://C:\\Users\\hao_l\\AppData\\Local\\Temp\\ipykernel_10528\\1992391408.py#5\" target=\"_blank\"><span style=\"color: #7f7f7f; text-decoration-color: #7f7f7f\">5</span></a>\n",
       "</pre>\n"
      ],
      "text/plain": [
       "\u001b[2;36m                   \u001b[0m\u001b[2;36m \u001b[0m\u001b[34mINFO    \u001b[0m Performing clustering for \u001b[33mk\u001b[0m=\u001b[1;36m48\u001b[0m                                         \u001b]8;id=72944;file://C:\\Users\\hao_l\\AppData\\Local\\Temp\\ipykernel_10528\\1992391408.py\u001b\\\u001b[2m1992391408.py\u001b[0m\u001b]8;;\u001b\\\u001b[2m:\u001b[0m\u001b]8;id=595546;file://C:\\Users\\hao_l\\AppData\\Local\\Temp\\ipykernel_10528\\1992391408.py#5\u001b\\\u001b[2m5\u001b[0m\u001b]8;;\u001b\\\n"
      ]
     },
     "metadata": {},
     "output_type": "display_data"
    },
    {
     "data": {
      "text/html": [
       "<pre style=\"white-space:pre;overflow-x:auto;line-height:normal;font-family:Menlo,'DejaVu Sans Mono',consolas,'Courier New',monospace\"><span style=\"color: #7fbfbf; text-decoration-color: #7fbfbf\">[04/22/23 13:44:14] </span><span style=\"color: #000080; text-decoration-color: #000080\">INFO    </span> <span style=\"color: #808000; text-decoration-color: #808000\">k</span>=<span style=\"color: #008080; text-decoration-color: #008080; font-weight: bold\">48</span>, <span style=\"color: #808000; text-decoration-color: #808000\">cost</span>=<span style=\"color: #008080; text-decoration-color: #008080; font-weight: bold\">91868</span>, <span style=\"color: #808000; text-decoration-color: #808000\">n_iter</span>=<span style=\"color: #008080; text-decoration-color: #008080; font-weight: bold\">30</span>, <span style=\"color: #808000; text-decoration-color: #808000\">score</span>=<span style=\"color: #008080; text-decoration-color: #008080; font-weight: bold\">0.0888</span>                              <a href=\"file://C:\\Users\\hao_l\\AppData\\Local\\Temp\\ipykernel_10528\\1992391408.py\" target=\"_blank\"><span style=\"color: #7f7f7f; text-decoration-color: #7f7f7f\">1992391408.py</span></a><span style=\"color: #7f7f7f; text-decoration-color: #7f7f7f\">:</span><a href=\"file://C:\\Users\\hao_l\\AppData\\Local\\Temp\\ipykernel_10528\\1992391408.py#9\" target=\"_blank\"><span style=\"color: #7f7f7f; text-decoration-color: #7f7f7f\">9</span></a>\n",
       "</pre>\n"
      ],
      "text/plain": [
       "\u001b[2;36m[04/22/23 13:44:14]\u001b[0m\u001b[2;36m \u001b[0m\u001b[34mINFO    \u001b[0m \u001b[33mk\u001b[0m=\u001b[1;36m48\u001b[0m, \u001b[33mcost\u001b[0m=\u001b[1;36m91868\u001b[0m, \u001b[33mn_iter\u001b[0m=\u001b[1;36m30\u001b[0m, \u001b[33mscore\u001b[0m=\u001b[1;36m0\u001b[0m\u001b[1;36m.0888\u001b[0m                              \u001b]8;id=998569;file://C:\\Users\\hao_l\\AppData\\Local\\Temp\\ipykernel_10528\\1992391408.py\u001b\\\u001b[2m1992391408.py\u001b[0m\u001b]8;;\u001b\\\u001b[2m:\u001b[0m\u001b]8;id=409788;file://C:\\Users\\hao_l\\AppData\\Local\\Temp\\ipykernel_10528\\1992391408.py#9\u001b\\\u001b[2m9\u001b[0m\u001b]8;;\u001b\\\n"
      ]
     },
     "metadata": {},
     "output_type": "display_data"
    },
    {
     "data": {
      "text/html": [
       "<pre style=\"white-space:pre;overflow-x:auto;line-height:normal;font-family:Menlo,'DejaVu Sans Mono',consolas,'Courier New',monospace\"><span style=\"color: #7fbfbf; text-decoration-color: #7fbfbf\">                    </span><span style=\"color: #000080; text-decoration-color: #000080\">INFO    </span> Performing clustering for <span style=\"color: #808000; text-decoration-color: #808000\">k</span>=<span style=\"color: #008080; text-decoration-color: #008080; font-weight: bold\">49</span>                                         <a href=\"file://C:\\Users\\hao_l\\AppData\\Local\\Temp\\ipykernel_10528\\1992391408.py\" target=\"_blank\"><span style=\"color: #7f7f7f; text-decoration-color: #7f7f7f\">1992391408.py</span></a><span style=\"color: #7f7f7f; text-decoration-color: #7f7f7f\">:</span><a href=\"file://C:\\Users\\hao_l\\AppData\\Local\\Temp\\ipykernel_10528\\1992391408.py#5\" target=\"_blank\"><span style=\"color: #7f7f7f; text-decoration-color: #7f7f7f\">5</span></a>\n",
       "</pre>\n"
      ],
      "text/plain": [
       "\u001b[2;36m                   \u001b[0m\u001b[2;36m \u001b[0m\u001b[34mINFO    \u001b[0m Performing clustering for \u001b[33mk\u001b[0m=\u001b[1;36m49\u001b[0m                                         \u001b]8;id=837653;file://C:\\Users\\hao_l\\AppData\\Local\\Temp\\ipykernel_10528\\1992391408.py\u001b\\\u001b[2m1992391408.py\u001b[0m\u001b]8;;\u001b\\\u001b[2m:\u001b[0m\u001b]8;id=466723;file://C:\\Users\\hao_l\\AppData\\Local\\Temp\\ipykernel_10528\\1992391408.py#5\u001b\\\u001b[2m5\u001b[0m\u001b]8;;\u001b\\\n"
      ]
     },
     "metadata": {},
     "output_type": "display_data"
    },
    {
     "data": {
      "text/html": [
       "<pre style=\"white-space:pre;overflow-x:auto;line-height:normal;font-family:Menlo,'DejaVu Sans Mono',consolas,'Courier New',monospace\"><span style=\"color: #7fbfbf; text-decoration-color: #7fbfbf\">[04/22/23 13:47:29] </span><span style=\"color: #000080; text-decoration-color: #000080\">INFO    </span> <span style=\"color: #808000; text-decoration-color: #808000\">k</span>=<span style=\"color: #008080; text-decoration-color: #008080; font-weight: bold\">49</span>, <span style=\"color: #808000; text-decoration-color: #808000\">cost</span>=<span style=\"color: #008080; text-decoration-color: #008080; font-weight: bold\">91566</span>, <span style=\"color: #808000; text-decoration-color: #808000\">n_iter</span>=<span style=\"color: #008080; text-decoration-color: #008080; font-weight: bold\">30</span>, <span style=\"color: #808000; text-decoration-color: #808000\">score</span>=<span style=\"color: #008080; text-decoration-color: #008080; font-weight: bold\">0.0876</span>                              <a href=\"file://C:\\Users\\hao_l\\AppData\\Local\\Temp\\ipykernel_10528\\1992391408.py\" target=\"_blank\"><span style=\"color: #7f7f7f; text-decoration-color: #7f7f7f\">1992391408.py</span></a><span style=\"color: #7f7f7f; text-decoration-color: #7f7f7f\">:</span><a href=\"file://C:\\Users\\hao_l\\AppData\\Local\\Temp\\ipykernel_10528\\1992391408.py#9\" target=\"_blank\"><span style=\"color: #7f7f7f; text-decoration-color: #7f7f7f\">9</span></a>\n",
       "</pre>\n"
      ],
      "text/plain": [
       "\u001b[2;36m[04/22/23 13:47:29]\u001b[0m\u001b[2;36m \u001b[0m\u001b[34mINFO    \u001b[0m \u001b[33mk\u001b[0m=\u001b[1;36m49\u001b[0m, \u001b[33mcost\u001b[0m=\u001b[1;36m91566\u001b[0m, \u001b[33mn_iter\u001b[0m=\u001b[1;36m30\u001b[0m, \u001b[33mscore\u001b[0m=\u001b[1;36m0\u001b[0m\u001b[1;36m.0876\u001b[0m                              \u001b]8;id=940425;file://C:\\Users\\hao_l\\AppData\\Local\\Temp\\ipykernel_10528\\1992391408.py\u001b\\\u001b[2m1992391408.py\u001b[0m\u001b]8;;\u001b\\\u001b[2m:\u001b[0m\u001b]8;id=978007;file://C:\\Users\\hao_l\\AppData\\Local\\Temp\\ipykernel_10528\\1992391408.py#9\u001b\\\u001b[2m9\u001b[0m\u001b]8;;\u001b\\\n"
      ]
     },
     "metadata": {},
     "output_type": "display_data"
    },
    {
     "data": {
      "text/html": [
       "<pre style=\"white-space:pre;overflow-x:auto;line-height:normal;font-family:Menlo,'DejaVu Sans Mono',consolas,'Courier New',monospace\"><span style=\"color: #7fbfbf; text-decoration-color: #7fbfbf\">                    </span><span style=\"color: #000080; text-decoration-color: #000080\">INFO    </span> Performing clustering for <span style=\"color: #808000; text-decoration-color: #808000\">k</span>=<span style=\"color: #008080; text-decoration-color: #008080; font-weight: bold\">50</span>                                         <a href=\"file://C:\\Users\\hao_l\\AppData\\Local\\Temp\\ipykernel_10528\\1992391408.py\" target=\"_blank\"><span style=\"color: #7f7f7f; text-decoration-color: #7f7f7f\">1992391408.py</span></a><span style=\"color: #7f7f7f; text-decoration-color: #7f7f7f\">:</span><a href=\"file://C:\\Users\\hao_l\\AppData\\Local\\Temp\\ipykernel_10528\\1992391408.py#5\" target=\"_blank\"><span style=\"color: #7f7f7f; text-decoration-color: #7f7f7f\">5</span></a>\n",
       "</pre>\n"
      ],
      "text/plain": [
       "\u001b[2;36m                   \u001b[0m\u001b[2;36m \u001b[0m\u001b[34mINFO    \u001b[0m Performing clustering for \u001b[33mk\u001b[0m=\u001b[1;36m50\u001b[0m                                         \u001b]8;id=199454;file://C:\\Users\\hao_l\\AppData\\Local\\Temp\\ipykernel_10528\\1992391408.py\u001b\\\u001b[2m1992391408.py\u001b[0m\u001b]8;;\u001b\\\u001b[2m:\u001b[0m\u001b]8;id=428525;file://C:\\Users\\hao_l\\AppData\\Local\\Temp\\ipykernel_10528\\1992391408.py#5\u001b\\\u001b[2m5\u001b[0m\u001b]8;;\u001b\\\n"
      ]
     },
     "metadata": {},
     "output_type": "display_data"
    },
    {
     "data": {
      "text/html": [
       "<pre style=\"white-space:pre;overflow-x:auto;line-height:normal;font-family:Menlo,'DejaVu Sans Mono',consolas,'Courier New',monospace\"><span style=\"color: #7fbfbf; text-decoration-color: #7fbfbf\">[04/22/23 13:50:58] </span><span style=\"color: #000080; text-decoration-color: #000080\">INFO    </span> <span style=\"color: #808000; text-decoration-color: #808000\">k</span>=<span style=\"color: #008080; text-decoration-color: #008080; font-weight: bold\">50</span>, <span style=\"color: #808000; text-decoration-color: #808000\">cost</span>=<span style=\"color: #008080; text-decoration-color: #008080; font-weight: bold\">91033</span>, <span style=\"color: #808000; text-decoration-color: #808000\">n_iter</span>=<span style=\"color: #008080; text-decoration-color: #008080; font-weight: bold\">30</span>, <span style=\"color: #808000; text-decoration-color: #808000\">score</span>=<span style=\"color: #008080; text-decoration-color: #008080; font-weight: bold\">0.0876</span>                              <a href=\"file://C:\\Users\\hao_l\\AppData\\Local\\Temp\\ipykernel_10528\\1992391408.py\" target=\"_blank\"><span style=\"color: #7f7f7f; text-decoration-color: #7f7f7f\">1992391408.py</span></a><span style=\"color: #7f7f7f; text-decoration-color: #7f7f7f\">:</span><a href=\"file://C:\\Users\\hao_l\\AppData\\Local\\Temp\\ipykernel_10528\\1992391408.py#9\" target=\"_blank\"><span style=\"color: #7f7f7f; text-decoration-color: #7f7f7f\">9</span></a>\n",
       "</pre>\n"
      ],
      "text/plain": [
       "\u001b[2;36m[04/22/23 13:50:58]\u001b[0m\u001b[2;36m \u001b[0m\u001b[34mINFO    \u001b[0m \u001b[33mk\u001b[0m=\u001b[1;36m50\u001b[0m, \u001b[33mcost\u001b[0m=\u001b[1;36m91033\u001b[0m, \u001b[33mn_iter\u001b[0m=\u001b[1;36m30\u001b[0m, \u001b[33mscore\u001b[0m=\u001b[1;36m0\u001b[0m\u001b[1;36m.0876\u001b[0m                              \u001b]8;id=358515;file://C:\\Users\\hao_l\\AppData\\Local\\Temp\\ipykernel_10528\\1992391408.py\u001b\\\u001b[2m1992391408.py\u001b[0m\u001b]8;;\u001b\\\u001b[2m:\u001b[0m\u001b]8;id=868607;file://C:\\Users\\hao_l\\AppData\\Local\\Temp\\ipykernel_10528\\1992391408.py#9\u001b\\\u001b[2m9\u001b[0m\u001b]8;;\u001b\\\n"
      ]
     },
     "metadata": {},
     "output_type": "display_data"
    },
    {
     "data": {
      "text/html": [
       "<pre style=\"white-space:pre;overflow-x:auto;line-height:normal;font-family:Menlo,'DejaVu Sans Mono',consolas,'Courier New',monospace\"><span style=\"color: #7fbfbf; text-decoration-color: #7fbfbf\">                    </span><span style=\"color: #000080; text-decoration-color: #000080\">INFO    </span> Performing clustering for <span style=\"color: #808000; text-decoration-color: #808000\">k</span>=<span style=\"color: #008080; text-decoration-color: #008080; font-weight: bold\">51</span>                                         <a href=\"file://C:\\Users\\hao_l\\AppData\\Local\\Temp\\ipykernel_10528\\1992391408.py\" target=\"_blank\"><span style=\"color: #7f7f7f; text-decoration-color: #7f7f7f\">1992391408.py</span></a><span style=\"color: #7f7f7f; text-decoration-color: #7f7f7f\">:</span><a href=\"file://C:\\Users\\hao_l\\AppData\\Local\\Temp\\ipykernel_10528\\1992391408.py#5\" target=\"_blank\"><span style=\"color: #7f7f7f; text-decoration-color: #7f7f7f\">5</span></a>\n",
       "</pre>\n"
      ],
      "text/plain": [
       "\u001b[2;36m                   \u001b[0m\u001b[2;36m \u001b[0m\u001b[34mINFO    \u001b[0m Performing clustering for \u001b[33mk\u001b[0m=\u001b[1;36m51\u001b[0m                                         \u001b]8;id=541424;file://C:\\Users\\hao_l\\AppData\\Local\\Temp\\ipykernel_10528\\1992391408.py\u001b\\\u001b[2m1992391408.py\u001b[0m\u001b]8;;\u001b\\\u001b[2m:\u001b[0m\u001b]8;id=804469;file://C:\\Users\\hao_l\\AppData\\Local\\Temp\\ipykernel_10528\\1992391408.py#5\u001b\\\u001b[2m5\u001b[0m\u001b]8;;\u001b\\\n"
      ]
     },
     "metadata": {},
     "output_type": "display_data"
    },
    {
     "data": {
      "text/html": [
       "<pre style=\"white-space:pre;overflow-x:auto;line-height:normal;font-family:Menlo,'DejaVu Sans Mono',consolas,'Courier New',monospace\"><span style=\"color: #7fbfbf; text-decoration-color: #7fbfbf\">[04/22/23 13:54:40] </span><span style=\"color: #000080; text-decoration-color: #000080\">INFO    </span> <span style=\"color: #808000; text-decoration-color: #808000\">k</span>=<span style=\"color: #008080; text-decoration-color: #008080; font-weight: bold\">51</span>, <span style=\"color: #808000; text-decoration-color: #808000\">cost</span>=<span style=\"color: #008080; text-decoration-color: #008080; font-weight: bold\">90724</span>, <span style=\"color: #808000; text-decoration-color: #808000\">n_iter</span>=<span style=\"color: #008080; text-decoration-color: #008080; font-weight: bold\">30</span>, <span style=\"color: #808000; text-decoration-color: #808000\">score</span>=<span style=\"color: #008080; text-decoration-color: #008080; font-weight: bold\">0.0871</span>                              <a href=\"file://C:\\Users\\hao_l\\AppData\\Local\\Temp\\ipykernel_10528\\1992391408.py\" target=\"_blank\"><span style=\"color: #7f7f7f; text-decoration-color: #7f7f7f\">1992391408.py</span></a><span style=\"color: #7f7f7f; text-decoration-color: #7f7f7f\">:</span><a href=\"file://C:\\Users\\hao_l\\AppData\\Local\\Temp\\ipykernel_10528\\1992391408.py#9\" target=\"_blank\"><span style=\"color: #7f7f7f; text-decoration-color: #7f7f7f\">9</span></a>\n",
       "</pre>\n"
      ],
      "text/plain": [
       "\u001b[2;36m[04/22/23 13:54:40]\u001b[0m\u001b[2;36m \u001b[0m\u001b[34mINFO    \u001b[0m \u001b[33mk\u001b[0m=\u001b[1;36m51\u001b[0m, \u001b[33mcost\u001b[0m=\u001b[1;36m90724\u001b[0m, \u001b[33mn_iter\u001b[0m=\u001b[1;36m30\u001b[0m, \u001b[33mscore\u001b[0m=\u001b[1;36m0\u001b[0m\u001b[1;36m.0871\u001b[0m                              \u001b]8;id=23012;file://C:\\Users\\hao_l\\AppData\\Local\\Temp\\ipykernel_10528\\1992391408.py\u001b\\\u001b[2m1992391408.py\u001b[0m\u001b]8;;\u001b\\\u001b[2m:\u001b[0m\u001b]8;id=45097;file://C:\\Users\\hao_l\\AppData\\Local\\Temp\\ipykernel_10528\\1992391408.py#9\u001b\\\u001b[2m9\u001b[0m\u001b]8;;\u001b\\\n"
      ]
     },
     "metadata": {},
     "output_type": "display_data"
    },
    {
     "data": {
      "text/html": [
       "<pre style=\"white-space:pre;overflow-x:auto;line-height:normal;font-family:Menlo,'DejaVu Sans Mono',consolas,'Courier New',monospace\"><span style=\"color: #7fbfbf; text-decoration-color: #7fbfbf\">                    </span><span style=\"color: #000080; text-decoration-color: #000080\">INFO    </span> Performing clustering for <span style=\"color: #808000; text-decoration-color: #808000\">k</span>=<span style=\"color: #008080; text-decoration-color: #008080; font-weight: bold\">52</span>                                         <a href=\"file://C:\\Users\\hao_l\\AppData\\Local\\Temp\\ipykernel_10528\\1992391408.py\" target=\"_blank\"><span style=\"color: #7f7f7f; text-decoration-color: #7f7f7f\">1992391408.py</span></a><span style=\"color: #7f7f7f; text-decoration-color: #7f7f7f\">:</span><a href=\"file://C:\\Users\\hao_l\\AppData\\Local\\Temp\\ipykernel_10528\\1992391408.py#5\" target=\"_blank\"><span style=\"color: #7f7f7f; text-decoration-color: #7f7f7f\">5</span></a>\n",
       "</pre>\n"
      ],
      "text/plain": [
       "\u001b[2;36m                   \u001b[0m\u001b[2;36m \u001b[0m\u001b[34mINFO    \u001b[0m Performing clustering for \u001b[33mk\u001b[0m=\u001b[1;36m52\u001b[0m                                         \u001b]8;id=327868;file://C:\\Users\\hao_l\\AppData\\Local\\Temp\\ipykernel_10528\\1992391408.py\u001b\\\u001b[2m1992391408.py\u001b[0m\u001b]8;;\u001b\\\u001b[2m:\u001b[0m\u001b]8;id=630114;file://C:\\Users\\hao_l\\AppData\\Local\\Temp\\ipykernel_10528\\1992391408.py#5\u001b\\\u001b[2m5\u001b[0m\u001b]8;;\u001b\\\n"
      ]
     },
     "metadata": {},
     "output_type": "display_data"
    },
    {
     "data": {
      "text/html": [
       "<pre style=\"white-space:pre;overflow-x:auto;line-height:normal;font-family:Menlo,'DejaVu Sans Mono',consolas,'Courier New',monospace\"><span style=\"color: #7fbfbf; text-decoration-color: #7fbfbf\">[04/22/23 13:58:08] </span><span style=\"color: #000080; text-decoration-color: #000080\">INFO    </span> <span style=\"color: #808000; text-decoration-color: #808000\">k</span>=<span style=\"color: #008080; text-decoration-color: #008080; font-weight: bold\">52</span>, <span style=\"color: #808000; text-decoration-color: #808000\">cost</span>=<span style=\"color: #008080; text-decoration-color: #008080; font-weight: bold\">90117</span>, <span style=\"color: #808000; text-decoration-color: #808000\">n_iter</span>=<span style=\"color: #008080; text-decoration-color: #008080; font-weight: bold\">30</span>, <span style=\"color: #808000; text-decoration-color: #808000\">score</span>=<span style=\"color: #008080; text-decoration-color: #008080; font-weight: bold\">0.0856</span>                              <a href=\"file://C:\\Users\\hao_l\\AppData\\Local\\Temp\\ipykernel_10528\\1992391408.py\" target=\"_blank\"><span style=\"color: #7f7f7f; text-decoration-color: #7f7f7f\">1992391408.py</span></a><span style=\"color: #7f7f7f; text-decoration-color: #7f7f7f\">:</span><a href=\"file://C:\\Users\\hao_l\\AppData\\Local\\Temp\\ipykernel_10528\\1992391408.py#9\" target=\"_blank\"><span style=\"color: #7f7f7f; text-decoration-color: #7f7f7f\">9</span></a>\n",
       "</pre>\n"
      ],
      "text/plain": [
       "\u001b[2;36m[04/22/23 13:58:08]\u001b[0m\u001b[2;36m \u001b[0m\u001b[34mINFO    \u001b[0m \u001b[33mk\u001b[0m=\u001b[1;36m52\u001b[0m, \u001b[33mcost\u001b[0m=\u001b[1;36m90117\u001b[0m, \u001b[33mn_iter\u001b[0m=\u001b[1;36m30\u001b[0m, \u001b[33mscore\u001b[0m=\u001b[1;36m0\u001b[0m\u001b[1;36m.0856\u001b[0m                              \u001b]8;id=309181;file://C:\\Users\\hao_l\\AppData\\Local\\Temp\\ipykernel_10528\\1992391408.py\u001b\\\u001b[2m1992391408.py\u001b[0m\u001b]8;;\u001b\\\u001b[2m:\u001b[0m\u001b]8;id=439554;file://C:\\Users\\hao_l\\AppData\\Local\\Temp\\ipykernel_10528\\1992391408.py#9\u001b\\\u001b[2m9\u001b[0m\u001b]8;;\u001b\\\n"
      ]
     },
     "metadata": {},
     "output_type": "display_data"
    },
    {
     "data": {
      "text/html": [
       "<pre style=\"white-space:pre;overflow-x:auto;line-height:normal;font-family:Menlo,'DejaVu Sans Mono',consolas,'Courier New',monospace\"><span style=\"color: #7fbfbf; text-decoration-color: #7fbfbf\">                    </span><span style=\"color: #000080; text-decoration-color: #000080\">INFO    </span> Performing clustering for <span style=\"color: #808000; text-decoration-color: #808000\">k</span>=<span style=\"color: #008080; text-decoration-color: #008080; font-weight: bold\">53</span>                                         <a href=\"file://C:\\Users\\hao_l\\AppData\\Local\\Temp\\ipykernel_10528\\1992391408.py\" target=\"_blank\"><span style=\"color: #7f7f7f; text-decoration-color: #7f7f7f\">1992391408.py</span></a><span style=\"color: #7f7f7f; text-decoration-color: #7f7f7f\">:</span><a href=\"file://C:\\Users\\hao_l\\AppData\\Local\\Temp\\ipykernel_10528\\1992391408.py#5\" target=\"_blank\"><span style=\"color: #7f7f7f; text-decoration-color: #7f7f7f\">5</span></a>\n",
       "</pre>\n"
      ],
      "text/plain": [
       "\u001b[2;36m                   \u001b[0m\u001b[2;36m \u001b[0m\u001b[34mINFO    \u001b[0m Performing clustering for \u001b[33mk\u001b[0m=\u001b[1;36m53\u001b[0m                                         \u001b]8;id=713535;file://C:\\Users\\hao_l\\AppData\\Local\\Temp\\ipykernel_10528\\1992391408.py\u001b\\\u001b[2m1992391408.py\u001b[0m\u001b]8;;\u001b\\\u001b[2m:\u001b[0m\u001b]8;id=676561;file://C:\\Users\\hao_l\\AppData\\Local\\Temp\\ipykernel_10528\\1992391408.py#5\u001b\\\u001b[2m5\u001b[0m\u001b]8;;\u001b\\\n"
      ]
     },
     "metadata": {},
     "output_type": "display_data"
    },
    {
     "data": {
      "text/html": [
       "<pre style=\"white-space:pre;overflow-x:auto;line-height:normal;font-family:Menlo,'DejaVu Sans Mono',consolas,'Courier New',monospace\"><span style=\"color: #7fbfbf; text-decoration-color: #7fbfbf\">[04/22/23 14:01:44] </span><span style=\"color: #000080; text-decoration-color: #000080\">INFO    </span> <span style=\"color: #808000; text-decoration-color: #808000\">k</span>=<span style=\"color: #008080; text-decoration-color: #008080; font-weight: bold\">53</span>, <span style=\"color: #808000; text-decoration-color: #808000\">cost</span>=<span style=\"color: #008080; text-decoration-color: #008080; font-weight: bold\">89751</span>, <span style=\"color: #808000; text-decoration-color: #808000\">n_iter</span>=<span style=\"color: #008080; text-decoration-color: #008080; font-weight: bold\">30</span>, <span style=\"color: #808000; text-decoration-color: #808000\">score</span>=<span style=\"color: #008080; text-decoration-color: #008080; font-weight: bold\">0.0861</span>                              <a href=\"file://C:\\Users\\hao_l\\AppData\\Local\\Temp\\ipykernel_10528\\1992391408.py\" target=\"_blank\"><span style=\"color: #7f7f7f; text-decoration-color: #7f7f7f\">1992391408.py</span></a><span style=\"color: #7f7f7f; text-decoration-color: #7f7f7f\">:</span><a href=\"file://C:\\Users\\hao_l\\AppData\\Local\\Temp\\ipykernel_10528\\1992391408.py#9\" target=\"_blank\"><span style=\"color: #7f7f7f; text-decoration-color: #7f7f7f\">9</span></a>\n",
       "</pre>\n"
      ],
      "text/plain": [
       "\u001b[2;36m[04/22/23 14:01:44]\u001b[0m\u001b[2;36m \u001b[0m\u001b[34mINFO    \u001b[0m \u001b[33mk\u001b[0m=\u001b[1;36m53\u001b[0m, \u001b[33mcost\u001b[0m=\u001b[1;36m89751\u001b[0m, \u001b[33mn_iter\u001b[0m=\u001b[1;36m30\u001b[0m, \u001b[33mscore\u001b[0m=\u001b[1;36m0\u001b[0m\u001b[1;36m.0861\u001b[0m                              \u001b]8;id=406856;file://C:\\Users\\hao_l\\AppData\\Local\\Temp\\ipykernel_10528\\1992391408.py\u001b\\\u001b[2m1992391408.py\u001b[0m\u001b]8;;\u001b\\\u001b[2m:\u001b[0m\u001b]8;id=192150;file://C:\\Users\\hao_l\\AppData\\Local\\Temp\\ipykernel_10528\\1992391408.py#9\u001b\\\u001b[2m9\u001b[0m\u001b]8;;\u001b\\\n"
      ]
     },
     "metadata": {},
     "output_type": "display_data"
    },
    {
     "data": {
      "text/html": [
       "<pre style=\"white-space:pre;overflow-x:auto;line-height:normal;font-family:Menlo,'DejaVu Sans Mono',consolas,'Courier New',monospace\"><span style=\"color: #7fbfbf; text-decoration-color: #7fbfbf\">                    </span><span style=\"color: #000080; text-decoration-color: #000080\">INFO    </span> Performing clustering for <span style=\"color: #808000; text-decoration-color: #808000\">k</span>=<span style=\"color: #008080; text-decoration-color: #008080; font-weight: bold\">54</span>                                         <a href=\"file://C:\\Users\\hao_l\\AppData\\Local\\Temp\\ipykernel_10528\\1992391408.py\" target=\"_blank\"><span style=\"color: #7f7f7f; text-decoration-color: #7f7f7f\">1992391408.py</span></a><span style=\"color: #7f7f7f; text-decoration-color: #7f7f7f\">:</span><a href=\"file://C:\\Users\\hao_l\\AppData\\Local\\Temp\\ipykernel_10528\\1992391408.py#5\" target=\"_blank\"><span style=\"color: #7f7f7f; text-decoration-color: #7f7f7f\">5</span></a>\n",
       "</pre>\n"
      ],
      "text/plain": [
       "\u001b[2;36m                   \u001b[0m\u001b[2;36m \u001b[0m\u001b[34mINFO    \u001b[0m Performing clustering for \u001b[33mk\u001b[0m=\u001b[1;36m54\u001b[0m                                         \u001b]8;id=176247;file://C:\\Users\\hao_l\\AppData\\Local\\Temp\\ipykernel_10528\\1992391408.py\u001b\\\u001b[2m1992391408.py\u001b[0m\u001b]8;;\u001b\\\u001b[2m:\u001b[0m\u001b]8;id=741432;file://C:\\Users\\hao_l\\AppData\\Local\\Temp\\ipykernel_10528\\1992391408.py#5\u001b\\\u001b[2m5\u001b[0m\u001b]8;;\u001b\\\n"
      ]
     },
     "metadata": {},
     "output_type": "display_data"
    },
    {
     "data": {
      "text/html": [
       "<pre style=\"white-space:pre;overflow-x:auto;line-height:normal;font-family:Menlo,'DejaVu Sans Mono',consolas,'Courier New',monospace\"><span style=\"color: #7fbfbf; text-decoration-color: #7fbfbf\">[04/22/23 14:05:47] </span><span style=\"color: #000080; text-decoration-color: #000080\">INFO    </span> <span style=\"color: #808000; text-decoration-color: #808000\">k</span>=<span style=\"color: #008080; text-decoration-color: #008080; font-weight: bold\">54</span>, <span style=\"color: #808000; text-decoration-color: #808000\">cost</span>=<span style=\"color: #008080; text-decoration-color: #008080; font-weight: bold\">89336</span>, <span style=\"color: #808000; text-decoration-color: #808000\">n_iter</span>=<span style=\"color: #008080; text-decoration-color: #008080; font-weight: bold\">30</span>, <span style=\"color: #808000; text-decoration-color: #808000\">score</span>=<span style=\"color: #008080; text-decoration-color: #008080; font-weight: bold\">0.0847</span>                              <a href=\"file://C:\\Users\\hao_l\\AppData\\Local\\Temp\\ipykernel_10528\\1992391408.py\" target=\"_blank\"><span style=\"color: #7f7f7f; text-decoration-color: #7f7f7f\">1992391408.py</span></a><span style=\"color: #7f7f7f; text-decoration-color: #7f7f7f\">:</span><a href=\"file://C:\\Users\\hao_l\\AppData\\Local\\Temp\\ipykernel_10528\\1992391408.py#9\" target=\"_blank\"><span style=\"color: #7f7f7f; text-decoration-color: #7f7f7f\">9</span></a>\n",
       "</pre>\n"
      ],
      "text/plain": [
       "\u001b[2;36m[04/22/23 14:05:47]\u001b[0m\u001b[2;36m \u001b[0m\u001b[34mINFO    \u001b[0m \u001b[33mk\u001b[0m=\u001b[1;36m54\u001b[0m, \u001b[33mcost\u001b[0m=\u001b[1;36m89336\u001b[0m, \u001b[33mn_iter\u001b[0m=\u001b[1;36m30\u001b[0m, \u001b[33mscore\u001b[0m=\u001b[1;36m0\u001b[0m\u001b[1;36m.0847\u001b[0m                              \u001b]8;id=354863;file://C:\\Users\\hao_l\\AppData\\Local\\Temp\\ipykernel_10528\\1992391408.py\u001b\\\u001b[2m1992391408.py\u001b[0m\u001b]8;;\u001b\\\u001b[2m:\u001b[0m\u001b]8;id=251120;file://C:\\Users\\hao_l\\AppData\\Local\\Temp\\ipykernel_10528\\1992391408.py#9\u001b\\\u001b[2m9\u001b[0m\u001b]8;;\u001b\\\n"
      ]
     },
     "metadata": {},
     "output_type": "display_data"
    },
    {
     "data": {
      "text/html": [
       "<pre style=\"white-space:pre;overflow-x:auto;line-height:normal;font-family:Menlo,'DejaVu Sans Mono',consolas,'Courier New',monospace\"><span style=\"color: #7fbfbf; text-decoration-color: #7fbfbf\">                    </span><span style=\"color: #000080; text-decoration-color: #000080\">INFO    </span> Performing clustering for <span style=\"color: #808000; text-decoration-color: #808000\">k</span>=<span style=\"color: #008080; text-decoration-color: #008080; font-weight: bold\">55</span>                                         <a href=\"file://C:\\Users\\hao_l\\AppData\\Local\\Temp\\ipykernel_10528\\1992391408.py\" target=\"_blank\"><span style=\"color: #7f7f7f; text-decoration-color: #7f7f7f\">1992391408.py</span></a><span style=\"color: #7f7f7f; text-decoration-color: #7f7f7f\">:</span><a href=\"file://C:\\Users\\hao_l\\AppData\\Local\\Temp\\ipykernel_10528\\1992391408.py#5\" target=\"_blank\"><span style=\"color: #7f7f7f; text-decoration-color: #7f7f7f\">5</span></a>\n",
       "</pre>\n"
      ],
      "text/plain": [
       "\u001b[2;36m                   \u001b[0m\u001b[2;36m \u001b[0m\u001b[34mINFO    \u001b[0m Performing clustering for \u001b[33mk\u001b[0m=\u001b[1;36m55\u001b[0m                                         \u001b]8;id=223843;file://C:\\Users\\hao_l\\AppData\\Local\\Temp\\ipykernel_10528\\1992391408.py\u001b\\\u001b[2m1992391408.py\u001b[0m\u001b]8;;\u001b\\\u001b[2m:\u001b[0m\u001b]8;id=475313;file://C:\\Users\\hao_l\\AppData\\Local\\Temp\\ipykernel_10528\\1992391408.py#5\u001b\\\u001b[2m5\u001b[0m\u001b]8;;\u001b\\\n"
      ]
     },
     "metadata": {},
     "output_type": "display_data"
    },
    {
     "data": {
      "text/html": [
       "<pre style=\"white-space:pre;overflow-x:auto;line-height:normal;font-family:Menlo,'DejaVu Sans Mono',consolas,'Courier New',monospace\"><span style=\"color: #7fbfbf; text-decoration-color: #7fbfbf\">[04/22/23 14:10:04] </span><span style=\"color: #000080; text-decoration-color: #000080\">INFO    </span> <span style=\"color: #808000; text-decoration-color: #808000\">k</span>=<span style=\"color: #008080; text-decoration-color: #008080; font-weight: bold\">55</span>, <span style=\"color: #808000; text-decoration-color: #808000\">cost</span>=<span style=\"color: #008080; text-decoration-color: #008080; font-weight: bold\">88737</span>, <span style=\"color: #808000; text-decoration-color: #808000\">n_iter</span>=<span style=\"color: #008080; text-decoration-color: #008080; font-weight: bold\">30</span>, <span style=\"color: #808000; text-decoration-color: #808000\">score</span>=<span style=\"color: #008080; text-decoration-color: #008080; font-weight: bold\">0.0859</span>                              <a href=\"file://C:\\Users\\hao_l\\AppData\\Local\\Temp\\ipykernel_10528\\1992391408.py\" target=\"_blank\"><span style=\"color: #7f7f7f; text-decoration-color: #7f7f7f\">1992391408.py</span></a><span style=\"color: #7f7f7f; text-decoration-color: #7f7f7f\">:</span><a href=\"file://C:\\Users\\hao_l\\AppData\\Local\\Temp\\ipykernel_10528\\1992391408.py#9\" target=\"_blank\"><span style=\"color: #7f7f7f; text-decoration-color: #7f7f7f\">9</span></a>\n",
       "</pre>\n"
      ],
      "text/plain": [
       "\u001b[2;36m[04/22/23 14:10:04]\u001b[0m\u001b[2;36m \u001b[0m\u001b[34mINFO    \u001b[0m \u001b[33mk\u001b[0m=\u001b[1;36m55\u001b[0m, \u001b[33mcost\u001b[0m=\u001b[1;36m88737\u001b[0m, \u001b[33mn_iter\u001b[0m=\u001b[1;36m30\u001b[0m, \u001b[33mscore\u001b[0m=\u001b[1;36m0\u001b[0m\u001b[1;36m.0859\u001b[0m                              \u001b]8;id=118496;file://C:\\Users\\hao_l\\AppData\\Local\\Temp\\ipykernel_10528\\1992391408.py\u001b\\\u001b[2m1992391408.py\u001b[0m\u001b]8;;\u001b\\\u001b[2m:\u001b[0m\u001b]8;id=88416;file://C:\\Users\\hao_l\\AppData\\Local\\Temp\\ipykernel_10528\\1992391408.py#9\u001b\\\u001b[2m9\u001b[0m\u001b]8;;\u001b\\\n"
      ]
     },
     "metadata": {},
     "output_type": "display_data"
    },
    {
     "data": {
      "text/html": [
       "<pre style=\"white-space:pre;overflow-x:auto;line-height:normal;font-family:Menlo,'DejaVu Sans Mono',consolas,'Courier New',monospace\"><span style=\"color: #7fbfbf; text-decoration-color: #7fbfbf\">                    </span><span style=\"color: #000080; text-decoration-color: #000080\">INFO    </span> Performing clustering for <span style=\"color: #808000; text-decoration-color: #808000\">k</span>=<span style=\"color: #008080; text-decoration-color: #008080; font-weight: bold\">56</span>                                         <a href=\"file://C:\\Users\\hao_l\\AppData\\Local\\Temp\\ipykernel_10528\\1992391408.py\" target=\"_blank\"><span style=\"color: #7f7f7f; text-decoration-color: #7f7f7f\">1992391408.py</span></a><span style=\"color: #7f7f7f; text-decoration-color: #7f7f7f\">:</span><a href=\"file://C:\\Users\\hao_l\\AppData\\Local\\Temp\\ipykernel_10528\\1992391408.py#5\" target=\"_blank\"><span style=\"color: #7f7f7f; text-decoration-color: #7f7f7f\">5</span></a>\n",
       "</pre>\n"
      ],
      "text/plain": [
       "\u001b[2;36m                   \u001b[0m\u001b[2;36m \u001b[0m\u001b[34mINFO    \u001b[0m Performing clustering for \u001b[33mk\u001b[0m=\u001b[1;36m56\u001b[0m                                         \u001b]8;id=260994;file://C:\\Users\\hao_l\\AppData\\Local\\Temp\\ipykernel_10528\\1992391408.py\u001b\\\u001b[2m1992391408.py\u001b[0m\u001b]8;;\u001b\\\u001b[2m:\u001b[0m\u001b]8;id=711459;file://C:\\Users\\hao_l\\AppData\\Local\\Temp\\ipykernel_10528\\1992391408.py#5\u001b\\\u001b[2m5\u001b[0m\u001b]8;;\u001b\\\n"
      ]
     },
     "metadata": {},
     "output_type": "display_data"
    },
    {
     "data": {
      "text/html": [
       "<pre style=\"white-space:pre;overflow-x:auto;line-height:normal;font-family:Menlo,'DejaVu Sans Mono',consolas,'Courier New',monospace\"><span style=\"color: #7fbfbf; text-decoration-color: #7fbfbf\">[04/22/23 14:13:58] </span><span style=\"color: #000080; text-decoration-color: #000080\">INFO    </span> <span style=\"color: #808000; text-decoration-color: #808000\">k</span>=<span style=\"color: #008080; text-decoration-color: #008080; font-weight: bold\">56</span>, <span style=\"color: #808000; text-decoration-color: #808000\">cost</span>=<span style=\"color: #008080; text-decoration-color: #008080; font-weight: bold\">88365</span>, <span style=\"color: #808000; text-decoration-color: #808000\">n_iter</span>=<span style=\"color: #008080; text-decoration-color: #008080; font-weight: bold\">30</span>, <span style=\"color: #808000; text-decoration-color: #808000\">score</span>=<span style=\"color: #008080; text-decoration-color: #008080; font-weight: bold\">0.0848</span>                              <a href=\"file://C:\\Users\\hao_l\\AppData\\Local\\Temp\\ipykernel_10528\\1992391408.py\" target=\"_blank\"><span style=\"color: #7f7f7f; text-decoration-color: #7f7f7f\">1992391408.py</span></a><span style=\"color: #7f7f7f; text-decoration-color: #7f7f7f\">:</span><a href=\"file://C:\\Users\\hao_l\\AppData\\Local\\Temp\\ipykernel_10528\\1992391408.py#9\" target=\"_blank\"><span style=\"color: #7f7f7f; text-decoration-color: #7f7f7f\">9</span></a>\n",
       "</pre>\n"
      ],
      "text/plain": [
       "\u001b[2;36m[04/22/23 14:13:58]\u001b[0m\u001b[2;36m \u001b[0m\u001b[34mINFO    \u001b[0m \u001b[33mk\u001b[0m=\u001b[1;36m56\u001b[0m, \u001b[33mcost\u001b[0m=\u001b[1;36m88365\u001b[0m, \u001b[33mn_iter\u001b[0m=\u001b[1;36m30\u001b[0m, \u001b[33mscore\u001b[0m=\u001b[1;36m0\u001b[0m\u001b[1;36m.0848\u001b[0m                              \u001b]8;id=990664;file://C:\\Users\\hao_l\\AppData\\Local\\Temp\\ipykernel_10528\\1992391408.py\u001b\\\u001b[2m1992391408.py\u001b[0m\u001b]8;;\u001b\\\u001b[2m:\u001b[0m\u001b]8;id=79762;file://C:\\Users\\hao_l\\AppData\\Local\\Temp\\ipykernel_10528\\1992391408.py#9\u001b\\\u001b[2m9\u001b[0m\u001b]8;;\u001b\\\n"
      ]
     },
     "metadata": {},
     "output_type": "display_data"
    },
    {
     "data": {
      "text/html": [
       "<pre style=\"white-space:pre;overflow-x:auto;line-height:normal;font-family:Menlo,'DejaVu Sans Mono',consolas,'Courier New',monospace\"><span style=\"color: #7fbfbf; text-decoration-color: #7fbfbf\">                    </span><span style=\"color: #000080; text-decoration-color: #000080\">INFO    </span> Performing clustering for <span style=\"color: #808000; text-decoration-color: #808000\">k</span>=<span style=\"color: #008080; text-decoration-color: #008080; font-weight: bold\">57</span>                                         <a href=\"file://C:\\Users\\hao_l\\AppData\\Local\\Temp\\ipykernel_10528\\1992391408.py\" target=\"_blank\"><span style=\"color: #7f7f7f; text-decoration-color: #7f7f7f\">1992391408.py</span></a><span style=\"color: #7f7f7f; text-decoration-color: #7f7f7f\">:</span><a href=\"file://C:\\Users\\hao_l\\AppData\\Local\\Temp\\ipykernel_10528\\1992391408.py#5\" target=\"_blank\"><span style=\"color: #7f7f7f; text-decoration-color: #7f7f7f\">5</span></a>\n",
       "</pre>\n"
      ],
      "text/plain": [
       "\u001b[2;36m                   \u001b[0m\u001b[2;36m \u001b[0m\u001b[34mINFO    \u001b[0m Performing clustering for \u001b[33mk\u001b[0m=\u001b[1;36m57\u001b[0m                                         \u001b]8;id=17898;file://C:\\Users\\hao_l\\AppData\\Local\\Temp\\ipykernel_10528\\1992391408.py\u001b\\\u001b[2m1992391408.py\u001b[0m\u001b]8;;\u001b\\\u001b[2m:\u001b[0m\u001b]8;id=777916;file://C:\\Users\\hao_l\\AppData\\Local\\Temp\\ipykernel_10528\\1992391408.py#5\u001b\\\u001b[2m5\u001b[0m\u001b]8;;\u001b\\\n"
      ]
     },
     "metadata": {},
     "output_type": "display_data"
    },
    {
     "data": {
      "text/html": [
       "<pre style=\"white-space:pre;overflow-x:auto;line-height:normal;font-family:Menlo,'DejaVu Sans Mono',consolas,'Courier New',monospace\"><span style=\"color: #7fbfbf; text-decoration-color: #7fbfbf\">[04/22/23 14:18:05] </span><span style=\"color: #000080; text-decoration-color: #000080\">INFO    </span> <span style=\"color: #808000; text-decoration-color: #808000\">k</span>=<span style=\"color: #008080; text-decoration-color: #008080; font-weight: bold\">57</span>, <span style=\"color: #808000; text-decoration-color: #808000\">cost</span>=<span style=\"color: #008080; text-decoration-color: #008080; font-weight: bold\">87967</span>, <span style=\"color: #808000; text-decoration-color: #808000\">n_iter</span>=<span style=\"color: #008080; text-decoration-color: #008080; font-weight: bold\">30</span>, <span style=\"color: #808000; text-decoration-color: #808000\">score</span>=<span style=\"color: #008080; text-decoration-color: #008080; font-weight: bold\">0.0860</span>                              <a href=\"file://C:\\Users\\hao_l\\AppData\\Local\\Temp\\ipykernel_10528\\1992391408.py\" target=\"_blank\"><span style=\"color: #7f7f7f; text-decoration-color: #7f7f7f\">1992391408.py</span></a><span style=\"color: #7f7f7f; text-decoration-color: #7f7f7f\">:</span><a href=\"file://C:\\Users\\hao_l\\AppData\\Local\\Temp\\ipykernel_10528\\1992391408.py#9\" target=\"_blank\"><span style=\"color: #7f7f7f; text-decoration-color: #7f7f7f\">9</span></a>\n",
       "</pre>\n"
      ],
      "text/plain": [
       "\u001b[2;36m[04/22/23 14:18:05]\u001b[0m\u001b[2;36m \u001b[0m\u001b[34mINFO    \u001b[0m \u001b[33mk\u001b[0m=\u001b[1;36m57\u001b[0m, \u001b[33mcost\u001b[0m=\u001b[1;36m87967\u001b[0m, \u001b[33mn_iter\u001b[0m=\u001b[1;36m30\u001b[0m, \u001b[33mscore\u001b[0m=\u001b[1;36m0\u001b[0m\u001b[1;36m.0860\u001b[0m                              \u001b]8;id=218295;file://C:\\Users\\hao_l\\AppData\\Local\\Temp\\ipykernel_10528\\1992391408.py\u001b\\\u001b[2m1992391408.py\u001b[0m\u001b]8;;\u001b\\\u001b[2m:\u001b[0m\u001b]8;id=889164;file://C:\\Users\\hao_l\\AppData\\Local\\Temp\\ipykernel_10528\\1992391408.py#9\u001b\\\u001b[2m9\u001b[0m\u001b]8;;\u001b\\\n"
      ]
     },
     "metadata": {},
     "output_type": "display_data"
    },
    {
     "data": {
      "text/html": [
       "<pre style=\"white-space:pre;overflow-x:auto;line-height:normal;font-family:Menlo,'DejaVu Sans Mono',consolas,'Courier New',monospace\"><span style=\"color: #7fbfbf; text-decoration-color: #7fbfbf\">                    </span><span style=\"color: #000080; text-decoration-color: #000080\">INFO    </span> Performing clustering for <span style=\"color: #808000; text-decoration-color: #808000\">k</span>=<span style=\"color: #008080; text-decoration-color: #008080; font-weight: bold\">58</span>                                         <a href=\"file://C:\\Users\\hao_l\\AppData\\Local\\Temp\\ipykernel_10528\\1992391408.py\" target=\"_blank\"><span style=\"color: #7f7f7f; text-decoration-color: #7f7f7f\">1992391408.py</span></a><span style=\"color: #7f7f7f; text-decoration-color: #7f7f7f\">:</span><a href=\"file://C:\\Users\\hao_l\\AppData\\Local\\Temp\\ipykernel_10528\\1992391408.py#5\" target=\"_blank\"><span style=\"color: #7f7f7f; text-decoration-color: #7f7f7f\">5</span></a>\n",
       "</pre>\n"
      ],
      "text/plain": [
       "\u001b[2;36m                   \u001b[0m\u001b[2;36m \u001b[0m\u001b[34mINFO    \u001b[0m Performing clustering for \u001b[33mk\u001b[0m=\u001b[1;36m58\u001b[0m                                         \u001b]8;id=720643;file://C:\\Users\\hao_l\\AppData\\Local\\Temp\\ipykernel_10528\\1992391408.py\u001b\\\u001b[2m1992391408.py\u001b[0m\u001b]8;;\u001b\\\u001b[2m:\u001b[0m\u001b]8;id=950443;file://C:\\Users\\hao_l\\AppData\\Local\\Temp\\ipykernel_10528\\1992391408.py#5\u001b\\\u001b[2m5\u001b[0m\u001b]8;;\u001b\\\n"
      ]
     },
     "metadata": {},
     "output_type": "display_data"
    },
    {
     "data": {
      "text/html": [
       "<pre style=\"white-space:pre;overflow-x:auto;line-height:normal;font-family:Menlo,'DejaVu Sans Mono',consolas,'Courier New',monospace\"><span style=\"color: #7fbfbf; text-decoration-color: #7fbfbf\">[04/22/23 14:21:40] </span><span style=\"color: #000080; text-decoration-color: #000080\">INFO    </span> <span style=\"color: #808000; text-decoration-color: #808000\">k</span>=<span style=\"color: #008080; text-decoration-color: #008080; font-weight: bold\">58</span>, <span style=\"color: #808000; text-decoration-color: #808000\">cost</span>=<span style=\"color: #008080; text-decoration-color: #008080; font-weight: bold\">87554</span>, <span style=\"color: #808000; text-decoration-color: #808000\">n_iter</span>=<span style=\"color: #008080; text-decoration-color: #008080; font-weight: bold\">30</span>, <span style=\"color: #808000; text-decoration-color: #808000\">score</span>=<span style=\"color: #008080; text-decoration-color: #008080; font-weight: bold\">0.0838</span>                              <a href=\"file://C:\\Users\\hao_l\\AppData\\Local\\Temp\\ipykernel_10528\\1992391408.py\" target=\"_blank\"><span style=\"color: #7f7f7f; text-decoration-color: #7f7f7f\">1992391408.py</span></a><span style=\"color: #7f7f7f; text-decoration-color: #7f7f7f\">:</span><a href=\"file://C:\\Users\\hao_l\\AppData\\Local\\Temp\\ipykernel_10528\\1992391408.py#9\" target=\"_blank\"><span style=\"color: #7f7f7f; text-decoration-color: #7f7f7f\">9</span></a>\n",
       "</pre>\n"
      ],
      "text/plain": [
       "\u001b[2;36m[04/22/23 14:21:40]\u001b[0m\u001b[2;36m \u001b[0m\u001b[34mINFO    \u001b[0m \u001b[33mk\u001b[0m=\u001b[1;36m58\u001b[0m, \u001b[33mcost\u001b[0m=\u001b[1;36m87554\u001b[0m, \u001b[33mn_iter\u001b[0m=\u001b[1;36m30\u001b[0m, \u001b[33mscore\u001b[0m=\u001b[1;36m0\u001b[0m\u001b[1;36m.0838\u001b[0m                              \u001b]8;id=968738;file://C:\\Users\\hao_l\\AppData\\Local\\Temp\\ipykernel_10528\\1992391408.py\u001b\\\u001b[2m1992391408.py\u001b[0m\u001b]8;;\u001b\\\u001b[2m:\u001b[0m\u001b]8;id=416544;file://C:\\Users\\hao_l\\AppData\\Local\\Temp\\ipykernel_10528\\1992391408.py#9\u001b\\\u001b[2m9\u001b[0m\u001b]8;;\u001b\\\n"
      ]
     },
     "metadata": {},
     "output_type": "display_data"
    },
    {
     "data": {
      "text/html": [
       "<pre style=\"white-space:pre;overflow-x:auto;line-height:normal;font-family:Menlo,'DejaVu Sans Mono',consolas,'Courier New',monospace\"><span style=\"color: #7fbfbf; text-decoration-color: #7fbfbf\">                    </span><span style=\"color: #000080; text-decoration-color: #000080\">INFO    </span> Performing clustering for <span style=\"color: #808000; text-decoration-color: #808000\">k</span>=<span style=\"color: #008080; text-decoration-color: #008080; font-weight: bold\">59</span>                                         <a href=\"file://C:\\Users\\hao_l\\AppData\\Local\\Temp\\ipykernel_10528\\1992391408.py\" target=\"_blank\"><span style=\"color: #7f7f7f; text-decoration-color: #7f7f7f\">1992391408.py</span></a><span style=\"color: #7f7f7f; text-decoration-color: #7f7f7f\">:</span><a href=\"file://C:\\Users\\hao_l\\AppData\\Local\\Temp\\ipykernel_10528\\1992391408.py#5\" target=\"_blank\"><span style=\"color: #7f7f7f; text-decoration-color: #7f7f7f\">5</span></a>\n",
       "</pre>\n"
      ],
      "text/plain": [
       "\u001b[2;36m                   \u001b[0m\u001b[2;36m \u001b[0m\u001b[34mINFO    \u001b[0m Performing clustering for \u001b[33mk\u001b[0m=\u001b[1;36m59\u001b[0m                                         \u001b]8;id=452710;file://C:\\Users\\hao_l\\AppData\\Local\\Temp\\ipykernel_10528\\1992391408.py\u001b\\\u001b[2m1992391408.py\u001b[0m\u001b]8;;\u001b\\\u001b[2m:\u001b[0m\u001b]8;id=614662;file://C:\\Users\\hao_l\\AppData\\Local\\Temp\\ipykernel_10528\\1992391408.py#5\u001b\\\u001b[2m5\u001b[0m\u001b]8;;\u001b\\\n"
      ]
     },
     "metadata": {},
     "output_type": "display_data"
    },
    {
     "data": {
      "text/html": [
       "<pre style=\"white-space:pre;overflow-x:auto;line-height:normal;font-family:Menlo,'DejaVu Sans Mono',consolas,'Courier New',monospace\"><span style=\"color: #7fbfbf; text-decoration-color: #7fbfbf\">[04/22/23 14:25:37] </span><span style=\"color: #000080; text-decoration-color: #000080\">INFO    </span> <span style=\"color: #808000; text-decoration-color: #808000\">k</span>=<span style=\"color: #008080; text-decoration-color: #008080; font-weight: bold\">59</span>, <span style=\"color: #808000; text-decoration-color: #808000\">cost</span>=<span style=\"color: #008080; text-decoration-color: #008080; font-weight: bold\">87215</span>, <span style=\"color: #808000; text-decoration-color: #808000\">n_iter</span>=<span style=\"color: #008080; text-decoration-color: #008080; font-weight: bold\">30</span>, <span style=\"color: #808000; text-decoration-color: #808000\">score</span>=<span style=\"color: #008080; text-decoration-color: #008080; font-weight: bold\">0.0859</span>                              <a href=\"file://C:\\Users\\hao_l\\AppData\\Local\\Temp\\ipykernel_10528\\1992391408.py\" target=\"_blank\"><span style=\"color: #7f7f7f; text-decoration-color: #7f7f7f\">1992391408.py</span></a><span style=\"color: #7f7f7f; text-decoration-color: #7f7f7f\">:</span><a href=\"file://C:\\Users\\hao_l\\AppData\\Local\\Temp\\ipykernel_10528\\1992391408.py#9\" target=\"_blank\"><span style=\"color: #7f7f7f; text-decoration-color: #7f7f7f\">9</span></a>\n",
       "</pre>\n"
      ],
      "text/plain": [
       "\u001b[2;36m[04/22/23 14:25:37]\u001b[0m\u001b[2;36m \u001b[0m\u001b[34mINFO    \u001b[0m \u001b[33mk\u001b[0m=\u001b[1;36m59\u001b[0m, \u001b[33mcost\u001b[0m=\u001b[1;36m87215\u001b[0m, \u001b[33mn_iter\u001b[0m=\u001b[1;36m30\u001b[0m, \u001b[33mscore\u001b[0m=\u001b[1;36m0\u001b[0m\u001b[1;36m.0859\u001b[0m                              \u001b]8;id=813077;file://C:\\Users\\hao_l\\AppData\\Local\\Temp\\ipykernel_10528\\1992391408.py\u001b\\\u001b[2m1992391408.py\u001b[0m\u001b]8;;\u001b\\\u001b[2m:\u001b[0m\u001b]8;id=742829;file://C:\\Users\\hao_l\\AppData\\Local\\Temp\\ipykernel_10528\\1992391408.py#9\u001b\\\u001b[2m9\u001b[0m\u001b]8;;\u001b\\\n"
      ]
     },
     "metadata": {},
     "output_type": "display_data"
    },
    {
     "data": {
      "text/html": [
       "<pre style=\"white-space:pre;overflow-x:auto;line-height:normal;font-family:Menlo,'DejaVu Sans Mono',consolas,'Courier New',monospace\"><span style=\"color: #7fbfbf; text-decoration-color: #7fbfbf\">                    </span><span style=\"color: #000080; text-decoration-color: #000080\">INFO    </span> Performing clustering for <span style=\"color: #808000; text-decoration-color: #808000\">k</span>=<span style=\"color: #008080; text-decoration-color: #008080; font-weight: bold\">60</span>                                         <a href=\"file://C:\\Users\\hao_l\\AppData\\Local\\Temp\\ipykernel_10528\\1992391408.py\" target=\"_blank\"><span style=\"color: #7f7f7f; text-decoration-color: #7f7f7f\">1992391408.py</span></a><span style=\"color: #7f7f7f; text-decoration-color: #7f7f7f\">:</span><a href=\"file://C:\\Users\\hao_l\\AppData\\Local\\Temp\\ipykernel_10528\\1992391408.py#5\" target=\"_blank\"><span style=\"color: #7f7f7f; text-decoration-color: #7f7f7f\">5</span></a>\n",
       "</pre>\n"
      ],
      "text/plain": [
       "\u001b[2;36m                   \u001b[0m\u001b[2;36m \u001b[0m\u001b[34mINFO    \u001b[0m Performing clustering for \u001b[33mk\u001b[0m=\u001b[1;36m60\u001b[0m                                         \u001b]8;id=329246;file://C:\\Users\\hao_l\\AppData\\Local\\Temp\\ipykernel_10528\\1992391408.py\u001b\\\u001b[2m1992391408.py\u001b[0m\u001b]8;;\u001b\\\u001b[2m:\u001b[0m\u001b]8;id=845862;file://C:\\Users\\hao_l\\AppData\\Local\\Temp\\ipykernel_10528\\1992391408.py#5\u001b\\\u001b[2m5\u001b[0m\u001b]8;;\u001b\\\n"
      ]
     },
     "metadata": {},
     "output_type": "display_data"
    },
    {
     "data": {
      "text/html": [
       "<pre style=\"white-space:pre;overflow-x:auto;line-height:normal;font-family:Menlo,'DejaVu Sans Mono',consolas,'Courier New',monospace\"><span style=\"color: #7fbfbf; text-decoration-color: #7fbfbf\">[04/22/23 14:29:36] </span><span style=\"color: #000080; text-decoration-color: #000080\">INFO    </span> <span style=\"color: #808000; text-decoration-color: #808000\">k</span>=<span style=\"color: #008080; text-decoration-color: #008080; font-weight: bold\">60</span>, <span style=\"color: #808000; text-decoration-color: #808000\">cost</span>=<span style=\"color: #008080; text-decoration-color: #008080; font-weight: bold\">86985</span>, <span style=\"color: #808000; text-decoration-color: #808000\">n_iter</span>=<span style=\"color: #008080; text-decoration-color: #008080; font-weight: bold\">30</span>, <span style=\"color: #808000; text-decoration-color: #808000\">score</span>=<span style=\"color: #008080; text-decoration-color: #008080; font-weight: bold\">0.0829</span>                              <a href=\"file://C:\\Users\\hao_l\\AppData\\Local\\Temp\\ipykernel_10528\\1992391408.py\" target=\"_blank\"><span style=\"color: #7f7f7f; text-decoration-color: #7f7f7f\">1992391408.py</span></a><span style=\"color: #7f7f7f; text-decoration-color: #7f7f7f\">:</span><a href=\"file://C:\\Users\\hao_l\\AppData\\Local\\Temp\\ipykernel_10528\\1992391408.py#9\" target=\"_blank\"><span style=\"color: #7f7f7f; text-decoration-color: #7f7f7f\">9</span></a>\n",
       "</pre>\n"
      ],
      "text/plain": [
       "\u001b[2;36m[04/22/23 14:29:36]\u001b[0m\u001b[2;36m \u001b[0m\u001b[34mINFO    \u001b[0m \u001b[33mk\u001b[0m=\u001b[1;36m60\u001b[0m, \u001b[33mcost\u001b[0m=\u001b[1;36m86985\u001b[0m, \u001b[33mn_iter\u001b[0m=\u001b[1;36m30\u001b[0m, \u001b[33mscore\u001b[0m=\u001b[1;36m0\u001b[0m\u001b[1;36m.0829\u001b[0m                              \u001b]8;id=615274;file://C:\\Users\\hao_l\\AppData\\Local\\Temp\\ipykernel_10528\\1992391408.py\u001b\\\u001b[2m1992391408.py\u001b[0m\u001b]8;;\u001b\\\u001b[2m:\u001b[0m\u001b]8;id=603339;file://C:\\Users\\hao_l\\AppData\\Local\\Temp\\ipykernel_10528\\1992391408.py#9\u001b\\\u001b[2m9\u001b[0m\u001b]8;;\u001b\\\n"
      ]
     },
     "metadata": {},
     "output_type": "display_data"
    },
    {
     "data": {
      "text/html": [
       "<pre style=\"white-space:pre;overflow-x:auto;line-height:normal;font-family:Menlo,'DejaVu Sans Mono',consolas,'Courier New',monospace\"><span style=\"color: #7fbfbf; text-decoration-color: #7fbfbf\">                    </span><span style=\"color: #000080; text-decoration-color: #000080\">INFO    </span> Performing clustering for <span style=\"color: #808000; text-decoration-color: #808000\">k</span>=<span style=\"color: #008080; text-decoration-color: #008080; font-weight: bold\">61</span>                                         <a href=\"file://C:\\Users\\hao_l\\AppData\\Local\\Temp\\ipykernel_10528\\1992391408.py\" target=\"_blank\"><span style=\"color: #7f7f7f; text-decoration-color: #7f7f7f\">1992391408.py</span></a><span style=\"color: #7f7f7f; text-decoration-color: #7f7f7f\">:</span><a href=\"file://C:\\Users\\hao_l\\AppData\\Local\\Temp\\ipykernel_10528\\1992391408.py#5\" target=\"_blank\"><span style=\"color: #7f7f7f; text-decoration-color: #7f7f7f\">5</span></a>\n",
       "</pre>\n"
      ],
      "text/plain": [
       "\u001b[2;36m                   \u001b[0m\u001b[2;36m \u001b[0m\u001b[34mINFO    \u001b[0m Performing clustering for \u001b[33mk\u001b[0m=\u001b[1;36m61\u001b[0m                                         \u001b]8;id=881481;file://C:\\Users\\hao_l\\AppData\\Local\\Temp\\ipykernel_10528\\1992391408.py\u001b\\\u001b[2m1992391408.py\u001b[0m\u001b]8;;\u001b\\\u001b[2m:\u001b[0m\u001b]8;id=910378;file://C:\\Users\\hao_l\\AppData\\Local\\Temp\\ipykernel_10528\\1992391408.py#5\u001b\\\u001b[2m5\u001b[0m\u001b]8;;\u001b\\\n"
      ]
     },
     "metadata": {},
     "output_type": "display_data"
    },
    {
     "data": {
      "text/html": [
       "<pre style=\"white-space:pre;overflow-x:auto;line-height:normal;font-family:Menlo,'DejaVu Sans Mono',consolas,'Courier New',monospace\"><span style=\"color: #7fbfbf; text-decoration-color: #7fbfbf\">[04/22/23 14:34:09] </span><span style=\"color: #000080; text-decoration-color: #000080\">INFO    </span> <span style=\"color: #808000; text-decoration-color: #808000\">k</span>=<span style=\"color: #008080; text-decoration-color: #008080; font-weight: bold\">61</span>, <span style=\"color: #808000; text-decoration-color: #808000\">cost</span>=<span style=\"color: #008080; text-decoration-color: #008080; font-weight: bold\">86458</span>, <span style=\"color: #808000; text-decoration-color: #808000\">n_iter</span>=<span style=\"color: #008080; text-decoration-color: #008080; font-weight: bold\">30</span>, <span style=\"color: #808000; text-decoration-color: #808000\">score</span>=<span style=\"color: #008080; text-decoration-color: #008080; font-weight: bold\">0.0840</span>                              <a href=\"file://C:\\Users\\hao_l\\AppData\\Local\\Temp\\ipykernel_10528\\1992391408.py\" target=\"_blank\"><span style=\"color: #7f7f7f; text-decoration-color: #7f7f7f\">1992391408.py</span></a><span style=\"color: #7f7f7f; text-decoration-color: #7f7f7f\">:</span><a href=\"file://C:\\Users\\hao_l\\AppData\\Local\\Temp\\ipykernel_10528\\1992391408.py#9\" target=\"_blank\"><span style=\"color: #7f7f7f; text-decoration-color: #7f7f7f\">9</span></a>\n",
       "</pre>\n"
      ],
      "text/plain": [
       "\u001b[2;36m[04/22/23 14:34:09]\u001b[0m\u001b[2;36m \u001b[0m\u001b[34mINFO    \u001b[0m \u001b[33mk\u001b[0m=\u001b[1;36m61\u001b[0m, \u001b[33mcost\u001b[0m=\u001b[1;36m86458\u001b[0m, \u001b[33mn_iter\u001b[0m=\u001b[1;36m30\u001b[0m, \u001b[33mscore\u001b[0m=\u001b[1;36m0\u001b[0m\u001b[1;36m.0840\u001b[0m                              \u001b]8;id=630144;file://C:\\Users\\hao_l\\AppData\\Local\\Temp\\ipykernel_10528\\1992391408.py\u001b\\\u001b[2m1992391408.py\u001b[0m\u001b]8;;\u001b\\\u001b[2m:\u001b[0m\u001b]8;id=500064;file://C:\\Users\\hao_l\\AppData\\Local\\Temp\\ipykernel_10528\\1992391408.py#9\u001b\\\u001b[2m9\u001b[0m\u001b]8;;\u001b\\\n"
      ]
     },
     "metadata": {},
     "output_type": "display_data"
    },
    {
     "data": {
      "text/html": [
       "<pre style=\"white-space:pre;overflow-x:auto;line-height:normal;font-family:Menlo,'DejaVu Sans Mono',consolas,'Courier New',monospace\"><span style=\"color: #7fbfbf; text-decoration-color: #7fbfbf\">                    </span><span style=\"color: #000080; text-decoration-color: #000080\">INFO    </span> Performing clustering for <span style=\"color: #808000; text-decoration-color: #808000\">k</span>=<span style=\"color: #008080; text-decoration-color: #008080; font-weight: bold\">62</span>                                         <a href=\"file://C:\\Users\\hao_l\\AppData\\Local\\Temp\\ipykernel_10528\\1992391408.py\" target=\"_blank\"><span style=\"color: #7f7f7f; text-decoration-color: #7f7f7f\">1992391408.py</span></a><span style=\"color: #7f7f7f; text-decoration-color: #7f7f7f\">:</span><a href=\"file://C:\\Users\\hao_l\\AppData\\Local\\Temp\\ipykernel_10528\\1992391408.py#5\" target=\"_blank\"><span style=\"color: #7f7f7f; text-decoration-color: #7f7f7f\">5</span></a>\n",
       "</pre>\n"
      ],
      "text/plain": [
       "\u001b[2;36m                   \u001b[0m\u001b[2;36m \u001b[0m\u001b[34mINFO    \u001b[0m Performing clustering for \u001b[33mk\u001b[0m=\u001b[1;36m62\u001b[0m                                         \u001b]8;id=629078;file://C:\\Users\\hao_l\\AppData\\Local\\Temp\\ipykernel_10528\\1992391408.py\u001b\\\u001b[2m1992391408.py\u001b[0m\u001b]8;;\u001b\\\u001b[2m:\u001b[0m\u001b]8;id=608709;file://C:\\Users\\hao_l\\AppData\\Local\\Temp\\ipykernel_10528\\1992391408.py#5\u001b\\\u001b[2m5\u001b[0m\u001b]8;;\u001b\\\n"
      ]
     },
     "metadata": {},
     "output_type": "display_data"
    },
    {
     "data": {
      "text/html": [
       "<pre style=\"white-space:pre;overflow-x:auto;line-height:normal;font-family:Menlo,'DejaVu Sans Mono',consolas,'Courier New',monospace\"><span style=\"color: #7fbfbf; text-decoration-color: #7fbfbf\">[04/22/23 14:38:06] </span><span style=\"color: #000080; text-decoration-color: #000080\">INFO    </span> <span style=\"color: #808000; text-decoration-color: #808000\">k</span>=<span style=\"color: #008080; text-decoration-color: #008080; font-weight: bold\">62</span>, <span style=\"color: #808000; text-decoration-color: #808000\">cost</span>=<span style=\"color: #008080; text-decoration-color: #008080; font-weight: bold\">85897</span>, <span style=\"color: #808000; text-decoration-color: #808000\">n_iter</span>=<span style=\"color: #008080; text-decoration-color: #008080; font-weight: bold\">30</span>, <span style=\"color: #808000; text-decoration-color: #808000\">score</span>=<span style=\"color: #008080; text-decoration-color: #008080; font-weight: bold\">0.0835</span>                              <a href=\"file://C:\\Users\\hao_l\\AppData\\Local\\Temp\\ipykernel_10528\\1992391408.py\" target=\"_blank\"><span style=\"color: #7f7f7f; text-decoration-color: #7f7f7f\">1992391408.py</span></a><span style=\"color: #7f7f7f; text-decoration-color: #7f7f7f\">:</span><a href=\"file://C:\\Users\\hao_l\\AppData\\Local\\Temp\\ipykernel_10528\\1992391408.py#9\" target=\"_blank\"><span style=\"color: #7f7f7f; text-decoration-color: #7f7f7f\">9</span></a>\n",
       "</pre>\n"
      ],
      "text/plain": [
       "\u001b[2;36m[04/22/23 14:38:06]\u001b[0m\u001b[2;36m \u001b[0m\u001b[34mINFO    \u001b[0m \u001b[33mk\u001b[0m=\u001b[1;36m62\u001b[0m, \u001b[33mcost\u001b[0m=\u001b[1;36m85897\u001b[0m, \u001b[33mn_iter\u001b[0m=\u001b[1;36m30\u001b[0m, \u001b[33mscore\u001b[0m=\u001b[1;36m0\u001b[0m\u001b[1;36m.0835\u001b[0m                              \u001b]8;id=723489;file://C:\\Users\\hao_l\\AppData\\Local\\Temp\\ipykernel_10528\\1992391408.py\u001b\\\u001b[2m1992391408.py\u001b[0m\u001b]8;;\u001b\\\u001b[2m:\u001b[0m\u001b]8;id=947131;file://C:\\Users\\hao_l\\AppData\\Local\\Temp\\ipykernel_10528\\1992391408.py#9\u001b\\\u001b[2m9\u001b[0m\u001b]8;;\u001b\\\n"
      ]
     },
     "metadata": {},
     "output_type": "display_data"
    },
    {
     "data": {
      "text/html": [
       "<pre style=\"white-space:pre;overflow-x:auto;line-height:normal;font-family:Menlo,'DejaVu Sans Mono',consolas,'Courier New',monospace\"><span style=\"color: #7fbfbf; text-decoration-color: #7fbfbf\">                    </span><span style=\"color: #000080; text-decoration-color: #000080\">INFO    </span> Performing clustering for <span style=\"color: #808000; text-decoration-color: #808000\">k</span>=<span style=\"color: #008080; text-decoration-color: #008080; font-weight: bold\">63</span>                                         <a href=\"file://C:\\Users\\hao_l\\AppData\\Local\\Temp\\ipykernel_10528\\1992391408.py\" target=\"_blank\"><span style=\"color: #7f7f7f; text-decoration-color: #7f7f7f\">1992391408.py</span></a><span style=\"color: #7f7f7f; text-decoration-color: #7f7f7f\">:</span><a href=\"file://C:\\Users\\hao_l\\AppData\\Local\\Temp\\ipykernel_10528\\1992391408.py#5\" target=\"_blank\"><span style=\"color: #7f7f7f; text-decoration-color: #7f7f7f\">5</span></a>\n",
       "</pre>\n"
      ],
      "text/plain": [
       "\u001b[2;36m                   \u001b[0m\u001b[2;36m \u001b[0m\u001b[34mINFO    \u001b[0m Performing clustering for \u001b[33mk\u001b[0m=\u001b[1;36m63\u001b[0m                                         \u001b]8;id=158690;file://C:\\Users\\hao_l\\AppData\\Local\\Temp\\ipykernel_10528\\1992391408.py\u001b\\\u001b[2m1992391408.py\u001b[0m\u001b]8;;\u001b\\\u001b[2m:\u001b[0m\u001b]8;id=603263;file://C:\\Users\\hao_l\\AppData\\Local\\Temp\\ipykernel_10528\\1992391408.py#5\u001b\\\u001b[2m5\u001b[0m\u001b]8;;\u001b\\\n"
      ]
     },
     "metadata": {},
     "output_type": "display_data"
    },
    {
     "data": {
      "text/html": [
       "<pre style=\"white-space:pre;overflow-x:auto;line-height:normal;font-family:Menlo,'DejaVu Sans Mono',consolas,'Courier New',monospace\"><span style=\"color: #7fbfbf; text-decoration-color: #7fbfbf\">[04/22/23 14:42:01] </span><span style=\"color: #000080; text-decoration-color: #000080\">INFO    </span> <span style=\"color: #808000; text-decoration-color: #808000\">k</span>=<span style=\"color: #008080; text-decoration-color: #008080; font-weight: bold\">63</span>, <span style=\"color: #808000; text-decoration-color: #808000\">cost</span>=<span style=\"color: #008080; text-decoration-color: #008080; font-weight: bold\">85555</span>, <span style=\"color: #808000; text-decoration-color: #808000\">n_iter</span>=<span style=\"color: #008080; text-decoration-color: #008080; font-weight: bold\">30</span>, <span style=\"color: #808000; text-decoration-color: #808000\">score</span>=<span style=\"color: #008080; text-decoration-color: #008080; font-weight: bold\">0.0831</span>                              <a href=\"file://C:\\Users\\hao_l\\AppData\\Local\\Temp\\ipykernel_10528\\1992391408.py\" target=\"_blank\"><span style=\"color: #7f7f7f; text-decoration-color: #7f7f7f\">1992391408.py</span></a><span style=\"color: #7f7f7f; text-decoration-color: #7f7f7f\">:</span><a href=\"file://C:\\Users\\hao_l\\AppData\\Local\\Temp\\ipykernel_10528\\1992391408.py#9\" target=\"_blank\"><span style=\"color: #7f7f7f; text-decoration-color: #7f7f7f\">9</span></a>\n",
       "</pre>\n"
      ],
      "text/plain": [
       "\u001b[2;36m[04/22/23 14:42:01]\u001b[0m\u001b[2;36m \u001b[0m\u001b[34mINFO    \u001b[0m \u001b[33mk\u001b[0m=\u001b[1;36m63\u001b[0m, \u001b[33mcost\u001b[0m=\u001b[1;36m85555\u001b[0m, \u001b[33mn_iter\u001b[0m=\u001b[1;36m30\u001b[0m, \u001b[33mscore\u001b[0m=\u001b[1;36m0\u001b[0m\u001b[1;36m.0831\u001b[0m                              \u001b]8;id=254563;file://C:\\Users\\hao_l\\AppData\\Local\\Temp\\ipykernel_10528\\1992391408.py\u001b\\\u001b[2m1992391408.py\u001b[0m\u001b]8;;\u001b\\\u001b[2m:\u001b[0m\u001b]8;id=754097;file://C:\\Users\\hao_l\\AppData\\Local\\Temp\\ipykernel_10528\\1992391408.py#9\u001b\\\u001b[2m9\u001b[0m\u001b]8;;\u001b\\\n"
      ]
     },
     "metadata": {},
     "output_type": "display_data"
    },
    {
     "data": {
      "text/html": [
       "<pre style=\"white-space:pre;overflow-x:auto;line-height:normal;font-family:Menlo,'DejaVu Sans Mono',consolas,'Courier New',monospace\"><span style=\"color: #7fbfbf; text-decoration-color: #7fbfbf\">                    </span><span style=\"color: #000080; text-decoration-color: #000080\">INFO    </span> Performing clustering for <span style=\"color: #808000; text-decoration-color: #808000\">k</span>=<span style=\"color: #008080; text-decoration-color: #008080; font-weight: bold\">64</span>                                         <a href=\"file://C:\\Users\\hao_l\\AppData\\Local\\Temp\\ipykernel_10528\\1992391408.py\" target=\"_blank\"><span style=\"color: #7f7f7f; text-decoration-color: #7f7f7f\">1992391408.py</span></a><span style=\"color: #7f7f7f; text-decoration-color: #7f7f7f\">:</span><a href=\"file://C:\\Users\\hao_l\\AppData\\Local\\Temp\\ipykernel_10528\\1992391408.py#5\" target=\"_blank\"><span style=\"color: #7f7f7f; text-decoration-color: #7f7f7f\">5</span></a>\n",
       "</pre>\n"
      ],
      "text/plain": [
       "\u001b[2;36m                   \u001b[0m\u001b[2;36m \u001b[0m\u001b[34mINFO    \u001b[0m Performing clustering for \u001b[33mk\u001b[0m=\u001b[1;36m64\u001b[0m                                         \u001b]8;id=440894;file://C:\\Users\\hao_l\\AppData\\Local\\Temp\\ipykernel_10528\\1992391408.py\u001b\\\u001b[2m1992391408.py\u001b[0m\u001b]8;;\u001b\\\u001b[2m:\u001b[0m\u001b]8;id=950250;file://C:\\Users\\hao_l\\AppData\\Local\\Temp\\ipykernel_10528\\1992391408.py#5\u001b\\\u001b[2m5\u001b[0m\u001b]8;;\u001b\\\n"
      ]
     },
     "metadata": {},
     "output_type": "display_data"
    },
    {
     "data": {
      "text/html": [
       "<pre style=\"white-space:pre;overflow-x:auto;line-height:normal;font-family:Menlo,'DejaVu Sans Mono',consolas,'Courier New',monospace\"><span style=\"color: #7fbfbf; text-decoration-color: #7fbfbf\">[04/22/23 14:46:34] </span><span style=\"color: #000080; text-decoration-color: #000080\">INFO    </span> <span style=\"color: #808000; text-decoration-color: #808000\">k</span>=<span style=\"color: #008080; text-decoration-color: #008080; font-weight: bold\">64</span>, <span style=\"color: #808000; text-decoration-color: #808000\">cost</span>=<span style=\"color: #008080; text-decoration-color: #008080; font-weight: bold\">85444</span>, <span style=\"color: #808000; text-decoration-color: #808000\">n_iter</span>=<span style=\"color: #008080; text-decoration-color: #008080; font-weight: bold\">30</span>, <span style=\"color: #808000; text-decoration-color: #808000\">score</span>=<span style=\"color: #008080; text-decoration-color: #008080; font-weight: bold\">0.0807</span>                              <a href=\"file://C:\\Users\\hao_l\\AppData\\Local\\Temp\\ipykernel_10528\\1992391408.py\" target=\"_blank\"><span style=\"color: #7f7f7f; text-decoration-color: #7f7f7f\">1992391408.py</span></a><span style=\"color: #7f7f7f; text-decoration-color: #7f7f7f\">:</span><a href=\"file://C:\\Users\\hao_l\\AppData\\Local\\Temp\\ipykernel_10528\\1992391408.py#9\" target=\"_blank\"><span style=\"color: #7f7f7f; text-decoration-color: #7f7f7f\">9</span></a>\n",
       "</pre>\n"
      ],
      "text/plain": [
       "\u001b[2;36m[04/22/23 14:46:34]\u001b[0m\u001b[2;36m \u001b[0m\u001b[34mINFO    \u001b[0m \u001b[33mk\u001b[0m=\u001b[1;36m64\u001b[0m, \u001b[33mcost\u001b[0m=\u001b[1;36m85444\u001b[0m, \u001b[33mn_iter\u001b[0m=\u001b[1;36m30\u001b[0m, \u001b[33mscore\u001b[0m=\u001b[1;36m0\u001b[0m\u001b[1;36m.0807\u001b[0m                              \u001b]8;id=470059;file://C:\\Users\\hao_l\\AppData\\Local\\Temp\\ipykernel_10528\\1992391408.py\u001b\\\u001b[2m1992391408.py\u001b[0m\u001b]8;;\u001b\\\u001b[2m:\u001b[0m\u001b]8;id=520009;file://C:\\Users\\hao_l\\AppData\\Local\\Temp\\ipykernel_10528\\1992391408.py#9\u001b\\\u001b[2m9\u001b[0m\u001b]8;;\u001b\\\n"
      ]
     },
     "metadata": {},
     "output_type": "display_data"
    },
    {
     "data": {
      "text/html": [
       "<pre style=\"white-space:pre;overflow-x:auto;line-height:normal;font-family:Menlo,'DejaVu Sans Mono',consolas,'Courier New',monospace\"><span style=\"color: #7fbfbf; text-decoration-color: #7fbfbf\">                    </span><span style=\"color: #000080; text-decoration-color: #000080\">INFO    </span> Performing clustering for <span style=\"color: #808000; text-decoration-color: #808000\">k</span>=<span style=\"color: #008080; text-decoration-color: #008080; font-weight: bold\">65</span>                                         <a href=\"file://C:\\Users\\hao_l\\AppData\\Local\\Temp\\ipykernel_10528\\1992391408.py\" target=\"_blank\"><span style=\"color: #7f7f7f; text-decoration-color: #7f7f7f\">1992391408.py</span></a><span style=\"color: #7f7f7f; text-decoration-color: #7f7f7f\">:</span><a href=\"file://C:\\Users\\hao_l\\AppData\\Local\\Temp\\ipykernel_10528\\1992391408.py#5\" target=\"_blank\"><span style=\"color: #7f7f7f; text-decoration-color: #7f7f7f\">5</span></a>\n",
       "</pre>\n"
      ],
      "text/plain": [
       "\u001b[2;36m                   \u001b[0m\u001b[2;36m \u001b[0m\u001b[34mINFO    \u001b[0m Performing clustering for \u001b[33mk\u001b[0m=\u001b[1;36m65\u001b[0m                                         \u001b]8;id=262247;file://C:\\Users\\hao_l\\AppData\\Local\\Temp\\ipykernel_10528\\1992391408.py\u001b\\\u001b[2m1992391408.py\u001b[0m\u001b]8;;\u001b\\\u001b[2m:\u001b[0m\u001b]8;id=996733;file://C:\\Users\\hao_l\\AppData\\Local\\Temp\\ipykernel_10528\\1992391408.py#5\u001b\\\u001b[2m5\u001b[0m\u001b]8;;\u001b\\\n"
      ]
     },
     "metadata": {},
     "output_type": "display_data"
    },
    {
     "data": {
      "text/html": [
       "<pre style=\"white-space:pre;overflow-x:auto;line-height:normal;font-family:Menlo,'DejaVu Sans Mono',consolas,'Courier New',monospace\"><span style=\"color: #7fbfbf; text-decoration-color: #7fbfbf\">[04/22/23 14:51:16] </span><span style=\"color: #000080; text-decoration-color: #000080\">INFO    </span> <span style=\"color: #808000; text-decoration-color: #808000\">k</span>=<span style=\"color: #008080; text-decoration-color: #008080; font-weight: bold\">65</span>, <span style=\"color: #808000; text-decoration-color: #808000\">cost</span>=<span style=\"color: #008080; text-decoration-color: #008080; font-weight: bold\">84818</span>, <span style=\"color: #808000; text-decoration-color: #808000\">n_iter</span>=<span style=\"color: #008080; text-decoration-color: #008080; font-weight: bold\">30</span>, <span style=\"color: #808000; text-decoration-color: #808000\">score</span>=<span style=\"color: #008080; text-decoration-color: #008080; font-weight: bold\">0.0830</span>                              <a href=\"file://C:\\Users\\hao_l\\AppData\\Local\\Temp\\ipykernel_10528\\1992391408.py\" target=\"_blank\"><span style=\"color: #7f7f7f; text-decoration-color: #7f7f7f\">1992391408.py</span></a><span style=\"color: #7f7f7f; text-decoration-color: #7f7f7f\">:</span><a href=\"file://C:\\Users\\hao_l\\AppData\\Local\\Temp\\ipykernel_10528\\1992391408.py#9\" target=\"_blank\"><span style=\"color: #7f7f7f; text-decoration-color: #7f7f7f\">9</span></a>\n",
       "</pre>\n"
      ],
      "text/plain": [
       "\u001b[2;36m[04/22/23 14:51:16]\u001b[0m\u001b[2;36m \u001b[0m\u001b[34mINFO    \u001b[0m \u001b[33mk\u001b[0m=\u001b[1;36m65\u001b[0m, \u001b[33mcost\u001b[0m=\u001b[1;36m84818\u001b[0m, \u001b[33mn_iter\u001b[0m=\u001b[1;36m30\u001b[0m, \u001b[33mscore\u001b[0m=\u001b[1;36m0\u001b[0m\u001b[1;36m.0830\u001b[0m                              \u001b]8;id=468339;file://C:\\Users\\hao_l\\AppData\\Local\\Temp\\ipykernel_10528\\1992391408.py\u001b\\\u001b[2m1992391408.py\u001b[0m\u001b]8;;\u001b\\\u001b[2m:\u001b[0m\u001b]8;id=193324;file://C:\\Users\\hao_l\\AppData\\Local\\Temp\\ipykernel_10528\\1992391408.py#9\u001b\\\u001b[2m9\u001b[0m\u001b]8;;\u001b\\\n"
      ]
     },
     "metadata": {},
     "output_type": "display_data"
    },
    {
     "data": {
      "text/html": [
       "<pre style=\"white-space:pre;overflow-x:auto;line-height:normal;font-family:Menlo,'DejaVu Sans Mono',consolas,'Courier New',monospace\"><span style=\"color: #7fbfbf; text-decoration-color: #7fbfbf\">                    </span><span style=\"color: #000080; text-decoration-color: #000080\">INFO    </span> Performing clustering for <span style=\"color: #808000; text-decoration-color: #808000\">k</span>=<span style=\"color: #008080; text-decoration-color: #008080; font-weight: bold\">66</span>                                         <a href=\"file://C:\\Users\\hao_l\\AppData\\Local\\Temp\\ipykernel_10528\\1992391408.py\" target=\"_blank\"><span style=\"color: #7f7f7f; text-decoration-color: #7f7f7f\">1992391408.py</span></a><span style=\"color: #7f7f7f; text-decoration-color: #7f7f7f\">:</span><a href=\"file://C:\\Users\\hao_l\\AppData\\Local\\Temp\\ipykernel_10528\\1992391408.py#5\" target=\"_blank\"><span style=\"color: #7f7f7f; text-decoration-color: #7f7f7f\">5</span></a>\n",
       "</pre>\n"
      ],
      "text/plain": [
       "\u001b[2;36m                   \u001b[0m\u001b[2;36m \u001b[0m\u001b[34mINFO    \u001b[0m Performing clustering for \u001b[33mk\u001b[0m=\u001b[1;36m66\u001b[0m                                         \u001b]8;id=858270;file://C:\\Users\\hao_l\\AppData\\Local\\Temp\\ipykernel_10528\\1992391408.py\u001b\\\u001b[2m1992391408.py\u001b[0m\u001b]8;;\u001b\\\u001b[2m:\u001b[0m\u001b]8;id=460151;file://C:\\Users\\hao_l\\AppData\\Local\\Temp\\ipykernel_10528\\1992391408.py#5\u001b\\\u001b[2m5\u001b[0m\u001b]8;;\u001b\\\n"
      ]
     },
     "metadata": {},
     "output_type": "display_data"
    },
    {
     "data": {
      "text/html": [
       "<pre style=\"white-space:pre;overflow-x:auto;line-height:normal;font-family:Menlo,'DejaVu Sans Mono',consolas,'Courier New',monospace\"><span style=\"color: #7fbfbf; text-decoration-color: #7fbfbf\">[04/22/23 14:55:22] </span><span style=\"color: #000080; text-decoration-color: #000080\">INFO    </span> <span style=\"color: #808000; text-decoration-color: #808000\">k</span>=<span style=\"color: #008080; text-decoration-color: #008080; font-weight: bold\">66</span>, <span style=\"color: #808000; text-decoration-color: #808000\">cost</span>=<span style=\"color: #008080; text-decoration-color: #008080; font-weight: bold\">84736</span>, <span style=\"color: #808000; text-decoration-color: #808000\">n_iter</span>=<span style=\"color: #008080; text-decoration-color: #008080; font-weight: bold\">30</span>, <span style=\"color: #808000; text-decoration-color: #808000\">score</span>=<span style=\"color: #008080; text-decoration-color: #008080; font-weight: bold\">0.0823</span>                              <a href=\"file://C:\\Users\\hao_l\\AppData\\Local\\Temp\\ipykernel_10528\\1992391408.py\" target=\"_blank\"><span style=\"color: #7f7f7f; text-decoration-color: #7f7f7f\">1992391408.py</span></a><span style=\"color: #7f7f7f; text-decoration-color: #7f7f7f\">:</span><a href=\"file://C:\\Users\\hao_l\\AppData\\Local\\Temp\\ipykernel_10528\\1992391408.py#9\" target=\"_blank\"><span style=\"color: #7f7f7f; text-decoration-color: #7f7f7f\">9</span></a>\n",
       "</pre>\n"
      ],
      "text/plain": [
       "\u001b[2;36m[04/22/23 14:55:22]\u001b[0m\u001b[2;36m \u001b[0m\u001b[34mINFO    \u001b[0m \u001b[33mk\u001b[0m=\u001b[1;36m66\u001b[0m, \u001b[33mcost\u001b[0m=\u001b[1;36m84736\u001b[0m, \u001b[33mn_iter\u001b[0m=\u001b[1;36m30\u001b[0m, \u001b[33mscore\u001b[0m=\u001b[1;36m0\u001b[0m\u001b[1;36m.0823\u001b[0m                              \u001b]8;id=356074;file://C:\\Users\\hao_l\\AppData\\Local\\Temp\\ipykernel_10528\\1992391408.py\u001b\\\u001b[2m1992391408.py\u001b[0m\u001b]8;;\u001b\\\u001b[2m:\u001b[0m\u001b]8;id=92948;file://C:\\Users\\hao_l\\AppData\\Local\\Temp\\ipykernel_10528\\1992391408.py#9\u001b\\\u001b[2m9\u001b[0m\u001b]8;;\u001b\\\n"
      ]
     },
     "metadata": {},
     "output_type": "display_data"
    },
    {
     "data": {
      "text/html": [
       "<pre style=\"white-space:pre;overflow-x:auto;line-height:normal;font-family:Menlo,'DejaVu Sans Mono',consolas,'Courier New',monospace\"><span style=\"color: #7fbfbf; text-decoration-color: #7fbfbf\">                    </span><span style=\"color: #000080; text-decoration-color: #000080\">INFO    </span> Performing clustering for <span style=\"color: #808000; text-decoration-color: #808000\">k</span>=<span style=\"color: #008080; text-decoration-color: #008080; font-weight: bold\">67</span>                                         <a href=\"file://C:\\Users\\hao_l\\AppData\\Local\\Temp\\ipykernel_10528\\1992391408.py\" target=\"_blank\"><span style=\"color: #7f7f7f; text-decoration-color: #7f7f7f\">1992391408.py</span></a><span style=\"color: #7f7f7f; text-decoration-color: #7f7f7f\">:</span><a href=\"file://C:\\Users\\hao_l\\AppData\\Local\\Temp\\ipykernel_10528\\1992391408.py#5\" target=\"_blank\"><span style=\"color: #7f7f7f; text-decoration-color: #7f7f7f\">5</span></a>\n",
       "</pre>\n"
      ],
      "text/plain": [
       "\u001b[2;36m                   \u001b[0m\u001b[2;36m \u001b[0m\u001b[34mINFO    \u001b[0m Performing clustering for \u001b[33mk\u001b[0m=\u001b[1;36m67\u001b[0m                                         \u001b]8;id=62757;file://C:\\Users\\hao_l\\AppData\\Local\\Temp\\ipykernel_10528\\1992391408.py\u001b\\\u001b[2m1992391408.py\u001b[0m\u001b]8;;\u001b\\\u001b[2m:\u001b[0m\u001b]8;id=30894;file://C:\\Users\\hao_l\\AppData\\Local\\Temp\\ipykernel_10528\\1992391408.py#5\u001b\\\u001b[2m5\u001b[0m\u001b]8;;\u001b\\\n"
      ]
     },
     "metadata": {},
     "output_type": "display_data"
    },
    {
     "data": {
      "text/html": [
       "<pre style=\"white-space:pre;overflow-x:auto;line-height:normal;font-family:Menlo,'DejaVu Sans Mono',consolas,'Courier New',monospace\"><span style=\"color: #7fbfbf; text-decoration-color: #7fbfbf\">[04/22/23 14:59:53] </span><span style=\"color: #000080; text-decoration-color: #000080\">INFO    </span> <span style=\"color: #808000; text-decoration-color: #808000\">k</span>=<span style=\"color: #008080; text-decoration-color: #008080; font-weight: bold\">67</span>, <span style=\"color: #808000; text-decoration-color: #808000\">cost</span>=<span style=\"color: #008080; text-decoration-color: #008080; font-weight: bold\">84343</span>, <span style=\"color: #808000; text-decoration-color: #808000\">n_iter</span>=<span style=\"color: #008080; text-decoration-color: #008080; font-weight: bold\">30</span>, <span style=\"color: #808000; text-decoration-color: #808000\">score</span>=<span style=\"color: #008080; text-decoration-color: #008080; font-weight: bold\">0.0826</span>                              <a href=\"file://C:\\Users\\hao_l\\AppData\\Local\\Temp\\ipykernel_10528\\1992391408.py\" target=\"_blank\"><span style=\"color: #7f7f7f; text-decoration-color: #7f7f7f\">1992391408.py</span></a><span style=\"color: #7f7f7f; text-decoration-color: #7f7f7f\">:</span><a href=\"file://C:\\Users\\hao_l\\AppData\\Local\\Temp\\ipykernel_10528\\1992391408.py#9\" target=\"_blank\"><span style=\"color: #7f7f7f; text-decoration-color: #7f7f7f\">9</span></a>\n",
       "</pre>\n"
      ],
      "text/plain": [
       "\u001b[2;36m[04/22/23 14:59:53]\u001b[0m\u001b[2;36m \u001b[0m\u001b[34mINFO    \u001b[0m \u001b[33mk\u001b[0m=\u001b[1;36m67\u001b[0m, \u001b[33mcost\u001b[0m=\u001b[1;36m84343\u001b[0m, \u001b[33mn_iter\u001b[0m=\u001b[1;36m30\u001b[0m, \u001b[33mscore\u001b[0m=\u001b[1;36m0\u001b[0m\u001b[1;36m.0826\u001b[0m                              \u001b]8;id=782853;file://C:\\Users\\hao_l\\AppData\\Local\\Temp\\ipykernel_10528\\1992391408.py\u001b\\\u001b[2m1992391408.py\u001b[0m\u001b]8;;\u001b\\\u001b[2m:\u001b[0m\u001b]8;id=330708;file://C:\\Users\\hao_l\\AppData\\Local\\Temp\\ipykernel_10528\\1992391408.py#9\u001b\\\u001b[2m9\u001b[0m\u001b]8;;\u001b\\\n"
      ]
     },
     "metadata": {},
     "output_type": "display_data"
    },
    {
     "data": {
      "text/html": [
       "<pre style=\"white-space:pre;overflow-x:auto;line-height:normal;font-family:Menlo,'DejaVu Sans Mono',consolas,'Courier New',monospace\"><span style=\"color: #7fbfbf; text-decoration-color: #7fbfbf\">                    </span><span style=\"color: #000080; text-decoration-color: #000080\">INFO    </span> Performing clustering for <span style=\"color: #808000; text-decoration-color: #808000\">k</span>=<span style=\"color: #008080; text-decoration-color: #008080; font-weight: bold\">68</span>                                         <a href=\"file://C:\\Users\\hao_l\\AppData\\Local\\Temp\\ipykernel_10528\\1992391408.py\" target=\"_blank\"><span style=\"color: #7f7f7f; text-decoration-color: #7f7f7f\">1992391408.py</span></a><span style=\"color: #7f7f7f; text-decoration-color: #7f7f7f\">:</span><a href=\"file://C:\\Users\\hao_l\\AppData\\Local\\Temp\\ipykernel_10528\\1992391408.py#5\" target=\"_blank\"><span style=\"color: #7f7f7f; text-decoration-color: #7f7f7f\">5</span></a>\n",
       "</pre>\n"
      ],
      "text/plain": [
       "\u001b[2;36m                   \u001b[0m\u001b[2;36m \u001b[0m\u001b[34mINFO    \u001b[0m Performing clustering for \u001b[33mk\u001b[0m=\u001b[1;36m68\u001b[0m                                         \u001b]8;id=542917;file://C:\\Users\\hao_l\\AppData\\Local\\Temp\\ipykernel_10528\\1992391408.py\u001b\\\u001b[2m1992391408.py\u001b[0m\u001b]8;;\u001b\\\u001b[2m:\u001b[0m\u001b]8;id=804714;file://C:\\Users\\hao_l\\AppData\\Local\\Temp\\ipykernel_10528\\1992391408.py#5\u001b\\\u001b[2m5\u001b[0m\u001b]8;;\u001b\\\n"
      ]
     },
     "metadata": {},
     "output_type": "display_data"
    },
    {
     "data": {
      "text/html": [
       "<pre style=\"white-space:pre;overflow-x:auto;line-height:normal;font-family:Menlo,'DejaVu Sans Mono',consolas,'Courier New',monospace\"><span style=\"color: #7fbfbf; text-decoration-color: #7fbfbf\">[04/22/23 15:04:54] </span><span style=\"color: #000080; text-decoration-color: #000080\">INFO    </span> <span style=\"color: #808000; text-decoration-color: #808000\">k</span>=<span style=\"color: #008080; text-decoration-color: #008080; font-weight: bold\">68</span>, <span style=\"color: #808000; text-decoration-color: #808000\">cost</span>=<span style=\"color: #008080; text-decoration-color: #008080; font-weight: bold\">84169</span>, <span style=\"color: #808000; text-decoration-color: #808000\">n_iter</span>=<span style=\"color: #008080; text-decoration-color: #008080; font-weight: bold\">30</span>, <span style=\"color: #808000; text-decoration-color: #808000\">score</span>=<span style=\"color: #008080; text-decoration-color: #008080; font-weight: bold\">0.0830</span>                              <a href=\"file://C:\\Users\\hao_l\\AppData\\Local\\Temp\\ipykernel_10528\\1992391408.py\" target=\"_blank\"><span style=\"color: #7f7f7f; text-decoration-color: #7f7f7f\">1992391408.py</span></a><span style=\"color: #7f7f7f; text-decoration-color: #7f7f7f\">:</span><a href=\"file://C:\\Users\\hao_l\\AppData\\Local\\Temp\\ipykernel_10528\\1992391408.py#9\" target=\"_blank\"><span style=\"color: #7f7f7f; text-decoration-color: #7f7f7f\">9</span></a>\n",
       "</pre>\n"
      ],
      "text/plain": [
       "\u001b[2;36m[04/22/23 15:04:54]\u001b[0m\u001b[2;36m \u001b[0m\u001b[34mINFO    \u001b[0m \u001b[33mk\u001b[0m=\u001b[1;36m68\u001b[0m, \u001b[33mcost\u001b[0m=\u001b[1;36m84169\u001b[0m, \u001b[33mn_iter\u001b[0m=\u001b[1;36m30\u001b[0m, \u001b[33mscore\u001b[0m=\u001b[1;36m0\u001b[0m\u001b[1;36m.0830\u001b[0m                              \u001b]8;id=455403;file://C:\\Users\\hao_l\\AppData\\Local\\Temp\\ipykernel_10528\\1992391408.py\u001b\\\u001b[2m1992391408.py\u001b[0m\u001b]8;;\u001b\\\u001b[2m:\u001b[0m\u001b]8;id=422533;file://C:\\Users\\hao_l\\AppData\\Local\\Temp\\ipykernel_10528\\1992391408.py#9\u001b\\\u001b[2m9\u001b[0m\u001b]8;;\u001b\\\n"
      ]
     },
     "metadata": {},
     "output_type": "display_data"
    },
    {
     "data": {
      "text/html": [
       "<pre style=\"white-space:pre;overflow-x:auto;line-height:normal;font-family:Menlo,'DejaVu Sans Mono',consolas,'Courier New',monospace\"><span style=\"color: #7fbfbf; text-decoration-color: #7fbfbf\">                    </span><span style=\"color: #000080; text-decoration-color: #000080\">INFO    </span> Performing clustering for <span style=\"color: #808000; text-decoration-color: #808000\">k</span>=<span style=\"color: #008080; text-decoration-color: #008080; font-weight: bold\">69</span>                                         <a href=\"file://C:\\Users\\hao_l\\AppData\\Local\\Temp\\ipykernel_10528\\1992391408.py\" target=\"_blank\"><span style=\"color: #7f7f7f; text-decoration-color: #7f7f7f\">1992391408.py</span></a><span style=\"color: #7f7f7f; text-decoration-color: #7f7f7f\">:</span><a href=\"file://C:\\Users\\hao_l\\AppData\\Local\\Temp\\ipykernel_10528\\1992391408.py#5\" target=\"_blank\"><span style=\"color: #7f7f7f; text-decoration-color: #7f7f7f\">5</span></a>\n",
       "</pre>\n"
      ],
      "text/plain": [
       "\u001b[2;36m                   \u001b[0m\u001b[2;36m \u001b[0m\u001b[34mINFO    \u001b[0m Performing clustering for \u001b[33mk\u001b[0m=\u001b[1;36m69\u001b[0m                                         \u001b]8;id=169429;file://C:\\Users\\hao_l\\AppData\\Local\\Temp\\ipykernel_10528\\1992391408.py\u001b\\\u001b[2m1992391408.py\u001b[0m\u001b]8;;\u001b\\\u001b[2m:\u001b[0m\u001b]8;id=267489;file://C:\\Users\\hao_l\\AppData\\Local\\Temp\\ipykernel_10528\\1992391408.py#5\u001b\\\u001b[2m5\u001b[0m\u001b]8;;\u001b\\\n"
      ]
     },
     "metadata": {},
     "output_type": "display_data"
    },
    {
     "data": {
      "text/html": [
       "<pre style=\"white-space:pre;overflow-x:auto;line-height:normal;font-family:Menlo,'DejaVu Sans Mono',consolas,'Courier New',monospace\"><span style=\"color: #7fbfbf; text-decoration-color: #7fbfbf\">[04/22/23 15:09:38] </span><span style=\"color: #000080; text-decoration-color: #000080\">INFO    </span> <span style=\"color: #808000; text-decoration-color: #808000\">k</span>=<span style=\"color: #008080; text-decoration-color: #008080; font-weight: bold\">69</span>, <span style=\"color: #808000; text-decoration-color: #808000\">cost</span>=<span style=\"color: #008080; text-decoration-color: #008080; font-weight: bold\">83566</span>, <span style=\"color: #808000; text-decoration-color: #808000\">n_iter</span>=<span style=\"color: #008080; text-decoration-color: #008080; font-weight: bold\">30</span>, <span style=\"color: #808000; text-decoration-color: #808000\">score</span>=<span style=\"color: #008080; text-decoration-color: #008080; font-weight: bold\">0.0809</span>                              <a href=\"file://C:\\Users\\hao_l\\AppData\\Local\\Temp\\ipykernel_10528\\1992391408.py\" target=\"_blank\"><span style=\"color: #7f7f7f; text-decoration-color: #7f7f7f\">1992391408.py</span></a><span style=\"color: #7f7f7f; text-decoration-color: #7f7f7f\">:</span><a href=\"file://C:\\Users\\hao_l\\AppData\\Local\\Temp\\ipykernel_10528\\1992391408.py#9\" target=\"_blank\"><span style=\"color: #7f7f7f; text-decoration-color: #7f7f7f\">9</span></a>\n",
       "</pre>\n"
      ],
      "text/plain": [
       "\u001b[2;36m[04/22/23 15:09:38]\u001b[0m\u001b[2;36m \u001b[0m\u001b[34mINFO    \u001b[0m \u001b[33mk\u001b[0m=\u001b[1;36m69\u001b[0m, \u001b[33mcost\u001b[0m=\u001b[1;36m83566\u001b[0m, \u001b[33mn_iter\u001b[0m=\u001b[1;36m30\u001b[0m, \u001b[33mscore\u001b[0m=\u001b[1;36m0\u001b[0m\u001b[1;36m.0809\u001b[0m                              \u001b]8;id=463184;file://C:\\Users\\hao_l\\AppData\\Local\\Temp\\ipykernel_10528\\1992391408.py\u001b\\\u001b[2m1992391408.py\u001b[0m\u001b]8;;\u001b\\\u001b[2m:\u001b[0m\u001b]8;id=763295;file://C:\\Users\\hao_l\\AppData\\Local\\Temp\\ipykernel_10528\\1992391408.py#9\u001b\\\u001b[2m9\u001b[0m\u001b]8;;\u001b\\\n"
      ]
     },
     "metadata": {},
     "output_type": "display_data"
    },
    {
     "data": {
      "text/html": [
       "<pre style=\"white-space:pre;overflow-x:auto;line-height:normal;font-family:Menlo,'DejaVu Sans Mono',consolas,'Courier New',monospace\"><span style=\"color: #7fbfbf; text-decoration-color: #7fbfbf\">                    </span><span style=\"color: #000080; text-decoration-color: #000080\">INFO    </span> Performing clustering for <span style=\"color: #808000; text-decoration-color: #808000\">k</span>=<span style=\"color: #008080; text-decoration-color: #008080; font-weight: bold\">70</span>                                         <a href=\"file://C:\\Users\\hao_l\\AppData\\Local\\Temp\\ipykernel_10528\\1992391408.py\" target=\"_blank\"><span style=\"color: #7f7f7f; text-decoration-color: #7f7f7f\">1992391408.py</span></a><span style=\"color: #7f7f7f; text-decoration-color: #7f7f7f\">:</span><a href=\"file://C:\\Users\\hao_l\\AppData\\Local\\Temp\\ipykernel_10528\\1992391408.py#5\" target=\"_blank\"><span style=\"color: #7f7f7f; text-decoration-color: #7f7f7f\">5</span></a>\n",
       "</pre>\n"
      ],
      "text/plain": [
       "\u001b[2;36m                   \u001b[0m\u001b[2;36m \u001b[0m\u001b[34mINFO    \u001b[0m Performing clustering for \u001b[33mk\u001b[0m=\u001b[1;36m70\u001b[0m                                         \u001b]8;id=89182;file://C:\\Users\\hao_l\\AppData\\Local\\Temp\\ipykernel_10528\\1992391408.py\u001b\\\u001b[2m1992391408.py\u001b[0m\u001b]8;;\u001b\\\u001b[2m:\u001b[0m\u001b]8;id=773919;file://C:\\Users\\hao_l\\AppData\\Local\\Temp\\ipykernel_10528\\1992391408.py#5\u001b\\\u001b[2m5\u001b[0m\u001b]8;;\u001b\\\n"
      ]
     },
     "metadata": {},
     "output_type": "display_data"
    },
    {
     "data": {
      "text/html": [
       "<pre style=\"white-space:pre;overflow-x:auto;line-height:normal;font-family:Menlo,'DejaVu Sans Mono',consolas,'Courier New',monospace\"><span style=\"color: #7fbfbf; text-decoration-color: #7fbfbf\">[04/22/23 15:14:23] </span><span style=\"color: #000080; text-decoration-color: #000080\">INFO    </span> <span style=\"color: #808000; text-decoration-color: #808000\">k</span>=<span style=\"color: #008080; text-decoration-color: #008080; font-weight: bold\">70</span>, <span style=\"color: #808000; text-decoration-color: #808000\">cost</span>=<span style=\"color: #008080; text-decoration-color: #008080; font-weight: bold\">83406</span>, <span style=\"color: #808000; text-decoration-color: #808000\">n_iter</span>=<span style=\"color: #008080; text-decoration-color: #008080; font-weight: bold\">30</span>, <span style=\"color: #808000; text-decoration-color: #808000\">score</span>=<span style=\"color: #008080; text-decoration-color: #008080; font-weight: bold\">0.0816</span>                              <a href=\"file://C:\\Users\\hao_l\\AppData\\Local\\Temp\\ipykernel_10528\\1992391408.py\" target=\"_blank\"><span style=\"color: #7f7f7f; text-decoration-color: #7f7f7f\">1992391408.py</span></a><span style=\"color: #7f7f7f; text-decoration-color: #7f7f7f\">:</span><a href=\"file://C:\\Users\\hao_l\\AppData\\Local\\Temp\\ipykernel_10528\\1992391408.py#9\" target=\"_blank\"><span style=\"color: #7f7f7f; text-decoration-color: #7f7f7f\">9</span></a>\n",
       "</pre>\n"
      ],
      "text/plain": [
       "\u001b[2;36m[04/22/23 15:14:23]\u001b[0m\u001b[2;36m \u001b[0m\u001b[34mINFO    \u001b[0m \u001b[33mk\u001b[0m=\u001b[1;36m70\u001b[0m, \u001b[33mcost\u001b[0m=\u001b[1;36m83406\u001b[0m, \u001b[33mn_iter\u001b[0m=\u001b[1;36m30\u001b[0m, \u001b[33mscore\u001b[0m=\u001b[1;36m0\u001b[0m\u001b[1;36m.0816\u001b[0m                              \u001b]8;id=69721;file://C:\\Users\\hao_l\\AppData\\Local\\Temp\\ipykernel_10528\\1992391408.py\u001b\\\u001b[2m1992391408.py\u001b[0m\u001b]8;;\u001b\\\u001b[2m:\u001b[0m\u001b]8;id=947313;file://C:\\Users\\hao_l\\AppData\\Local\\Temp\\ipykernel_10528\\1992391408.py#9\u001b\\\u001b[2m9\u001b[0m\u001b]8;;\u001b\\\n"
      ]
     },
     "metadata": {},
     "output_type": "display_data"
    },
    {
     "data": {
      "text/html": [
       "<pre style=\"white-space:pre;overflow-x:auto;line-height:normal;font-family:Menlo,'DejaVu Sans Mono',consolas,'Courier New',monospace\"><span style=\"color: #7fbfbf; text-decoration-color: #7fbfbf\">                    </span><span style=\"color: #000080; text-decoration-color: #000080\">INFO    </span> Performing clustering for <span style=\"color: #808000; text-decoration-color: #808000\">k</span>=<span style=\"color: #008080; text-decoration-color: #008080; font-weight: bold\">71</span>                                         <a href=\"file://C:\\Users\\hao_l\\AppData\\Local\\Temp\\ipykernel_10528\\1992391408.py\" target=\"_blank\"><span style=\"color: #7f7f7f; text-decoration-color: #7f7f7f\">1992391408.py</span></a><span style=\"color: #7f7f7f; text-decoration-color: #7f7f7f\">:</span><a href=\"file://C:\\Users\\hao_l\\AppData\\Local\\Temp\\ipykernel_10528\\1992391408.py#5\" target=\"_blank\"><span style=\"color: #7f7f7f; text-decoration-color: #7f7f7f\">5</span></a>\n",
       "</pre>\n"
      ],
      "text/plain": [
       "\u001b[2;36m                   \u001b[0m\u001b[2;36m \u001b[0m\u001b[34mINFO    \u001b[0m Performing clustering for \u001b[33mk\u001b[0m=\u001b[1;36m71\u001b[0m                                         \u001b]8;id=291104;file://C:\\Users\\hao_l\\AppData\\Local\\Temp\\ipykernel_10528\\1992391408.py\u001b\\\u001b[2m1992391408.py\u001b[0m\u001b]8;;\u001b\\\u001b[2m:\u001b[0m\u001b]8;id=231338;file://C:\\Users\\hao_l\\AppData\\Local\\Temp\\ipykernel_10528\\1992391408.py#5\u001b\\\u001b[2m5\u001b[0m\u001b]8;;\u001b\\\n"
      ]
     },
     "metadata": {},
     "output_type": "display_data"
    },
    {
     "data": {
      "text/html": [
       "<pre style=\"white-space:pre;overflow-x:auto;line-height:normal;font-family:Menlo,'DejaVu Sans Mono',consolas,'Courier New',monospace\"><span style=\"color: #7fbfbf; text-decoration-color: #7fbfbf\">[04/22/23 15:19:09] </span><span style=\"color: #000080; text-decoration-color: #000080\">INFO    </span> <span style=\"color: #808000; text-decoration-color: #808000\">k</span>=<span style=\"color: #008080; text-decoration-color: #008080; font-weight: bold\">71</span>, <span style=\"color: #808000; text-decoration-color: #808000\">cost</span>=<span style=\"color: #008080; text-decoration-color: #008080; font-weight: bold\">83060</span>, <span style=\"color: #808000; text-decoration-color: #808000\">n_iter</span>=<span style=\"color: #008080; text-decoration-color: #008080; font-weight: bold\">30</span>, <span style=\"color: #808000; text-decoration-color: #808000\">score</span>=<span style=\"color: #008080; text-decoration-color: #008080; font-weight: bold\">0.0817</span>                              <a href=\"file://C:\\Users\\hao_l\\AppData\\Local\\Temp\\ipykernel_10528\\1992391408.py\" target=\"_blank\"><span style=\"color: #7f7f7f; text-decoration-color: #7f7f7f\">1992391408.py</span></a><span style=\"color: #7f7f7f; text-decoration-color: #7f7f7f\">:</span><a href=\"file://C:\\Users\\hao_l\\AppData\\Local\\Temp\\ipykernel_10528\\1992391408.py#9\" target=\"_blank\"><span style=\"color: #7f7f7f; text-decoration-color: #7f7f7f\">9</span></a>\n",
       "</pre>\n"
      ],
      "text/plain": [
       "\u001b[2;36m[04/22/23 15:19:09]\u001b[0m\u001b[2;36m \u001b[0m\u001b[34mINFO    \u001b[0m \u001b[33mk\u001b[0m=\u001b[1;36m71\u001b[0m, \u001b[33mcost\u001b[0m=\u001b[1;36m83060\u001b[0m, \u001b[33mn_iter\u001b[0m=\u001b[1;36m30\u001b[0m, \u001b[33mscore\u001b[0m=\u001b[1;36m0\u001b[0m\u001b[1;36m.0817\u001b[0m                              \u001b]8;id=241971;file://C:\\Users\\hao_l\\AppData\\Local\\Temp\\ipykernel_10528\\1992391408.py\u001b\\\u001b[2m1992391408.py\u001b[0m\u001b]8;;\u001b\\\u001b[2m:\u001b[0m\u001b]8;id=399686;file://C:\\Users\\hao_l\\AppData\\Local\\Temp\\ipykernel_10528\\1992391408.py#9\u001b\\\u001b[2m9\u001b[0m\u001b]8;;\u001b\\\n"
      ]
     },
     "metadata": {},
     "output_type": "display_data"
    },
    {
     "data": {
      "text/html": [
       "<pre style=\"white-space:pre;overflow-x:auto;line-height:normal;font-family:Menlo,'DejaVu Sans Mono',consolas,'Courier New',monospace\"><span style=\"color: #7fbfbf; text-decoration-color: #7fbfbf\">                    </span><span style=\"color: #000080; text-decoration-color: #000080\">INFO    </span> Performing clustering for <span style=\"color: #808000; text-decoration-color: #808000\">k</span>=<span style=\"color: #008080; text-decoration-color: #008080; font-weight: bold\">72</span>                                         <a href=\"file://C:\\Users\\hao_l\\AppData\\Local\\Temp\\ipykernel_10528\\1992391408.py\" target=\"_blank\"><span style=\"color: #7f7f7f; text-decoration-color: #7f7f7f\">1992391408.py</span></a><span style=\"color: #7f7f7f; text-decoration-color: #7f7f7f\">:</span><a href=\"file://C:\\Users\\hao_l\\AppData\\Local\\Temp\\ipykernel_10528\\1992391408.py#5\" target=\"_blank\"><span style=\"color: #7f7f7f; text-decoration-color: #7f7f7f\">5</span></a>\n",
       "</pre>\n"
      ],
      "text/plain": [
       "\u001b[2;36m                   \u001b[0m\u001b[2;36m \u001b[0m\u001b[34mINFO    \u001b[0m Performing clustering for \u001b[33mk\u001b[0m=\u001b[1;36m72\u001b[0m                                         \u001b]8;id=102744;file://C:\\Users\\hao_l\\AppData\\Local\\Temp\\ipykernel_10528\\1992391408.py\u001b\\\u001b[2m1992391408.py\u001b[0m\u001b]8;;\u001b\\\u001b[2m:\u001b[0m\u001b]8;id=922750;file://C:\\Users\\hao_l\\AppData\\Local\\Temp\\ipykernel_10528\\1992391408.py#5\u001b\\\u001b[2m5\u001b[0m\u001b]8;;\u001b\\\n"
      ]
     },
     "metadata": {},
     "output_type": "display_data"
    },
    {
     "data": {
      "text/html": [
       "<pre style=\"white-space:pre;overflow-x:auto;line-height:normal;font-family:Menlo,'DejaVu Sans Mono',consolas,'Courier New',monospace\"><span style=\"color: #7fbfbf; text-decoration-color: #7fbfbf\">[04/22/23 15:23:43] </span><span style=\"color: #000080; text-decoration-color: #000080\">INFO    </span> <span style=\"color: #808000; text-decoration-color: #808000\">k</span>=<span style=\"color: #008080; text-decoration-color: #008080; font-weight: bold\">72</span>, <span style=\"color: #808000; text-decoration-color: #808000\">cost</span>=<span style=\"color: #008080; text-decoration-color: #008080; font-weight: bold\">82933</span>, <span style=\"color: #808000; text-decoration-color: #808000\">n_iter</span>=<span style=\"color: #008080; text-decoration-color: #008080; font-weight: bold\">30</span>, <span style=\"color: #808000; text-decoration-color: #808000\">score</span>=<span style=\"color: #008080; text-decoration-color: #008080; font-weight: bold\">0.0801</span>                              <a href=\"file://C:\\Users\\hao_l\\AppData\\Local\\Temp\\ipykernel_10528\\1992391408.py\" target=\"_blank\"><span style=\"color: #7f7f7f; text-decoration-color: #7f7f7f\">1992391408.py</span></a><span style=\"color: #7f7f7f; text-decoration-color: #7f7f7f\">:</span><a href=\"file://C:\\Users\\hao_l\\AppData\\Local\\Temp\\ipykernel_10528\\1992391408.py#9\" target=\"_blank\"><span style=\"color: #7f7f7f; text-decoration-color: #7f7f7f\">9</span></a>\n",
       "</pre>\n"
      ],
      "text/plain": [
       "\u001b[2;36m[04/22/23 15:23:43]\u001b[0m\u001b[2;36m \u001b[0m\u001b[34mINFO    \u001b[0m \u001b[33mk\u001b[0m=\u001b[1;36m72\u001b[0m, \u001b[33mcost\u001b[0m=\u001b[1;36m82933\u001b[0m, \u001b[33mn_iter\u001b[0m=\u001b[1;36m30\u001b[0m, \u001b[33mscore\u001b[0m=\u001b[1;36m0\u001b[0m\u001b[1;36m.0801\u001b[0m                              \u001b]8;id=494586;file://C:\\Users\\hao_l\\AppData\\Local\\Temp\\ipykernel_10528\\1992391408.py\u001b\\\u001b[2m1992391408.py\u001b[0m\u001b]8;;\u001b\\\u001b[2m:\u001b[0m\u001b]8;id=554293;file://C:\\Users\\hao_l\\AppData\\Local\\Temp\\ipykernel_10528\\1992391408.py#9\u001b\\\u001b[2m9\u001b[0m\u001b]8;;\u001b\\\n"
      ]
     },
     "metadata": {},
     "output_type": "display_data"
    },
    {
     "data": {
      "text/html": [
       "<pre style=\"white-space:pre;overflow-x:auto;line-height:normal;font-family:Menlo,'DejaVu Sans Mono',consolas,'Courier New',monospace\"><span style=\"color: #7fbfbf; text-decoration-color: #7fbfbf\">                    </span><span style=\"color: #000080; text-decoration-color: #000080\">INFO    </span> Performing clustering for <span style=\"color: #808000; text-decoration-color: #808000\">k</span>=<span style=\"color: #008080; text-decoration-color: #008080; font-weight: bold\">73</span>                                         <a href=\"file://C:\\Users\\hao_l\\AppData\\Local\\Temp\\ipykernel_10528\\1992391408.py\" target=\"_blank\"><span style=\"color: #7f7f7f; text-decoration-color: #7f7f7f\">1992391408.py</span></a><span style=\"color: #7f7f7f; text-decoration-color: #7f7f7f\">:</span><a href=\"file://C:\\Users\\hao_l\\AppData\\Local\\Temp\\ipykernel_10528\\1992391408.py#5\" target=\"_blank\"><span style=\"color: #7f7f7f; text-decoration-color: #7f7f7f\">5</span></a>\n",
       "</pre>\n"
      ],
      "text/plain": [
       "\u001b[2;36m                   \u001b[0m\u001b[2;36m \u001b[0m\u001b[34mINFO    \u001b[0m Performing clustering for \u001b[33mk\u001b[0m=\u001b[1;36m73\u001b[0m                                         \u001b]8;id=843076;file://C:\\Users\\hao_l\\AppData\\Local\\Temp\\ipykernel_10528\\1992391408.py\u001b\\\u001b[2m1992391408.py\u001b[0m\u001b]8;;\u001b\\\u001b[2m:\u001b[0m\u001b]8;id=728404;file://C:\\Users\\hao_l\\AppData\\Local\\Temp\\ipykernel_10528\\1992391408.py#5\u001b\\\u001b[2m5\u001b[0m\u001b]8;;\u001b\\\n"
      ]
     },
     "metadata": {},
     "output_type": "display_data"
    },
    {
     "data": {
      "text/html": [
       "<pre style=\"white-space:pre;overflow-x:auto;line-height:normal;font-family:Menlo,'DejaVu Sans Mono',consolas,'Courier New',monospace\"><span style=\"color: #7fbfbf; text-decoration-color: #7fbfbf\">[04/22/23 15:28:11] </span><span style=\"color: #000080; text-decoration-color: #000080\">INFO    </span> <span style=\"color: #808000; text-decoration-color: #808000\">k</span>=<span style=\"color: #008080; text-decoration-color: #008080; font-weight: bold\">73</span>, <span style=\"color: #808000; text-decoration-color: #808000\">cost</span>=<span style=\"color: #008080; text-decoration-color: #008080; font-weight: bold\">82405</span>, <span style=\"color: #808000; text-decoration-color: #808000\">n_iter</span>=<span style=\"color: #008080; text-decoration-color: #008080; font-weight: bold\">30</span>, <span style=\"color: #808000; text-decoration-color: #808000\">score</span>=<span style=\"color: #008080; text-decoration-color: #008080; font-weight: bold\">0.0822</span>                              <a href=\"file://C:\\Users\\hao_l\\AppData\\Local\\Temp\\ipykernel_10528\\1992391408.py\" target=\"_blank\"><span style=\"color: #7f7f7f; text-decoration-color: #7f7f7f\">1992391408.py</span></a><span style=\"color: #7f7f7f; text-decoration-color: #7f7f7f\">:</span><a href=\"file://C:\\Users\\hao_l\\AppData\\Local\\Temp\\ipykernel_10528\\1992391408.py#9\" target=\"_blank\"><span style=\"color: #7f7f7f; text-decoration-color: #7f7f7f\">9</span></a>\n",
       "</pre>\n"
      ],
      "text/plain": [
       "\u001b[2;36m[04/22/23 15:28:11]\u001b[0m\u001b[2;36m \u001b[0m\u001b[34mINFO    \u001b[0m \u001b[33mk\u001b[0m=\u001b[1;36m73\u001b[0m, \u001b[33mcost\u001b[0m=\u001b[1;36m82405\u001b[0m, \u001b[33mn_iter\u001b[0m=\u001b[1;36m30\u001b[0m, \u001b[33mscore\u001b[0m=\u001b[1;36m0\u001b[0m\u001b[1;36m.0822\u001b[0m                              \u001b]8;id=130814;file://C:\\Users\\hao_l\\AppData\\Local\\Temp\\ipykernel_10528\\1992391408.py\u001b\\\u001b[2m1992391408.py\u001b[0m\u001b]8;;\u001b\\\u001b[2m:\u001b[0m\u001b]8;id=339639;file://C:\\Users\\hao_l\\AppData\\Local\\Temp\\ipykernel_10528\\1992391408.py#9\u001b\\\u001b[2m9\u001b[0m\u001b]8;;\u001b\\\n"
      ]
     },
     "metadata": {},
     "output_type": "display_data"
    },
    {
     "data": {
      "text/html": [
       "<pre style=\"white-space:pre;overflow-x:auto;line-height:normal;font-family:Menlo,'DejaVu Sans Mono',consolas,'Courier New',monospace\"><span style=\"color: #7fbfbf; text-decoration-color: #7fbfbf\">                    </span><span style=\"color: #000080; text-decoration-color: #000080\">INFO    </span> Performing clustering for <span style=\"color: #808000; text-decoration-color: #808000\">k</span>=<span style=\"color: #008080; text-decoration-color: #008080; font-weight: bold\">74</span>                                         <a href=\"file://C:\\Users\\hao_l\\AppData\\Local\\Temp\\ipykernel_10528\\1992391408.py\" target=\"_blank\"><span style=\"color: #7f7f7f; text-decoration-color: #7f7f7f\">1992391408.py</span></a><span style=\"color: #7f7f7f; text-decoration-color: #7f7f7f\">:</span><a href=\"file://C:\\Users\\hao_l\\AppData\\Local\\Temp\\ipykernel_10528\\1992391408.py#5\" target=\"_blank\"><span style=\"color: #7f7f7f; text-decoration-color: #7f7f7f\">5</span></a>\n",
       "</pre>\n"
      ],
      "text/plain": [
       "\u001b[2;36m                   \u001b[0m\u001b[2;36m \u001b[0m\u001b[34mINFO    \u001b[0m Performing clustering for \u001b[33mk\u001b[0m=\u001b[1;36m74\u001b[0m                                         \u001b]8;id=479193;file://C:\\Users\\hao_l\\AppData\\Local\\Temp\\ipykernel_10528\\1992391408.py\u001b\\\u001b[2m1992391408.py\u001b[0m\u001b]8;;\u001b\\\u001b[2m:\u001b[0m\u001b]8;id=874256;file://C:\\Users\\hao_l\\AppData\\Local\\Temp\\ipykernel_10528\\1992391408.py#5\u001b\\\u001b[2m5\u001b[0m\u001b]8;;\u001b\\\n"
      ]
     },
     "metadata": {},
     "output_type": "display_data"
    },
    {
     "data": {
      "text/html": [
       "<pre style=\"white-space:pre;overflow-x:auto;line-height:normal;font-family:Menlo,'DejaVu Sans Mono',consolas,'Courier New',monospace\"><span style=\"color: #7fbfbf; text-decoration-color: #7fbfbf\">[04/22/23 15:32:54] </span><span style=\"color: #000080; text-decoration-color: #000080\">INFO    </span> <span style=\"color: #808000; text-decoration-color: #808000\">k</span>=<span style=\"color: #008080; text-decoration-color: #008080; font-weight: bold\">74</span>, <span style=\"color: #808000; text-decoration-color: #808000\">cost</span>=<span style=\"color: #008080; text-decoration-color: #008080; font-weight: bold\">82094</span>, <span style=\"color: #808000; text-decoration-color: #808000\">n_iter</span>=<span style=\"color: #008080; text-decoration-color: #008080; font-weight: bold\">30</span>, <span style=\"color: #808000; text-decoration-color: #808000\">score</span>=<span style=\"color: #008080; text-decoration-color: #008080; font-weight: bold\">0.0797</span>                              <a href=\"file://C:\\Users\\hao_l\\AppData\\Local\\Temp\\ipykernel_10528\\1992391408.py\" target=\"_blank\"><span style=\"color: #7f7f7f; text-decoration-color: #7f7f7f\">1992391408.py</span></a><span style=\"color: #7f7f7f; text-decoration-color: #7f7f7f\">:</span><a href=\"file://C:\\Users\\hao_l\\AppData\\Local\\Temp\\ipykernel_10528\\1992391408.py#9\" target=\"_blank\"><span style=\"color: #7f7f7f; text-decoration-color: #7f7f7f\">9</span></a>\n",
       "</pre>\n"
      ],
      "text/plain": [
       "\u001b[2;36m[04/22/23 15:32:54]\u001b[0m\u001b[2;36m \u001b[0m\u001b[34mINFO    \u001b[0m \u001b[33mk\u001b[0m=\u001b[1;36m74\u001b[0m, \u001b[33mcost\u001b[0m=\u001b[1;36m82094\u001b[0m, \u001b[33mn_iter\u001b[0m=\u001b[1;36m30\u001b[0m, \u001b[33mscore\u001b[0m=\u001b[1;36m0\u001b[0m\u001b[1;36m.0797\u001b[0m                              \u001b]8;id=855738;file://C:\\Users\\hao_l\\AppData\\Local\\Temp\\ipykernel_10528\\1992391408.py\u001b\\\u001b[2m1992391408.py\u001b[0m\u001b]8;;\u001b\\\u001b[2m:\u001b[0m\u001b]8;id=220819;file://C:\\Users\\hao_l\\AppData\\Local\\Temp\\ipykernel_10528\\1992391408.py#9\u001b\\\u001b[2m9\u001b[0m\u001b]8;;\u001b\\\n"
      ]
     },
     "metadata": {},
     "output_type": "display_data"
    },
    {
     "data": {
      "text/html": [
       "<pre style=\"white-space:pre;overflow-x:auto;line-height:normal;font-family:Menlo,'DejaVu Sans Mono',consolas,'Courier New',monospace\"><span style=\"color: #7fbfbf; text-decoration-color: #7fbfbf\">                    </span><span style=\"color: #000080; text-decoration-color: #000080\">INFO    </span> Performing clustering for <span style=\"color: #808000; text-decoration-color: #808000\">k</span>=<span style=\"color: #008080; text-decoration-color: #008080; font-weight: bold\">75</span>                                         <a href=\"file://C:\\Users\\hao_l\\AppData\\Local\\Temp\\ipykernel_10528\\1992391408.py\" target=\"_blank\"><span style=\"color: #7f7f7f; text-decoration-color: #7f7f7f\">1992391408.py</span></a><span style=\"color: #7f7f7f; text-decoration-color: #7f7f7f\">:</span><a href=\"file://C:\\Users\\hao_l\\AppData\\Local\\Temp\\ipykernel_10528\\1992391408.py#5\" target=\"_blank\"><span style=\"color: #7f7f7f; text-decoration-color: #7f7f7f\">5</span></a>\n",
       "</pre>\n"
      ],
      "text/plain": [
       "\u001b[2;36m                   \u001b[0m\u001b[2;36m \u001b[0m\u001b[34mINFO    \u001b[0m Performing clustering for \u001b[33mk\u001b[0m=\u001b[1;36m75\u001b[0m                                         \u001b]8;id=517261;file://C:\\Users\\hao_l\\AppData\\Local\\Temp\\ipykernel_10528\\1992391408.py\u001b\\\u001b[2m1992391408.py\u001b[0m\u001b]8;;\u001b\\\u001b[2m:\u001b[0m\u001b]8;id=956104;file://C:\\Users\\hao_l\\AppData\\Local\\Temp\\ipykernel_10528\\1992391408.py#5\u001b\\\u001b[2m5\u001b[0m\u001b]8;;\u001b\\\n"
      ]
     },
     "metadata": {},
     "output_type": "display_data"
    },
    {
     "data": {
      "text/html": [
       "<pre style=\"white-space:pre;overflow-x:auto;line-height:normal;font-family:Menlo,'DejaVu Sans Mono',consolas,'Courier New',monospace\"><span style=\"color: #7fbfbf; text-decoration-color: #7fbfbf\">[04/22/23 15:37:53] </span><span style=\"color: #000080; text-decoration-color: #000080\">INFO    </span> <span style=\"color: #808000; text-decoration-color: #808000\">k</span>=<span style=\"color: #008080; text-decoration-color: #008080; font-weight: bold\">75</span>, <span style=\"color: #808000; text-decoration-color: #808000\">cost</span>=<span style=\"color: #008080; text-decoration-color: #008080; font-weight: bold\">82079</span>, <span style=\"color: #808000; text-decoration-color: #808000\">n_iter</span>=<span style=\"color: #008080; text-decoration-color: #008080; font-weight: bold\">30</span>, <span style=\"color: #808000; text-decoration-color: #808000\">score</span>=<span style=\"color: #008080; text-decoration-color: #008080; font-weight: bold\">0.0809</span>                              <a href=\"file://C:\\Users\\hao_l\\AppData\\Local\\Temp\\ipykernel_10528\\1992391408.py\" target=\"_blank\"><span style=\"color: #7f7f7f; text-decoration-color: #7f7f7f\">1992391408.py</span></a><span style=\"color: #7f7f7f; text-decoration-color: #7f7f7f\">:</span><a href=\"file://C:\\Users\\hao_l\\AppData\\Local\\Temp\\ipykernel_10528\\1992391408.py#9\" target=\"_blank\"><span style=\"color: #7f7f7f; text-decoration-color: #7f7f7f\">9</span></a>\n",
       "</pre>\n"
      ],
      "text/plain": [
       "\u001b[2;36m[04/22/23 15:37:53]\u001b[0m\u001b[2;36m \u001b[0m\u001b[34mINFO    \u001b[0m \u001b[33mk\u001b[0m=\u001b[1;36m75\u001b[0m, \u001b[33mcost\u001b[0m=\u001b[1;36m82079\u001b[0m, \u001b[33mn_iter\u001b[0m=\u001b[1;36m30\u001b[0m, \u001b[33mscore\u001b[0m=\u001b[1;36m0\u001b[0m\u001b[1;36m.0809\u001b[0m                              \u001b]8;id=115527;file://C:\\Users\\hao_l\\AppData\\Local\\Temp\\ipykernel_10528\\1992391408.py\u001b\\\u001b[2m1992391408.py\u001b[0m\u001b]8;;\u001b\\\u001b[2m:\u001b[0m\u001b]8;id=8381;file://C:\\Users\\hao_l\\AppData\\Local\\Temp\\ipykernel_10528\\1992391408.py#9\u001b\\\u001b[2m9\u001b[0m\u001b]8;;\u001b\\\n"
      ]
     },
     "metadata": {},
     "output_type": "display_data"
    },
    {
     "data": {
      "text/html": [
       "<pre style=\"white-space:pre;overflow-x:auto;line-height:normal;font-family:Menlo,'DejaVu Sans Mono',consolas,'Courier New',monospace\"><span style=\"color: #7fbfbf; text-decoration-color: #7fbfbf\">                    </span><span style=\"color: #000080; text-decoration-color: #000080\">INFO    </span> Performing clustering for <span style=\"color: #808000; text-decoration-color: #808000\">k</span>=<span style=\"color: #008080; text-decoration-color: #008080; font-weight: bold\">76</span>                                         <a href=\"file://C:\\Users\\hao_l\\AppData\\Local\\Temp\\ipykernel_10528\\1992391408.py\" target=\"_blank\"><span style=\"color: #7f7f7f; text-decoration-color: #7f7f7f\">1992391408.py</span></a><span style=\"color: #7f7f7f; text-decoration-color: #7f7f7f\">:</span><a href=\"file://C:\\Users\\hao_l\\AppData\\Local\\Temp\\ipykernel_10528\\1992391408.py#5\" target=\"_blank\"><span style=\"color: #7f7f7f; text-decoration-color: #7f7f7f\">5</span></a>\n",
       "</pre>\n"
      ],
      "text/plain": [
       "\u001b[2;36m                   \u001b[0m\u001b[2;36m \u001b[0m\u001b[34mINFO    \u001b[0m Performing clustering for \u001b[33mk\u001b[0m=\u001b[1;36m76\u001b[0m                                         \u001b]8;id=505133;file://C:\\Users\\hao_l\\AppData\\Local\\Temp\\ipykernel_10528\\1992391408.py\u001b\\\u001b[2m1992391408.py\u001b[0m\u001b]8;;\u001b\\\u001b[2m:\u001b[0m\u001b]8;id=804217;file://C:\\Users\\hao_l\\AppData\\Local\\Temp\\ipykernel_10528\\1992391408.py#5\u001b\\\u001b[2m5\u001b[0m\u001b]8;;\u001b\\\n"
      ]
     },
     "metadata": {},
     "output_type": "display_data"
    },
    {
     "data": {
      "text/html": [
       "<pre style=\"white-space:pre;overflow-x:auto;line-height:normal;font-family:Menlo,'DejaVu Sans Mono',consolas,'Courier New',monospace\"><span style=\"color: #7fbfbf; text-decoration-color: #7fbfbf\">[04/22/23 15:43:29] </span><span style=\"color: #000080; text-decoration-color: #000080\">INFO    </span> <span style=\"color: #808000; text-decoration-color: #808000\">k</span>=<span style=\"color: #008080; text-decoration-color: #008080; font-weight: bold\">76</span>, <span style=\"color: #808000; text-decoration-color: #808000\">cost</span>=<span style=\"color: #008080; text-decoration-color: #008080; font-weight: bold\">81478</span>, <span style=\"color: #808000; text-decoration-color: #808000\">n_iter</span>=<span style=\"color: #008080; text-decoration-color: #008080; font-weight: bold\">30</span>, <span style=\"color: #808000; text-decoration-color: #808000\">score</span>=<span style=\"color: #008080; text-decoration-color: #008080; font-weight: bold\">0.0828</span>                              <a href=\"file://C:\\Users\\hao_l\\AppData\\Local\\Temp\\ipykernel_10528\\1992391408.py\" target=\"_blank\"><span style=\"color: #7f7f7f; text-decoration-color: #7f7f7f\">1992391408.py</span></a><span style=\"color: #7f7f7f; text-decoration-color: #7f7f7f\">:</span><a href=\"file://C:\\Users\\hao_l\\AppData\\Local\\Temp\\ipykernel_10528\\1992391408.py#9\" target=\"_blank\"><span style=\"color: #7f7f7f; text-decoration-color: #7f7f7f\">9</span></a>\n",
       "</pre>\n"
      ],
      "text/plain": [
       "\u001b[2;36m[04/22/23 15:43:29]\u001b[0m\u001b[2;36m \u001b[0m\u001b[34mINFO    \u001b[0m \u001b[33mk\u001b[0m=\u001b[1;36m76\u001b[0m, \u001b[33mcost\u001b[0m=\u001b[1;36m81478\u001b[0m, \u001b[33mn_iter\u001b[0m=\u001b[1;36m30\u001b[0m, \u001b[33mscore\u001b[0m=\u001b[1;36m0\u001b[0m\u001b[1;36m.0828\u001b[0m                              \u001b]8;id=257778;file://C:\\Users\\hao_l\\AppData\\Local\\Temp\\ipykernel_10528\\1992391408.py\u001b\\\u001b[2m1992391408.py\u001b[0m\u001b]8;;\u001b\\\u001b[2m:\u001b[0m\u001b]8;id=551937;file://C:\\Users\\hao_l\\AppData\\Local\\Temp\\ipykernel_10528\\1992391408.py#9\u001b\\\u001b[2m9\u001b[0m\u001b]8;;\u001b\\\n"
      ]
     },
     "metadata": {},
     "output_type": "display_data"
    },
    {
     "data": {
      "text/html": [
       "<pre style=\"white-space:pre;overflow-x:auto;line-height:normal;font-family:Menlo,'DejaVu Sans Mono',consolas,'Courier New',monospace\"><span style=\"color: #7fbfbf; text-decoration-color: #7fbfbf\">                    </span><span style=\"color: #000080; text-decoration-color: #000080\">INFO    </span> Performing clustering for <span style=\"color: #808000; text-decoration-color: #808000\">k</span>=<span style=\"color: #008080; text-decoration-color: #008080; font-weight: bold\">77</span>                                         <a href=\"file://C:\\Users\\hao_l\\AppData\\Local\\Temp\\ipykernel_10528\\1992391408.py\" target=\"_blank\"><span style=\"color: #7f7f7f; text-decoration-color: #7f7f7f\">1992391408.py</span></a><span style=\"color: #7f7f7f; text-decoration-color: #7f7f7f\">:</span><a href=\"file://C:\\Users\\hao_l\\AppData\\Local\\Temp\\ipykernel_10528\\1992391408.py#5\" target=\"_blank\"><span style=\"color: #7f7f7f; text-decoration-color: #7f7f7f\">5</span></a>\n",
       "</pre>\n"
      ],
      "text/plain": [
       "\u001b[2;36m                   \u001b[0m\u001b[2;36m \u001b[0m\u001b[34mINFO    \u001b[0m Performing clustering for \u001b[33mk\u001b[0m=\u001b[1;36m77\u001b[0m                                         \u001b]8;id=859042;file://C:\\Users\\hao_l\\AppData\\Local\\Temp\\ipykernel_10528\\1992391408.py\u001b\\\u001b[2m1992391408.py\u001b[0m\u001b]8;;\u001b\\\u001b[2m:\u001b[0m\u001b]8;id=505632;file://C:\\Users\\hao_l\\AppData\\Local\\Temp\\ipykernel_10528\\1992391408.py#5\u001b\\\u001b[2m5\u001b[0m\u001b]8;;\u001b\\\n"
      ]
     },
     "metadata": {},
     "output_type": "display_data"
    },
    {
     "data": {
      "text/html": [
       "<pre style=\"white-space:pre;overflow-x:auto;line-height:normal;font-family:Menlo,'DejaVu Sans Mono',consolas,'Courier New',monospace\"><span style=\"color: #7fbfbf; text-decoration-color: #7fbfbf\">[04/22/23 15:48:55] </span><span style=\"color: #000080; text-decoration-color: #000080\">INFO    </span> <span style=\"color: #808000; text-decoration-color: #808000\">k</span>=<span style=\"color: #008080; text-decoration-color: #008080; font-weight: bold\">77</span>, <span style=\"color: #808000; text-decoration-color: #808000\">cost</span>=<span style=\"color: #008080; text-decoration-color: #008080; font-weight: bold\">81340</span>, <span style=\"color: #808000; text-decoration-color: #808000\">n_iter</span>=<span style=\"color: #008080; text-decoration-color: #008080; font-weight: bold\">30</span>, <span style=\"color: #808000; text-decoration-color: #808000\">score</span>=<span style=\"color: #008080; text-decoration-color: #008080; font-weight: bold\">0.0816</span>                              <a href=\"file://C:\\Users\\hao_l\\AppData\\Local\\Temp\\ipykernel_10528\\1992391408.py\" target=\"_blank\"><span style=\"color: #7f7f7f; text-decoration-color: #7f7f7f\">1992391408.py</span></a><span style=\"color: #7f7f7f; text-decoration-color: #7f7f7f\">:</span><a href=\"file://C:\\Users\\hao_l\\AppData\\Local\\Temp\\ipykernel_10528\\1992391408.py#9\" target=\"_blank\"><span style=\"color: #7f7f7f; text-decoration-color: #7f7f7f\">9</span></a>\n",
       "</pre>\n"
      ],
      "text/plain": [
       "\u001b[2;36m[04/22/23 15:48:55]\u001b[0m\u001b[2;36m \u001b[0m\u001b[34mINFO    \u001b[0m \u001b[33mk\u001b[0m=\u001b[1;36m77\u001b[0m, \u001b[33mcost\u001b[0m=\u001b[1;36m81340\u001b[0m, \u001b[33mn_iter\u001b[0m=\u001b[1;36m30\u001b[0m, \u001b[33mscore\u001b[0m=\u001b[1;36m0\u001b[0m\u001b[1;36m.0816\u001b[0m                              \u001b]8;id=529777;file://C:\\Users\\hao_l\\AppData\\Local\\Temp\\ipykernel_10528\\1992391408.py\u001b\\\u001b[2m1992391408.py\u001b[0m\u001b]8;;\u001b\\\u001b[2m:\u001b[0m\u001b]8;id=119214;file://C:\\Users\\hao_l\\AppData\\Local\\Temp\\ipykernel_10528\\1992391408.py#9\u001b\\\u001b[2m9\u001b[0m\u001b]8;;\u001b\\\n"
      ]
     },
     "metadata": {},
     "output_type": "display_data"
    },
    {
     "data": {
      "text/html": [
       "<pre style=\"white-space:pre;overflow-x:auto;line-height:normal;font-family:Menlo,'DejaVu Sans Mono',consolas,'Courier New',monospace\"><span style=\"color: #7fbfbf; text-decoration-color: #7fbfbf\">                    </span><span style=\"color: #000080; text-decoration-color: #000080\">INFO    </span> Performing clustering for <span style=\"color: #808000; text-decoration-color: #808000\">k</span>=<span style=\"color: #008080; text-decoration-color: #008080; font-weight: bold\">78</span>                                         <a href=\"file://C:\\Users\\hao_l\\AppData\\Local\\Temp\\ipykernel_10528\\1992391408.py\" target=\"_blank\"><span style=\"color: #7f7f7f; text-decoration-color: #7f7f7f\">1992391408.py</span></a><span style=\"color: #7f7f7f; text-decoration-color: #7f7f7f\">:</span><a href=\"file://C:\\Users\\hao_l\\AppData\\Local\\Temp\\ipykernel_10528\\1992391408.py#5\" target=\"_blank\"><span style=\"color: #7f7f7f; text-decoration-color: #7f7f7f\">5</span></a>\n",
       "</pre>\n"
      ],
      "text/plain": [
       "\u001b[2;36m                   \u001b[0m\u001b[2;36m \u001b[0m\u001b[34mINFO    \u001b[0m Performing clustering for \u001b[33mk\u001b[0m=\u001b[1;36m78\u001b[0m                                         \u001b]8;id=96318;file://C:\\Users\\hao_l\\AppData\\Local\\Temp\\ipykernel_10528\\1992391408.py\u001b\\\u001b[2m1992391408.py\u001b[0m\u001b]8;;\u001b\\\u001b[2m:\u001b[0m\u001b]8;id=589399;file://C:\\Users\\hao_l\\AppData\\Local\\Temp\\ipykernel_10528\\1992391408.py#5\u001b\\\u001b[2m5\u001b[0m\u001b]8;;\u001b\\\n"
      ]
     },
     "metadata": {},
     "output_type": "display_data"
    },
    {
     "data": {
      "text/html": [
       "<pre style=\"white-space:pre;overflow-x:auto;line-height:normal;font-family:Menlo,'DejaVu Sans Mono',consolas,'Courier New',monospace\"><span style=\"color: #7fbfbf; text-decoration-color: #7fbfbf\">[04/22/23 15:53:24] </span><span style=\"color: #000080; text-decoration-color: #000080\">INFO    </span> <span style=\"color: #808000; text-decoration-color: #808000\">k</span>=<span style=\"color: #008080; text-decoration-color: #008080; font-weight: bold\">78</span>, <span style=\"color: #808000; text-decoration-color: #808000\">cost</span>=<span style=\"color: #008080; text-decoration-color: #008080; font-weight: bold\">81055</span>, <span style=\"color: #808000; text-decoration-color: #808000\">n_iter</span>=<span style=\"color: #008080; text-decoration-color: #008080; font-weight: bold\">30</span>, <span style=\"color: #808000; text-decoration-color: #808000\">score</span>=<span style=\"color: #008080; text-decoration-color: #008080; font-weight: bold\">0.0806</span>                              <a href=\"file://C:\\Users\\hao_l\\AppData\\Local\\Temp\\ipykernel_10528\\1992391408.py\" target=\"_blank\"><span style=\"color: #7f7f7f; text-decoration-color: #7f7f7f\">1992391408.py</span></a><span style=\"color: #7f7f7f; text-decoration-color: #7f7f7f\">:</span><a href=\"file://C:\\Users\\hao_l\\AppData\\Local\\Temp\\ipykernel_10528\\1992391408.py#9\" target=\"_blank\"><span style=\"color: #7f7f7f; text-decoration-color: #7f7f7f\">9</span></a>\n",
       "</pre>\n"
      ],
      "text/plain": [
       "\u001b[2;36m[04/22/23 15:53:24]\u001b[0m\u001b[2;36m \u001b[0m\u001b[34mINFO    \u001b[0m \u001b[33mk\u001b[0m=\u001b[1;36m78\u001b[0m, \u001b[33mcost\u001b[0m=\u001b[1;36m81055\u001b[0m, \u001b[33mn_iter\u001b[0m=\u001b[1;36m30\u001b[0m, \u001b[33mscore\u001b[0m=\u001b[1;36m0\u001b[0m\u001b[1;36m.0806\u001b[0m                              \u001b]8;id=379886;file://C:\\Users\\hao_l\\AppData\\Local\\Temp\\ipykernel_10528\\1992391408.py\u001b\\\u001b[2m1992391408.py\u001b[0m\u001b]8;;\u001b\\\u001b[2m:\u001b[0m\u001b]8;id=692430;file://C:\\Users\\hao_l\\AppData\\Local\\Temp\\ipykernel_10528\\1992391408.py#9\u001b\\\u001b[2m9\u001b[0m\u001b]8;;\u001b\\\n"
      ]
     },
     "metadata": {},
     "output_type": "display_data"
    },
    {
     "data": {
      "text/html": [
       "<pre style=\"white-space:pre;overflow-x:auto;line-height:normal;font-family:Menlo,'DejaVu Sans Mono',consolas,'Courier New',monospace\"><span style=\"color: #7fbfbf; text-decoration-color: #7fbfbf\">                    </span><span style=\"color: #000080; text-decoration-color: #000080\">INFO    </span> Performing clustering for <span style=\"color: #808000; text-decoration-color: #808000\">k</span>=<span style=\"color: #008080; text-decoration-color: #008080; font-weight: bold\">79</span>                                         <a href=\"file://C:\\Users\\hao_l\\AppData\\Local\\Temp\\ipykernel_10528\\1992391408.py\" target=\"_blank\"><span style=\"color: #7f7f7f; text-decoration-color: #7f7f7f\">1992391408.py</span></a><span style=\"color: #7f7f7f; text-decoration-color: #7f7f7f\">:</span><a href=\"file://C:\\Users\\hao_l\\AppData\\Local\\Temp\\ipykernel_10528\\1992391408.py#5\" target=\"_blank\"><span style=\"color: #7f7f7f; text-decoration-color: #7f7f7f\">5</span></a>\n",
       "</pre>\n"
      ],
      "text/plain": [
       "\u001b[2;36m                   \u001b[0m\u001b[2;36m \u001b[0m\u001b[34mINFO    \u001b[0m Performing clustering for \u001b[33mk\u001b[0m=\u001b[1;36m79\u001b[0m                                         \u001b]8;id=920315;file://C:\\Users\\hao_l\\AppData\\Local\\Temp\\ipykernel_10528\\1992391408.py\u001b\\\u001b[2m1992391408.py\u001b[0m\u001b]8;;\u001b\\\u001b[2m:\u001b[0m\u001b]8;id=381777;file://C:\\Users\\hao_l\\AppData\\Local\\Temp\\ipykernel_10528\\1992391408.py#5\u001b\\\u001b[2m5\u001b[0m\u001b]8;;\u001b\\\n"
      ]
     },
     "metadata": {},
     "output_type": "display_data"
    },
    {
     "data": {
      "text/html": [
       "<pre style=\"white-space:pre;overflow-x:auto;line-height:normal;font-family:Menlo,'DejaVu Sans Mono',consolas,'Courier New',monospace\"><span style=\"color: #ff0000; text-decoration-color: #ff0000; font-weight: bold\">_RemoteTraceback: </span>\n",
       "<span style=\"color: #008000; text-decoration-color: #008000\">\"\"</span>\"\n",
       "Traceback <span style=\"font-weight: bold\">(</span>most recent call last<span style=\"font-weight: bold\">)</span>:\n",
       "  File <span style=\"color: #008000; text-decoration-color: #008000\">\"c:\\Users\\hao_l\\.conda\\envs\\sc1015project\\lib\\site-packages\\joblib\\externals\\loky\\process_executor.py\"</span>, line\n",
       "<span style=\"color: #008080; text-decoration-color: #008080; font-weight: bold\">428</span>, in _process_worker\n",
       "    r = <span style=\"color: #800080; text-decoration-color: #800080; font-weight: bold\">call_item</span><span style=\"font-weight: bold\">()</span>\n",
       "  File <span style=\"color: #008000; text-decoration-color: #008000\">\"c:\\Users\\hao_l\\.conda\\envs\\sc1015project\\lib\\site-packages\\joblib\\externals\\loky\\process_executor.py\"</span>, line\n",
       "<span style=\"color: #008080; text-decoration-color: #008080; font-weight: bold\">275</span>, in __call__\n",
       "    return <span style=\"color: #800080; text-decoration-color: #800080; font-weight: bold\">self.fn</span><span style=\"font-weight: bold\">(</span>*self.args, **self.kwargs<span style=\"font-weight: bold\">)</span>\n",
       "  File <span style=\"color: #008000; text-decoration-color: #008000\">\"c:\\Users\\hao_l\\.conda\\envs\\sc1015project\\lib\\site-packages\\joblib\\_parallel_backends.py\"</span>, line <span style=\"color: #008080; text-decoration-color: #008080; font-weight: bold\">620</span>, in \n",
       "__call__\n",
       "    return <span style=\"color: #800080; text-decoration-color: #800080; font-weight: bold\">self.func</span><span style=\"font-weight: bold\">(</span>*args, **kwargs<span style=\"font-weight: bold\">)</span>\n",
       "  File <span style=\"color: #008000; text-decoration-color: #008000\">\"c:\\Users\\hao_l\\.conda\\envs\\sc1015project\\lib\\site-packages\\joblib\\parallel.py\"</span>, line <span style=\"color: #008080; text-decoration-color: #008080; font-weight: bold\">288</span>, in __call__\n",
       "    return <span style=\"font-weight: bold\">[</span><span style=\"color: #800080; text-decoration-color: #800080; font-weight: bold\">func</span><span style=\"font-weight: bold\">(</span>*args, **kwargs<span style=\"font-weight: bold\">)</span>\n",
       "  File <span style=\"color: #008000; text-decoration-color: #008000\">\"c:\\Users\\hao_l\\.conda\\envs\\sc1015project\\lib\\site-packages\\joblib\\parallel.py\"</span>, line <span style=\"color: #008080; text-decoration-color: #008080; font-weight: bold\">288</span>, in <span style=\"font-weight: bold\">&lt;</span><span style=\"color: #ff00ff; text-decoration-color: #ff00ff; font-weight: bold\">listcomp</span><span style=\"font-weight: bold\">&gt;</span>\n",
       "    return <span style=\"font-weight: bold\">[</span><span style=\"color: #800080; text-decoration-color: #800080; font-weight: bold\">func</span><span style=\"font-weight: bold\">(</span>*args, **kwargs<span style=\"font-weight: bold\">)</span>\n",
       "  File <span style=\"color: #008000; text-decoration-color: #008000\">\"c:\\Users\\hao_l\\.conda\\envs\\sc1015project\\lib\\site-packages\\kmodes\\kprototypes.py\"</span>, line <span style=\"color: #008080; text-decoration-color: #008080; font-weight: bold\">410</span>, in \n",
       "_k_prototypes_single\n",
       "    raise <span style=\"color: #800080; text-decoration-color: #800080; font-weight: bold\">ValueError</span><span style=\"font-weight: bold\">(</span>\n",
       "ValueError: Clustering algorithm could not initialize. Consider assigning the initial clusters manually.\n",
       "<span style=\"color: #008000; text-decoration-color: #008000\">\"\"</span>\"\n",
       "\n",
       "<span style=\"font-style: italic\">The above exception was the direct cause of the following exception:</span>\n",
       "\n",
       "<span style=\"color: #800000; text-decoration-color: #800000\">╭─────────────────────────────── </span><span style=\"color: #800000; text-decoration-color: #800000; font-weight: bold\">Traceback </span><span style=\"color: #bf7f7f; text-decoration-color: #bf7f7f; font-weight: bold\">(most recent call last)</span><span style=\"color: #800000; text-decoration-color: #800000\"> ────────────────────────────────╮</span>\n",
       "<span style=\"color: #800000; text-decoration-color: #800000\">│</span> in <span style=\"color: #00ff00; text-decoration-color: #00ff00\">&lt;module&gt;</span>:<span style=\"color: #0000ff; text-decoration-color: #0000ff\">6</span>                                                                                    <span style=\"color: #800000; text-decoration-color: #800000\">│</span>\n",
       "<span style=\"color: #800000; text-decoration-color: #800000\">│</span>                                                                                                  <span style=\"color: #800000; text-decoration-color: #800000\">│</span>\n",
       "<span style=\"color: #800000; text-decoration-color: #800000\">│</span>   <span style=\"color: #7f7f7f; text-decoration-color: #7f7f7f\"> 3 </span><span style=\"color: #0000ff; text-decoration-color: #0000ff\">for</span> k <span style=\"color: #ff00ff; text-decoration-color: #ff00ff\">in</span> <span style=\"color: #00ffff; text-decoration-color: #00ffff\">range</span>(<span style=\"color: #0000ff; text-decoration-color: #0000ff\">2</span>,<span style=\"color: #0000ff; text-decoration-color: #0000ff\">100</span>):                                                                      <span style=\"color: #800000; text-decoration-color: #800000\">│</span>\n",
       "<span style=\"color: #800000; text-decoration-color: #800000\">│</span>   <span style=\"color: #7f7f7f; text-decoration-color: #7f7f7f\"> 4 │   </span><span style=\"color: #0000ff; text-decoration-color: #0000ff\">try</span>:                                                                                    <span style=\"color: #800000; text-decoration-color: #800000\">│</span>\n",
       "<span style=\"color: #800000; text-decoration-color: #800000\">│</span>   <span style=\"color: #7f7f7f; text-decoration-color: #7f7f7f\"> 5 │   │   </span>log.info(<span style=\"color: #808000; text-decoration-color: #808000\">\"Performing clustering for k=%d\"</span>, k)                                       <span style=\"color: #800000; text-decoration-color: #800000\">│</span>\n",
       "<span style=\"color: #800000; text-decoration-color: #800000\">│</span> <span style=\"color: #800000; text-decoration-color: #800000\">❱ </span> 6 <span style=\"color: #7f7f7f; text-decoration-color: #7f7f7f\">│   │   </span>model = fast_cluster(k)                                                             <span style=\"color: #800000; text-decoration-color: #800000\">│</span>\n",
       "<span style=\"color: #800000; text-decoration-color: #800000\">│</span>   <span style=\"color: #7f7f7f; text-decoration-color: #7f7f7f\"> 7 │   │   </span>s = silhouette_score(X=X, labels=model.labels_)                                     <span style=\"color: #800000; text-decoration-color: #800000\">│</span>\n",
       "<span style=\"color: #800000; text-decoration-color: #800000\">│</span>   <span style=\"color: #7f7f7f; text-decoration-color: #7f7f7f\"> 8 │   │   </span>silhouette.append(s)                                                                <span style=\"color: #800000; text-decoration-color: #800000\">│</span>\n",
       "<span style=\"color: #800000; text-decoration-color: #800000\">│</span>   <span style=\"color: #7f7f7f; text-decoration-color: #7f7f7f\"> 9 │   │   </span>log.info(<span style=\"color: #808000; text-decoration-color: #808000\">\"k=%d, cost=%d, n_iter=%d, score=%.4f\"</span>, k, model.cost_, model.n_iter_,     <span style=\"color: #800000; text-decoration-color: #800000\">│</span>\n",
       "<span style=\"color: #800000; text-decoration-color: #800000\">│</span>                                                                                                  <span style=\"color: #800000; text-decoration-color: #800000\">│</span>\n",
       "<span style=\"color: #800000; text-decoration-color: #800000\">│</span> in <span style=\"color: #00ff00; text-decoration-color: #00ff00\">fast_cluster</span>:<span style=\"color: #0000ff; text-decoration-color: #0000ff\">3</span>                                                                                <span style=\"color: #800000; text-decoration-color: #800000\">│</span>\n",
       "<span style=\"color: #800000; text-decoration-color: #800000\">│</span>                                                                                                  <span style=\"color: #800000; text-decoration-color: #800000\">│</span>\n",
       "<span style=\"color: #800000; text-decoration-color: #800000\">│</span>   <span style=\"color: #7f7f7f; text-decoration-color: #7f7f7f\">1 </span><span style=\"color: #0000ff; text-decoration-color: #0000ff\">def</span> <span style=\"color: #00ff00; text-decoration-color: #00ff00\">fast_cluster</span>(k=<span style=\"color: #0000ff; text-decoration-color: #0000ff\">1</span>):                                                                       <span style=\"color: #800000; text-decoration-color: #800000\">│</span>\n",
       "<span style=\"color: #800000; text-decoration-color: #800000\">│</span>   <span style=\"color: #7f7f7f; text-decoration-color: #7f7f7f\">2   </span>model = KPrototypes(n_clusters = k, n_jobs = -<span style=\"color: #0000ff; text-decoration-color: #0000ff\">2</span>, random_state = <span style=\"color: #0000ff; text-decoration-color: #0000ff\">2247</span>, init=<span style=\"color: #808000; text-decoration-color: #808000\">'Huang'</span>, ma     <span style=\"color: #800000; text-decoration-color: #800000\">│</span>\n",
       "<span style=\"color: #800000; text-decoration-color: #800000\">│</span> <span style=\"color: #800000; text-decoration-color: #800000\">❱ </span>3 <span style=\"color: #7f7f7f; text-decoration-color: #7f7f7f\">  </span>model.fit_predict(X, categorical=<span style=\"color: #00ffff; text-decoration-color: #00ffff\">list</span>(<span style=\"color: #00ffff; text-decoration-color: #00ffff\">range</span>(<span style=\"color: #0000ff; text-decoration-color: #0000ff\">0</span>, <span style=\"color: #00ffff; text-decoration-color: #00ffff\">len</span>(categorical))))                         <span style=\"color: #800000; text-decoration-color: #800000\">│</span>\n",
       "<span style=\"color: #800000; text-decoration-color: #800000\">│</span>   <span style=\"color: #7f7f7f; text-decoration-color: #7f7f7f\">4   </span><span style=\"color: #0000ff; text-decoration-color: #0000ff\">return</span> model                                                                               <span style=\"color: #800000; text-decoration-color: #800000\">│</span>\n",
       "<span style=\"color: #800000; text-decoration-color: #800000\">│</span>   <span style=\"color: #7f7f7f; text-decoration-color: #7f7f7f\">5 </span>                                                                                             <span style=\"color: #800000; text-decoration-color: #800000\">│</span>\n",
       "<span style=\"color: #800000; text-decoration-color: #800000\">│</span>                                                                                                  <span style=\"color: #800000; text-decoration-color: #800000\">│</span>\n",
       "<span style=\"color: #800000; text-decoration-color: #800000\">│</span> <span style=\"color: #808000; text-decoration-color: #808000\">c:\\Users\\hao_l\\.conda\\envs\\sc1015project\\lib\\site-packages\\kmodes\\kmodes.py</span>:<span style=\"color: #0000ff; text-decoration-color: #0000ff\">154</span> in <span style=\"color: #00ff00; text-decoration-color: #00ff00\">fit_predict</span>   <span style=\"color: #800000; text-decoration-color: #800000\">│</span>\n",
       "<span style=\"color: #800000; text-decoration-color: #800000\">│</span>                                                                                                  <span style=\"color: #800000; text-decoration-color: #800000\">│</span>\n",
       "<span style=\"color: #800000; text-decoration-color: #800000\">│</span> <span style=\"color: #808000; text-decoration-color: #808000\">c:\\Users\\hao_l\\.conda\\envs\\sc1015project\\lib\\site-packages\\kmodes\\kprototypes.py</span>:<span style=\"color: #0000ff; text-decoration-color: #0000ff\">161</span> in <span style=\"color: #00ff00; text-decoration-color: #00ff00\">fit</span>      <span style=\"color: #800000; text-decoration-color: #800000\">│</span>\n",
       "<span style=\"color: #800000; text-decoration-color: #800000\">│</span>                                                                                                  <span style=\"color: #800000; text-decoration-color: #800000\">│</span>\n",
       "<span style=\"color: #800000; text-decoration-color: #800000\">│</span> <span style=\"color: #808000; text-decoration-color: #808000\">c:\\Users\\hao_l\\.conda\\envs\\sc1015project\\lib\\site-packages\\kmodes\\kprototypes.py</span>:<span style=\"color: #0000ff; text-decoration-color: #0000ff\">305</span> in          <span style=\"color: #800000; text-decoration-color: #800000\">│</span>\n",
       "<span style=\"color: #800000; text-decoration-color: #800000\">│</span> <span style=\"color: #00ff00; text-decoration-color: #00ff00\">k_prototypes</span>                                                                                     <span style=\"color: #800000; text-decoration-color: #800000\">│</span>\n",
       "<span style=\"color: #800000; text-decoration-color: #800000\">│</span>                                                                                                  <span style=\"color: #800000; text-decoration-color: #800000\">│</span>\n",
       "<span style=\"color: #800000; text-decoration-color: #800000\">│</span> <span style=\"color: #808000; text-decoration-color: #808000\">c:\\Users\\hao_l\\.conda\\envs\\sc1015project\\lib\\site-packages\\joblib\\parallel.py</span>:<span style=\"color: #0000ff; text-decoration-color: #0000ff\">1098</span> in <span style=\"color: #00ff00; text-decoration-color: #00ff00\">__call__</span>   <span style=\"color: #800000; text-decoration-color: #800000\">│</span>\n",
       "<span style=\"color: #800000; text-decoration-color: #800000\">│</span>                                                                                                  <span style=\"color: #800000; text-decoration-color: #800000\">│</span>\n",
       "<span style=\"color: #800000; text-decoration-color: #800000\">│</span> <span style=\"color: #808000; text-decoration-color: #808000\">c:\\Users\\hao_l\\.conda\\envs\\sc1015project\\lib\\site-packages\\joblib\\parallel.py</span>:<span style=\"color: #0000ff; text-decoration-color: #0000ff\">975</span> in <span style=\"color: #00ff00; text-decoration-color: #00ff00\">retrieve</span>    <span style=\"color: #800000; text-decoration-color: #800000\">│</span>\n",
       "<span style=\"color: #800000; text-decoration-color: #800000\">│</span>                                                                                                  <span style=\"color: #800000; text-decoration-color: #800000\">│</span>\n",
       "<span style=\"color: #800000; text-decoration-color: #800000\">│</span> <span style=\"color: #808000; text-decoration-color: #808000\">c:\\Users\\hao_l\\.conda\\envs\\sc1015project\\lib\\site-packages\\joblib\\_parallel_backends.py</span>:<span style=\"color: #0000ff; text-decoration-color: #0000ff\">567</span> in   <span style=\"color: #800000; text-decoration-color: #800000\">│</span>\n",
       "<span style=\"color: #800000; text-decoration-color: #800000\">│</span> <span style=\"color: #00ff00; text-decoration-color: #00ff00\">wrap_future_result</span>                                                                               <span style=\"color: #800000; text-decoration-color: #800000\">│</span>\n",
       "<span style=\"color: #800000; text-decoration-color: #800000\">│</span>                                                                                                  <span style=\"color: #800000; text-decoration-color: #800000\">│</span>\n",
       "<span style=\"color: #800000; text-decoration-color: #800000\">│</span> <span style=\"color: #808000; text-decoration-color: #808000\">c:\\Users\\hao_l\\.conda\\envs\\sc1015project\\lib\\concurrent\\futures\\_base.py</span>:<span style=\"color: #0000ff; text-decoration-color: #0000ff\">446</span> in <span style=\"color: #00ff00; text-decoration-color: #00ff00\">result</span>           <span style=\"color: #800000; text-decoration-color: #800000\">│</span>\n",
       "<span style=\"color: #800000; text-decoration-color: #800000\">│</span>                                                                                                  <span style=\"color: #800000; text-decoration-color: #800000\">│</span>\n",
       "<span style=\"color: #800000; text-decoration-color: #800000\">│</span> <span style=\"color: #808000; text-decoration-color: #808000\">c:\\Users\\hao_l\\.conda\\envs\\sc1015project\\lib\\concurrent\\futures\\_base.py</span>:<span style=\"color: #0000ff; text-decoration-color: #0000ff\">391</span> in <span style=\"color: #00ff00; text-decoration-color: #00ff00\">__get_result</span>     <span style=\"color: #800000; text-decoration-color: #800000\">│</span>\n",
       "<span style=\"color: #800000; text-decoration-color: #800000\">╰──────────────────────────────────────────────────────────────────────────────────────────────────╯</span>\n",
       "<span style=\"color: #ff0000; text-decoration-color: #ff0000; font-weight: bold\">ValueError: </span>Clustering algorithm could not initialize. Consider assigning the initial clusters manually.\n",
       "</pre>\n"
      ],
      "text/plain": [
       "\u001b[1;91m_RemoteTraceback: \u001b[0m\n",
       "\u001b[32m\"\"\u001b[0m\"\n",
       "Traceback \u001b[1m(\u001b[0mmost recent call last\u001b[1m)\u001b[0m:\n",
       "  File \u001b[32m\"c:\\Users\\hao_l\\.conda\\envs\\sc1015project\\lib\\site-packages\\joblib\\externals\\loky\\process_executor.py\"\u001b[0m, line\n",
       "\u001b[1;36m428\u001b[0m, in _process_worker\n",
       "    r = \u001b[1;35mcall_item\u001b[0m\u001b[1m(\u001b[0m\u001b[1m)\u001b[0m\n",
       "  File \u001b[32m\"c:\\Users\\hao_l\\.conda\\envs\\sc1015project\\lib\\site-packages\\joblib\\externals\\loky\\process_executor.py\"\u001b[0m, line\n",
       "\u001b[1;36m275\u001b[0m, in __call__\n",
       "    return \u001b[1;35mself.fn\u001b[0m\u001b[1m(\u001b[0m*self.args, **self.kwargs\u001b[1m)\u001b[0m\n",
       "  File \u001b[32m\"c:\\Users\\hao_l\\.conda\\envs\\sc1015project\\lib\\site-packages\\joblib\\_parallel_backends.py\"\u001b[0m, line \u001b[1;36m620\u001b[0m, in \n",
       "__call__\n",
       "    return \u001b[1;35mself.func\u001b[0m\u001b[1m(\u001b[0m*args, **kwargs\u001b[1m)\u001b[0m\n",
       "  File \u001b[32m\"c:\\Users\\hao_l\\.conda\\envs\\sc1015project\\lib\\site-packages\\joblib\\parallel.py\"\u001b[0m, line \u001b[1;36m288\u001b[0m, in __call__\n",
       "    return \u001b[1m[\u001b[0m\u001b[1;35mfunc\u001b[0m\u001b[1m(\u001b[0m*args, **kwargs\u001b[1m)\u001b[0m\n",
       "  File \u001b[32m\"c:\\Users\\hao_l\\.conda\\envs\\sc1015project\\lib\\site-packages\\joblib\\parallel.py\"\u001b[0m, line \u001b[1;36m288\u001b[0m, in \u001b[1m<\u001b[0m\u001b[1;95mlistcomp\u001b[0m\u001b[1m>\u001b[0m\n",
       "    return \u001b[1m[\u001b[0m\u001b[1;35mfunc\u001b[0m\u001b[1m(\u001b[0m*args, **kwargs\u001b[1m)\u001b[0m\n",
       "  File \u001b[32m\"c:\\Users\\hao_l\\.conda\\envs\\sc1015project\\lib\\site-packages\\kmodes\\kprototypes.py\"\u001b[0m, line \u001b[1;36m410\u001b[0m, in \n",
       "_k_prototypes_single\n",
       "    raise \u001b[1;35mValueError\u001b[0m\u001b[1m(\u001b[0m\n",
       "ValueError: Clustering algorithm could not initialize. Consider assigning the initial clusters manually.\n",
       "\u001b[32m\"\"\u001b[0m\"\n",
       "\n",
       "\u001b[3mThe above exception was the direct cause of the following exception:\u001b[0m\n",
       "\n",
       "\u001b[31m╭─\u001b[0m\u001b[31m──────────────────────────────\u001b[0m\u001b[31m \u001b[0m\u001b[1;31mTraceback \u001b[0m\u001b[1;2;31m(most recent call last)\u001b[0m\u001b[31m \u001b[0m\u001b[31m───────────────────────────────\u001b[0m\u001b[31m─╮\u001b[0m\n",
       "\u001b[31m│\u001b[0m in \u001b[92m<module>\u001b[0m:\u001b[94m6\u001b[0m                                                                                    \u001b[31m│\u001b[0m\n",
       "\u001b[31m│\u001b[0m                                                                                                  \u001b[31m│\u001b[0m\n",
       "\u001b[31m│\u001b[0m   \u001b[2m 3 \u001b[0m\u001b[94mfor\u001b[0m k \u001b[95min\u001b[0m \u001b[96mrange\u001b[0m(\u001b[94m2\u001b[0m,\u001b[94m100\u001b[0m):                                                                      \u001b[31m│\u001b[0m\n",
       "\u001b[31m│\u001b[0m   \u001b[2m 4 \u001b[0m\u001b[2m│   \u001b[0m\u001b[94mtry\u001b[0m:                                                                                    \u001b[31m│\u001b[0m\n",
       "\u001b[31m│\u001b[0m   \u001b[2m 5 \u001b[0m\u001b[2m│   │   \u001b[0mlog.info(\u001b[33m\"\u001b[0m\u001b[33mPerforming clustering for k=\u001b[0m\u001b[33m%d\u001b[0m\u001b[33m\"\u001b[0m, k)                                       \u001b[31m│\u001b[0m\n",
       "\u001b[31m│\u001b[0m \u001b[31m❱ \u001b[0m 6 \u001b[2m│   │   \u001b[0mmodel = fast_cluster(k)                                                             \u001b[31m│\u001b[0m\n",
       "\u001b[31m│\u001b[0m   \u001b[2m 7 \u001b[0m\u001b[2m│   │   \u001b[0ms = silhouette_score(X=X, labels=model.labels_)                                     \u001b[31m│\u001b[0m\n",
       "\u001b[31m│\u001b[0m   \u001b[2m 8 \u001b[0m\u001b[2m│   │   \u001b[0msilhouette.append(s)                                                                \u001b[31m│\u001b[0m\n",
       "\u001b[31m│\u001b[0m   \u001b[2m 9 \u001b[0m\u001b[2m│   │   \u001b[0mlog.info(\u001b[33m\"\u001b[0m\u001b[33mk=\u001b[0m\u001b[33m%d\u001b[0m\u001b[33m, cost=\u001b[0m\u001b[33m%d\u001b[0m\u001b[33m, n_iter=\u001b[0m\u001b[33m%d\u001b[0m\u001b[33m, score=\u001b[0m\u001b[33m%.4f\u001b[0m\u001b[33m\"\u001b[0m, k, model.cost_, model.n_iter_,     \u001b[31m│\u001b[0m\n",
       "\u001b[31m│\u001b[0m                                                                                                  \u001b[31m│\u001b[0m\n",
       "\u001b[31m│\u001b[0m in \u001b[92mfast_cluster\u001b[0m:\u001b[94m3\u001b[0m                                                                                \u001b[31m│\u001b[0m\n",
       "\u001b[31m│\u001b[0m                                                                                                  \u001b[31m│\u001b[0m\n",
       "\u001b[31m│\u001b[0m   \u001b[2m1 \u001b[0m\u001b[94mdef\u001b[0m \u001b[92mfast_cluster\u001b[0m(k=\u001b[94m1\u001b[0m):                                                                       \u001b[31m│\u001b[0m\n",
       "\u001b[31m│\u001b[0m   \u001b[2m2 \u001b[0m\u001b[2m  \u001b[0mmodel = KPrototypes(n_clusters = k, n_jobs = -\u001b[94m2\u001b[0m, random_state = \u001b[94m2247\u001b[0m, init=\u001b[33m'\u001b[0m\u001b[33mHuang\u001b[0m\u001b[33m'\u001b[0m, ma     \u001b[31m│\u001b[0m\n",
       "\u001b[31m│\u001b[0m \u001b[31m❱ \u001b[0m3 \u001b[2m  \u001b[0mmodel.fit_predict(X, categorical=\u001b[96mlist\u001b[0m(\u001b[96mrange\u001b[0m(\u001b[94m0\u001b[0m, \u001b[96mlen\u001b[0m(categorical))))                         \u001b[31m│\u001b[0m\n",
       "\u001b[31m│\u001b[0m   \u001b[2m4 \u001b[0m\u001b[2m  \u001b[0m\u001b[94mreturn\u001b[0m model                                                                               \u001b[31m│\u001b[0m\n",
       "\u001b[31m│\u001b[0m   \u001b[2m5 \u001b[0m                                                                                             \u001b[31m│\u001b[0m\n",
       "\u001b[31m│\u001b[0m                                                                                                  \u001b[31m│\u001b[0m\n",
       "\u001b[31m│\u001b[0m \u001b[33mc:\\Users\\hao_l\\.conda\\envs\\sc1015project\\lib\\site-packages\\kmodes\\kmodes.py\u001b[0m:\u001b[94m154\u001b[0m in \u001b[92mfit_predict\u001b[0m   \u001b[31m│\u001b[0m\n",
       "\u001b[31m│\u001b[0m                                                                                                  \u001b[31m│\u001b[0m\n",
       "\u001b[31m│\u001b[0m \u001b[33mc:\\Users\\hao_l\\.conda\\envs\\sc1015project\\lib\\site-packages\\kmodes\\kprototypes.py\u001b[0m:\u001b[94m161\u001b[0m in \u001b[92mfit\u001b[0m      \u001b[31m│\u001b[0m\n",
       "\u001b[31m│\u001b[0m                                                                                                  \u001b[31m│\u001b[0m\n",
       "\u001b[31m│\u001b[0m \u001b[33mc:\\Users\\hao_l\\.conda\\envs\\sc1015project\\lib\\site-packages\\kmodes\\kprototypes.py\u001b[0m:\u001b[94m305\u001b[0m in          \u001b[31m│\u001b[0m\n",
       "\u001b[31m│\u001b[0m \u001b[92mk_prototypes\u001b[0m                                                                                     \u001b[31m│\u001b[0m\n",
       "\u001b[31m│\u001b[0m                                                                                                  \u001b[31m│\u001b[0m\n",
       "\u001b[31m│\u001b[0m \u001b[33mc:\\Users\\hao_l\\.conda\\envs\\sc1015project\\lib\\site-packages\\joblib\\parallel.py\u001b[0m:\u001b[94m1098\u001b[0m in \u001b[92m__call__\u001b[0m   \u001b[31m│\u001b[0m\n",
       "\u001b[31m│\u001b[0m                                                                                                  \u001b[31m│\u001b[0m\n",
       "\u001b[31m│\u001b[0m \u001b[33mc:\\Users\\hao_l\\.conda\\envs\\sc1015project\\lib\\site-packages\\joblib\\parallel.py\u001b[0m:\u001b[94m975\u001b[0m in \u001b[92mretrieve\u001b[0m    \u001b[31m│\u001b[0m\n",
       "\u001b[31m│\u001b[0m                                                                                                  \u001b[31m│\u001b[0m\n",
       "\u001b[31m│\u001b[0m \u001b[33mc:\\Users\\hao_l\\.conda\\envs\\sc1015project\\lib\\site-packages\\joblib\\_parallel_backends.py\u001b[0m:\u001b[94m567\u001b[0m in   \u001b[31m│\u001b[0m\n",
       "\u001b[31m│\u001b[0m \u001b[92mwrap_future_result\u001b[0m                                                                               \u001b[31m│\u001b[0m\n",
       "\u001b[31m│\u001b[0m                                                                                                  \u001b[31m│\u001b[0m\n",
       "\u001b[31m│\u001b[0m \u001b[33mc:\\Users\\hao_l\\.conda\\envs\\sc1015project\\lib\\concurrent\\futures\\_base.py\u001b[0m:\u001b[94m446\u001b[0m in \u001b[92mresult\u001b[0m           \u001b[31m│\u001b[0m\n",
       "\u001b[31m│\u001b[0m                                                                                                  \u001b[31m│\u001b[0m\n",
       "\u001b[31m│\u001b[0m \u001b[33mc:\\Users\\hao_l\\.conda\\envs\\sc1015project\\lib\\concurrent\\futures\\_base.py\u001b[0m:\u001b[94m391\u001b[0m in \u001b[92m__get_result\u001b[0m     \u001b[31m│\u001b[0m\n",
       "\u001b[31m╰──────────────────────────────────────────────────────────────────────────────────────────────────╯\u001b[0m\n",
       "\u001b[1;91mValueError: \u001b[0mClustering algorithm could not initialize. Consider assigning the initial clusters manually.\n"
      ]
     },
     "metadata": {},
     "output_type": "display_data"
    }
   ],
   "source": [
    "silhouette = []\n",
    "\n",
    "for k in range(2,100):\n",
    "    try:\n",
    "        log.info(\"Performing clustering for k=%d\", k)\n",
    "        model = fast_cluster(k)\n",
    "        s = silhouette_score(X=X, labels=model.labels_)\n",
    "        silhouette.append(s)\n",
    "        log.info(\"k=%d, cost=%d, n_iter=%d, score=%.4f\", k, model.cost_, model.n_iter_, s)\n",
    "    except KeyboardInterrupt:\n",
    "        break\n",
    "\n",
    "silhouette"
   ]
  },
  {
   "cell_type": "code",
   "execution_count": 10,
   "metadata": {},
   "outputs": [],
   "source": [
    "scores = [0.2611,\n",
    "0.1587,\n",
    "0.1419,\n",
    "0.1413,\n",
    "0.1404,\n",
    "0.1239,\n",
    "0.1238,\n",
    "0.1193,\n",
    "0.1203,\n",
    "0.1196,\n",
    "0.1172,\n",
    "0.1188,\n",
    "0.1194,\n",
    "0.1102,\n",
    "0.1130,\n",
    "0.1169,\n",
    "0.1170,\n",
    "0.1150,\n",
    "0.1048,\n",
    "0.1062,\n",
    "0.1034,\n",
    "0.0989,\n",
    "0.1070,\n",
    "0.1004,\n",
    "0.0955,\n",
    "0.0981,\n",
    "0.0974,\n",
    "0.0959,\n",
    "0.0949,\n",
    "0.0942,\n",
    "0.0948,\n",
    "0.0939,\n",
    "0.0943,\n",
    "0.0922,\n",
    "0.0933,\n",
    "0.0925,\n",
    "0.0906,\n",
    "0.0901,\n",
    "0.0919,\n",
    "0.0901,\n",
    "0.0921,\n",
    "0.0885,\n",
    "0.0920,\n",
    "0.0891,\n",
    "0.0904,\n",
    "0.0880,\n",
    "0.0888,\n",
    "0.0876,\n",
    "0.0876,\n",
    "0.0871,\n",
    "0.0856,\n",
    "0.0861,\n",
    "0.0847,\n",
    "0.0859,\n",
    "0.0848,\n",
    "0.0860,\n",
    "0.0838,\n",
    "0.0859,\n",
    "0.0829,\n",
    "0.0840,\n",
    "0.0835,\n",
    "0.0831,\n",
    "0.0807,\n",
    "0.0830,\n",
    "0.0823,\n",
    "0.0826,\n",
    "0.0830,\n",
    "0.0809,\n",
    "0.0816,\n",
    "0.0817,\n",
    "0.0801,\n",
    "0.0822,\n",
    "0.0797,\n",
    "0.0809,\n",
    "0.0828,\n",
    "0.0816,\n",
    "0.0806]"
   ]
  },
  {
   "cell_type": "code",
   "execution_count": 13,
   "metadata": {},
   "outputs": [
    {
     "data": {
      "text/plain": [
       "<seaborn.axisgrid.FacetGrid at 0x295db4ef490>"
      ]
     },
     "execution_count": 13,
     "metadata": {},
     "output_type": "execute_result"
    },
    {
     "data": {
      "image/png": "[encoded data removed]",
      "text/plain": [
       "<Figure size 2000x500 with 1 Axes>"
      ]
     },
     "metadata": {},
     "output_type": "display_data"
    }
   ],
   "source": [
    "# Converting the results into a dataframe and plotting them\n",
    "df_cost = pd.DataFrame({'cluster': list(range(2, len(scores)+2)), 'score': scores})\n",
    "ax = sb.relplot(data=df_cost, x='cluster', y='score', marker='o', kind='line', aspect=4).set(title='Silhouette Score', xlim = (0,79))\n",
    "import matplotlib.ticker as ticker\n",
    "plt.gca().xaxis.set_major_locator(ticker.MultipleLocator(1))\n",
    "ax"
   ]
  },
  {
   "attachments": {},
   "cell_type": "markdown",
   "metadata": {},
   "source": [
    "# Summary\n",
    "\n",
    "We select `k=4` because it has the best silhouette score (ignoring 2 and 3). One reason for the low silhouette scores could be due to the fact that the statistics for steam games such as `positive_ratings`, `median_playtime`, `achievements` are not innate modifiers of the games. They could be influenced by external factors such as media coverage, country bans, awards, or even launch of competitors (e.g. Epic Games Store) etc.\n",
    "\n",
    "Things that could be more organic would include `budget` allocated for the game, `development team size`, `duration of development` etc.\n",
    "\n",
    "We can observe that there is a unusual dip in the silhouette score of `k=15 and k=16` wihch means that these values are poor choices to be used for optimal k-value.\n",
    "\n",
    "There is also a huge spike at `k=24` which could be investigated as well."
   ]
  },
  {
   "cell_type": "code",
   "execution_count": 19,
   "metadata": {},
   "outputs": [
    {
     "data": {
      "text/html": [
       "<pre style=\"white-space:pre;overflow-x:auto;line-height:normal;font-family:Menlo,'DejaVu Sans Mono',consolas,'Courier New',monospace\"><span style=\"color: #7fbfbf; text-decoration-color: #7fbfbf\">[04/22/23 15:58:56] </span><span style=\"color: #000080; text-decoration-color: #000080\">INFO    </span> Performing clustering for <span style=\"color: #808000; text-decoration-color: #808000\">k</span>=<span style=\"color: #008080; text-decoration-color: #008080; font-weight: bold\">4</span>                                          <a href=\"file://C:\\Users\\hao_l\\AppData\\Local\\Temp\\ipykernel_10528\\2598878376.py\" target=\"_blank\"><span style=\"color: #7f7f7f; text-decoration-color: #7f7f7f\">2598878376.py</span></a><span style=\"color: #7f7f7f; text-decoration-color: #7f7f7f\">:</span><a href=\"file://C:\\Users\\hao_l\\AppData\\Local\\Temp\\ipykernel_10528\\2598878376.py#3\" target=\"_blank\"><span style=\"color: #7f7f7f; text-decoration-color: #7f7f7f\">3</span></a>\n",
       "</pre>\n"
      ],
      "text/plain": [
       "\u001b[2;36m[04/22/23 15:58:56]\u001b[0m\u001b[2;36m \u001b[0m\u001b[34mINFO    \u001b[0m Performing clustering for \u001b[33mk\u001b[0m=\u001b[1;36m4\u001b[0m                                          \u001b]8;id=373089;file://C:\\Users\\hao_l\\AppData\\Local\\Temp\\ipykernel_10528\\2598878376.py\u001b\\\u001b[2m2598878376.py\u001b[0m\u001b]8;;\u001b\\\u001b[2m:\u001b[0m\u001b]8;id=748773;file://C:\\Users\\hao_l\\AppData\\Local\\Temp\\ipykernel_10528\\2598878376.py#3\u001b\\\u001b[2m3\u001b[0m\u001b]8;;\u001b\\\n"
      ]
     },
     "metadata": {},
     "output_type": "display_data"
    },
    {
     "data": {
      "text/html": [
       "<pre style=\"white-space:pre;overflow-x:auto;line-height:normal;font-family:Menlo,'DejaVu Sans Mono',consolas,'Courier New',monospace\"><span style=\"color: #7fbfbf; text-decoration-color: #7fbfbf\">[04/22/23 16:00:27] </span><span style=\"color: #000080; text-decoration-color: #000080\">INFO    </span> <span style=\"color: #808000; text-decoration-color: #808000\">k</span>=<span style=\"color: #008080; text-decoration-color: #008080; font-weight: bold\">4</span>, <span style=\"color: #808000; text-decoration-color: #808000\">cost</span>=<span style=\"color: #008080; text-decoration-color: #008080; font-weight: bold\">187008</span>, <span style=\"color: #808000; text-decoration-color: #808000\">n_iter</span>=<span style=\"color: #008080; text-decoration-color: #008080; font-weight: bold\">18</span>                                            <a href=\"file://C:\\Users\\hao_l\\AppData\\Local\\Temp\\ipykernel_10528\\2598878376.py\" target=\"_blank\"><span style=\"color: #7f7f7f; text-decoration-color: #7f7f7f\">2598878376.py</span></a><span style=\"color: #7f7f7f; text-decoration-color: #7f7f7f\">:</span><a href=\"file://C:\\Users\\hao_l\\AppData\\Local\\Temp\\ipykernel_10528\\2598878376.py#5\" target=\"_blank\"><span style=\"color: #7f7f7f; text-decoration-color: #7f7f7f\">5</span></a>\n",
       "</pre>\n"
      ],
      "text/plain": [
       "\u001b[2;36m[04/22/23 16:00:27]\u001b[0m\u001b[2;36m \u001b[0m\u001b[34mINFO    \u001b[0m \u001b[33mk\u001b[0m=\u001b[1;36m4\u001b[0m, \u001b[33mcost\u001b[0m=\u001b[1;36m187008\u001b[0m, \u001b[33mn_iter\u001b[0m=\u001b[1;36m18\u001b[0m                                            \u001b]8;id=539908;file://C:\\Users\\hao_l\\AppData\\Local\\Temp\\ipykernel_10528\\2598878376.py\u001b\\\u001b[2m2598878376.py\u001b[0m\u001b]8;;\u001b\\\u001b[2m:\u001b[0m\u001b]8;id=965156;file://C:\\Users\\hao_l\\AppData\\Local\\Temp\\ipykernel_10528\\2598878376.py#5\u001b\\\u001b[2m5\u001b[0m\u001b]8;;\u001b\\\n"
      ]
     },
     "metadata": {},
     "output_type": "display_data"
    },
    {
     "data": {
      "text/html": [
       "<pre style=\"white-space:pre;overflow-x:auto;line-height:normal;font-family:Menlo,'DejaVu Sans Mono',consolas,'Courier New',monospace\"><span style=\"color: #7fbfbf; text-decoration-color: #7fbfbf\">                    </span><span style=\"color: #000080; text-decoration-color: #000080\">INFO    </span> Saving data to <span style=\"color: #008000; text-decoration-color: #008000\">'model@kprototypes@4'</span> <span style=\"font-weight: bold\">(</span>PickleDataSet<span style=\"font-weight: bold\">)</span><span style=\"color: #808000; text-decoration-color: #808000\">...</span>            <a href=\"file://c:\\Users\\hao_l\\.conda\\envs\\sc1015project\\lib\\site-packages\\kedro\\io\\data_catalog.py\" target=\"_blank\"><span style=\"color: #7f7f7f; text-decoration-color: #7f7f7f\">data_catalog.py</span></a><span style=\"color: #7f7f7f; text-decoration-color: #7f7f7f\">:</span><a href=\"file://c:\\Users\\hao_l\\.conda\\envs\\sc1015project\\lib\\site-packages\\kedro\\io\\data_catalog.py#382\" target=\"_blank\"><span style=\"color: #7f7f7f; text-decoration-color: #7f7f7f\">382</span></a>\n",
       "</pre>\n"
      ],
      "text/plain": [
       "\u001b[2;36m                   \u001b[0m\u001b[2;36m \u001b[0m\u001b[34mINFO    \u001b[0m Saving data to \u001b[32m'model@kprototypes@4'\u001b[0m \u001b[1m(\u001b[0mPickleDataSet\u001b[1m)\u001b[0m\u001b[33m...\u001b[0m            \u001b]8;id=643227;file://c:\\Users\\hao_l\\.conda\\envs\\sc1015project\\lib\\site-packages\\kedro\\io\\data_catalog.py\u001b\\\u001b[2mdata_catalog.py\u001b[0m\u001b]8;;\u001b\\\u001b[2m:\u001b[0m\u001b]8;id=692773;file://c:\\Users\\hao_l\\.conda\\envs\\sc1015project\\lib\\site-packages\\kedro\\io\\data_catalog.py#382\u001b\\\u001b[2m382\u001b[0m\u001b]8;;\u001b\\\n"
      ]
     },
     "metadata": {},
     "output_type": "display_data"
    },
    {
     "data": {
      "text/html": [
       "<pre style=\"white-space:pre;overflow-x:auto;line-height:normal;font-family:Menlo,'DejaVu Sans Mono',consolas,'Courier New',monospace\"><span style=\"color: #7fbfbf; text-decoration-color: #7fbfbf\">                    </span><span style=\"color: #000080; text-decoration-color: #000080\">INFO    </span> Saving data to <span style=\"color: #008000; text-decoration-color: #008000\">'labels@kprototypes@4'</span> <span style=\"font-weight: bold\">(</span>CSVDataSet<span style=\"font-weight: bold\">)</span><span style=\"color: #808000; text-decoration-color: #808000\">...</span>              <a href=\"file://c:\\Users\\hao_l\\.conda\\envs\\sc1015project\\lib\\site-packages\\kedro\\io\\data_catalog.py\" target=\"_blank\"><span style=\"color: #7f7f7f; text-decoration-color: #7f7f7f\">data_catalog.py</span></a><span style=\"color: #7f7f7f; text-decoration-color: #7f7f7f\">:</span><a href=\"file://c:\\Users\\hao_l\\.conda\\envs\\sc1015project\\lib\\site-packages\\kedro\\io\\data_catalog.py#382\" target=\"_blank\"><span style=\"color: #7f7f7f; text-decoration-color: #7f7f7f\">382</span></a>\n",
       "</pre>\n"
      ],
      "text/plain": [
       "\u001b[2;36m                   \u001b[0m\u001b[2;36m \u001b[0m\u001b[34mINFO    \u001b[0m Saving data to \u001b[32m'labels@kprototypes@4'\u001b[0m \u001b[1m(\u001b[0mCSVDataSet\u001b[1m)\u001b[0m\u001b[33m...\u001b[0m              \u001b]8;id=300193;file://c:\\Users\\hao_l\\.conda\\envs\\sc1015project\\lib\\site-packages\\kedro\\io\\data_catalog.py\u001b\\\u001b[2mdata_catalog.py\u001b[0m\u001b]8;;\u001b\\\u001b[2m:\u001b[0m\u001b]8;id=977872;file://c:\\Users\\hao_l\\.conda\\envs\\sc1015project\\lib\\site-packages\\kedro\\io\\data_catalog.py#382\u001b\\\u001b[2m382\u001b[0m\u001b]8;;\u001b\\\n"
      ]
     },
     "metadata": {},
     "output_type": "display_data"
    },
    {
     "data": {
      "text/html": [
       "<pre style=\"white-space:pre;overflow-x:auto;line-height:normal;font-family:Menlo,'DejaVu Sans Mono',consolas,'Courier New',monospace\"><span style=\"color: #7fbfbf; text-decoration-color: #7fbfbf\">                    </span><span style=\"color: #000080; text-decoration-color: #000080\">INFO    </span> Performing clustering for <span style=\"color: #808000; text-decoration-color: #808000\">k</span>=<span style=\"color: #008080; text-decoration-color: #008080; font-weight: bold\">24</span>                                         <a href=\"file://C:\\Users\\hao_l\\AppData\\Local\\Temp\\ipykernel_10528\\2598878376.py\" target=\"_blank\"><span style=\"color: #7f7f7f; text-decoration-color: #7f7f7f\">2598878376.py</span></a><span style=\"color: #7f7f7f; text-decoration-color: #7f7f7f\">:</span><a href=\"file://C:\\Users\\hao_l\\AppData\\Local\\Temp\\ipykernel_10528\\2598878376.py#3\" target=\"_blank\"><span style=\"color: #7f7f7f; text-decoration-color: #7f7f7f\">3</span></a>\n",
       "</pre>\n"
      ],
      "text/plain": [
       "\u001b[2;36m                   \u001b[0m\u001b[2;36m \u001b[0m\u001b[34mINFO    \u001b[0m Performing clustering for \u001b[33mk\u001b[0m=\u001b[1;36m24\u001b[0m                                         \u001b]8;id=397779;file://C:\\Users\\hao_l\\AppData\\Local\\Temp\\ipykernel_10528\\2598878376.py\u001b\\\u001b[2m2598878376.py\u001b[0m\u001b]8;;\u001b\\\u001b[2m:\u001b[0m\u001b]8;id=163211;file://C:\\Users\\hao_l\\AppData\\Local\\Temp\\ipykernel_10528\\2598878376.py#3\u001b\\\u001b[2m3\u001b[0m\u001b]8;;\u001b\\\n"
      ]
     },
     "metadata": {},
     "output_type": "display_data"
    },
    {
     "data": {
      "text/html": [
       "<pre style=\"white-space:pre;overflow-x:auto;line-height:normal;font-family:Menlo,'DejaVu Sans Mono',consolas,'Courier New',monospace\"><span style=\"color: #7fbfbf; text-decoration-color: #7fbfbf\">[04/22/23 16:04:29] </span><span style=\"color: #000080; text-decoration-color: #000080\">INFO    </span> <span style=\"color: #808000; text-decoration-color: #808000\">k</span>=<span style=\"color: #008080; text-decoration-color: #008080; font-weight: bold\">24</span>, <span style=\"color: #808000; text-decoration-color: #808000\">cost</span>=<span style=\"color: #008080; text-decoration-color: #008080; font-weight: bold\">110623</span>, <span style=\"color: #808000; text-decoration-color: #808000\">n_iter</span>=<span style=\"color: #008080; text-decoration-color: #008080; font-weight: bold\">52</span>                                           <a href=\"file://C:\\Users\\hao_l\\AppData\\Local\\Temp\\ipykernel_10528\\2598878376.py\" target=\"_blank\"><span style=\"color: #7f7f7f; text-decoration-color: #7f7f7f\">2598878376.py</span></a><span style=\"color: #7f7f7f; text-decoration-color: #7f7f7f\">:</span><a href=\"file://C:\\Users\\hao_l\\AppData\\Local\\Temp\\ipykernel_10528\\2598878376.py#5\" target=\"_blank\"><span style=\"color: #7f7f7f; text-decoration-color: #7f7f7f\">5</span></a>\n",
       "</pre>\n"
      ],
      "text/plain": [
       "\u001b[2;36m[04/22/23 16:04:29]\u001b[0m\u001b[2;36m \u001b[0m\u001b[34mINFO    \u001b[0m \u001b[33mk\u001b[0m=\u001b[1;36m24\u001b[0m, \u001b[33mcost\u001b[0m=\u001b[1;36m110623\u001b[0m, \u001b[33mn_iter\u001b[0m=\u001b[1;36m52\u001b[0m                                           \u001b]8;id=993250;file://C:\\Users\\hao_l\\AppData\\Local\\Temp\\ipykernel_10528\\2598878376.py\u001b\\\u001b[2m2598878376.py\u001b[0m\u001b]8;;\u001b\\\u001b[2m:\u001b[0m\u001b]8;id=914297;file://C:\\Users\\hao_l\\AppData\\Local\\Temp\\ipykernel_10528\\2598878376.py#5\u001b\\\u001b[2m5\u001b[0m\u001b]8;;\u001b\\\n"
      ]
     },
     "metadata": {},
     "output_type": "display_data"
    },
    {
     "data": {
      "text/html": [
       "<pre style=\"white-space:pre;overflow-x:auto;line-height:normal;font-family:Menlo,'DejaVu Sans Mono',consolas,'Courier New',monospace\"><span style=\"color: #7fbfbf; text-decoration-color: #7fbfbf\">                    </span><span style=\"color: #000080; text-decoration-color: #000080\">INFO    </span> Saving data to <span style=\"color: #008000; text-decoration-color: #008000\">'model@kprototypes@24'</span> <span style=\"font-weight: bold\">(</span>PickleDataSet<span style=\"font-weight: bold\">)</span><span style=\"color: #808000; text-decoration-color: #808000\">...</span>           <a href=\"file://c:\\Users\\hao_l\\.conda\\envs\\sc1015project\\lib\\site-packages\\kedro\\io\\data_catalog.py\" target=\"_blank\"><span style=\"color: #7f7f7f; text-decoration-color: #7f7f7f\">data_catalog.py</span></a><span style=\"color: #7f7f7f; text-decoration-color: #7f7f7f\">:</span><a href=\"file://c:\\Users\\hao_l\\.conda\\envs\\sc1015project\\lib\\site-packages\\kedro\\io\\data_catalog.py#382\" target=\"_blank\"><span style=\"color: #7f7f7f; text-decoration-color: #7f7f7f\">382</span></a>\n",
       "</pre>\n"
      ],
      "text/plain": [
       "\u001b[2;36m                   \u001b[0m\u001b[2;36m \u001b[0m\u001b[34mINFO    \u001b[0m Saving data to \u001b[32m'model@kprototypes@24'\u001b[0m \u001b[1m(\u001b[0mPickleDataSet\u001b[1m)\u001b[0m\u001b[33m...\u001b[0m           \u001b]8;id=675058;file://c:\\Users\\hao_l\\.conda\\envs\\sc1015project\\lib\\site-packages\\kedro\\io\\data_catalog.py\u001b\\\u001b[2mdata_catalog.py\u001b[0m\u001b]8;;\u001b\\\u001b[2m:\u001b[0m\u001b]8;id=724855;file://c:\\Users\\hao_l\\.conda\\envs\\sc1015project\\lib\\site-packages\\kedro\\io\\data_catalog.py#382\u001b\\\u001b[2m382\u001b[0m\u001b]8;;\u001b\\\n"
      ]
     },
     "metadata": {},
     "output_type": "display_data"
    },
    {
     "data": {
      "text/html": [
       "<pre style=\"white-space:pre;overflow-x:auto;line-height:normal;font-family:Menlo,'DejaVu Sans Mono',consolas,'Courier New',monospace\"><span style=\"color: #7fbfbf; text-decoration-color: #7fbfbf\">                    </span><span style=\"color: #000080; text-decoration-color: #000080\">INFO    </span> Saving data to <span style=\"color: #008000; text-decoration-color: #008000\">'labels@kprototypes@24'</span> <span style=\"font-weight: bold\">(</span>CSVDataSet<span style=\"font-weight: bold\">)</span><span style=\"color: #808000; text-decoration-color: #808000\">...</span>             <a href=\"file://c:\\Users\\hao_l\\.conda\\envs\\sc1015project\\lib\\site-packages\\kedro\\io\\data_catalog.py\" target=\"_blank\"><span style=\"color: #7f7f7f; text-decoration-color: #7f7f7f\">data_catalog.py</span></a><span style=\"color: #7f7f7f; text-decoration-color: #7f7f7f\">:</span><a href=\"file://c:\\Users\\hao_l\\.conda\\envs\\sc1015project\\lib\\site-packages\\kedro\\io\\data_catalog.py#382\" target=\"_blank\"><span style=\"color: #7f7f7f; text-decoration-color: #7f7f7f\">382</span></a>\n",
       "</pre>\n"
      ],
      "text/plain": [
       "\u001b[2;36m                   \u001b[0m\u001b[2;36m \u001b[0m\u001b[34mINFO    \u001b[0m Saving data to \u001b[32m'labels@kprototypes@24'\u001b[0m \u001b[1m(\u001b[0mCSVDataSet\u001b[1m)\u001b[0m\u001b[33m...\u001b[0m             \u001b]8;id=591308;file://c:\\Users\\hao_l\\.conda\\envs\\sc1015project\\lib\\site-packages\\kedro\\io\\data_catalog.py\u001b\\\u001b[2mdata_catalog.py\u001b[0m\u001b]8;;\u001b\\\u001b[2m:\u001b[0m\u001b]8;id=805;file://c:\\Users\\hao_l\\.conda\\envs\\sc1015project\\lib\\site-packages\\kedro\\io\\data_catalog.py#382\u001b\\\u001b[2m382\u001b[0m\u001b]8;;\u001b\\\n"
      ]
     },
     "metadata": {},
     "output_type": "display_data"
    }
   ],
   "source": [
    "for k in [4,24]:\n",
    "    try:\n",
    "        log.info(\"Performing clustering for k=%d\", k)\n",
    "        model = cluster(k)\n",
    "        log.info(\"k=%d, cost=%d, n_iter=%d\", k, model.cost_, model.n_iter_)\n",
    "        catalog.save(f'model@kprototypes@{k}', model)\n",
    "        catalog.save(f'labels@kprototypes@{k}', pd.Series(model.labels_, name='cluster'))\n",
    "    except KeyboardInterrupt:\n",
    "        break"
   ]
  },
  {
   "attachments": {},
   "cell_type": "markdown",
   "metadata": {},
   "source": []
  }
 ],
 "metadata": {
  "kernelspec": {
   "display_name": "usg-8_lb1q9f",
   "language": "python",
   "name": "python3"
  },
  "language_info": {
   "codemirror_mode": {
    "name": "ipython",
    "version": 3
   },
   "file_extension": ".py",
   "mimetype": "text/x-python",
   "name": "python",
   "nbconvert_exporter": "python",
   "pygments_lexer": "ipython3",
   "version": "3.9.16"
  },
  "orig_nbformat": 4
 },
 "nbformat": 4,
 "nbformat_minor": 2
}
