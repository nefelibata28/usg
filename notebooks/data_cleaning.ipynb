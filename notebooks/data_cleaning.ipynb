{
 "cells": [
  {
   "cell_type": "code",
   "execution_count": 1,
   "metadata": {},
   "outputs": [
    {
     "name": "stdout",
     "output_type": "stream",
     "text": [
      "The kedro.ipython extension is already loaded. To reload it, use:\n",
      "  %reload_ext kedro.ipython\n"
     ]
    }
   ],
   "source": [
    "%load_ext kedro.ipython"
   ]
  },
  {
   "cell_type": "code",
   "execution_count": 2,
   "metadata": {},
   "outputs": [],
   "source": [
    "import pandas as pd\n",
    "import polars as pl\n",
    "import seaborn as sb\n",
    "import numpy as np\n",
    "import matplotlib.pyplot as plt\n",
    "from sklearn.preprocessing import OneHotEncoder, StandardScaler, MultiLabelBinarizer\n",
    "sb.set()"
   ]
  },
  {
   "cell_type": "code",
   "execution_count": 3,
   "metadata": {},
   "outputs": [
    {
     "data": {
      "text/html": [
       "<pre style=\"white-space:pre;overflow-x:auto;line-height:normal;font-family:Menlo,'DejaVu Sans Mono',consolas,'Courier New',monospace\"><span style=\"color: #7fbfbf; text-decoration-color: #7fbfbf\">[04/02/23 05:15:02] </span><span style=\"color: #000080; text-decoration-color: #000080\">INFO    </span> Loading data from <span style=\"color: #008000; text-decoration-color: #008000\">'kaggle_steam'</span> <span style=\"font-weight: bold\">(</span>CSVDataSet<span style=\"font-weight: bold\">)</span><span style=\"color: #808000; text-decoration-color: #808000\">...</span>                   <a href=\"file:///home/eckt/.local/share/virtualenvs/usg-8_lb1q9f/lib/python3.8/site-packages/kedro/io/data_catalog.py\" target=\"_blank\"><span style=\"color: #7f7f7f; text-decoration-color: #7f7f7f\">data_catalog.py</span></a><span style=\"color: #7f7f7f; text-decoration-color: #7f7f7f\">:</span><a href=\"file:///home/eckt/.local/share/virtualenvs/usg-8_lb1q9f/lib/python3.8/site-packages/kedro/io/data_catalog.py#343\" target=\"_blank\"><span style=\"color: #7f7f7f; text-decoration-color: #7f7f7f\">343</span></a>\n",
       "</pre>\n"
      ],
      "text/plain": [
       "\u001b[2;36m[04/02/23 05:15:02]\u001b[0m\u001b[2;36m \u001b[0m\u001b[34mINFO    \u001b[0m Loading data from \u001b[32m'kaggle_steam'\u001b[0m \u001b[1m(\u001b[0mCSVDataSet\u001b[1m)\u001b[0m\u001b[33m...\u001b[0m                   \u001b]8;id=922477;file:///home/eckt/.local/share/virtualenvs/usg-8_lb1q9f/lib/python3.8/site-packages/kedro/io/data_catalog.py\u001b\\\u001b[2mdata_catalog.py\u001b[0m\u001b]8;;\u001b\\\u001b[2m:\u001b[0m\u001b]8;id=793040;file:///home/eckt/.local/share/virtualenvs/usg-8_lb1q9f/lib/python3.8/site-packages/kedro/io/data_catalog.py#343\u001b\\\u001b[2m343\u001b[0m\u001b]8;;\u001b\\\n"
      ]
     },
     "metadata": {},
     "output_type": "display_data"
    },
    {
     "data": {
      "text/html": [
       "<div>\n",
       "<style scoped>\n",
       "    .dataframe tbody tr th:only-of-type {\n",
       "        vertical-align: middle;\n",
       "    }\n",
       "\n",
       "    .dataframe tbody tr th {\n",
       "        vertical-align: top;\n",
       "    }\n",
       "\n",
       "    .dataframe thead th {\n",
       "        text-align: right;\n",
       "    }\n",
       "</style>\n",
       "<table border=\"1\" class=\"dataframe\">\n",
       "  <thead>\n",
       "    <tr style=\"text-align: right;\">\n",
       "      <th></th>\n",
       "      <th>appid</th>\n",
       "      <th>name</th>\n",
       "      <th>release_date</th>\n",
       "      <th>english</th>\n",
       "      <th>developer</th>\n",
       "      <th>publisher</th>\n",
       "      <th>platforms</th>\n",
       "      <th>required_age</th>\n",
       "      <th>categories</th>\n",
       "      <th>genres</th>\n",
       "      <th>steamspy_tags</th>\n",
       "      <th>achievements</th>\n",
       "      <th>positive_ratings</th>\n",
       "      <th>negative_ratings</th>\n",
       "      <th>average_playtime</th>\n",
       "      <th>median_playtime</th>\n",
       "      <th>owners</th>\n",
       "      <th>price</th>\n",
       "    </tr>\n",
       "  </thead>\n",
       "  <tbody>\n",
       "    <tr>\n",
       "      <th>0</th>\n",
       "      <td>10</td>\n",
       "      <td>Counter-Strike</td>\n",
       "      <td>2000-11-01</td>\n",
       "      <td>1</td>\n",
       "      <td>Valve</td>\n",
       "      <td>Valve</td>\n",
       "      <td>windows;mac;linux</td>\n",
       "      <td>0</td>\n",
       "      <td>Multi-player;Online Multi-Player;Local Multi-P...</td>\n",
       "      <td>Action</td>\n",
       "      <td>Action;FPS;Multiplayer</td>\n",
       "      <td>0</td>\n",
       "      <td>124534</td>\n",
       "      <td>3339</td>\n",
       "      <td>17612</td>\n",
       "      <td>317</td>\n",
       "      <td>10000000-20000000</td>\n",
       "      <td>7.19</td>\n",
       "    </tr>\n",
       "    <tr>\n",
       "      <th>1</th>\n",
       "      <td>20</td>\n",
       "      <td>Team Fortress Classic</td>\n",
       "      <td>1999-04-01</td>\n",
       "      <td>1</td>\n",
       "      <td>Valve</td>\n",
       "      <td>Valve</td>\n",
       "      <td>windows;mac;linux</td>\n",
       "      <td>0</td>\n",
       "      <td>Multi-player;Online Multi-Player;Local Multi-P...</td>\n",
       "      <td>Action</td>\n",
       "      <td>Action;FPS;Multiplayer</td>\n",
       "      <td>0</td>\n",
       "      <td>3318</td>\n",
       "      <td>633</td>\n",
       "      <td>277</td>\n",
       "      <td>62</td>\n",
       "      <td>5000000-10000000</td>\n",
       "      <td>3.99</td>\n",
       "    </tr>\n",
       "    <tr>\n",
       "      <th>2</th>\n",
       "      <td>30</td>\n",
       "      <td>Day of Defeat</td>\n",
       "      <td>2003-05-01</td>\n",
       "      <td>1</td>\n",
       "      <td>Valve</td>\n",
       "      <td>Valve</td>\n",
       "      <td>windows;mac;linux</td>\n",
       "      <td>0</td>\n",
       "      <td>Multi-player;Valve Anti-Cheat enabled</td>\n",
       "      <td>Action</td>\n",
       "      <td>FPS;World War II;Multiplayer</td>\n",
       "      <td>0</td>\n",
       "      <td>3416</td>\n",
       "      <td>398</td>\n",
       "      <td>187</td>\n",
       "      <td>34</td>\n",
       "      <td>5000000-10000000</td>\n",
       "      <td>3.99</td>\n",
       "    </tr>\n",
       "    <tr>\n",
       "      <th>3</th>\n",
       "      <td>40</td>\n",
       "      <td>Deathmatch Classic</td>\n",
       "      <td>2001-06-01</td>\n",
       "      <td>1</td>\n",
       "      <td>Valve</td>\n",
       "      <td>Valve</td>\n",
       "      <td>windows;mac;linux</td>\n",
       "      <td>0</td>\n",
       "      <td>Multi-player;Online Multi-Player;Local Multi-P...</td>\n",
       "      <td>Action</td>\n",
       "      <td>Action;FPS;Multiplayer</td>\n",
       "      <td>0</td>\n",
       "      <td>1273</td>\n",
       "      <td>267</td>\n",
       "      <td>258</td>\n",
       "      <td>184</td>\n",
       "      <td>5000000-10000000</td>\n",
       "      <td>3.99</td>\n",
       "    </tr>\n",
       "    <tr>\n",
       "      <th>4</th>\n",
       "      <td>50</td>\n",
       "      <td>Half-Life: Opposing Force</td>\n",
       "      <td>1999-11-01</td>\n",
       "      <td>1</td>\n",
       "      <td>Gearbox Software</td>\n",
       "      <td>Valve</td>\n",
       "      <td>windows;mac;linux</td>\n",
       "      <td>0</td>\n",
       "      <td>Single-player;Multi-player;Valve Anti-Cheat en...</td>\n",
       "      <td>Action</td>\n",
       "      <td>FPS;Action;Sci-fi</td>\n",
       "      <td>0</td>\n",
       "      <td>5250</td>\n",
       "      <td>288</td>\n",
       "      <td>624</td>\n",
       "      <td>415</td>\n",
       "      <td>5000000-10000000</td>\n",
       "      <td>3.99</td>\n",
       "    </tr>\n",
       "  </tbody>\n",
       "</table>\n",
       "</div>"
      ],
      "text/plain": [
       "   appid                       name release_date  english         developer  \\\n",
       "0     10             Counter-Strike   2000-11-01        1             Valve   \n",
       "1     20      Team Fortress Classic   1999-04-01        1             Valve   \n",
       "2     30              Day of Defeat   2003-05-01        1             Valve   \n",
       "3     40         Deathmatch Classic   2001-06-01        1             Valve   \n",
       "4     50  Half-Life: Opposing Force   1999-11-01        1  Gearbox Software   \n",
       "\n",
       "  publisher          platforms  required_age  \\\n",
       "0     Valve  windows;mac;linux             0   \n",
       "1     Valve  windows;mac;linux             0   \n",
       "2     Valve  windows;mac;linux             0   \n",
       "3     Valve  windows;mac;linux             0   \n",
       "4     Valve  windows;mac;linux             0   \n",
       "\n",
       "                                          categories  genres  \\\n",
       "0  Multi-player;Online Multi-Player;Local Multi-P...  Action   \n",
       "1  Multi-player;Online Multi-Player;Local Multi-P...  Action   \n",
       "2              Multi-player;Valve Anti-Cheat enabled  Action   \n",
       "3  Multi-player;Online Multi-Player;Local Multi-P...  Action   \n",
       "4  Single-player;Multi-player;Valve Anti-Cheat en...  Action   \n",
       "\n",
       "                  steamspy_tags  achievements  positive_ratings  \\\n",
       "0        Action;FPS;Multiplayer             0            124534   \n",
       "1        Action;FPS;Multiplayer             0              3318   \n",
       "2  FPS;World War II;Multiplayer             0              3416   \n",
       "3        Action;FPS;Multiplayer             0              1273   \n",
       "4             FPS;Action;Sci-fi             0              5250   \n",
       "\n",
       "   negative_ratings  average_playtime  median_playtime             owners  \\\n",
       "0              3339             17612              317  10000000-20000000   \n",
       "1               633               277               62   5000000-10000000   \n",
       "2               398               187               34   5000000-10000000   \n",
       "3               267               258              184   5000000-10000000   \n",
       "4               288               624              415   5000000-10000000   \n",
       "\n",
       "   price  \n",
       "0   7.19  \n",
       "1   3.99  \n",
       "2   3.99  \n",
       "3   3.99  \n",
       "4   3.99  "
      ]
     },
     "execution_count": 3,
     "metadata": {},
     "output_type": "execute_result"
    }
   ],
   "source": [
    "kaggle_steam: pd.DataFrame = catalog.load('kaggle_steam')\n",
    "kaggle_steam.head()"
   ]
  },
  {
   "cell_type": "code",
   "execution_count": 4,
   "metadata": {},
   "outputs": [
    {
     "data": {
      "text/plain": [
       "<Axes: xlabel='median_playtime'>"
      ]
     },
     "execution_count": 4,
     "metadata": {},
     "output_type": "execute_result"
    },
    {
     "data": {
      "image/png": "[encoded data removed]",
      "text/plain": [
       "<Figure size 640x480 with 1 Axes>"
      ]
     },
     "metadata": {},
     "output_type": "display_data"
    }
   ],
   "source": [
    "sb.boxplot(data=kaggle_steam, x=\"median_playtime\")"
   ]
  },
  {
   "cell_type": "code",
   "execution_count": 5,
   "metadata": {},
   "outputs": [
    {
     "data": {
      "text/plain": [
       "(27075, 18)"
      ]
     },
     "execution_count": 5,
     "metadata": {},
     "output_type": "execute_result"
    }
   ],
   "source": [
    "kaggle_steam.shape"
   ]
  },
  {
   "cell_type": "code",
   "execution_count": 6,
   "metadata": {},
   "outputs": [
    {
     "data": {
      "text/plain": [
       "<Axes: xlabel='median_playtime', ylabel='Count'>"
      ]
     },
     "execution_count": 6,
     "metadata": {},
     "output_type": "execute_result"
    },
    {
     "data": {
      "image/png": "[encoded data removed]",
      "text/plain": [
       "<Figure size 640x480 with 1 Axes>"
      ]
     },
     "metadata": {},
     "output_type": "display_data"
    }
   ],
   "source": [
    "sb.histplot(data=kaggle_steam[\"median_playtime\"])"
   ]
  },
  {
   "cell_type": "code",
   "execution_count": 7,
   "metadata": {},
   "outputs": [
    {
     "data": {
      "text/plain": [
       "<Axes: xlabel='median_playtime', ylabel='Count'>"
      ]
     },
     "execution_count": 7,
     "metadata": {},
     "output_type": "execute_result"
    },
    {
     "data": {
      "image/png": "[encoded data removed]",
      "text/plain": [
       "<Figure size 640x480 with 1 Axes>"
      ]
     },
     "metadata": {},
     "output_type": "display_data"
    }
   ],
   "source": [
    "median_playtime = kaggle_steam['median_playtime']\n",
    "sb.histplot(data=median_playtime.loc[(median_playtime < 10000)])"
   ]
  },
  {
   "cell_type": "code",
   "execution_count": 8,
   "metadata": {},
   "outputs": [
    {
     "data": {
      "text/plain": [
       "<Axes: xlabel='median_playtime', ylabel='Count'>"
      ]
     },
     "execution_count": 8,
     "metadata": {},
     "output_type": "execute_result"
    },
    {
     "data": {
      "image/png": "[encoded data removed]",
      "text/plain": [
       "<Figure size 640x480 with 1 Axes>"
      ]
     },
     "metadata": {},
     "output_type": "display_data"
    }
   ],
   "source": [
    "sb.histplot(data=median_playtime.loc[(0 < median_playtime) & (median_playtime < 10000)])"
   ]
  },
  {
   "cell_type": "code",
   "execution_count": 9,
   "metadata": {},
   "outputs": [
    {
     "data": {
      "text/plain": [
       "<Axes: >"
      ]
     },
     "execution_count": 9,
     "metadata": {},
     "output_type": "execute_result"
    },
    {
     "data": {
      "image/png": "[encoded data removed]",
      "text/plain": [
       "<Figure size 640x480 with 1 Axes>"
      ]
     },
     "metadata": {},
     "output_type": "display_data"
    }
   ],
   "source": [
    "sb.boxplot(data=kaggle_steam['price'], orient='h')"
   ]
  },
  {
   "cell_type": "code",
   "execution_count": 10,
   "metadata": {},
   "outputs": [
    {
     "data": {
      "text/plain": [
       "<Axes: xlabel='price', ylabel='Count'>"
      ]
     },
     "execution_count": 10,
     "metadata": {},
     "output_type": "execute_result"
    },
    {
     "data": {
      "image/png": "[encoded data removed]",
      "text/plain": [
       "<Figure size 640x480 with 1 Axes>"
      ]
     },
     "metadata": {},
     "output_type": "display_data"
    }
   ],
   "source": [
    "sb.histplot(data=kaggle_steam[kaggle_steam['price'] < 10], x='price', bins=5)"
   ]
  },
  {
   "attachments": {},
   "cell_type": "markdown",
   "metadata": {},
   "source": [
    "# Categorical variables analysis"
   ]
  },
  {
   "attachments": {},
   "cell_type": "markdown",
   "metadata": {},
   "source": [
    "The dataset has **11** categorical variables: `appid`, `name`, `release_date`, `english`, `developer`. `publisher`, `platforms`, `categories`, `genres`, `steamspy_tags` and `owners`."
   ]
  },
  {
   "cell_type": "code",
   "execution_count": 11,
   "metadata": {},
   "outputs": [
    {
     "data": {
      "text/plain": [
       "appid                 int64\n",
       "name                 object\n",
       "release_date         object\n",
       "english               int64\n",
       "developer            object\n",
       "publisher            object\n",
       "platforms            object\n",
       "required_age          int64\n",
       "categories           object\n",
       "genres               object\n",
       "steamspy_tags        object\n",
       "achievements          int64\n",
       "positive_ratings      int64\n",
       "negative_ratings      int64\n",
       "average_playtime      int64\n",
       "median_playtime       int64\n",
       "owners               object\n",
       "price               float64\n",
       "dtype: object"
      ]
     },
     "execution_count": 11,
     "metadata": {},
     "output_type": "execute_result"
    }
   ],
   "source": [
    "kaggle_steam.dtypes"
   ]
  },
  {
   "attachments": {},
   "cell_type": "markdown",
   "metadata": {},
   "source": [
    "We will be examining the following categorical variables to see if we can use them for clustering.\n",
    "\n",
    "- `release_date`\n",
    "- `english`\n",
    "- `platforms`\n",
    "- `categories`\n",
    "- `genres`\n",
    "- `steamspy_tags`\n",
    "- `owners`\n",
    "\n",
    "We omitted:\n",
    "\n",
    "- `app_id` as it is id value, it has no meaning,\n",
    "- `name` is unique per record, hence has no meaning\n",
    "- `developer` is immediately apparent to have many labels, it will increase dimensionality of our data too much and impact our model's performance\n",
    "- `publisher` same as above"
   ]
  },
  {
   "attachments": {},
   "cell_type": "markdown",
   "metadata": {},
   "source": [
    "## Dealing with variables with single class per record"
   ]
  },
  {
   "attachments": {},
   "cell_type": "markdown",
   "metadata": {},
   "source": [
    "We will first look at `release_date`, `english`, and `owners` as each record can only belong to a single class."
   ]
  },
  {
   "attachments": {},
   "cell_type": "markdown",
   "metadata": {},
   "source": [
    "### `release_date`"
   ]
  },
  {
   "cell_type": "code",
   "execution_count": 12,
   "metadata": {},
   "outputs": [
    {
     "data": {
      "text/plain": [
       "2018    8160\n",
       "2017    6357\n",
       "2016    4361\n",
       "2015    2597\n",
       "2019    2213\n",
       "2014    1555\n",
       "2013     418\n",
       "2012     320\n",
       "2009     305\n",
       "2011     239\n",
       "2010     238\n",
       "2008     145\n",
       "2007      93\n",
       "2006      48\n",
       "2005       6\n",
       "2004       6\n",
       "2001       4\n",
       "2003       3\n",
       "2000       2\n",
       "1999       2\n",
       "2002       1\n",
       "1998       1\n",
       "1997       1\n",
       "Name: year, dtype: int64"
      ]
     },
     "execution_count": 12,
     "metadata": {},
     "output_type": "execute_result"
    }
   ],
   "source": [
    "# Since dates are in YYYY-MM-dd format we can just take advantage of this and split on '-' to get the year.\n",
    "\n",
    "kaggle_steam['year'] = kaggle_steam['release_date'].str.split('-').map(lambda x: int(x[0]))\n",
    "kaggle_steam['year'].value_counts()"
   ]
  },
  {
   "attachments": {},
   "cell_type": "markdown",
   "metadata": {},
   "source": [
    "#### Observations\n",
    "\n",
    "We observe that the dataset contains very few games from before 2014. The bulk of the data is from 2014 onwards. Since we have converted this column to numeric, it could be used. It can be true that a game from 1997 is far from 2019 in the sense that times have changed."
   ]
  },
  {
   "cell_type": "code",
   "execution_count": 13,
   "metadata": {},
   "outputs": [
    {
     "data": {
      "text/plain": [
       "<seaborn.axisgrid.FacetGrid at 0x7f6dbb56c2e0>"
      ]
     },
     "execution_count": 13,
     "metadata": {},
     "output_type": "execute_result"
    },
    {
     "data": {
      "image/png": "[encoded data removed]",
      "text/plain": [
       "<Figure size 500x500 with 1 Axes>"
      ]
     },
     "metadata": {},
     "output_type": "display_data"
    }
   ],
   "source": [
    "sb.catplot(data=kaggle_steam, y='year', kind='count')"
   ]
  },
  {
   "attachments": {},
   "cell_type": "markdown",
   "metadata": {},
   "source": [
    "### `english`"
   ]
  },
  {
   "attachments": {},
   "cell_type": "markdown",
   "metadata": {},
   "source": [
    "It is immediately obvious that `english` is not a very good variable. Over `98%` of the data is `english` and thus it likely has limited effect on clustering."
   ]
  },
  {
   "cell_type": "code",
   "execution_count": 14,
   "metadata": {},
   "outputs": [
    {
     "data": {
      "text/plain": [
       "1    0.981127\n",
       "0    0.018873\n",
       "Name: english, dtype: float64"
      ]
     },
     "execution_count": 14,
     "metadata": {},
     "output_type": "execute_result"
    }
   ],
   "source": [
    "kaggle_steam['english'].value_counts() / len(kaggle_steam)"
   ]
  },
  {
   "cell_type": "code",
   "execution_count": 15,
   "metadata": {},
   "outputs": [
    {
     "data": {
      "text/plain": [
       "<seaborn.axisgrid.FacetGrid at 0x7f6dbb8c0820>"
      ]
     },
     "execution_count": 15,
     "metadata": {},
     "output_type": "execute_result"
    },
    {
     "data": {
      "image/png": "[encoded data removed]",
      "text/plain": [
       "<Figure size 500x500 with 1 Axes>"
      ]
     },
     "metadata": {},
     "output_type": "display_data"
    }
   ],
   "source": [
    "sb.catplot(data=kaggle_steam, y='english', kind='count')"
   ]
  },
  {
   "attachments": {},
   "cell_type": "markdown",
   "metadata": {},
   "source": [
    "### `owners`"
   ]
  },
  {
   "cell_type": "code",
   "execution_count": 16,
   "metadata": {},
   "outputs": [
    {
     "data": {
      "text/plain": [
       "4.30103    18596\n",
       "4.69897     3059\n",
       "5.00000     1695\n",
       "5.30103     1386\n",
       "5.69897     1272\n",
       "6.00000      513\n",
       "6.30103      288\n",
       "6.69897      193\n",
       "7.00000       46\n",
       "7.30103       21\n",
       "7.69897        3\n",
       "8.00000        2\n",
       "8.30103        1\n",
       "Name: est_owners, dtype: int64"
      ]
     },
     "execution_count": 16,
     "metadata": {},
     "output_type": "execute_result"
    }
   ],
   "source": [
    "# Take the upper limit as the estimate, then log10\n",
    "kaggle_steam['est_owners'] = kaggle_steam['owners'].str.split('-').map(lambda x: int(x[1])).map(np.log10)\n",
    "kaggle_steam['est_owners'].value_counts()"
   ]
  },
  {
   "attachments": {},
   "cell_type": "markdown",
   "metadata": {},
   "source": [
    "#### Observations\n",
    "\n",
    "We could take different approach to transforming `owners` to numeric. Either via OrdinalEncoder or another method.\n",
    "\n",
    "Since the bracket size isn't even, i.e 20000 -> 50000 is 2.5x but 50000 -> 100000 is 2x only, we decided to use the upper limit instead of encoding them as 0..1..2..3 as it is more representative. We also decided to `log10` to reduce the difference between `20,000` and `100,000,000` because a distance that large can throw off the model. Since this is discrete and non-continuous, the violinplot looks funny."
   ]
  },
  {
   "cell_type": "code",
   "execution_count": 17,
   "metadata": {},
   "outputs": [
    {
     "data": {
      "image/png": "[encoded data removed]",
      "text/plain": [
       "<Figure size 2400x800 with 3 Axes>"
      ]
     },
     "metadata": {},
     "output_type": "display_data"
    }
   ],
   "source": [
    "fig, ax = plt.subplots(1, 3, figsize=(24,8))\n",
    "sb.countplot(data=kaggle_steam, y='owners', order=sorted(kaggle_steam['owners'].unique(), key=lambda x: int(x.split('-')[1])), ax=ax[0])\n",
    "sb.countplot(data=kaggle_steam, y='est_owners', order=kaggle_steam['est_owners'].unique().sort(), ax=ax[1])\n",
    "sb.violinplot(data=kaggle_steam, x='est_owners', ax=ax[2])\n",
    "%matplotlib inline\n"
   ]
  },
  {
   "attachments": {},
   "cell_type": "markdown",
   "metadata": {},
   "source": [
    "## Dealing with variables with multiple classes per record"
   ]
  },
  {
   "attachments": {},
   "cell_type": "markdown",
   "metadata": {},
   "source": [
    "These variables are `platforms`, `categories`, `genres`, `steamspy_tags`, with each class separated by a semicolon (;)."
   ]
  },
  {
   "cell_type": "code",
   "execution_count": 18,
   "metadata": {},
   "outputs": [
    {
     "data": {
      "text/html": [
       "<div>\n",
       "<style scoped>\n",
       "    .dataframe tbody tr th:only-of-type {\n",
       "        vertical-align: middle;\n",
       "    }\n",
       "\n",
       "    .dataframe tbody tr th {\n",
       "        vertical-align: top;\n",
       "    }\n",
       "\n",
       "    .dataframe thead th {\n",
       "        text-align: right;\n",
       "    }\n",
       "</style>\n",
       "<table border=\"1\" class=\"dataframe\">\n",
       "  <thead>\n",
       "    <tr style=\"text-align: right;\">\n",
       "      <th></th>\n",
       "      <th>platforms</th>\n",
       "      <th>categories</th>\n",
       "      <th>genres</th>\n",
       "      <th>steamspy_tags</th>\n",
       "    </tr>\n",
       "  </thead>\n",
       "  <tbody>\n",
       "    <tr>\n",
       "      <th>27074</th>\n",
       "      <td>windows;mac</td>\n",
       "      <td>Single-player;Steam Cloud</td>\n",
       "      <td>Adventure;Casual;Indie</td>\n",
       "      <td>Indie;Casual;Adventure</td>\n",
       "    </tr>\n",
       "  </tbody>\n",
       "</table>\n",
       "</div>"
      ],
      "text/plain": [
       "         platforms                 categories                  genres  \\\n",
       "27074  windows;mac  Single-player;Steam Cloud  Adventure;Casual;Indie   \n",
       "\n",
       "                steamspy_tags  \n",
       "27074  Indie;Casual;Adventure  "
      ]
     },
     "execution_count": 18,
     "metadata": {},
     "output_type": "execute_result"
    }
   ],
   "source": [
    "kaggle_steam[['platforms', 'categories', 'genres', 'steamspy_tags']].tail(1)"
   ]
  },
  {
   "cell_type": "code",
   "execution_count": 19,
   "metadata": {},
   "outputs": [],
   "source": [
    "def describe_categorical_as_onehot(df: pd.DataFrame, X: pd.Series, keep: \"set[str] | 'all'\" = None, sep=';'):\n",
    "  mlb = MultiLabelBinarizer()\n",
    "  x = mlb.fit_transform(X.str.split(sep)).T\n",
    "  print(f\"Column `{X.name}` has {len(mlb.classes_)} unique labels\")\n",
    "  if keep is not None:\n",
    "    for i, category in enumerate(mlb.classes_):\n",
    "      if keep == 'all' or (category in keep):\n",
    "        df[category] = x[i]\n",
    "  return mlb.classes_"
   ]
  },
  {
   "attachments": {},
   "cell_type": "markdown",
   "metadata": {},
   "source": [
    "### `platforms`"
   ]
  },
  {
   "cell_type": "code",
   "execution_count": 20,
   "metadata": {},
   "outputs": [
    {
     "name": "stdout",
     "output_type": "stream",
     "text": [
      "Column `platforms` has 3 unique labels\n"
     ]
    },
    {
     "data": {
      "text/plain": [
       "array(['linux', 'mac', 'windows'], dtype=object)"
      ]
     },
     "execution_count": 20,
     "metadata": {},
     "output_type": "execute_result"
    }
   ],
   "source": [
    "describe_categorical_as_onehot(kaggle_steam, kaggle_steam['platforms'], keep={'windows', 'mac', 'linux'})"
   ]
  },
  {
   "cell_type": "code",
   "execution_count": 21,
   "metadata": {},
   "outputs": [
    {
     "data": {
      "text/html": [
       "<div>\n",
       "<style scoped>\n",
       "    .dataframe tbody tr th:only-of-type {\n",
       "        vertical-align: middle;\n",
       "    }\n",
       "\n",
       "    .dataframe tbody tr th {\n",
       "        vertical-align: top;\n",
       "    }\n",
       "\n",
       "    .dataframe thead th {\n",
       "        text-align: right;\n",
       "    }\n",
       "</style>\n",
       "<table border=\"1\" class=\"dataframe\">\n",
       "  <thead>\n",
       "    <tr style=\"text-align: right;\">\n",
       "      <th></th>\n",
       "      <th>platforms</th>\n",
       "      <th>windows</th>\n",
       "      <th>mac</th>\n",
       "      <th>linux</th>\n",
       "    </tr>\n",
       "  </thead>\n",
       "  <tbody>\n",
       "    <tr>\n",
       "      <th>0</th>\n",
       "      <td>windows;mac;linux</td>\n",
       "      <td>1</td>\n",
       "      <td>1</td>\n",
       "      <td>1</td>\n",
       "    </tr>\n",
       "    <tr>\n",
       "      <th>1</th>\n",
       "      <td>windows;mac;linux</td>\n",
       "      <td>1</td>\n",
       "      <td>1</td>\n",
       "      <td>1</td>\n",
       "    </tr>\n",
       "    <tr>\n",
       "      <th>2</th>\n",
       "      <td>windows;mac;linux</td>\n",
       "      <td>1</td>\n",
       "      <td>1</td>\n",
       "      <td>1</td>\n",
       "    </tr>\n",
       "    <tr>\n",
       "      <th>3</th>\n",
       "      <td>windows;mac;linux</td>\n",
       "      <td>1</td>\n",
       "      <td>1</td>\n",
       "      <td>1</td>\n",
       "    </tr>\n",
       "    <tr>\n",
       "      <th>4</th>\n",
       "      <td>windows;mac;linux</td>\n",
       "      <td>1</td>\n",
       "      <td>1</td>\n",
       "      <td>1</td>\n",
       "    </tr>\n",
       "    <tr>\n",
       "      <th>...</th>\n",
       "      <td>...</td>\n",
       "      <td>...</td>\n",
       "      <td>...</td>\n",
       "      <td>...</td>\n",
       "    </tr>\n",
       "    <tr>\n",
       "      <th>27070</th>\n",
       "      <td>windows</td>\n",
       "      <td>1</td>\n",
       "      <td>0</td>\n",
       "      <td>0</td>\n",
       "    </tr>\n",
       "    <tr>\n",
       "      <th>27071</th>\n",
       "      <td>windows</td>\n",
       "      <td>1</td>\n",
       "      <td>0</td>\n",
       "      <td>0</td>\n",
       "    </tr>\n",
       "    <tr>\n",
       "      <th>27072</th>\n",
       "      <td>windows</td>\n",
       "      <td>1</td>\n",
       "      <td>0</td>\n",
       "      <td>0</td>\n",
       "    </tr>\n",
       "    <tr>\n",
       "      <th>27073</th>\n",
       "      <td>windows;mac</td>\n",
       "      <td>1</td>\n",
       "      <td>1</td>\n",
       "      <td>0</td>\n",
       "    </tr>\n",
       "    <tr>\n",
       "      <th>27074</th>\n",
       "      <td>windows;mac</td>\n",
       "      <td>1</td>\n",
       "      <td>1</td>\n",
       "      <td>0</td>\n",
       "    </tr>\n",
       "  </tbody>\n",
       "</table>\n",
       "<p>27075 rows × 4 columns</p>\n",
       "</div>"
      ],
      "text/plain": [
       "               platforms  windows  mac  linux\n",
       "0      windows;mac;linux        1    1      1\n",
       "1      windows;mac;linux        1    1      1\n",
       "2      windows;mac;linux        1    1      1\n",
       "3      windows;mac;linux        1    1      1\n",
       "4      windows;mac;linux        1    1      1\n",
       "...                  ...      ...  ...    ...\n",
       "27070            windows        1    0      0\n",
       "27071            windows        1    0      0\n",
       "27072            windows        1    0      0\n",
       "27073        windows;mac        1    1      0\n",
       "27074        windows;mac        1    1      0\n",
       "\n",
       "[27075 rows x 4 columns]"
      ]
     },
     "execution_count": 21,
     "metadata": {},
     "output_type": "execute_result"
    }
   ],
   "source": [
    "kaggle_steam[[\"platforms\", \"windows\", \"mac\", \"linux\"]]"
   ]
  },
  {
   "cell_type": "code",
   "execution_count": 22,
   "metadata": {},
   "outputs": [
    {
     "data": {
      "text/plain": [
       "windows    0.999815\n",
       "mac        0.297913\n",
       "linux      0.193352\n",
       "dtype: float64"
      ]
     },
     "execution_count": 22,
     "metadata": {},
     "output_type": "execute_result"
    }
   ],
   "source": [
    "kaggle_steam[['windows', 'mac', 'linux']].sum() / len(kaggle_steam)"
   ]
  },
  {
   "attachments": {},
   "cell_type": "markdown",
   "metadata": {},
   "source": [
    "#### Observations\n",
    "\n",
    "`99.98%` of all games support windows, it is the most ubiquitous platform, so it is probably not the most useful."
   ]
  },
  {
   "cell_type": "code",
   "execution_count": 23,
   "metadata": {},
   "outputs": [
    {
     "data": {
      "text/plain": [
       "<Axes: ylabel='count'>"
      ]
     },
     "execution_count": 23,
     "metadata": {},
     "output_type": "execute_result"
    },
    {
     "data": {
      "image/png": "[encoded data removed]",
      "text/plain": [
       "<Figure size 640x480 with 1 Axes>"
      ]
     },
     "metadata": {},
     "output_type": "display_data"
    }
   ],
   "source": [
    "q = kaggle_steam[['windows', 'mac', 'linux']].sum().to_frame(name='count')\n",
    "sb.barplot(x=q.index, y=q['count'])"
   ]
  },
  {
   "attachments": {},
   "cell_type": "markdown",
   "metadata": {},
   "source": [
    "### `categories`"
   ]
  },
  {
   "attachments": {},
   "cell_type": "markdown",
   "metadata": {},
   "source": [
    "We also created a `num_categories` column."
   ]
  },
  {
   "cell_type": "code",
   "execution_count": 24,
   "metadata": {},
   "outputs": [
    {
     "data": {
      "text/plain": [
       "0        4\n",
       "1        4\n",
       "2        2\n",
       "3        4\n",
       "4        3\n",
       "        ..\n",
       "27070    2\n",
       "27071    1\n",
       "27072    7\n",
       "27073    2\n",
       "27074    2\n",
       "Name: num_categories, Length: 27075, dtype: int64"
      ]
     },
     "execution_count": 24,
     "metadata": {},
     "output_type": "execute_result"
    }
   ],
   "source": [
    "kaggle_steam['num_categories'] = kaggle_steam['categories'].str.split(';').map(len)\n",
    "kaggle_steam['num_categories']"
   ]
  },
  {
   "cell_type": "code",
   "execution_count": 25,
   "metadata": {},
   "outputs": [
    {
     "name": "stdout",
     "output_type": "stream",
     "text": [
      "Column `categories` has 29 unique labels\n"
     ]
    },
    {
     "data": {
      "text/plain": [
       "array(['Captions available', 'Co-op', 'Commentary available',\n",
       "       'Cross-Platform Multiplayer', 'Full controller support',\n",
       "       'In-App Purchases', 'Includes Source SDK', 'Includes level editor',\n",
       "       'Local Co-op', 'Local Multi-Player', 'MMO', 'Mods',\n",
       "       'Mods (require HL2)', 'Multi-player', 'Online Co-op',\n",
       "       'Online Multi-Player', 'Partial Controller Support',\n",
       "       'Shared/Split Screen', 'Single-player', 'Stats',\n",
       "       'Steam Achievements', 'Steam Cloud', 'Steam Leaderboards',\n",
       "       'Steam Trading Cards', 'Steam Turn Notifications',\n",
       "       'Steam Workshop', 'SteamVR Collectibles', 'VR Support',\n",
       "       'Valve Anti-Cheat enabled'], dtype=object)"
      ]
     },
     "execution_count": 25,
     "metadata": {},
     "output_type": "execute_result"
    }
   ],
   "source": [
    "categories_df = pd.DataFrame(np.arange(0, len(kaggle_steam))).drop(labels=0, axis=1)\n",
    "describe_categorical_as_onehot(categories_df, kaggle_steam['categories'], keep='all')"
   ]
  },
  {
   "cell_type": "code",
   "execution_count": 26,
   "metadata": {},
   "outputs": [
    {
     "data": {
      "text/html": [
       "<div>\n",
       "<style scoped>\n",
       "    .dataframe tbody tr th:only-of-type {\n",
       "        vertical-align: middle;\n",
       "    }\n",
       "\n",
       "    .dataframe tbody tr th {\n",
       "        vertical-align: top;\n",
       "    }\n",
       "\n",
       "    .dataframe thead th {\n",
       "        text-align: right;\n",
       "    }\n",
       "</style>\n",
       "<table border=\"1\" class=\"dataframe\">\n",
       "  <thead>\n",
       "    <tr style=\"text-align: right;\">\n",
       "      <th></th>\n",
       "      <th>appid</th>\n",
       "      <th>name</th>\n",
       "      <th>release_date</th>\n",
       "      <th>english</th>\n",
       "      <th>developer</th>\n",
       "      <th>publisher</th>\n",
       "      <th>platforms</th>\n",
       "      <th>required_age</th>\n",
       "      <th>categories</th>\n",
       "      <th>genres</th>\n",
       "      <th>...</th>\n",
       "      <th>Stats</th>\n",
       "      <th>Steam Achievements</th>\n",
       "      <th>Steam Cloud</th>\n",
       "      <th>Steam Leaderboards</th>\n",
       "      <th>Steam Trading Cards</th>\n",
       "      <th>Steam Turn Notifications</th>\n",
       "      <th>Steam Workshop</th>\n",
       "      <th>SteamVR Collectibles</th>\n",
       "      <th>VR Support</th>\n",
       "      <th>Valve Anti-Cheat enabled</th>\n",
       "    </tr>\n",
       "  </thead>\n",
       "  <tbody>\n",
       "    <tr>\n",
       "      <th>0</th>\n",
       "      <td>10</td>\n",
       "      <td>Counter-Strike</td>\n",
       "      <td>2000-11-01</td>\n",
       "      <td>1</td>\n",
       "      <td>Valve</td>\n",
       "      <td>Valve</td>\n",
       "      <td>windows;mac;linux</td>\n",
       "      <td>0</td>\n",
       "      <td>Multi-player;Online Multi-Player;Local Multi-P...</td>\n",
       "      <td>Action</td>\n",
       "      <td>...</td>\n",
       "      <td>0</td>\n",
       "      <td>0</td>\n",
       "      <td>0</td>\n",
       "      <td>0</td>\n",
       "      <td>0</td>\n",
       "      <td>0</td>\n",
       "      <td>0</td>\n",
       "      <td>0</td>\n",
       "      <td>0</td>\n",
       "      <td>1</td>\n",
       "    </tr>\n",
       "    <tr>\n",
       "      <th>1</th>\n",
       "      <td>20</td>\n",
       "      <td>Team Fortress Classic</td>\n",
       "      <td>1999-04-01</td>\n",
       "      <td>1</td>\n",
       "      <td>Valve</td>\n",
       "      <td>Valve</td>\n",
       "      <td>windows;mac;linux</td>\n",
       "      <td>0</td>\n",
       "      <td>Multi-player;Online Multi-Player;Local Multi-P...</td>\n",
       "      <td>Action</td>\n",
       "      <td>...</td>\n",
       "      <td>0</td>\n",
       "      <td>0</td>\n",
       "      <td>0</td>\n",
       "      <td>0</td>\n",
       "      <td>0</td>\n",
       "      <td>0</td>\n",
       "      <td>0</td>\n",
       "      <td>0</td>\n",
       "      <td>0</td>\n",
       "      <td>1</td>\n",
       "    </tr>\n",
       "    <tr>\n",
       "      <th>2</th>\n",
       "      <td>30</td>\n",
       "      <td>Day of Defeat</td>\n",
       "      <td>2003-05-01</td>\n",
       "      <td>1</td>\n",
       "      <td>Valve</td>\n",
       "      <td>Valve</td>\n",
       "      <td>windows;mac;linux</td>\n",
       "      <td>0</td>\n",
       "      <td>Multi-player;Valve Anti-Cheat enabled</td>\n",
       "      <td>Action</td>\n",
       "      <td>...</td>\n",
       "      <td>0</td>\n",
       "      <td>0</td>\n",
       "      <td>0</td>\n",
       "      <td>0</td>\n",
       "      <td>0</td>\n",
       "      <td>0</td>\n",
       "      <td>0</td>\n",
       "      <td>0</td>\n",
       "      <td>0</td>\n",
       "      <td>1</td>\n",
       "    </tr>\n",
       "    <tr>\n",
       "      <th>3</th>\n",
       "      <td>40</td>\n",
       "      <td>Deathmatch Classic</td>\n",
       "      <td>2001-06-01</td>\n",
       "      <td>1</td>\n",
       "      <td>Valve</td>\n",
       "      <td>Valve</td>\n",
       "      <td>windows;mac;linux</td>\n",
       "      <td>0</td>\n",
       "      <td>Multi-player;Online Multi-Player;Local Multi-P...</td>\n",
       "      <td>Action</td>\n",
       "      <td>...</td>\n",
       "      <td>0</td>\n",
       "      <td>0</td>\n",
       "      <td>0</td>\n",
       "      <td>0</td>\n",
       "      <td>0</td>\n",
       "      <td>0</td>\n",
       "      <td>0</td>\n",
       "      <td>0</td>\n",
       "      <td>0</td>\n",
       "      <td>1</td>\n",
       "    </tr>\n",
       "    <tr>\n",
       "      <th>4</th>\n",
       "      <td>50</td>\n",
       "      <td>Half-Life: Opposing Force</td>\n",
       "      <td>1999-11-01</td>\n",
       "      <td>1</td>\n",
       "      <td>Gearbox Software</td>\n",
       "      <td>Valve</td>\n",
       "      <td>windows;mac;linux</td>\n",
       "      <td>0</td>\n",
       "      <td>Single-player;Multi-player;Valve Anti-Cheat en...</td>\n",
       "      <td>Action</td>\n",
       "      <td>...</td>\n",
       "      <td>0</td>\n",
       "      <td>0</td>\n",
       "      <td>0</td>\n",
       "      <td>0</td>\n",
       "      <td>0</td>\n",
       "      <td>0</td>\n",
       "      <td>0</td>\n",
       "      <td>0</td>\n",
       "      <td>0</td>\n",
       "      <td>1</td>\n",
       "    </tr>\n",
       "    <tr>\n",
       "      <th>...</th>\n",
       "      <td>...</td>\n",
       "      <td>...</td>\n",
       "      <td>...</td>\n",
       "      <td>...</td>\n",
       "      <td>...</td>\n",
       "      <td>...</td>\n",
       "      <td>...</td>\n",
       "      <td>...</td>\n",
       "      <td>...</td>\n",
       "      <td>...</td>\n",
       "      <td>...</td>\n",
       "      <td>...</td>\n",
       "      <td>...</td>\n",
       "      <td>...</td>\n",
       "      <td>...</td>\n",
       "      <td>...</td>\n",
       "      <td>...</td>\n",
       "      <td>...</td>\n",
       "      <td>...</td>\n",
       "      <td>...</td>\n",
       "      <td>...</td>\n",
       "    </tr>\n",
       "    <tr>\n",
       "      <th>27070</th>\n",
       "      <td>1065230</td>\n",
       "      <td>Room of Pandora</td>\n",
       "      <td>2019-04-24</td>\n",
       "      <td>1</td>\n",
       "      <td>SHEN JIAWEI</td>\n",
       "      <td>SHEN JIAWEI</td>\n",
       "      <td>windows</td>\n",
       "      <td>0</td>\n",
       "      <td>Single-player;Steam Achievements</td>\n",
       "      <td>Adventure;Casual;Indie</td>\n",
       "      <td>...</td>\n",
       "      <td>0</td>\n",
       "      <td>1</td>\n",
       "      <td>0</td>\n",
       "      <td>0</td>\n",
       "      <td>0</td>\n",
       "      <td>0</td>\n",
       "      <td>0</td>\n",
       "      <td>0</td>\n",
       "      <td>0</td>\n",
       "      <td>0</td>\n",
       "    </tr>\n",
       "    <tr>\n",
       "      <th>27071</th>\n",
       "      <td>1065570</td>\n",
       "      <td>Cyber Gun</td>\n",
       "      <td>2019-04-23</td>\n",
       "      <td>1</td>\n",
       "      <td>Semyon Maximov</td>\n",
       "      <td>BekkerDev Studio</td>\n",
       "      <td>windows</td>\n",
       "      <td>0</td>\n",
       "      <td>Single-player</td>\n",
       "      <td>Action;Adventure;Indie</td>\n",
       "      <td>...</td>\n",
       "      <td>0</td>\n",
       "      <td>0</td>\n",
       "      <td>0</td>\n",
       "      <td>0</td>\n",
       "      <td>0</td>\n",
       "      <td>0</td>\n",
       "      <td>0</td>\n",
       "      <td>0</td>\n",
       "      <td>0</td>\n",
       "      <td>0</td>\n",
       "    </tr>\n",
       "    <tr>\n",
       "      <th>27072</th>\n",
       "      <td>1065650</td>\n",
       "      <td>Super Star Blast</td>\n",
       "      <td>2019-04-24</td>\n",
       "      <td>1</td>\n",
       "      <td>EntwicklerX</td>\n",
       "      <td>EntwicklerX</td>\n",
       "      <td>windows</td>\n",
       "      <td>0</td>\n",
       "      <td>Single-player;Multi-player;Co-op;Shared/Split ...</td>\n",
       "      <td>Action;Casual;Indie</td>\n",
       "      <td>...</td>\n",
       "      <td>0</td>\n",
       "      <td>1</td>\n",
       "      <td>1</td>\n",
       "      <td>0</td>\n",
       "      <td>0</td>\n",
       "      <td>0</td>\n",
       "      <td>0</td>\n",
       "      <td>0</td>\n",
       "      <td>0</td>\n",
       "      <td>0</td>\n",
       "    </tr>\n",
       "    <tr>\n",
       "      <th>27073</th>\n",
       "      <td>1066700</td>\n",
       "      <td>New Yankee 7: Deer Hunters</td>\n",
       "      <td>2019-04-17</td>\n",
       "      <td>1</td>\n",
       "      <td>Yustas Game Studio</td>\n",
       "      <td>Alawar Entertainment</td>\n",
       "      <td>windows;mac</td>\n",
       "      <td>0</td>\n",
       "      <td>Single-player;Steam Cloud</td>\n",
       "      <td>Adventure;Casual;Indie</td>\n",
       "      <td>...</td>\n",
       "      <td>0</td>\n",
       "      <td>0</td>\n",
       "      <td>1</td>\n",
       "      <td>0</td>\n",
       "      <td>0</td>\n",
       "      <td>0</td>\n",
       "      <td>0</td>\n",
       "      <td>0</td>\n",
       "      <td>0</td>\n",
       "      <td>0</td>\n",
       "    </tr>\n",
       "    <tr>\n",
       "      <th>27074</th>\n",
       "      <td>1069460</td>\n",
       "      <td>Rune Lord</td>\n",
       "      <td>2019-04-24</td>\n",
       "      <td>1</td>\n",
       "      <td>Adept Studios GD</td>\n",
       "      <td>Alawar Entertainment</td>\n",
       "      <td>windows;mac</td>\n",
       "      <td>0</td>\n",
       "      <td>Single-player;Steam Cloud</td>\n",
       "      <td>Adventure;Casual;Indie</td>\n",
       "      <td>...</td>\n",
       "      <td>0</td>\n",
       "      <td>0</td>\n",
       "      <td>1</td>\n",
       "      <td>0</td>\n",
       "      <td>0</td>\n",
       "      <td>0</td>\n",
       "      <td>0</td>\n",
       "      <td>0</td>\n",
       "      <td>0</td>\n",
       "      <td>0</td>\n",
       "    </tr>\n",
       "  </tbody>\n",
       "</table>\n",
       "<p>27075 rows × 53 columns</p>\n",
       "</div>"
      ],
      "text/plain": [
       "         appid                        name release_date  english  \\\n",
       "0           10              Counter-Strike   2000-11-01        1   \n",
       "1           20       Team Fortress Classic   1999-04-01        1   \n",
       "2           30               Day of Defeat   2003-05-01        1   \n",
       "3           40          Deathmatch Classic   2001-06-01        1   \n",
       "4           50   Half-Life: Opposing Force   1999-11-01        1   \n",
       "...        ...                         ...          ...      ...   \n",
       "27070  1065230             Room of Pandora   2019-04-24        1   \n",
       "27071  1065570                   Cyber Gun   2019-04-23        1   \n",
       "27072  1065650            Super Star Blast   2019-04-24        1   \n",
       "27073  1066700  New Yankee 7: Deer Hunters   2019-04-17        1   \n",
       "27074  1069460                   Rune Lord   2019-04-24        1   \n",
       "\n",
       "                developer             publisher          platforms  \\\n",
       "0                   Valve                 Valve  windows;mac;linux   \n",
       "1                   Valve                 Valve  windows;mac;linux   \n",
       "2                   Valve                 Valve  windows;mac;linux   \n",
       "3                   Valve                 Valve  windows;mac;linux   \n",
       "4        Gearbox Software                 Valve  windows;mac;linux   \n",
       "...                   ...                   ...                ...   \n",
       "27070         SHEN JIAWEI           SHEN JIAWEI            windows   \n",
       "27071      Semyon Maximov      BekkerDev Studio            windows   \n",
       "27072         EntwicklerX           EntwicklerX            windows   \n",
       "27073  Yustas Game Studio  Alawar Entertainment        windows;mac   \n",
       "27074    Adept Studios GD  Alawar Entertainment        windows;mac   \n",
       "\n",
       "       required_age                                         categories  \\\n",
       "0                 0  Multi-player;Online Multi-Player;Local Multi-P...   \n",
       "1                 0  Multi-player;Online Multi-Player;Local Multi-P...   \n",
       "2                 0              Multi-player;Valve Anti-Cheat enabled   \n",
       "3                 0  Multi-player;Online Multi-Player;Local Multi-P...   \n",
       "4                 0  Single-player;Multi-player;Valve Anti-Cheat en...   \n",
       "...             ...                                                ...   \n",
       "27070             0                   Single-player;Steam Achievements   \n",
       "27071             0                                      Single-player   \n",
       "27072             0  Single-player;Multi-player;Co-op;Shared/Split ...   \n",
       "27073             0                          Single-player;Steam Cloud   \n",
       "27074             0                          Single-player;Steam Cloud   \n",
       "\n",
       "                       genres  ... Stats  Steam Achievements  Steam Cloud  \\\n",
       "0                      Action  ...     0                   0            0   \n",
       "1                      Action  ...     0                   0            0   \n",
       "2                      Action  ...     0                   0            0   \n",
       "3                      Action  ...     0                   0            0   \n",
       "4                      Action  ...     0                   0            0   \n",
       "...                       ...  ...   ...                 ...          ...   \n",
       "27070  Adventure;Casual;Indie  ...     0                   1            0   \n",
       "27071  Action;Adventure;Indie  ...     0                   0            0   \n",
       "27072     Action;Casual;Indie  ...     0                   1            1   \n",
       "27073  Adventure;Casual;Indie  ...     0                   0            1   \n",
       "27074  Adventure;Casual;Indie  ...     0                   0            1   \n",
       "\n",
       "       Steam Leaderboards  Steam Trading Cards  Steam Turn Notifications  \\\n",
       "0                       0                    0                         0   \n",
       "1                       0                    0                         0   \n",
       "2                       0                    0                         0   \n",
       "3                       0                    0                         0   \n",
       "4                       0                    0                         0   \n",
       "...                   ...                  ...                       ...   \n",
       "27070                   0                    0                         0   \n",
       "27071                   0                    0                         0   \n",
       "27072                   0                    0                         0   \n",
       "27073                   0                    0                         0   \n",
       "27074                   0                    0                         0   \n",
       "\n",
       "      Steam Workshop  SteamVR Collectibles  VR Support  \\\n",
       "0                  0                     0           0   \n",
       "1                  0                     0           0   \n",
       "2                  0                     0           0   \n",
       "3                  0                     0           0   \n",
       "4                  0                     0           0   \n",
       "...              ...                   ...         ...   \n",
       "27070              0                     0           0   \n",
       "27071              0                     0           0   \n",
       "27072              0                     0           0   \n",
       "27073              0                     0           0   \n",
       "27074              0                     0           0   \n",
       "\n",
       "       Valve Anti-Cheat enabled  \n",
       "0                             1  \n",
       "1                             1  \n",
       "2                             1  \n",
       "3                             1  \n",
       "4                             1  \n",
       "...                         ...  \n",
       "27070                         0  \n",
       "27071                         0  \n",
       "27072                         0  \n",
       "27073                         0  \n",
       "27074                         0  \n",
       "\n",
       "[27075 rows x 53 columns]"
      ]
     },
     "execution_count": 26,
     "metadata": {},
     "output_type": "execute_result"
    }
   ],
   "source": [
    "pd.concat([kaggle_steam, categories_df], axis=1)"
   ]
  },
  {
   "cell_type": "code",
   "execution_count": 27,
   "metadata": {},
   "outputs": [
    {
     "data": {
      "text/html": [
       "<div>\n",
       "<style scoped>\n",
       "    .dataframe tbody tr th:only-of-type {\n",
       "        vertical-align: middle;\n",
       "    }\n",
       "\n",
       "    .dataframe tbody tr th {\n",
       "        vertical-align: top;\n",
       "    }\n",
       "\n",
       "    .dataframe thead th {\n",
       "        text-align: right;\n",
       "    }\n",
       "</style>\n",
       "<table border=\"1\" class=\"dataframe\">\n",
       "  <thead>\n",
       "    <tr style=\"text-align: right;\">\n",
       "      <th></th>\n",
       "      <th>Captions available</th>\n",
       "      <th>Co-op</th>\n",
       "      <th>Commentary available</th>\n",
       "      <th>Cross-Platform Multiplayer</th>\n",
       "      <th>Full controller support</th>\n",
       "      <th>In-App Purchases</th>\n",
       "      <th>Includes Source SDK</th>\n",
       "      <th>Includes level editor</th>\n",
       "      <th>Local Co-op</th>\n",
       "      <th>Local Multi-Player</th>\n",
       "      <th>...</th>\n",
       "      <th>Stats</th>\n",
       "      <th>Steam Achievements</th>\n",
       "      <th>Steam Cloud</th>\n",
       "      <th>Steam Leaderboards</th>\n",
       "      <th>Steam Trading Cards</th>\n",
       "      <th>Steam Turn Notifications</th>\n",
       "      <th>Steam Workshop</th>\n",
       "      <th>SteamVR Collectibles</th>\n",
       "      <th>VR Support</th>\n",
       "      <th>Valve Anti-Cheat enabled</th>\n",
       "    </tr>\n",
       "  </thead>\n",
       "  <tbody>\n",
       "    <tr>\n",
       "      <th>0</th>\n",
       "      <td>0</td>\n",
       "      <td>0</td>\n",
       "      <td>0</td>\n",
       "      <td>0</td>\n",
       "      <td>0</td>\n",
       "      <td>0</td>\n",
       "      <td>0</td>\n",
       "      <td>0</td>\n",
       "      <td>0</td>\n",
       "      <td>1</td>\n",
       "      <td>...</td>\n",
       "      <td>0</td>\n",
       "      <td>0</td>\n",
       "      <td>0</td>\n",
       "      <td>0</td>\n",
       "      <td>0</td>\n",
       "      <td>0</td>\n",
       "      <td>0</td>\n",
       "      <td>0</td>\n",
       "      <td>0</td>\n",
       "      <td>1</td>\n",
       "    </tr>\n",
       "    <tr>\n",
       "      <th>1</th>\n",
       "      <td>0</td>\n",
       "      <td>0</td>\n",
       "      <td>0</td>\n",
       "      <td>0</td>\n",
       "      <td>0</td>\n",
       "      <td>0</td>\n",
       "      <td>0</td>\n",
       "      <td>0</td>\n",
       "      <td>0</td>\n",
       "      <td>1</td>\n",
       "      <td>...</td>\n",
       "      <td>0</td>\n",
       "      <td>0</td>\n",
       "      <td>0</td>\n",
       "      <td>0</td>\n",
       "      <td>0</td>\n",
       "      <td>0</td>\n",
       "      <td>0</td>\n",
       "      <td>0</td>\n",
       "      <td>0</td>\n",
       "      <td>1</td>\n",
       "    </tr>\n",
       "    <tr>\n",
       "      <th>2</th>\n",
       "      <td>0</td>\n",
       "      <td>0</td>\n",
       "      <td>0</td>\n",
       "      <td>0</td>\n",
       "      <td>0</td>\n",
       "      <td>0</td>\n",
       "      <td>0</td>\n",
       "      <td>0</td>\n",
       "      <td>0</td>\n",
       "      <td>0</td>\n",
       "      <td>...</td>\n",
       "      <td>0</td>\n",
       "      <td>0</td>\n",
       "      <td>0</td>\n",
       "      <td>0</td>\n",
       "      <td>0</td>\n",
       "      <td>0</td>\n",
       "      <td>0</td>\n",
       "      <td>0</td>\n",
       "      <td>0</td>\n",
       "      <td>1</td>\n",
       "    </tr>\n",
       "    <tr>\n",
       "      <th>3</th>\n",
       "      <td>0</td>\n",
       "      <td>0</td>\n",
       "      <td>0</td>\n",
       "      <td>0</td>\n",
       "      <td>0</td>\n",
       "      <td>0</td>\n",
       "      <td>0</td>\n",
       "      <td>0</td>\n",
       "      <td>0</td>\n",
       "      <td>1</td>\n",
       "      <td>...</td>\n",
       "      <td>0</td>\n",
       "      <td>0</td>\n",
       "      <td>0</td>\n",
       "      <td>0</td>\n",
       "      <td>0</td>\n",
       "      <td>0</td>\n",
       "      <td>0</td>\n",
       "      <td>0</td>\n",
       "      <td>0</td>\n",
       "      <td>1</td>\n",
       "    </tr>\n",
       "    <tr>\n",
       "      <th>4</th>\n",
       "      <td>0</td>\n",
       "      <td>0</td>\n",
       "      <td>0</td>\n",
       "      <td>0</td>\n",
       "      <td>0</td>\n",
       "      <td>0</td>\n",
       "      <td>0</td>\n",
       "      <td>0</td>\n",
       "      <td>0</td>\n",
       "      <td>0</td>\n",
       "      <td>...</td>\n",
       "      <td>0</td>\n",
       "      <td>0</td>\n",
       "      <td>0</td>\n",
       "      <td>0</td>\n",
       "      <td>0</td>\n",
       "      <td>0</td>\n",
       "      <td>0</td>\n",
       "      <td>0</td>\n",
       "      <td>0</td>\n",
       "      <td>1</td>\n",
       "    </tr>\n",
       "    <tr>\n",
       "      <th>...</th>\n",
       "      <td>...</td>\n",
       "      <td>...</td>\n",
       "      <td>...</td>\n",
       "      <td>...</td>\n",
       "      <td>...</td>\n",
       "      <td>...</td>\n",
       "      <td>...</td>\n",
       "      <td>...</td>\n",
       "      <td>...</td>\n",
       "      <td>...</td>\n",
       "      <td>...</td>\n",
       "      <td>...</td>\n",
       "      <td>...</td>\n",
       "      <td>...</td>\n",
       "      <td>...</td>\n",
       "      <td>...</td>\n",
       "      <td>...</td>\n",
       "      <td>...</td>\n",
       "      <td>...</td>\n",
       "      <td>...</td>\n",
       "      <td>...</td>\n",
       "    </tr>\n",
       "    <tr>\n",
       "      <th>27070</th>\n",
       "      <td>0</td>\n",
       "      <td>0</td>\n",
       "      <td>0</td>\n",
       "      <td>0</td>\n",
       "      <td>0</td>\n",
       "      <td>0</td>\n",
       "      <td>0</td>\n",
       "      <td>0</td>\n",
       "      <td>0</td>\n",
       "      <td>0</td>\n",
       "      <td>...</td>\n",
       "      <td>0</td>\n",
       "      <td>1</td>\n",
       "      <td>0</td>\n",
       "      <td>0</td>\n",
       "      <td>0</td>\n",
       "      <td>0</td>\n",
       "      <td>0</td>\n",
       "      <td>0</td>\n",
       "      <td>0</td>\n",
       "      <td>0</td>\n",
       "    </tr>\n",
       "    <tr>\n",
       "      <th>27071</th>\n",
       "      <td>0</td>\n",
       "      <td>0</td>\n",
       "      <td>0</td>\n",
       "      <td>0</td>\n",
       "      <td>0</td>\n",
       "      <td>0</td>\n",
       "      <td>0</td>\n",
       "      <td>0</td>\n",
       "      <td>0</td>\n",
       "      <td>0</td>\n",
       "      <td>...</td>\n",
       "      <td>0</td>\n",
       "      <td>0</td>\n",
       "      <td>0</td>\n",
       "      <td>0</td>\n",
       "      <td>0</td>\n",
       "      <td>0</td>\n",
       "      <td>0</td>\n",
       "      <td>0</td>\n",
       "      <td>0</td>\n",
       "      <td>0</td>\n",
       "    </tr>\n",
       "    <tr>\n",
       "      <th>27072</th>\n",
       "      <td>0</td>\n",
       "      <td>1</td>\n",
       "      <td>0</td>\n",
       "      <td>0</td>\n",
       "      <td>1</td>\n",
       "      <td>0</td>\n",
       "      <td>0</td>\n",
       "      <td>0</td>\n",
       "      <td>0</td>\n",
       "      <td>0</td>\n",
       "      <td>...</td>\n",
       "      <td>0</td>\n",
       "      <td>1</td>\n",
       "      <td>1</td>\n",
       "      <td>0</td>\n",
       "      <td>0</td>\n",
       "      <td>0</td>\n",
       "      <td>0</td>\n",
       "      <td>0</td>\n",
       "      <td>0</td>\n",
       "      <td>0</td>\n",
       "    </tr>\n",
       "    <tr>\n",
       "      <th>27073</th>\n",
       "      <td>0</td>\n",
       "      <td>0</td>\n",
       "      <td>0</td>\n",
       "      <td>0</td>\n",
       "      <td>0</td>\n",
       "      <td>0</td>\n",
       "      <td>0</td>\n",
       "      <td>0</td>\n",
       "      <td>0</td>\n",
       "      <td>0</td>\n",
       "      <td>...</td>\n",
       "      <td>0</td>\n",
       "      <td>0</td>\n",
       "      <td>1</td>\n",
       "      <td>0</td>\n",
       "      <td>0</td>\n",
       "      <td>0</td>\n",
       "      <td>0</td>\n",
       "      <td>0</td>\n",
       "      <td>0</td>\n",
       "      <td>0</td>\n",
       "    </tr>\n",
       "    <tr>\n",
       "      <th>27074</th>\n",
       "      <td>0</td>\n",
       "      <td>0</td>\n",
       "      <td>0</td>\n",
       "      <td>0</td>\n",
       "      <td>0</td>\n",
       "      <td>0</td>\n",
       "      <td>0</td>\n",
       "      <td>0</td>\n",
       "      <td>0</td>\n",
       "      <td>0</td>\n",
       "      <td>...</td>\n",
       "      <td>0</td>\n",
       "      <td>0</td>\n",
       "      <td>1</td>\n",
       "      <td>0</td>\n",
       "      <td>0</td>\n",
       "      <td>0</td>\n",
       "      <td>0</td>\n",
       "      <td>0</td>\n",
       "      <td>0</td>\n",
       "      <td>0</td>\n",
       "    </tr>\n",
       "  </tbody>\n",
       "</table>\n",
       "<p>27075 rows × 29 columns</p>\n",
       "</div>"
      ],
      "text/plain": [
       "       Captions available  Co-op  Commentary available  \\\n",
       "0                       0      0                     0   \n",
       "1                       0      0                     0   \n",
       "2                       0      0                     0   \n",
       "3                       0      0                     0   \n",
       "4                       0      0                     0   \n",
       "...                   ...    ...                   ...   \n",
       "27070                   0      0                     0   \n",
       "27071                   0      0                     0   \n",
       "27072                   0      1                     0   \n",
       "27073                   0      0                     0   \n",
       "27074                   0      0                     0   \n",
       "\n",
       "       Cross-Platform Multiplayer  Full controller support  In-App Purchases  \\\n",
       "0                               0                        0                 0   \n",
       "1                               0                        0                 0   \n",
       "2                               0                        0                 0   \n",
       "3                               0                        0                 0   \n",
       "4                               0                        0                 0   \n",
       "...                           ...                      ...               ...   \n",
       "27070                           0                        0                 0   \n",
       "27071                           0                        0                 0   \n",
       "27072                           0                        1                 0   \n",
       "27073                           0                        0                 0   \n",
       "27074                           0                        0                 0   \n",
       "\n",
       "       Includes Source SDK  Includes level editor  Local Co-op  \\\n",
       "0                        0                      0            0   \n",
       "1                        0                      0            0   \n",
       "2                        0                      0            0   \n",
       "3                        0                      0            0   \n",
       "4                        0                      0            0   \n",
       "...                    ...                    ...          ...   \n",
       "27070                    0                      0            0   \n",
       "27071                    0                      0            0   \n",
       "27072                    0                      0            0   \n",
       "27073                    0                      0            0   \n",
       "27074                    0                      0            0   \n",
       "\n",
       "       Local Multi-Player  ...  Stats  Steam Achievements  Steam Cloud  \\\n",
       "0                       1  ...      0                   0            0   \n",
       "1                       1  ...      0                   0            0   \n",
       "2                       0  ...      0                   0            0   \n",
       "3                       1  ...      0                   0            0   \n",
       "4                       0  ...      0                   0            0   \n",
       "...                   ...  ...    ...                 ...          ...   \n",
       "27070                   0  ...      0                   1            0   \n",
       "27071                   0  ...      0                   0            0   \n",
       "27072                   0  ...      0                   1            1   \n",
       "27073                   0  ...      0                   0            1   \n",
       "27074                   0  ...      0                   0            1   \n",
       "\n",
       "       Steam Leaderboards  Steam Trading Cards  Steam Turn Notifications  \\\n",
       "0                       0                    0                         0   \n",
       "1                       0                    0                         0   \n",
       "2                       0                    0                         0   \n",
       "3                       0                    0                         0   \n",
       "4                       0                    0                         0   \n",
       "...                   ...                  ...                       ...   \n",
       "27070                   0                    0                         0   \n",
       "27071                   0                    0                         0   \n",
       "27072                   0                    0                         0   \n",
       "27073                   0                    0                         0   \n",
       "27074                   0                    0                         0   \n",
       "\n",
       "       Steam Workshop  SteamVR Collectibles  VR Support  \\\n",
       "0                   0                     0           0   \n",
       "1                   0                     0           0   \n",
       "2                   0                     0           0   \n",
       "3                   0                     0           0   \n",
       "4                   0                     0           0   \n",
       "...               ...                   ...         ...   \n",
       "27070               0                     0           0   \n",
       "27071               0                     0           0   \n",
       "27072               0                     0           0   \n",
       "27073               0                     0           0   \n",
       "27074               0                     0           0   \n",
       "\n",
       "       Valve Anti-Cheat enabled  \n",
       "0                             1  \n",
       "1                             1  \n",
       "2                             1  \n",
       "3                             1  \n",
       "4                             1  \n",
       "...                         ...  \n",
       "27070                         0  \n",
       "27071                         0  \n",
       "27072                         0  \n",
       "27073                         0  \n",
       "27074                         0  \n",
       "\n",
       "[27075 rows x 29 columns]"
      ]
     },
     "execution_count": 27,
     "metadata": {},
     "output_type": "execute_result"
    }
   ],
   "source": [
    "categories_df"
   ]
  },
  {
   "attachments": {},
   "cell_type": "markdown",
   "metadata": {},
   "source": [
    "It is interesting to note that `Single-player` and `Multi-player` are not mutually exclusive."
   ]
  },
  {
   "cell_type": "code",
   "execution_count": 28,
   "metadata": {},
   "outputs": [
    {
     "data": {
      "text/html": [
       "<div>\n",
       "<style scoped>\n",
       "    .dataframe tbody tr th:only-of-type {\n",
       "        vertical-align: middle;\n",
       "    }\n",
       "\n",
       "    .dataframe tbody tr th {\n",
       "        vertical-align: top;\n",
       "    }\n",
       "\n",
       "    .dataframe thead th {\n",
       "        text-align: right;\n",
       "    }\n",
       "</style>\n",
       "<table border=\"1\" class=\"dataframe\">\n",
       "  <thead>\n",
       "    <tr style=\"text-align: right;\">\n",
       "      <th></th>\n",
       "      <th>Single-player</th>\n",
       "      <th>Multi-player</th>\n",
       "    </tr>\n",
       "  </thead>\n",
       "  <tbody>\n",
       "    <tr>\n",
       "      <th>0</th>\n",
       "      <td>0</td>\n",
       "      <td>1</td>\n",
       "    </tr>\n",
       "    <tr>\n",
       "      <th>1</th>\n",
       "      <td>0</td>\n",
       "      <td>1</td>\n",
       "    </tr>\n",
       "    <tr>\n",
       "      <th>2</th>\n",
       "      <td>0</td>\n",
       "      <td>1</td>\n",
       "    </tr>\n",
       "    <tr>\n",
       "      <th>3</th>\n",
       "      <td>0</td>\n",
       "      <td>1</td>\n",
       "    </tr>\n",
       "    <tr>\n",
       "      <th>4</th>\n",
       "      <td>1</td>\n",
       "      <td>1</td>\n",
       "    </tr>\n",
       "    <tr>\n",
       "      <th>...</th>\n",
       "      <td>...</td>\n",
       "      <td>...</td>\n",
       "    </tr>\n",
       "    <tr>\n",
       "      <th>27070</th>\n",
       "      <td>1</td>\n",
       "      <td>0</td>\n",
       "    </tr>\n",
       "    <tr>\n",
       "      <th>27071</th>\n",
       "      <td>1</td>\n",
       "      <td>0</td>\n",
       "    </tr>\n",
       "    <tr>\n",
       "      <th>27072</th>\n",
       "      <td>1</td>\n",
       "      <td>1</td>\n",
       "    </tr>\n",
       "    <tr>\n",
       "      <th>27073</th>\n",
       "      <td>1</td>\n",
       "      <td>0</td>\n",
       "    </tr>\n",
       "    <tr>\n",
       "      <th>27074</th>\n",
       "      <td>1</td>\n",
       "      <td>0</td>\n",
       "    </tr>\n",
       "  </tbody>\n",
       "</table>\n",
       "<p>27075 rows × 2 columns</p>\n",
       "</div>"
      ],
      "text/plain": [
       "       Single-player  Multi-player\n",
       "0                  0             1\n",
       "1                  0             1\n",
       "2                  0             1\n",
       "3                  0             1\n",
       "4                  1             1\n",
       "...              ...           ...\n",
       "27070              1             0\n",
       "27071              1             0\n",
       "27072              1             1\n",
       "27073              1             0\n",
       "27074              1             0\n",
       "\n",
       "[27075 rows x 2 columns]"
      ]
     },
     "execution_count": 28,
     "metadata": {},
     "output_type": "execute_result"
    }
   ],
   "source": [
    "categories_df[['Single-player', 'Multi-player']]"
   ]
  },
  {
   "cell_type": "code",
   "execution_count": 29,
   "metadata": {},
   "outputs": [
    {
     "data": {
      "text/plain": [
       "Single-player                 0.948403\n",
       "Steam Achievements            0.521884\n",
       "Steam Trading Cards           0.292447\n",
       "Steam Cloud                   0.266630\n",
       "Full controller support       0.210342\n",
       "Partial Controller Support    0.156380\n",
       "Multi-player                  0.146777\n",
       "Steam Leaderboards            0.127018\n",
       "Online Multi-Player           0.091856\n",
       "Shared/Split Screen           0.079483\n",
       "dtype: float64"
      ]
     },
     "execution_count": 29,
     "metadata": {},
     "output_type": "execute_result"
    }
   ],
   "source": [
    "(categories_df.sum() / len(categories_df)).sort_values(ascending=False).head(10)"
   ]
  },
  {
   "attachments": {},
   "cell_type": "markdown",
   "metadata": {},
   "source": [
    "#### Observations\n",
    "\n",
    "A lot of the labels appear to be associated with one another, for example `Multi-player` and similar labels such as `Co-op`, `Cross-platform Multiplayer`, etc. `Single-player` is also most likely not going to be useful due to `94.8%` of the dataset supporting solo play, so there is little variance."
   ]
  },
  {
   "cell_type": "code",
   "execution_count": 30,
   "metadata": {},
   "outputs": [],
   "source": [
    "# pearson's correlation does not work for categorical data. only continuous data.\n",
    "# sb.heatmap(categories_df.corr(), vmin=-1, vmax=1, linewidths=1, cmap=\"RdBu\", annot=True, fmt='.2f', ax=plt.subplots(1,1,figsize=(24,20))[1], square=True)"
   ]
  },
  {
   "cell_type": "code",
   "execution_count": 31,
   "metadata": {},
   "outputs": [
    {
     "data": {
      "text/plain": [
       "<seaborn.axisgrid.FacetGrid at 0x7f6dbb329af0>"
      ]
     },
     "execution_count": 31,
     "metadata": {},
     "output_type": "execute_result"
    },
    {
     "data": {
      "image/png": "[encoded data removed]",
      "text/plain": [
       "<Figure size 500x500 with 1 Axes>"
      ]
     },
     "metadata": {},
     "output_type": "display_data"
    }
   ],
   "source": [
    "sb.catplot(kaggle_steam, x='num_categories', kind='count')"
   ]
  },
  {
   "cell_type": "code",
   "execution_count": 32,
   "metadata": {},
   "outputs": [
    {
     "data": {
      "text/plain": [
       "count    27075.000000\n",
       "mean         3.313980\n",
       "std          2.235836\n",
       "min          1.000000\n",
       "25%          2.000000\n",
       "50%          3.000000\n",
       "75%          4.000000\n",
       "max         18.000000\n",
       "Name: num_categories, dtype: float64"
      ]
     },
     "execution_count": 32,
     "metadata": {},
     "output_type": "execute_result"
    }
   ],
   "source": [
    "kaggle_steam['num_categories'].describe()"
   ]
  },
  {
   "cell_type": "code",
   "execution_count": 33,
   "metadata": {},
   "outputs": [
    {
     "data": {
      "text/plain": [
       "<Axes: >"
      ]
     },
     "execution_count": 33,
     "metadata": {},
     "output_type": "execute_result"
    },
    {
     "data": {
      "image/png": "[encoded data removed]",
      "text/plain": [
       "<Figure size 2400x800 with 3 Axes>"
      ]
     },
     "metadata": {},
     "output_type": "display_data"
    }
   ],
   "source": [
    "fig, ax = plt.subplots(1,3, figsize=(24, 8))\n",
    "sb.boxplot(data=kaggle_steam['num_categories'], orient='h', ax=ax[0])\n",
    "\n",
    "sb.histplot(data=kaggle_steam['num_categories'], ax=ax[1])\n",
    "\n",
    "sb.violinplot(data=kaggle_steam['num_categories'], orient='h', ax=ax[2])"
   ]
  },
  {
   "cell_type": "code",
   "execution_count": 34,
   "metadata": {},
   "outputs": [
    {
     "data": {
      "text/plain": [
       "8     634\n",
       "9     407\n",
       "10    204\n",
       "11    111\n",
       "12     73\n",
       "13     46\n",
       "14     14\n",
       "15     10\n",
       "16      5\n",
       "17      2\n",
       "18      2\n",
       "Name: num_categories, dtype: int64"
      ]
     },
     "execution_count": 34,
     "metadata": {},
     "output_type": "execute_result"
    }
   ],
   "source": [
    "kaggle_steam[kaggle_steam['num_categories'] > 7]['num_categories'].value_counts()"
   ]
  },
  {
   "cell_type": "code",
   "execution_count": 35,
   "metadata": {},
   "outputs": [
    {
     "data": {
      "text/html": [
       "<div>\n",
       "<style scoped>\n",
       "    .dataframe tbody tr th:only-of-type {\n",
       "        vertical-align: middle;\n",
       "    }\n",
       "\n",
       "    .dataframe tbody tr th {\n",
       "        vertical-align: top;\n",
       "    }\n",
       "\n",
       "    .dataframe thead th {\n",
       "        text-align: right;\n",
       "    }\n",
       "</style>\n",
       "<table border=\"1\" class=\"dataframe\">\n",
       "  <thead>\n",
       "    <tr style=\"text-align: right;\">\n",
       "      <th></th>\n",
       "      <th>appid</th>\n",
       "      <th>name</th>\n",
       "      <th>release_date</th>\n",
       "      <th>english</th>\n",
       "      <th>developer</th>\n",
       "      <th>publisher</th>\n",
       "      <th>platforms</th>\n",
       "      <th>required_age</th>\n",
       "      <th>categories</th>\n",
       "      <th>genres</th>\n",
       "      <th>...</th>\n",
       "      <th>average_playtime</th>\n",
       "      <th>median_playtime</th>\n",
       "      <th>owners</th>\n",
       "      <th>price</th>\n",
       "      <th>year</th>\n",
       "      <th>est_owners</th>\n",
       "      <th>linux</th>\n",
       "      <th>mac</th>\n",
       "      <th>windows</th>\n",
       "      <th>num_categories</th>\n",
       "    </tr>\n",
       "  </thead>\n",
       "  <tbody>\n",
       "    <tr>\n",
       "      <th>5574</th>\n",
       "      <td>368180</td>\n",
       "      <td>Polyball</td>\n",
       "      <td>2017-12-01</td>\n",
       "      <td>1</td>\n",
       "      <td>Studio Monolith</td>\n",
       "      <td>Studio Monolith</td>\n",
       "      <td>windows;mac;linux</td>\n",
       "      <td>0</td>\n",
       "      <td>Single-player;Multi-player;Online Multi-Player...</td>\n",
       "      <td>Action;Casual;Indie;Racing;Simulation</td>\n",
       "      <td>...</td>\n",
       "      <td>0</td>\n",
       "      <td>0</td>\n",
       "      <td>0-20000</td>\n",
       "      <td>10.99</td>\n",
       "      <td>2017</td>\n",
       "      <td>4.30103</td>\n",
       "      <td>1</td>\n",
       "      <td>1</td>\n",
       "      <td>1</td>\n",
       "      <td>17</td>\n",
       "    </tr>\n",
       "    <tr>\n",
       "      <th>7410</th>\n",
       "      <td>420900</td>\n",
       "      <td>Mech Anarchy</td>\n",
       "      <td>2016-03-15</td>\n",
       "      <td>1</td>\n",
       "      <td>Trevor Madge</td>\n",
       "      <td>Trevor Madge</td>\n",
       "      <td>windows</td>\n",
       "      <td>0</td>\n",
       "      <td>Single-player;Multi-player;Online Multi-Player...</td>\n",
       "      <td>Action;Indie;Early Access</td>\n",
       "      <td>...</td>\n",
       "      <td>0</td>\n",
       "      <td>0</td>\n",
       "      <td>0-20000</td>\n",
       "      <td>5.79</td>\n",
       "      <td>2016</td>\n",
       "      <td>4.30103</td>\n",
       "      <td>0</td>\n",
       "      <td>0</td>\n",
       "      <td>1</td>\n",
       "      <td>18</td>\n",
       "    </tr>\n",
       "    <tr>\n",
       "      <th>8440</th>\n",
       "      <td>451600</td>\n",
       "      <td>CounterAttack</td>\n",
       "      <td>2019-03-11</td>\n",
       "      <td>1</td>\n",
       "      <td>Relative Games</td>\n",
       "      <td>Relative Games</td>\n",
       "      <td>windows;mac;linux</td>\n",
       "      <td>0</td>\n",
       "      <td>Single-player;Multi-player;Online Multi-Player...</td>\n",
       "      <td>Action;Adventure;Indie</td>\n",
       "      <td>...</td>\n",
       "      <td>0</td>\n",
       "      <td>0</td>\n",
       "      <td>0-20000</td>\n",
       "      <td>11.39</td>\n",
       "      <td>2019</td>\n",
       "      <td>4.30103</td>\n",
       "      <td>1</td>\n",
       "      <td>1</td>\n",
       "      <td>1</td>\n",
       "      <td>18</td>\n",
       "    </tr>\n",
       "    <tr>\n",
       "      <th>13583</th>\n",
       "      <td>600440</td>\n",
       "      <td>Cyber Complex</td>\n",
       "      <td>2017-08-04</td>\n",
       "      <td>1</td>\n",
       "      <td>PolarityFlow;Adrian Zingg</td>\n",
       "      <td>PolarityFlow</td>\n",
       "      <td>windows;linux</td>\n",
       "      <td>0</td>\n",
       "      <td>Single-player;Multi-player;Online Multi-Player...</td>\n",
       "      <td>Action;Casual;Indie;Simulation;Strategy</td>\n",
       "      <td>...</td>\n",
       "      <td>13</td>\n",
       "      <td>13</td>\n",
       "      <td>0-20000</td>\n",
       "      <td>6.99</td>\n",
       "      <td>2017</td>\n",
       "      <td>4.30103</td>\n",
       "      <td>1</td>\n",
       "      <td>0</td>\n",
       "      <td>1</td>\n",
       "      <td>16</td>\n",
       "    </tr>\n",
       "    <tr>\n",
       "      <th>2503</th>\n",
       "      <td>273500</td>\n",
       "      <td>Over 9000 Zombies!</td>\n",
       "      <td>2015-02-25</td>\n",
       "      <td>1</td>\n",
       "      <td>Loren Lemcke</td>\n",
       "      <td>Loren Lemcke</td>\n",
       "      <td>windows</td>\n",
       "      <td>0</td>\n",
       "      <td>Single-player;Multi-player;Online Multi-Player...</td>\n",
       "      <td>Action;Indie</td>\n",
       "      <td>...</td>\n",
       "      <td>17</td>\n",
       "      <td>17</td>\n",
       "      <td>100000-200000</td>\n",
       "      <td>1.59</td>\n",
       "      <td>2015</td>\n",
       "      <td>5.30103</td>\n",
       "      <td>0</td>\n",
       "      <td>0</td>\n",
       "      <td>1</td>\n",
       "      <td>16</td>\n",
       "    </tr>\n",
       "    <tr>\n",
       "      <th>3651</th>\n",
       "      <td>314970</td>\n",
       "      <td>Age of Conquest IV</td>\n",
       "      <td>2016-04-05</td>\n",
       "      <td>1</td>\n",
       "      <td>Noble Master LLC</td>\n",
       "      <td>Noble Master LLC</td>\n",
       "      <td>windows;mac;linux</td>\n",
       "      <td>0</td>\n",
       "      <td>Single-player;Multi-player;Online Multi-Player...</td>\n",
       "      <td>Free to Play;Indie;Strategy</td>\n",
       "      <td>...</td>\n",
       "      <td>93</td>\n",
       "      <td>141</td>\n",
       "      <td>200000-500000</td>\n",
       "      <td>0.00</td>\n",
       "      <td>2016</td>\n",
       "      <td>5.69897</td>\n",
       "      <td>1</td>\n",
       "      <td>1</td>\n",
       "      <td>1</td>\n",
       "      <td>16</td>\n",
       "    </tr>\n",
       "    <tr>\n",
       "      <th>4724</th>\n",
       "      <td>346330</td>\n",
       "      <td>BrainBread 2</td>\n",
       "      <td>2016-07-20</td>\n",
       "      <td>1</td>\n",
       "      <td>Reperio Studios</td>\n",
       "      <td>Reperio Studios</td>\n",
       "      <td>windows;mac;linux</td>\n",
       "      <td>0</td>\n",
       "      <td>Single-player;Multi-player;Online Multi-Player...</td>\n",
       "      <td>Action;Adventure;Free to Play;Indie;Early Access</td>\n",
       "      <td>...</td>\n",
       "      <td>46</td>\n",
       "      <td>43</td>\n",
       "      <td>1000000-2000000</td>\n",
       "      <td>0.00</td>\n",
       "      <td>2016</td>\n",
       "      <td>6.30103</td>\n",
       "      <td>1</td>\n",
       "      <td>1</td>\n",
       "      <td>1</td>\n",
       "      <td>17</td>\n",
       "    </tr>\n",
       "    <tr>\n",
       "      <th>780</th>\n",
       "      <td>41070</td>\n",
       "      <td>Serious Sam 3: BFE</td>\n",
       "      <td>2011-11-22</td>\n",
       "      <td>1</td>\n",
       "      <td>Croteam</td>\n",
       "      <td>Devolver Digital</td>\n",
       "      <td>windows;mac;linux</td>\n",
       "      <td>0</td>\n",
       "      <td>Single-player;Multi-player;Online Multi-Player...</td>\n",
       "      <td>Action;Indie</td>\n",
       "      <td>...</td>\n",
       "      <td>378</td>\n",
       "      <td>215</td>\n",
       "      <td>2000000-5000000</td>\n",
       "      <td>29.99</td>\n",
       "      <td>2011</td>\n",
       "      <td>6.69897</td>\n",
       "      <td>1</td>\n",
       "      <td>1</td>\n",
       "      <td>1</td>\n",
       "      <td>16</td>\n",
       "    </tr>\n",
       "    <tr>\n",
       "      <th>1764</th>\n",
       "      <td>238460</td>\n",
       "      <td>BattleBlock Theater®</td>\n",
       "      <td>2014-05-15</td>\n",
       "      <td>1</td>\n",
       "      <td>The Behemoth</td>\n",
       "      <td>The Behemoth</td>\n",
       "      <td>windows;mac;linux</td>\n",
       "      <td>0</td>\n",
       "      <td>Single-player;Multi-player;Online Multi-Player...</td>\n",
       "      <td>Action;Adventure;Casual;Indie</td>\n",
       "      <td>...</td>\n",
       "      <td>774</td>\n",
       "      <td>289</td>\n",
       "      <td>2000000-5000000</td>\n",
       "      <td>10.99</td>\n",
       "      <td>2014</td>\n",
       "      <td>6.69897</td>\n",
       "      <td>1</td>\n",
       "      <td>1</td>\n",
       "      <td>1</td>\n",
       "      <td>16</td>\n",
       "    </tr>\n",
       "  </tbody>\n",
       "</table>\n",
       "<p>9 rows × 24 columns</p>\n",
       "</div>"
      ],
      "text/plain": [
       "        appid                  name release_date  english  \\\n",
       "5574   368180              Polyball   2017-12-01        1   \n",
       "7410   420900          Mech Anarchy   2016-03-15        1   \n",
       "8440   451600         CounterAttack   2019-03-11        1   \n",
       "13583  600440         Cyber Complex   2017-08-04        1   \n",
       "2503   273500    Over 9000 Zombies!   2015-02-25        1   \n",
       "3651   314970    Age of Conquest IV   2016-04-05        1   \n",
       "4724   346330          BrainBread 2   2016-07-20        1   \n",
       "780     41070    Serious Sam 3: BFE   2011-11-22        1   \n",
       "1764   238460  BattleBlock Theater®   2014-05-15        1   \n",
       "\n",
       "                       developer         publisher          platforms  \\\n",
       "5574             Studio Monolith   Studio Monolith  windows;mac;linux   \n",
       "7410                Trevor Madge      Trevor Madge            windows   \n",
       "8440              Relative Games    Relative Games  windows;mac;linux   \n",
       "13583  PolarityFlow;Adrian Zingg      PolarityFlow      windows;linux   \n",
       "2503                Loren Lemcke      Loren Lemcke            windows   \n",
       "3651            Noble Master LLC  Noble Master LLC  windows;mac;linux   \n",
       "4724             Reperio Studios   Reperio Studios  windows;mac;linux   \n",
       "780                      Croteam  Devolver Digital  windows;mac;linux   \n",
       "1764                The Behemoth      The Behemoth  windows;mac;linux   \n",
       "\n",
       "       required_age                                         categories  \\\n",
       "5574              0  Single-player;Multi-player;Online Multi-Player...   \n",
       "7410              0  Single-player;Multi-player;Online Multi-Player...   \n",
       "8440              0  Single-player;Multi-player;Online Multi-Player...   \n",
       "13583             0  Single-player;Multi-player;Online Multi-Player...   \n",
       "2503              0  Single-player;Multi-player;Online Multi-Player...   \n",
       "3651              0  Single-player;Multi-player;Online Multi-Player...   \n",
       "4724              0  Single-player;Multi-player;Online Multi-Player...   \n",
       "780               0  Single-player;Multi-player;Online Multi-Player...   \n",
       "1764              0  Single-player;Multi-player;Online Multi-Player...   \n",
       "\n",
       "                                                 genres  ... average_playtime  \\\n",
       "5574              Action;Casual;Indie;Racing;Simulation  ...                0   \n",
       "7410                          Action;Indie;Early Access  ...                0   \n",
       "8440                             Action;Adventure;Indie  ...                0   \n",
       "13583           Action;Casual;Indie;Simulation;Strategy  ...               13   \n",
       "2503                                       Action;Indie  ...               17   \n",
       "3651                        Free to Play;Indie;Strategy  ...               93   \n",
       "4724   Action;Adventure;Free to Play;Indie;Early Access  ...               46   \n",
       "780                                        Action;Indie  ...              378   \n",
       "1764                      Action;Adventure;Casual;Indie  ...              774   \n",
       "\n",
       "       median_playtime           owners  price  year  est_owners linux  mac  \\\n",
       "5574                 0          0-20000  10.99  2017     4.30103     1    1   \n",
       "7410                 0          0-20000   5.79  2016     4.30103     0    0   \n",
       "8440                 0          0-20000  11.39  2019     4.30103     1    1   \n",
       "13583               13          0-20000   6.99  2017     4.30103     1    0   \n",
       "2503                17    100000-200000   1.59  2015     5.30103     0    0   \n",
       "3651               141    200000-500000   0.00  2016     5.69897     1    1   \n",
       "4724                43  1000000-2000000   0.00  2016     6.30103     1    1   \n",
       "780                215  2000000-5000000  29.99  2011     6.69897     1    1   \n",
       "1764               289  2000000-5000000  10.99  2014     6.69897     1    1   \n",
       "\n",
       "       windows  num_categories  \n",
       "5574         1              17  \n",
       "7410         1              18  \n",
       "8440         1              18  \n",
       "13583        1              16  \n",
       "2503         1              16  \n",
       "3651         1              16  \n",
       "4724         1              17  \n",
       "780          1              16  \n",
       "1764         1              16  \n",
       "\n",
       "[9 rows x 24 columns]"
      ]
     },
     "execution_count": 35,
     "metadata": {},
     "output_type": "execute_result"
    }
   ],
   "source": [
    "kaggle_steam[kaggle_steam['num_categories'] > 15].sort_values(by='est_owners')"
   ]
  },
  {
   "cell_type": "code",
   "execution_count": 36,
   "metadata": {},
   "outputs": [
    {
     "data": {
      "text/plain": [
       "<Axes: >"
      ]
     },
     "execution_count": 36,
     "metadata": {},
     "output_type": "execute_result"
    },
    {
     "data": {
      "image/png": "[encoded data removed]",
      "text/plain": [
       "<Figure size 640x480 with 2 Axes>"
      ]
     },
     "metadata": {},
     "output_type": "display_data"
    }
   ],
   "source": [
    "sb.heatmap(kaggle_steam[['num_categories', 'est_owners']].corr(), vmin=-1, vmax=1, linewidths=1, cmap=\"RdBu\", annot=True, fmt='.2f')"
   ]
  },
  {
   "attachments": {},
   "cell_type": "markdown",
   "metadata": {},
   "source": [
    "### `genres`"
   ]
  },
  {
   "attachments": {},
   "cell_type": "markdown",
   "metadata": {},
   "source": [
    "We also created a `num_genres` column."
   ]
  },
  {
   "cell_type": "code",
   "execution_count": 37,
   "metadata": {},
   "outputs": [
    {
     "data": {
      "text/plain": [
       "0        1\n",
       "1        1\n",
       "2        1\n",
       "3        1\n",
       "4        1\n",
       "        ..\n",
       "27070    3\n",
       "27071    3\n",
       "27072    3\n",
       "27073    3\n",
       "27074    3\n",
       "Name: num_genres, Length: 27075, dtype: int64"
      ]
     },
     "execution_count": 37,
     "metadata": {},
     "output_type": "execute_result"
    }
   ],
   "source": [
    "kaggle_steam['num_genres'] = kaggle_steam['genres'].str.split(';').map(len)\n",
    "kaggle_steam['num_genres']"
   ]
  },
  {
   "cell_type": "code",
   "execution_count": 38,
   "metadata": {},
   "outputs": [
    {
     "name": "stdout",
     "output_type": "stream",
     "text": [
      "Column `genres` has 29 unique labels\n"
     ]
    },
    {
     "data": {
      "text/plain": [
       "array(['Accounting', 'Action', 'Adventure', 'Animation & Modeling',\n",
       "       'Audio Production', 'Casual', 'Design & Illustration',\n",
       "       'Documentary', 'Early Access', 'Education', 'Free to Play',\n",
       "       'Game Development', 'Gore', 'Indie', 'Massively Multiplayer',\n",
       "       'Nudity', 'Photo Editing', 'RPG', 'Racing', 'Sexual Content',\n",
       "       'Simulation', 'Software Training', 'Sports', 'Strategy',\n",
       "       'Tutorial', 'Utilities', 'Video Production', 'Violent',\n",
       "       'Web Publishing'], dtype=object)"
      ]
     },
     "execution_count": 38,
     "metadata": {},
     "output_type": "execute_result"
    }
   ],
   "source": [
    "genres_df = pd.DataFrame(np.arange(0, len(kaggle_steam))).drop(labels=0, axis=1)\n",
    "describe_categorical_as_onehot(genres_df, kaggle_steam['genres'], keep='all')"
   ]
  },
  {
   "cell_type": "code",
   "execution_count": 39,
   "metadata": {},
   "outputs": [
    {
     "data": {
      "text/html": [
       "<div>\n",
       "<style scoped>\n",
       "    .dataframe tbody tr th:only-of-type {\n",
       "        vertical-align: middle;\n",
       "    }\n",
       "\n",
       "    .dataframe tbody tr th {\n",
       "        vertical-align: top;\n",
       "    }\n",
       "\n",
       "    .dataframe thead th {\n",
       "        text-align: right;\n",
       "    }\n",
       "</style>\n",
       "<table border=\"1\" class=\"dataframe\">\n",
       "  <thead>\n",
       "    <tr style=\"text-align: right;\">\n",
       "      <th></th>\n",
       "      <th>appid</th>\n",
       "      <th>name</th>\n",
       "      <th>release_date</th>\n",
       "      <th>english</th>\n",
       "      <th>developer</th>\n",
       "      <th>publisher</th>\n",
       "      <th>platforms</th>\n",
       "      <th>required_age</th>\n",
       "      <th>categories</th>\n",
       "      <th>genres</th>\n",
       "      <th>...</th>\n",
       "      <th>Sexual Content</th>\n",
       "      <th>Simulation</th>\n",
       "      <th>Software Training</th>\n",
       "      <th>Sports</th>\n",
       "      <th>Strategy</th>\n",
       "      <th>Tutorial</th>\n",
       "      <th>Utilities</th>\n",
       "      <th>Video Production</th>\n",
       "      <th>Violent</th>\n",
       "      <th>Web Publishing</th>\n",
       "    </tr>\n",
       "  </thead>\n",
       "  <tbody>\n",
       "    <tr>\n",
       "      <th>0</th>\n",
       "      <td>10</td>\n",
       "      <td>Counter-Strike</td>\n",
       "      <td>2000-11-01</td>\n",
       "      <td>1</td>\n",
       "      <td>Valve</td>\n",
       "      <td>Valve</td>\n",
       "      <td>windows;mac;linux</td>\n",
       "      <td>0</td>\n",
       "      <td>Multi-player;Online Multi-Player;Local Multi-P...</td>\n",
       "      <td>Action</td>\n",
       "      <td>...</td>\n",
       "      <td>0</td>\n",
       "      <td>0</td>\n",
       "      <td>0</td>\n",
       "      <td>0</td>\n",
       "      <td>0</td>\n",
       "      <td>0</td>\n",
       "      <td>0</td>\n",
       "      <td>0</td>\n",
       "      <td>0</td>\n",
       "      <td>0</td>\n",
       "    </tr>\n",
       "    <tr>\n",
       "      <th>1</th>\n",
       "      <td>20</td>\n",
       "      <td>Team Fortress Classic</td>\n",
       "      <td>1999-04-01</td>\n",
       "      <td>1</td>\n",
       "      <td>Valve</td>\n",
       "      <td>Valve</td>\n",
       "      <td>windows;mac;linux</td>\n",
       "      <td>0</td>\n",
       "      <td>Multi-player;Online Multi-Player;Local Multi-P...</td>\n",
       "      <td>Action</td>\n",
       "      <td>...</td>\n",
       "      <td>0</td>\n",
       "      <td>0</td>\n",
       "      <td>0</td>\n",
       "      <td>0</td>\n",
       "      <td>0</td>\n",
       "      <td>0</td>\n",
       "      <td>0</td>\n",
       "      <td>0</td>\n",
       "      <td>0</td>\n",
       "      <td>0</td>\n",
       "    </tr>\n",
       "    <tr>\n",
       "      <th>2</th>\n",
       "      <td>30</td>\n",
       "      <td>Day of Defeat</td>\n",
       "      <td>2003-05-01</td>\n",
       "      <td>1</td>\n",
       "      <td>Valve</td>\n",
       "      <td>Valve</td>\n",
       "      <td>windows;mac;linux</td>\n",
       "      <td>0</td>\n",
       "      <td>Multi-player;Valve Anti-Cheat enabled</td>\n",
       "      <td>Action</td>\n",
       "      <td>...</td>\n",
       "      <td>0</td>\n",
       "      <td>0</td>\n",
       "      <td>0</td>\n",
       "      <td>0</td>\n",
       "      <td>0</td>\n",
       "      <td>0</td>\n",
       "      <td>0</td>\n",
       "      <td>0</td>\n",
       "      <td>0</td>\n",
       "      <td>0</td>\n",
       "    </tr>\n",
       "    <tr>\n",
       "      <th>3</th>\n",
       "      <td>40</td>\n",
       "      <td>Deathmatch Classic</td>\n",
       "      <td>2001-06-01</td>\n",
       "      <td>1</td>\n",
       "      <td>Valve</td>\n",
       "      <td>Valve</td>\n",
       "      <td>windows;mac;linux</td>\n",
       "      <td>0</td>\n",
       "      <td>Multi-player;Online Multi-Player;Local Multi-P...</td>\n",
       "      <td>Action</td>\n",
       "      <td>...</td>\n",
       "      <td>0</td>\n",
       "      <td>0</td>\n",
       "      <td>0</td>\n",
       "      <td>0</td>\n",
       "      <td>0</td>\n",
       "      <td>0</td>\n",
       "      <td>0</td>\n",
       "      <td>0</td>\n",
       "      <td>0</td>\n",
       "      <td>0</td>\n",
       "    </tr>\n",
       "    <tr>\n",
       "      <th>4</th>\n",
       "      <td>50</td>\n",
       "      <td>Half-Life: Opposing Force</td>\n",
       "      <td>1999-11-01</td>\n",
       "      <td>1</td>\n",
       "      <td>Gearbox Software</td>\n",
       "      <td>Valve</td>\n",
       "      <td>windows;mac;linux</td>\n",
       "      <td>0</td>\n",
       "      <td>Single-player;Multi-player;Valve Anti-Cheat en...</td>\n",
       "      <td>Action</td>\n",
       "      <td>...</td>\n",
       "      <td>0</td>\n",
       "      <td>0</td>\n",
       "      <td>0</td>\n",
       "      <td>0</td>\n",
       "      <td>0</td>\n",
       "      <td>0</td>\n",
       "      <td>0</td>\n",
       "      <td>0</td>\n",
       "      <td>0</td>\n",
       "      <td>0</td>\n",
       "    </tr>\n",
       "    <tr>\n",
       "      <th>...</th>\n",
       "      <td>...</td>\n",
       "      <td>...</td>\n",
       "      <td>...</td>\n",
       "      <td>...</td>\n",
       "      <td>...</td>\n",
       "      <td>...</td>\n",
       "      <td>...</td>\n",
       "      <td>...</td>\n",
       "      <td>...</td>\n",
       "      <td>...</td>\n",
       "      <td>...</td>\n",
       "      <td>...</td>\n",
       "      <td>...</td>\n",
       "      <td>...</td>\n",
       "      <td>...</td>\n",
       "      <td>...</td>\n",
       "      <td>...</td>\n",
       "      <td>...</td>\n",
       "      <td>...</td>\n",
       "      <td>...</td>\n",
       "      <td>...</td>\n",
       "    </tr>\n",
       "    <tr>\n",
       "      <th>27070</th>\n",
       "      <td>1065230</td>\n",
       "      <td>Room of Pandora</td>\n",
       "      <td>2019-04-24</td>\n",
       "      <td>1</td>\n",
       "      <td>SHEN JIAWEI</td>\n",
       "      <td>SHEN JIAWEI</td>\n",
       "      <td>windows</td>\n",
       "      <td>0</td>\n",
       "      <td>Single-player;Steam Achievements</td>\n",
       "      <td>Adventure;Casual;Indie</td>\n",
       "      <td>...</td>\n",
       "      <td>0</td>\n",
       "      <td>0</td>\n",
       "      <td>0</td>\n",
       "      <td>0</td>\n",
       "      <td>0</td>\n",
       "      <td>0</td>\n",
       "      <td>0</td>\n",
       "      <td>0</td>\n",
       "      <td>0</td>\n",
       "      <td>0</td>\n",
       "    </tr>\n",
       "    <tr>\n",
       "      <th>27071</th>\n",
       "      <td>1065570</td>\n",
       "      <td>Cyber Gun</td>\n",
       "      <td>2019-04-23</td>\n",
       "      <td>1</td>\n",
       "      <td>Semyon Maximov</td>\n",
       "      <td>BekkerDev Studio</td>\n",
       "      <td>windows</td>\n",
       "      <td>0</td>\n",
       "      <td>Single-player</td>\n",
       "      <td>Action;Adventure;Indie</td>\n",
       "      <td>...</td>\n",
       "      <td>0</td>\n",
       "      <td>0</td>\n",
       "      <td>0</td>\n",
       "      <td>0</td>\n",
       "      <td>0</td>\n",
       "      <td>0</td>\n",
       "      <td>0</td>\n",
       "      <td>0</td>\n",
       "      <td>0</td>\n",
       "      <td>0</td>\n",
       "    </tr>\n",
       "    <tr>\n",
       "      <th>27072</th>\n",
       "      <td>1065650</td>\n",
       "      <td>Super Star Blast</td>\n",
       "      <td>2019-04-24</td>\n",
       "      <td>1</td>\n",
       "      <td>EntwicklerX</td>\n",
       "      <td>EntwicklerX</td>\n",
       "      <td>windows</td>\n",
       "      <td>0</td>\n",
       "      <td>Single-player;Multi-player;Co-op;Shared/Split ...</td>\n",
       "      <td>Action;Casual;Indie</td>\n",
       "      <td>...</td>\n",
       "      <td>0</td>\n",
       "      <td>0</td>\n",
       "      <td>0</td>\n",
       "      <td>0</td>\n",
       "      <td>0</td>\n",
       "      <td>0</td>\n",
       "      <td>0</td>\n",
       "      <td>0</td>\n",
       "      <td>0</td>\n",
       "      <td>0</td>\n",
       "    </tr>\n",
       "    <tr>\n",
       "      <th>27073</th>\n",
       "      <td>1066700</td>\n",
       "      <td>New Yankee 7: Deer Hunters</td>\n",
       "      <td>2019-04-17</td>\n",
       "      <td>1</td>\n",
       "      <td>Yustas Game Studio</td>\n",
       "      <td>Alawar Entertainment</td>\n",
       "      <td>windows;mac</td>\n",
       "      <td>0</td>\n",
       "      <td>Single-player;Steam Cloud</td>\n",
       "      <td>Adventure;Casual;Indie</td>\n",
       "      <td>...</td>\n",
       "      <td>0</td>\n",
       "      <td>0</td>\n",
       "      <td>0</td>\n",
       "      <td>0</td>\n",
       "      <td>0</td>\n",
       "      <td>0</td>\n",
       "      <td>0</td>\n",
       "      <td>0</td>\n",
       "      <td>0</td>\n",
       "      <td>0</td>\n",
       "    </tr>\n",
       "    <tr>\n",
       "      <th>27074</th>\n",
       "      <td>1069460</td>\n",
       "      <td>Rune Lord</td>\n",
       "      <td>2019-04-24</td>\n",
       "      <td>1</td>\n",
       "      <td>Adept Studios GD</td>\n",
       "      <td>Alawar Entertainment</td>\n",
       "      <td>windows;mac</td>\n",
       "      <td>0</td>\n",
       "      <td>Single-player;Steam Cloud</td>\n",
       "      <td>Adventure;Casual;Indie</td>\n",
       "      <td>...</td>\n",
       "      <td>0</td>\n",
       "      <td>0</td>\n",
       "      <td>0</td>\n",
       "      <td>0</td>\n",
       "      <td>0</td>\n",
       "      <td>0</td>\n",
       "      <td>0</td>\n",
       "      <td>0</td>\n",
       "      <td>0</td>\n",
       "      <td>0</td>\n",
       "    </tr>\n",
       "  </tbody>\n",
       "</table>\n",
       "<p>27075 rows × 54 columns</p>\n",
       "</div>"
      ],
      "text/plain": [
       "         appid                        name release_date  english  \\\n",
       "0           10              Counter-Strike   2000-11-01        1   \n",
       "1           20       Team Fortress Classic   1999-04-01        1   \n",
       "2           30               Day of Defeat   2003-05-01        1   \n",
       "3           40          Deathmatch Classic   2001-06-01        1   \n",
       "4           50   Half-Life: Opposing Force   1999-11-01        1   \n",
       "...        ...                         ...          ...      ...   \n",
       "27070  1065230             Room of Pandora   2019-04-24        1   \n",
       "27071  1065570                   Cyber Gun   2019-04-23        1   \n",
       "27072  1065650            Super Star Blast   2019-04-24        1   \n",
       "27073  1066700  New Yankee 7: Deer Hunters   2019-04-17        1   \n",
       "27074  1069460                   Rune Lord   2019-04-24        1   \n",
       "\n",
       "                developer             publisher          platforms  \\\n",
       "0                   Valve                 Valve  windows;mac;linux   \n",
       "1                   Valve                 Valve  windows;mac;linux   \n",
       "2                   Valve                 Valve  windows;mac;linux   \n",
       "3                   Valve                 Valve  windows;mac;linux   \n",
       "4        Gearbox Software                 Valve  windows;mac;linux   \n",
       "...                   ...                   ...                ...   \n",
       "27070         SHEN JIAWEI           SHEN JIAWEI            windows   \n",
       "27071      Semyon Maximov      BekkerDev Studio            windows   \n",
       "27072         EntwicklerX           EntwicklerX            windows   \n",
       "27073  Yustas Game Studio  Alawar Entertainment        windows;mac   \n",
       "27074    Adept Studios GD  Alawar Entertainment        windows;mac   \n",
       "\n",
       "       required_age                                         categories  \\\n",
       "0                 0  Multi-player;Online Multi-Player;Local Multi-P...   \n",
       "1                 0  Multi-player;Online Multi-Player;Local Multi-P...   \n",
       "2                 0              Multi-player;Valve Anti-Cheat enabled   \n",
       "3                 0  Multi-player;Online Multi-Player;Local Multi-P...   \n",
       "4                 0  Single-player;Multi-player;Valve Anti-Cheat en...   \n",
       "...             ...                                                ...   \n",
       "27070             0                   Single-player;Steam Achievements   \n",
       "27071             0                                      Single-player   \n",
       "27072             0  Single-player;Multi-player;Co-op;Shared/Split ...   \n",
       "27073             0                          Single-player;Steam Cloud   \n",
       "27074             0                          Single-player;Steam Cloud   \n",
       "\n",
       "                       genres  ... Sexual Content  Simulation  \\\n",
       "0                      Action  ...              0           0   \n",
       "1                      Action  ...              0           0   \n",
       "2                      Action  ...              0           0   \n",
       "3                      Action  ...              0           0   \n",
       "4                      Action  ...              0           0   \n",
       "...                       ...  ...            ...         ...   \n",
       "27070  Adventure;Casual;Indie  ...              0           0   \n",
       "27071  Action;Adventure;Indie  ...              0           0   \n",
       "27072     Action;Casual;Indie  ...              0           0   \n",
       "27073  Adventure;Casual;Indie  ...              0           0   \n",
       "27074  Adventure;Casual;Indie  ...              0           0   \n",
       "\n",
       "       Software Training  Sports  Strategy  Tutorial Utilities  \\\n",
       "0                      0       0         0         0         0   \n",
       "1                      0       0         0         0         0   \n",
       "2                      0       0         0         0         0   \n",
       "3                      0       0         0         0         0   \n",
       "4                      0       0         0         0         0   \n",
       "...                  ...     ...       ...       ...       ...   \n",
       "27070                  0       0         0         0         0   \n",
       "27071                  0       0         0         0         0   \n",
       "27072                  0       0         0         0         0   \n",
       "27073                  0       0         0         0         0   \n",
       "27074                  0       0         0         0         0   \n",
       "\n",
       "       Video Production  Violent  Web Publishing  \n",
       "0                     0        0               0  \n",
       "1                     0        0               0  \n",
       "2                     0        0               0  \n",
       "3                     0        0               0  \n",
       "4                     0        0               0  \n",
       "...                 ...      ...             ...  \n",
       "27070                 0        0               0  \n",
       "27071                 0        0               0  \n",
       "27072                 0        0               0  \n",
       "27073                 0        0               0  \n",
       "27074                 0        0               0  \n",
       "\n",
       "[27075 rows x 54 columns]"
      ]
     },
     "execution_count": 39,
     "metadata": {},
     "output_type": "execute_result"
    }
   ],
   "source": [
    "pd.concat([kaggle_steam, genres_df], axis=1)"
   ]
  },
  {
   "cell_type": "code",
   "execution_count": 40,
   "metadata": {},
   "outputs": [
    {
     "data": {
      "text/html": [
       "<div>\n",
       "<style scoped>\n",
       "    .dataframe tbody tr th:only-of-type {\n",
       "        vertical-align: middle;\n",
       "    }\n",
       "\n",
       "    .dataframe tbody tr th {\n",
       "        vertical-align: top;\n",
       "    }\n",
       "\n",
       "    .dataframe thead th {\n",
       "        text-align: right;\n",
       "    }\n",
       "</style>\n",
       "<table border=\"1\" class=\"dataframe\">\n",
       "  <thead>\n",
       "    <tr style=\"text-align: right;\">\n",
       "      <th></th>\n",
       "      <th>Accounting</th>\n",
       "      <th>Action</th>\n",
       "      <th>Adventure</th>\n",
       "      <th>Animation &amp; Modeling</th>\n",
       "      <th>Audio Production</th>\n",
       "      <th>Casual</th>\n",
       "      <th>Design &amp; Illustration</th>\n",
       "      <th>Documentary</th>\n",
       "      <th>Early Access</th>\n",
       "      <th>Education</th>\n",
       "      <th>...</th>\n",
       "      <th>Sexual Content</th>\n",
       "      <th>Simulation</th>\n",
       "      <th>Software Training</th>\n",
       "      <th>Sports</th>\n",
       "      <th>Strategy</th>\n",
       "      <th>Tutorial</th>\n",
       "      <th>Utilities</th>\n",
       "      <th>Video Production</th>\n",
       "      <th>Violent</th>\n",
       "      <th>Web Publishing</th>\n",
       "    </tr>\n",
       "  </thead>\n",
       "  <tbody>\n",
       "    <tr>\n",
       "      <th>0</th>\n",
       "      <td>0</td>\n",
       "      <td>1</td>\n",
       "      <td>0</td>\n",
       "      <td>0</td>\n",
       "      <td>0</td>\n",
       "      <td>0</td>\n",
       "      <td>0</td>\n",
       "      <td>0</td>\n",
       "      <td>0</td>\n",
       "      <td>0</td>\n",
       "      <td>...</td>\n",
       "      <td>0</td>\n",
       "      <td>0</td>\n",
       "      <td>0</td>\n",
       "      <td>0</td>\n",
       "      <td>0</td>\n",
       "      <td>0</td>\n",
       "      <td>0</td>\n",
       "      <td>0</td>\n",
       "      <td>0</td>\n",
       "      <td>0</td>\n",
       "    </tr>\n",
       "    <tr>\n",
       "      <th>1</th>\n",
       "      <td>0</td>\n",
       "      <td>1</td>\n",
       "      <td>0</td>\n",
       "      <td>0</td>\n",
       "      <td>0</td>\n",
       "      <td>0</td>\n",
       "      <td>0</td>\n",
       "      <td>0</td>\n",
       "      <td>0</td>\n",
       "      <td>0</td>\n",
       "      <td>...</td>\n",
       "      <td>0</td>\n",
       "      <td>0</td>\n",
       "      <td>0</td>\n",
       "      <td>0</td>\n",
       "      <td>0</td>\n",
       "      <td>0</td>\n",
       "      <td>0</td>\n",
       "      <td>0</td>\n",
       "      <td>0</td>\n",
       "      <td>0</td>\n",
       "    </tr>\n",
       "    <tr>\n",
       "      <th>2</th>\n",
       "      <td>0</td>\n",
       "      <td>1</td>\n",
       "      <td>0</td>\n",
       "      <td>0</td>\n",
       "      <td>0</td>\n",
       "      <td>0</td>\n",
       "      <td>0</td>\n",
       "      <td>0</td>\n",
       "      <td>0</td>\n",
       "      <td>0</td>\n",
       "      <td>...</td>\n",
       "      <td>0</td>\n",
       "      <td>0</td>\n",
       "      <td>0</td>\n",
       "      <td>0</td>\n",
       "      <td>0</td>\n",
       "      <td>0</td>\n",
       "      <td>0</td>\n",
       "      <td>0</td>\n",
       "      <td>0</td>\n",
       "      <td>0</td>\n",
       "    </tr>\n",
       "    <tr>\n",
       "      <th>3</th>\n",
       "      <td>0</td>\n",
       "      <td>1</td>\n",
       "      <td>0</td>\n",
       "      <td>0</td>\n",
       "      <td>0</td>\n",
       "      <td>0</td>\n",
       "      <td>0</td>\n",
       "      <td>0</td>\n",
       "      <td>0</td>\n",
       "      <td>0</td>\n",
       "      <td>...</td>\n",
       "      <td>0</td>\n",
       "      <td>0</td>\n",
       "      <td>0</td>\n",
       "      <td>0</td>\n",
       "      <td>0</td>\n",
       "      <td>0</td>\n",
       "      <td>0</td>\n",
       "      <td>0</td>\n",
       "      <td>0</td>\n",
       "      <td>0</td>\n",
       "    </tr>\n",
       "    <tr>\n",
       "      <th>4</th>\n",
       "      <td>0</td>\n",
       "      <td>1</td>\n",
       "      <td>0</td>\n",
       "      <td>0</td>\n",
       "      <td>0</td>\n",
       "      <td>0</td>\n",
       "      <td>0</td>\n",
       "      <td>0</td>\n",
       "      <td>0</td>\n",
       "      <td>0</td>\n",
       "      <td>...</td>\n",
       "      <td>0</td>\n",
       "      <td>0</td>\n",
       "      <td>0</td>\n",
       "      <td>0</td>\n",
       "      <td>0</td>\n",
       "      <td>0</td>\n",
       "      <td>0</td>\n",
       "      <td>0</td>\n",
       "      <td>0</td>\n",
       "      <td>0</td>\n",
       "    </tr>\n",
       "    <tr>\n",
       "      <th>...</th>\n",
       "      <td>...</td>\n",
       "      <td>...</td>\n",
       "      <td>...</td>\n",
       "      <td>...</td>\n",
       "      <td>...</td>\n",
       "      <td>...</td>\n",
       "      <td>...</td>\n",
       "      <td>...</td>\n",
       "      <td>...</td>\n",
       "      <td>...</td>\n",
       "      <td>...</td>\n",
       "      <td>...</td>\n",
       "      <td>...</td>\n",
       "      <td>...</td>\n",
       "      <td>...</td>\n",
       "      <td>...</td>\n",
       "      <td>...</td>\n",
       "      <td>...</td>\n",
       "      <td>...</td>\n",
       "      <td>...</td>\n",
       "      <td>...</td>\n",
       "    </tr>\n",
       "    <tr>\n",
       "      <th>27070</th>\n",
       "      <td>0</td>\n",
       "      <td>0</td>\n",
       "      <td>1</td>\n",
       "      <td>0</td>\n",
       "      <td>0</td>\n",
       "      <td>1</td>\n",
       "      <td>0</td>\n",
       "      <td>0</td>\n",
       "      <td>0</td>\n",
       "      <td>0</td>\n",
       "      <td>...</td>\n",
       "      <td>0</td>\n",
       "      <td>0</td>\n",
       "      <td>0</td>\n",
       "      <td>0</td>\n",
       "      <td>0</td>\n",
       "      <td>0</td>\n",
       "      <td>0</td>\n",
       "      <td>0</td>\n",
       "      <td>0</td>\n",
       "      <td>0</td>\n",
       "    </tr>\n",
       "    <tr>\n",
       "      <th>27071</th>\n",
       "      <td>0</td>\n",
       "      <td>1</td>\n",
       "      <td>1</td>\n",
       "      <td>0</td>\n",
       "      <td>0</td>\n",
       "      <td>0</td>\n",
       "      <td>0</td>\n",
       "      <td>0</td>\n",
       "      <td>0</td>\n",
       "      <td>0</td>\n",
       "      <td>...</td>\n",
       "      <td>0</td>\n",
       "      <td>0</td>\n",
       "      <td>0</td>\n",
       "      <td>0</td>\n",
       "      <td>0</td>\n",
       "      <td>0</td>\n",
       "      <td>0</td>\n",
       "      <td>0</td>\n",
       "      <td>0</td>\n",
       "      <td>0</td>\n",
       "    </tr>\n",
       "    <tr>\n",
       "      <th>27072</th>\n",
       "      <td>0</td>\n",
       "      <td>1</td>\n",
       "      <td>0</td>\n",
       "      <td>0</td>\n",
       "      <td>0</td>\n",
       "      <td>1</td>\n",
       "      <td>0</td>\n",
       "      <td>0</td>\n",
       "      <td>0</td>\n",
       "      <td>0</td>\n",
       "      <td>...</td>\n",
       "      <td>0</td>\n",
       "      <td>0</td>\n",
       "      <td>0</td>\n",
       "      <td>0</td>\n",
       "      <td>0</td>\n",
       "      <td>0</td>\n",
       "      <td>0</td>\n",
       "      <td>0</td>\n",
       "      <td>0</td>\n",
       "      <td>0</td>\n",
       "    </tr>\n",
       "    <tr>\n",
       "      <th>27073</th>\n",
       "      <td>0</td>\n",
       "      <td>0</td>\n",
       "      <td>1</td>\n",
       "      <td>0</td>\n",
       "      <td>0</td>\n",
       "      <td>1</td>\n",
       "      <td>0</td>\n",
       "      <td>0</td>\n",
       "      <td>0</td>\n",
       "      <td>0</td>\n",
       "      <td>...</td>\n",
       "      <td>0</td>\n",
       "      <td>0</td>\n",
       "      <td>0</td>\n",
       "      <td>0</td>\n",
       "      <td>0</td>\n",
       "      <td>0</td>\n",
       "      <td>0</td>\n",
       "      <td>0</td>\n",
       "      <td>0</td>\n",
       "      <td>0</td>\n",
       "    </tr>\n",
       "    <tr>\n",
       "      <th>27074</th>\n",
       "      <td>0</td>\n",
       "      <td>0</td>\n",
       "      <td>1</td>\n",
       "      <td>0</td>\n",
       "      <td>0</td>\n",
       "      <td>1</td>\n",
       "      <td>0</td>\n",
       "      <td>0</td>\n",
       "      <td>0</td>\n",
       "      <td>0</td>\n",
       "      <td>...</td>\n",
       "      <td>0</td>\n",
       "      <td>0</td>\n",
       "      <td>0</td>\n",
       "      <td>0</td>\n",
       "      <td>0</td>\n",
       "      <td>0</td>\n",
       "      <td>0</td>\n",
       "      <td>0</td>\n",
       "      <td>0</td>\n",
       "      <td>0</td>\n",
       "    </tr>\n",
       "  </tbody>\n",
       "</table>\n",
       "<p>27075 rows × 29 columns</p>\n",
       "</div>"
      ],
      "text/plain": [
       "       Accounting  Action  Adventure  Animation & Modeling  Audio Production  \\\n",
       "0               0       1          0                     0                 0   \n",
       "1               0       1          0                     0                 0   \n",
       "2               0       1          0                     0                 0   \n",
       "3               0       1          0                     0                 0   \n",
       "4               0       1          0                     0                 0   \n",
       "...           ...     ...        ...                   ...               ...   \n",
       "27070           0       0          1                     0                 0   \n",
       "27071           0       1          1                     0                 0   \n",
       "27072           0       1          0                     0                 0   \n",
       "27073           0       0          1                     0                 0   \n",
       "27074           0       0          1                     0                 0   \n",
       "\n",
       "       Casual  Design & Illustration  Documentary  Early Access  Education  \\\n",
       "0           0                      0            0             0          0   \n",
       "1           0                      0            0             0          0   \n",
       "2           0                      0            0             0          0   \n",
       "3           0                      0            0             0          0   \n",
       "4           0                      0            0             0          0   \n",
       "...       ...                    ...          ...           ...        ...   \n",
       "27070       1                      0            0             0          0   \n",
       "27071       0                      0            0             0          0   \n",
       "27072       1                      0            0             0          0   \n",
       "27073       1                      0            0             0          0   \n",
       "27074       1                      0            0             0          0   \n",
       "\n",
       "       ...  Sexual Content  Simulation  Software Training  Sports  Strategy  \\\n",
       "0      ...               0           0                  0       0         0   \n",
       "1      ...               0           0                  0       0         0   \n",
       "2      ...               0           0                  0       0         0   \n",
       "3      ...               0           0                  0       0         0   \n",
       "4      ...               0           0                  0       0         0   \n",
       "...    ...             ...         ...                ...     ...       ...   \n",
       "27070  ...               0           0                  0       0         0   \n",
       "27071  ...               0           0                  0       0         0   \n",
       "27072  ...               0           0                  0       0         0   \n",
       "27073  ...               0           0                  0       0         0   \n",
       "27074  ...               0           0                  0       0         0   \n",
       "\n",
       "       Tutorial  Utilities  Video Production  Violent  Web Publishing  \n",
       "0             0          0                 0        0               0  \n",
       "1             0          0                 0        0               0  \n",
       "2             0          0                 0        0               0  \n",
       "3             0          0                 0        0               0  \n",
       "4             0          0                 0        0               0  \n",
       "...         ...        ...               ...      ...             ...  \n",
       "27070         0          0                 0        0               0  \n",
       "27071         0          0                 0        0               0  \n",
       "27072         0          0                 0        0               0  \n",
       "27073         0          0                 0        0               0  \n",
       "27074         0          0                 0        0               0  \n",
       "\n",
       "[27075 rows x 29 columns]"
      ]
     },
     "execution_count": 40,
     "metadata": {},
     "output_type": "execute_result"
    }
   ],
   "source": [
    "genres_df"
   ]
  },
  {
   "cell_type": "code",
   "execution_count": 41,
   "metadata": {},
   "outputs": [
    {
     "data": {
      "text/plain": [
       "Indie           0.717304\n",
       "Action          0.439631\n",
       "Casual          0.377101\n",
       "Adventure       0.370526\n",
       "Strategy        0.193795\n",
       "Simulation      0.191837\n",
       "RPG             0.159224\n",
       "Early Access    0.109104\n",
       "Free to Play    0.062936\n",
       "Sports          0.048827\n",
       "dtype: float64"
      ]
     },
     "execution_count": 41,
     "metadata": {},
     "output_type": "execute_result"
    }
   ],
   "source": [
    "(genres_df.sum() / len(genres_df)).sort_values(ascending=False).head(10)"
   ]
  },
  {
   "attachments": {},
   "cell_type": "markdown",
   "metadata": {},
   "source": [
    "#### Observations\n",
    "\n",
    "We see many labels for software instead of games in general like `Accounting`, `Animation & Modelling`, `Audio Production`, `Design & Illustration` etc. It might be possible for the clustering algorithm to identify software applications as a cluster. "
   ]
  },
  {
   "cell_type": "code",
   "execution_count": 42,
   "metadata": {},
   "outputs": [],
   "source": [
    "# pearson's correlation does not work for categorical data. only continuous data.\n",
    "# sb.heatmap(genres_df.corr(), vmin=-1, vmax=1, linewidths=1, cmap=\"RdBu\", annot=True, fmt='.2f', ax=plt.subplots(1,1,figsize=(24,20))[1], square=True)"
   ]
  },
  {
   "cell_type": "code",
   "execution_count": 43,
   "metadata": {},
   "outputs": [
    {
     "data": {
      "text/plain": [
       "<seaborn.axisgrid.FacetGrid at 0x7f6dbb37f820>"
      ]
     },
     "execution_count": 43,
     "metadata": {},
     "output_type": "execute_result"
    },
    {
     "data": {
      "image/png": "[encoded data removed]",
      "text/plain": [
       "<Figure size 500x500 with 1 Axes>"
      ]
     },
     "metadata": {},
     "output_type": "display_data"
    }
   ],
   "source": [
    "sb.catplot(kaggle_steam, x='num_genres', kind='count')"
   ]
  },
  {
   "cell_type": "code",
   "execution_count": 44,
   "metadata": {},
   "outputs": [
    {
     "data": {
      "text/plain": [
       "count    27075.000000\n",
       "mean         2.824081\n",
       "std          1.333244\n",
       "min          1.000000\n",
       "25%          2.000000\n",
       "50%          3.000000\n",
       "75%          4.000000\n",
       "max         16.000000\n",
       "Name: num_genres, dtype: float64"
      ]
     },
     "execution_count": 44,
     "metadata": {},
     "output_type": "execute_result"
    }
   ],
   "source": [
    "kaggle_steam['num_genres'].describe()"
   ]
  },
  {
   "cell_type": "code",
   "execution_count": 45,
   "metadata": {},
   "outputs": [
    {
     "data": {
      "text/plain": [
       "<Axes: >"
      ]
     },
     "execution_count": 45,
     "metadata": {},
     "output_type": "execute_result"
    },
    {
     "data": {
      "image/png": "[encoded data removed]",
      "text/plain": [
       "<Figure size 2400x800 with 3 Axes>"
      ]
     },
     "metadata": {},
     "output_type": "display_data"
    }
   ],
   "source": [
    "fig, ax = plt.subplots(1,3, figsize=(24, 8))\n",
    "sb.boxplot(data=kaggle_steam['num_genres'], orient='h', ax=ax[0])\n",
    "\n",
    "sb.histplot(data=kaggle_steam['num_genres'], ax=ax[1])\n",
    "\n",
    "sb.violinplot(data=kaggle_steam['num_genres'], orient='h', ax=ax[2])"
   ]
  },
  {
   "cell_type": "code",
   "execution_count": 46,
   "metadata": {},
   "outputs": [
    {
     "data": {
      "text/plain": [
       "8     60\n",
       "9     26\n",
       "10    12\n",
       "11     7\n",
       "13     1\n",
       "16     1\n",
       "Name: num_genres, dtype: int64"
      ]
     },
     "execution_count": 46,
     "metadata": {},
     "output_type": "execute_result"
    }
   ],
   "source": [
    "kaggle_steam[kaggle_steam['num_genres'] > 7]['num_genres'].value_counts()"
   ]
  },
  {
   "attachments": {},
   "cell_type": "markdown",
   "metadata": {},
   "source": [
    "#### Observations 2\n",
    "\n",
    "It seems that genres > 10 are filled with games that are somewhat unpopular. Perhaps this is a marketing scheme to make the game show up in more searches and hence increase the likelihood of them being purchased. However, based on our investigation, this proves to be untrue (corr=-0.07). There is also no correlation between `num_categories` and `num_genres`."
   ]
  },
  {
   "cell_type": "code",
   "execution_count": 47,
   "metadata": {},
   "outputs": [
    {
     "data": {
      "text/html": [
       "<div>\n",
       "<style scoped>\n",
       "    .dataframe tbody tr th:only-of-type {\n",
       "        vertical-align: middle;\n",
       "    }\n",
       "\n",
       "    .dataframe tbody tr th {\n",
       "        vertical-align: top;\n",
       "    }\n",
       "\n",
       "    .dataframe thead th {\n",
       "        text-align: right;\n",
       "    }\n",
       "</style>\n",
       "<table border=\"1\" class=\"dataframe\">\n",
       "  <thead>\n",
       "    <tr style=\"text-align: right;\">\n",
       "      <th></th>\n",
       "      <th>appid</th>\n",
       "      <th>name</th>\n",
       "      <th>release_date</th>\n",
       "      <th>english</th>\n",
       "      <th>developer</th>\n",
       "      <th>publisher</th>\n",
       "      <th>platforms</th>\n",
       "      <th>required_age</th>\n",
       "      <th>categories</th>\n",
       "      <th>genres</th>\n",
       "      <th>...</th>\n",
       "      <th>median_playtime</th>\n",
       "      <th>owners</th>\n",
       "      <th>price</th>\n",
       "      <th>year</th>\n",
       "      <th>est_owners</th>\n",
       "      <th>linux</th>\n",
       "      <th>mac</th>\n",
       "      <th>windows</th>\n",
       "      <th>num_categories</th>\n",
       "      <th>num_genres</th>\n",
       "    </tr>\n",
       "  </thead>\n",
       "  <tbody>\n",
       "    <tr>\n",
       "      <th>16768</th>\n",
       "      <td>697630</td>\n",
       "      <td>WARMA</td>\n",
       "      <td>2018-06-19</td>\n",
       "      <td>1</td>\n",
       "      <td>WARMA Corporation</td>\n",
       "      <td>WARMA Corporation</td>\n",
       "      <td>windows</td>\n",
       "      <td>0</td>\n",
       "      <td>Online Multi-Player;MMO</td>\n",
       "      <td>Nudity;Violent;Gore;Action;Adventure;Indie;Mas...</td>\n",
       "      <td>...</td>\n",
       "      <td>0</td>\n",
       "      <td>0-20000</td>\n",
       "      <td>9.29</td>\n",
       "      <td>2018</td>\n",
       "      <td>4.30103</td>\n",
       "      <td>0</td>\n",
       "      <td>0</td>\n",
       "      <td>1</td>\n",
       "      <td>2</td>\n",
       "      <td>11</td>\n",
       "    </tr>\n",
       "    <tr>\n",
       "      <th>24494</th>\n",
       "      <td>933920</td>\n",
       "      <td>GIRLS VR UNCENSORED!!!</td>\n",
       "      <td>2018-09-28</td>\n",
       "      <td>1</td>\n",
       "      <td>Eroticon VR</td>\n",
       "      <td>Eroticon VR</td>\n",
       "      <td>windows</td>\n",
       "      <td>0</td>\n",
       "      <td>Single-player</td>\n",
       "      <td>Action;Adventure;Casual;Free to Play;Indie;Mas...</td>\n",
       "      <td>...</td>\n",
       "      <td>0</td>\n",
       "      <td>0-20000</td>\n",
       "      <td>9.29</td>\n",
       "      <td>2018</td>\n",
       "      <td>4.30103</td>\n",
       "      <td>0</td>\n",
       "      <td>0</td>\n",
       "      <td>1</td>\n",
       "      <td>1</td>\n",
       "      <td>11</td>\n",
       "    </tr>\n",
       "    <tr>\n",
       "      <th>24515</th>\n",
       "      <td>934710</td>\n",
       "      <td>英语杀</td>\n",
       "      <td>2018-11-04</td>\n",
       "      <td>0</td>\n",
       "      <td>边玩边学网络科技有限公司</td>\n",
       "      <td>边玩边学网络科技有限公司</td>\n",
       "      <td>windows</td>\n",
       "      <td>0</td>\n",
       "      <td>Single-player</td>\n",
       "      <td>Casual;Free to Play;Indie;RPG;Strategy;Account...</td>\n",
       "      <td>...</td>\n",
       "      <td>0</td>\n",
       "      <td>0-20000</td>\n",
       "      <td>0.00</td>\n",
       "      <td>2018</td>\n",
       "      <td>4.30103</td>\n",
       "      <td>0</td>\n",
       "      <td>0</td>\n",
       "      <td>1</td>\n",
       "      <td>1</td>\n",
       "      <td>16</td>\n",
       "    </tr>\n",
       "    <tr>\n",
       "      <th>24524</th>\n",
       "      <td>934990</td>\n",
       "      <td>Cute Girls VR</td>\n",
       "      <td>2018-09-22</td>\n",
       "      <td>1</td>\n",
       "      <td>Tomimar</td>\n",
       "      <td>Tomimar</td>\n",
       "      <td>windows</td>\n",
       "      <td>0</td>\n",
       "      <td>Single-player</td>\n",
       "      <td>Action;Adventure;Casual;Free to Play;Indie;Mas...</td>\n",
       "      <td>...</td>\n",
       "      <td>0</td>\n",
       "      <td>0-20000</td>\n",
       "      <td>6.19</td>\n",
       "      <td>2018</td>\n",
       "      <td>4.30103</td>\n",
       "      <td>0</td>\n",
       "      <td>0</td>\n",
       "      <td>1</td>\n",
       "      <td>1</td>\n",
       "      <td>11</td>\n",
       "    </tr>\n",
       "    <tr>\n",
       "      <th>25010</th>\n",
       "      <td>953610</td>\n",
       "      <td>HOT GIRLS VR</td>\n",
       "      <td>2018-10-26</td>\n",
       "      <td>1</td>\n",
       "      <td>tomimar</td>\n",
       "      <td>tomimar</td>\n",
       "      <td>windows</td>\n",
       "      <td>0</td>\n",
       "      <td>Single-player</td>\n",
       "      <td>Action;Adventure;Casual;Free to Play;Indie;Mas...</td>\n",
       "      <td>...</td>\n",
       "      <td>0</td>\n",
       "      <td>0-20000</td>\n",
       "      <td>9.29</td>\n",
       "      <td>2018</td>\n",
       "      <td>4.30103</td>\n",
       "      <td>0</td>\n",
       "      <td>0</td>\n",
       "      <td>1</td>\n",
       "      <td>1</td>\n",
       "      <td>11</td>\n",
       "    </tr>\n",
       "    <tr>\n",
       "      <th>25118</th>\n",
       "      <td>958300</td>\n",
       "      <td>Cute Girls 可爱的女孩</td>\n",
       "      <td>2018-10-21</td>\n",
       "      <td>1</td>\n",
       "      <td>Dance studio mix</td>\n",
       "      <td>Dance studio mix</td>\n",
       "      <td>windows</td>\n",
       "      <td>0</td>\n",
       "      <td>Single-player</td>\n",
       "      <td>Action;Adventure;Casual;Free to Play;Indie;Mas...</td>\n",
       "      <td>...</td>\n",
       "      <td>0</td>\n",
       "      <td>0-20000</td>\n",
       "      <td>2.89</td>\n",
       "      <td>2018</td>\n",
       "      <td>4.30103</td>\n",
       "      <td>0</td>\n",
       "      <td>0</td>\n",
       "      <td>1</td>\n",
       "      <td>1</td>\n",
       "      <td>11</td>\n",
       "    </tr>\n",
       "    <tr>\n",
       "      <th>25951</th>\n",
       "      <td>994320</td>\n",
       "      <td>Night City 2177</td>\n",
       "      <td>2019-02-23</td>\n",
       "      <td>1</td>\n",
       "      <td>Alongini</td>\n",
       "      <td>Alongini</td>\n",
       "      <td>windows</td>\n",
       "      <td>0</td>\n",
       "      <td>Single-player</td>\n",
       "      <td>Action;Adventure;Casual;Free to Play;Indie;Mas...</td>\n",
       "      <td>...</td>\n",
       "      <td>0</td>\n",
       "      <td>0-20000</td>\n",
       "      <td>2.89</td>\n",
       "      <td>2019</td>\n",
       "      <td>4.30103</td>\n",
       "      <td>0</td>\n",
       "      <td>0</td>\n",
       "      <td>1</td>\n",
       "      <td>1</td>\n",
       "      <td>11</td>\n",
       "    </tr>\n",
       "    <tr>\n",
       "      <th>26957</th>\n",
       "      <td>1050150</td>\n",
       "      <td>Sexy Miss</td>\n",
       "      <td>2019-04-20</td>\n",
       "      <td>1</td>\n",
       "      <td>Sexy Miss Studio</td>\n",
       "      <td>Sexy Miss Studio</td>\n",
       "      <td>windows</td>\n",
       "      <td>0</td>\n",
       "      <td>Single-player</td>\n",
       "      <td>Action;Adventure;Casual;Free to Play;Indie;Mas...</td>\n",
       "      <td>...</td>\n",
       "      <td>0</td>\n",
       "      <td>0-20000</td>\n",
       "      <td>13.99</td>\n",
       "      <td>2019</td>\n",
       "      <td>4.30103</td>\n",
       "      <td>0</td>\n",
       "      <td>0</td>\n",
       "      <td>1</td>\n",
       "      <td>1</td>\n",
       "      <td>11</td>\n",
       "    </tr>\n",
       "    <tr>\n",
       "      <th>20466</th>\n",
       "      <td>803010</td>\n",
       "      <td>Supermedium - Virtual Reality Browser</td>\n",
       "      <td>2018-03-06</td>\n",
       "      <td>1</td>\n",
       "      <td>Supermedium</td>\n",
       "      <td>Supermedium</td>\n",
       "      <td>windows</td>\n",
       "      <td>0</td>\n",
       "      <td>Single-player</td>\n",
       "      <td>Casual;Free to Play;Indie;Accounting;Animation...</td>\n",
       "      <td>...</td>\n",
       "      <td>0</td>\n",
       "      <td>20000-50000</td>\n",
       "      <td>0.00</td>\n",
       "      <td>2018</td>\n",
       "      <td>4.69897</td>\n",
       "      <td>0</td>\n",
       "      <td>0</td>\n",
       "      <td>1</td>\n",
       "      <td>1</td>\n",
       "      <td>13</td>\n",
       "    </tr>\n",
       "  </tbody>\n",
       "</table>\n",
       "<p>9 rows × 25 columns</p>\n",
       "</div>"
      ],
      "text/plain": [
       "         appid                                   name release_date  english  \\\n",
       "16768   697630                                  WARMA   2018-06-19        1   \n",
       "24494   933920                 GIRLS VR UNCENSORED!!!   2018-09-28        1   \n",
       "24515   934710                                    英语杀   2018-11-04        0   \n",
       "24524   934990                          Cute Girls VR   2018-09-22        1   \n",
       "25010   953610                           HOT GIRLS VR   2018-10-26        1   \n",
       "25118   958300                       Cute Girls 可爱的女孩   2018-10-21        1   \n",
       "25951   994320                        Night City 2177   2019-02-23        1   \n",
       "26957  1050150                              Sexy Miss   2019-04-20        1   \n",
       "20466   803010  Supermedium - Virtual Reality Browser   2018-03-06        1   \n",
       "\n",
       "               developer          publisher platforms  required_age  \\\n",
       "16768  WARMA Corporation  WARMA Corporation   windows             0   \n",
       "24494        Eroticon VR        Eroticon VR   windows             0   \n",
       "24515       边玩边学网络科技有限公司       边玩边学网络科技有限公司   windows             0   \n",
       "24524            Tomimar            Tomimar   windows             0   \n",
       "25010            tomimar            tomimar   windows             0   \n",
       "25118   Dance studio mix   Dance studio mix   windows             0   \n",
       "25951           Alongini           Alongini   windows             0   \n",
       "26957   Sexy Miss Studio   Sexy Miss Studio   windows             0   \n",
       "20466        Supermedium        Supermedium   windows             0   \n",
       "\n",
       "                    categories  \\\n",
       "16768  Online Multi-Player;MMO   \n",
       "24494            Single-player   \n",
       "24515            Single-player   \n",
       "24524            Single-player   \n",
       "25010            Single-player   \n",
       "25118            Single-player   \n",
       "25951            Single-player   \n",
       "26957            Single-player   \n",
       "20466            Single-player   \n",
       "\n",
       "                                                  genres  ... median_playtime  \\\n",
       "16768  Nudity;Violent;Gore;Action;Adventure;Indie;Mas...  ...               0   \n",
       "24494  Action;Adventure;Casual;Free to Play;Indie;Mas...  ...               0   \n",
       "24515  Casual;Free to Play;Indie;RPG;Strategy;Account...  ...               0   \n",
       "24524  Action;Adventure;Casual;Free to Play;Indie;Mas...  ...               0   \n",
       "25010  Action;Adventure;Casual;Free to Play;Indie;Mas...  ...               0   \n",
       "25118  Action;Adventure;Casual;Free to Play;Indie;Mas...  ...               0   \n",
       "25951  Action;Adventure;Casual;Free to Play;Indie;Mas...  ...               0   \n",
       "26957  Action;Adventure;Casual;Free to Play;Indie;Mas...  ...               0   \n",
       "20466  Casual;Free to Play;Indie;Accounting;Animation...  ...               0   \n",
       "\n",
       "            owners  price  year  est_owners  linux mac  windows  \\\n",
       "16768      0-20000   9.29  2018     4.30103      0   0        1   \n",
       "24494      0-20000   9.29  2018     4.30103      0   0        1   \n",
       "24515      0-20000   0.00  2018     4.30103      0   0        1   \n",
       "24524      0-20000   6.19  2018     4.30103      0   0        1   \n",
       "25010      0-20000   9.29  2018     4.30103      0   0        1   \n",
       "25118      0-20000   2.89  2018     4.30103      0   0        1   \n",
       "25951      0-20000   2.89  2019     4.30103      0   0        1   \n",
       "26957      0-20000  13.99  2019     4.30103      0   0        1   \n",
       "20466  20000-50000   0.00  2018     4.69897      0   0        1   \n",
       "\n",
       "       num_categories  num_genres  \n",
       "16768               2          11  \n",
       "24494               1          11  \n",
       "24515               1          16  \n",
       "24524               1          11  \n",
       "25010               1          11  \n",
       "25118               1          11  \n",
       "25951               1          11  \n",
       "26957               1          11  \n",
       "20466               1          13  \n",
       "\n",
       "[9 rows x 25 columns]"
      ]
     },
     "execution_count": 47,
     "metadata": {},
     "output_type": "execute_result"
    }
   ],
   "source": [
    "kaggle_steam[kaggle_steam['num_genres'] > 10].sort_values(by='est_owners')"
   ]
  },
  {
   "cell_type": "code",
   "execution_count": 48,
   "metadata": {},
   "outputs": [
    {
     "data": {
      "text/plain": [
       "<Axes: >"
      ]
     },
     "execution_count": 48,
     "metadata": {},
     "output_type": "execute_result"
    },
    {
     "data": {
      "image/png": "[encoded data removed]",
      "text/plain": [
       "<Figure size 640x480 with 2 Axes>"
      ]
     },
     "metadata": {},
     "output_type": "display_data"
    }
   ],
   "source": [
    "sb.heatmap(kaggle_steam[['num_genres', 'est_owners']].corr(), vmin=-1, vmax=1, linewidths=1, cmap=\"RdBu\", annot=True, fmt='.2f')"
   ]
  },
  {
   "cell_type": "code",
   "execution_count": 49,
   "metadata": {},
   "outputs": [
    {
     "data": {
      "text/plain": [
       "<Axes: >"
      ]
     },
     "execution_count": 49,
     "metadata": {},
     "output_type": "execute_result"
    },
    {
     "data": {
      "image/png": "[encoded data removed]",
      "text/plain": [
       "<Figure size 640x480 with 2 Axes>"
      ]
     },
     "metadata": {},
     "output_type": "display_data"
    }
   ],
   "source": [
    "sb.heatmap(kaggle_steam[['num_categories', 'num_genres']].corr(), vmin=-1, vmax=1, linewidths=1, cmap=\"RdBu\", annot=True, fmt='.2f')"
   ]
  },
  {
   "attachments": {},
   "cell_type": "markdown",
   "metadata": {},
   "source": [
    "### `steamspy_tags`"
   ]
  },
  {
   "cell_type": "code",
   "execution_count": 50,
   "metadata": {},
   "outputs": [
    {
     "data": {
      "text/plain": [
       "0        3\n",
       "1        3\n",
       "2        3\n",
       "3        3\n",
       "4        3\n",
       "        ..\n",
       "27070    3\n",
       "27071    3\n",
       "27072    3\n",
       "27073    3\n",
       "27074    3\n",
       "Name: num_steamspy_tags, Length: 27075, dtype: int64"
      ]
     },
     "execution_count": 50,
     "metadata": {},
     "output_type": "execute_result"
    }
   ],
   "source": [
    "kaggle_steam['num_steamspy_tags'] = kaggle_steam['steamspy_tags'].str.split(';').map(len)\n",
    "kaggle_steam['num_steamspy_tags']"
   ]
  },
  {
   "cell_type": "code",
   "execution_count": 51,
   "metadata": {},
   "outputs": [
    {
     "name": "stdout",
     "output_type": "stream",
     "text": [
      "Column `steamspy_tags` has 339 unique labels\n"
     ]
    },
    {
     "data": {
      "text/plain": [
       "array(['1980s', \"1990's\", '2.5D', '2D', '2D Fighter', '360 Video', '3D',\n",
       "       '3D Platformer', '3D Vision', '4 Player Local', '4X', '6DOF',\n",
       "       'Abstract', 'Action', 'Action RPG', 'Action-Adventure',\n",
       "       'Adventure', 'Agriculture', 'Aliens', 'Alternate History',\n",
       "       'America', 'Animation & Modeling', 'Anime', 'Arcade',\n",
       "       'Arena Shooter', 'Assassin', 'Atmospheric', 'Audio Production',\n",
       "       'BMX', 'Base-Building', 'Baseball', 'Basketball', 'Batman',\n",
       "       'Battle Royale', \"Beat 'em up\", 'Beautiful', 'Benchmark', 'Bikes',\n",
       "       'Blood', 'Board Game', 'Bowling', 'Building', 'Bullet Hell',\n",
       "       'Bullet Time', 'CRPG', 'Capitalism', 'Card Game', 'Cartoon',\n",
       "       'Cartoony', 'Casual', 'Cats', 'Character Action Game',\n",
       "       'Character Customization', 'Chess', 'Choices Matter',\n",
       "       'Choose Your Own Adventure', 'Cinematic', 'City Builder',\n",
       "       'Class-Based', 'Classic', 'Clicker', 'Co-op', 'Cold War',\n",
       "       'Colorful', 'Comedy', 'Comic Book', 'Competitive', 'Controller',\n",
       "       'Conversation', 'Crafting', 'Crime', 'Cult Classic', 'Cute',\n",
       "       'Cyberpunk', 'Cycling', 'Dark', 'Dark Fantasy', 'Dark Humor',\n",
       "       'Dating Sim', 'Demons', 'Design & Illustration', 'Destruction',\n",
       "       'Detective', 'Difficult', 'Dinosaurs', 'Diplomacy', 'Documentary',\n",
       "       'Dog', 'Dragons', 'Drama', 'Driving', 'Dungeon Crawler',\n",
       "       'Dungeons & Dragons', 'Dystopian ', 'Early Access', 'Economy',\n",
       "       'Education', 'Epic', 'Experimental', 'Exploration', 'FMV', 'FPS',\n",
       "       'Faith', 'Family Friendly', 'Fantasy', 'Fast-Paced',\n",
       "       'Female Protagonist', 'Fighting', 'First-Person', 'Fishing',\n",
       "       'Flight', 'Football', 'Free to Play', 'Funny', 'Futuristic',\n",
       "       'Gambling', 'Game Development', 'GameMaker', 'Games Workshop',\n",
       "       'God Game', 'Golf', 'Gore', 'Gothic', 'Grand Strategy',\n",
       "       'Great Soundtrack', 'Grid-Based Movement', 'Gun Customization',\n",
       "       'Hack and Slash', 'Hacking', 'Hand-drawn', 'Heist', 'Hex Grid',\n",
       "       'Hidden Object', 'Historical', 'Hockey', 'Horror', 'Horses',\n",
       "       'Hunting', 'Illuminati', 'Indie', 'Intentionally Awkward Controls',\n",
       "       'Interactive Fiction', 'Inventory Management', 'Investigation',\n",
       "       'Isometric', 'JRPG', 'Kickstarter', 'LEGO', 'Lara Croft',\n",
       "       'Lemmings', 'Level Editor', 'Linear', 'Local Co-Op',\n",
       "       'Local Multiplayer', 'Logic', 'Loot', 'Lovecraftian', 'MMORPG',\n",
       "       'MOBA', 'Magic', 'Management', 'Mars', 'Martial Arts',\n",
       "       'Massively Multiplayer', 'Masterpiece', 'Match 3', 'Mature',\n",
       "       'Mechs', 'Medieval', 'Memes', 'Metroidvania', 'Military',\n",
       "       'Mini Golf', 'Minimalist', 'Mining', 'Mod', 'Moddable',\n",
       "       'Motocross', 'Motorbike', 'Mouse only', 'Movie', 'Multiplayer',\n",
       "       'Multiple Endings', 'Music', 'Music-Based Procedural Generation',\n",
       "       'Mystery', 'Mystery Dungeon', 'Mythology', 'NSFW', 'Narration',\n",
       "       'Naval', 'Ninja', 'Noir', 'Nonlinear', 'Nudity', 'Offroad',\n",
       "       'Old School', 'On-Rails Shooter', 'Online Co-Op', 'Open World',\n",
       "       'Otome', 'Parkour', 'Parody ', 'Party-Based RPG', 'Perma Death',\n",
       "       'Philisophical', 'Photo Editing', 'Physics', 'Pinball', 'Pirates',\n",
       "       'Pixel Graphics', 'Platformer', 'Point & Click', 'Political',\n",
       "       'Politics', 'Pool', 'Post-apocalyptic', 'Procedural Generation',\n",
       "       'Programming', 'Psychedelic', 'Psychological',\n",
       "       'Psychological Horror', 'Puzzle', 'Puzzle-Platformer', 'PvP',\n",
       "       'Quick-Time Events', 'RPG', 'RPGMaker', 'RTS', 'Racing',\n",
       "       'Real Time Tactics', 'Real-Time', 'Real-Time with Pause',\n",
       "       'Realistic', 'Relaxing', 'Remake', 'Replay Value',\n",
       "       'Resource Management', 'Retro', 'Rhythm', 'Robots', 'Rogue-like',\n",
       "       'Rogue-lite', 'Romance', 'Rome', 'Runner', 'Sailing', 'Sandbox',\n",
       "       'Satire', 'Sci-fi', 'Science', 'Score Attack', 'Sexual Content',\n",
       "       \"Shoot 'Em Up\", 'Shooter', 'Short', 'Side Scroller', 'Simulation',\n",
       "       'Singleplayer', 'Skateboarding', 'Skating', 'Sniper', 'Snow',\n",
       "       'Snowboarding', 'Soccer', 'Software', 'Software Training',\n",
       "       'Sokoban', 'Souls-like', 'Space', 'Space Sim', 'Spectacle fighter',\n",
       "       'Spelling', 'Split Screen', 'Sports', 'Star Wars', 'Stealth',\n",
       "       'Steampunk', 'Story Rich', 'Strategy', 'Strategy RPG', 'Stylized',\n",
       "       'Submarine', 'Superhero', 'Supernatural', 'Surreal', 'Survival',\n",
       "       'Survival Horror', 'Swordplay', 'Tactical', 'Tactical RPG',\n",
       "       'Tanks', 'Team-Based', 'Tennis', 'Text-Based', 'Third Person',\n",
       "       'Third-Person Shooter', 'Thriller', 'Time Attack',\n",
       "       'Time Management', 'Time Manipulation', 'Time Travel', 'Top-Down',\n",
       "       'Top-Down Shooter', 'Touch-Friendly', 'Tower Defense', 'Trading',\n",
       "       'Trading Card Game', 'Trains', 'Turn-Based', 'Turn-Based Combat',\n",
       "       'Turn-Based Strategy', 'Turn-Based Tactics', 'Twin Stick Shooter',\n",
       "       'Typing', 'Underwater', 'Utilities', 'VR', 'VR Only', 'Vampire',\n",
       "       'Video Production', 'Villain Protagonist', 'Violent',\n",
       "       'Visual Novel', 'Voice Control', 'Voxel', 'Walking Simulator',\n",
       "       'War', 'Wargame', 'Warhammer 40K', 'Web Publishing', 'Werewolves',\n",
       "       'Western', 'Word Game', 'World War I', 'World War II', 'Wrestling',\n",
       "       'Zombies', 'e-sports'], dtype=object)"
      ]
     },
     "execution_count": 51,
     "metadata": {},
     "output_type": "execute_result"
    }
   ],
   "source": [
    "import warnings\n",
    "warnings.filterwarnings('ignore')\n",
    "tags_df = pd.DataFrame(np.arange(0, len(kaggle_steam))).drop(labels=0, axis=1)\n",
    "r = describe_categorical_as_onehot(tags_df, kaggle_steam['steamspy_tags'], keep='all') # this generates a lot of warnings\n",
    "warnings.filterwarnings('default')\n",
    "tags_df = tags_df.copy(deep=True)\n",
    "r"
   ]
  },
  {
   "cell_type": "code",
   "execution_count": 52,
   "metadata": {},
   "outputs": [
    {
     "data": {
      "text/plain": [
       "Indie                             0.599520\n",
       "Action                            0.381237\n",
       "Casual                            0.303047\n",
       "Adventure                         0.286981\n",
       "Strategy                          0.154127\n",
       "                                    ...   \n",
       "Investigation                     0.000037\n",
       "Cinematic                         0.000037\n",
       "Inventory Management              0.000037\n",
       "Intentionally Awkward Controls    0.000037\n",
       "Logic                             0.000037\n",
       "Length: 339, dtype: float64"
      ]
     },
     "execution_count": 52,
     "metadata": {},
     "output_type": "execute_result"
    }
   ],
   "source": [
    "(tags_df.sum() / len(tags_df)).sort_values(ascending=False)"
   ]
  },
  {
   "attachments": {},
   "cell_type": "markdown",
   "metadata": {},
   "source": [
    "#### Observation 1\n",
    "\n",
    "Most tags are very seldomly used/too specific. 75% of tags are only used by just 55 games. While specific tags can help carve out clusters, if they are only represented by a few games, it could mean that the label itself is not very widely-known/accepted as of yet. It could also just be a synonym for another tag. Hence we should be careful about which labels we decide to include. Since we want to carve out general clusters rather than specific clusters, we can most likely set a threshold to filter less popular tags.\n",
    "\n",
    "Furthermore, some of these tags appear to be the same labels as genres."
   ]
  },
  {
   "cell_type": "code",
   "execution_count": 53,
   "metadata": {},
   "outputs": [
    {
     "data": {
      "text/plain": [
       "count      339.000000\n",
       "mean       230.094395\n",
       "std       1258.224753\n",
       "min          1.000000\n",
       "25%          4.000000\n",
       "50%         14.000000\n",
       "75%         55.000000\n",
       "max      16232.000000\n",
       "dtype: float64"
      ]
     },
     "execution_count": 53,
     "metadata": {},
     "output_type": "execute_result"
    }
   ],
   "source": [
    "tags_df.sum().describe()"
   ]
  },
  {
   "attachments": {},
   "cell_type": "markdown",
   "metadata": {},
   "source": [
    "# Summary\n",
    "\n",
    "- Pearson's correlation coefficient cannot be used for categorical data. (association, chi-squared?)\n",
    "- PCA cannot be used for categorical data. (MCA, MFA)\n",
    "- K-means cannot be used for categorical data. (k-modes, k-prototype)"
   ]
  },
  {
   "attachments": {},
   "cell_type": "markdown",
   "metadata": {},
   "source": [
    "real numeric:\n",
    "- num_categories\n",
    "- num_genres\n",
    "- num_steamspy_tags\n",
    "- year\n",
    "\n",
    "pseudo numeric:\n",
    "- est_owners"
   ]
  },
  {
   "attachments": {},
   "cell_type": "markdown",
   "metadata": {},
   "source": [
    "Perhaps could try: TargetEncoder\n",
    "- for platforms\n",
    "- for categories\n",
    "- for genre"
   ]
  },
  {
   "attachments": {},
   "cell_type": "markdown",
   "metadata": {},
   "source": [
    "# KModes"
   ]
  },
  {
   "cell_type": "code",
   "execution_count": 54,
   "metadata": {},
   "outputs": [
    {
     "data": {
      "text/plain": [
       "appid                      int64\n",
       "name                      object\n",
       "release_date              object\n",
       "english                    int64\n",
       "developer                 object\n",
       "publisher                 object\n",
       "platforms                 object\n",
       "required_age               int64\n",
       "categories                object\n",
       "genres                    object\n",
       "steamspy_tags             object\n",
       "achievements               int64\n",
       "positive_ratings           int64\n",
       "negative_ratings           int64\n",
       "average_playtime           int64\n",
       "median_playtime            int64\n",
       "owners                    object\n",
       "price                    float64\n",
       "year                       int64\n",
       "est_owners               float64\n",
       "linux                      int64\n",
       "mac                        int64\n",
       "windows                    int64\n",
       "num_categories             int64\n",
       "num_genres                 int64\n",
       "num_steamspy_tags          int64\n",
       "Single-player              int64\n",
       "Multi-player               int64\n",
       "Accounting                 int64\n",
       "Action                     int64\n",
       "Adventure                  int64\n",
       "Animation & Modeling       int64\n",
       "Audio Production           int64\n",
       "Casual                     int64\n",
       "Design & Illustration      int64\n",
       "Documentary                int64\n",
       "Early Access               int64\n",
       "Education                  int64\n",
       "Free to Play               int64\n",
       "Game Development           int64\n",
       "Gore                       int64\n",
       "Indie                      int64\n",
       "Massively Multiplayer      int64\n",
       "Nudity                     int64\n",
       "Photo Editing              int64\n",
       "RPG                        int64\n",
       "Racing                     int64\n",
       "Sexual Content             int64\n",
       "Simulation                 int64\n",
       "Software Training          int64\n",
       "Sports                     int64\n",
       "Strategy                   int64\n",
       "Tutorial                   int64\n",
       "Utilities                  int64\n",
       "Video Production           int64\n",
       "Violent                    int64\n",
       "Web Publishing             int64\n",
       "dtype: object"
      ]
     },
     "execution_count": 54,
     "metadata": {},
     "output_type": "execute_result"
    }
   ],
   "source": [
    "kaggle_steam['Single-player'] = categories_df['Single-player']\n",
    "kaggle_steam['Multi-player'] = categories_df['Multi-player']\n",
    "if \"Accounting\" not in kaggle_steam.columns:\n",
    "  kaggle_steam = pd.concat([kaggle_steam, genres_df], axis=1)\n",
    "kaggle_steam.dtypes"
   ]
  },
  {
   "cell_type": "code",
   "execution_count": 55,
   "metadata": {},
   "outputs": [
    {
     "data": {
      "text/html": [
       "<div>\n",
       "<style scoped>\n",
       "    .dataframe tbody tr th:only-of-type {\n",
       "        vertical-align: middle;\n",
       "    }\n",
       "\n",
       "    .dataframe tbody tr th {\n",
       "        vertical-align: top;\n",
       "    }\n",
       "\n",
       "    .dataframe thead th {\n",
       "        text-align: right;\n",
       "    }\n",
       "</style>\n",
       "<table border=\"1\" class=\"dataframe\">\n",
       "  <thead>\n",
       "    <tr style=\"text-align: right;\">\n",
       "      <th></th>\n",
       "      <th>english</th>\n",
       "      <th>linux</th>\n",
       "      <th>mac</th>\n",
       "      <th>linux</th>\n",
       "      <th>Single-player</th>\n",
       "      <th>Multi-player</th>\n",
       "      <th>required_age</th>\n",
       "      <th>achievements</th>\n",
       "      <th>positive_ratings</th>\n",
       "      <th>negative_ratings</th>\n",
       "      <th>average_playtime</th>\n",
       "      <th>median_playtime</th>\n",
       "      <th>price</th>\n",
       "      <th>year</th>\n",
       "      <th>est_owners</th>\n",
       "      <th>num_categories</th>\n",
       "      <th>num_genres</th>\n",
       "      <th>num_steamspy_tags</th>\n",
       "    </tr>\n",
       "  </thead>\n",
       "  <tbody>\n",
       "    <tr>\n",
       "      <th>0</th>\n",
       "      <td>1</td>\n",
       "      <td>1</td>\n",
       "      <td>1</td>\n",
       "      <td>1</td>\n",
       "      <td>0</td>\n",
       "      <td>1</td>\n",
       "      <td>-0.147507</td>\n",
       "      <td>-0.128306</td>\n",
       "      <td>6.505741</td>\n",
       "      <td>0.730006</td>\n",
       "      <td>9.557829</td>\n",
       "      <td>0.072624</td>\n",
       "      <td>0.141186</td>\n",
       "      <td>-7.648808</td>\n",
       "      <td>5.213985</td>\n",
       "      <td>0.306835</td>\n",
       "      <td>-1.368178</td>\n",
       "      <td>0.311447</td>\n",
       "    </tr>\n",
       "    <tr>\n",
       "      <th>1</th>\n",
       "      <td>1</td>\n",
       "      <td>1</td>\n",
       "      <td>1</td>\n",
       "      <td>1</td>\n",
       "      <td>0</td>\n",
       "      <td>1</td>\n",
       "      <td>-0.147507</td>\n",
       "      <td>-0.128306</td>\n",
       "      <td>0.122045</td>\n",
       "      <td>0.098480</td>\n",
       "      <td>0.069619</td>\n",
       "      <td>-0.035710</td>\n",
       "      <td>-0.265175</td>\n",
       "      <td>-8.112426</td>\n",
       "      <td>4.636120</td>\n",
       "      <td>0.306835</td>\n",
       "      <td>-1.368178</td>\n",
       "      <td>0.311447</td>\n",
       "    </tr>\n",
       "    <tr>\n",
       "      <th>2</th>\n",
       "      <td>1</td>\n",
       "      <td>1</td>\n",
       "      <td>1</td>\n",
       "      <td>1</td>\n",
       "      <td>0</td>\n",
       "      <td>1</td>\n",
       "      <td>-0.147507</td>\n",
       "      <td>-0.128306</td>\n",
       "      <td>0.127206</td>\n",
       "      <td>0.043636</td>\n",
       "      <td>0.020358</td>\n",
       "      <td>-0.047606</td>\n",
       "      <td>-0.265175</td>\n",
       "      <td>-6.257955</td>\n",
       "      <td>4.636120</td>\n",
       "      <td>-0.587702</td>\n",
       "      <td>-1.368178</td>\n",
       "      <td>0.311447</td>\n",
       "    </tr>\n",
       "    <tr>\n",
       "      <th>3</th>\n",
       "      <td>1</td>\n",
       "      <td>1</td>\n",
       "      <td>1</td>\n",
       "      <td>1</td>\n",
       "      <td>0</td>\n",
       "      <td>1</td>\n",
       "      <td>-0.147507</td>\n",
       "      <td>-0.128306</td>\n",
       "      <td>0.014348</td>\n",
       "      <td>0.013063</td>\n",
       "      <td>0.059220</td>\n",
       "      <td>0.016120</td>\n",
       "      <td>-0.265175</td>\n",
       "      <td>-7.185190</td>\n",
       "      <td>4.636120</td>\n",
       "      <td>0.306835</td>\n",
       "      <td>-1.368178</td>\n",
       "      <td>0.311447</td>\n",
       "    </tr>\n",
       "    <tr>\n",
       "      <th>4</th>\n",
       "      <td>1</td>\n",
       "      <td>1</td>\n",
       "      <td>1</td>\n",
       "      <td>1</td>\n",
       "      <td>1</td>\n",
       "      <td>1</td>\n",
       "      <td>-0.147507</td>\n",
       "      <td>-0.128306</td>\n",
       "      <td>0.223792</td>\n",
       "      <td>0.017964</td>\n",
       "      <td>0.259548</td>\n",
       "      <td>0.114258</td>\n",
       "      <td>-0.265175</td>\n",
       "      <td>-8.112426</td>\n",
       "      <td>4.636120</td>\n",
       "      <td>-0.140433</td>\n",
       "      <td>-1.368178</td>\n",
       "      <td>0.311447</td>\n",
       "    </tr>\n",
       "    <tr>\n",
       "      <th>...</th>\n",
       "      <td>...</td>\n",
       "      <td>...</td>\n",
       "      <td>...</td>\n",
       "      <td>...</td>\n",
       "      <td>...</td>\n",
       "      <td>...</td>\n",
       "      <td>...</td>\n",
       "      <td>...</td>\n",
       "      <td>...</td>\n",
       "      <td>...</td>\n",
       "      <td>...</td>\n",
       "      <td>...</td>\n",
       "      <td>...</td>\n",
       "      <td>...</td>\n",
       "      <td>...</td>\n",
       "      <td>...</td>\n",
       "      <td>...</td>\n",
       "      <td>...</td>\n",
       "    </tr>\n",
       "    <tr>\n",
       "      <th>27070</th>\n",
       "      <td>1</td>\n",
       "      <td>0</td>\n",
       "      <td>0</td>\n",
       "      <td>0</td>\n",
       "      <td>1</td>\n",
       "      <td>0</td>\n",
       "      <td>-0.147507</td>\n",
       "      <td>-0.108457</td>\n",
       "      <td>-0.052535</td>\n",
       "      <td>-0.049249</td>\n",
       "      <td>-0.081995</td>\n",
       "      <td>-0.062050</td>\n",
       "      <td>-0.506452</td>\n",
       "      <td>1.159926</td>\n",
       "      <td>-0.544894</td>\n",
       "      <td>-0.587702</td>\n",
       "      <td>0.131950</td>\n",
       "      <td>0.311447</td>\n",
       "    </tr>\n",
       "    <tr>\n",
       "      <th>27071</th>\n",
       "      <td>1</td>\n",
       "      <td>0</td>\n",
       "      <td>0</td>\n",
       "      <td>0</td>\n",
       "      <td>1</td>\n",
       "      <td>0</td>\n",
       "      <td>-0.147507</td>\n",
       "      <td>-0.128306</td>\n",
       "      <td>-0.052272</td>\n",
       "      <td>-0.049016</td>\n",
       "      <td>-0.081995</td>\n",
       "      <td>-0.062050</td>\n",
       "      <td>-0.557247</td>\n",
       "      <td>1.159926</td>\n",
       "      <td>-0.544894</td>\n",
       "      <td>-1.034970</td>\n",
       "      <td>0.131950</td>\n",
       "      <td>0.311447</td>\n",
       "    </tr>\n",
       "    <tr>\n",
       "      <th>27072</th>\n",
       "      <td>1</td>\n",
       "      <td>0</td>\n",
       "      <td>0</td>\n",
       "      <td>0</td>\n",
       "      <td>1</td>\n",
       "      <td>1</td>\n",
       "      <td>-0.147507</td>\n",
       "      <td>-0.060252</td>\n",
       "      <td>-0.052693</td>\n",
       "      <td>-0.049016</td>\n",
       "      <td>-0.081995</td>\n",
       "      <td>-0.062050</td>\n",
       "      <td>-0.265175</td>\n",
       "      <td>1.159926</td>\n",
       "      <td>-0.544894</td>\n",
       "      <td>1.648640</td>\n",
       "      <td>0.131950</td>\n",
       "      <td>0.311447</td>\n",
       "    </tr>\n",
       "    <tr>\n",
       "      <th>27073</th>\n",
       "      <td>1</td>\n",
       "      <td>0</td>\n",
       "      <td>1</td>\n",
       "      <td>0</td>\n",
       "      <td>1</td>\n",
       "      <td>0</td>\n",
       "      <td>-0.147507</td>\n",
       "      <td>-0.128306</td>\n",
       "      <td>-0.052588</td>\n",
       "      <td>-0.049249</td>\n",
       "      <td>-0.081995</td>\n",
       "      <td>-0.062050</td>\n",
       "      <td>-0.112790</td>\n",
       "      <td>1.159926</td>\n",
       "      <td>-0.544894</td>\n",
       "      <td>-0.587702</td>\n",
       "      <td>0.131950</td>\n",
       "      <td>0.311447</td>\n",
       "    </tr>\n",
       "    <tr>\n",
       "      <th>27074</th>\n",
       "      <td>1</td>\n",
       "      <td>0</td>\n",
       "      <td>1</td>\n",
       "      <td>0</td>\n",
       "      <td>1</td>\n",
       "      <td>0</td>\n",
       "      <td>-0.147507</td>\n",
       "      <td>-0.128306</td>\n",
       "      <td>-0.052483</td>\n",
       "      <td>-0.049249</td>\n",
       "      <td>-0.081995</td>\n",
       "      <td>-0.062050</td>\n",
       "      <td>-0.112790</td>\n",
       "      <td>1.159926</td>\n",
       "      <td>-0.544894</td>\n",
       "      <td>-0.587702</td>\n",
       "      <td>0.131950</td>\n",
       "      <td>0.311447</td>\n",
       "    </tr>\n",
       "  </tbody>\n",
       "</table>\n",
       "<p>27075 rows × 18 columns</p>\n",
       "</div>"
      ],
      "text/plain": [
       "       english  linux  mac  linux  Single-player  Multi-player  required_age  \\\n",
       "0            1      1    1      1              0             1     -0.147507   \n",
       "1            1      1    1      1              0             1     -0.147507   \n",
       "2            1      1    1      1              0             1     -0.147507   \n",
       "3            1      1    1      1              0             1     -0.147507   \n",
       "4            1      1    1      1              1             1     -0.147507   \n",
       "...        ...    ...  ...    ...            ...           ...           ...   \n",
       "27070        1      0    0      0              1             0     -0.147507   \n",
       "27071        1      0    0      0              1             0     -0.147507   \n",
       "27072        1      0    0      0              1             1     -0.147507   \n",
       "27073        1      0    1      0              1             0     -0.147507   \n",
       "27074        1      0    1      0              1             0     -0.147507   \n",
       "\n",
       "       achievements  positive_ratings  negative_ratings  average_playtime  \\\n",
       "0         -0.128306          6.505741          0.730006          9.557829   \n",
       "1         -0.128306          0.122045          0.098480          0.069619   \n",
       "2         -0.128306          0.127206          0.043636          0.020358   \n",
       "3         -0.128306          0.014348          0.013063          0.059220   \n",
       "4         -0.128306          0.223792          0.017964          0.259548   \n",
       "...             ...               ...               ...               ...   \n",
       "27070     -0.108457         -0.052535         -0.049249         -0.081995   \n",
       "27071     -0.128306         -0.052272         -0.049016         -0.081995   \n",
       "27072     -0.060252         -0.052693         -0.049016         -0.081995   \n",
       "27073     -0.128306         -0.052588         -0.049249         -0.081995   \n",
       "27074     -0.128306         -0.052483         -0.049249         -0.081995   \n",
       "\n",
       "       median_playtime     price      year  est_owners  num_categories  \\\n",
       "0             0.072624  0.141186 -7.648808    5.213985        0.306835   \n",
       "1            -0.035710 -0.265175 -8.112426    4.636120        0.306835   \n",
       "2            -0.047606 -0.265175 -6.257955    4.636120       -0.587702   \n",
       "3             0.016120 -0.265175 -7.185190    4.636120        0.306835   \n",
       "4             0.114258 -0.265175 -8.112426    4.636120       -0.140433   \n",
       "...                ...       ...       ...         ...             ...   \n",
       "27070        -0.062050 -0.506452  1.159926   -0.544894       -0.587702   \n",
       "27071        -0.062050 -0.557247  1.159926   -0.544894       -1.034970   \n",
       "27072        -0.062050 -0.265175  1.159926   -0.544894        1.648640   \n",
       "27073        -0.062050 -0.112790  1.159926   -0.544894       -0.587702   \n",
       "27074        -0.062050 -0.112790  1.159926   -0.544894       -0.587702   \n",
       "\n",
       "       num_genres  num_steamspy_tags  \n",
       "0       -1.368178           0.311447  \n",
       "1       -1.368178           0.311447  \n",
       "2       -1.368178           0.311447  \n",
       "3       -1.368178           0.311447  \n",
       "4       -1.368178           0.311447  \n",
       "...           ...                ...  \n",
       "27070    0.131950           0.311447  \n",
       "27071    0.131950           0.311447  \n",
       "27072    0.131950           0.311447  \n",
       "27073    0.131950           0.311447  \n",
       "27074    0.131950           0.311447  \n",
       "\n",
       "[27075 rows x 18 columns]"
      ]
     },
     "execution_count": 55,
     "metadata": {},
     "output_type": "execute_result"
    }
   ],
   "source": [
    "categorical = ['english', 'linux', 'mac', 'linux', 'Single-player', 'Multi-player'] # + list(genres_df.columns)\n",
    "numerical = ['required_age', 'achievements', 'positive_ratings', 'negative_ratings',\n",
    "             'average_playtime', 'median_playtime', 'price',\n",
    "             'year', 'est_owners', 'num_categories', 'num_genres', 'num_steamspy_tags']\n",
    "X = pd.DataFrame(data=StandardScaler().fit_transform(kaggle_steam.loc[:, numerical]), columns=numerical)\n",
    "X = pd.concat([kaggle_steam.loc[:, categorical], X], axis=1)\n",
    "X"
   ]
  },
  {
   "cell_type": "code",
   "execution_count": 69,
   "metadata": {},
   "outputs": [],
   "source": [
    "from kmodes.kprototypes import KPrototypes\n",
    "import logging\n",
    "\n",
    "log = logging.getLogger(__name__)\n",
    "log.setLevel(logging.INFO)\n",
    "\n",
    "def cluster(n=1):\n",
    "  model = KPrototypes(n_clusters = n, n_jobs = -1, random_state = 0)\n",
    "  log.info(\"Performing clustering for n=%d\", n)\n",
    "  model.fit_predict(X=X, y=kaggle_steam.loc[:, 'appid'], categorical=list(range(0, len(categorical))))\n",
    "  log.info(\"cost[%d]=%.2f\", n, model.cost_)\n",
    "  return model\n"
   ]
  },
  {
   "cell_type": "code",
   "execution_count": 70,
   "metadata": {},
   "outputs": [
    {
     "data": {
      "text/html": [
       "<pre style=\"white-space:pre;overflow-x:auto;line-height:normal;font-family:Menlo,'DejaVu Sans Mono',consolas,'Courier New',monospace\"><span style=\"color: #7fbfbf; text-decoration-color: #7fbfbf\">[04/02/23 05:21:12] </span><span style=\"color: #000080; text-decoration-color: #000080\">INFO    </span> Performing clustering for <span style=\"color: #808000; text-decoration-color: #808000\">n</span>=<span style=\"color: #008080; text-decoration-color: #008080; font-weight: bold\">1</span>                                           <a href=\"file:///tmp/ipykernel_27427/481419406.py\" target=\"_blank\"><span style=\"color: #7f7f7f; text-decoration-color: #7f7f7f\">481419406.py</span></a><span style=\"color: #7f7f7f; text-decoration-color: #7f7f7f\">:</span><a href=\"file:///tmp/ipykernel_27427/481419406.py#9\" target=\"_blank\"><span style=\"color: #7f7f7f; text-decoration-color: #7f7f7f\">9</span></a>\n",
       "</pre>\n"
      ],
      "text/plain": [
       "\u001b[2;36m[04/02/23 05:21:12]\u001b[0m\u001b[2;36m \u001b[0m\u001b[34mINFO    \u001b[0m Performing clustering for \u001b[33mn\u001b[0m=\u001b[1;36m1\u001b[0m                                           \u001b]8;id=825611;file:///tmp/ipykernel_27427/481419406.py\u001b\\\u001b[2m481419406.py\u001b[0m\u001b]8;;\u001b\\\u001b[2m:\u001b[0m\u001b]8;id=72747;file:///tmp/ipykernel_27427/481419406.py#9\u001b\\\u001b[2m9\u001b[0m\u001b]8;;\u001b\\\n"
      ]
     },
     "metadata": {},
     "output_type": "display_data"
    },
    {
     "data": {
      "text/html": [
       "<pre style=\"white-space:pre;overflow-x:auto;line-height:normal;font-family:Menlo,'DejaVu Sans Mono',consolas,'Courier New',monospace\"><span style=\"color: #7fbfbf; text-decoration-color: #7fbfbf\">[04/02/23 05:21:20] </span><span style=\"color: #000080; text-decoration-color: #000080\">INFO    </span> cost<span style=\"font-weight: bold\">[</span><span style=\"color: #008080; text-decoration-color: #008080; font-weight: bold\">1</span><span style=\"font-weight: bold\">]</span>=<span style=\"color: #008080; text-decoration-color: #008080; font-weight: bold\">337109.00</span>                                                      <a href=\"file:///tmp/ipykernel_27427/481419406.py\" target=\"_blank\"><span style=\"color: #7f7f7f; text-decoration-color: #7f7f7f\">481419406.py</span></a><span style=\"color: #7f7f7f; text-decoration-color: #7f7f7f\">:</span><a href=\"file:///tmp/ipykernel_27427/481419406.py#11\" target=\"_blank\"><span style=\"color: #7f7f7f; text-decoration-color: #7f7f7f\">11</span></a>\n",
       "</pre>\n"
      ],
      "text/plain": [
       "\u001b[2;36m[04/02/23 05:21:20]\u001b[0m\u001b[2;36m \u001b[0m\u001b[34mINFO    \u001b[0m cost\u001b[1m[\u001b[0m\u001b[1;36m1\u001b[0m\u001b[1m]\u001b[0m=\u001b[1;36m337109.00\u001b[0m                                                      \u001b]8;id=57075;file:///tmp/ipykernel_27427/481419406.py\u001b\\\u001b[2m481419406.py\u001b[0m\u001b]8;;\u001b\\\u001b[2m:\u001b[0m\u001b]8;id=347198;file:///tmp/ipykernel_27427/481419406.py#11\u001b\\\u001b[2m11\u001b[0m\u001b]8;;\u001b\\\n"
      ]
     },
     "metadata": {},
     "output_type": "display_data"
    },
    {
     "data": {
      "text/html": [
       "<pre style=\"white-space:pre;overflow-x:auto;line-height:normal;font-family:Menlo,'DejaVu Sans Mono',consolas,'Courier New',monospace\"><span style=\"color: #7fbfbf; text-decoration-color: #7fbfbf\">                    </span><span style=\"color: #000080; text-decoration-color: #000080\">INFO    </span> Performing clustering for <span style=\"color: #808000; text-decoration-color: #808000\">n</span>=<span style=\"color: #008080; text-decoration-color: #008080; font-weight: bold\">2</span>                                           <a href=\"file:///tmp/ipykernel_27427/481419406.py\" target=\"_blank\"><span style=\"color: #7f7f7f; text-decoration-color: #7f7f7f\">481419406.py</span></a><span style=\"color: #7f7f7f; text-decoration-color: #7f7f7f\">:</span><a href=\"file:///tmp/ipykernel_27427/481419406.py#9\" target=\"_blank\"><span style=\"color: #7f7f7f; text-decoration-color: #7f7f7f\">9</span></a>\n",
       "</pre>\n"
      ],
      "text/plain": [
       "\u001b[2;36m                   \u001b[0m\u001b[2;36m \u001b[0m\u001b[34mINFO    \u001b[0m Performing clustering for \u001b[33mn\u001b[0m=\u001b[1;36m2\u001b[0m                                           \u001b]8;id=83557;file:///tmp/ipykernel_27427/481419406.py\u001b\\\u001b[2m481419406.py\u001b[0m\u001b]8;;\u001b\\\u001b[2m:\u001b[0m\u001b]8;id=575840;file:///tmp/ipykernel_27427/481419406.py#9\u001b\\\u001b[2m9\u001b[0m\u001b]8;;\u001b\\\n"
      ]
     },
     "metadata": {},
     "output_type": "display_data"
    },
    {
     "data": {
      "text/html": [
       "<pre style=\"white-space:pre;overflow-x:auto;line-height:normal;font-family:Menlo,'DejaVu Sans Mono',consolas,'Courier New',monospace\"><span style=\"color: #7fbfbf; text-decoration-color: #7fbfbf\">[04/02/23 05:22:14] </span><span style=\"color: #000080; text-decoration-color: #000080\">INFO    </span> cost<span style=\"font-weight: bold\">[</span><span style=\"color: #008080; text-decoration-color: #008080; font-weight: bold\">2</span><span style=\"font-weight: bold\">]</span>=<span style=\"color: #008080; text-decoration-color: #008080; font-weight: bold\">303559.65</span>                                                      <a href=\"file:///tmp/ipykernel_27427/481419406.py\" target=\"_blank\"><span style=\"color: #7f7f7f; text-decoration-color: #7f7f7f\">481419406.py</span></a><span style=\"color: #7f7f7f; text-decoration-color: #7f7f7f\">:</span><a href=\"file:///tmp/ipykernel_27427/481419406.py#11\" target=\"_blank\"><span style=\"color: #7f7f7f; text-decoration-color: #7f7f7f\">11</span></a>\n",
       "</pre>\n"
      ],
      "text/plain": [
       "\u001b[2;36m[04/02/23 05:22:14]\u001b[0m\u001b[2;36m \u001b[0m\u001b[34mINFO    \u001b[0m cost\u001b[1m[\u001b[0m\u001b[1;36m2\u001b[0m\u001b[1m]\u001b[0m=\u001b[1;36m303559.65\u001b[0m                                                      \u001b]8;id=430565;file:///tmp/ipykernel_27427/481419406.py\u001b\\\u001b[2m481419406.py\u001b[0m\u001b]8;;\u001b\\\u001b[2m:\u001b[0m\u001b]8;id=383717;file:///tmp/ipykernel_27427/481419406.py#11\u001b\\\u001b[2m11\u001b[0m\u001b]8;;\u001b\\\n"
      ]
     },
     "metadata": {},
     "output_type": "display_data"
    },
    {
     "data": {
      "text/html": [
       "<pre style=\"white-space:pre;overflow-x:auto;line-height:normal;font-family:Menlo,'DejaVu Sans Mono',consolas,'Courier New',monospace\"><span style=\"color: #7fbfbf; text-decoration-color: #7fbfbf\">                    </span><span style=\"color: #000080; text-decoration-color: #000080\">INFO    </span> Performing clustering for <span style=\"color: #808000; text-decoration-color: #808000\">n</span>=<span style=\"color: #008080; text-decoration-color: #008080; font-weight: bold\">3</span>                                           <a href=\"file:///tmp/ipykernel_27427/481419406.py\" target=\"_blank\"><span style=\"color: #7f7f7f; text-decoration-color: #7f7f7f\">481419406.py</span></a><span style=\"color: #7f7f7f; text-decoration-color: #7f7f7f\">:</span><a href=\"file:///tmp/ipykernel_27427/481419406.py#9\" target=\"_blank\"><span style=\"color: #7f7f7f; text-decoration-color: #7f7f7f\">9</span></a>\n",
       "</pre>\n"
      ],
      "text/plain": [
       "\u001b[2;36m                   \u001b[0m\u001b[2;36m \u001b[0m\u001b[34mINFO    \u001b[0m Performing clustering for \u001b[33mn\u001b[0m=\u001b[1;36m3\u001b[0m                                           \u001b]8;id=806258;file:///tmp/ipykernel_27427/481419406.py\u001b\\\u001b[2m481419406.py\u001b[0m\u001b]8;;\u001b\\\u001b[2m:\u001b[0m\u001b]8;id=174346;file:///tmp/ipykernel_27427/481419406.py#9\u001b\\\u001b[2m9\u001b[0m\u001b]8;;\u001b\\\n"
      ]
     },
     "metadata": {},
     "output_type": "display_data"
    },
    {
     "data": {
      "text/html": [
       "<pre style=\"white-space:pre;overflow-x:auto;line-height:normal;font-family:Menlo,'DejaVu Sans Mono',consolas,'Courier New',monospace\"><span style=\"color: #7fbfbf; text-decoration-color: #7fbfbf\">[04/02/23 05:24:00] </span><span style=\"color: #000080; text-decoration-color: #000080\">INFO    </span> cost<span style=\"font-weight: bold\">[</span><span style=\"color: #008080; text-decoration-color: #008080; font-weight: bold\">3</span><span style=\"font-weight: bold\">]</span>=<span style=\"color: #008080; text-decoration-color: #008080; font-weight: bold\">276764.66</span>                                                      <a href=\"file:///tmp/ipykernel_27427/481419406.py\" target=\"_blank\"><span style=\"color: #7f7f7f; text-decoration-color: #7f7f7f\">481419406.py</span></a><span style=\"color: #7f7f7f; text-decoration-color: #7f7f7f\">:</span><a href=\"file:///tmp/ipykernel_27427/481419406.py#11\" target=\"_blank\"><span style=\"color: #7f7f7f; text-decoration-color: #7f7f7f\">11</span></a>\n",
       "</pre>\n"
      ],
      "text/plain": [
       "\u001b[2;36m[04/02/23 05:24:00]\u001b[0m\u001b[2;36m \u001b[0m\u001b[34mINFO    \u001b[0m cost\u001b[1m[\u001b[0m\u001b[1;36m3\u001b[0m\u001b[1m]\u001b[0m=\u001b[1;36m276764.66\u001b[0m                                                      \u001b]8;id=259017;file:///tmp/ipykernel_27427/481419406.py\u001b\\\u001b[2m481419406.py\u001b[0m\u001b]8;;\u001b\\\u001b[2m:\u001b[0m\u001b]8;id=339343;file:///tmp/ipykernel_27427/481419406.py#11\u001b\\\u001b[2m11\u001b[0m\u001b]8;;\u001b\\\n"
      ]
     },
     "metadata": {},
     "output_type": "display_data"
    },
    {
     "data": {
      "text/html": [
       "<pre style=\"white-space:pre;overflow-x:auto;line-height:normal;font-family:Menlo,'DejaVu Sans Mono',consolas,'Courier New',monospace\"><span style=\"color: #7fbfbf; text-decoration-color: #7fbfbf\">                    </span><span style=\"color: #000080; text-decoration-color: #000080\">INFO    </span> Performing clustering for <span style=\"color: #808000; text-decoration-color: #808000\">n</span>=<span style=\"color: #008080; text-decoration-color: #008080; font-weight: bold\">4</span>                                           <a href=\"file:///tmp/ipykernel_27427/481419406.py\" target=\"_blank\"><span style=\"color: #7f7f7f; text-decoration-color: #7f7f7f\">481419406.py</span></a><span style=\"color: #7f7f7f; text-decoration-color: #7f7f7f\">:</span><a href=\"file:///tmp/ipykernel_27427/481419406.py#9\" target=\"_blank\"><span style=\"color: #7f7f7f; text-decoration-color: #7f7f7f\">9</span></a>\n",
       "</pre>\n"
      ],
      "text/plain": [
       "\u001b[2;36m                   \u001b[0m\u001b[2;36m \u001b[0m\u001b[34mINFO    \u001b[0m Performing clustering for \u001b[33mn\u001b[0m=\u001b[1;36m4\u001b[0m                                           \u001b]8;id=132199;file:///tmp/ipykernel_27427/481419406.py\u001b\\\u001b[2m481419406.py\u001b[0m\u001b]8;;\u001b\\\u001b[2m:\u001b[0m\u001b]8;id=473552;file:///tmp/ipykernel_27427/481419406.py#9\u001b\\\u001b[2m9\u001b[0m\u001b]8;;\u001b\\\n"
      ]
     },
     "metadata": {},
     "output_type": "display_data"
    },
    {
     "data": {
      "text/html": [
       "<pre style=\"white-space:pre;overflow-x:auto;line-height:normal;font-family:Menlo,'DejaVu Sans Mono',consolas,'Courier New',monospace\"><span style=\"color: #7fbfbf; text-decoration-color: #7fbfbf\">[04/02/23 05:26:03] </span><span style=\"color: #000080; text-decoration-color: #000080\">INFO    </span> cost<span style=\"font-weight: bold\">[</span><span style=\"color: #008080; text-decoration-color: #008080; font-weight: bold\">4</span><span style=\"font-weight: bold\">]</span>=<span style=\"color: #008080; text-decoration-color: #008080; font-weight: bold\">239896.91</span>                                                      <a href=\"file:///tmp/ipykernel_27427/481419406.py\" target=\"_blank\"><span style=\"color: #7f7f7f; text-decoration-color: #7f7f7f\">481419406.py</span></a><span style=\"color: #7f7f7f; text-decoration-color: #7f7f7f\">:</span><a href=\"file:///tmp/ipykernel_27427/481419406.py#11\" target=\"_blank\"><span style=\"color: #7f7f7f; text-decoration-color: #7f7f7f\">11</span></a>\n",
       "</pre>\n"
      ],
      "text/plain": [
       "\u001b[2;36m[04/02/23 05:26:03]\u001b[0m\u001b[2;36m \u001b[0m\u001b[34mINFO    \u001b[0m cost\u001b[1m[\u001b[0m\u001b[1;36m4\u001b[0m\u001b[1m]\u001b[0m=\u001b[1;36m239896.91\u001b[0m                                                      \u001b]8;id=869024;file:///tmp/ipykernel_27427/481419406.py\u001b\\\u001b[2m481419406.py\u001b[0m\u001b]8;;\u001b\\\u001b[2m:\u001b[0m\u001b]8;id=438675;file:///tmp/ipykernel_27427/481419406.py#11\u001b\\\u001b[2m11\u001b[0m\u001b]8;;\u001b\\\n"
      ]
     },
     "metadata": {},
     "output_type": "display_data"
    },
    {
     "data": {
      "text/html": [
       "<pre style=\"white-space:pre;overflow-x:auto;line-height:normal;font-family:Menlo,'DejaVu Sans Mono',consolas,'Courier New',monospace\"><span style=\"color: #7fbfbf; text-decoration-color: #7fbfbf\">                    </span><span style=\"color: #000080; text-decoration-color: #000080\">INFO    </span> Performing clustering for <span style=\"color: #808000; text-decoration-color: #808000\">n</span>=<span style=\"color: #008080; text-decoration-color: #008080; font-weight: bold\">5</span>                                           <a href=\"file:///tmp/ipykernel_27427/481419406.py\" target=\"_blank\"><span style=\"color: #7f7f7f; text-decoration-color: #7f7f7f\">481419406.py</span></a><span style=\"color: #7f7f7f; text-decoration-color: #7f7f7f\">:</span><a href=\"file:///tmp/ipykernel_27427/481419406.py#9\" target=\"_blank\"><span style=\"color: #7f7f7f; text-decoration-color: #7f7f7f\">9</span></a>\n",
       "</pre>\n"
      ],
      "text/plain": [
       "\u001b[2;36m                   \u001b[0m\u001b[2;36m \u001b[0m\u001b[34mINFO    \u001b[0m Performing clustering for \u001b[33mn\u001b[0m=\u001b[1;36m5\u001b[0m                                           \u001b]8;id=293759;file:///tmp/ipykernel_27427/481419406.py\u001b\\\u001b[2m481419406.py\u001b[0m\u001b]8;;\u001b\\\u001b[2m:\u001b[0m\u001b]8;id=725671;file:///tmp/ipykernel_27427/481419406.py#9\u001b\\\u001b[2m9\u001b[0m\u001b]8;;\u001b\\\n"
      ]
     },
     "metadata": {},
     "output_type": "display_data"
    },
    {
     "data": {
      "text/html": [
       "<pre style=\"white-space:pre;overflow-x:auto;line-height:normal;font-family:Menlo,'DejaVu Sans Mono',consolas,'Courier New',monospace\"><span style=\"color: #7fbfbf; text-decoration-color: #7fbfbf\">[04/02/23 05:27:57] </span><span style=\"color: #000080; text-decoration-color: #000080\">INFO    </span> cost<span style=\"font-weight: bold\">[</span><span style=\"color: #008080; text-decoration-color: #008080; font-weight: bold\">5</span><span style=\"font-weight: bold\">]</span>=<span style=\"color: #008080; text-decoration-color: #008080; font-weight: bold\">215931.95</span>                                                      <a href=\"file:///tmp/ipykernel_27427/481419406.py\" target=\"_blank\"><span style=\"color: #7f7f7f; text-decoration-color: #7f7f7f\">481419406.py</span></a><span style=\"color: #7f7f7f; text-decoration-color: #7f7f7f\">:</span><a href=\"file:///tmp/ipykernel_27427/481419406.py#11\" target=\"_blank\"><span style=\"color: #7f7f7f; text-decoration-color: #7f7f7f\">11</span></a>\n",
       "</pre>\n"
      ],
      "text/plain": [
       "\u001b[2;36m[04/02/23 05:27:57]\u001b[0m\u001b[2;36m \u001b[0m\u001b[34mINFO    \u001b[0m cost\u001b[1m[\u001b[0m\u001b[1;36m5\u001b[0m\u001b[1m]\u001b[0m=\u001b[1;36m215931.95\u001b[0m                                                      \u001b]8;id=557974;file:///tmp/ipykernel_27427/481419406.py\u001b\\\u001b[2m481419406.py\u001b[0m\u001b]8;;\u001b\\\u001b[2m:\u001b[0m\u001b]8;id=485704;file:///tmp/ipykernel_27427/481419406.py#11\u001b\\\u001b[2m11\u001b[0m\u001b]8;;\u001b\\\n"
      ]
     },
     "metadata": {},
     "output_type": "display_data"
    },
    {
     "data": {
      "text/html": [
       "<pre style=\"white-space:pre;overflow-x:auto;line-height:normal;font-family:Menlo,'DejaVu Sans Mono',consolas,'Courier New',monospace\"><span style=\"color: #7fbfbf; text-decoration-color: #7fbfbf\">                    </span><span style=\"color: #000080; text-decoration-color: #000080\">INFO    </span> Performing clustering for <span style=\"color: #808000; text-decoration-color: #808000\">n</span>=<span style=\"color: #008080; text-decoration-color: #008080; font-weight: bold\">6</span>                                           <a href=\"file:///tmp/ipykernel_27427/481419406.py\" target=\"_blank\"><span style=\"color: #7f7f7f; text-decoration-color: #7f7f7f\">481419406.py</span></a><span style=\"color: #7f7f7f; text-decoration-color: #7f7f7f\">:</span><a href=\"file:///tmp/ipykernel_27427/481419406.py#9\" target=\"_blank\"><span style=\"color: #7f7f7f; text-decoration-color: #7f7f7f\">9</span></a>\n",
       "</pre>\n"
      ],
      "text/plain": [
       "\u001b[2;36m                   \u001b[0m\u001b[2;36m \u001b[0m\u001b[34mINFO    \u001b[0m Performing clustering for \u001b[33mn\u001b[0m=\u001b[1;36m6\u001b[0m                                           \u001b]8;id=434632;file:///tmp/ipykernel_27427/481419406.py\u001b\\\u001b[2m481419406.py\u001b[0m\u001b]8;;\u001b\\\u001b[2m:\u001b[0m\u001b]8;id=113169;file:///tmp/ipykernel_27427/481419406.py#9\u001b\\\u001b[2m9\u001b[0m\u001b]8;;\u001b\\\n"
      ]
     },
     "metadata": {},
     "output_type": "display_data"
    },
    {
     "data": {
      "text/html": [
       "<pre style=\"white-space:pre;overflow-x:auto;line-height:normal;font-family:Menlo,'DejaVu Sans Mono',consolas,'Courier New',monospace\"><span style=\"color: #7fbfbf; text-decoration-color: #7fbfbf\">[04/02/23 05:30:22] </span><span style=\"color: #000080; text-decoration-color: #000080\">INFO    </span> cost<span style=\"font-weight: bold\">[</span><span style=\"color: #008080; text-decoration-color: #008080; font-weight: bold\">6</span><span style=\"font-weight: bold\">]</span>=<span style=\"color: #008080; text-decoration-color: #008080; font-weight: bold\">202956.78</span>                                                      <a href=\"file:///tmp/ipykernel_27427/481419406.py\" target=\"_blank\"><span style=\"color: #7f7f7f; text-decoration-color: #7f7f7f\">481419406.py</span></a><span style=\"color: #7f7f7f; text-decoration-color: #7f7f7f\">:</span><a href=\"file:///tmp/ipykernel_27427/481419406.py#11\" target=\"_blank\"><span style=\"color: #7f7f7f; text-decoration-color: #7f7f7f\">11</span></a>\n",
       "</pre>\n"
      ],
      "text/plain": [
       "\u001b[2;36m[04/02/23 05:30:22]\u001b[0m\u001b[2;36m \u001b[0m\u001b[34mINFO    \u001b[0m cost\u001b[1m[\u001b[0m\u001b[1;36m6\u001b[0m\u001b[1m]\u001b[0m=\u001b[1;36m202956.78\u001b[0m                                                      \u001b]8;id=733002;file:///tmp/ipykernel_27427/481419406.py\u001b\\\u001b[2m481419406.py\u001b[0m\u001b]8;;\u001b\\\u001b[2m:\u001b[0m\u001b]8;id=798754;file:///tmp/ipykernel_27427/481419406.py#11\u001b\\\u001b[2m11\u001b[0m\u001b]8;;\u001b\\\n"
      ]
     },
     "metadata": {},
     "output_type": "display_data"
    },
    {
     "data": {
      "text/html": [
       "<pre style=\"white-space:pre;overflow-x:auto;line-height:normal;font-family:Menlo,'DejaVu Sans Mono',consolas,'Courier New',monospace\"><span style=\"color: #7fbfbf; text-decoration-color: #7fbfbf\">                    </span><span style=\"color: #000080; text-decoration-color: #000080\">INFO    </span> Performing clustering for <span style=\"color: #808000; text-decoration-color: #808000\">n</span>=<span style=\"color: #008080; text-decoration-color: #008080; font-weight: bold\">7</span>                                           <a href=\"file:///tmp/ipykernel_27427/481419406.py\" target=\"_blank\"><span style=\"color: #7f7f7f; text-decoration-color: #7f7f7f\">481419406.py</span></a><span style=\"color: #7f7f7f; text-decoration-color: #7f7f7f\">:</span><a href=\"file:///tmp/ipykernel_27427/481419406.py#9\" target=\"_blank\"><span style=\"color: #7f7f7f; text-decoration-color: #7f7f7f\">9</span></a>\n",
       "</pre>\n"
      ],
      "text/plain": [
       "\u001b[2;36m                   \u001b[0m\u001b[2;36m \u001b[0m\u001b[34mINFO    \u001b[0m Performing clustering for \u001b[33mn\u001b[0m=\u001b[1;36m7\u001b[0m                                           \u001b]8;id=799036;file:///tmp/ipykernel_27427/481419406.py\u001b\\\u001b[2m481419406.py\u001b[0m\u001b]8;;\u001b\\\u001b[2m:\u001b[0m\u001b]8;id=964732;file:///tmp/ipykernel_27427/481419406.py#9\u001b\\\u001b[2m9\u001b[0m\u001b]8;;\u001b\\\n"
      ]
     },
     "metadata": {},
     "output_type": "display_data"
    },
    {
     "data": {
      "text/html": [
       "<pre style=\"white-space:pre;overflow-x:auto;line-height:normal;font-family:Menlo,'DejaVu Sans Mono',consolas,'Courier New',monospace\"><span style=\"color: #7fbfbf; text-decoration-color: #7fbfbf\">[04/02/23 05:32:35] </span><span style=\"color: #000080; text-decoration-color: #000080\">INFO    </span> cost<span style=\"font-weight: bold\">[</span><span style=\"color: #008080; text-decoration-color: #008080; font-weight: bold\">7</span><span style=\"font-weight: bold\">]</span>=<span style=\"color: #008080; text-decoration-color: #008080; font-weight: bold\">178366.45</span>                                                      <a href=\"file:///tmp/ipykernel_27427/481419406.py\" target=\"_blank\"><span style=\"color: #7f7f7f; text-decoration-color: #7f7f7f\">481419406.py</span></a><span style=\"color: #7f7f7f; text-decoration-color: #7f7f7f\">:</span><a href=\"file:///tmp/ipykernel_27427/481419406.py#11\" target=\"_blank\"><span style=\"color: #7f7f7f; text-decoration-color: #7f7f7f\">11</span></a>\n",
       "</pre>\n"
      ],
      "text/plain": [
       "\u001b[2;36m[04/02/23 05:32:35]\u001b[0m\u001b[2;36m \u001b[0m\u001b[34mINFO    \u001b[0m cost\u001b[1m[\u001b[0m\u001b[1;36m7\u001b[0m\u001b[1m]\u001b[0m=\u001b[1;36m178366.45\u001b[0m                                                      \u001b]8;id=872639;file:///tmp/ipykernel_27427/481419406.py\u001b\\\u001b[2m481419406.py\u001b[0m\u001b]8;;\u001b\\\u001b[2m:\u001b[0m\u001b]8;id=333384;file:///tmp/ipykernel_27427/481419406.py#11\u001b\\\u001b[2m11\u001b[0m\u001b]8;;\u001b\\\n"
      ]
     },
     "metadata": {},
     "output_type": "display_data"
    },
    {
     "data": {
      "text/html": [
       "<pre style=\"white-space:pre;overflow-x:auto;line-height:normal;font-family:Menlo,'DejaVu Sans Mono',consolas,'Courier New',monospace\"><span style=\"color: #7fbfbf; text-decoration-color: #7fbfbf\">                    </span><span style=\"color: #000080; text-decoration-color: #000080\">INFO    </span> Performing clustering for <span style=\"color: #808000; text-decoration-color: #808000\">n</span>=<span style=\"color: #008080; text-decoration-color: #008080; font-weight: bold\">8</span>                                           <a href=\"file:///tmp/ipykernel_27427/481419406.py\" target=\"_blank\"><span style=\"color: #7f7f7f; text-decoration-color: #7f7f7f\">481419406.py</span></a><span style=\"color: #7f7f7f; text-decoration-color: #7f7f7f\">:</span><a href=\"file:///tmp/ipykernel_27427/481419406.py#9\" target=\"_blank\"><span style=\"color: #7f7f7f; text-decoration-color: #7f7f7f\">9</span></a>\n",
       "</pre>\n"
      ],
      "text/plain": [
       "\u001b[2;36m                   \u001b[0m\u001b[2;36m \u001b[0m\u001b[34mINFO    \u001b[0m Performing clustering for \u001b[33mn\u001b[0m=\u001b[1;36m8\u001b[0m                                           \u001b]8;id=47825;file:///tmp/ipykernel_27427/481419406.py\u001b\\\u001b[2m481419406.py\u001b[0m\u001b]8;;\u001b\\\u001b[2m:\u001b[0m\u001b]8;id=847889;file:///tmp/ipykernel_27427/481419406.py#9\u001b\\\u001b[2m9\u001b[0m\u001b]8;;\u001b\\\n"
      ]
     },
     "metadata": {},
     "output_type": "display_data"
    },
    {
     "data": {
      "text/html": [
       "<pre style=\"white-space:pre;overflow-x:auto;line-height:normal;font-family:Menlo,'DejaVu Sans Mono',consolas,'Courier New',monospace\"><span style=\"color: #7fbfbf; text-decoration-color: #7fbfbf\">[04/02/23 05:36:00] </span><span style=\"color: #000080; text-decoration-color: #000080\">INFO    </span> cost<span style=\"font-weight: bold\">[</span><span style=\"color: #008080; text-decoration-color: #008080; font-weight: bold\">8</span><span style=\"font-weight: bold\">]</span>=<span style=\"color: #008080; text-decoration-color: #008080; font-weight: bold\">146925.52</span>                                                      <a href=\"file:///tmp/ipykernel_27427/481419406.py\" target=\"_blank\"><span style=\"color: #7f7f7f; text-decoration-color: #7f7f7f\">481419406.py</span></a><span style=\"color: #7f7f7f; text-decoration-color: #7f7f7f\">:</span><a href=\"file:///tmp/ipykernel_27427/481419406.py#11\" target=\"_blank\"><span style=\"color: #7f7f7f; text-decoration-color: #7f7f7f\">11</span></a>\n",
       "</pre>\n"
      ],
      "text/plain": [
       "\u001b[2;36m[04/02/23 05:36:00]\u001b[0m\u001b[2;36m \u001b[0m\u001b[34mINFO    \u001b[0m cost\u001b[1m[\u001b[0m\u001b[1;36m8\u001b[0m\u001b[1m]\u001b[0m=\u001b[1;36m146925.52\u001b[0m                                                      \u001b]8;id=290555;file:///tmp/ipykernel_27427/481419406.py\u001b\\\u001b[2m481419406.py\u001b[0m\u001b]8;;\u001b\\\u001b[2m:\u001b[0m\u001b]8;id=689833;file:///tmp/ipykernel_27427/481419406.py#11\u001b\\\u001b[2m11\u001b[0m\u001b]8;;\u001b\\\n"
      ]
     },
     "metadata": {},
     "output_type": "display_data"
    },
    {
     "data": {
      "text/html": [
       "<pre style=\"white-space:pre;overflow-x:auto;line-height:normal;font-family:Menlo,'DejaVu Sans Mono',consolas,'Courier New',monospace\"><span style=\"color: #7fbfbf; text-decoration-color: #7fbfbf\">                    </span><span style=\"color: #000080; text-decoration-color: #000080\">INFO    </span> Performing clustering for <span style=\"color: #808000; text-decoration-color: #808000\">n</span>=<span style=\"color: #008080; text-decoration-color: #008080; font-weight: bold\">9</span>                                           <a href=\"file:///tmp/ipykernel_27427/481419406.py\" target=\"_blank\"><span style=\"color: #7f7f7f; text-decoration-color: #7f7f7f\">481419406.py</span></a><span style=\"color: #7f7f7f; text-decoration-color: #7f7f7f\">:</span><a href=\"file:///tmp/ipykernel_27427/481419406.py#9\" target=\"_blank\"><span style=\"color: #7f7f7f; text-decoration-color: #7f7f7f\">9</span></a>\n",
       "</pre>\n"
      ],
      "text/plain": [
       "\u001b[2;36m                   \u001b[0m\u001b[2;36m \u001b[0m\u001b[34mINFO    \u001b[0m Performing clustering for \u001b[33mn\u001b[0m=\u001b[1;36m9\u001b[0m                                           \u001b]8;id=241174;file:///tmp/ipykernel_27427/481419406.py\u001b\\\u001b[2m481419406.py\u001b[0m\u001b]8;;\u001b\\\u001b[2m:\u001b[0m\u001b]8;id=247990;file:///tmp/ipykernel_27427/481419406.py#9\u001b\\\u001b[2m9\u001b[0m\u001b]8;;\u001b\\\n"
      ]
     },
     "metadata": {},
     "output_type": "display_data"
    },
    {
     "data": {
      "text/html": [
       "<pre style=\"white-space:pre;overflow-x:auto;line-height:normal;font-family:Menlo,'DejaVu Sans Mono',consolas,'Courier New',monospace\"><span style=\"color: #7fbfbf; text-decoration-color: #7fbfbf\">[04/02/23 05:40:36] </span><span style=\"color: #000080; text-decoration-color: #000080\">INFO    </span> cost<span style=\"font-weight: bold\">[</span><span style=\"color: #008080; text-decoration-color: #008080; font-weight: bold\">9</span><span style=\"font-weight: bold\">]</span>=<span style=\"color: #008080; text-decoration-color: #008080; font-weight: bold\">139109.02</span>                                                      <a href=\"file:///tmp/ipykernel_27427/481419406.py\" target=\"_blank\"><span style=\"color: #7f7f7f; text-decoration-color: #7f7f7f\">481419406.py</span></a><span style=\"color: #7f7f7f; text-decoration-color: #7f7f7f\">:</span><a href=\"file:///tmp/ipykernel_27427/481419406.py#11\" target=\"_blank\"><span style=\"color: #7f7f7f; text-decoration-color: #7f7f7f\">11</span></a>\n",
       "</pre>\n"
      ],
      "text/plain": [
       "\u001b[2;36m[04/02/23 05:40:36]\u001b[0m\u001b[2;36m \u001b[0m\u001b[34mINFO    \u001b[0m cost\u001b[1m[\u001b[0m\u001b[1;36m9\u001b[0m\u001b[1m]\u001b[0m=\u001b[1;36m139109.02\u001b[0m                                                      \u001b]8;id=300408;file:///tmp/ipykernel_27427/481419406.py\u001b\\\u001b[2m481419406.py\u001b[0m\u001b]8;;\u001b\\\u001b[2m:\u001b[0m\u001b]8;id=87799;file:///tmp/ipykernel_27427/481419406.py#11\u001b\\\u001b[2m11\u001b[0m\u001b]8;;\u001b\\\n"
      ]
     },
     "metadata": {},
     "output_type": "display_data"
    },
    {
     "data": {
      "text/html": [
       "<pre style=\"white-space:pre;overflow-x:auto;line-height:normal;font-family:Menlo,'DejaVu Sans Mono',consolas,'Courier New',monospace\"><span style=\"color: #7fbfbf; text-decoration-color: #7fbfbf\">                    </span><span style=\"color: #000080; text-decoration-color: #000080\">INFO    </span> Performing clustering for <span style=\"color: #808000; text-decoration-color: #808000\">n</span>=<span style=\"color: #008080; text-decoration-color: #008080; font-weight: bold\">10</span>                                          <a href=\"file:///tmp/ipykernel_27427/481419406.py\" target=\"_blank\"><span style=\"color: #7f7f7f; text-decoration-color: #7f7f7f\">481419406.py</span></a><span style=\"color: #7f7f7f; text-decoration-color: #7f7f7f\">:</span><a href=\"file:///tmp/ipykernel_27427/481419406.py#9\" target=\"_blank\"><span style=\"color: #7f7f7f; text-decoration-color: #7f7f7f\">9</span></a>\n",
       "</pre>\n"
      ],
      "text/plain": [
       "\u001b[2;36m                   \u001b[0m\u001b[2;36m \u001b[0m\u001b[34mINFO    \u001b[0m Performing clustering for \u001b[33mn\u001b[0m=\u001b[1;36m10\u001b[0m                                          \u001b]8;id=617747;file:///tmp/ipykernel_27427/481419406.py\u001b\\\u001b[2m481419406.py\u001b[0m\u001b]8;;\u001b\\\u001b[2m:\u001b[0m\u001b]8;id=101669;file:///tmp/ipykernel_27427/481419406.py#9\u001b\\\u001b[2m9\u001b[0m\u001b]8;;\u001b\\\n"
      ]
     },
     "metadata": {},
     "output_type": "display_data"
    },
    {
     "data": {
      "text/html": [
       "<pre style=\"white-space:pre;overflow-x:auto;line-height:normal;font-family:Menlo,'DejaVu Sans Mono',consolas,'Courier New',monospace\"><span style=\"color: #7fbfbf; text-decoration-color: #7fbfbf\">[04/02/23 05:43:54] </span><span style=\"color: #000080; text-decoration-color: #000080\">INFO    </span> cost<span style=\"font-weight: bold\">[</span><span style=\"color: #008080; text-decoration-color: #008080; font-weight: bold\">10</span><span style=\"font-weight: bold\">]</span>=<span style=\"color: #008080; text-decoration-color: #008080; font-weight: bold\">132528.68</span>                                                     <a href=\"file:///tmp/ipykernel_27427/481419406.py\" target=\"_blank\"><span style=\"color: #7f7f7f; text-decoration-color: #7f7f7f\">481419406.py</span></a><span style=\"color: #7f7f7f; text-decoration-color: #7f7f7f\">:</span><a href=\"file:///tmp/ipykernel_27427/481419406.py#11\" target=\"_blank\"><span style=\"color: #7f7f7f; text-decoration-color: #7f7f7f\">11</span></a>\n",
       "</pre>\n"
      ],
      "text/plain": [
       "\u001b[2;36m[04/02/23 05:43:54]\u001b[0m\u001b[2;36m \u001b[0m\u001b[34mINFO    \u001b[0m cost\u001b[1m[\u001b[0m\u001b[1;36m10\u001b[0m\u001b[1m]\u001b[0m=\u001b[1;36m132528.68\u001b[0m                                                     \u001b]8;id=538448;file:///tmp/ipykernel_27427/481419406.py\u001b\\\u001b[2m481419406.py\u001b[0m\u001b]8;;\u001b\\\u001b[2m:\u001b[0m\u001b]8;id=419676;file:///tmp/ipykernel_27427/481419406.py#11\u001b\\\u001b[2m11\u001b[0m\u001b]8;;\u001b\\\n"
      ]
     },
     "metadata": {},
     "output_type": "display_data"
    },
    {
     "data": {
      "text/html": [
       "<pre style=\"white-space:pre;overflow-x:auto;line-height:normal;font-family:Menlo,'DejaVu Sans Mono',consolas,'Courier New',monospace\"><span style=\"color: #7fbfbf; text-decoration-color: #7fbfbf\">                    </span><span style=\"color: #000080; text-decoration-color: #000080\">INFO    </span> Performing clustering for <span style=\"color: #808000; text-decoration-color: #808000\">n</span>=<span style=\"color: #008080; text-decoration-color: #008080; font-weight: bold\">11</span>                                          <a href=\"file:///tmp/ipykernel_27427/481419406.py\" target=\"_blank\"><span style=\"color: #7f7f7f; text-decoration-color: #7f7f7f\">481419406.py</span></a><span style=\"color: #7f7f7f; text-decoration-color: #7f7f7f\">:</span><a href=\"file:///tmp/ipykernel_27427/481419406.py#9\" target=\"_blank\"><span style=\"color: #7f7f7f; text-decoration-color: #7f7f7f\">9</span></a>\n",
       "</pre>\n"
      ],
      "text/plain": [
       "\u001b[2;36m                   \u001b[0m\u001b[2;36m \u001b[0m\u001b[34mINFO    \u001b[0m Performing clustering for \u001b[33mn\u001b[0m=\u001b[1;36m11\u001b[0m                                          \u001b]8;id=691576;file:///tmp/ipykernel_27427/481419406.py\u001b\\\u001b[2m481419406.py\u001b[0m\u001b]8;;\u001b\\\u001b[2m:\u001b[0m\u001b]8;id=723334;file:///tmp/ipykernel_27427/481419406.py#9\u001b\\\u001b[2m9\u001b[0m\u001b]8;;\u001b\\\n"
      ]
     },
     "metadata": {},
     "output_type": "display_data"
    }
   ],
   "source": [
    "cost = [cluster(i).cost_ for i in range(1, 41)]\n",
    "cost"
   ]
  },
  {
   "cell_type": "code",
   "execution_count": null,
   "metadata": {},
   "outputs": [],
   "source": [
    "cost"
   ]
  },
  {
   "cell_type": "code",
   "execution_count": null,
   "metadata": {},
   "outputs": [],
   "source": [
    "# Converting the results into a dataframe and plotting them\n",
    "df_cost = pd.DataFrame({'Cluster':range(1, 41), 'Cost':cost})\n",
    "sb.relplot(data=df_cost, x='Cluster', y='Cost', markers=True, kind='line', aspect=1.5)"
   ]
  },
  {
   "cell_type": "code",
   "execution_count": null,
   "metadata": {},
   "outputs": [],
   "source": []
  }
 ],
 "metadata": {
  "kernelspec": {
   "display_name": "Kedro (usg)",
   "language": "python",
   "name": "kedro_usg"
  },
  "language_info": {
   "codemirror_mode": {
    "name": "ipython",
    "version": 3
   },
   "file_extension": ".py",
   "mimetype": "text/x-python",
   "name": "python",
   "nbconvert_exporter": "python",
   "pygments_lexer": "ipython3",
   "version": "3.8.10"
  },
  "orig_nbformat": 4
 },
 "nbformat": 4,
 "nbformat_minor": 2
}
